{
 "cells": [
  {
   "cell_type": "code",
   "execution_count": 1,
   "metadata": {},
   "outputs": [],
   "source": [
    "import numpy as np\n",
    "import pandas as pd\n",
    "from datetime import datetime, timedelta\n",
    "from scipy import stats\n",
    "#import matplotlib as plt\n",
    "%matplotlib inline"
   ]
  },
  {
   "cell_type": "code",
   "execution_count": 2,
   "metadata": {},
   "outputs": [
    {
     "data": {
      "text/html": [
       "<script type=\"text/javascript\">window.PlotlyConfig = {MathJaxConfig: 'local'};</script><script type=\"text/javascript\">if (window.MathJax) {MathJax.Hub.Config({SVG: {font: \"STIX-Web\"}});}</script><script>requirejs.config({paths: { 'plotly': ['https://cdn.plot.ly/plotly-latest.min']},});if(!window._Plotly) {require(['plotly'],function(plotly) {window._Plotly=plotly;});}</script>"
      ],
      "text/vnd.plotly.v1+html": [
       "<script type=\"text/javascript\">window.PlotlyConfig = {MathJaxConfig: 'local'};</script><script type=\"text/javascript\">if (window.MathJax) {MathJax.Hub.Config({SVG: {font: \"STIX-Web\"}});}</script><script>requirejs.config({paths: { 'plotly': ['https://cdn.plot.ly/plotly-latest.min']},});if(!window._Plotly) {require(['plotly'],function(plotly) {window._Plotly=plotly;});}</script>"
      ]
     },
     "metadata": {},
     "output_type": "display_data"
    }
   ],
   "source": [
    "from plotly.offline import init_notebook_mode, iplot\n",
    "init_notebook_mode(connected=True)\n",
    "import plotly.graph_objs as go\n",
    "from plotly import tools"
   ]
  },
  {
   "cell_type": "code",
   "execution_count": 3,
   "metadata": {},
   "outputs": [],
   "source": [
    "pd.set_option('display.max_columns', 50)"
   ]
  },
  {
   "cell_type": "code",
   "execution_count": 4,
   "metadata": {},
   "outputs": [],
   "source": [
    "data=pd.read_csv('ACLED_data_India.csv')"
   ]
  },
  {
   "cell_type": "code",
   "execution_count": 5,
   "metadata": {},
   "outputs": [],
   "source": [
    "# load codes description data\n",
    "inter_codes=pd.read_csv('Inter_codes.csv')\n",
    "geo_precision_codes=pd.read_csv('geo_precision_code.csv')\n",
    "time_precision_codes=pd.read_csv('time_precision_code.csv')"
   ]
  },
  {
   "cell_type": "code",
   "execution_count": 6,
   "metadata": {},
   "outputs": [],
   "source": [
    "# Data cleaning: 1. drop non-important features\n",
    "#                2. fix null values\n",
    "#                3. for columns source and source scale split the combined strings                    \n",
    "#                3. process source, source_scale, actors, date features to create new features"
   ]
  },
  {
   "cell_type": "code",
   "execution_count": 7,
   "metadata": {},
   "outputs": [],
   "source": [
    "# Count unique values for every column\n",
    "unique_count=pd.Series()\n",
    "for column in data.columns:\n",
    "    unique_count[column]=data[column].unique().size\n",
    "# drop columns with unique value 1\n",
    "for column in unique_count.index:\n",
    "    if unique_count[column]==1:\n",
    "        data.drop(columns=column,inplace=True)\n",
    "# drop other non-relevent features\n",
    "features_to_drop=['country','data_id','event_id_no_cnty','timestamp','year','interaction']\n",
    "Data1=data.drop(columns=features_to_drop)\n",
    "Data1['event_date_formatted']=pd.to_datetime(Data1['event_date'])\n",
    "Data1.drop(columns='event_date',inplace=True)"
   ]
  },
  {
   "cell_type": "code",
   "execution_count": 8,
   "metadata": {},
   "outputs": [
    {
     "data": {
      "text/plain": [
       "Index(['event_id_cnty', 'time_precision', 'event_type', 'actor1',\n",
       "       'assoc_actor_1', 'inter1', 'actor2', 'assoc_actor_2', 'inter2',\n",
       "       'admin1', 'admin2', 'admin3', 'location', 'latitude', 'longitude',\n",
       "       'geo_precision', 'source', 'source_scale', 'notes', 'fatalities',\n",
       "       'event_date_formatted'],\n",
       "      dtype='object')"
      ]
     },
     "execution_count": 8,
     "metadata": {},
     "output_type": "execute_result"
    }
   ],
   "source": [
    "Data1.columns"
   ]
  },
  {
   "cell_type": "code",
   "execution_count": 9,
   "metadata": {},
   "outputs": [
    {
     "data": {
      "text/plain": [
       "National                     23839\n",
       "Subnational                  18882\n",
       "Regional                       892\n",
       "Subnational-National           345\n",
       "National-Regional               88\n",
       "International                   81\n",
       "Other                           80\n",
       "Subnational-Regional            79\n",
       "Subnational-Other                4\n",
       "Subnational-International        3\n",
       "National-International           2\n",
       "Subnational- National            1\n",
       "Other-National                   1\n",
       "National-Other                   1\n",
       "Regional-Other                   1\n",
       "National-Subnational             1\n",
       "regional                         1\n",
       "National; National               1\n",
       "Name: source_scale, dtype: int64"
      ]
     },
     "execution_count": 9,
     "metadata": {},
     "output_type": "execute_result"
    }
   ],
   "source": [
    "# Process source and source-scale, actors features\n",
    "Data1.source_scale.value_counts()"
   ]
  },
  {
   "cell_type": "code",
   "execution_count": 10,
   "metadata": {},
   "outputs": [],
   "source": [
    "Data1.replace('regional','Regional',inplace=True) "
   ]
  },
  {
   "cell_type": "code",
   "execution_count": 11,
   "metadata": {},
   "outputs": [],
   "source": [
    "#Need splitting Columns: source_scale \n",
    "SplitNeeded_for_list= ['Subnational-National','National-Regional',\n",
    "'Subnational-Regional','Subnational-Other','Subnational-International',\n",
    "'National-International','National-Other','National-Subnational',\n",
    "'Subnational- National','Regional-Other','Other-National']"
   ]
  },
  {
   "cell_type": "code",
   "execution_count": 12,
   "metadata": {},
   "outputs": [],
   "source": [
    "def Source_Split(datacut):\n",
    "    SourceScaleSplit=pd.DataFrame(datacut.source_scale.str.split(pat=\"-\"))\n",
    "    SourceSplit=pd.DataFrame(datacut.source.str.split(pat=\";\"))\n",
    "    FinalSplit=pd.concat([SourceScaleSplit,SourceSplit],axis=1)\n",
    "    datacut=datacut.drop(columns=['source','source_scale'])\n",
    "    datacut=datacut.join(FinalSplit)\n",
    "    return datacut"
   ]
  },
  {
   "cell_type": "code",
   "execution_count": 13,
   "metadata": {},
   "outputs": [
    {
     "name": "stderr",
     "output_type": "stream",
     "text": [
      "C:\\Miniconda2\\envs\\tensorflow_env\\lib\\site-packages\\pandas\\core\\frame.py:6211: FutureWarning:\n",
      "\n",
      "Sorting because non-concatenation axis is not aligned. A future version\n",
      "of pandas will change to not sort by default.\n",
      "\n",
      "To accept the future behavior, pass 'sort=False'.\n",
      "\n",
      "To retain the current behavior and silence the warning, pass 'sort=True'.\n",
      "\n",
      "\n"
     ]
    }
   ],
   "source": [
    "for SplitNeeded in SplitNeeded_for_list:\n",
    "    datacut=Data1[Data1.source_scale==SplitNeeded]    \n",
    "    Data1.drop(index=datacut.index,inplace=True)\n",
    "    Data1=Data1.append(Source_Split(datacut))"
   ]
  },
  {
   "cell_type": "code",
   "execution_count": 14,
   "metadata": {},
   "outputs": [],
   "source": [
    "Data1.replace(' National','National',inplace=True) "
   ]
  },
  {
   "cell_type": "code",
   "execution_count": 15,
   "metadata": {},
   "outputs": [],
   "source": [
    "datacut=Data1[Data1.source_scale=='National; National']\n",
    "SourceScaleSplit=pd.DataFrame(datacut.source_scale.str.split(pat=\"; \"))\n",
    "SourceSplit=pd.DataFrame(datacut.source.str.split(pat=\";\"))\n",
    "FinalSplit=pd.concat([SourceScaleSplit,SourceSplit],axis=1)\n",
    "datacut=datacut.drop(columns=['source','source_scale'])\n",
    "datacut=datacut.join(FinalSplit)\n",
    "Data1.drop(index=datacut.index,inplace=True)\n",
    "Data1=Data1.append(datacut)"
   ]
  },
  {
   "cell_type": "code",
   "execution_count": 16,
   "metadata": {},
   "outputs": [
    {
     "data": {
      "text/plain": [
       "actor2           31780\n",
       "admin2              11\n",
       "admin3            1594\n",
       "assoc_actor_1    16120\n",
       "assoc_actor_2    40911\n",
       "source_scale        77\n",
       "dtype: int64"
      ]
     },
     "execution_count": 16,
     "metadata": {},
     "output_type": "execute_result"
    }
   ],
   "source": [
    "# Check for null values and fix the columns\n",
    "Null_list=Data1.isnull().sum()\n",
    "Null_list[Null_list>0]"
   ]
  },
  {
   "cell_type": "code",
   "execution_count": 17,
   "metadata": {},
   "outputs": [
    {
     "data": {
      "text/plain": [
       "Telegraph (India)                                           [National]\n",
       "Sangai Express (India)                         [Subnational, National]\n",
       "Times of India                                 [National, Subnational]\n",
       "Asian News International           [Regional, International, National]\n",
       "Chandigarh Tribune                             [Subnational, National]\n",
       "Indian Express                       [National, Subnational, Regional]\n",
       "Pioneer (India)                                [National, Subnational]\n",
       "Hindustan Times (India)                        [National, Subnational]\n",
       "Pioneer (India); Times of India                                     []\n",
       "dtype: object"
      ]
     },
     "execution_count": 17,
     "metadata": {},
     "output_type": "execute_result"
    }
   ],
   "source": [
    "Source_missing_scale=Data1['source'][Data1.source_scale.isnull()].unique()\n",
    "Source_missing_scale_filllist=pd.Series()\n",
    "for source_name in Source_missing_scale:\n",
    "    Source_missing_scale_filllist[source_name]=Data1[Data1['source']==source_name]['source_scale'].dropna().unique()\n",
    "Source_missing_scale_filllist"
   ]
  },
  {
   "cell_type": "code",
   "execution_count": 18,
   "metadata": {},
   "outputs": [
    {
     "name": "stderr",
     "output_type": "stream",
     "text": [
      "C:\\Miniconda2\\envs\\tensorflow_env\\lib\\site-packages\\ipykernel_launcher.py:1: UserWarning:\n",
      "\n",
      "Boolean Series key will be reindexed to match DataFrame index.\n",
      "\n",
      "C:\\Miniconda2\\envs\\tensorflow_env\\lib\\site-packages\\ipykernel_launcher.py:3: UserWarning:\n",
      "\n",
      "Boolean Series key will be reindexed to match DataFrame index.\n",
      "\n",
      "C:\\Miniconda2\\envs\\tensorflow_env\\lib\\site-packages\\ipykernel_launcher.py:5: UserWarning:\n",
      "\n",
      "Boolean Series key will be reindexed to match DataFrame index.\n",
      "\n",
      "C:\\Miniconda2\\envs\\tensorflow_env\\lib\\site-packages\\ipykernel_launcher.py:7: UserWarning:\n",
      "\n",
      "Boolean Series key will be reindexed to match DataFrame index.\n",
      "\n",
      "C:\\Miniconda2\\envs\\tensorflow_env\\lib\\site-packages\\ipykernel_launcher.py:9: UserWarning:\n",
      "\n",
      "Boolean Series key will be reindexed to match DataFrame index.\n",
      "\n",
      "C:\\Miniconda2\\envs\\tensorflow_env\\lib\\site-packages\\ipykernel_launcher.py:16: UserWarning:\n",
      "\n",
      "Boolean Series key will be reindexed to match DataFrame index.\n",
      "\n",
      "C:\\Miniconda2\\envs\\tensorflow_env\\lib\\site-packages\\ipykernel_launcher.py:18: UserWarning:\n",
      "\n",
      "Boolean Series key will be reindexed to match DataFrame index.\n",
      "\n",
      "C:\\Miniconda2\\envs\\tensorflow_env\\lib\\site-packages\\ipykernel_launcher.py:20: UserWarning:\n",
      "\n",
      "Boolean Series key will be reindexed to match DataFrame index.\n",
      "\n",
      "C:\\Miniconda2\\envs\\tensorflow_env\\lib\\site-packages\\ipykernel_launcher.py:22: UserWarning:\n",
      "\n",
      "Boolean Series key will be reindexed to match DataFrame index.\n",
      "\n",
      "C:\\Miniconda2\\envs\\tensorflow_env\\lib\\site-packages\\ipykernel_launcher.py:24: UserWarning:\n",
      "\n",
      "Boolean Series key will be reindexed to match DataFrame index.\n",
      "\n",
      "C:\\Miniconda2\\envs\\tensorflow_env\\lib\\site-packages\\ipykernel_launcher.py:26: UserWarning:\n",
      "\n",
      "Boolean Series key will be reindexed to match DataFrame index.\n",
      "\n",
      "C:\\Miniconda2\\envs\\tensorflow_env\\lib\\site-packages\\ipykernel_launcher.py:28: UserWarning:\n",
      "\n",
      "Boolean Series key will be reindexed to match DataFrame index.\n",
      "\n"
     ]
    }
   ],
   "source": [
    "Index_of_NaN=Data1.loc[Data1['source']=='Telegraph (India)'][Data1.source_scale.isnull()].index\n",
    "Data1.loc[Index_of_NaN,'source_scale']='National'\n",
    "Index=Data1.loc[Data1['source']=='Sangai Express (India)'][Data1.source_scale=='National'].index\n",
    "Data1.loc[Index,'source_scale']='Subnational'\n",
    "Index_of_NaN=Data1.loc[Data1['source']=='Sangai Express (India)'][Data1.source_scale.isnull()].index\n",
    "Data1.loc[Index_of_NaN,'source_scale']='Subnational'\n",
    "Index=Data1.loc[Data1['source']=='Times of India'][Data1.source_scale=='Subnational'].index\n",
    "Data1.loc[Index,'source_scale']='National'\n",
    "Index_of_NaN=Data1.loc[Data1['source']=='Times of India'][Data1.source_scale.isnull()].index\n",
    "Data1.loc[Index_of_NaN,'source_scale']='National'\n",
    "Index=Data1.loc[Data1['source']=='Pioneer (India); Times of India'].index\n",
    "Data1.loc[Index,'source_scale']='National-National'\n",
    "datacut=Data1[Data1.source_scale=='National-National']    \n",
    "Data1.drop(index=datacut.index,inplace=True)\n",
    "Data1=Data1.append(Source_Split(datacut))\n",
    "Index=Data1.loc[Data1['source']=='Pioneer (India)'][Data1.source_scale=='Subnational'].index\n",
    "Data1.loc[Index,'source_scale']='National'\n",
    "Index_of_NaN=Data1.loc[Data1['source']=='Pioneer (India)'][Data1.source_scale.isnull()].index\n",
    "Data1.loc[Index_of_NaN,'source_scale']='National'\n",
    "Index=Data1.loc[Data1['source']=='Hindustan Times (India)'][Data1.source_scale=='Subnational'].index\n",
    "Data1.loc[Index,'source_scale']='National'\n",
    "Index_of_NaN=Data1.loc[Data1['source']=='Hindustan Times (India)'][Data1.source_scale.isnull()].index\n",
    "Data1.loc[Index_of_NaN,'source_scale']='National'\n",
    "Index=Data1.loc[Data1['source']=='Indian Express'][Data1.source_scale=='Regional'].index\n",
    "Data1.loc[Index,'source_scale']='National'\n",
    "Index=Data1.loc[Data1['source']=='Indian Express'][Data1.source_scale=='Subnational'].index\n",
    "Data1.loc[Index,'source_scale']='National'\n",
    "Index_of_NaN=Data1.loc[Data1['source']=='Indian Express'][Data1.source_scale.isnull()].index\n",
    "Data1.loc[Index_of_NaN,'source_scale']='National'\n",
    "Source_scale_main=Data1.loc[Data1['source']=='Chandigarh Tribune'].source_scale.value_counts().idxmax()\n",
    "Index=Data1.loc[Data1['source']=='Chandigarh Tribune'].index\n",
    "Data1.loc[Index,'source_scale']=Source_scale_main\n",
    "Source_scale_main=Data1.loc[Data1['source']=='Asian News International'].source_scale.value_counts().idxmax()\n",
    "Index=Data1.loc[Data1['source']=='Asian News International'].index\n",
    "Data1.loc[Index,'source_scale']=Source_scale_main"
   ]
  },
  {
   "cell_type": "code",
   "execution_count": 19,
   "metadata": {},
   "outputs": [],
   "source": [
    "Actors=pd.Series(index=Data1.index)\n",
    "Actor2_null_imask=Data1.actor2.notnull()\n",
    "AssoActor1_null_imask=Data1.assoc_actor_1.notnull()\n",
    "AssoActor2_null_imask=Data1.assoc_actor_2.notnull()\n",
    "for idx in Data1.index:\n",
    "    if Actor2_null_imask[idx] and AssoActor1_null_imask[idx] and AssoActor2_null_imask[idx]:\n",
    "        Actors[idx]=[Data1.loc[idx,'actor1'],Data1.loc[idx,'actor2'],Data1.loc[idx,'assoc_actor_1'],Data1.loc[idx,'assoc_actor_2']]\n",
    "    elif Actor2_null_imask[idx] and AssoActor1_null_imask[idx] and not AssoActor2_null_imask[idx]:\n",
    "        Actors[idx]=[Data1.loc[idx,'actor1'],Data1.loc[idx,'actor2'],Data1.loc[idx,'assoc_actor_1']]\n",
    "    elif Actor2_null_imask[idx] and not AssoActor1_null_imask[idx] and AssoActor2_null_imask[idx]:\n",
    "        Actors[idx]=[Data1.loc[idx,'actor1'],Data1.loc[idx,'actor2'],Data1.loc[idx,'assoc_actor_2']]\n",
    "    elif not Actor2_null_imask[idx] and AssoActor1_null_imask[idx] and AssoActor2_null_imask[idx]:\n",
    "        Actors[idx]=[Data1.loc[idx,'actor1'],Data1.loc[idx,'assoc_actor_1'],Data1.loc[idx,'assoc_actor_2']]\n",
    "    elif Actor2_null_imask[idx] and not AssoActor1_null_imask[idx] and not AssoActor2_null_imask[idx]:\n",
    "        Actors[idx]=[Data1.loc[idx,'actor1'],Data1.loc[idx,'actor2']]\n",
    "    elif not Actor2_null_imask[idx] and not AssoActor1_null_imask[idx] and AssoActor2_null_imask[idx]:\n",
    "        Actors[idx]=[Data1.loc[idx,'actor1'],Data1.loc[idx,'assoc_actor_2']]\n",
    "    elif not Actor2_null_imask[idx] and AssoActor1_null_imask[idx] and not AssoActor2_null_imask[idx]:\n",
    "        Actors[idx]=[Data1.loc[idx,'actor1'],Data1.loc[idx,'assoc_actor_1']]\n",
    "    else:\n",
    "        Actors[idx]=Data1.loc[idx,'actor1']\n",
    "Data1=Data1.join(pd.DataFrame(Actors,columns=['Actors']))\n",
    "Data1.drop(columns=['actor1','actor2','assoc_actor_1', 'assoc_actor_2'],inplace=True)"
   ]
  },
  {
   "cell_type": "code",
   "execution_count": 20,
   "metadata": {},
   "outputs": [],
   "source": [
    "Administration=pd.Series(index=Data1.index)\n",
    "Admin2_null_imask=Data1.admin2.notnull()\n",
    "Admin3_null_imask=Data1.admin3.notnull()\n",
    "for idx in Data1.index:\n",
    "    if Admin2_null_imask[idx] and Admin3_null_imask[idx]:\n",
    "        Administration[idx]=[Data1.loc[idx,'admin1'],Data1.loc[idx,'admin2'],Data1.loc[idx,'admin3']]\n",
    "    elif Admin2_null_imask[idx] and not Admin3_null_imask[idx]:\n",
    "        Administration[idx]=[Data1.loc[idx,'admin1'],Data1.loc[idx,'admin2']]    \n",
    "    elif not Admin2_null_imask[idx] and Admin3_null_imask[idx]:\n",
    "        Administration[idx]=[Data1.loc[idx,'admin1'],Data1.loc[idx,'admin3']]    \n",
    "    else:\n",
    "        Administration[idx]=Data1.loc[idx,'admin1']\n",
    "Data1=Data1.join(pd.DataFrame(Administration,columns=['Administration_levels']))\n",
    "Data1.drop(columns=['admin2','admin3'],inplace=True)"
   ]
  },
  {
   "cell_type": "code",
   "execution_count": 21,
   "metadata": {},
   "outputs": [],
   "source": [
    "# New feature created \n",
    "#Number of sources\n",
    "def No_of_source(source):\n",
    "    if type(source)==list:\n",
    "        return len(source)\n",
    "    else:\n",
    "        return 1\n",
    "Data1['No_of_sources']=Data1['source'].apply(No_of_source)\n",
    "#Number of actors\n",
    "def No_of_Actors(actors):\n",
    "    if type(actors)==list:\n",
    "        return len(actors)\n",
    "    else:\n",
    "        return 1\n",
    "Data1['No_of_actors']=Data1['Actors'].apply(No_of_Actors)\n",
    "# Month number 1 to 37\n",
    "def month_of(date_formatted):\n",
    "    return date_formatted.month+12*(date_formatted.year-2016)\n",
    "Data1['month']=Data1.event_date_formatted.apply(month_of)"
   ]
  },
  {
   "cell_type": "code",
   "execution_count": 22,
   "metadata": {},
   "outputs": [],
   "source": [
    "# Month-wise event distribution\n",
    "Month_distribution=pd.DataFrame(Data1.month.value_counts())\n",
    "Month_distribution['Normalize']=Data1.month.value_counts(normalize=True)"
   ]
  },
  {
   "cell_type": "code",
   "execution_count": 23,
   "metadata": {},
   "outputs": [],
   "source": [
    "# Crosstab between actor1 and actor2 over all months\n",
    "Inter1_2_All=pd.crosstab(Data1.inter1,Data1.inter2,normalize=True)\n",
    "Inter1_2_month=[]\n",
    "for m in Month_distribution.index:\n",
    "    Data_m=Data1[Data1.month==m]\n",
    "    Inter1_2_month.append(pd.crosstab(Data_m.inter1,Data_m.inter2,normalize=True)) \n",
    "inter_code_table={0:inter_codes.description[0],\n",
    "                             1:inter_codes.description[1],\n",
    "                             2:inter_codes.description[2],\n",
    "                             3:inter_codes.description[3],\n",
    "                             4:inter_codes.description[4],\n",
    "                             5:inter_codes.description[5],\n",
    "                             6:inter_codes.description[6],\n",
    "                             7:inter_codes.description[7],\n",
    "                             8:inter_codes.description[8]}\n",
    "for m in range(Month_distribution.index.sort_values().max()):\n",
    "    Inter1_2_month[m]=Inter1_2_month[m].rename(columns=inter_code_table,index=inter_code_table)"
   ]
  },
  {
   "cell_type": "code",
   "execution_count": 24,
   "metadata": {},
   "outputs": [],
   "source": [
    "# Normalized Frequency data for states over all months\n",
    "State_All=Data1.admin1.value_counts(normalize=True)\n",
    "State_All=pd.DataFrame(State_All).rename(columns={'admin1':'Normalized_Freq'})\n",
    "State_month=pd.DataFrame(data=None,index=State_All.index)\n",
    "for m in Month_distribution.index.sort_values():\n",
    "    Data_m=Data1[Data1.month==m]\n",
    "    State_month[m]=Data1.admin1[Data1.month==m].value_counts(normalize=True)\n",
    "State_month.fillna(0,inplace=True)"
   ]
  },
  {
   "cell_type": "code",
   "execution_count": 25,
   "metadata": {},
   "outputs": [],
   "source": [
    "def get_Mapdata_slider1(input_data):\n",
    "    trace=[]\n",
    "    for m in range(Month_distribution.index.sort_values().max()):\n",
    "             trace.append( go.Heatmap(z=input_data[m].to_dict(orient='split')['data'],\n",
    "                       x=input_data[m].to_dict(orient='split')['columns'],\n",
    "                       y=input_data[m].to_dict(orient='split')['index'],\n",
    "                       colorscale=[[0.0, 'rgb(165,0,38)'], [0.005, 'rgb(215,48,39)'], \n",
    "                                   [0.2, 'rgb(244,109,67)'], [0.3, 'rgb(253,174,97)'], \n",
    "                                   [0.4, 'rgb(254,224,144)'], [0.5, 'rgb(224,243,248)'],\n",
    "                                   [0.6, 'rgb(171,217,233)'],[1.0, 'rgb(49,54,149)']],\n",
    "                       colorbar = dict(\n",
    "                                    title ='Normalized Frequency')\n",
    "                      ))\n",
    "    return [trace]"
   ]
  },
  {
   "cell_type": "code",
   "execution_count": 26,
   "metadata": {},
   "outputs": [],
   "source": [
    "Slider_data1=get_Mapdata_slider1(Inter1_2_month)"
   ]
  },
  {
   "cell_type": "code",
   "execution_count": 27,
   "metadata": {},
   "outputs": [
    {
     "data": {
      "application/vnd.plotly.v1+json": {
       "config": {
        "linkText": "Export to plot.ly",
        "plotlyServerURL": "https://plot.ly",
        "showLink": false
       },
       "data": [
        {
         "colorbar": {
          "title": {
           "text": "Normalized Frequency"
          }
         },
         "colorscale": [
          [
           0,
           "rgb(165,0,38)"
          ],
          [
           0.005,
           "rgb(215,48,39)"
          ],
          [
           0.2,
           "rgb(244,109,67)"
          ],
          [
           0.3,
           "rgb(253,174,97)"
          ],
          [
           0.4,
           "rgb(254,224,144)"
          ],
          [
           0.5,
           "rgb(224,243,248)"
          ],
          [
           0.6,
           "rgb(171,217,233)"
          ],
          [
           1,
           "rgb(49,54,149)"
          ]
         ],
         "type": "heatmap",
         "uid": "95094f4a-8f6a-4224-a010-3f35ec933a05",
         "x": [
          "No actor",
          "Government and state security services",
          "Rebel Groups",
          "Political Militias",
          "Identity Militias",
          "Rioters",
          "Protestors",
          "Civilians",
          "External/other forces"
         ],
         "y": [
          "Government and state security services",
          "Rebel Groups",
          "Political Militias",
          "Identity Militias",
          "Rioters",
          "Protestors",
          "External/other forces"
         ],
         "z": [
          [
           0.0025100401606425703,
           0,
           0,
           0.0025100401606425703,
           0,
           0,
           0,
           0.009036144578313253,
           0.004518072289156626
          ],
          [
           0,
           0.01104417670682731,
           0,
           0,
           0,
           0,
           0,
           0.004016064257028112,
           0
          ],
          [
           0.001004016064257028,
           0.01355421686746988,
           0.000502008032128514,
           0.0030120481927710845,
           0.000502008032128514,
           0.000502008032128514,
           0.000502008032128514,
           0.03765060240963856,
           0.001004016064257028
          ],
          [
           0.000502008032128514,
           0.000502008032128514,
           0,
           0.001004016064257028,
           0.0050200803212851405,
           0,
           0,
           0.01957831325301205,
           0
          ],
          [
           0.05220883534136546,
           0.05220883534136546,
           0,
           0.000502008032128514,
           0,
           0.05070281124497992,
           0.000502008032128514,
           0.0286144578313253,
           0
          ],
          [
           0.6219879518072289,
           0.07028112449799197,
           0,
           0,
           0,
           0,
           0.002008032128514056,
           0.0015060240963855422,
           0.000502008032128514
          ],
          [
           0,
           0,
           0,
           0.000502008032128514,
           0,
           0,
           0,
           0,
           0
          ]
         ]
        },
        {
         "colorbar": {
          "title": {
           "text": "Normalized Frequency"
          }
         },
         "colorscale": [
          [
           0,
           "rgb(165,0,38)"
          ],
          [
           0.005,
           "rgb(215,48,39)"
          ],
          [
           0.2,
           "rgb(244,109,67)"
          ],
          [
           0.3,
           "rgb(253,174,97)"
          ],
          [
           0.4,
           "rgb(254,224,144)"
          ],
          [
           0.5,
           "rgb(224,243,248)"
          ],
          [
           0.6,
           "rgb(171,217,233)"
          ],
          [
           1,
           "rgb(49,54,149)"
          ]
         ],
         "type": "heatmap",
         "uid": "b7b4bcf5-3ae7-48ef-9511-8c5e86a33967",
         "x": [
          "No actor",
          "Government and state security services",
          "Rebel Groups",
          "Political Militias",
          "Identity Militias",
          "Rioters",
          "Protestors",
          "Civilians",
          "External/other forces"
         ],
         "y": [
          "Government and state security services",
          "Rebel Groups",
          "Political Militias",
          "Identity Militias",
          "Rioters",
          "Protestors",
          "External/other forces"
         ],
         "z": [
          [
           0.0016313213703099511,
           0.000543773790103317,
           0.0016313213703099511,
           0.000543773790103317,
           0,
           0,
           0,
           0.011419249592169658,
           0.010331702011963024
          ],
          [
           0.0016313213703099511,
           0.008156606851549755,
           0,
           0,
           0,
           0,
           0,
           0.0076128330614464385,
           0
          ],
          [
           0.002175095160413268,
           0.011963023382272975,
           0,
           0.004893964110929853,
           0,
           0.000543773790103317,
           0,
           0.04676454594888527,
           0
          ],
          [
           0,
           0.001087547580206634,
           0,
           0,
           0.005437737901033171,
           0,
           0,
           0.01794453507340946,
           0
          ],
          [
           0.028276237085372486,
           0.0478520935290919,
           0,
           0,
           0,
           0.04187058183795541,
           0.000543773790103317,
           0.043501903208265365,
           0
          ],
          [
           0.6568787384448069,
           0.042958129418162044,
           0,
           0,
           0,
           0.000543773790103317,
           0.000543773790103317,
           0.002175095160413268,
           0
          ],
          [
           0,
           0,
           0,
           0,
           0,
           0,
           0,
           0.000543773790103317,
           0
          ]
         ]
        },
        {
         "colorbar": {
          "title": {
           "text": "Normalized Frequency"
          }
         },
         "colorscale": [
          [
           0,
           "rgb(165,0,38)"
          ],
          [
           0.005,
           "rgb(215,48,39)"
          ],
          [
           0.2,
           "rgb(244,109,67)"
          ],
          [
           0.3,
           "rgb(253,174,97)"
          ],
          [
           0.4,
           "rgb(254,224,144)"
          ],
          [
           0.5,
           "rgb(224,243,248)"
          ],
          [
           0.6,
           "rgb(171,217,233)"
          ],
          [
           1,
           "rgb(49,54,149)"
          ]
         ],
         "type": "heatmap",
         "uid": "2c976b16-5b5c-4d48-8306-91243da1e825",
         "x": [
          "No actor",
          "Government and state security services",
          "Political Militias",
          "Identity Militias",
          "Rioters",
          "Protestors",
          "Civilians",
          "External/other forces"
         ],
         "y": [
          "Government and state security services",
          "Rebel Groups",
          "Political Militias",
          "Identity Militias",
          "Rioters",
          "Protestors",
          "External/other forces"
         ],
         "z": [
          [
           0.00182370820668693,
           0.0006079027355623101,
           0.0012158054711246201,
           0,
           0,
           0,
           0.00425531914893617,
           0.00182370820668693
          ],
          [
           0.0012158054711246201,
           0.00851063829787234,
           0,
           0,
           0,
           0,
           0.0024316109422492403,
           0
          ],
          [
           0.0012158054711246201,
           0.00851063829787234,
           0.00364741641337386,
           0,
           0,
           0,
           0.0243161094224924,
           0
          ],
          [
           0,
           0,
           0,
           0.00303951367781155,
           0,
           0,
           0.00425531914893617,
           0
          ],
          [
           0.02917933130699088,
           0.09240121580547113,
           0,
           0,
           0.029787234042553193,
           0,
           0.03404255319148936,
           0.0006079027355623101
          ],
          [
           0.6638297872340425,
           0.07477203647416414,
           0,
           0,
           0,
           0.0012158054711246201,
           0,
           0
          ],
          [
           0,
           0.0060790273556231,
           0,
           0,
           0,
           0,
           0.0012158054711246201,
           0
          ]
         ]
        },
        {
         "colorbar": {
          "title": {
           "text": "Normalized Frequency"
          }
         },
         "colorscale": [
          [
           0,
           "rgb(165,0,38)"
          ],
          [
           0.005,
           "rgb(215,48,39)"
          ],
          [
           0.2,
           "rgb(244,109,67)"
          ],
          [
           0.3,
           "rgb(253,174,97)"
          ],
          [
           0.4,
           "rgb(254,224,144)"
          ],
          [
           0.5,
           "rgb(224,243,248)"
          ],
          [
           0.6,
           "rgb(171,217,233)"
          ],
          [
           1,
           "rgb(49,54,149)"
          ]
         ],
         "type": "heatmap",
         "uid": "53ee4a18-9ead-402c-9baf-a2921f2125d8",
         "x": [
          "No actor",
          "Government and state security services",
          "Rebel Groups",
          "Political Militias",
          "Identity Militias",
          "Rioters",
          "Protestors",
          "Civilians",
          "External/other forces"
         ],
         "y": [
          "Government and state security services",
          "Rebel Groups",
          "Political Militias",
          "Identity Militias",
          "Rioters",
          "Protestors",
          "External/other forces"
         ],
         "z": [
          [
           0,
           0,
           0,
           0.0006112469437652812,
           0,
           0,
           0,
           0.004889975550122249,
           0.017114914425427872
          ],
          [
           0,
           0.006723716381418093,
           0,
           0,
           0,
           0,
           0,
           0.007946210268948655,
           0
          ],
          [
           0.0012224938875305623,
           0.015281173594132029,
           0.0006112469437652812,
           0.0006112469437652812,
           0.0006112469437652812,
           0,
           0,
           0.03606356968215159,
           0
          ],
          [
           0,
           0,
           0,
           0,
           0.0012224938875305623,
           0,
           0,
           0.009779951100244499,
           0
          ],
          [
           0.055623471882640586,
           0.0715158924205379,
           0,
           0,
           0,
           0.020171149144254278,
           0.0006112469437652812,
           0.034229828850855744,
           0
          ],
          [
           0.6418092909535452,
           0.06356968215158924,
           0,
           0,
           0,
           0,
           0,
           0.0006112469437652812,
           0
          ],
          [
           0,
           0.008557457212713936,
           0,
           0,
           0,
           0,
           0,
           0.0006112469437652812,
           0
          ]
         ]
        },
        {
         "colorbar": {
          "title": {
           "text": "Normalized Frequency"
          }
         },
         "colorscale": [
          [
           0,
           "rgb(165,0,38)"
          ],
          [
           0.005,
           "rgb(215,48,39)"
          ],
          [
           0.2,
           "rgb(244,109,67)"
          ],
          [
           0.3,
           "rgb(253,174,97)"
          ],
          [
           0.4,
           "rgb(254,224,144)"
          ],
          [
           0.5,
           "rgb(224,243,248)"
          ],
          [
           0.6,
           "rgb(171,217,233)"
          ],
          [
           1,
           "rgb(49,54,149)"
          ]
         ],
         "type": "heatmap",
         "uid": "397c6063-2173-4f82-8ccf-48afe7d158ab",
         "x": [
          "No actor",
          "Government and state security services",
          "Rebel Groups",
          "Political Militias",
          "Identity Militias",
          "Rioters",
          "Protestors",
          "Civilians",
          "External/other forces"
         ],
         "y": [
          "Government and state security services",
          "Rebel Groups",
          "Political Militias",
          "Identity Militias",
          "Rioters",
          "Protestors",
          "Civilians",
          "External/other forces"
         ],
         "z": [
          [
           0.007357449417535254,
           0,
           0,
           0.0030656039239730227,
           0.0006131207847946045,
           0,
           0,
           0.010423053341508276,
           0.00674432863274065
          ],
          [
           0,
           0.009809932556713672,
           0,
           0,
           0,
           0,
           0,
           0.00797057020232986,
           0
          ],
          [
           0.001226241569589209,
           0.019619865113427344,
           0,
           0.004904966278356836,
           0,
           0,
           0.0006131207847946045,
           0.03862660944206009,
           0.0018393623543838135
          ],
          [
           0,
           0.004291845493562232,
           0.0006131207847946045,
           0.0006131207847946045,
           0.004291845493562232,
           0,
           0,
           0.0269773145309626,
           0
          ],
          [
           0.02575107296137339,
           0.056407112201103615,
           0,
           0,
           0,
           0.018393623543838136,
           0.001226241569589209,
           0.028816676885346414,
           0
          ],
          [
           0.6762722256284488,
           0.03801348865726548,
           0,
           0,
           0,
           0,
           0.001226241569589209,
           0.0006131207847946045,
           0
          ],
          [
           0.0006131207847946045,
           0,
           0,
           0,
           0,
           0,
           0,
           0,
           0
          ],
          [
           0.001226241569589209,
           0,
           0,
           0,
           0,
           0,
           0,
           0.0018393623543838135,
           0
          ]
         ]
        },
        {
         "colorbar": {
          "title": {
           "text": "Normalized Frequency"
          }
         },
         "colorscale": [
          [
           0,
           "rgb(165,0,38)"
          ],
          [
           0.005,
           "rgb(215,48,39)"
          ],
          [
           0.2,
           "rgb(244,109,67)"
          ],
          [
           0.3,
           "rgb(253,174,97)"
          ],
          [
           0.4,
           "rgb(254,224,144)"
          ],
          [
           0.5,
           "rgb(224,243,248)"
          ],
          [
           0.6,
           "rgb(171,217,233)"
          ],
          [
           1,
           "rgb(49,54,149)"
          ]
         ],
         "type": "heatmap",
         "uid": "fe46265e-b8c0-4016-b693-5b44ae56af5a",
         "x": [
          "No actor",
          "Government and state security services",
          "Political Militias",
          "Identity Militias",
          "Rioters",
          "Protestors",
          "Civilians",
          "External/other forces"
         ],
         "y": [
          "Government and state security services",
          "Rebel Groups",
          "Political Militias",
          "Identity Militias",
          "Rioters",
          "Protestors",
          "External/other forces"
         ],
         "z": [
          [
           0.0018472906403940886,
           0.0012315270935960591,
           0.003078817733990148,
           0.0006157635467980296,
           0,
           0,
           0.012315270935960592,
           0.004310344827586207
          ],
          [
           0.0006157635467980296,
           0.011699507389162561,
           0,
           0,
           0,
           0,
           0.003694581280788177,
           0
          ],
          [
           0.003078817733990148,
           0.02401477832512315,
           0.0018472906403940886,
           0,
           0.0006157635467980296,
           0,
           0.04864532019704434,
           0
          ],
          [
           0,
           0.0018472906403940886,
           0.0006157635467980296,
           0.005541871921182266,
           0.0018472906403940886,
           0,
           0.03017241379310345,
           0.0006157635467980296
          ],
          [
           0.042487684729064036,
           0.10036945812807882,
           0.0006157635467980296,
           0,
           0.019704433497536946,
           0.003694581280788177,
           0.01847290640394089,
           0.0006157635467980296
          ],
          [
           0.5979064039408867,
           0.05172413793103448,
           0,
           0,
           0.0012315270935960591,
           0.0006157635467980296,
           0.0012315270935960591,
           0
          ],
          [
           0.0006157635467980296,
           0.0018472906403940886,
           0,
           0,
           0,
           0,
           0.0006157635467980296,
           0
          ]
         ]
        },
        {
         "colorbar": {
          "title": {
           "text": "Normalized Frequency"
          }
         },
         "colorscale": [
          [
           0,
           "rgb(165,0,38)"
          ],
          [
           0.005,
           "rgb(215,48,39)"
          ],
          [
           0.2,
           "rgb(244,109,67)"
          ],
          [
           0.3,
           "rgb(253,174,97)"
          ],
          [
           0.4,
           "rgb(254,224,144)"
          ],
          [
           0.5,
           "rgb(224,243,248)"
          ],
          [
           0.6,
           "rgb(171,217,233)"
          ],
          [
           1,
           "rgb(49,54,149)"
          ]
         ],
         "type": "heatmap",
         "uid": "5ecc19c4-7494-4d4e-84c4-231ad63175e0",
         "x": [
          "No actor",
          "Government and state security services",
          "Rebel Groups",
          "Political Militias",
          "Identity Militias",
          "Rioters",
          "Protestors",
          "Civilians",
          "External/other forces"
         ],
         "y": [
          "Government and state security services",
          "Rebel Groups",
          "Political Militias",
          "Identity Militias",
          "Rioters",
          "Protestors",
          "Civilians",
          "External/other forces"
         ],
         "z": [
          [
           0.0031725888324873096,
           0.0006345177664974619,
           0.0006345177664974619,
           0.0019035532994923859,
           0,
           0,
           0,
           0.010786802030456852,
           0.00951776649746193
          ],
          [
           0.0012690355329949238,
           0.025380710659898477,
           0,
           0,
           0,
           0,
           0,
           0.010786802030456852,
           0
          ],
          [
           0.0012690355329949238,
           0.015862944162436547,
           0,
           0.0038071065989847717,
           0,
           0,
           0,
           0.0399746192893401,
           0.0012690355329949238
          ],
          [
           0.0006345177664974619,
           0.0012690355329949238,
           0,
           0.0019035532994923859,
           0.0031725888324873096,
           0,
           0,
           0.021573604060913704,
           0
          ],
          [
           0.037436548223350255,
           0.06281725888324872,
           0,
           0.0012690355329949238,
           0,
           0.030456852791878174,
           0.0019035532994923859,
           0.04060913705583756,
           0
          ],
          [
           0.6269035532994924,
           0.041243654822335024,
           0,
           0,
           0,
           0,
           0.0006345177664974619,
           0,
           0
          ],
          [
           0.0006345177664974619,
           0,
           0,
           0,
           0,
           0,
           0,
           0,
           0
          ],
          [
           0,
           0,
           0,
           0,
           0,
           0,
           0,
           0.0012690355329949238,
           0
          ]
         ]
        },
        {
         "colorbar": {
          "title": {
           "text": "Normalized Frequency"
          }
         },
         "colorscale": [
          [
           0,
           "rgb(165,0,38)"
          ],
          [
           0.005,
           "rgb(215,48,39)"
          ],
          [
           0.2,
           "rgb(244,109,67)"
          ],
          [
           0.3,
           "rgb(253,174,97)"
          ],
          [
           0.4,
           "rgb(254,224,144)"
          ],
          [
           0.5,
           "rgb(224,243,248)"
          ],
          [
           0.6,
           "rgb(171,217,233)"
          ],
          [
           1,
           "rgb(49,54,149)"
          ]
         ],
         "type": "heatmap",
         "uid": "5079e049-21a6-4fbe-a19e-13947a56fd4f",
         "x": [
          "No actor",
          "Government and state security services",
          "Political Militias",
          "Identity Militias",
          "Rioters",
          "Protestors",
          "Civilians",
          "External/other forces"
         ],
         "y": [
          "Government and state security services",
          "Rebel Groups",
          "Political Militias",
          "Identity Militias",
          "Rioters",
          "Protestors",
          "External/other forces"
         ],
         "z": [
          [
           0.0027643400138217,
           0,
           0.0034554250172771253,
           0,
           0,
           0.007601935038009675,
           0.007601935038009675,
           0.00138217000691085
          ],
          [
           0,
           0.014512785072563926,
           0.000691085003455425,
           0,
           0,
           0,
           0.002073255010366275,
           0
          ],
          [
           0.000691085003455425,
           0.015894955079474776,
           0.000691085003455425,
           0,
           0,
           0,
           0.006910850034554251,
           0
          ],
          [
           0.000691085003455425,
           0.00138217000691085,
           0,
           0.000691085003455425,
           0,
           0,
           0.0055286800276434,
           0
          ],
          [
           0.03248099516240498,
           0.1492743607463718,
           0,
           0,
           0.007601935038009675,
           0,
           0.009675190048375951,
           0
          ],
          [
           0.6337249481686248,
           0.08914996544574982,
           0,
           0,
           0,
           0.00138217000691085,
           0,
           0
          ],
          [
           0.000691085003455425,
           0.0034554250172771253,
           0,
           0,
           0,
           0,
           0,
           0
          ]
         ]
        },
        {
         "colorbar": {
          "title": {
           "text": "Normalized Frequency"
          }
         },
         "colorscale": [
          [
           0,
           "rgb(165,0,38)"
          ],
          [
           0.005,
           "rgb(215,48,39)"
          ],
          [
           0.2,
           "rgb(244,109,67)"
          ],
          [
           0.3,
           "rgb(253,174,97)"
          ],
          [
           0.4,
           "rgb(254,224,144)"
          ],
          [
           0.5,
           "rgb(224,243,248)"
          ],
          [
           0.6,
           "rgb(171,217,233)"
          ],
          [
           1,
           "rgb(49,54,149)"
          ]
         ],
         "type": "heatmap",
         "uid": "d2e1d609-1c66-4453-9523-758aa77bd20f",
         "x": [
          "No actor",
          "Government and state security services",
          "Rebel Groups",
          "Political Militias",
          "Identity Militias",
          "Rioters",
          "Protestors",
          "Civilians",
          "External/other forces"
         ],
         "y": [
          "Government and state security services",
          "Rebel Groups",
          "Political Militias",
          "Identity Militias",
          "Rioters",
          "Protestors",
          "External/other forces"
         ],
         "z": [
          [
           0,
           0,
           0.0007369196757553427,
           0.0007369196757553427,
           0,
           0,
           0,
           0.0029476787030213707,
           0
          ],
          [
           0.0036845983787767134,
           0.010316875460574797,
           0,
           0,
           0,
           0,
           0,
           0.005158437730287398,
           0
          ],
          [
           0.002210759027266028,
           0.016212232866617538,
           0.0007369196757553427,
           0.002210759027266028,
           0,
           0,
           0.0007369196757553427,
           0.01915991156963891,
           0.0007369196757553427
          ],
          [
           0,
           0,
           0,
           0,
           0.002210759027266028,
           0,
           0,
           0.0007369196757553427,
           0
          ],
          [
           0.01989683124539425,
           0.03831982313927782,
           0,
           0,
           0,
           0.017686072218128224,
           0.0007369196757553427,
           0.01989683124539425,
           0.0007369196757553427
          ],
          [
           0.789240972733972,
           0.0397936624907885,
           0,
           0,
           0,
           0,
           0.002210759027266028,
           0,
           0
          ],
          [
           0,
           0.0029476787030213707,
           0,
           0,
           0,
           0,
           0,
           0,
           0
          ]
         ]
        },
        {
         "colorbar": {
          "title": {
           "text": "Normalized Frequency"
          }
         },
         "colorscale": [
          [
           0,
           "rgb(165,0,38)"
          ],
          [
           0.005,
           "rgb(215,48,39)"
          ],
          [
           0.2,
           "rgb(244,109,67)"
          ],
          [
           0.3,
           "rgb(253,174,97)"
          ],
          [
           0.4,
           "rgb(254,224,144)"
          ],
          [
           0.5,
           "rgb(224,243,248)"
          ],
          [
           0.6,
           "rgb(171,217,233)"
          ],
          [
           1,
           "rgb(49,54,149)"
          ]
         ],
         "type": "heatmap",
         "uid": "7b2f4a05-f99c-45e4-b400-c229d2383f57",
         "x": [
          "No actor",
          "Government and state security services",
          "Rebel Groups",
          "Political Militias",
          "Identity Militias",
          "Rioters",
          "Protestors",
          "Civilians",
          "External/other forces"
         ],
         "y": [
          "Government and state security services",
          "Rebel Groups",
          "Political Militias",
          "Identity Militias",
          "Rioters",
          "Protestors",
          "External/other forces"
         ],
         "z": [
          [
           0,
           0,
           0.0007412898443291327,
           0.0007412898443291327,
           0,
           0,
           0.0014825796886582653,
           0.004447739065974796,
           0.0029651593773165306
          ],
          [
           0.0014825796886582653,
           0.008895478131949592,
           0.0007412898443291327,
           0,
           0,
           0,
           0,
           0.004447739065974796,
           0
          ],
          [
           0.0037064492216456633,
           0.011860637509266123,
           0.0007412898443291327,
           0.0014825796886582653,
           0,
           0,
           0.0007412898443291327,
           0.03261675315048184,
           0
          ],
          [
           0,
           0.0014825796886582653,
           0,
           0.0007412898443291327,
           0.002223869532987398,
           0,
           0.0007412898443291327,
           0.006671608598962194,
           0.0007412898443291327
          ],
          [
           0.02223869532987398,
           0.07412898443291327,
           0,
           0,
           0,
           0.02223869532987398,
           0.0014825796886582653,
           0.017790956263899184,
           0.0007412898443291327
          ],
          [
           0.6945885841363973,
           0.07412898443291327,
           0,
           0,
           0,
           0.0007412898443291327,
           0.0007412898443291327,
           0,
           0
          ],
          [
           0.0007412898443291327,
           0,
           0,
           0,
           0,
           0,
           0,
           0.0007412898443291327,
           0
          ]
         ]
        },
        {
         "colorbar": {
          "title": {
           "text": "Normalized Frequency"
          }
         },
         "colorscale": [
          [
           0,
           "rgb(165,0,38)"
          ],
          [
           0.005,
           "rgb(215,48,39)"
          ],
          [
           0.2,
           "rgb(244,109,67)"
          ],
          [
           0.3,
           "rgb(253,174,97)"
          ],
          [
           0.4,
           "rgb(254,224,144)"
          ],
          [
           0.5,
           "rgb(224,243,248)"
          ],
          [
           0.6,
           "rgb(171,217,233)"
          ],
          [
           1,
           "rgb(49,54,149)"
          ]
         ],
         "type": "heatmap",
         "uid": "9208f450-a275-4f50-b9c7-907b092ef010",
         "x": [
          "No actor",
          "Government and state security services",
          "Rebel Groups",
          "Political Militias",
          "Identity Militias",
          "Rioters",
          "Civilians",
          "External/other forces"
         ],
         "y": [
          "Government and state security services",
          "Rebel Groups",
          "Political Militias",
          "Identity Militias",
          "Rioters",
          "Protestors",
          "External/other forces"
         ],
         "z": [
          [
           0.0007587253414264037,
           0,
           0.0007587253414264037,
           0,
           0,
           0,
           0.0037936267071320183,
           0.004552352048558422
          ],
          [
           0.0007587253414264037,
           0.015933232169954476,
           0,
           0,
           0,
           0,
           0.004552352048558422,
           0
          ],
          [
           0.00834597875569044,
           0.015174506828528073,
           0,
           0.0007587253414264037,
           0,
           0,
           0.012898330804248861,
           0
          ],
          [
           0,
           0.002276176024279211,
           0,
           0.0007587253414264037,
           0.0007587253414264037,
           0,
           0.0030349013657056147,
           0
          ],
          [
           0.018209408194233688,
           0.07207890743550835,
           0,
           0,
           0,
           0.010622154779969651,
           0.012139605462822459,
           0
          ],
          [
           0.7071320182094082,
           0.06752655538694992,
           0,
           0,
           0,
           0.002276176024279211,
           0,
           0
          ],
          [
           0.0030349013657056147,
           0.030349013657056147,
           0,
           0,
           0,
           0,
           0.0015174506828528073,
           0
          ]
         ]
        },
        {
         "colorbar": {
          "title": {
           "text": "Normalized Frequency"
          }
         },
         "colorscale": [
          [
           0,
           "rgb(165,0,38)"
          ],
          [
           0.005,
           "rgb(215,48,39)"
          ],
          [
           0.2,
           "rgb(244,109,67)"
          ],
          [
           0.3,
           "rgb(253,174,97)"
          ],
          [
           0.4,
           "rgb(254,224,144)"
          ],
          [
           0.5,
           "rgb(224,243,248)"
          ],
          [
           0.6,
           "rgb(171,217,233)"
          ],
          [
           1,
           "rgb(49,54,149)"
          ]
         ],
         "type": "heatmap",
         "uid": "2d1b66a3-a912-4e25-aedc-65ff32234723",
         "x": [
          "No actor",
          "Government and state security services",
          "Rebel Groups",
          "Identity Militias",
          "Rioters",
          "Protestors",
          "Civilians",
          "External/other forces"
         ],
         "y": [
          "Government and state security services",
          "Rebel Groups",
          "Political Militias",
          "Identity Militias",
          "Rioters",
          "Protestors",
          "External/other forces"
         ],
         "z": [
          [
           0.0007593014426727411,
           0,
           0,
           0,
           0,
           0,
           0.0037965072133637054,
           0.015945330296127564
          ],
          [
           0.0015186028853454822,
           0.012908124525436599,
           0,
           0,
           0,
           0,
           0.002277904328018223,
           0
          ],
          [
           0.006074411541381929,
           0.02201974183750949,
           0.0007593014426727411,
           0,
           0,
           0,
           0.017463933181473046,
           0.0007593014426727411
          ],
          [
           0,
           0,
           0,
           0.006074411541381929,
           0,
           0,
           0.005315110098709187,
           0
          ],
          [
           0.02885345482156416,
           0.09035687167805619,
           0,
           0,
           0.02809415337889142,
           0.0007593014426727411,
           0.026575550493545937,
           0
          ],
          [
           0.6347760060744115,
           0.06909643128321943,
           0,
           0,
           0,
           0.0007593014426727411,
           0,
           0
          ],
          [
           0.0015186028853454822,
           0.02126044039483675,
           0,
           0,
           0,
           0,
           0.002277904328018223,
           0
          ]
         ]
        },
        {
         "colorbar": {
          "title": {
           "text": "Normalized Frequency"
          }
         },
         "colorscale": [
          [
           0,
           "rgb(165,0,38)"
          ],
          [
           0.005,
           "rgb(215,48,39)"
          ],
          [
           0.2,
           "rgb(244,109,67)"
          ],
          [
           0.3,
           "rgb(253,174,97)"
          ],
          [
           0.4,
           "rgb(254,224,144)"
          ],
          [
           0.5,
           "rgb(224,243,248)"
          ],
          [
           0.6,
           "rgb(171,217,233)"
          ],
          [
           1,
           "rgb(49,54,149)"
          ]
         ],
         "type": "heatmap",
         "uid": "44b83891-fedf-4b29-8307-7a2678998d80",
         "x": [
          "No actor",
          "Government and state security services",
          "Rebel Groups",
          "Political Militias",
          "Identity Militias",
          "Rioters",
          "Protestors",
          "Civilians",
          "External/other forces"
         ],
         "y": [
          "Government and state security services",
          "Rebel Groups",
          "Political Militias",
          "Identity Militias",
          "Rioters",
          "Protestors",
          "Civilians",
          "External/other forces"
         ],
         "z": [
          [
           0.005455962587685113,
           0,
           0.000779423226812159,
           0.002338269680436477,
           0,
           0,
           0,
           0.00779423226812159,
           0.000779423226812159
          ],
          [
           0.001558846453624318,
           0.01558846453624318,
           0,
           0,
           0,
           0,
           0,
           0.006235385814497272,
           0
          ],
          [
           0,
           0.03351519875292284,
           0,
           0.003117692907248636,
           0.000779423226812159,
           0,
           0,
           0.03975058456742011,
           0.000779423226812159
          ],
          [
           0,
           0.001558846453624318,
           0,
           0,
           0.010911925175370226,
           0,
           0,
           0.010132501948558068,
           0
          ],
          [
           0.02260327357755261,
           0.04988308651597818,
           0,
           0,
           0,
           0.034294621979735,
           0.000779423226812159,
           0.021823850350740453,
           0
          ],
          [
           0.6453624318004677,
           0.05845674201091192,
           0,
           0.000779423226812159,
           0,
           0,
           0,
           0,
           0
          ],
          [
           0.000779423226812159,
           0,
           0,
           0,
           0,
           0,
           0,
           0,
           0
          ],
          [
           0,
           0.02338269680436477,
           0,
           0,
           0,
           0,
           0,
           0.000779423226812159,
           0
          ]
         ]
        },
        {
         "colorbar": {
          "title": {
           "text": "Normalized Frequency"
          }
         },
         "colorscale": [
          [
           0,
           "rgb(165,0,38)"
          ],
          [
           0.005,
           "rgb(215,48,39)"
          ],
          [
           0.2,
           "rgb(244,109,67)"
          ],
          [
           0.3,
           "rgb(253,174,97)"
          ],
          [
           0.4,
           "rgb(254,224,144)"
          ],
          [
           0.5,
           "rgb(224,243,248)"
          ],
          [
           0.6,
           "rgb(171,217,233)"
          ],
          [
           1,
           "rgb(49,54,149)"
          ]
         ],
         "type": "heatmap",
         "uid": "473469bc-4b3c-465e-bd48-41294d6646d8",
         "x": [
          "No actor",
          "Government and state security services",
          "Rebel Groups",
          "Political Militias",
          "Identity Militias",
          "Rioters",
          "Protestors",
          "Civilians",
          "External/other forces"
         ],
         "y": [
          "Government and state security services",
          "Rebel Groups",
          "Political Militias",
          "Identity Militias",
          "Rioters",
          "Protestors",
          "External/other forces"
         ],
         "z": [
          [
           0,
           0,
           0,
           0.0007867820613690008,
           0,
           0,
           0.0015735641227380016,
           0.003933910306845004,
           0.013375295043273014
          ],
          [
           0.0023603461841070024,
           0.00865460267505901,
           0,
           0,
           0,
           0,
           0,
           0.004720692368214005,
           0
          ],
          [
           0.0023603461841070024,
           0.00944138473642801,
           0.0007867820613690008,
           0.003147128245476003,
           0,
           0,
           0,
           0.020456333595594022,
           0
          ],
          [
           0.0015735641227380016,
           0.0007867820613690008,
           0,
           0,
           0.006294256490952006,
           0,
           0,
           0.014948859166011016,
           0
          ],
          [
           0.05664830841856806,
           0.1022816679779701,
           0,
           0,
           0,
           0.01888276947285602,
           0,
           0.01730920535011802,
           0
          ],
          [
           0.6695515342250197,
           0.03855232100708104,
           0,
           0,
           0,
           0.0007867820613690008,
           0,
           0,
           0
          ],
          [
           0,
           0,
           0,
           0,
           0,
           0,
           0,
           0.0007867820613690008,
           0
          ]
         ]
        },
        {
         "colorbar": {
          "title": {
           "text": "Normalized Frequency"
          }
         },
         "colorscale": [
          [
           0,
           "rgb(165,0,38)"
          ],
          [
           0.005,
           "rgb(215,48,39)"
          ],
          [
           0.2,
           "rgb(244,109,67)"
          ],
          [
           0.3,
           "rgb(253,174,97)"
          ],
          [
           0.4,
           "rgb(254,224,144)"
          ],
          [
           0.5,
           "rgb(224,243,248)"
          ],
          [
           0.6,
           "rgb(171,217,233)"
          ],
          [
           1,
           "rgb(49,54,149)"
          ]
         ],
         "type": "heatmap",
         "uid": "260a5f21-2e6c-4300-813e-9ed197ae9713",
         "x": [
          "No actor",
          "Government and state security services",
          "Rebel Groups",
          "Political Militias",
          "Identity Militias",
          "Rioters",
          "Protestors",
          "Civilians",
          "External/other forces"
         ],
         "y": [
          "Government and state security services",
          "Rebel Groups",
          "Political Militias",
          "Identity Militias",
          "Rioters",
          "Protestors",
          "External/other forces"
         ],
         "z": [
          [
           0.006493506493506494,
           0,
           0.0016233766233766235,
           0.0016233766233766235,
           0,
           0,
           0,
           0.006493506493506494,
           0.004058441558441558
          ],
          [
           0.0008116883116883117,
           0.017045454545454544,
           0,
           0,
           0.0008116883116883117,
           0,
           0,
           0.0016233766233766235,
           0
          ],
          [
           0.003246753246753247,
           0.030032467532467532,
           0.0008116883116883117,
           0.0016233766233766235,
           0,
           0.0008116883116883117,
           0,
           0.025162337662337664,
           0.0008116883116883117
          ],
          [
           0,
           0,
           0,
           0,
           0.003246753246753247,
           0,
           0,
           0.033279220779220776,
           0
          ],
          [
           0.028409090909090908,
           0.05519480519480519,
           0,
           0,
           0,
           0.010551948051948052,
           0,
           0.017045454545454544,
           0.0008116883116883117
          ],
          [
           0.6964285714285714,
           0.048701298701298704,
           0,
           0.0008116883116883117,
           0,
           0,
           0.0016233766233766235,
           0,
           0
          ],
          [
           0.0008116883116883117,
           0,
           0,
           0,
           0,
           0,
           0,
           0,
           0
          ]
         ]
        },
        {
         "colorbar": {
          "title": {
           "text": "Normalized Frequency"
          }
         },
         "colorscale": [
          [
           0,
           "rgb(165,0,38)"
          ],
          [
           0.005,
           "rgb(215,48,39)"
          ],
          [
           0.2,
           "rgb(244,109,67)"
          ],
          [
           0.3,
           "rgb(253,174,97)"
          ],
          [
           0.4,
           "rgb(254,224,144)"
          ],
          [
           0.5,
           "rgb(224,243,248)"
          ],
          [
           0.6,
           "rgb(171,217,233)"
          ],
          [
           1,
           "rgb(49,54,149)"
          ]
         ],
         "type": "heatmap",
         "uid": "36e6bff5-94dd-4b70-8a1e-475f776bcbae",
         "x": [
          "No actor",
          "Government and state security services",
          "Rebel Groups",
          "Political Militias",
          "Identity Militias",
          "Rioters",
          "Protestors",
          "Civilians",
          "External/other forces"
         ],
         "y": [
          "Government and state security services",
          "Rebel Groups",
          "Political Militias",
          "Identity Militias",
          "Rioters",
          "Protestors"
         ],
         "z": [
          [
           0.0016474464579901153,
           0,
           0.004942339373970346,
           0.006589785831960461,
           0,
           0,
           0,
           0.009060955518945634,
           0
          ],
          [
           0,
           0.002471169686985173,
           0,
           0,
           0,
           0,
           0,
           0.005766062602965404,
           0
          ],
          [
           0.0032948929159802307,
           0.009060955518945634,
           0,
           0.0008237232289950577,
           0,
           0,
           0,
           0.018945634266886325,
           0.0008237232289950577
          ],
          [
           0,
           0.0032948929159802307,
           0,
           0.0008237232289950577,
           0.011532125205930808,
           0,
           0,
           0.01070840197693575,
           0
          ],
          [
           0.009884678747940691,
           0.0642504118616145,
           0,
           0,
           0,
           0.009884678747940691,
           0,
           0.01070840197693575,
           0
          ],
          [
           0.7322899505766063,
           0.0815485996705107,
           0,
           0.0008237232289950577,
           0,
           0,
           0.0008237232289950577,
           0,
           0
          ]
         ]
        },
        {
         "colorbar": {
          "title": {
           "text": "Normalized Frequency"
          }
         },
         "colorscale": [
          [
           0,
           "rgb(165,0,38)"
          ],
          [
           0.005,
           "rgb(215,48,39)"
          ],
          [
           0.2,
           "rgb(244,109,67)"
          ],
          [
           0.3,
           "rgb(253,174,97)"
          ],
          [
           0.4,
           "rgb(254,224,144)"
          ],
          [
           0.5,
           "rgb(224,243,248)"
          ],
          [
           0.6,
           "rgb(171,217,233)"
          ],
          [
           1,
           "rgb(49,54,149)"
          ]
         ],
         "type": "heatmap",
         "uid": "a5179b1f-aa61-4ada-91df-40dfbd8a99da",
         "x": [
          "No actor",
          "Government and state security services",
          "Rebel Groups",
          "Political Militias",
          "Identity Militias",
          "Rioters",
          "Protestors",
          "Civilians",
          "External/other forces"
         ],
         "y": [
          "Government and state security services",
          "Rebel Groups",
          "Political Militias",
          "Identity Militias",
          "Rioters",
          "Protestors"
         ],
         "z": [
          [
           0,
           0,
           0.0008431703204047217,
           0,
           0,
           0,
           0,
           0.005902192242833052,
           0.024451939291736932
          ],
          [
           0,
           0.021079258010118045,
           0,
           0,
           0,
           0,
           0,
           0.0016863406408094434,
           0
          ],
          [
           0,
           0.026981450252951095,
           0,
           0.003372681281618887,
           0,
           0,
           0,
           0.012647554806070826,
           0.0008431703204047217
          ],
          [
           0,
           0.0016863406408094434,
           0,
           0,
           0.003372681281618887,
           0,
           0,
           0.012647554806070826,
           0
          ],
          [
           0.02782462057335582,
           0.0893760539629005,
           0,
           0,
           0,
           0.01517706576728499,
           0.0008431703204047217,
           0.006745362563237774,
           0
          ],
          [
           0.7074198988195616,
           0.03625632377740304,
           0,
           0,
           0,
           0.0008431703204047217,
           0,
           0,
           0
          ]
         ]
        },
        {
         "colorbar": {
          "title": {
           "text": "Normalized Frequency"
          }
         },
         "colorscale": [
          [
           0,
           "rgb(165,0,38)"
          ],
          [
           0.005,
           "rgb(215,48,39)"
          ],
          [
           0.2,
           "rgb(244,109,67)"
          ],
          [
           0.3,
           "rgb(253,174,97)"
          ],
          [
           0.4,
           "rgb(254,224,144)"
          ],
          [
           0.5,
           "rgb(224,243,248)"
          ],
          [
           0.6,
           "rgb(171,217,233)"
          ],
          [
           1,
           "rgb(49,54,149)"
          ]
         ],
         "type": "heatmap",
         "uid": "a775d159-78bd-45d0-92c5-03be73114dc9",
         "x": [
          "No actor",
          "Government and state security services",
          "Rebel Groups",
          "Political Militias",
          "Identity Militias",
          "Rioters",
          "Civilians",
          "External/other forces"
         ],
         "y": [
          "Government and state security services",
          "Rebel Groups",
          "Political Militias",
          "Identity Militias",
          "Rioters",
          "Protestors",
          "External/other forces"
         ],
         "z": [
          [
           0.003404255319148936,
           0,
           0.000851063829787234,
           0.000851063829787234,
           0,
           0,
           0.005957446808510639,
           0
          ],
          [
           0.002553191489361702,
           0.02127659574468085,
           0,
           0,
           0,
           0,
           0.005106382978723404,
           0
          ],
          [
           0.001702127659574468,
           0.011063829787234043,
           0,
           0.00425531914893617,
           0,
           0,
           0.02468085106382979,
           0
          ],
          [
           0,
           0.000851063829787234,
           0,
           0.001702127659574468,
           0.000851063829787234,
           0,
           0.005106382978723404,
           0
          ],
          [
           0.04,
           0.09361702127659574,
           0,
           0,
           0,
           0.05191489361702128,
           0.02127659574468085,
           0.000851063829787234
          ],
          [
           0.6382978723404256,
           0.06127659574468085,
           0,
           0,
           0,
           0,
           0,
           0
          ],
          [
           0,
           0.002553191489361702,
           0,
           0,
           0,
           0,
           0,
           0
          ]
         ]
        },
        {
         "colorbar": {
          "title": {
           "text": "Normalized Frequency"
          }
         },
         "colorscale": [
          [
           0,
           "rgb(165,0,38)"
          ],
          [
           0.005,
           "rgb(215,48,39)"
          ],
          [
           0.2,
           "rgb(244,109,67)"
          ],
          [
           0.3,
           "rgb(253,174,97)"
          ],
          [
           0.4,
           "rgb(254,224,144)"
          ],
          [
           0.5,
           "rgb(224,243,248)"
          ],
          [
           0.6,
           "rgb(171,217,233)"
          ],
          [
           1,
           "rgb(49,54,149)"
          ]
         ],
         "type": "heatmap",
         "uid": "287c0a39-8c40-481f-a19e-627fb38199c2",
         "x": [
          "No actor",
          "Government and state security services",
          "Political Militias",
          "Identity Militias",
          "Rioters",
          "Protestors",
          "Civilians",
          "External/other forces"
         ],
         "y": [
          "Government and state security services",
          "Rebel Groups",
          "Political Militias",
          "Identity Militias",
          "Rioters",
          "Protestors",
          "External/other forces"
         ],
         "z": [
          [
           0.0051325919589392645,
           0,
           0.001710863986313088,
           0,
           0,
           0.000855431993156544,
           0.0025662959794696323,
           0.04448246364414029
          ],
          [
           0.00427715996578272,
           0.007698887938408896,
           0,
           0,
           0,
           0,
           0.00427715996578272,
           0
          ],
          [
           0.000855431993156544,
           0.018819503849443968,
           0.001710863986313088,
           0,
           0.000855431993156544,
           0.000855431993156544,
           0.017964071856287425,
           0
          ],
          [
           0,
           0,
           0,
           0.00427715996578272,
           0,
           0,
           0.005988023952095809,
           0
          ],
          [
           0.04790419161676647,
           0.04790419161676647,
           0,
           0,
           0.011120615911035072,
           0.000855431993156544,
           0.016253207869974338,
           0
          ],
          [
           0.7031650983746792,
           0.04790419161676647,
           0,
           0,
           0,
           0,
           0,
           0
          ],
          [
           0.000855431993156544,
           0.000855431993156544,
           0,
           0,
           0,
           0,
           0.000855431993156544,
           0
          ]
         ]
        },
        {
         "colorbar": {
          "title": {
           "text": "Normalized Frequency"
          }
         },
         "colorscale": [
          [
           0,
           "rgb(165,0,38)"
          ],
          [
           0.005,
           "rgb(215,48,39)"
          ],
          [
           0.2,
           "rgb(244,109,67)"
          ],
          [
           0.3,
           "rgb(253,174,97)"
          ],
          [
           0.4,
           "rgb(254,224,144)"
          ],
          [
           0.5,
           "rgb(224,243,248)"
          ],
          [
           0.6,
           "rgb(171,217,233)"
          ],
          [
           1,
           "rgb(49,54,149)"
          ]
         ],
         "type": "heatmap",
         "uid": "297bcf2e-2db1-47a4-8e50-82288ad1ef91",
         "x": [
          "No actor",
          "Government and state security services",
          "Political Militias",
          "Identity Militias",
          "Rioters",
          "Protestors",
          "Civilians",
          "External/other forces"
         ],
         "y": [
          "Government and state security services",
          "Rebel Groups",
          "Political Militias",
          "Identity Militias",
          "Rioters",
          "Protestors",
          "External/other forces"
         ],
         "z": [
          [
           0.0026086956521739132,
           0,
           0.0008695652173913044,
           0.0008695652173913044,
           0,
           0.010434782608695653,
           0.00608695652173913,
           0.0008695652173913044
          ],
          [
           0.0052173913043478265,
           0.011304347826086957,
           0,
           0,
           0,
           0,
           0.0052173913043478265,
           0
          ],
          [
           0.0034782608695652175,
           0.02,
           0,
           0,
           0,
           0,
           0.01217391304347826,
           0.0008695652173913044
          ],
          [
           0,
           0.0008695652173913044,
           0,
           0.0026086956521739132,
           0,
           0,
           0.011304347826086957,
           0
          ],
          [
           0.02434782608695652,
           0.13391304347826086,
           0,
           0,
           0.006956521739130435,
           0.0008695652173913044,
           0.01652173913043478,
           0
          ],
          [
           0.6295652173913043,
           0.08956521739130435,
           0,
           0,
           0,
           0,
           0,
           0
          ],
          [
           0,
           0.0034782608695652175,
           0,
           0,
           0,
           0,
           0,
           0
          ]
         ]
        },
        {
         "colorbar": {
          "title": {
           "text": "Normalized Frequency"
          }
         },
         "colorscale": [
          [
           0,
           "rgb(165,0,38)"
          ],
          [
           0.005,
           "rgb(215,48,39)"
          ],
          [
           0.2,
           "rgb(244,109,67)"
          ],
          [
           0.3,
           "rgb(253,174,97)"
          ],
          [
           0.4,
           "rgb(254,224,144)"
          ],
          [
           0.5,
           "rgb(224,243,248)"
          ],
          [
           0.6,
           "rgb(171,217,233)"
          ],
          [
           1,
           "rgb(49,54,149)"
          ]
         ],
         "type": "heatmap",
         "uid": "b83e84ad-dec4-418a-a52e-bcf49448189a",
         "x": [
          "No actor",
          "Government and state security services",
          "Political Militias",
          "Identity Militias",
          "Rioters",
          "Protestors",
          "Civilians",
          "External/other forces"
         ],
         "y": [
          "Government and state security services",
          "Rebel Groups",
          "Political Militias",
          "Identity Militias",
          "Rioters",
          "Protestors",
          "External/other forces"
         ],
         "z": [
          [
           0.0045045045045045045,
           0,
           0,
           0,
           0,
           0.0009009009009009009,
           0.005405405405405406,
           0.002702702702702703
          ],
          [
           0,
           0.013513513513513514,
           0,
           0,
           0,
           0,
           0.0045045045045045045,
           0
          ],
          [
           0.0018018018018018018,
           0.04684684684684685,
           0,
           0.0009009009009009009,
           0,
           0,
           0.027927927927927927,
           0
          ],
          [
           0,
           0.002702702702702703,
           0,
           0.009009009009009009,
           0,
           0,
           0.027927927927927927,
           0
          ],
          [
           0.011711711711711712,
           0.062162162162162166,
           0,
           0,
           0.017117117117117116,
           0,
           0.01981981981981982,
           0
          ],
          [
           0.6774774774774774,
           0.055855855855855854,
           0.0009009009009009009,
           0,
           0,
           0.0036036036036036037,
           0,
           0
          ],
          [
           0.0009009009009009009,
           0.0018018018018018018,
           0,
           0,
           0,
           0,
           0,
           0
          ]
         ]
        },
        {
         "colorbar": {
          "title": {
           "text": "Normalized Frequency"
          }
         },
         "colorscale": [
          [
           0,
           "rgb(165,0,38)"
          ],
          [
           0.005,
           "rgb(215,48,39)"
          ],
          [
           0.2,
           "rgb(244,109,67)"
          ],
          [
           0.3,
           "rgb(253,174,97)"
          ],
          [
           0.4,
           "rgb(254,224,144)"
          ],
          [
           0.5,
           "rgb(224,243,248)"
          ],
          [
           0.6,
           "rgb(171,217,233)"
          ],
          [
           1,
           "rgb(49,54,149)"
          ]
         ],
         "type": "heatmap",
         "uid": "9eb3dff6-d0c9-49f0-9fa8-b8465463e4da",
         "x": [
          "No actor",
          "Government and state security services",
          "Rebel Groups",
          "Political Militias",
          "Identity Militias",
          "Rioters",
          "Protestors",
          "Civilians"
         ],
         "y": [
          "Government and state security services",
          "Rebel Groups",
          "Political Militias",
          "Identity Militias",
          "Rioters",
          "Protestors",
          "External/other forces"
         ],
         "z": [
          [
           0.0009124087591240876,
           0,
           0.0018248175182481751,
           0.005474452554744526,
           0,
           0,
           0,
           0.004562043795620438
          ],
          [
           0.0009124087591240876,
           0.014598540145985401,
           0,
           0,
           0,
           0,
           0,
           0.008211678832116789
          ],
          [
           0,
           0.013686131386861315,
           0,
           0.0018248175182481751,
           0,
           0,
           0.0009124087591240876,
           0.01916058394160584
          ],
          [
           0,
           0.0009124087591240876,
           0,
           0.0009124087591240876,
           0.002737226277372263,
           0,
           0,
           0.0036496350364963502
          ],
          [
           0.016423357664233577,
           0.07755474452554745,
           0,
           0,
           0,
           0.02645985401459854,
           0.0009124087591240876,
           0.013686131386861315
          ],
          [
           0.718065693430657,
           0.04927007299270073,
           0,
           0,
           0,
           0,
           0.0018248175182481751,
           0
          ],
          [
           0,
           0.01551094890510949,
           0,
           0,
           0,
           0,
           0,
           0
          ]
         ]
        },
        {
         "colorbar": {
          "title": {
           "text": "Normalized Frequency"
          }
         },
         "colorscale": [
          [
           0,
           "rgb(165,0,38)"
          ],
          [
           0.005,
           "rgb(215,48,39)"
          ],
          [
           0.2,
           "rgb(244,109,67)"
          ],
          [
           0.3,
           "rgb(253,174,97)"
          ],
          [
           0.4,
           "rgb(254,224,144)"
          ],
          [
           0.5,
           "rgb(224,243,248)"
          ],
          [
           0.6,
           "rgb(171,217,233)"
          ],
          [
           1,
           "rgb(49,54,149)"
          ]
         ],
         "type": "heatmap",
         "uid": "565085c3-e236-452b-a458-d65023ba8e1e",
         "x": [
          "No actor",
          "Government and state security services",
          "Political Militias",
          "Identity Militias",
          "Rioters",
          "Protestors",
          "Civilians",
          "External/other forces"
         ],
         "y": [
          "Government and state security services",
          "Rebel Groups",
          "Political Militias",
          "Identity Militias",
          "Rioters",
          "Protestors",
          "External/other forces"
         ],
         "z": [
          [
           0,
           0,
           0,
           0,
           0,
           0,
           0.005676442762535478,
           0
          ],
          [
           0.005676442762535478,
           0.020813623462630087,
           0,
           0,
           0,
           0,
           0.007568590350047304,
           0.000946073793755913
          ],
          [
           0.003784295175023652,
           0.01608325449385052,
           0.005676442762535478,
           0,
           0,
           0,
           0.020813623462630087,
           0
          ],
          [
           0.001892147587511826,
           0.000946073793755913,
           0,
           0.004730368968779565,
           0,
           0,
           0.01229895931882687,
           0
          ],
          [
           0.02554399243140965,
           0.10406811731315042,
           0,
           0,
           0.03595080416272469,
           0.000946073793755913,
           0.013245033112582781,
           0.002838221381267739
          ],
          [
           0.6433301797540208,
           0.04446546830652791,
           0,
           0,
           0,
           0.001892147587511826,
           0,
           0
          ],
          [
           0,
           0.019867549668874173,
           0,
           0,
           0,
           0,
           0.000946073793755913,
           0
          ]
         ]
        },
        {
         "colorbar": {
          "title": {
           "text": "Normalized Frequency"
          }
         },
         "colorscale": [
          [
           0,
           "rgb(165,0,38)"
          ],
          [
           0.005,
           "rgb(215,48,39)"
          ],
          [
           0.2,
           "rgb(244,109,67)"
          ],
          [
           0.3,
           "rgb(253,174,97)"
          ],
          [
           0.4,
           "rgb(254,224,144)"
          ],
          [
           0.5,
           "rgb(224,243,248)"
          ],
          [
           0.6,
           "rgb(171,217,233)"
          ],
          [
           1,
           "rgb(49,54,149)"
          ]
         ],
         "type": "heatmap",
         "uid": "04a0fb9b-de46-44a3-953d-8dbc7d72b8ec",
         "x": [
          "No actor",
          "Government and state security services",
          "Rebel Groups",
          "Political Militias",
          "Identity Militias",
          "Rioters",
          "Protestors",
          "Civilians",
          "External/other forces"
         ],
         "y": [
          "Government and state security services",
          "Rebel Groups",
          "Political Militias",
          "Identity Militias",
          "Rioters",
          "Protestors",
          "External/other forces"
         ],
         "z": [
          [
           0.005714285714285714,
           0,
           0.0009523809523809524,
           0.0019047619047619048,
           0,
           0,
           0,
           0.007619047619047619,
           0.018095238095238095
          ],
          [
           0.0038095238095238095,
           0.014285714285714285,
           0,
           0,
           0,
           0,
           0,
           0.0038095238095238095,
           0
          ],
          [
           0.002857142857142857,
           0.013333333333333334,
           0,
           0.0019047619047619048,
           0,
           0,
           0.0009523809523809524,
           0.025714285714285714,
           0.0009523809523809524
          ],
          [
           0,
           0.0009523809523809524,
           0,
           0,
           0.0009523809523809524,
           0,
           0,
           0.008571428571428572,
           0
          ],
          [
           0.022857142857142857,
           0.05238095238095238,
           0,
           0,
           0,
           0.02095238095238095,
           0.002857142857142857,
           0.017142857142857144,
           0
          ],
          [
           0.7152380952380952,
           0.05523809523809524,
           0,
           0,
           0,
           0,
           0,
           0,
           0
          ],
          [
           0,
           0.0009523809523809524,
           0,
           0,
           0,
           0,
           0,
           0,
           0
          ]
         ]
        },
        {
         "colorbar": {
          "title": {
           "text": "Normalized Frequency"
          }
         },
         "colorscale": [
          [
           0,
           "rgb(165,0,38)"
          ],
          [
           0.005,
           "rgb(215,48,39)"
          ],
          [
           0.2,
           "rgb(244,109,67)"
          ],
          [
           0.3,
           "rgb(253,174,97)"
          ],
          [
           0.4,
           "rgb(254,224,144)"
          ],
          [
           0.5,
           "rgb(224,243,248)"
          ],
          [
           0.6,
           "rgb(171,217,233)"
          ],
          [
           1,
           "rgb(49,54,149)"
          ]
         ],
         "type": "heatmap",
         "uid": "c87f15c3-81c0-48a7-8f44-fb72567fab87",
         "x": [
          "No actor",
          "Government and state security services",
          "Political Militias",
          "Identity Militias",
          "Rioters",
          "Protestors",
          "Civilians"
         ],
         "y": [
          "Government and state security services",
          "Rebel Groups",
          "Political Militias",
          "Identity Militias",
          "Rioters",
          "Protestors"
         ],
         "z": [
          [
           0.002859866539561487,
           0,
           0.005719733079122974,
           0,
           0,
           0.0019065776930409914,
           0.0019065776930409914
          ],
          [
           0.00667302192564347,
           0.0219256434699714,
           0,
           0,
           0,
           0,
           0.0076263107721639654
          ],
          [
           0.0019065776930409914,
           0.004766444232602479,
           0.0019065776930409914,
           0,
           0,
           0,
           0.027645376549094377
          ],
          [
           0,
           0,
           0,
           0.0038131553860819827,
           0,
           0,
           0.004766444232602479
          ],
          [
           0.04575786463298379,
           0.052430886558627265,
           0,
           0,
           0.023832221163012392,
           0.004766444232602479,
           0.010486177311725452
          ],
          [
           0.7102001906577693,
           0.05624404194470925,
           0,
           0,
           0.0009532888465204957,
           0.0019065776930409914,
           0
          ]
         ]
        },
        {
         "colorbar": {
          "title": {
           "text": "Normalized Frequency"
          }
         },
         "colorscale": [
          [
           0,
           "rgb(165,0,38)"
          ],
          [
           0.005,
           "rgb(215,48,39)"
          ],
          [
           0.2,
           "rgb(244,109,67)"
          ],
          [
           0.3,
           "rgb(253,174,97)"
          ],
          [
           0.4,
           "rgb(254,224,144)"
          ],
          [
           0.5,
           "rgb(224,243,248)"
          ],
          [
           0.6,
           "rgb(171,217,233)"
          ],
          [
           1,
           "rgb(49,54,149)"
          ]
         ],
         "type": "heatmap",
         "uid": "f7648096-3565-4451-9574-35602257eff0",
         "x": [
          "No actor",
          "Government and state security services",
          "Political Militias",
          "Identity Militias",
          "Rioters",
          "Protestors",
          "Civilians",
          "External/other forces"
         ],
         "y": [
          "Government and state security services",
          "Rebel Groups",
          "Political Militias",
          "Identity Militias",
          "Rioters",
          "Protestors",
          "External/other forces"
         ],
         "z": [
          [
           0.0009727626459143969,
           0,
           0,
           0,
           0,
           0.0019455252918287938,
           0.0048638132295719845,
           0.023346303501945526
          ],
          [
           0,
           0.0038910505836575876,
           0,
           0,
           0,
           0,
           0.0009727626459143969,
           0
          ],
          [
           0,
           0.023346303501945526,
           0.0038910505836575876,
           0,
           0,
           0,
           0.014591439688715954,
           0
          ],
          [
           0,
           0,
           0,
           0.0029182879377431907,
           0,
           0,
           0.010700389105058366,
           0
          ],
          [
           0.04474708171206226,
           0.06712062256809338,
           0,
           0,
           0.016536964980544747,
           0,
           0.010700389105058366,
           0.0009727626459143969
          ],
          [
           0.730544747081712,
           0.03599221789883268,
           0,
           0,
           0,
           0.0009727626459143969,
           0,
           0
          ],
          [
           0,
           0.0009727626459143969,
           0,
           0,
           0,
           0,
           0,
           0
          ]
         ]
        },
        {
         "colorbar": {
          "title": {
           "text": "Normalized Frequency"
          }
         },
         "colorscale": [
          [
           0,
           "rgb(165,0,38)"
          ],
          [
           0.005,
           "rgb(215,48,39)"
          ],
          [
           0.2,
           "rgb(244,109,67)"
          ],
          [
           0.3,
           "rgb(253,174,97)"
          ],
          [
           0.4,
           "rgb(254,224,144)"
          ],
          [
           0.5,
           "rgb(224,243,248)"
          ],
          [
           0.6,
           "rgb(171,217,233)"
          ],
          [
           1,
           "rgb(49,54,149)"
          ]
         ],
         "type": "heatmap",
         "uid": "3c174ebe-27ca-48d6-a329-bb14fbfd6007",
         "x": [
          "No actor",
          "Government and state security services",
          "Rebel Groups",
          "Political Militias",
          "Rioters",
          "Protestors",
          "Civilians",
          "External/other forces"
         ],
         "y": [
          "Government and state security services",
          "Rebel Groups",
          "Political Militias",
          "Identity Militias",
          "Rioters",
          "Protestors"
         ],
         "z": [
          [
           0.0019474196689386564,
           0,
           0,
           0.013631937682570594,
           0,
           0.02044790652385589,
           0.004868549172346641,
           0.0019474196689386564
          ],
          [
           0.0009737098344693282,
           0.006815968841285297,
           0,
           0,
           0,
           0,
           0.0009737098344693282,
           0
          ],
          [
           0.0009737098344693282,
           0.008763388510223954,
           0.0009737098344693282,
           0,
           0,
           0,
           0.007789678675754625,
           0
          ],
          [
           0.0019474196689386564,
           0,
           0,
           0,
           0,
           0,
           0.0009737098344693282,
           0
          ],
          [
           0.05063291139240506,
           0.11100292112950341,
           0,
           0,
           0.013631937682570594,
           0.0009737098344693282,
           0.005842259006815969,
           0
          ],
          [
           0.688412852969815,
           0.055501460564751706,
           0,
           0,
           0,
           0.0009737098344693282,
           0,
           0
          ]
         ]
        },
        {
         "colorbar": {
          "title": {
           "text": "Normalized Frequency"
          }
         },
         "colorscale": [
          [
           0,
           "rgb(165,0,38)"
          ],
          [
           0.005,
           "rgb(215,48,39)"
          ],
          [
           0.2,
           "rgb(244,109,67)"
          ],
          [
           0.3,
           "rgb(253,174,97)"
          ],
          [
           0.4,
           "rgb(254,224,144)"
          ],
          [
           0.5,
           "rgb(224,243,248)"
          ],
          [
           0.6,
           "rgb(171,217,233)"
          ],
          [
           1,
           "rgb(49,54,149)"
          ]
         ],
         "type": "heatmap",
         "uid": "ff870eef-a11c-486c-ba2f-99369b42fc6a",
         "x": [
          "No actor",
          "Government and state security services",
          "Political Militias",
          "Identity Militias",
          "Rioters",
          "Protestors",
          "Civilians",
          "External/other forces"
         ],
         "y": [
          "Government and state security services",
          "Rebel Groups",
          "Political Militias",
          "Identity Militias",
          "Rioters",
          "Protestors"
         ],
         "z": [
          [
           0.000998003992015968,
           0,
           0.006986027944111776,
           0,
           0,
           0.000998003992015968,
           0.001996007984031936,
           0.000998003992015968
          ],
          [
           0.000998003992015968,
           0.011976047904191617,
           0,
           0,
           0,
           0,
           0.00499001996007984,
           0
          ],
          [
           0.00499001996007984,
           0.012974051896207584,
           0.0029940119760479044,
           0,
           0,
           0,
           0.04091816367265469,
           0
          ],
          [
           0,
           0.000998003992015968,
           0,
           0.0029940119760479044,
           0,
           0,
           0.006986027944111776,
           0
          ],
          [
           0.023952095808383235,
           0.08083832335329341,
           0,
           0,
           0.029940119760479042,
           0.000998003992015968,
           0.03493013972055888,
           0
          ],
          [
           0.6497005988023952,
           0.07584830339321358,
           0,
           0,
           0.000998003992015968,
           0,
           0,
           0
          ]
         ]
        },
        {
         "colorbar": {
          "title": {
           "text": "Normalized Frequency"
          }
         },
         "colorscale": [
          [
           0,
           "rgb(165,0,38)"
          ],
          [
           0.005,
           "rgb(215,48,39)"
          ],
          [
           0.2,
           "rgb(244,109,67)"
          ],
          [
           0.3,
           "rgb(253,174,97)"
          ],
          [
           0.4,
           "rgb(254,224,144)"
          ],
          [
           0.5,
           "rgb(224,243,248)"
          ],
          [
           0.6,
           "rgb(171,217,233)"
          ],
          [
           1,
           "rgb(49,54,149)"
          ]
         ],
         "type": "heatmap",
         "uid": "3fd91e0d-b580-4c20-b892-ade5dd786973",
         "x": [
          "No actor",
          "Government and state security services",
          "Rebel Groups",
          "Rioters",
          "Protestors",
          "Civilians",
          "External/other forces"
         ],
         "y": [
          "Government and state security services",
          "Rebel Groups",
          "Political Militias",
          "Identity Militias",
          "Rioters",
          "Protestors"
         ],
         "z": [
          [
           0,
           0,
           0.001002004008016032,
           0,
           0,
           0,
           0.001002004008016032
          ],
          [
           0.001002004008016032,
           0.004008016032064128,
           0,
           0,
           0,
           0.004008016032064128,
           0
          ],
          [
           0.0070140280561122245,
           0.004008016032064128,
           0,
           0,
           0,
           0.013026052104208416,
           0
          ],
          [
           0,
           0,
           0,
           0,
           0,
           0.003006012024048096,
           0
          ],
          [
           0.06613226452905811,
           0.06613226452905811,
           0,
           0.013026052104208416,
           0,
           0.009018036072144289,
           0
          ],
          [
           0.782565130260521,
           0.022044088176352707,
           0,
           0,
           0.003006012024048096,
           0,
           0
          ]
         ]
        },
        {
         "colorbar": {
          "title": {
           "text": "Normalized Frequency"
          }
         },
         "colorscale": [
          [
           0,
           "rgb(165,0,38)"
          ],
          [
           0.005,
           "rgb(215,48,39)"
          ],
          [
           0.2,
           "rgb(244,109,67)"
          ],
          [
           0.3,
           "rgb(253,174,97)"
          ],
          [
           0.4,
           "rgb(254,224,144)"
          ],
          [
           0.5,
           "rgb(224,243,248)"
          ],
          [
           0.6,
           "rgb(171,217,233)"
          ],
          [
           1,
           "rgb(49,54,149)"
          ]
         ],
         "type": "heatmap",
         "uid": "9d90c85f-6121-4799-ba4a-6ca8a764b2f9",
         "x": [
          "No actor",
          "Government and state security services",
          "Rebel Groups",
          "Political Militias",
          "Identity Militias",
          "Rioters",
          "Protestors",
          "Civilians",
          "External/other forces"
         ],
         "y": [
          "Government and state security services",
          "Rebel Groups",
          "Political Militias",
          "Identity Militias",
          "Rioters",
          "Protestors"
         ],
         "z": [
          [
           0,
           0,
           0.002074688796680498,
           0.001037344398340249,
           0,
           0,
           0,
           0.002074688796680498,
           0.03630705394190872
          ],
          [
           0.005186721991701245,
           0.013485477178423237,
           0,
           0,
           0,
           0,
           0,
           0.001037344398340249,
           0
          ],
          [
           0.002074688796680498,
           0.024896265560165973,
           0.002074688796680498,
           0,
           0,
           0,
           0,
           0.015560165975103735,
           0
          ],
          [
           0,
           0,
           0,
           0,
           0.002074688796680498,
           0,
           0,
           0.008298755186721992,
           0
          ],
          [
           0.00933609958506224,
           0.04564315352697095,
           0,
           0,
           0,
           0.014522821576763486,
           0.001037344398340249,
           0.00933609958506224,
           0
          ],
          [
           0.7479253112033195,
           0.054979253112033194,
           0,
           0,
           0,
           0,
           0.001037344398340249,
           0,
           0
          ]
         ]
        },
        {
         "colorbar": {
          "title": {
           "text": "Normalized Frequency"
          }
         },
         "colorscale": [
          [
           0,
           "rgb(165,0,38)"
          ],
          [
           0.005,
           "rgb(215,48,39)"
          ],
          [
           0.2,
           "rgb(244,109,67)"
          ],
          [
           0.3,
           "rgb(253,174,97)"
          ],
          [
           0.4,
           "rgb(254,224,144)"
          ],
          [
           0.5,
           "rgb(224,243,248)"
          ],
          [
           0.6,
           "rgb(171,217,233)"
          ],
          [
           1,
           "rgb(49,54,149)"
          ]
         ],
         "type": "heatmap",
         "uid": "bcc844de-1479-4353-803d-b4df8091be45",
         "x": [
          "No actor",
          "Government and state security services",
          "Political Militias",
          "Identity Militias",
          "Rioters",
          "Civilians"
         ],
         "y": [
          "Government and state security services",
          "Rebel Groups",
          "Political Militias",
          "Identity Militias",
          "Rioters",
          "Protestors",
          "External/other forces"
         ],
         "z": [
          [
           0,
           0,
           0.002079002079002079,
           0,
           0,
           0.0031185031185031187
          ],
          [
           0,
           0.012474012474012475,
           0,
           0,
           0,
           0.007276507276507277
          ],
          [
           0.004158004158004158,
           0.016632016632016633,
           0,
           0,
           0,
           0.02390852390852391
          ],
          [
           0,
           0.0010395010395010396,
           0,
           0.002079002079002079,
           0,
           0.007276507276507277
          ],
          [
           0.031185031185031187,
           0.06652806652806653,
           0,
           0,
           0.016632016632016633,
           0.01975051975051975
          ],
          [
           0.7245322245322245,
           0.056133056133056136,
           0,
           0,
           0,
           0
          ],
          [
           0,
           0.004158004158004158,
           0,
           0,
           0,
           0.0010395010395010396
          ]
         ]
        },
        {
         "colorbar": {
          "title": {
           "text": "Normalized Frequency"
          }
         },
         "colorscale": [
          [
           0,
           "rgb(165,0,38)"
          ],
          [
           0.005,
           "rgb(215,48,39)"
          ],
          [
           0.2,
           "rgb(244,109,67)"
          ],
          [
           0.3,
           "rgb(253,174,97)"
          ],
          [
           0.4,
           "rgb(254,224,144)"
          ],
          [
           0.5,
           "rgb(224,243,248)"
          ],
          [
           0.6,
           "rgb(171,217,233)"
          ],
          [
           1,
           "rgb(49,54,149)"
          ]
         ],
         "type": "heatmap",
         "uid": "5a1969bc-7c95-499e-909b-4071860f073b",
         "x": [
          "No actor",
          "Government and state security services",
          "Rebel Groups",
          "Political Militias",
          "Rioters",
          "Protestors",
          "Civilians",
          "External/other forces"
         ],
         "y": [
          "Government and state security services",
          "Rebel Groups",
          "Political Militias",
          "Identity Militias",
          "Rioters",
          "Protestors",
          "External/other forces"
         ],
         "z": [
          [
           0.005574136008918618,
           0.0011148272017837235,
           0.002229654403567447,
           0.0011148272017837235,
           0,
           0,
           0.005574136008918618,
           0.0033444816053511705
          ],
          [
           0.002229654403567447,
           0.016722408026755852,
           0,
           0,
           0,
           0,
           0.002229654403567447,
           0
          ],
          [
           0,
           0.022296544035674472,
           0,
           0.004459308807134894,
           0,
           0,
           0.03901895206243032,
           0.0011148272017837235
          ],
          [
           0,
           0,
           0,
           0,
           0,
           0,
           0.002229654403567447,
           0
          ],
          [
           0.013377926421404682,
           0.045707915273132664,
           0,
           0,
           0.016722408026755852,
           0.002229654403567447,
           0.022296544035674472,
           0
          ],
          [
           0.6755852842809364,
           0.056856187290969896,
           0,
           0,
           0,
           0,
           0,
           0
          ],
          [
           0.0033444816053511705,
           0.054626532887402456,
           0,
           0,
           0,
           0,
           0,
           0
          ]
         ]
        },
        {
         "colorbar": {
          "title": {
           "text": "Normalized Frequency"
          }
         },
         "colorscale": [
          [
           0,
           "rgb(165,0,38)"
          ],
          [
           0.005,
           "rgb(215,48,39)"
          ],
          [
           0.2,
           "rgb(244,109,67)"
          ],
          [
           0.3,
           "rgb(253,174,97)"
          ],
          [
           0.4,
           "rgb(254,224,144)"
          ],
          [
           0.5,
           "rgb(224,243,248)"
          ],
          [
           0.6,
           "rgb(171,217,233)"
          ],
          [
           1,
           "rgb(49,54,149)"
          ]
         ],
         "type": "heatmap",
         "uid": "38a78974-a20b-49e7-95da-51f9f53df445",
         "x": [
          "No actor",
          "Government and state security services",
          "Rebel Groups",
          "Political Militias",
          "Identity Militias",
          "Rioters",
          "Civilians",
          "External/other forces"
         ],
         "y": [
          "Government and state security services",
          "Rebel Groups",
          "Political Militias",
          "Identity Militias",
          "Rioters",
          "Protestors",
          "External/other forces"
         ],
         "z": [
          [
           0.0012804097311139564,
           0,
           0.0012804097311139564,
           0.0012804097311139564,
           0,
           0,
           0,
           0.0038412291933418692
          ],
          [
           0.006402048655569782,
           0.015364916773367477,
           0,
           0.0012804097311139564,
           0,
           0,
           0.006402048655569782,
           0
          ],
          [
           0.0038412291933418692,
           0.01792573623559539,
           0,
           0.0012804097311139564,
           0,
           0,
           0.03713188220230474,
           0
          ],
          [
           0,
           0,
           0,
           0,
           0.002560819462227913,
           0,
           0.002560819462227913,
           0
          ],
          [
           0.040973111395646605,
           0.06017925736235595,
           0,
           0,
           0,
           0.07298335467349552,
           0.03329065300896287,
           0
          ],
          [
           0.6069142125480154,
           0.0793854033290653,
           0,
           0,
           0,
           0,
           0,
           0
          ],
          [
           0,
           0.002560819462227913,
           0,
           0,
           0,
           0,
           0.0012804097311139564,
           0
          ]
         ]
        },
        {
         "colorbar": {
          "title": {
           "text": "Normalized Frequency"
          }
         },
         "colorscale": [
          [
           0,
           "rgb(165,0,38)"
          ],
          [
           0.005,
           "rgb(215,48,39)"
          ],
          [
           0.2,
           "rgb(244,109,67)"
          ],
          [
           0.3,
           "rgb(253,174,97)"
          ],
          [
           0.4,
           "rgb(254,224,144)"
          ],
          [
           0.5,
           "rgb(224,243,248)"
          ],
          [
           0.6,
           "rgb(171,217,233)"
          ],
          [
           1,
           "rgb(49,54,149)"
          ]
         ],
         "type": "heatmap",
         "uid": "1ce11c0b-ccc3-4db8-b0ed-1a1d1a4399c3",
         "x": [
          "No actor",
          "Government and state security services",
          "Rebel Groups",
          "Political Militias",
          "Identity Militias",
          "Rioters",
          "Protestors",
          "Civilians"
         ],
         "y": [
          "Government and state security services",
          "Rebel Groups",
          "Political Militias",
          "Identity Militias",
          "Rioters",
          "Protestors"
         ],
         "z": [
          [
           0.0026595744680851063,
           0,
           0.003989361702127659,
           0.005319148936170213,
           0,
           0,
           0,
           0
          ],
          [
           0.0013297872340425532,
           0.02127659574468085,
           0,
           0,
           0,
           0,
           0,
           0.015957446808510637
          ],
          [
           0.0026595744680851063,
           0.017287234042553192,
           0,
           0.0013297872340425532,
           0,
           0,
           0,
           0.013297872340425532
          ],
          [
           0,
           0,
           0,
           0,
           0.0013297872340425532,
           0,
           0,
           0.003989361702127659
          ],
          [
           0.018617021276595744,
           0.0598404255319149,
           0,
           0,
           0,
           0.043882978723404256,
           0.003989361702127659,
           0.0199468085106383
          ],
          [
           0.711436170212766,
           0.05053191489361702,
           0,
           0,
           0,
           0,
           0.0013297872340425532,
           0
          ]
         ]
        },
        {
         "colorbar": {
          "title": {
           "text": "Normalized Frequency"
          }
         },
         "colorscale": [
          [
           0,
           "rgb(165,0,38)"
          ],
          [
           0.005,
           "rgb(215,48,39)"
          ],
          [
           0.2,
           "rgb(244,109,67)"
          ],
          [
           0.3,
           "rgb(253,174,97)"
          ],
          [
           0.4,
           "rgb(254,224,144)"
          ],
          [
           0.5,
           "rgb(224,243,248)"
          ],
          [
           0.6,
           "rgb(171,217,233)"
          ],
          [
           1,
           "rgb(49,54,149)"
          ]
         ],
         "type": "heatmap",
         "uid": "344454f5-93a7-4ed1-b43a-86c175ff1aba",
         "x": [
          "No actor",
          "Government and state security services",
          "Political Militias",
          "Identity Militias",
          "Rioters",
          "Civilians",
          "External/other forces"
         ],
         "y": [
          "Government and state security services",
          "Rebel Groups",
          "Political Militias",
          "Identity Militias",
          "Rioters",
          "Protestors"
         ],
         "z": [
          [
           0,
           0,
           0,
           0,
           0,
           0.006675567423230975,
           0.03337783711615487
          ],
          [
           0,
           0.004005340453938585,
           0,
           0,
           0,
           0.0013351134846461949,
           0
          ],
          [
           0.0053404539385847796,
           0.030707610146862484,
           0.0026702269692923898,
           0,
           0,
           0.03204272363150868,
           0.0013351134846461949
          ],
          [
           0,
           0,
           0,
           0.006675567423230975,
           0,
           0.012016021361815754,
           0
          ],
          [
           0.02403204272363151,
           0.08678237650200267,
           0,
           0,
           0.01602136181575434,
           0.018691588785046728,
           0
          ],
          [
           0.6635514018691588,
           0.05473965287049399,
           0,
           0,
           0,
           0,
           0
          ]
         ]
        },
        {
         "colorbar": {
          "title": {
           "text": "Normalized Frequency"
          }
         },
         "colorscale": [
          [
           0,
           "rgb(165,0,38)"
          ],
          [
           0.005,
           "rgb(215,48,39)"
          ],
          [
           0.2,
           "rgb(244,109,67)"
          ],
          [
           0.3,
           "rgb(253,174,97)"
          ],
          [
           0.4,
           "rgb(254,224,144)"
          ],
          [
           0.5,
           "rgb(224,243,248)"
          ],
          [
           0.6,
           "rgb(171,217,233)"
          ],
          [
           1,
           "rgb(49,54,149)"
          ]
         ],
         "type": "heatmap",
         "uid": "a112c785-53e4-4151-ac07-cfe1126c524e",
         "x": [
          "No actor",
          "Government and state security services",
          "Rebel Groups",
          "Political Militias",
          "Identity Militias",
          "Rioters",
          "Protestors",
          "Civilians"
         ],
         "y": [
          "Government and state security services",
          "Rebel Groups",
          "Political Militias",
          "Identity Militias",
          "Rioters",
          "Protestors"
         ],
         "z": [
          [
           0.0027662517289073307,
           0,
           0.004149377593360996,
           0.005532503457814661,
           0,
           0,
           0.0027662517289073307,
           0.005532503457814661
          ],
          [
           0.0027662517289073307,
           0.016597510373443983,
           0,
           0,
           0,
           0,
           0,
           0.008298755186721992
          ],
          [
           0.0027662517289073307,
           0.004149377593360996,
           0,
           0.0013831258644536654,
           0,
           0,
           0,
           0.012448132780082987
          ],
          [
           0,
           0,
           0,
           0,
           0.0013831258644536654,
           0,
           0,
           0.004149377593360996
          ],
          [
           0.02351313969571231,
           0.051175656984785614,
           0,
           0,
           0,
           0.011065006915629323,
           0,
           0.006915629322268326
          ],
          [
           0.7786998616874136,
           0.05255878284923928,
           0,
           0,
           0,
           0,
           0.0013831258644536654,
           0
          ]
         ]
        },
        {
         "colorbar": {
          "title": {
           "text": "Normalized Frequency"
          }
         },
         "colorscale": [
          [
           0,
           "rgb(165,0,38)"
          ],
          [
           0.005,
           "rgb(215,48,39)"
          ],
          [
           0.2,
           "rgb(244,109,67)"
          ],
          [
           0.3,
           "rgb(253,174,97)"
          ],
          [
           0.4,
           "rgb(254,224,144)"
          ],
          [
           0.5,
           "rgb(224,243,248)"
          ],
          [
           0.6,
           "rgb(171,217,233)"
          ],
          [
           1,
           "rgb(49,54,149)"
          ]
         ],
         "type": "heatmap",
         "uid": "c49a35f4-923f-4cae-8036-c33105aab997",
         "x": [
          "No actor",
          "Government and state security services",
          "Rebel Groups",
          "Political Militias",
          "Rioters",
          "Protestors",
          "Civilians",
          "External/other forces"
         ],
         "y": [
          "Government and state security services",
          "Rebel Groups",
          "Political Militias",
          "Identity Militias",
          "Rioters",
          "Protestors",
          "External/other forces"
         ],
         "z": [
          [
           0.0013831258644536654,
           0,
           0.0013831258644536654,
           0,
           0,
           0,
           0.008298755186721992,
           0.012448132780082987
          ],
          [
           0.0013831258644536654,
           0.016597510373443983,
           0,
           0,
           0,
           0,
           0.0027662517289073307,
           0.0013831258644536654
          ],
          [
           0.0027662517289073307,
           0.024896265560165973,
           0,
           0.0013831258644536654,
           0,
           0,
           0.02627939142461964,
           0
          ],
          [
           0,
           0,
           0,
           0,
           0,
           0,
           0.004149377593360996,
           0
          ],
          [
           0.017980636237897647,
           0.03872752420470263,
           0,
           0,
           0.022130013831258646,
           0,
           0.011065006915629323,
           0
          ],
          [
           0.7565698478561549,
           0.04426002766251729,
           0,
           0,
           0,
           0.0013831258644536654,
           0,
           0
          ],
          [
           0.0027662517289073307,
           0,
           0,
           0,
           0,
           0,
           0,
           0
          ]
         ]
        }
       ],
       "layout": {
        "autosize": true,
        "sliders": [
         {
          "active": 0,
          "currentvalue": {
           "prefix": ""
          },
          "name": "Month",
          "pad": {
           "t": 37
          },
          "steps": [
           {
            "args": [
             "visible",
             [
              true,
              false,
              false,
              false,
              false,
              false,
              false,
              false,
              false,
              false,
              false,
              false,
              false,
              false,
              false,
              false,
              false,
              false,
              false,
              false,
              false,
              false,
              false,
              false,
              false,
              false,
              false,
              false,
              false,
              false,
              false,
              false,
              false,
              false,
              false,
              false,
              false
             ]
            ],
            "label": "Month 1",
            "method": "restyle"
           },
           {
            "args": [
             "visible",
             [
              false,
              true,
              false,
              false,
              false,
              false,
              false,
              false,
              false,
              false,
              false,
              false,
              false,
              false,
              false,
              false,
              false,
              false,
              false,
              false,
              false,
              false,
              false,
              false,
              false,
              false,
              false,
              false,
              false,
              false,
              false,
              false,
              false,
              false,
              false,
              false,
              false
             ]
            ],
            "label": "Month 2",
            "method": "restyle"
           },
           {
            "args": [
             "visible",
             [
              false,
              false,
              true,
              false,
              false,
              false,
              false,
              false,
              false,
              false,
              false,
              false,
              false,
              false,
              false,
              false,
              false,
              false,
              false,
              false,
              false,
              false,
              false,
              false,
              false,
              false,
              false,
              false,
              false,
              false,
              false,
              false,
              false,
              false,
              false,
              false,
              false
             ]
            ],
            "label": "Month 3",
            "method": "restyle"
           },
           {
            "args": [
             "visible",
             [
              false,
              false,
              false,
              true,
              false,
              false,
              false,
              false,
              false,
              false,
              false,
              false,
              false,
              false,
              false,
              false,
              false,
              false,
              false,
              false,
              false,
              false,
              false,
              false,
              false,
              false,
              false,
              false,
              false,
              false,
              false,
              false,
              false,
              false,
              false,
              false,
              false
             ]
            ],
            "label": "Month 4",
            "method": "restyle"
           },
           {
            "args": [
             "visible",
             [
              false,
              false,
              false,
              false,
              true,
              false,
              false,
              false,
              false,
              false,
              false,
              false,
              false,
              false,
              false,
              false,
              false,
              false,
              false,
              false,
              false,
              false,
              false,
              false,
              false,
              false,
              false,
              false,
              false,
              false,
              false,
              false,
              false,
              false,
              false,
              false,
              false
             ]
            ],
            "label": "Month 5",
            "method": "restyle"
           },
           {
            "args": [
             "visible",
             [
              false,
              false,
              false,
              false,
              false,
              true,
              false,
              false,
              false,
              false,
              false,
              false,
              false,
              false,
              false,
              false,
              false,
              false,
              false,
              false,
              false,
              false,
              false,
              false,
              false,
              false,
              false,
              false,
              false,
              false,
              false,
              false,
              false,
              false,
              false,
              false,
              false
             ]
            ],
            "label": "Month 6",
            "method": "restyle"
           },
           {
            "args": [
             "visible",
             [
              false,
              false,
              false,
              false,
              false,
              false,
              true,
              false,
              false,
              false,
              false,
              false,
              false,
              false,
              false,
              false,
              false,
              false,
              false,
              false,
              false,
              false,
              false,
              false,
              false,
              false,
              false,
              false,
              false,
              false,
              false,
              false,
              false,
              false,
              false,
              false,
              false
             ]
            ],
            "label": "Month 7",
            "method": "restyle"
           },
           {
            "args": [
             "visible",
             [
              false,
              false,
              false,
              false,
              false,
              false,
              false,
              true,
              false,
              false,
              false,
              false,
              false,
              false,
              false,
              false,
              false,
              false,
              false,
              false,
              false,
              false,
              false,
              false,
              false,
              false,
              false,
              false,
              false,
              false,
              false,
              false,
              false,
              false,
              false,
              false,
              false
             ]
            ],
            "label": "Month 8",
            "method": "restyle"
           },
           {
            "args": [
             "visible",
             [
              false,
              false,
              false,
              false,
              false,
              false,
              false,
              false,
              true,
              false,
              false,
              false,
              false,
              false,
              false,
              false,
              false,
              false,
              false,
              false,
              false,
              false,
              false,
              false,
              false,
              false,
              false,
              false,
              false,
              false,
              false,
              false,
              false,
              false,
              false,
              false,
              false
             ]
            ],
            "label": "Month 9",
            "method": "restyle"
           },
           {
            "args": [
             "visible",
             [
              false,
              false,
              false,
              false,
              false,
              false,
              false,
              false,
              false,
              true,
              false,
              false,
              false,
              false,
              false,
              false,
              false,
              false,
              false,
              false,
              false,
              false,
              false,
              false,
              false,
              false,
              false,
              false,
              false,
              false,
              false,
              false,
              false,
              false,
              false,
              false,
              false
             ]
            ],
            "label": "Month 10",
            "method": "restyle"
           },
           {
            "args": [
             "visible",
             [
              false,
              false,
              false,
              false,
              false,
              false,
              false,
              false,
              false,
              false,
              true,
              false,
              false,
              false,
              false,
              false,
              false,
              false,
              false,
              false,
              false,
              false,
              false,
              false,
              false,
              false,
              false,
              false,
              false,
              false,
              false,
              false,
              false,
              false,
              false,
              false,
              false
             ]
            ],
            "label": "Month 11",
            "method": "restyle"
           },
           {
            "args": [
             "visible",
             [
              false,
              false,
              false,
              false,
              false,
              false,
              false,
              false,
              false,
              false,
              false,
              true,
              false,
              false,
              false,
              false,
              false,
              false,
              false,
              false,
              false,
              false,
              false,
              false,
              false,
              false,
              false,
              false,
              false,
              false,
              false,
              false,
              false,
              false,
              false,
              false,
              false
             ]
            ],
            "label": "Month 12",
            "method": "restyle"
           },
           {
            "args": [
             "visible",
             [
              false,
              false,
              false,
              false,
              false,
              false,
              false,
              false,
              false,
              false,
              false,
              false,
              true,
              false,
              false,
              false,
              false,
              false,
              false,
              false,
              false,
              false,
              false,
              false,
              false,
              false,
              false,
              false,
              false,
              false,
              false,
              false,
              false,
              false,
              false,
              false,
              false
             ]
            ],
            "label": "Month 13",
            "method": "restyle"
           },
           {
            "args": [
             "visible",
             [
              false,
              false,
              false,
              false,
              false,
              false,
              false,
              false,
              false,
              false,
              false,
              false,
              false,
              true,
              false,
              false,
              false,
              false,
              false,
              false,
              false,
              false,
              false,
              false,
              false,
              false,
              false,
              false,
              false,
              false,
              false,
              false,
              false,
              false,
              false,
              false,
              false
             ]
            ],
            "label": "Month 14",
            "method": "restyle"
           },
           {
            "args": [
             "visible",
             [
              false,
              false,
              false,
              false,
              false,
              false,
              false,
              false,
              false,
              false,
              false,
              false,
              false,
              false,
              true,
              false,
              false,
              false,
              false,
              false,
              false,
              false,
              false,
              false,
              false,
              false,
              false,
              false,
              false,
              false,
              false,
              false,
              false,
              false,
              false,
              false,
              false
             ]
            ],
            "label": "Month 15",
            "method": "restyle"
           },
           {
            "args": [
             "visible",
             [
              false,
              false,
              false,
              false,
              false,
              false,
              false,
              false,
              false,
              false,
              false,
              false,
              false,
              false,
              false,
              true,
              false,
              false,
              false,
              false,
              false,
              false,
              false,
              false,
              false,
              false,
              false,
              false,
              false,
              false,
              false,
              false,
              false,
              false,
              false,
              false,
              false
             ]
            ],
            "label": "Month 16",
            "method": "restyle"
           },
           {
            "args": [
             "visible",
             [
              false,
              false,
              false,
              false,
              false,
              false,
              false,
              false,
              false,
              false,
              false,
              false,
              false,
              false,
              false,
              false,
              true,
              false,
              false,
              false,
              false,
              false,
              false,
              false,
              false,
              false,
              false,
              false,
              false,
              false,
              false,
              false,
              false,
              false,
              false,
              false,
              false
             ]
            ],
            "label": "Month 17",
            "method": "restyle"
           },
           {
            "args": [
             "visible",
             [
              false,
              false,
              false,
              false,
              false,
              false,
              false,
              false,
              false,
              false,
              false,
              false,
              false,
              false,
              false,
              false,
              false,
              true,
              false,
              false,
              false,
              false,
              false,
              false,
              false,
              false,
              false,
              false,
              false,
              false,
              false,
              false,
              false,
              false,
              false,
              false,
              false
             ]
            ],
            "label": "Month 18",
            "method": "restyle"
           },
           {
            "args": [
             "visible",
             [
              false,
              false,
              false,
              false,
              false,
              false,
              false,
              false,
              false,
              false,
              false,
              false,
              false,
              false,
              false,
              false,
              false,
              false,
              true,
              false,
              false,
              false,
              false,
              false,
              false,
              false,
              false,
              false,
              false,
              false,
              false,
              false,
              false,
              false,
              false,
              false,
              false
             ]
            ],
            "label": "Month 19",
            "method": "restyle"
           },
           {
            "args": [
             "visible",
             [
              false,
              false,
              false,
              false,
              false,
              false,
              false,
              false,
              false,
              false,
              false,
              false,
              false,
              false,
              false,
              false,
              false,
              false,
              false,
              true,
              false,
              false,
              false,
              false,
              false,
              false,
              false,
              false,
              false,
              false,
              false,
              false,
              false,
              false,
              false,
              false,
              false
             ]
            ],
            "label": "Month 20",
            "method": "restyle"
           },
           {
            "args": [
             "visible",
             [
              false,
              false,
              false,
              false,
              false,
              false,
              false,
              false,
              false,
              false,
              false,
              false,
              false,
              false,
              false,
              false,
              false,
              false,
              false,
              false,
              true,
              false,
              false,
              false,
              false,
              false,
              false,
              false,
              false,
              false,
              false,
              false,
              false,
              false,
              false,
              false,
              false
             ]
            ],
            "label": "Month 21",
            "method": "restyle"
           },
           {
            "args": [
             "visible",
             [
              false,
              false,
              false,
              false,
              false,
              false,
              false,
              false,
              false,
              false,
              false,
              false,
              false,
              false,
              false,
              false,
              false,
              false,
              false,
              false,
              false,
              true,
              false,
              false,
              false,
              false,
              false,
              false,
              false,
              false,
              false,
              false,
              false,
              false,
              false,
              false,
              false
             ]
            ],
            "label": "Month 22",
            "method": "restyle"
           },
           {
            "args": [
             "visible",
             [
              false,
              false,
              false,
              false,
              false,
              false,
              false,
              false,
              false,
              false,
              false,
              false,
              false,
              false,
              false,
              false,
              false,
              false,
              false,
              false,
              false,
              false,
              true,
              false,
              false,
              false,
              false,
              false,
              false,
              false,
              false,
              false,
              false,
              false,
              false,
              false,
              false
             ]
            ],
            "label": "Month 23",
            "method": "restyle"
           },
           {
            "args": [
             "visible",
             [
              false,
              false,
              false,
              false,
              false,
              false,
              false,
              false,
              false,
              false,
              false,
              false,
              false,
              false,
              false,
              false,
              false,
              false,
              false,
              false,
              false,
              false,
              false,
              true,
              false,
              false,
              false,
              false,
              false,
              false,
              false,
              false,
              false,
              false,
              false,
              false,
              false
             ]
            ],
            "label": "Month 24",
            "method": "restyle"
           },
           {
            "args": [
             "visible",
             [
              false,
              false,
              false,
              false,
              false,
              false,
              false,
              false,
              false,
              false,
              false,
              false,
              false,
              false,
              false,
              false,
              false,
              false,
              false,
              false,
              false,
              false,
              false,
              false,
              true,
              false,
              false,
              false,
              false,
              false,
              false,
              false,
              false,
              false,
              false,
              false,
              false
             ]
            ],
            "label": "Month 25",
            "method": "restyle"
           },
           {
            "args": [
             "visible",
             [
              false,
              false,
              false,
              false,
              false,
              false,
              false,
              false,
              false,
              false,
              false,
              false,
              false,
              false,
              false,
              false,
              false,
              false,
              false,
              false,
              false,
              false,
              false,
              false,
              false,
              true,
              false,
              false,
              false,
              false,
              false,
              false,
              false,
              false,
              false,
              false,
              false
             ]
            ],
            "label": "Month 26",
            "method": "restyle"
           },
           {
            "args": [
             "visible",
             [
              false,
              false,
              false,
              false,
              false,
              false,
              false,
              false,
              false,
              false,
              false,
              false,
              false,
              false,
              false,
              false,
              false,
              false,
              false,
              false,
              false,
              false,
              false,
              false,
              false,
              false,
              true,
              false,
              false,
              false,
              false,
              false,
              false,
              false,
              false,
              false,
              false
             ]
            ],
            "label": "Month 27",
            "method": "restyle"
           },
           {
            "args": [
             "visible",
             [
              false,
              false,
              false,
              false,
              false,
              false,
              false,
              false,
              false,
              false,
              false,
              false,
              false,
              false,
              false,
              false,
              false,
              false,
              false,
              false,
              false,
              false,
              false,
              false,
              false,
              false,
              false,
              true,
              false,
              false,
              false,
              false,
              false,
              false,
              false,
              false,
              false
             ]
            ],
            "label": "Month 28",
            "method": "restyle"
           },
           {
            "args": [
             "visible",
             [
              false,
              false,
              false,
              false,
              false,
              false,
              false,
              false,
              false,
              false,
              false,
              false,
              false,
              false,
              false,
              false,
              false,
              false,
              false,
              false,
              false,
              false,
              false,
              false,
              false,
              false,
              false,
              false,
              true,
              false,
              false,
              false,
              false,
              false,
              false,
              false,
              false
             ]
            ],
            "label": "Month 29",
            "method": "restyle"
           },
           {
            "args": [
             "visible",
             [
              false,
              false,
              false,
              false,
              false,
              false,
              false,
              false,
              false,
              false,
              false,
              false,
              false,
              false,
              false,
              false,
              false,
              false,
              false,
              false,
              false,
              false,
              false,
              false,
              false,
              false,
              false,
              false,
              false,
              true,
              false,
              false,
              false,
              false,
              false,
              false,
              false
             ]
            ],
            "label": "Month 30",
            "method": "restyle"
           },
           {
            "args": [
             "visible",
             [
              false,
              false,
              false,
              false,
              false,
              false,
              false,
              false,
              false,
              false,
              false,
              false,
              false,
              false,
              false,
              false,
              false,
              false,
              false,
              false,
              false,
              false,
              false,
              false,
              false,
              false,
              false,
              false,
              false,
              false,
              true,
              false,
              false,
              false,
              false,
              false,
              false
             ]
            ],
            "label": "Month 31",
            "method": "restyle"
           },
           {
            "args": [
             "visible",
             [
              false,
              false,
              false,
              false,
              false,
              false,
              false,
              false,
              false,
              false,
              false,
              false,
              false,
              false,
              false,
              false,
              false,
              false,
              false,
              false,
              false,
              false,
              false,
              false,
              false,
              false,
              false,
              false,
              false,
              false,
              false,
              true,
              false,
              false,
              false,
              false,
              false
             ]
            ],
            "label": "Month 32",
            "method": "restyle"
           },
           {
            "args": [
             "visible",
             [
              false,
              false,
              false,
              false,
              false,
              false,
              false,
              false,
              false,
              false,
              false,
              false,
              false,
              false,
              false,
              false,
              false,
              false,
              false,
              false,
              false,
              false,
              false,
              false,
              false,
              false,
              false,
              false,
              false,
              false,
              false,
              false,
              true,
              false,
              false,
              false,
              false
             ]
            ],
            "label": "Month 33",
            "method": "restyle"
           },
           {
            "args": [
             "visible",
             [
              false,
              false,
              false,
              false,
              false,
              false,
              false,
              false,
              false,
              false,
              false,
              false,
              false,
              false,
              false,
              false,
              false,
              false,
              false,
              false,
              false,
              false,
              false,
              false,
              false,
              false,
              false,
              false,
              false,
              false,
              false,
              false,
              false,
              true,
              false,
              false,
              false
             ]
            ],
            "label": "Month 34",
            "method": "restyle"
           },
           {
            "args": [
             "visible",
             [
              false,
              false,
              false,
              false,
              false,
              false,
              false,
              false,
              false,
              false,
              false,
              false,
              false,
              false,
              false,
              false,
              false,
              false,
              false,
              false,
              false,
              false,
              false,
              false,
              false,
              false,
              false,
              false,
              false,
              false,
              false,
              false,
              false,
              false,
              true,
              false,
              false
             ]
            ],
            "label": "Month 35",
            "method": "restyle"
           },
           {
            "args": [
             "visible",
             [
              false,
              false,
              false,
              false,
              false,
              false,
              false,
              false,
              false,
              false,
              false,
              false,
              false,
              false,
              false,
              false,
              false,
              false,
              false,
              false,
              false,
              false,
              false,
              false,
              false,
              false,
              false,
              false,
              false,
              false,
              false,
              false,
              false,
              false,
              false,
              true,
              false
             ]
            ],
            "label": "Month 36",
            "method": "restyle"
           },
           {
            "args": [
             "visible",
             [
              false,
              false,
              false,
              false,
              false,
              false,
              false,
              false,
              false,
              false,
              false,
              false,
              false,
              false,
              false,
              false,
              false,
              false,
              false,
              false,
              false,
              false,
              false,
              false,
              false,
              false,
              false,
              false,
              false,
              false,
              false,
              false,
              false,
              false,
              false,
              false,
              true
             ]
            ],
            "label": "Month 37",
            "method": "restyle"
           }
          ],
          "y": 1.5
         }
        ],
        "title": {
         "text": " Plot#1: Monthwise Interaction table"
        },
        "xaxis": {
         "automargin": true,
         "title": {
          "text": "Actor 2"
         }
        },
        "yaxis": {
         "automargin": true,
         "title": {
          "text": "Actor 1"
         }
        }
       }
      },
      "text/html": [
       "<div id=\"6a5ca40b-441b-4cb5-9819-1924467c3c35\" style=\"height: 525px; width: 100%;\" class=\"plotly-graph-div\"></div><script type=\"text/javascript\">require([\"plotly\"], function(Plotly) { window.PLOTLYENV=window.PLOTLYENV || {};window.PLOTLYENV.BASE_URL=\"https://plot.ly\";Plotly.newPlot(\"6a5ca40b-441b-4cb5-9819-1924467c3c35\", [{\"colorbar\": {\"title\": {\"text\": \"Normalized Frequency\"}}, \"colorscale\": [[0.0, \"rgb(165,0,38)\"], [0.005, \"rgb(215,48,39)\"], [0.2, \"rgb(244,109,67)\"], [0.3, \"rgb(253,174,97)\"], [0.4, \"rgb(254,224,144)\"], [0.5, \"rgb(224,243,248)\"], [0.6, \"rgb(171,217,233)\"], [1.0, \"rgb(49,54,149)\"]], \"x\": [\"No actor\", \"Government and state security services\", \"Rebel Groups\", \"Political Militias\", \"Identity Militias\", \"Rioters\", \"Protestors\", \"Civilians\", \"External/other forces\"], \"y\": [\"Government and state security services\", \"Rebel Groups\", \"Political Militias\", \"Identity Militias\", \"Rioters\", \"Protestors\", \"External/other forces\"], \"z\": [[0.0025100401606425703, 0.0, 0.0, 0.0025100401606425703, 0.0, 0.0, 0.0, 0.009036144578313253, 0.004518072289156626], [0.0, 0.01104417670682731, 0.0, 0.0, 0.0, 0.0, 0.0, 0.004016064257028112, 0.0], [0.001004016064257028, 0.01355421686746988, 0.000502008032128514, 0.0030120481927710845, 0.000502008032128514, 0.000502008032128514, 0.000502008032128514, 0.03765060240963856, 0.001004016064257028], [0.000502008032128514, 0.000502008032128514, 0.0, 0.001004016064257028, 0.0050200803212851405, 0.0, 0.0, 0.01957831325301205, 0.0], [0.05220883534136546, 0.05220883534136546, 0.0, 0.000502008032128514, 0.0, 0.05070281124497992, 0.000502008032128514, 0.0286144578313253, 0.0], [0.6219879518072289, 0.07028112449799197, 0.0, 0.0, 0.0, 0.0, 0.002008032128514056, 0.0015060240963855422, 0.000502008032128514], [0.0, 0.0, 0.0, 0.000502008032128514, 0.0, 0.0, 0.0, 0.0, 0.0]], \"type\": \"heatmap\", \"uid\": \"b90d09f6-b488-4ff2-84d1-4e694f35f9bc\"}, {\"colorbar\": {\"title\": {\"text\": \"Normalized Frequency\"}}, \"colorscale\": [[0.0, \"rgb(165,0,38)\"], [0.005, \"rgb(215,48,39)\"], [0.2, \"rgb(244,109,67)\"], [0.3, \"rgb(253,174,97)\"], [0.4, \"rgb(254,224,144)\"], [0.5, \"rgb(224,243,248)\"], [0.6, \"rgb(171,217,233)\"], [1.0, \"rgb(49,54,149)\"]], \"x\": [\"No actor\", \"Government and state security services\", \"Rebel Groups\", \"Political Militias\", \"Identity Militias\", \"Rioters\", \"Protestors\", \"Civilians\", \"External/other forces\"], \"y\": [\"Government and state security services\", \"Rebel Groups\", \"Political Militias\", \"Identity Militias\", \"Rioters\", \"Protestors\", \"External/other forces\"], \"z\": [[0.0016313213703099511, 0.000543773790103317, 0.0016313213703099511, 0.000543773790103317, 0.0, 0.0, 0.0, 0.011419249592169658, 0.010331702011963024], [0.0016313213703099511, 0.008156606851549755, 0.0, 0.0, 0.0, 0.0, 0.0, 0.0076128330614464385, 0.0], [0.002175095160413268, 0.011963023382272975, 0.0, 0.004893964110929853, 0.0, 0.000543773790103317, 0.0, 0.04676454594888527, 0.0], [0.0, 0.001087547580206634, 0.0, 0.0, 0.005437737901033171, 0.0, 0.0, 0.01794453507340946, 0.0], [0.028276237085372486, 0.0478520935290919, 0.0, 0.0, 0.0, 0.04187058183795541, 0.000543773790103317, 0.043501903208265365, 0.0], [0.6568787384448069, 0.042958129418162044, 0.0, 0.0, 0.0, 0.000543773790103317, 0.000543773790103317, 0.002175095160413268, 0.0], [0.0, 0.0, 0.0, 0.0, 0.0, 0.0, 0.0, 0.000543773790103317, 0.0]], \"type\": \"heatmap\", \"uid\": \"5ca5ee44-4968-411f-9596-6b37a1ed3138\"}, {\"colorbar\": {\"title\": {\"text\": \"Normalized Frequency\"}}, \"colorscale\": [[0.0, \"rgb(165,0,38)\"], [0.005, \"rgb(215,48,39)\"], [0.2, \"rgb(244,109,67)\"], [0.3, \"rgb(253,174,97)\"], [0.4, \"rgb(254,224,144)\"], [0.5, \"rgb(224,243,248)\"], [0.6, \"rgb(171,217,233)\"], [1.0, \"rgb(49,54,149)\"]], \"x\": [\"No actor\", \"Government and state security services\", \"Political Militias\", \"Identity Militias\", \"Rioters\", \"Protestors\", \"Civilians\", \"External/other forces\"], \"y\": [\"Government and state security services\", \"Rebel Groups\", \"Political Militias\", \"Identity Militias\", \"Rioters\", \"Protestors\", \"External/other forces\"], \"z\": [[0.00182370820668693, 0.0006079027355623101, 0.0012158054711246201, 0.0, 0.0, 0.0, 0.00425531914893617, 0.00182370820668693], [0.0012158054711246201, 0.00851063829787234, 0.0, 0.0, 0.0, 0.0, 0.0024316109422492403, 0.0], [0.0012158054711246201, 0.00851063829787234, 0.00364741641337386, 0.0, 0.0, 0.0, 0.0243161094224924, 0.0], [0.0, 0.0, 0.0, 0.00303951367781155, 0.0, 0.0, 0.00425531914893617, 0.0], [0.02917933130699088, 0.09240121580547113, 0.0, 0.0, 0.029787234042553193, 0.0, 0.03404255319148936, 0.0006079027355623101], [0.6638297872340425, 0.07477203647416414, 0.0, 0.0, 0.0, 0.0012158054711246201, 0.0, 0.0], [0.0, 0.0060790273556231, 0.0, 0.0, 0.0, 0.0, 0.0012158054711246201, 0.0]], \"type\": \"heatmap\", \"uid\": \"60017614-4607-4159-b38f-7ad9ea7422d4\"}, {\"colorbar\": {\"title\": {\"text\": \"Normalized Frequency\"}}, \"colorscale\": [[0.0, \"rgb(165,0,38)\"], [0.005, \"rgb(215,48,39)\"], [0.2, \"rgb(244,109,67)\"], [0.3, \"rgb(253,174,97)\"], [0.4, \"rgb(254,224,144)\"], [0.5, \"rgb(224,243,248)\"], [0.6, \"rgb(171,217,233)\"], [1.0, \"rgb(49,54,149)\"]], \"x\": [\"No actor\", \"Government and state security services\", \"Rebel Groups\", \"Political Militias\", \"Identity Militias\", \"Rioters\", \"Protestors\", \"Civilians\", \"External/other forces\"], \"y\": [\"Government and state security services\", \"Rebel Groups\", \"Political Militias\", \"Identity Militias\", \"Rioters\", \"Protestors\", \"External/other forces\"], \"z\": [[0.0, 0.0, 0.0, 0.0006112469437652812, 0.0, 0.0, 0.0, 0.004889975550122249, 0.017114914425427872], [0.0, 0.006723716381418093, 0.0, 0.0, 0.0, 0.0, 0.0, 0.007946210268948655, 0.0], [0.0012224938875305623, 0.015281173594132029, 0.0006112469437652812, 0.0006112469437652812, 0.0006112469437652812, 0.0, 0.0, 0.03606356968215159, 0.0], [0.0, 0.0, 0.0, 0.0, 0.0012224938875305623, 0.0, 0.0, 0.009779951100244499, 0.0], [0.055623471882640586, 0.0715158924205379, 0.0, 0.0, 0.0, 0.020171149144254278, 0.0006112469437652812, 0.034229828850855744, 0.0], [0.6418092909535452, 0.06356968215158924, 0.0, 0.0, 0.0, 0.0, 0.0, 0.0006112469437652812, 0.0], [0.0, 0.008557457212713936, 0.0, 0.0, 0.0, 0.0, 0.0, 0.0006112469437652812, 0.0]], \"type\": \"heatmap\", \"uid\": \"6be57b15-bbc8-4fad-89fd-15c352288fd2\"}, {\"colorbar\": {\"title\": {\"text\": \"Normalized Frequency\"}}, \"colorscale\": [[0.0, \"rgb(165,0,38)\"], [0.005, \"rgb(215,48,39)\"], [0.2, \"rgb(244,109,67)\"], [0.3, \"rgb(253,174,97)\"], [0.4, \"rgb(254,224,144)\"], [0.5, \"rgb(224,243,248)\"], [0.6, \"rgb(171,217,233)\"], [1.0, \"rgb(49,54,149)\"]], \"x\": [\"No actor\", \"Government and state security services\", \"Rebel Groups\", \"Political Militias\", \"Identity Militias\", \"Rioters\", \"Protestors\", \"Civilians\", \"External/other forces\"], \"y\": [\"Government and state security services\", \"Rebel Groups\", \"Political Militias\", \"Identity Militias\", \"Rioters\", \"Protestors\", \"Civilians\", \"External/other forces\"], \"z\": [[0.007357449417535254, 0.0, 0.0, 0.0030656039239730227, 0.0006131207847946045, 0.0, 0.0, 0.010423053341508276, 0.00674432863274065], [0.0, 0.009809932556713672, 0.0, 0.0, 0.0, 0.0, 0.0, 0.00797057020232986, 0.0], [0.001226241569589209, 0.019619865113427344, 0.0, 0.004904966278356836, 0.0, 0.0, 0.0006131207847946045, 0.03862660944206009, 0.0018393623543838135], [0.0, 0.004291845493562232, 0.0006131207847946045, 0.0006131207847946045, 0.004291845493562232, 0.0, 0.0, 0.0269773145309626, 0.0], [0.02575107296137339, 0.056407112201103615, 0.0, 0.0, 0.0, 0.018393623543838136, 0.001226241569589209, 0.028816676885346414, 0.0], [0.6762722256284488, 0.03801348865726548, 0.0, 0.0, 0.0, 0.0, 0.001226241569589209, 0.0006131207847946045, 0.0], [0.0006131207847946045, 0.0, 0.0, 0.0, 0.0, 0.0, 0.0, 0.0, 0.0], [0.001226241569589209, 0.0, 0.0, 0.0, 0.0, 0.0, 0.0, 0.0018393623543838135, 0.0]], \"type\": \"heatmap\", \"uid\": \"88ae765a-82d9-4e4d-bccd-5b6d4a54708e\"}, {\"colorbar\": {\"title\": {\"text\": \"Normalized Frequency\"}}, \"colorscale\": [[0.0, \"rgb(165,0,38)\"], [0.005, \"rgb(215,48,39)\"], [0.2, \"rgb(244,109,67)\"], [0.3, \"rgb(253,174,97)\"], [0.4, \"rgb(254,224,144)\"], [0.5, \"rgb(224,243,248)\"], [0.6, \"rgb(171,217,233)\"], [1.0, \"rgb(49,54,149)\"]], \"x\": [\"No actor\", \"Government and state security services\", \"Political Militias\", \"Identity Militias\", \"Rioters\", \"Protestors\", \"Civilians\", \"External/other forces\"], \"y\": [\"Government and state security services\", \"Rebel Groups\", \"Political Militias\", \"Identity Militias\", \"Rioters\", \"Protestors\", \"External/other forces\"], \"z\": [[0.0018472906403940886, 0.0012315270935960591, 0.003078817733990148, 0.0006157635467980296, 0.0, 0.0, 0.012315270935960592, 0.004310344827586207], [0.0006157635467980296, 0.011699507389162561, 0.0, 0.0, 0.0, 0.0, 0.003694581280788177, 0.0], [0.003078817733990148, 0.02401477832512315, 0.0018472906403940886, 0.0, 0.0006157635467980296, 0.0, 0.04864532019704434, 0.0], [0.0, 0.0018472906403940886, 0.0006157635467980296, 0.005541871921182266, 0.0018472906403940886, 0.0, 0.03017241379310345, 0.0006157635467980296], [0.042487684729064036, 0.10036945812807882, 0.0006157635467980296, 0.0, 0.019704433497536946, 0.003694581280788177, 0.01847290640394089, 0.0006157635467980296], [0.5979064039408867, 0.05172413793103448, 0.0, 0.0, 0.0012315270935960591, 0.0006157635467980296, 0.0012315270935960591, 0.0], [0.0006157635467980296, 0.0018472906403940886, 0.0, 0.0, 0.0, 0.0, 0.0006157635467980296, 0.0]], \"type\": \"heatmap\", \"uid\": \"4c300676-5a92-467e-bb99-0cfbf03a3c0c\"}, {\"colorbar\": {\"title\": {\"text\": \"Normalized Frequency\"}}, \"colorscale\": [[0.0, \"rgb(165,0,38)\"], [0.005, \"rgb(215,48,39)\"], [0.2, \"rgb(244,109,67)\"], [0.3, \"rgb(253,174,97)\"], [0.4, \"rgb(254,224,144)\"], [0.5, \"rgb(224,243,248)\"], [0.6, \"rgb(171,217,233)\"], [1.0, \"rgb(49,54,149)\"]], \"x\": [\"No actor\", \"Government and state security services\", \"Rebel Groups\", \"Political Militias\", \"Identity Militias\", \"Rioters\", \"Protestors\", \"Civilians\", \"External/other forces\"], \"y\": [\"Government and state security services\", \"Rebel Groups\", \"Political Militias\", \"Identity Militias\", \"Rioters\", \"Protestors\", \"Civilians\", \"External/other forces\"], \"z\": [[0.0031725888324873096, 0.0006345177664974619, 0.0006345177664974619, 0.0019035532994923859, 0.0, 0.0, 0.0, 0.010786802030456852, 0.00951776649746193], [0.0012690355329949238, 0.025380710659898477, 0.0, 0.0, 0.0, 0.0, 0.0, 0.010786802030456852, 0.0], [0.0012690355329949238, 0.015862944162436547, 0.0, 0.0038071065989847717, 0.0, 0.0, 0.0, 0.0399746192893401, 0.0012690355329949238], [0.0006345177664974619, 0.0012690355329949238, 0.0, 0.0019035532994923859, 0.0031725888324873096, 0.0, 0.0, 0.021573604060913704, 0.0], [0.037436548223350255, 0.06281725888324872, 0.0, 0.0012690355329949238, 0.0, 0.030456852791878174, 0.0019035532994923859, 0.04060913705583756, 0.0], [0.6269035532994924, 0.041243654822335024, 0.0, 0.0, 0.0, 0.0, 0.0006345177664974619, 0.0, 0.0], [0.0006345177664974619, 0.0, 0.0, 0.0, 0.0, 0.0, 0.0, 0.0, 0.0], [0.0, 0.0, 0.0, 0.0, 0.0, 0.0, 0.0, 0.0012690355329949238, 0.0]], \"type\": \"heatmap\", \"uid\": \"bd3e2abb-8f7a-457a-842c-3935beadfafe\"}, {\"colorbar\": {\"title\": {\"text\": \"Normalized Frequency\"}}, \"colorscale\": [[0.0, \"rgb(165,0,38)\"], [0.005, \"rgb(215,48,39)\"], [0.2, \"rgb(244,109,67)\"], [0.3, \"rgb(253,174,97)\"], [0.4, \"rgb(254,224,144)\"], [0.5, \"rgb(224,243,248)\"], [0.6, \"rgb(171,217,233)\"], [1.0, \"rgb(49,54,149)\"]], \"x\": [\"No actor\", \"Government and state security services\", \"Political Militias\", \"Identity Militias\", \"Rioters\", \"Protestors\", \"Civilians\", \"External/other forces\"], \"y\": [\"Government and state security services\", \"Rebel Groups\", \"Political Militias\", \"Identity Militias\", \"Rioters\", \"Protestors\", \"External/other forces\"], \"z\": [[0.0027643400138217, 0.0, 0.0034554250172771253, 0.0, 0.0, 0.007601935038009675, 0.007601935038009675, 0.00138217000691085], [0.0, 0.014512785072563926, 0.000691085003455425, 0.0, 0.0, 0.0, 0.002073255010366275, 0.0], [0.000691085003455425, 0.015894955079474776, 0.000691085003455425, 0.0, 0.0, 0.0, 0.006910850034554251, 0.0], [0.000691085003455425, 0.00138217000691085, 0.0, 0.000691085003455425, 0.0, 0.0, 0.0055286800276434, 0.0], [0.03248099516240498, 0.1492743607463718, 0.0, 0.0, 0.007601935038009675, 0.0, 0.009675190048375951, 0.0], [0.6337249481686248, 0.08914996544574982, 0.0, 0.0, 0.0, 0.00138217000691085, 0.0, 0.0], [0.000691085003455425, 0.0034554250172771253, 0.0, 0.0, 0.0, 0.0, 0.0, 0.0]], \"type\": \"heatmap\", \"uid\": \"ce9c71fa-6dce-451f-b8a7-030dcf311627\"}, {\"colorbar\": {\"title\": {\"text\": \"Normalized Frequency\"}}, \"colorscale\": [[0.0, \"rgb(165,0,38)\"], [0.005, \"rgb(215,48,39)\"], [0.2, \"rgb(244,109,67)\"], [0.3, \"rgb(253,174,97)\"], [0.4, \"rgb(254,224,144)\"], [0.5, \"rgb(224,243,248)\"], [0.6, \"rgb(171,217,233)\"], [1.0, \"rgb(49,54,149)\"]], \"x\": [\"No actor\", \"Government and state security services\", \"Rebel Groups\", \"Political Militias\", \"Identity Militias\", \"Rioters\", \"Protestors\", \"Civilians\", \"External/other forces\"], \"y\": [\"Government and state security services\", \"Rebel Groups\", \"Political Militias\", \"Identity Militias\", \"Rioters\", \"Protestors\", \"External/other forces\"], \"z\": [[0.0, 0.0, 0.0007369196757553427, 0.0007369196757553427, 0.0, 0.0, 0.0, 0.0029476787030213707, 0.0], [0.0036845983787767134, 0.010316875460574797, 0.0, 0.0, 0.0, 0.0, 0.0, 0.005158437730287398, 0.0], [0.002210759027266028, 0.016212232866617538, 0.0007369196757553427, 0.002210759027266028, 0.0, 0.0, 0.0007369196757553427, 0.01915991156963891, 0.0007369196757553427], [0.0, 0.0, 0.0, 0.0, 0.002210759027266028, 0.0, 0.0, 0.0007369196757553427, 0.0], [0.01989683124539425, 0.03831982313927782, 0.0, 0.0, 0.0, 0.017686072218128224, 0.0007369196757553427, 0.01989683124539425, 0.0007369196757553427], [0.789240972733972, 0.0397936624907885, 0.0, 0.0, 0.0, 0.0, 0.002210759027266028, 0.0, 0.0], [0.0, 0.0029476787030213707, 0.0, 0.0, 0.0, 0.0, 0.0, 0.0, 0.0]], \"type\": \"heatmap\", \"uid\": \"57341d9a-9201-485c-aee9-2b0107388e6e\"}, {\"colorbar\": {\"title\": {\"text\": \"Normalized Frequency\"}}, \"colorscale\": [[0.0, \"rgb(165,0,38)\"], [0.005, \"rgb(215,48,39)\"], [0.2, \"rgb(244,109,67)\"], [0.3, \"rgb(253,174,97)\"], [0.4, \"rgb(254,224,144)\"], [0.5, \"rgb(224,243,248)\"], [0.6, \"rgb(171,217,233)\"], [1.0, \"rgb(49,54,149)\"]], \"x\": [\"No actor\", \"Government and state security services\", \"Rebel Groups\", \"Political Militias\", \"Identity Militias\", \"Rioters\", \"Protestors\", \"Civilians\", \"External/other forces\"], \"y\": [\"Government and state security services\", \"Rebel Groups\", \"Political Militias\", \"Identity Militias\", \"Rioters\", \"Protestors\", \"External/other forces\"], \"z\": [[0.0, 0.0, 0.0007412898443291327, 0.0007412898443291327, 0.0, 0.0, 0.0014825796886582653, 0.004447739065974796, 0.0029651593773165306], [0.0014825796886582653, 0.008895478131949592, 0.0007412898443291327, 0.0, 0.0, 0.0, 0.0, 0.004447739065974796, 0.0], [0.0037064492216456633, 0.011860637509266123, 0.0007412898443291327, 0.0014825796886582653, 0.0, 0.0, 0.0007412898443291327, 0.03261675315048184, 0.0], [0.0, 0.0014825796886582653, 0.0, 0.0007412898443291327, 0.002223869532987398, 0.0, 0.0007412898443291327, 0.006671608598962194, 0.0007412898443291327], [0.02223869532987398, 0.07412898443291327, 0.0, 0.0, 0.0, 0.02223869532987398, 0.0014825796886582653, 0.017790956263899184, 0.0007412898443291327], [0.6945885841363973, 0.07412898443291327, 0.0, 0.0, 0.0, 0.0007412898443291327, 0.0007412898443291327, 0.0, 0.0], [0.0007412898443291327, 0.0, 0.0, 0.0, 0.0, 0.0, 0.0, 0.0007412898443291327, 0.0]], \"type\": \"heatmap\", \"uid\": \"1888c5b1-4af2-43a4-9b20-edc6d638ec76\"}, {\"colorbar\": {\"title\": {\"text\": \"Normalized Frequency\"}}, \"colorscale\": [[0.0, \"rgb(165,0,38)\"], [0.005, \"rgb(215,48,39)\"], [0.2, \"rgb(244,109,67)\"], [0.3, \"rgb(253,174,97)\"], [0.4, \"rgb(254,224,144)\"], [0.5, \"rgb(224,243,248)\"], [0.6, \"rgb(171,217,233)\"], [1.0, \"rgb(49,54,149)\"]], \"x\": [\"No actor\", \"Government and state security services\", \"Rebel Groups\", \"Political Militias\", \"Identity Militias\", \"Rioters\", \"Civilians\", \"External/other forces\"], \"y\": [\"Government and state security services\", \"Rebel Groups\", \"Political Militias\", \"Identity Militias\", \"Rioters\", \"Protestors\", \"External/other forces\"], \"z\": [[0.0007587253414264037, 0.0, 0.0007587253414264037, 0.0, 0.0, 0.0, 0.0037936267071320183, 0.004552352048558422], [0.0007587253414264037, 0.015933232169954476, 0.0, 0.0, 0.0, 0.0, 0.004552352048558422, 0.0], [0.00834597875569044, 0.015174506828528073, 0.0, 0.0007587253414264037, 0.0, 0.0, 0.012898330804248861, 0.0], [0.0, 0.002276176024279211, 0.0, 0.0007587253414264037, 0.0007587253414264037, 0.0, 0.0030349013657056147, 0.0], [0.018209408194233688, 0.07207890743550835, 0.0, 0.0, 0.0, 0.010622154779969651, 0.012139605462822459, 0.0], [0.7071320182094082, 0.06752655538694992, 0.0, 0.0, 0.0, 0.002276176024279211, 0.0, 0.0], [0.0030349013657056147, 0.030349013657056147, 0.0, 0.0, 0.0, 0.0, 0.0015174506828528073, 0.0]], \"type\": \"heatmap\", \"uid\": \"c40c9215-5a96-4c10-8837-c1dee49f1f5c\"}, {\"colorbar\": {\"title\": {\"text\": \"Normalized Frequency\"}}, \"colorscale\": [[0.0, \"rgb(165,0,38)\"], [0.005, \"rgb(215,48,39)\"], [0.2, \"rgb(244,109,67)\"], [0.3, \"rgb(253,174,97)\"], [0.4, \"rgb(254,224,144)\"], [0.5, \"rgb(224,243,248)\"], [0.6, \"rgb(171,217,233)\"], [1.0, \"rgb(49,54,149)\"]], \"x\": [\"No actor\", \"Government and state security services\", \"Rebel Groups\", \"Identity Militias\", \"Rioters\", \"Protestors\", \"Civilians\", \"External/other forces\"], \"y\": [\"Government and state security services\", \"Rebel Groups\", \"Political Militias\", \"Identity Militias\", \"Rioters\", \"Protestors\", \"External/other forces\"], \"z\": [[0.0007593014426727411, 0.0, 0.0, 0.0, 0.0, 0.0, 0.0037965072133637054, 0.015945330296127564], [0.0015186028853454822, 0.012908124525436599, 0.0, 0.0, 0.0, 0.0, 0.002277904328018223, 0.0], [0.006074411541381929, 0.02201974183750949, 0.0007593014426727411, 0.0, 0.0, 0.0, 0.017463933181473046, 0.0007593014426727411], [0.0, 0.0, 0.0, 0.006074411541381929, 0.0, 0.0, 0.005315110098709187, 0.0], [0.02885345482156416, 0.09035687167805619, 0.0, 0.0, 0.02809415337889142, 0.0007593014426727411, 0.026575550493545937, 0.0], [0.6347760060744115, 0.06909643128321943, 0.0, 0.0, 0.0, 0.0007593014426727411, 0.0, 0.0], [0.0015186028853454822, 0.02126044039483675, 0.0, 0.0, 0.0, 0.0, 0.002277904328018223, 0.0]], \"type\": \"heatmap\", \"uid\": \"b1cb3b96-3222-476a-8333-d4e17ea79be2\"}, {\"colorbar\": {\"title\": {\"text\": \"Normalized Frequency\"}}, \"colorscale\": [[0.0, \"rgb(165,0,38)\"], [0.005, \"rgb(215,48,39)\"], [0.2, \"rgb(244,109,67)\"], [0.3, \"rgb(253,174,97)\"], [0.4, \"rgb(254,224,144)\"], [0.5, \"rgb(224,243,248)\"], [0.6, \"rgb(171,217,233)\"], [1.0, \"rgb(49,54,149)\"]], \"x\": [\"No actor\", \"Government and state security services\", \"Rebel Groups\", \"Political Militias\", \"Identity Militias\", \"Rioters\", \"Protestors\", \"Civilians\", \"External/other forces\"], \"y\": [\"Government and state security services\", \"Rebel Groups\", \"Political Militias\", \"Identity Militias\", \"Rioters\", \"Protestors\", \"Civilians\", \"External/other forces\"], \"z\": [[0.005455962587685113, 0.0, 0.000779423226812159, 0.002338269680436477, 0.0, 0.0, 0.0, 0.00779423226812159, 0.000779423226812159], [0.001558846453624318, 0.01558846453624318, 0.0, 0.0, 0.0, 0.0, 0.0, 0.006235385814497272, 0.0], [0.0, 0.03351519875292284, 0.0, 0.003117692907248636, 0.000779423226812159, 0.0, 0.0, 0.03975058456742011, 0.000779423226812159], [0.0, 0.001558846453624318, 0.0, 0.0, 0.010911925175370226, 0.0, 0.0, 0.010132501948558068, 0.0], [0.02260327357755261, 0.04988308651597818, 0.0, 0.0, 0.0, 0.034294621979735, 0.000779423226812159, 0.021823850350740453, 0.0], [0.6453624318004677, 0.05845674201091192, 0.0, 0.000779423226812159, 0.0, 0.0, 0.0, 0.0, 0.0], [0.000779423226812159, 0.0, 0.0, 0.0, 0.0, 0.0, 0.0, 0.0, 0.0], [0.0, 0.02338269680436477, 0.0, 0.0, 0.0, 0.0, 0.0, 0.000779423226812159, 0.0]], \"type\": \"heatmap\", \"uid\": \"f54e5dce-b8fa-47ae-86e0-59d6293b3c63\"}, {\"colorbar\": {\"title\": {\"text\": \"Normalized Frequency\"}}, \"colorscale\": [[0.0, \"rgb(165,0,38)\"], [0.005, \"rgb(215,48,39)\"], [0.2, \"rgb(244,109,67)\"], [0.3, \"rgb(253,174,97)\"], [0.4, \"rgb(254,224,144)\"], [0.5, \"rgb(224,243,248)\"], [0.6, \"rgb(171,217,233)\"], [1.0, \"rgb(49,54,149)\"]], \"x\": [\"No actor\", \"Government and state security services\", \"Rebel Groups\", \"Political Militias\", \"Identity Militias\", \"Rioters\", \"Protestors\", \"Civilians\", \"External/other forces\"], \"y\": [\"Government and state security services\", \"Rebel Groups\", \"Political Militias\", \"Identity Militias\", \"Rioters\", \"Protestors\", \"External/other forces\"], \"z\": [[0.0, 0.0, 0.0, 0.0007867820613690008, 0.0, 0.0, 0.0015735641227380016, 0.003933910306845004, 0.013375295043273014], [0.0023603461841070024, 0.00865460267505901, 0.0, 0.0, 0.0, 0.0, 0.0, 0.004720692368214005, 0.0], [0.0023603461841070024, 0.00944138473642801, 0.0007867820613690008, 0.003147128245476003, 0.0, 0.0, 0.0, 0.020456333595594022, 0.0], [0.0015735641227380016, 0.0007867820613690008, 0.0, 0.0, 0.006294256490952006, 0.0, 0.0, 0.014948859166011016, 0.0], [0.05664830841856806, 0.1022816679779701, 0.0, 0.0, 0.0, 0.01888276947285602, 0.0, 0.01730920535011802, 0.0], [0.6695515342250197, 0.03855232100708104, 0.0, 0.0, 0.0, 0.0007867820613690008, 0.0, 0.0, 0.0], [0.0, 0.0, 0.0, 0.0, 0.0, 0.0, 0.0, 0.0007867820613690008, 0.0]], \"type\": \"heatmap\", \"uid\": \"836beb0f-4932-4c13-a54e-e13d47233a32\"}, {\"colorbar\": {\"title\": {\"text\": \"Normalized Frequency\"}}, \"colorscale\": [[0.0, \"rgb(165,0,38)\"], [0.005, \"rgb(215,48,39)\"], [0.2, \"rgb(244,109,67)\"], [0.3, \"rgb(253,174,97)\"], [0.4, \"rgb(254,224,144)\"], [0.5, \"rgb(224,243,248)\"], [0.6, \"rgb(171,217,233)\"], [1.0, \"rgb(49,54,149)\"]], \"x\": [\"No actor\", \"Government and state security services\", \"Rebel Groups\", \"Political Militias\", \"Identity Militias\", \"Rioters\", \"Protestors\", \"Civilians\", \"External/other forces\"], \"y\": [\"Government and state security services\", \"Rebel Groups\", \"Political Militias\", \"Identity Militias\", \"Rioters\", \"Protestors\", \"External/other forces\"], \"z\": [[0.006493506493506494, 0.0, 0.0016233766233766235, 0.0016233766233766235, 0.0, 0.0, 0.0, 0.006493506493506494, 0.004058441558441558], [0.0008116883116883117, 0.017045454545454544, 0.0, 0.0, 0.0008116883116883117, 0.0, 0.0, 0.0016233766233766235, 0.0], [0.003246753246753247, 0.030032467532467532, 0.0008116883116883117, 0.0016233766233766235, 0.0, 0.0008116883116883117, 0.0, 0.025162337662337664, 0.0008116883116883117], [0.0, 0.0, 0.0, 0.0, 0.003246753246753247, 0.0, 0.0, 0.033279220779220776, 0.0], [0.028409090909090908, 0.05519480519480519, 0.0, 0.0, 0.0, 0.010551948051948052, 0.0, 0.017045454545454544, 0.0008116883116883117], [0.6964285714285714, 0.048701298701298704, 0.0, 0.0008116883116883117, 0.0, 0.0, 0.0016233766233766235, 0.0, 0.0], [0.0008116883116883117, 0.0, 0.0, 0.0, 0.0, 0.0, 0.0, 0.0, 0.0]], \"type\": \"heatmap\", \"uid\": \"b237bfe0-a6c4-49c7-89c0-b636f5157efe\"}, {\"colorbar\": {\"title\": {\"text\": \"Normalized Frequency\"}}, \"colorscale\": [[0.0, \"rgb(165,0,38)\"], [0.005, \"rgb(215,48,39)\"], [0.2, \"rgb(244,109,67)\"], [0.3, \"rgb(253,174,97)\"], [0.4, \"rgb(254,224,144)\"], [0.5, \"rgb(224,243,248)\"], [0.6, \"rgb(171,217,233)\"], [1.0, \"rgb(49,54,149)\"]], \"x\": [\"No actor\", \"Government and state security services\", \"Rebel Groups\", \"Political Militias\", \"Identity Militias\", \"Rioters\", \"Protestors\", \"Civilians\", \"External/other forces\"], \"y\": [\"Government and state security services\", \"Rebel Groups\", \"Political Militias\", \"Identity Militias\", \"Rioters\", \"Protestors\"], \"z\": [[0.0016474464579901153, 0.0, 0.004942339373970346, 0.006589785831960461, 0.0, 0.0, 0.0, 0.009060955518945634, 0.0], [0.0, 0.002471169686985173, 0.0, 0.0, 0.0, 0.0, 0.0, 0.005766062602965404, 0.0], [0.0032948929159802307, 0.009060955518945634, 0.0, 0.0008237232289950577, 0.0, 0.0, 0.0, 0.018945634266886325, 0.0008237232289950577], [0.0, 0.0032948929159802307, 0.0, 0.0008237232289950577, 0.011532125205930808, 0.0, 0.0, 0.01070840197693575, 0.0], [0.009884678747940691, 0.0642504118616145, 0.0, 0.0, 0.0, 0.009884678747940691, 0.0, 0.01070840197693575, 0.0], [0.7322899505766063, 0.0815485996705107, 0.0, 0.0008237232289950577, 0.0, 0.0, 0.0008237232289950577, 0.0, 0.0]], \"type\": \"heatmap\", \"uid\": \"11c42c11-2352-4855-880c-24e3316f24fe\"}, {\"colorbar\": {\"title\": {\"text\": \"Normalized Frequency\"}}, \"colorscale\": [[0.0, \"rgb(165,0,38)\"], [0.005, \"rgb(215,48,39)\"], [0.2, \"rgb(244,109,67)\"], [0.3, \"rgb(253,174,97)\"], [0.4, \"rgb(254,224,144)\"], [0.5, \"rgb(224,243,248)\"], [0.6, \"rgb(171,217,233)\"], [1.0, \"rgb(49,54,149)\"]], \"x\": [\"No actor\", \"Government and state security services\", \"Rebel Groups\", \"Political Militias\", \"Identity Militias\", \"Rioters\", \"Protestors\", \"Civilians\", \"External/other forces\"], \"y\": [\"Government and state security services\", \"Rebel Groups\", \"Political Militias\", \"Identity Militias\", \"Rioters\", \"Protestors\"], \"z\": [[0.0, 0.0, 0.0008431703204047217, 0.0, 0.0, 0.0, 0.0, 0.005902192242833052, 0.024451939291736932], [0.0, 0.021079258010118045, 0.0, 0.0, 0.0, 0.0, 0.0, 0.0016863406408094434, 0.0], [0.0, 0.026981450252951095, 0.0, 0.003372681281618887, 0.0, 0.0, 0.0, 0.012647554806070826, 0.0008431703204047217], [0.0, 0.0016863406408094434, 0.0, 0.0, 0.003372681281618887, 0.0, 0.0, 0.012647554806070826, 0.0], [0.02782462057335582, 0.0893760539629005, 0.0, 0.0, 0.0, 0.01517706576728499, 0.0008431703204047217, 0.006745362563237774, 0.0], [0.7074198988195616, 0.03625632377740304, 0.0, 0.0, 0.0, 0.0008431703204047217, 0.0, 0.0, 0.0]], \"type\": \"heatmap\", \"uid\": \"15d2cf65-f120-4265-b9e5-fe7c0ac08379\"}, {\"colorbar\": {\"title\": {\"text\": \"Normalized Frequency\"}}, \"colorscale\": [[0.0, \"rgb(165,0,38)\"], [0.005, \"rgb(215,48,39)\"], [0.2, \"rgb(244,109,67)\"], [0.3, \"rgb(253,174,97)\"], [0.4, \"rgb(254,224,144)\"], [0.5, \"rgb(224,243,248)\"], [0.6, \"rgb(171,217,233)\"], [1.0, \"rgb(49,54,149)\"]], \"x\": [\"No actor\", \"Government and state security services\", \"Rebel Groups\", \"Political Militias\", \"Identity Militias\", \"Rioters\", \"Civilians\", \"External/other forces\"], \"y\": [\"Government and state security services\", \"Rebel Groups\", \"Political Militias\", \"Identity Militias\", \"Rioters\", \"Protestors\", \"External/other forces\"], \"z\": [[0.003404255319148936, 0.0, 0.000851063829787234, 0.000851063829787234, 0.0, 0.0, 0.005957446808510639, 0.0], [0.002553191489361702, 0.02127659574468085, 0.0, 0.0, 0.0, 0.0, 0.005106382978723404, 0.0], [0.001702127659574468, 0.011063829787234043, 0.0, 0.00425531914893617, 0.0, 0.0, 0.02468085106382979, 0.0], [0.0, 0.000851063829787234, 0.0, 0.001702127659574468, 0.000851063829787234, 0.0, 0.005106382978723404, 0.0], [0.04, 0.09361702127659574, 0.0, 0.0, 0.0, 0.05191489361702128, 0.02127659574468085, 0.000851063829787234], [0.6382978723404256, 0.06127659574468085, 0.0, 0.0, 0.0, 0.0, 0.0, 0.0], [0.0, 0.002553191489361702, 0.0, 0.0, 0.0, 0.0, 0.0, 0.0]], \"type\": \"heatmap\", \"uid\": \"f58efa26-d7d9-4bcc-9e79-d9244819c83d\"}, {\"colorbar\": {\"title\": {\"text\": \"Normalized Frequency\"}}, \"colorscale\": [[0.0, \"rgb(165,0,38)\"], [0.005, \"rgb(215,48,39)\"], [0.2, \"rgb(244,109,67)\"], [0.3, \"rgb(253,174,97)\"], [0.4, \"rgb(254,224,144)\"], [0.5, \"rgb(224,243,248)\"], [0.6, \"rgb(171,217,233)\"], [1.0, \"rgb(49,54,149)\"]], \"x\": [\"No actor\", \"Government and state security services\", \"Political Militias\", \"Identity Militias\", \"Rioters\", \"Protestors\", \"Civilians\", \"External/other forces\"], \"y\": [\"Government and state security services\", \"Rebel Groups\", \"Political Militias\", \"Identity Militias\", \"Rioters\", \"Protestors\", \"External/other forces\"], \"z\": [[0.0051325919589392645, 0.0, 0.001710863986313088, 0.0, 0.0, 0.000855431993156544, 0.0025662959794696323, 0.04448246364414029], [0.00427715996578272, 0.007698887938408896, 0.0, 0.0, 0.0, 0.0, 0.00427715996578272, 0.0], [0.000855431993156544, 0.018819503849443968, 0.001710863986313088, 0.0, 0.000855431993156544, 0.000855431993156544, 0.017964071856287425, 0.0], [0.0, 0.0, 0.0, 0.00427715996578272, 0.0, 0.0, 0.005988023952095809, 0.0], [0.04790419161676647, 0.04790419161676647, 0.0, 0.0, 0.011120615911035072, 0.000855431993156544, 0.016253207869974338, 0.0], [0.7031650983746792, 0.04790419161676647, 0.0, 0.0, 0.0, 0.0, 0.0, 0.0], [0.000855431993156544, 0.000855431993156544, 0.0, 0.0, 0.0, 0.0, 0.000855431993156544, 0.0]], \"type\": \"heatmap\", \"uid\": \"77954e27-f750-4809-b53d-247037c0ae52\"}, {\"colorbar\": {\"title\": {\"text\": \"Normalized Frequency\"}}, \"colorscale\": [[0.0, \"rgb(165,0,38)\"], [0.005, \"rgb(215,48,39)\"], [0.2, \"rgb(244,109,67)\"], [0.3, \"rgb(253,174,97)\"], [0.4, \"rgb(254,224,144)\"], [0.5, \"rgb(224,243,248)\"], [0.6, \"rgb(171,217,233)\"], [1.0, \"rgb(49,54,149)\"]], \"x\": [\"No actor\", \"Government and state security services\", \"Political Militias\", \"Identity Militias\", \"Rioters\", \"Protestors\", \"Civilians\", \"External/other forces\"], \"y\": [\"Government and state security services\", \"Rebel Groups\", \"Political Militias\", \"Identity Militias\", \"Rioters\", \"Protestors\", \"External/other forces\"], \"z\": [[0.0026086956521739132, 0.0, 0.0008695652173913044, 0.0008695652173913044, 0.0, 0.010434782608695653, 0.00608695652173913, 0.0008695652173913044], [0.0052173913043478265, 0.011304347826086957, 0.0, 0.0, 0.0, 0.0, 0.0052173913043478265, 0.0], [0.0034782608695652175, 0.02, 0.0, 0.0, 0.0, 0.0, 0.01217391304347826, 0.0008695652173913044], [0.0, 0.0008695652173913044, 0.0, 0.0026086956521739132, 0.0, 0.0, 0.011304347826086957, 0.0], [0.02434782608695652, 0.13391304347826086, 0.0, 0.0, 0.006956521739130435, 0.0008695652173913044, 0.01652173913043478, 0.0], [0.6295652173913043, 0.08956521739130435, 0.0, 0.0, 0.0, 0.0, 0.0, 0.0], [0.0, 0.0034782608695652175, 0.0, 0.0, 0.0, 0.0, 0.0, 0.0]], \"type\": \"heatmap\", \"uid\": \"5635e851-d814-40e9-9a00-2af5d40d63b7\"}, {\"colorbar\": {\"title\": {\"text\": \"Normalized Frequency\"}}, \"colorscale\": [[0.0, \"rgb(165,0,38)\"], [0.005, \"rgb(215,48,39)\"], [0.2, \"rgb(244,109,67)\"], [0.3, \"rgb(253,174,97)\"], [0.4, \"rgb(254,224,144)\"], [0.5, \"rgb(224,243,248)\"], [0.6, \"rgb(171,217,233)\"], [1.0, \"rgb(49,54,149)\"]], \"x\": [\"No actor\", \"Government and state security services\", \"Political Militias\", \"Identity Militias\", \"Rioters\", \"Protestors\", \"Civilians\", \"External/other forces\"], \"y\": [\"Government and state security services\", \"Rebel Groups\", \"Political Militias\", \"Identity Militias\", \"Rioters\", \"Protestors\", \"External/other forces\"], \"z\": [[0.0045045045045045045, 0.0, 0.0, 0.0, 0.0, 0.0009009009009009009, 0.005405405405405406, 0.002702702702702703], [0.0, 0.013513513513513514, 0.0, 0.0, 0.0, 0.0, 0.0045045045045045045, 0.0], [0.0018018018018018018, 0.04684684684684685, 0.0, 0.0009009009009009009, 0.0, 0.0, 0.027927927927927927, 0.0], [0.0, 0.002702702702702703, 0.0, 0.009009009009009009, 0.0, 0.0, 0.027927927927927927, 0.0], [0.011711711711711712, 0.062162162162162166, 0.0, 0.0, 0.017117117117117116, 0.0, 0.01981981981981982, 0.0], [0.6774774774774774, 0.055855855855855854, 0.0009009009009009009, 0.0, 0.0, 0.0036036036036036037, 0.0, 0.0], [0.0009009009009009009, 0.0018018018018018018, 0.0, 0.0, 0.0, 0.0, 0.0, 0.0]], \"type\": \"heatmap\", \"uid\": \"085d5481-b8f6-4154-99f1-74904c765a6f\"}, {\"colorbar\": {\"title\": {\"text\": \"Normalized Frequency\"}}, \"colorscale\": [[0.0, \"rgb(165,0,38)\"], [0.005, \"rgb(215,48,39)\"], [0.2, \"rgb(244,109,67)\"], [0.3, \"rgb(253,174,97)\"], [0.4, \"rgb(254,224,144)\"], [0.5, \"rgb(224,243,248)\"], [0.6, \"rgb(171,217,233)\"], [1.0, \"rgb(49,54,149)\"]], \"x\": [\"No actor\", \"Government and state security services\", \"Rebel Groups\", \"Political Militias\", \"Identity Militias\", \"Rioters\", \"Protestors\", \"Civilians\"], \"y\": [\"Government and state security services\", \"Rebel Groups\", \"Political Militias\", \"Identity Militias\", \"Rioters\", \"Protestors\", \"External/other forces\"], \"z\": [[0.0009124087591240876, 0.0, 0.0018248175182481751, 0.005474452554744526, 0.0, 0.0, 0.0, 0.004562043795620438], [0.0009124087591240876, 0.014598540145985401, 0.0, 0.0, 0.0, 0.0, 0.0, 0.008211678832116789], [0.0, 0.013686131386861315, 0.0, 0.0018248175182481751, 0.0, 0.0, 0.0009124087591240876, 0.01916058394160584], [0.0, 0.0009124087591240876, 0.0, 0.0009124087591240876, 0.002737226277372263, 0.0, 0.0, 0.0036496350364963502], [0.016423357664233577, 0.07755474452554745, 0.0, 0.0, 0.0, 0.02645985401459854, 0.0009124087591240876, 0.013686131386861315], [0.718065693430657, 0.04927007299270073, 0.0, 0.0, 0.0, 0.0, 0.0018248175182481751, 0.0], [0.0, 0.01551094890510949, 0.0, 0.0, 0.0, 0.0, 0.0, 0.0]], \"type\": \"heatmap\", \"uid\": \"aa164bcd-9d17-4bc0-834b-ff1e28cc9342\"}, {\"colorbar\": {\"title\": {\"text\": \"Normalized Frequency\"}}, \"colorscale\": [[0.0, \"rgb(165,0,38)\"], [0.005, \"rgb(215,48,39)\"], [0.2, \"rgb(244,109,67)\"], [0.3, \"rgb(253,174,97)\"], [0.4, \"rgb(254,224,144)\"], [0.5, \"rgb(224,243,248)\"], [0.6, \"rgb(171,217,233)\"], [1.0, \"rgb(49,54,149)\"]], \"x\": [\"No actor\", \"Government and state security services\", \"Political Militias\", \"Identity Militias\", \"Rioters\", \"Protestors\", \"Civilians\", \"External/other forces\"], \"y\": [\"Government and state security services\", \"Rebel Groups\", \"Political Militias\", \"Identity Militias\", \"Rioters\", \"Protestors\", \"External/other forces\"], \"z\": [[0.0, 0.0, 0.0, 0.0, 0.0, 0.0, 0.005676442762535478, 0.0], [0.005676442762535478, 0.020813623462630087, 0.0, 0.0, 0.0, 0.0, 0.007568590350047304, 0.000946073793755913], [0.003784295175023652, 0.01608325449385052, 0.005676442762535478, 0.0, 0.0, 0.0, 0.020813623462630087, 0.0], [0.001892147587511826, 0.000946073793755913, 0.0, 0.004730368968779565, 0.0, 0.0, 0.01229895931882687, 0.0], [0.02554399243140965, 0.10406811731315042, 0.0, 0.0, 0.03595080416272469, 0.000946073793755913, 0.013245033112582781, 0.002838221381267739], [0.6433301797540208, 0.04446546830652791, 0.0, 0.0, 0.0, 0.001892147587511826, 0.0, 0.0], [0.0, 0.019867549668874173, 0.0, 0.0, 0.0, 0.0, 0.000946073793755913, 0.0]], \"type\": \"heatmap\", \"uid\": \"3aba5211-bd71-46b4-9ef5-48c3376f4b7c\"}, {\"colorbar\": {\"title\": {\"text\": \"Normalized Frequency\"}}, \"colorscale\": [[0.0, \"rgb(165,0,38)\"], [0.005, \"rgb(215,48,39)\"], [0.2, \"rgb(244,109,67)\"], [0.3, \"rgb(253,174,97)\"], [0.4, \"rgb(254,224,144)\"], [0.5, \"rgb(224,243,248)\"], [0.6, \"rgb(171,217,233)\"], [1.0, \"rgb(49,54,149)\"]], \"x\": [\"No actor\", \"Government and state security services\", \"Rebel Groups\", \"Political Militias\", \"Identity Militias\", \"Rioters\", \"Protestors\", \"Civilians\", \"External/other forces\"], \"y\": [\"Government and state security services\", \"Rebel Groups\", \"Political Militias\", \"Identity Militias\", \"Rioters\", \"Protestors\", \"External/other forces\"], \"z\": [[0.005714285714285714, 0.0, 0.0009523809523809524, 0.0019047619047619048, 0.0, 0.0, 0.0, 0.007619047619047619, 0.018095238095238095], [0.0038095238095238095, 0.014285714285714285, 0.0, 0.0, 0.0, 0.0, 0.0, 0.0038095238095238095, 0.0], [0.002857142857142857, 0.013333333333333334, 0.0, 0.0019047619047619048, 0.0, 0.0, 0.0009523809523809524, 0.025714285714285714, 0.0009523809523809524], [0.0, 0.0009523809523809524, 0.0, 0.0, 0.0009523809523809524, 0.0, 0.0, 0.008571428571428572, 0.0], [0.022857142857142857, 0.05238095238095238, 0.0, 0.0, 0.0, 0.02095238095238095, 0.002857142857142857, 0.017142857142857144, 0.0], [0.7152380952380952, 0.05523809523809524, 0.0, 0.0, 0.0, 0.0, 0.0, 0.0, 0.0], [0.0, 0.0009523809523809524, 0.0, 0.0, 0.0, 0.0, 0.0, 0.0, 0.0]], \"type\": \"heatmap\", \"uid\": \"b7c2564d-2928-4d52-b6c8-603885cac701\"}, {\"colorbar\": {\"title\": {\"text\": \"Normalized Frequency\"}}, \"colorscale\": [[0.0, \"rgb(165,0,38)\"], [0.005, \"rgb(215,48,39)\"], [0.2, \"rgb(244,109,67)\"], [0.3, \"rgb(253,174,97)\"], [0.4, \"rgb(254,224,144)\"], [0.5, \"rgb(224,243,248)\"], [0.6, \"rgb(171,217,233)\"], [1.0, \"rgb(49,54,149)\"]], \"x\": [\"No actor\", \"Government and state security services\", \"Political Militias\", \"Identity Militias\", \"Rioters\", \"Protestors\", \"Civilians\"], \"y\": [\"Government and state security services\", \"Rebel Groups\", \"Political Militias\", \"Identity Militias\", \"Rioters\", \"Protestors\"], \"z\": [[0.002859866539561487, 0.0, 0.005719733079122974, 0.0, 0.0, 0.0019065776930409914, 0.0019065776930409914], [0.00667302192564347, 0.0219256434699714, 0.0, 0.0, 0.0, 0.0, 0.0076263107721639654], [0.0019065776930409914, 0.004766444232602479, 0.0019065776930409914, 0.0, 0.0, 0.0, 0.027645376549094377], [0.0, 0.0, 0.0, 0.0038131553860819827, 0.0, 0.0, 0.004766444232602479], [0.04575786463298379, 0.052430886558627265, 0.0, 0.0, 0.023832221163012392, 0.004766444232602479, 0.010486177311725452], [0.7102001906577693, 0.05624404194470925, 0.0, 0.0, 0.0009532888465204957, 0.0019065776930409914, 0.0]], \"type\": \"heatmap\", \"uid\": \"6cab92dd-22e9-479f-90b7-4e25781fbaf2\"}, {\"colorbar\": {\"title\": {\"text\": \"Normalized Frequency\"}}, \"colorscale\": [[0.0, \"rgb(165,0,38)\"], [0.005, \"rgb(215,48,39)\"], [0.2, \"rgb(244,109,67)\"], [0.3, \"rgb(253,174,97)\"], [0.4, \"rgb(254,224,144)\"], [0.5, \"rgb(224,243,248)\"], [0.6, \"rgb(171,217,233)\"], [1.0, \"rgb(49,54,149)\"]], \"x\": [\"No actor\", \"Government and state security services\", \"Political Militias\", \"Identity Militias\", \"Rioters\", \"Protestors\", \"Civilians\", \"External/other forces\"], \"y\": [\"Government and state security services\", \"Rebel Groups\", \"Political Militias\", \"Identity Militias\", \"Rioters\", \"Protestors\", \"External/other forces\"], \"z\": [[0.0009727626459143969, 0.0, 0.0, 0.0, 0.0, 0.0019455252918287938, 0.0048638132295719845, 0.023346303501945526], [0.0, 0.0038910505836575876, 0.0, 0.0, 0.0, 0.0, 0.0009727626459143969, 0.0], [0.0, 0.023346303501945526, 0.0038910505836575876, 0.0, 0.0, 0.0, 0.014591439688715954, 0.0], [0.0, 0.0, 0.0, 0.0029182879377431907, 0.0, 0.0, 0.010700389105058366, 0.0], [0.04474708171206226, 0.06712062256809338, 0.0, 0.0, 0.016536964980544747, 0.0, 0.010700389105058366, 0.0009727626459143969], [0.730544747081712, 0.03599221789883268, 0.0, 0.0, 0.0, 0.0009727626459143969, 0.0, 0.0], [0.0, 0.0009727626459143969, 0.0, 0.0, 0.0, 0.0, 0.0, 0.0]], \"type\": \"heatmap\", \"uid\": \"071d18b1-fbde-48b5-ba2b-222d58fbd49d\"}, {\"colorbar\": {\"title\": {\"text\": \"Normalized Frequency\"}}, \"colorscale\": [[0.0, \"rgb(165,0,38)\"], [0.005, \"rgb(215,48,39)\"], [0.2, \"rgb(244,109,67)\"], [0.3, \"rgb(253,174,97)\"], [0.4, \"rgb(254,224,144)\"], [0.5, \"rgb(224,243,248)\"], [0.6, \"rgb(171,217,233)\"], [1.0, \"rgb(49,54,149)\"]], \"x\": [\"No actor\", \"Government and state security services\", \"Rebel Groups\", \"Political Militias\", \"Rioters\", \"Protestors\", \"Civilians\", \"External/other forces\"], \"y\": [\"Government and state security services\", \"Rebel Groups\", \"Political Militias\", \"Identity Militias\", \"Rioters\", \"Protestors\"], \"z\": [[0.0019474196689386564, 0.0, 0.0, 0.013631937682570594, 0.0, 0.02044790652385589, 0.004868549172346641, 0.0019474196689386564], [0.0009737098344693282, 0.006815968841285297, 0.0, 0.0, 0.0, 0.0, 0.0009737098344693282, 0.0], [0.0009737098344693282, 0.008763388510223954, 0.0009737098344693282, 0.0, 0.0, 0.0, 0.007789678675754625, 0.0], [0.0019474196689386564, 0.0, 0.0, 0.0, 0.0, 0.0, 0.0009737098344693282, 0.0], [0.05063291139240506, 0.11100292112950341, 0.0, 0.0, 0.013631937682570594, 0.0009737098344693282, 0.005842259006815969, 0.0], [0.688412852969815, 0.055501460564751706, 0.0, 0.0, 0.0, 0.0009737098344693282, 0.0, 0.0]], \"type\": \"heatmap\", \"uid\": \"21c2c7f5-0b45-4c1a-97d9-1cc9f3e39eb0\"}, {\"colorbar\": {\"title\": {\"text\": \"Normalized Frequency\"}}, \"colorscale\": [[0.0, \"rgb(165,0,38)\"], [0.005, \"rgb(215,48,39)\"], [0.2, \"rgb(244,109,67)\"], [0.3, \"rgb(253,174,97)\"], [0.4, \"rgb(254,224,144)\"], [0.5, \"rgb(224,243,248)\"], [0.6, \"rgb(171,217,233)\"], [1.0, \"rgb(49,54,149)\"]], \"x\": [\"No actor\", \"Government and state security services\", \"Political Militias\", \"Identity Militias\", \"Rioters\", \"Protestors\", \"Civilians\", \"External/other forces\"], \"y\": [\"Government and state security services\", \"Rebel Groups\", \"Political Militias\", \"Identity Militias\", \"Rioters\", \"Protestors\"], \"z\": [[0.000998003992015968, 0.0, 0.006986027944111776, 0.0, 0.0, 0.000998003992015968, 0.001996007984031936, 0.000998003992015968], [0.000998003992015968, 0.011976047904191617, 0.0, 0.0, 0.0, 0.0, 0.00499001996007984, 0.0], [0.00499001996007984, 0.012974051896207584, 0.0029940119760479044, 0.0, 0.0, 0.0, 0.04091816367265469, 0.0], [0.0, 0.000998003992015968, 0.0, 0.0029940119760479044, 0.0, 0.0, 0.006986027944111776, 0.0], [0.023952095808383235, 0.08083832335329341, 0.0, 0.0, 0.029940119760479042, 0.000998003992015968, 0.03493013972055888, 0.0], [0.6497005988023952, 0.07584830339321358, 0.0, 0.0, 0.000998003992015968, 0.0, 0.0, 0.0]], \"type\": \"heatmap\", \"uid\": \"e1d39444-a962-472c-aa45-fb30d2ae567c\"}, {\"colorbar\": {\"title\": {\"text\": \"Normalized Frequency\"}}, \"colorscale\": [[0.0, \"rgb(165,0,38)\"], [0.005, \"rgb(215,48,39)\"], [0.2, \"rgb(244,109,67)\"], [0.3, \"rgb(253,174,97)\"], [0.4, \"rgb(254,224,144)\"], [0.5, \"rgb(224,243,248)\"], [0.6, \"rgb(171,217,233)\"], [1.0, \"rgb(49,54,149)\"]], \"x\": [\"No actor\", \"Government and state security services\", \"Rebel Groups\", \"Rioters\", \"Protestors\", \"Civilians\", \"External/other forces\"], \"y\": [\"Government and state security services\", \"Rebel Groups\", \"Political Militias\", \"Identity Militias\", \"Rioters\", \"Protestors\"], \"z\": [[0.0, 0.0, 0.001002004008016032, 0.0, 0.0, 0.0, 0.001002004008016032], [0.001002004008016032, 0.004008016032064128, 0.0, 0.0, 0.0, 0.004008016032064128, 0.0], [0.0070140280561122245, 0.004008016032064128, 0.0, 0.0, 0.0, 0.013026052104208416, 0.0], [0.0, 0.0, 0.0, 0.0, 0.0, 0.003006012024048096, 0.0], [0.06613226452905811, 0.06613226452905811, 0.0, 0.013026052104208416, 0.0, 0.009018036072144289, 0.0], [0.782565130260521, 0.022044088176352707, 0.0, 0.0, 0.003006012024048096, 0.0, 0.0]], \"type\": \"heatmap\", \"uid\": \"1d637aa9-e2c9-4271-91ec-7eb93d679bd9\"}, {\"colorbar\": {\"title\": {\"text\": \"Normalized Frequency\"}}, \"colorscale\": [[0.0, \"rgb(165,0,38)\"], [0.005, \"rgb(215,48,39)\"], [0.2, \"rgb(244,109,67)\"], [0.3, \"rgb(253,174,97)\"], [0.4, \"rgb(254,224,144)\"], [0.5, \"rgb(224,243,248)\"], [0.6, \"rgb(171,217,233)\"], [1.0, \"rgb(49,54,149)\"]], \"x\": [\"No actor\", \"Government and state security services\", \"Rebel Groups\", \"Political Militias\", \"Identity Militias\", \"Rioters\", \"Protestors\", \"Civilians\", \"External/other forces\"], \"y\": [\"Government and state security services\", \"Rebel Groups\", \"Political Militias\", \"Identity Militias\", \"Rioters\", \"Protestors\"], \"z\": [[0.0, 0.0, 0.002074688796680498, 0.001037344398340249, 0.0, 0.0, 0.0, 0.002074688796680498, 0.03630705394190872], [0.005186721991701245, 0.013485477178423237, 0.0, 0.0, 0.0, 0.0, 0.0, 0.001037344398340249, 0.0], [0.002074688796680498, 0.024896265560165973, 0.002074688796680498, 0.0, 0.0, 0.0, 0.0, 0.015560165975103735, 0.0], [0.0, 0.0, 0.0, 0.0, 0.002074688796680498, 0.0, 0.0, 0.008298755186721992, 0.0], [0.00933609958506224, 0.04564315352697095, 0.0, 0.0, 0.0, 0.014522821576763486, 0.001037344398340249, 0.00933609958506224, 0.0], [0.7479253112033195, 0.054979253112033194, 0.0, 0.0, 0.0, 0.0, 0.001037344398340249, 0.0, 0.0]], \"type\": \"heatmap\", \"uid\": \"17214f9c-4fa5-45d0-bb27-89f9f5a6c277\"}, {\"colorbar\": {\"title\": {\"text\": \"Normalized Frequency\"}}, \"colorscale\": [[0.0, \"rgb(165,0,38)\"], [0.005, \"rgb(215,48,39)\"], [0.2, \"rgb(244,109,67)\"], [0.3, \"rgb(253,174,97)\"], [0.4, \"rgb(254,224,144)\"], [0.5, \"rgb(224,243,248)\"], [0.6, \"rgb(171,217,233)\"], [1.0, \"rgb(49,54,149)\"]], \"x\": [\"No actor\", \"Government and state security services\", \"Political Militias\", \"Identity Militias\", \"Rioters\", \"Civilians\"], \"y\": [\"Government and state security services\", \"Rebel Groups\", \"Political Militias\", \"Identity Militias\", \"Rioters\", \"Protestors\", \"External/other forces\"], \"z\": [[0.0, 0.0, 0.002079002079002079, 0.0, 0.0, 0.0031185031185031187], [0.0, 0.012474012474012475, 0.0, 0.0, 0.0, 0.007276507276507277], [0.004158004158004158, 0.016632016632016633, 0.0, 0.0, 0.0, 0.02390852390852391], [0.0, 0.0010395010395010396, 0.0, 0.002079002079002079, 0.0, 0.007276507276507277], [0.031185031185031187, 0.06652806652806653, 0.0, 0.0, 0.016632016632016633, 0.01975051975051975], [0.7245322245322245, 0.056133056133056136, 0.0, 0.0, 0.0, 0.0], [0.0, 0.004158004158004158, 0.0, 0.0, 0.0, 0.0010395010395010396]], \"type\": \"heatmap\", \"uid\": \"ea8dcc0f-e103-4566-9d64-cab0c1ac4369\"}, {\"colorbar\": {\"title\": {\"text\": \"Normalized Frequency\"}}, \"colorscale\": [[0.0, \"rgb(165,0,38)\"], [0.005, \"rgb(215,48,39)\"], [0.2, \"rgb(244,109,67)\"], [0.3, \"rgb(253,174,97)\"], [0.4, \"rgb(254,224,144)\"], [0.5, \"rgb(224,243,248)\"], [0.6, \"rgb(171,217,233)\"], [1.0, \"rgb(49,54,149)\"]], \"x\": [\"No actor\", \"Government and state security services\", \"Rebel Groups\", \"Political Militias\", \"Rioters\", \"Protestors\", \"Civilians\", \"External/other forces\"], \"y\": [\"Government and state security services\", \"Rebel Groups\", \"Political Militias\", \"Identity Militias\", \"Rioters\", \"Protestors\", \"External/other forces\"], \"z\": [[0.005574136008918618, 0.0011148272017837235, 0.002229654403567447, 0.0011148272017837235, 0.0, 0.0, 0.005574136008918618, 0.0033444816053511705], [0.002229654403567447, 0.016722408026755852, 0.0, 0.0, 0.0, 0.0, 0.002229654403567447, 0.0], [0.0, 0.022296544035674472, 0.0, 0.004459308807134894, 0.0, 0.0, 0.03901895206243032, 0.0011148272017837235], [0.0, 0.0, 0.0, 0.0, 0.0, 0.0, 0.002229654403567447, 0.0], [0.013377926421404682, 0.045707915273132664, 0.0, 0.0, 0.016722408026755852, 0.002229654403567447, 0.022296544035674472, 0.0], [0.6755852842809364, 0.056856187290969896, 0.0, 0.0, 0.0, 0.0, 0.0, 0.0], [0.0033444816053511705, 0.054626532887402456, 0.0, 0.0, 0.0, 0.0, 0.0, 0.0]], \"type\": \"heatmap\", \"uid\": \"581652f1-821e-4011-a538-3e4558829368\"}, {\"colorbar\": {\"title\": {\"text\": \"Normalized Frequency\"}}, \"colorscale\": [[0.0, \"rgb(165,0,38)\"], [0.005, \"rgb(215,48,39)\"], [0.2, \"rgb(244,109,67)\"], [0.3, \"rgb(253,174,97)\"], [0.4, \"rgb(254,224,144)\"], [0.5, \"rgb(224,243,248)\"], [0.6, \"rgb(171,217,233)\"], [1.0, \"rgb(49,54,149)\"]], \"x\": [\"No actor\", \"Government and state security services\", \"Rebel Groups\", \"Political Militias\", \"Identity Militias\", \"Rioters\", \"Civilians\", \"External/other forces\"], \"y\": [\"Government and state security services\", \"Rebel Groups\", \"Political Militias\", \"Identity Militias\", \"Rioters\", \"Protestors\", \"External/other forces\"], \"z\": [[0.0012804097311139564, 0.0, 0.0012804097311139564, 0.0012804097311139564, 0.0, 0.0, 0.0, 0.0038412291933418692], [0.006402048655569782, 0.015364916773367477, 0.0, 0.0012804097311139564, 0.0, 0.0, 0.006402048655569782, 0.0], [0.0038412291933418692, 0.01792573623559539, 0.0, 0.0012804097311139564, 0.0, 0.0, 0.03713188220230474, 0.0], [0.0, 0.0, 0.0, 0.0, 0.002560819462227913, 0.0, 0.002560819462227913, 0.0], [0.040973111395646605, 0.06017925736235595, 0.0, 0.0, 0.0, 0.07298335467349552, 0.03329065300896287, 0.0], [0.6069142125480154, 0.0793854033290653, 0.0, 0.0, 0.0, 0.0, 0.0, 0.0], [0.0, 0.002560819462227913, 0.0, 0.0, 0.0, 0.0, 0.0012804097311139564, 0.0]], \"type\": \"heatmap\", \"uid\": \"d35b87a7-3726-4c1e-b3ca-6ab1bbf98d66\"}, {\"colorbar\": {\"title\": {\"text\": \"Normalized Frequency\"}}, \"colorscale\": [[0.0, \"rgb(165,0,38)\"], [0.005, \"rgb(215,48,39)\"], [0.2, \"rgb(244,109,67)\"], [0.3, \"rgb(253,174,97)\"], [0.4, \"rgb(254,224,144)\"], [0.5, \"rgb(224,243,248)\"], [0.6, \"rgb(171,217,233)\"], [1.0, \"rgb(49,54,149)\"]], \"x\": [\"No actor\", \"Government and state security services\", \"Rebel Groups\", \"Political Militias\", \"Identity Militias\", \"Rioters\", \"Protestors\", \"Civilians\"], \"y\": [\"Government and state security services\", \"Rebel Groups\", \"Political Militias\", \"Identity Militias\", \"Rioters\", \"Protestors\"], \"z\": [[0.0026595744680851063, 0.0, 0.003989361702127659, 0.005319148936170213, 0.0, 0.0, 0.0, 0.0], [0.0013297872340425532, 0.02127659574468085, 0.0, 0.0, 0.0, 0.0, 0.0, 0.015957446808510637], [0.0026595744680851063, 0.017287234042553192, 0.0, 0.0013297872340425532, 0.0, 0.0, 0.0, 0.013297872340425532], [0.0, 0.0, 0.0, 0.0, 0.0013297872340425532, 0.0, 0.0, 0.003989361702127659], [0.018617021276595744, 0.0598404255319149, 0.0, 0.0, 0.0, 0.043882978723404256, 0.003989361702127659, 0.0199468085106383], [0.711436170212766, 0.05053191489361702, 0.0, 0.0, 0.0, 0.0, 0.0013297872340425532, 0.0]], \"type\": \"heatmap\", \"uid\": \"a83574b3-4c56-4002-b177-4a33a9a8e644\"}, {\"colorbar\": {\"title\": {\"text\": \"Normalized Frequency\"}}, \"colorscale\": [[0.0, \"rgb(165,0,38)\"], [0.005, \"rgb(215,48,39)\"], [0.2, \"rgb(244,109,67)\"], [0.3, \"rgb(253,174,97)\"], [0.4, \"rgb(254,224,144)\"], [0.5, \"rgb(224,243,248)\"], [0.6, \"rgb(171,217,233)\"], [1.0, \"rgb(49,54,149)\"]], \"x\": [\"No actor\", \"Government and state security services\", \"Political Militias\", \"Identity Militias\", \"Rioters\", \"Civilians\", \"External/other forces\"], \"y\": [\"Government and state security services\", \"Rebel Groups\", \"Political Militias\", \"Identity Militias\", \"Rioters\", \"Protestors\"], \"z\": [[0.0, 0.0, 0.0, 0.0, 0.0, 0.006675567423230975, 0.03337783711615487], [0.0, 0.004005340453938585, 0.0, 0.0, 0.0, 0.0013351134846461949, 0.0], [0.0053404539385847796, 0.030707610146862484, 0.0026702269692923898, 0.0, 0.0, 0.03204272363150868, 0.0013351134846461949], [0.0, 0.0, 0.0, 0.006675567423230975, 0.0, 0.012016021361815754, 0.0], [0.02403204272363151, 0.08678237650200267, 0.0, 0.0, 0.01602136181575434, 0.018691588785046728, 0.0], [0.6635514018691588, 0.05473965287049399, 0.0, 0.0, 0.0, 0.0, 0.0]], \"type\": \"heatmap\", \"uid\": \"08aee0a1-f59b-424b-a0c1-e88a47a77adc\"}, {\"colorbar\": {\"title\": {\"text\": \"Normalized Frequency\"}}, \"colorscale\": [[0.0, \"rgb(165,0,38)\"], [0.005, \"rgb(215,48,39)\"], [0.2, \"rgb(244,109,67)\"], [0.3, \"rgb(253,174,97)\"], [0.4, \"rgb(254,224,144)\"], [0.5, \"rgb(224,243,248)\"], [0.6, \"rgb(171,217,233)\"], [1.0, \"rgb(49,54,149)\"]], \"x\": [\"No actor\", \"Government and state security services\", \"Rebel Groups\", \"Political Militias\", \"Identity Militias\", \"Rioters\", \"Protestors\", \"Civilians\"], \"y\": [\"Government and state security services\", \"Rebel Groups\", \"Political Militias\", \"Identity Militias\", \"Rioters\", \"Protestors\"], \"z\": [[0.0027662517289073307, 0.0, 0.004149377593360996, 0.005532503457814661, 0.0, 0.0, 0.0027662517289073307, 0.005532503457814661], [0.0027662517289073307, 0.016597510373443983, 0.0, 0.0, 0.0, 0.0, 0.0, 0.008298755186721992], [0.0027662517289073307, 0.004149377593360996, 0.0, 0.0013831258644536654, 0.0, 0.0, 0.0, 0.012448132780082987], [0.0, 0.0, 0.0, 0.0, 0.0013831258644536654, 0.0, 0.0, 0.004149377593360996], [0.02351313969571231, 0.051175656984785614, 0.0, 0.0, 0.0, 0.011065006915629323, 0.0, 0.006915629322268326], [0.7786998616874136, 0.05255878284923928, 0.0, 0.0, 0.0, 0.0, 0.0013831258644536654, 0.0]], \"type\": \"heatmap\", \"uid\": \"deffcd47-5e87-4d33-8b13-2dfb56d22425\"}, {\"colorbar\": {\"title\": {\"text\": \"Normalized Frequency\"}}, \"colorscale\": [[0.0, \"rgb(165,0,38)\"], [0.005, \"rgb(215,48,39)\"], [0.2, \"rgb(244,109,67)\"], [0.3, \"rgb(253,174,97)\"], [0.4, \"rgb(254,224,144)\"], [0.5, \"rgb(224,243,248)\"], [0.6, \"rgb(171,217,233)\"], [1.0, \"rgb(49,54,149)\"]], \"x\": [\"No actor\", \"Government and state security services\", \"Rebel Groups\", \"Political Militias\", \"Rioters\", \"Protestors\", \"Civilians\", \"External/other forces\"], \"y\": [\"Government and state security services\", \"Rebel Groups\", \"Political Militias\", \"Identity Militias\", \"Rioters\", \"Protestors\", \"External/other forces\"], \"z\": [[0.0013831258644536654, 0.0, 0.0013831258644536654, 0.0, 0.0, 0.0, 0.008298755186721992, 0.012448132780082987], [0.0013831258644536654, 0.016597510373443983, 0.0, 0.0, 0.0, 0.0, 0.0027662517289073307, 0.0013831258644536654], [0.0027662517289073307, 0.024896265560165973, 0.0, 0.0013831258644536654, 0.0, 0.0, 0.02627939142461964, 0.0], [0.0, 0.0, 0.0, 0.0, 0.0, 0.0, 0.004149377593360996, 0.0], [0.017980636237897647, 0.03872752420470263, 0.0, 0.0, 0.022130013831258646, 0.0, 0.011065006915629323, 0.0], [0.7565698478561549, 0.04426002766251729, 0.0, 0.0, 0.0, 0.0013831258644536654, 0.0, 0.0], [0.0027662517289073307, 0.0, 0.0, 0.0, 0.0, 0.0, 0.0, 0.0]], \"type\": \"heatmap\", \"uid\": \"093c9476-8940-47bf-90fb-d53d729a0b0b\"}], {\"autosize\": true, \"sliders\": [{\"active\": 0, \"currentvalue\": {\"prefix\": \"\"}, \"name\": \"Month\", \"pad\": {\"t\": 37}, \"steps\": [{\"args\": [\"visible\", [true, false, false, false, false, false, false, false, false, false, false, false, false, false, false, false, false, false, false, false, false, false, false, false, false, false, false, false, false, false, false, false, false, false, false, false, false]], \"label\": \"Month 1\", \"method\": \"restyle\"}, {\"args\": [\"visible\", [false, true, false, false, false, false, false, false, false, false, false, false, false, false, false, false, false, false, false, false, false, false, false, false, false, false, false, false, false, false, false, false, false, false, false, false, false]], \"label\": \"Month 2\", \"method\": \"restyle\"}, {\"args\": [\"visible\", [false, false, true, false, false, false, false, false, false, false, false, false, false, false, false, false, false, false, false, false, false, false, false, false, false, false, false, false, false, false, false, false, false, false, false, false, false]], \"label\": \"Month 3\", \"method\": \"restyle\"}, {\"args\": [\"visible\", [false, false, false, true, false, false, false, false, false, false, false, false, false, false, false, false, false, false, false, false, false, false, false, false, false, false, false, false, false, false, false, false, false, false, false, false, false]], \"label\": \"Month 4\", \"method\": \"restyle\"}, {\"args\": [\"visible\", [false, false, false, false, true, false, false, false, false, false, false, false, false, false, false, false, false, false, false, false, false, false, false, false, false, false, false, false, false, false, false, false, false, false, false, false, false]], \"label\": \"Month 5\", \"method\": \"restyle\"}, {\"args\": [\"visible\", [false, false, false, false, false, true, false, false, false, false, false, false, false, false, false, false, false, false, false, false, false, false, false, false, false, false, false, false, false, false, false, false, false, false, false, false, false]], \"label\": \"Month 6\", \"method\": \"restyle\"}, {\"args\": [\"visible\", [false, false, false, false, false, false, true, false, false, false, false, false, false, false, false, false, false, false, false, false, false, false, false, false, false, false, false, false, false, false, false, false, false, false, false, false, false]], \"label\": \"Month 7\", \"method\": \"restyle\"}, {\"args\": [\"visible\", [false, false, false, false, false, false, false, true, false, false, false, false, false, false, false, false, false, false, false, false, false, false, false, false, false, false, false, false, false, false, false, false, false, false, false, false, false]], \"label\": \"Month 8\", \"method\": \"restyle\"}, {\"args\": [\"visible\", [false, false, false, false, false, false, false, false, true, false, false, false, false, false, false, false, false, false, false, false, false, false, false, false, false, false, false, false, false, false, false, false, false, false, false, false, false]], \"label\": \"Month 9\", \"method\": \"restyle\"}, {\"args\": [\"visible\", [false, false, false, false, false, false, false, false, false, true, false, false, false, false, false, false, false, false, false, false, false, false, false, false, false, false, false, false, false, false, false, false, false, false, false, false, false]], \"label\": \"Month 10\", \"method\": \"restyle\"}, {\"args\": [\"visible\", [false, false, false, false, false, false, false, false, false, false, true, false, false, false, false, false, false, false, false, false, false, false, false, false, false, false, false, false, false, false, false, false, false, false, false, false, false]], \"label\": \"Month 11\", \"method\": \"restyle\"}, {\"args\": [\"visible\", [false, false, false, false, false, false, false, false, false, false, false, true, false, false, false, false, false, false, false, false, false, false, false, false, false, false, false, false, false, false, false, false, false, false, false, false, false]], \"label\": \"Month 12\", \"method\": \"restyle\"}, {\"args\": [\"visible\", [false, false, false, false, false, false, false, false, false, false, false, false, true, false, false, false, false, false, false, false, false, false, false, false, false, false, false, false, false, false, false, false, false, false, false, false, false]], \"label\": \"Month 13\", \"method\": \"restyle\"}, {\"args\": [\"visible\", [false, false, false, false, false, false, false, false, false, false, false, false, false, true, false, false, false, false, false, false, false, false, false, false, false, false, false, false, false, false, false, false, false, false, false, false, false]], \"label\": \"Month 14\", \"method\": \"restyle\"}, {\"args\": [\"visible\", [false, false, false, false, false, false, false, false, false, false, false, false, false, false, true, false, false, false, false, false, false, false, false, false, false, false, false, false, false, false, false, false, false, false, false, false, false]], \"label\": \"Month 15\", \"method\": \"restyle\"}, {\"args\": [\"visible\", [false, false, false, false, false, false, false, false, false, false, false, false, false, false, false, true, false, false, false, false, false, false, false, false, false, false, false, false, false, false, false, false, false, false, false, false, false]], \"label\": \"Month 16\", \"method\": \"restyle\"}, {\"args\": [\"visible\", [false, false, false, false, false, false, false, false, false, false, false, false, false, false, false, false, true, false, false, false, false, false, false, false, false, false, false, false, false, false, false, false, false, false, false, false, false]], \"label\": \"Month 17\", \"method\": \"restyle\"}, {\"args\": [\"visible\", [false, false, false, false, false, false, false, false, false, false, false, false, false, false, false, false, false, true, false, false, false, false, false, false, false, false, false, false, false, false, false, false, false, false, false, false, false]], \"label\": \"Month 18\", \"method\": \"restyle\"}, {\"args\": [\"visible\", [false, false, false, false, false, false, false, false, false, false, false, false, false, false, false, false, false, false, true, false, false, false, false, false, false, false, false, false, false, false, false, false, false, false, false, false, false]], \"label\": \"Month 19\", \"method\": \"restyle\"}, {\"args\": [\"visible\", [false, false, false, false, false, false, false, false, false, false, false, false, false, false, false, false, false, false, false, true, false, false, false, false, false, false, false, false, false, false, false, false, false, false, false, false, false]], \"label\": \"Month 20\", \"method\": \"restyle\"}, {\"args\": [\"visible\", [false, false, false, false, false, false, false, false, false, false, false, false, false, false, false, false, false, false, false, false, true, false, false, false, false, false, false, false, false, false, false, false, false, false, false, false, false]], \"label\": \"Month 21\", \"method\": \"restyle\"}, {\"args\": [\"visible\", [false, false, false, false, false, false, false, false, false, false, false, false, false, false, false, false, false, false, false, false, false, true, false, false, false, false, false, false, false, false, false, false, false, false, false, false, false]], \"label\": \"Month 22\", \"method\": \"restyle\"}, {\"args\": [\"visible\", [false, false, false, false, false, false, false, false, false, false, false, false, false, false, false, false, false, false, false, false, false, false, true, false, false, false, false, false, false, false, false, false, false, false, false, false, false]], \"label\": \"Month 23\", \"method\": \"restyle\"}, {\"args\": [\"visible\", [false, false, false, false, false, false, false, false, false, false, false, false, false, false, false, false, false, false, false, false, false, false, false, true, false, false, false, false, false, false, false, false, false, false, false, false, false]], \"label\": \"Month 24\", \"method\": \"restyle\"}, {\"args\": [\"visible\", [false, false, false, false, false, false, false, false, false, false, false, false, false, false, false, false, false, false, false, false, false, false, false, false, true, false, false, false, false, false, false, false, false, false, false, false, false]], \"label\": \"Month 25\", \"method\": \"restyle\"}, {\"args\": [\"visible\", [false, false, false, false, false, false, false, false, false, false, false, false, false, false, false, false, false, false, false, false, false, false, false, false, false, true, false, false, false, false, false, false, false, false, false, false, false]], \"label\": \"Month 26\", \"method\": \"restyle\"}, {\"args\": [\"visible\", [false, false, false, false, false, false, false, false, false, false, false, false, false, false, false, false, false, false, false, false, false, false, false, false, false, false, true, false, false, false, false, false, false, false, false, false, false]], \"label\": \"Month 27\", \"method\": \"restyle\"}, {\"args\": [\"visible\", [false, false, false, false, false, false, false, false, false, false, false, false, false, false, false, false, false, false, false, false, false, false, false, false, false, false, false, true, false, false, false, false, false, false, false, false, false]], \"label\": \"Month 28\", \"method\": \"restyle\"}, {\"args\": [\"visible\", [false, false, false, false, false, false, false, false, false, false, false, false, false, false, false, false, false, false, false, false, false, false, false, false, false, false, false, false, true, false, false, false, false, false, false, false, false]], \"label\": \"Month 29\", \"method\": \"restyle\"}, {\"args\": [\"visible\", [false, false, false, false, false, false, false, false, false, false, false, false, false, false, false, false, false, false, false, false, false, false, false, false, false, false, false, false, false, true, false, false, false, false, false, false, false]], \"label\": \"Month 30\", \"method\": \"restyle\"}, {\"args\": [\"visible\", [false, false, false, false, false, false, false, false, false, false, false, false, false, false, false, false, false, false, false, false, false, false, false, false, false, false, false, false, false, false, true, false, false, false, false, false, false]], \"label\": \"Month 31\", \"method\": \"restyle\"}, {\"args\": [\"visible\", [false, false, false, false, false, false, false, false, false, false, false, false, false, false, false, false, false, false, false, false, false, false, false, false, false, false, false, false, false, false, false, true, false, false, false, false, false]], \"label\": \"Month 32\", \"method\": \"restyle\"}, {\"args\": [\"visible\", [false, false, false, false, false, false, false, false, false, false, false, false, false, false, false, false, false, false, false, false, false, false, false, false, false, false, false, false, false, false, false, false, true, false, false, false, false]], \"label\": \"Month 33\", \"method\": \"restyle\"}, {\"args\": [\"visible\", [false, false, false, false, false, false, false, false, false, false, false, false, false, false, false, false, false, false, false, false, false, false, false, false, false, false, false, false, false, false, false, false, false, true, false, false, false]], \"label\": \"Month 34\", \"method\": \"restyle\"}, {\"args\": [\"visible\", [false, false, false, false, false, false, false, false, false, false, false, false, false, false, false, false, false, false, false, false, false, false, false, false, false, false, false, false, false, false, false, false, false, false, true, false, false]], \"label\": \"Month 35\", \"method\": \"restyle\"}, {\"args\": [\"visible\", [false, false, false, false, false, false, false, false, false, false, false, false, false, false, false, false, false, false, false, false, false, false, false, false, false, false, false, false, false, false, false, false, false, false, false, true, false]], \"label\": \"Month 36\", \"method\": \"restyle\"}, {\"args\": [\"visible\", [false, false, false, false, false, false, false, false, false, false, false, false, false, false, false, false, false, false, false, false, false, false, false, false, false, false, false, false, false, false, false, false, false, false, false, false, true]], \"label\": \"Month 37\", \"method\": \"restyle\"}], \"y\": 1.5}], \"title\": {\"text\": \" Plot#1: Monthwise Interaction table\"}, \"xaxis\": {\"automargin\": true, \"title\": {\"text\": \"Actor 2\"}}, \"yaxis\": {\"automargin\": true, \"title\": {\"text\": \"Actor 1\"}}}, {\"showLink\": false, \"linkText\": \"Export to plot.ly\", \"plotlyServerURL\": \"https://plot.ly\"})});</script><script type=\"text/javascript\">window.addEventListener(\"resize\", function(){window._Plotly.Plots.resize(document.getElementById(\"6a5ca40b-441b-4cb5-9819-1924467c3c35\"));});</script>"
      ],
      "text/vnd.plotly.v1+html": [
       "<div id=\"6a5ca40b-441b-4cb5-9819-1924467c3c35\" style=\"height: 525px; width: 100%;\" class=\"plotly-graph-div\"></div><script type=\"text/javascript\">require([\"plotly\"], function(Plotly) { window.PLOTLYENV=window.PLOTLYENV || {};window.PLOTLYENV.BASE_URL=\"https://plot.ly\";Plotly.newPlot(\"6a5ca40b-441b-4cb5-9819-1924467c3c35\", [{\"colorbar\": {\"title\": {\"text\": \"Normalized Frequency\"}}, \"colorscale\": [[0.0, \"rgb(165,0,38)\"], [0.005, \"rgb(215,48,39)\"], [0.2, \"rgb(244,109,67)\"], [0.3, \"rgb(253,174,97)\"], [0.4, \"rgb(254,224,144)\"], [0.5, \"rgb(224,243,248)\"], [0.6, \"rgb(171,217,233)\"], [1.0, \"rgb(49,54,149)\"]], \"x\": [\"No actor\", \"Government and state security services\", \"Rebel Groups\", \"Political Militias\", \"Identity Militias\", \"Rioters\", \"Protestors\", \"Civilians\", \"External/other forces\"], \"y\": [\"Government and state security services\", \"Rebel Groups\", \"Political Militias\", \"Identity Militias\", \"Rioters\", \"Protestors\", \"External/other forces\"], \"z\": [[0.0025100401606425703, 0.0, 0.0, 0.0025100401606425703, 0.0, 0.0, 0.0, 0.009036144578313253, 0.004518072289156626], [0.0, 0.01104417670682731, 0.0, 0.0, 0.0, 0.0, 0.0, 0.004016064257028112, 0.0], [0.001004016064257028, 0.01355421686746988, 0.000502008032128514, 0.0030120481927710845, 0.000502008032128514, 0.000502008032128514, 0.000502008032128514, 0.03765060240963856, 0.001004016064257028], [0.000502008032128514, 0.000502008032128514, 0.0, 0.001004016064257028, 0.0050200803212851405, 0.0, 0.0, 0.01957831325301205, 0.0], [0.05220883534136546, 0.05220883534136546, 0.0, 0.000502008032128514, 0.0, 0.05070281124497992, 0.000502008032128514, 0.0286144578313253, 0.0], [0.6219879518072289, 0.07028112449799197, 0.0, 0.0, 0.0, 0.0, 0.002008032128514056, 0.0015060240963855422, 0.000502008032128514], [0.0, 0.0, 0.0, 0.000502008032128514, 0.0, 0.0, 0.0, 0.0, 0.0]], \"type\": \"heatmap\", \"uid\": \"b90d09f6-b488-4ff2-84d1-4e694f35f9bc\"}, {\"colorbar\": {\"title\": {\"text\": \"Normalized Frequency\"}}, \"colorscale\": [[0.0, \"rgb(165,0,38)\"], [0.005, \"rgb(215,48,39)\"], [0.2, \"rgb(244,109,67)\"], [0.3, \"rgb(253,174,97)\"], [0.4, \"rgb(254,224,144)\"], [0.5, \"rgb(224,243,248)\"], [0.6, \"rgb(171,217,233)\"], [1.0, \"rgb(49,54,149)\"]], \"x\": [\"No actor\", \"Government and state security services\", \"Rebel Groups\", \"Political Militias\", \"Identity Militias\", \"Rioters\", \"Protestors\", \"Civilians\", \"External/other forces\"], \"y\": [\"Government and state security services\", \"Rebel Groups\", \"Political Militias\", \"Identity Militias\", \"Rioters\", \"Protestors\", \"External/other forces\"], \"z\": [[0.0016313213703099511, 0.000543773790103317, 0.0016313213703099511, 0.000543773790103317, 0.0, 0.0, 0.0, 0.011419249592169658, 0.010331702011963024], [0.0016313213703099511, 0.008156606851549755, 0.0, 0.0, 0.0, 0.0, 0.0, 0.0076128330614464385, 0.0], [0.002175095160413268, 0.011963023382272975, 0.0, 0.004893964110929853, 0.0, 0.000543773790103317, 0.0, 0.04676454594888527, 0.0], [0.0, 0.001087547580206634, 0.0, 0.0, 0.005437737901033171, 0.0, 0.0, 0.01794453507340946, 0.0], [0.028276237085372486, 0.0478520935290919, 0.0, 0.0, 0.0, 0.04187058183795541, 0.000543773790103317, 0.043501903208265365, 0.0], [0.6568787384448069, 0.042958129418162044, 0.0, 0.0, 0.0, 0.000543773790103317, 0.000543773790103317, 0.002175095160413268, 0.0], [0.0, 0.0, 0.0, 0.0, 0.0, 0.0, 0.0, 0.000543773790103317, 0.0]], \"type\": \"heatmap\", \"uid\": \"5ca5ee44-4968-411f-9596-6b37a1ed3138\"}, {\"colorbar\": {\"title\": {\"text\": \"Normalized Frequency\"}}, \"colorscale\": [[0.0, \"rgb(165,0,38)\"], [0.005, \"rgb(215,48,39)\"], [0.2, \"rgb(244,109,67)\"], [0.3, \"rgb(253,174,97)\"], [0.4, \"rgb(254,224,144)\"], [0.5, \"rgb(224,243,248)\"], [0.6, \"rgb(171,217,233)\"], [1.0, \"rgb(49,54,149)\"]], \"x\": [\"No actor\", \"Government and state security services\", \"Political Militias\", \"Identity Militias\", \"Rioters\", \"Protestors\", \"Civilians\", \"External/other forces\"], \"y\": [\"Government and state security services\", \"Rebel Groups\", \"Political Militias\", \"Identity Militias\", \"Rioters\", \"Protestors\", \"External/other forces\"], \"z\": [[0.00182370820668693, 0.0006079027355623101, 0.0012158054711246201, 0.0, 0.0, 0.0, 0.00425531914893617, 0.00182370820668693], [0.0012158054711246201, 0.00851063829787234, 0.0, 0.0, 0.0, 0.0, 0.0024316109422492403, 0.0], [0.0012158054711246201, 0.00851063829787234, 0.00364741641337386, 0.0, 0.0, 0.0, 0.0243161094224924, 0.0], [0.0, 0.0, 0.0, 0.00303951367781155, 0.0, 0.0, 0.00425531914893617, 0.0], [0.02917933130699088, 0.09240121580547113, 0.0, 0.0, 0.029787234042553193, 0.0, 0.03404255319148936, 0.0006079027355623101], [0.6638297872340425, 0.07477203647416414, 0.0, 0.0, 0.0, 0.0012158054711246201, 0.0, 0.0], [0.0, 0.0060790273556231, 0.0, 0.0, 0.0, 0.0, 0.0012158054711246201, 0.0]], \"type\": \"heatmap\", \"uid\": \"60017614-4607-4159-b38f-7ad9ea7422d4\"}, {\"colorbar\": {\"title\": {\"text\": \"Normalized Frequency\"}}, \"colorscale\": [[0.0, \"rgb(165,0,38)\"], [0.005, \"rgb(215,48,39)\"], [0.2, \"rgb(244,109,67)\"], [0.3, \"rgb(253,174,97)\"], [0.4, \"rgb(254,224,144)\"], [0.5, \"rgb(224,243,248)\"], [0.6, \"rgb(171,217,233)\"], [1.0, \"rgb(49,54,149)\"]], \"x\": [\"No actor\", \"Government and state security services\", \"Rebel Groups\", \"Political Militias\", \"Identity Militias\", \"Rioters\", \"Protestors\", \"Civilians\", \"External/other forces\"], \"y\": [\"Government and state security services\", \"Rebel Groups\", \"Political Militias\", \"Identity Militias\", \"Rioters\", \"Protestors\", \"External/other forces\"], \"z\": [[0.0, 0.0, 0.0, 0.0006112469437652812, 0.0, 0.0, 0.0, 0.004889975550122249, 0.017114914425427872], [0.0, 0.006723716381418093, 0.0, 0.0, 0.0, 0.0, 0.0, 0.007946210268948655, 0.0], [0.0012224938875305623, 0.015281173594132029, 0.0006112469437652812, 0.0006112469437652812, 0.0006112469437652812, 0.0, 0.0, 0.03606356968215159, 0.0], [0.0, 0.0, 0.0, 0.0, 0.0012224938875305623, 0.0, 0.0, 0.009779951100244499, 0.0], [0.055623471882640586, 0.0715158924205379, 0.0, 0.0, 0.0, 0.020171149144254278, 0.0006112469437652812, 0.034229828850855744, 0.0], [0.6418092909535452, 0.06356968215158924, 0.0, 0.0, 0.0, 0.0, 0.0, 0.0006112469437652812, 0.0], [0.0, 0.008557457212713936, 0.0, 0.0, 0.0, 0.0, 0.0, 0.0006112469437652812, 0.0]], \"type\": \"heatmap\", \"uid\": \"6be57b15-bbc8-4fad-89fd-15c352288fd2\"}, {\"colorbar\": {\"title\": {\"text\": \"Normalized Frequency\"}}, \"colorscale\": [[0.0, \"rgb(165,0,38)\"], [0.005, \"rgb(215,48,39)\"], [0.2, \"rgb(244,109,67)\"], [0.3, \"rgb(253,174,97)\"], [0.4, \"rgb(254,224,144)\"], [0.5, \"rgb(224,243,248)\"], [0.6, \"rgb(171,217,233)\"], [1.0, \"rgb(49,54,149)\"]], \"x\": [\"No actor\", \"Government and state security services\", \"Rebel Groups\", \"Political Militias\", \"Identity Militias\", \"Rioters\", \"Protestors\", \"Civilians\", \"External/other forces\"], \"y\": [\"Government and state security services\", \"Rebel Groups\", \"Political Militias\", \"Identity Militias\", \"Rioters\", \"Protestors\", \"Civilians\", \"External/other forces\"], \"z\": [[0.007357449417535254, 0.0, 0.0, 0.0030656039239730227, 0.0006131207847946045, 0.0, 0.0, 0.010423053341508276, 0.00674432863274065], [0.0, 0.009809932556713672, 0.0, 0.0, 0.0, 0.0, 0.0, 0.00797057020232986, 0.0], [0.001226241569589209, 0.019619865113427344, 0.0, 0.004904966278356836, 0.0, 0.0, 0.0006131207847946045, 0.03862660944206009, 0.0018393623543838135], [0.0, 0.004291845493562232, 0.0006131207847946045, 0.0006131207847946045, 0.004291845493562232, 0.0, 0.0, 0.0269773145309626, 0.0], [0.02575107296137339, 0.056407112201103615, 0.0, 0.0, 0.0, 0.018393623543838136, 0.001226241569589209, 0.028816676885346414, 0.0], [0.6762722256284488, 0.03801348865726548, 0.0, 0.0, 0.0, 0.0, 0.001226241569589209, 0.0006131207847946045, 0.0], [0.0006131207847946045, 0.0, 0.0, 0.0, 0.0, 0.0, 0.0, 0.0, 0.0], [0.001226241569589209, 0.0, 0.0, 0.0, 0.0, 0.0, 0.0, 0.0018393623543838135, 0.0]], \"type\": \"heatmap\", \"uid\": \"88ae765a-82d9-4e4d-bccd-5b6d4a54708e\"}, {\"colorbar\": {\"title\": {\"text\": \"Normalized Frequency\"}}, \"colorscale\": [[0.0, \"rgb(165,0,38)\"], [0.005, \"rgb(215,48,39)\"], [0.2, \"rgb(244,109,67)\"], [0.3, \"rgb(253,174,97)\"], [0.4, \"rgb(254,224,144)\"], [0.5, \"rgb(224,243,248)\"], [0.6, \"rgb(171,217,233)\"], [1.0, \"rgb(49,54,149)\"]], \"x\": [\"No actor\", \"Government and state security services\", \"Political Militias\", \"Identity Militias\", \"Rioters\", \"Protestors\", \"Civilians\", \"External/other forces\"], \"y\": [\"Government and state security services\", \"Rebel Groups\", \"Political Militias\", \"Identity Militias\", \"Rioters\", \"Protestors\", \"External/other forces\"], \"z\": [[0.0018472906403940886, 0.0012315270935960591, 0.003078817733990148, 0.0006157635467980296, 0.0, 0.0, 0.012315270935960592, 0.004310344827586207], [0.0006157635467980296, 0.011699507389162561, 0.0, 0.0, 0.0, 0.0, 0.003694581280788177, 0.0], [0.003078817733990148, 0.02401477832512315, 0.0018472906403940886, 0.0, 0.0006157635467980296, 0.0, 0.04864532019704434, 0.0], [0.0, 0.0018472906403940886, 0.0006157635467980296, 0.005541871921182266, 0.0018472906403940886, 0.0, 0.03017241379310345, 0.0006157635467980296], [0.042487684729064036, 0.10036945812807882, 0.0006157635467980296, 0.0, 0.019704433497536946, 0.003694581280788177, 0.01847290640394089, 0.0006157635467980296], [0.5979064039408867, 0.05172413793103448, 0.0, 0.0, 0.0012315270935960591, 0.0006157635467980296, 0.0012315270935960591, 0.0], [0.0006157635467980296, 0.0018472906403940886, 0.0, 0.0, 0.0, 0.0, 0.0006157635467980296, 0.0]], \"type\": \"heatmap\", \"uid\": \"4c300676-5a92-467e-bb99-0cfbf03a3c0c\"}, {\"colorbar\": {\"title\": {\"text\": \"Normalized Frequency\"}}, \"colorscale\": [[0.0, \"rgb(165,0,38)\"], [0.005, \"rgb(215,48,39)\"], [0.2, \"rgb(244,109,67)\"], [0.3, \"rgb(253,174,97)\"], [0.4, \"rgb(254,224,144)\"], [0.5, \"rgb(224,243,248)\"], [0.6, \"rgb(171,217,233)\"], [1.0, \"rgb(49,54,149)\"]], \"x\": [\"No actor\", \"Government and state security services\", \"Rebel Groups\", \"Political Militias\", \"Identity Militias\", \"Rioters\", \"Protestors\", \"Civilians\", \"External/other forces\"], \"y\": [\"Government and state security services\", \"Rebel Groups\", \"Political Militias\", \"Identity Militias\", \"Rioters\", \"Protestors\", \"Civilians\", \"External/other forces\"], \"z\": [[0.0031725888324873096, 0.0006345177664974619, 0.0006345177664974619, 0.0019035532994923859, 0.0, 0.0, 0.0, 0.010786802030456852, 0.00951776649746193], [0.0012690355329949238, 0.025380710659898477, 0.0, 0.0, 0.0, 0.0, 0.0, 0.010786802030456852, 0.0], [0.0012690355329949238, 0.015862944162436547, 0.0, 0.0038071065989847717, 0.0, 0.0, 0.0, 0.0399746192893401, 0.0012690355329949238], [0.0006345177664974619, 0.0012690355329949238, 0.0, 0.0019035532994923859, 0.0031725888324873096, 0.0, 0.0, 0.021573604060913704, 0.0], [0.037436548223350255, 0.06281725888324872, 0.0, 0.0012690355329949238, 0.0, 0.030456852791878174, 0.0019035532994923859, 0.04060913705583756, 0.0], [0.6269035532994924, 0.041243654822335024, 0.0, 0.0, 0.0, 0.0, 0.0006345177664974619, 0.0, 0.0], [0.0006345177664974619, 0.0, 0.0, 0.0, 0.0, 0.0, 0.0, 0.0, 0.0], [0.0, 0.0, 0.0, 0.0, 0.0, 0.0, 0.0, 0.0012690355329949238, 0.0]], \"type\": \"heatmap\", \"uid\": \"bd3e2abb-8f7a-457a-842c-3935beadfafe\"}, {\"colorbar\": {\"title\": {\"text\": \"Normalized Frequency\"}}, \"colorscale\": [[0.0, \"rgb(165,0,38)\"], [0.005, \"rgb(215,48,39)\"], [0.2, \"rgb(244,109,67)\"], [0.3, \"rgb(253,174,97)\"], [0.4, \"rgb(254,224,144)\"], [0.5, \"rgb(224,243,248)\"], [0.6, \"rgb(171,217,233)\"], [1.0, \"rgb(49,54,149)\"]], \"x\": [\"No actor\", \"Government and state security services\", \"Political Militias\", \"Identity Militias\", \"Rioters\", \"Protestors\", \"Civilians\", \"External/other forces\"], \"y\": [\"Government and state security services\", \"Rebel Groups\", \"Political Militias\", \"Identity Militias\", \"Rioters\", \"Protestors\", \"External/other forces\"], \"z\": [[0.0027643400138217, 0.0, 0.0034554250172771253, 0.0, 0.0, 0.007601935038009675, 0.007601935038009675, 0.00138217000691085], [0.0, 0.014512785072563926, 0.000691085003455425, 0.0, 0.0, 0.0, 0.002073255010366275, 0.0], [0.000691085003455425, 0.015894955079474776, 0.000691085003455425, 0.0, 0.0, 0.0, 0.006910850034554251, 0.0], [0.000691085003455425, 0.00138217000691085, 0.0, 0.000691085003455425, 0.0, 0.0, 0.0055286800276434, 0.0], [0.03248099516240498, 0.1492743607463718, 0.0, 0.0, 0.007601935038009675, 0.0, 0.009675190048375951, 0.0], [0.6337249481686248, 0.08914996544574982, 0.0, 0.0, 0.0, 0.00138217000691085, 0.0, 0.0], [0.000691085003455425, 0.0034554250172771253, 0.0, 0.0, 0.0, 0.0, 0.0, 0.0]], \"type\": \"heatmap\", \"uid\": \"ce9c71fa-6dce-451f-b8a7-030dcf311627\"}, {\"colorbar\": {\"title\": {\"text\": \"Normalized Frequency\"}}, \"colorscale\": [[0.0, \"rgb(165,0,38)\"], [0.005, \"rgb(215,48,39)\"], [0.2, \"rgb(244,109,67)\"], [0.3, \"rgb(253,174,97)\"], [0.4, \"rgb(254,224,144)\"], [0.5, \"rgb(224,243,248)\"], [0.6, \"rgb(171,217,233)\"], [1.0, \"rgb(49,54,149)\"]], \"x\": [\"No actor\", \"Government and state security services\", \"Rebel Groups\", \"Political Militias\", \"Identity Militias\", \"Rioters\", \"Protestors\", \"Civilians\", \"External/other forces\"], \"y\": [\"Government and state security services\", \"Rebel Groups\", \"Political Militias\", \"Identity Militias\", \"Rioters\", \"Protestors\", \"External/other forces\"], \"z\": [[0.0, 0.0, 0.0007369196757553427, 0.0007369196757553427, 0.0, 0.0, 0.0, 0.0029476787030213707, 0.0], [0.0036845983787767134, 0.010316875460574797, 0.0, 0.0, 0.0, 0.0, 0.0, 0.005158437730287398, 0.0], [0.002210759027266028, 0.016212232866617538, 0.0007369196757553427, 0.002210759027266028, 0.0, 0.0, 0.0007369196757553427, 0.01915991156963891, 0.0007369196757553427], [0.0, 0.0, 0.0, 0.0, 0.002210759027266028, 0.0, 0.0, 0.0007369196757553427, 0.0], [0.01989683124539425, 0.03831982313927782, 0.0, 0.0, 0.0, 0.017686072218128224, 0.0007369196757553427, 0.01989683124539425, 0.0007369196757553427], [0.789240972733972, 0.0397936624907885, 0.0, 0.0, 0.0, 0.0, 0.002210759027266028, 0.0, 0.0], [0.0, 0.0029476787030213707, 0.0, 0.0, 0.0, 0.0, 0.0, 0.0, 0.0]], \"type\": \"heatmap\", \"uid\": \"57341d9a-9201-485c-aee9-2b0107388e6e\"}, {\"colorbar\": {\"title\": {\"text\": \"Normalized Frequency\"}}, \"colorscale\": [[0.0, \"rgb(165,0,38)\"], [0.005, \"rgb(215,48,39)\"], [0.2, \"rgb(244,109,67)\"], [0.3, \"rgb(253,174,97)\"], [0.4, \"rgb(254,224,144)\"], [0.5, \"rgb(224,243,248)\"], [0.6, \"rgb(171,217,233)\"], [1.0, \"rgb(49,54,149)\"]], \"x\": [\"No actor\", \"Government and state security services\", \"Rebel Groups\", \"Political Militias\", \"Identity Militias\", \"Rioters\", \"Protestors\", \"Civilians\", \"External/other forces\"], \"y\": [\"Government and state security services\", \"Rebel Groups\", \"Political Militias\", \"Identity Militias\", \"Rioters\", \"Protestors\", \"External/other forces\"], \"z\": [[0.0, 0.0, 0.0007412898443291327, 0.0007412898443291327, 0.0, 0.0, 0.0014825796886582653, 0.004447739065974796, 0.0029651593773165306], [0.0014825796886582653, 0.008895478131949592, 0.0007412898443291327, 0.0, 0.0, 0.0, 0.0, 0.004447739065974796, 0.0], [0.0037064492216456633, 0.011860637509266123, 0.0007412898443291327, 0.0014825796886582653, 0.0, 0.0, 0.0007412898443291327, 0.03261675315048184, 0.0], [0.0, 0.0014825796886582653, 0.0, 0.0007412898443291327, 0.002223869532987398, 0.0, 0.0007412898443291327, 0.006671608598962194, 0.0007412898443291327], [0.02223869532987398, 0.07412898443291327, 0.0, 0.0, 0.0, 0.02223869532987398, 0.0014825796886582653, 0.017790956263899184, 0.0007412898443291327], [0.6945885841363973, 0.07412898443291327, 0.0, 0.0, 0.0, 0.0007412898443291327, 0.0007412898443291327, 0.0, 0.0], [0.0007412898443291327, 0.0, 0.0, 0.0, 0.0, 0.0, 0.0, 0.0007412898443291327, 0.0]], \"type\": \"heatmap\", \"uid\": \"1888c5b1-4af2-43a4-9b20-edc6d638ec76\"}, {\"colorbar\": {\"title\": {\"text\": \"Normalized Frequency\"}}, \"colorscale\": [[0.0, \"rgb(165,0,38)\"], [0.005, \"rgb(215,48,39)\"], [0.2, \"rgb(244,109,67)\"], [0.3, \"rgb(253,174,97)\"], [0.4, \"rgb(254,224,144)\"], [0.5, \"rgb(224,243,248)\"], [0.6, \"rgb(171,217,233)\"], [1.0, \"rgb(49,54,149)\"]], \"x\": [\"No actor\", \"Government and state security services\", \"Rebel Groups\", \"Political Militias\", \"Identity Militias\", \"Rioters\", \"Civilians\", \"External/other forces\"], \"y\": [\"Government and state security services\", \"Rebel Groups\", \"Political Militias\", \"Identity Militias\", \"Rioters\", \"Protestors\", \"External/other forces\"], \"z\": [[0.0007587253414264037, 0.0, 0.0007587253414264037, 0.0, 0.0, 0.0, 0.0037936267071320183, 0.004552352048558422], [0.0007587253414264037, 0.015933232169954476, 0.0, 0.0, 0.0, 0.0, 0.004552352048558422, 0.0], [0.00834597875569044, 0.015174506828528073, 0.0, 0.0007587253414264037, 0.0, 0.0, 0.012898330804248861, 0.0], [0.0, 0.002276176024279211, 0.0, 0.0007587253414264037, 0.0007587253414264037, 0.0, 0.0030349013657056147, 0.0], [0.018209408194233688, 0.07207890743550835, 0.0, 0.0, 0.0, 0.010622154779969651, 0.012139605462822459, 0.0], [0.7071320182094082, 0.06752655538694992, 0.0, 0.0, 0.0, 0.002276176024279211, 0.0, 0.0], [0.0030349013657056147, 0.030349013657056147, 0.0, 0.0, 0.0, 0.0, 0.0015174506828528073, 0.0]], \"type\": \"heatmap\", \"uid\": \"c40c9215-5a96-4c10-8837-c1dee49f1f5c\"}, {\"colorbar\": {\"title\": {\"text\": \"Normalized Frequency\"}}, \"colorscale\": [[0.0, \"rgb(165,0,38)\"], [0.005, \"rgb(215,48,39)\"], [0.2, \"rgb(244,109,67)\"], [0.3, \"rgb(253,174,97)\"], [0.4, \"rgb(254,224,144)\"], [0.5, \"rgb(224,243,248)\"], [0.6, \"rgb(171,217,233)\"], [1.0, \"rgb(49,54,149)\"]], \"x\": [\"No actor\", \"Government and state security services\", \"Rebel Groups\", \"Identity Militias\", \"Rioters\", \"Protestors\", \"Civilians\", \"External/other forces\"], \"y\": [\"Government and state security services\", \"Rebel Groups\", \"Political Militias\", \"Identity Militias\", \"Rioters\", \"Protestors\", \"External/other forces\"], \"z\": [[0.0007593014426727411, 0.0, 0.0, 0.0, 0.0, 0.0, 0.0037965072133637054, 0.015945330296127564], [0.0015186028853454822, 0.012908124525436599, 0.0, 0.0, 0.0, 0.0, 0.002277904328018223, 0.0], [0.006074411541381929, 0.02201974183750949, 0.0007593014426727411, 0.0, 0.0, 0.0, 0.017463933181473046, 0.0007593014426727411], [0.0, 0.0, 0.0, 0.006074411541381929, 0.0, 0.0, 0.005315110098709187, 0.0], [0.02885345482156416, 0.09035687167805619, 0.0, 0.0, 0.02809415337889142, 0.0007593014426727411, 0.026575550493545937, 0.0], [0.6347760060744115, 0.06909643128321943, 0.0, 0.0, 0.0, 0.0007593014426727411, 0.0, 0.0], [0.0015186028853454822, 0.02126044039483675, 0.0, 0.0, 0.0, 0.0, 0.002277904328018223, 0.0]], \"type\": \"heatmap\", \"uid\": \"b1cb3b96-3222-476a-8333-d4e17ea79be2\"}, {\"colorbar\": {\"title\": {\"text\": \"Normalized Frequency\"}}, \"colorscale\": [[0.0, \"rgb(165,0,38)\"], [0.005, \"rgb(215,48,39)\"], [0.2, \"rgb(244,109,67)\"], [0.3, \"rgb(253,174,97)\"], [0.4, \"rgb(254,224,144)\"], [0.5, \"rgb(224,243,248)\"], [0.6, \"rgb(171,217,233)\"], [1.0, \"rgb(49,54,149)\"]], \"x\": [\"No actor\", \"Government and state security services\", \"Rebel Groups\", \"Political Militias\", \"Identity Militias\", \"Rioters\", \"Protestors\", \"Civilians\", \"External/other forces\"], \"y\": [\"Government and state security services\", \"Rebel Groups\", \"Political Militias\", \"Identity Militias\", \"Rioters\", \"Protestors\", \"Civilians\", \"External/other forces\"], \"z\": [[0.005455962587685113, 0.0, 0.000779423226812159, 0.002338269680436477, 0.0, 0.0, 0.0, 0.00779423226812159, 0.000779423226812159], [0.001558846453624318, 0.01558846453624318, 0.0, 0.0, 0.0, 0.0, 0.0, 0.006235385814497272, 0.0], [0.0, 0.03351519875292284, 0.0, 0.003117692907248636, 0.000779423226812159, 0.0, 0.0, 0.03975058456742011, 0.000779423226812159], [0.0, 0.001558846453624318, 0.0, 0.0, 0.010911925175370226, 0.0, 0.0, 0.010132501948558068, 0.0], [0.02260327357755261, 0.04988308651597818, 0.0, 0.0, 0.0, 0.034294621979735, 0.000779423226812159, 0.021823850350740453, 0.0], [0.6453624318004677, 0.05845674201091192, 0.0, 0.000779423226812159, 0.0, 0.0, 0.0, 0.0, 0.0], [0.000779423226812159, 0.0, 0.0, 0.0, 0.0, 0.0, 0.0, 0.0, 0.0], [0.0, 0.02338269680436477, 0.0, 0.0, 0.0, 0.0, 0.0, 0.000779423226812159, 0.0]], \"type\": \"heatmap\", \"uid\": \"f54e5dce-b8fa-47ae-86e0-59d6293b3c63\"}, {\"colorbar\": {\"title\": {\"text\": \"Normalized Frequency\"}}, \"colorscale\": [[0.0, \"rgb(165,0,38)\"], [0.005, \"rgb(215,48,39)\"], [0.2, \"rgb(244,109,67)\"], [0.3, \"rgb(253,174,97)\"], [0.4, \"rgb(254,224,144)\"], [0.5, \"rgb(224,243,248)\"], [0.6, \"rgb(171,217,233)\"], [1.0, \"rgb(49,54,149)\"]], \"x\": [\"No actor\", \"Government and state security services\", \"Rebel Groups\", \"Political Militias\", \"Identity Militias\", \"Rioters\", \"Protestors\", \"Civilians\", \"External/other forces\"], \"y\": [\"Government and state security services\", \"Rebel Groups\", \"Political Militias\", \"Identity Militias\", \"Rioters\", \"Protestors\", \"External/other forces\"], \"z\": [[0.0, 0.0, 0.0, 0.0007867820613690008, 0.0, 0.0, 0.0015735641227380016, 0.003933910306845004, 0.013375295043273014], [0.0023603461841070024, 0.00865460267505901, 0.0, 0.0, 0.0, 0.0, 0.0, 0.004720692368214005, 0.0], [0.0023603461841070024, 0.00944138473642801, 0.0007867820613690008, 0.003147128245476003, 0.0, 0.0, 0.0, 0.020456333595594022, 0.0], [0.0015735641227380016, 0.0007867820613690008, 0.0, 0.0, 0.006294256490952006, 0.0, 0.0, 0.014948859166011016, 0.0], [0.05664830841856806, 0.1022816679779701, 0.0, 0.0, 0.0, 0.01888276947285602, 0.0, 0.01730920535011802, 0.0], [0.6695515342250197, 0.03855232100708104, 0.0, 0.0, 0.0, 0.0007867820613690008, 0.0, 0.0, 0.0], [0.0, 0.0, 0.0, 0.0, 0.0, 0.0, 0.0, 0.0007867820613690008, 0.0]], \"type\": \"heatmap\", \"uid\": \"836beb0f-4932-4c13-a54e-e13d47233a32\"}, {\"colorbar\": {\"title\": {\"text\": \"Normalized Frequency\"}}, \"colorscale\": [[0.0, \"rgb(165,0,38)\"], [0.005, \"rgb(215,48,39)\"], [0.2, \"rgb(244,109,67)\"], [0.3, \"rgb(253,174,97)\"], [0.4, \"rgb(254,224,144)\"], [0.5, \"rgb(224,243,248)\"], [0.6, \"rgb(171,217,233)\"], [1.0, \"rgb(49,54,149)\"]], \"x\": [\"No actor\", \"Government and state security services\", \"Rebel Groups\", \"Political Militias\", \"Identity Militias\", \"Rioters\", \"Protestors\", \"Civilians\", \"External/other forces\"], \"y\": [\"Government and state security services\", \"Rebel Groups\", \"Political Militias\", \"Identity Militias\", \"Rioters\", \"Protestors\", \"External/other forces\"], \"z\": [[0.006493506493506494, 0.0, 0.0016233766233766235, 0.0016233766233766235, 0.0, 0.0, 0.0, 0.006493506493506494, 0.004058441558441558], [0.0008116883116883117, 0.017045454545454544, 0.0, 0.0, 0.0008116883116883117, 0.0, 0.0, 0.0016233766233766235, 0.0], [0.003246753246753247, 0.030032467532467532, 0.0008116883116883117, 0.0016233766233766235, 0.0, 0.0008116883116883117, 0.0, 0.025162337662337664, 0.0008116883116883117], [0.0, 0.0, 0.0, 0.0, 0.003246753246753247, 0.0, 0.0, 0.033279220779220776, 0.0], [0.028409090909090908, 0.05519480519480519, 0.0, 0.0, 0.0, 0.010551948051948052, 0.0, 0.017045454545454544, 0.0008116883116883117], [0.6964285714285714, 0.048701298701298704, 0.0, 0.0008116883116883117, 0.0, 0.0, 0.0016233766233766235, 0.0, 0.0], [0.0008116883116883117, 0.0, 0.0, 0.0, 0.0, 0.0, 0.0, 0.0, 0.0]], \"type\": \"heatmap\", \"uid\": \"b237bfe0-a6c4-49c7-89c0-b636f5157efe\"}, {\"colorbar\": {\"title\": {\"text\": \"Normalized Frequency\"}}, \"colorscale\": [[0.0, \"rgb(165,0,38)\"], [0.005, \"rgb(215,48,39)\"], [0.2, \"rgb(244,109,67)\"], [0.3, \"rgb(253,174,97)\"], [0.4, \"rgb(254,224,144)\"], [0.5, \"rgb(224,243,248)\"], [0.6, \"rgb(171,217,233)\"], [1.0, \"rgb(49,54,149)\"]], \"x\": [\"No actor\", \"Government and state security services\", \"Rebel Groups\", \"Political Militias\", \"Identity Militias\", \"Rioters\", \"Protestors\", \"Civilians\", \"External/other forces\"], \"y\": [\"Government and state security services\", \"Rebel Groups\", \"Political Militias\", \"Identity Militias\", \"Rioters\", \"Protestors\"], \"z\": [[0.0016474464579901153, 0.0, 0.004942339373970346, 0.006589785831960461, 0.0, 0.0, 0.0, 0.009060955518945634, 0.0], [0.0, 0.002471169686985173, 0.0, 0.0, 0.0, 0.0, 0.0, 0.005766062602965404, 0.0], [0.0032948929159802307, 0.009060955518945634, 0.0, 0.0008237232289950577, 0.0, 0.0, 0.0, 0.018945634266886325, 0.0008237232289950577], [0.0, 0.0032948929159802307, 0.0, 0.0008237232289950577, 0.011532125205930808, 0.0, 0.0, 0.01070840197693575, 0.0], [0.009884678747940691, 0.0642504118616145, 0.0, 0.0, 0.0, 0.009884678747940691, 0.0, 0.01070840197693575, 0.0], [0.7322899505766063, 0.0815485996705107, 0.0, 0.0008237232289950577, 0.0, 0.0, 0.0008237232289950577, 0.0, 0.0]], \"type\": \"heatmap\", \"uid\": \"11c42c11-2352-4855-880c-24e3316f24fe\"}, {\"colorbar\": {\"title\": {\"text\": \"Normalized Frequency\"}}, \"colorscale\": [[0.0, \"rgb(165,0,38)\"], [0.005, \"rgb(215,48,39)\"], [0.2, \"rgb(244,109,67)\"], [0.3, \"rgb(253,174,97)\"], [0.4, \"rgb(254,224,144)\"], [0.5, \"rgb(224,243,248)\"], [0.6, \"rgb(171,217,233)\"], [1.0, \"rgb(49,54,149)\"]], \"x\": [\"No actor\", \"Government and state security services\", \"Rebel Groups\", \"Political Militias\", \"Identity Militias\", \"Rioters\", \"Protestors\", \"Civilians\", \"External/other forces\"], \"y\": [\"Government and state security services\", \"Rebel Groups\", \"Political Militias\", \"Identity Militias\", \"Rioters\", \"Protestors\"], \"z\": [[0.0, 0.0, 0.0008431703204047217, 0.0, 0.0, 0.0, 0.0, 0.005902192242833052, 0.024451939291736932], [0.0, 0.021079258010118045, 0.0, 0.0, 0.0, 0.0, 0.0, 0.0016863406408094434, 0.0], [0.0, 0.026981450252951095, 0.0, 0.003372681281618887, 0.0, 0.0, 0.0, 0.012647554806070826, 0.0008431703204047217], [0.0, 0.0016863406408094434, 0.0, 0.0, 0.003372681281618887, 0.0, 0.0, 0.012647554806070826, 0.0], [0.02782462057335582, 0.0893760539629005, 0.0, 0.0, 0.0, 0.01517706576728499, 0.0008431703204047217, 0.006745362563237774, 0.0], [0.7074198988195616, 0.03625632377740304, 0.0, 0.0, 0.0, 0.0008431703204047217, 0.0, 0.0, 0.0]], \"type\": \"heatmap\", \"uid\": \"15d2cf65-f120-4265-b9e5-fe7c0ac08379\"}, {\"colorbar\": {\"title\": {\"text\": \"Normalized Frequency\"}}, \"colorscale\": [[0.0, \"rgb(165,0,38)\"], [0.005, \"rgb(215,48,39)\"], [0.2, \"rgb(244,109,67)\"], [0.3, \"rgb(253,174,97)\"], [0.4, \"rgb(254,224,144)\"], [0.5, \"rgb(224,243,248)\"], [0.6, \"rgb(171,217,233)\"], [1.0, \"rgb(49,54,149)\"]], \"x\": [\"No actor\", \"Government and state security services\", \"Rebel Groups\", \"Political Militias\", \"Identity Militias\", \"Rioters\", \"Civilians\", \"External/other forces\"], \"y\": [\"Government and state security services\", \"Rebel Groups\", \"Political Militias\", \"Identity Militias\", \"Rioters\", \"Protestors\", \"External/other forces\"], \"z\": [[0.003404255319148936, 0.0, 0.000851063829787234, 0.000851063829787234, 0.0, 0.0, 0.005957446808510639, 0.0], [0.002553191489361702, 0.02127659574468085, 0.0, 0.0, 0.0, 0.0, 0.005106382978723404, 0.0], [0.001702127659574468, 0.011063829787234043, 0.0, 0.00425531914893617, 0.0, 0.0, 0.02468085106382979, 0.0], [0.0, 0.000851063829787234, 0.0, 0.001702127659574468, 0.000851063829787234, 0.0, 0.005106382978723404, 0.0], [0.04, 0.09361702127659574, 0.0, 0.0, 0.0, 0.05191489361702128, 0.02127659574468085, 0.000851063829787234], [0.6382978723404256, 0.06127659574468085, 0.0, 0.0, 0.0, 0.0, 0.0, 0.0], [0.0, 0.002553191489361702, 0.0, 0.0, 0.0, 0.0, 0.0, 0.0]], \"type\": \"heatmap\", \"uid\": \"f58efa26-d7d9-4bcc-9e79-d9244819c83d\"}, {\"colorbar\": {\"title\": {\"text\": \"Normalized Frequency\"}}, \"colorscale\": [[0.0, \"rgb(165,0,38)\"], [0.005, \"rgb(215,48,39)\"], [0.2, \"rgb(244,109,67)\"], [0.3, \"rgb(253,174,97)\"], [0.4, \"rgb(254,224,144)\"], [0.5, \"rgb(224,243,248)\"], [0.6, \"rgb(171,217,233)\"], [1.0, \"rgb(49,54,149)\"]], \"x\": [\"No actor\", \"Government and state security services\", \"Political Militias\", \"Identity Militias\", \"Rioters\", \"Protestors\", \"Civilians\", \"External/other forces\"], \"y\": [\"Government and state security services\", \"Rebel Groups\", \"Political Militias\", \"Identity Militias\", \"Rioters\", \"Protestors\", \"External/other forces\"], \"z\": [[0.0051325919589392645, 0.0, 0.001710863986313088, 0.0, 0.0, 0.000855431993156544, 0.0025662959794696323, 0.04448246364414029], [0.00427715996578272, 0.007698887938408896, 0.0, 0.0, 0.0, 0.0, 0.00427715996578272, 0.0], [0.000855431993156544, 0.018819503849443968, 0.001710863986313088, 0.0, 0.000855431993156544, 0.000855431993156544, 0.017964071856287425, 0.0], [0.0, 0.0, 0.0, 0.00427715996578272, 0.0, 0.0, 0.005988023952095809, 0.0], [0.04790419161676647, 0.04790419161676647, 0.0, 0.0, 0.011120615911035072, 0.000855431993156544, 0.016253207869974338, 0.0], [0.7031650983746792, 0.04790419161676647, 0.0, 0.0, 0.0, 0.0, 0.0, 0.0], [0.000855431993156544, 0.000855431993156544, 0.0, 0.0, 0.0, 0.0, 0.000855431993156544, 0.0]], \"type\": \"heatmap\", \"uid\": \"77954e27-f750-4809-b53d-247037c0ae52\"}, {\"colorbar\": {\"title\": {\"text\": \"Normalized Frequency\"}}, \"colorscale\": [[0.0, \"rgb(165,0,38)\"], [0.005, \"rgb(215,48,39)\"], [0.2, \"rgb(244,109,67)\"], [0.3, \"rgb(253,174,97)\"], [0.4, \"rgb(254,224,144)\"], [0.5, \"rgb(224,243,248)\"], [0.6, \"rgb(171,217,233)\"], [1.0, \"rgb(49,54,149)\"]], \"x\": [\"No actor\", \"Government and state security services\", \"Political Militias\", \"Identity Militias\", \"Rioters\", \"Protestors\", \"Civilians\", \"External/other forces\"], \"y\": [\"Government and state security services\", \"Rebel Groups\", \"Political Militias\", \"Identity Militias\", \"Rioters\", \"Protestors\", \"External/other forces\"], \"z\": [[0.0026086956521739132, 0.0, 0.0008695652173913044, 0.0008695652173913044, 0.0, 0.010434782608695653, 0.00608695652173913, 0.0008695652173913044], [0.0052173913043478265, 0.011304347826086957, 0.0, 0.0, 0.0, 0.0, 0.0052173913043478265, 0.0], [0.0034782608695652175, 0.02, 0.0, 0.0, 0.0, 0.0, 0.01217391304347826, 0.0008695652173913044], [0.0, 0.0008695652173913044, 0.0, 0.0026086956521739132, 0.0, 0.0, 0.011304347826086957, 0.0], [0.02434782608695652, 0.13391304347826086, 0.0, 0.0, 0.006956521739130435, 0.0008695652173913044, 0.01652173913043478, 0.0], [0.6295652173913043, 0.08956521739130435, 0.0, 0.0, 0.0, 0.0, 0.0, 0.0], [0.0, 0.0034782608695652175, 0.0, 0.0, 0.0, 0.0, 0.0, 0.0]], \"type\": \"heatmap\", \"uid\": \"5635e851-d814-40e9-9a00-2af5d40d63b7\"}, {\"colorbar\": {\"title\": {\"text\": \"Normalized Frequency\"}}, \"colorscale\": [[0.0, \"rgb(165,0,38)\"], [0.005, \"rgb(215,48,39)\"], [0.2, \"rgb(244,109,67)\"], [0.3, \"rgb(253,174,97)\"], [0.4, \"rgb(254,224,144)\"], [0.5, \"rgb(224,243,248)\"], [0.6, \"rgb(171,217,233)\"], [1.0, \"rgb(49,54,149)\"]], \"x\": [\"No actor\", \"Government and state security services\", \"Political Militias\", \"Identity Militias\", \"Rioters\", \"Protestors\", \"Civilians\", \"External/other forces\"], \"y\": [\"Government and state security services\", \"Rebel Groups\", \"Political Militias\", \"Identity Militias\", \"Rioters\", \"Protestors\", \"External/other forces\"], \"z\": [[0.0045045045045045045, 0.0, 0.0, 0.0, 0.0, 0.0009009009009009009, 0.005405405405405406, 0.002702702702702703], [0.0, 0.013513513513513514, 0.0, 0.0, 0.0, 0.0, 0.0045045045045045045, 0.0], [0.0018018018018018018, 0.04684684684684685, 0.0, 0.0009009009009009009, 0.0, 0.0, 0.027927927927927927, 0.0], [0.0, 0.002702702702702703, 0.0, 0.009009009009009009, 0.0, 0.0, 0.027927927927927927, 0.0], [0.011711711711711712, 0.062162162162162166, 0.0, 0.0, 0.017117117117117116, 0.0, 0.01981981981981982, 0.0], [0.6774774774774774, 0.055855855855855854, 0.0009009009009009009, 0.0, 0.0, 0.0036036036036036037, 0.0, 0.0], [0.0009009009009009009, 0.0018018018018018018, 0.0, 0.0, 0.0, 0.0, 0.0, 0.0]], \"type\": \"heatmap\", \"uid\": \"085d5481-b8f6-4154-99f1-74904c765a6f\"}, {\"colorbar\": {\"title\": {\"text\": \"Normalized Frequency\"}}, \"colorscale\": [[0.0, \"rgb(165,0,38)\"], [0.005, \"rgb(215,48,39)\"], [0.2, \"rgb(244,109,67)\"], [0.3, \"rgb(253,174,97)\"], [0.4, \"rgb(254,224,144)\"], [0.5, \"rgb(224,243,248)\"], [0.6, \"rgb(171,217,233)\"], [1.0, \"rgb(49,54,149)\"]], \"x\": [\"No actor\", \"Government and state security services\", \"Rebel Groups\", \"Political Militias\", \"Identity Militias\", \"Rioters\", \"Protestors\", \"Civilians\"], \"y\": [\"Government and state security services\", \"Rebel Groups\", \"Political Militias\", \"Identity Militias\", \"Rioters\", \"Protestors\", \"External/other forces\"], \"z\": [[0.0009124087591240876, 0.0, 0.0018248175182481751, 0.005474452554744526, 0.0, 0.0, 0.0, 0.004562043795620438], [0.0009124087591240876, 0.014598540145985401, 0.0, 0.0, 0.0, 0.0, 0.0, 0.008211678832116789], [0.0, 0.013686131386861315, 0.0, 0.0018248175182481751, 0.0, 0.0, 0.0009124087591240876, 0.01916058394160584], [0.0, 0.0009124087591240876, 0.0, 0.0009124087591240876, 0.002737226277372263, 0.0, 0.0, 0.0036496350364963502], [0.016423357664233577, 0.07755474452554745, 0.0, 0.0, 0.0, 0.02645985401459854, 0.0009124087591240876, 0.013686131386861315], [0.718065693430657, 0.04927007299270073, 0.0, 0.0, 0.0, 0.0, 0.0018248175182481751, 0.0], [0.0, 0.01551094890510949, 0.0, 0.0, 0.0, 0.0, 0.0, 0.0]], \"type\": \"heatmap\", \"uid\": \"aa164bcd-9d17-4bc0-834b-ff1e28cc9342\"}, {\"colorbar\": {\"title\": {\"text\": \"Normalized Frequency\"}}, \"colorscale\": [[0.0, \"rgb(165,0,38)\"], [0.005, \"rgb(215,48,39)\"], [0.2, \"rgb(244,109,67)\"], [0.3, \"rgb(253,174,97)\"], [0.4, \"rgb(254,224,144)\"], [0.5, \"rgb(224,243,248)\"], [0.6, \"rgb(171,217,233)\"], [1.0, \"rgb(49,54,149)\"]], \"x\": [\"No actor\", \"Government and state security services\", \"Political Militias\", \"Identity Militias\", \"Rioters\", \"Protestors\", \"Civilians\", \"External/other forces\"], \"y\": [\"Government and state security services\", \"Rebel Groups\", \"Political Militias\", \"Identity Militias\", \"Rioters\", \"Protestors\", \"External/other forces\"], \"z\": [[0.0, 0.0, 0.0, 0.0, 0.0, 0.0, 0.005676442762535478, 0.0], [0.005676442762535478, 0.020813623462630087, 0.0, 0.0, 0.0, 0.0, 0.007568590350047304, 0.000946073793755913], [0.003784295175023652, 0.01608325449385052, 0.005676442762535478, 0.0, 0.0, 0.0, 0.020813623462630087, 0.0], [0.001892147587511826, 0.000946073793755913, 0.0, 0.004730368968779565, 0.0, 0.0, 0.01229895931882687, 0.0], [0.02554399243140965, 0.10406811731315042, 0.0, 0.0, 0.03595080416272469, 0.000946073793755913, 0.013245033112582781, 0.002838221381267739], [0.6433301797540208, 0.04446546830652791, 0.0, 0.0, 0.0, 0.001892147587511826, 0.0, 0.0], [0.0, 0.019867549668874173, 0.0, 0.0, 0.0, 0.0, 0.000946073793755913, 0.0]], \"type\": \"heatmap\", \"uid\": \"3aba5211-bd71-46b4-9ef5-48c3376f4b7c\"}, {\"colorbar\": {\"title\": {\"text\": \"Normalized Frequency\"}}, \"colorscale\": [[0.0, \"rgb(165,0,38)\"], [0.005, \"rgb(215,48,39)\"], [0.2, \"rgb(244,109,67)\"], [0.3, \"rgb(253,174,97)\"], [0.4, \"rgb(254,224,144)\"], [0.5, \"rgb(224,243,248)\"], [0.6, \"rgb(171,217,233)\"], [1.0, \"rgb(49,54,149)\"]], \"x\": [\"No actor\", \"Government and state security services\", \"Rebel Groups\", \"Political Militias\", \"Identity Militias\", \"Rioters\", \"Protestors\", \"Civilians\", \"External/other forces\"], \"y\": [\"Government and state security services\", \"Rebel Groups\", \"Political Militias\", \"Identity Militias\", \"Rioters\", \"Protestors\", \"External/other forces\"], \"z\": [[0.005714285714285714, 0.0, 0.0009523809523809524, 0.0019047619047619048, 0.0, 0.0, 0.0, 0.007619047619047619, 0.018095238095238095], [0.0038095238095238095, 0.014285714285714285, 0.0, 0.0, 0.0, 0.0, 0.0, 0.0038095238095238095, 0.0], [0.002857142857142857, 0.013333333333333334, 0.0, 0.0019047619047619048, 0.0, 0.0, 0.0009523809523809524, 0.025714285714285714, 0.0009523809523809524], [0.0, 0.0009523809523809524, 0.0, 0.0, 0.0009523809523809524, 0.0, 0.0, 0.008571428571428572, 0.0], [0.022857142857142857, 0.05238095238095238, 0.0, 0.0, 0.0, 0.02095238095238095, 0.002857142857142857, 0.017142857142857144, 0.0], [0.7152380952380952, 0.05523809523809524, 0.0, 0.0, 0.0, 0.0, 0.0, 0.0, 0.0], [0.0, 0.0009523809523809524, 0.0, 0.0, 0.0, 0.0, 0.0, 0.0, 0.0]], \"type\": \"heatmap\", \"uid\": \"b7c2564d-2928-4d52-b6c8-603885cac701\"}, {\"colorbar\": {\"title\": {\"text\": \"Normalized Frequency\"}}, \"colorscale\": [[0.0, \"rgb(165,0,38)\"], [0.005, \"rgb(215,48,39)\"], [0.2, \"rgb(244,109,67)\"], [0.3, \"rgb(253,174,97)\"], [0.4, \"rgb(254,224,144)\"], [0.5, \"rgb(224,243,248)\"], [0.6, \"rgb(171,217,233)\"], [1.0, \"rgb(49,54,149)\"]], \"x\": [\"No actor\", \"Government and state security services\", \"Political Militias\", \"Identity Militias\", \"Rioters\", \"Protestors\", \"Civilians\"], \"y\": [\"Government and state security services\", \"Rebel Groups\", \"Political Militias\", \"Identity Militias\", \"Rioters\", \"Protestors\"], \"z\": [[0.002859866539561487, 0.0, 0.005719733079122974, 0.0, 0.0, 0.0019065776930409914, 0.0019065776930409914], [0.00667302192564347, 0.0219256434699714, 0.0, 0.0, 0.0, 0.0, 0.0076263107721639654], [0.0019065776930409914, 0.004766444232602479, 0.0019065776930409914, 0.0, 0.0, 0.0, 0.027645376549094377], [0.0, 0.0, 0.0, 0.0038131553860819827, 0.0, 0.0, 0.004766444232602479], [0.04575786463298379, 0.052430886558627265, 0.0, 0.0, 0.023832221163012392, 0.004766444232602479, 0.010486177311725452], [0.7102001906577693, 0.05624404194470925, 0.0, 0.0, 0.0009532888465204957, 0.0019065776930409914, 0.0]], \"type\": \"heatmap\", \"uid\": \"6cab92dd-22e9-479f-90b7-4e25781fbaf2\"}, {\"colorbar\": {\"title\": {\"text\": \"Normalized Frequency\"}}, \"colorscale\": [[0.0, \"rgb(165,0,38)\"], [0.005, \"rgb(215,48,39)\"], [0.2, \"rgb(244,109,67)\"], [0.3, \"rgb(253,174,97)\"], [0.4, \"rgb(254,224,144)\"], [0.5, \"rgb(224,243,248)\"], [0.6, \"rgb(171,217,233)\"], [1.0, \"rgb(49,54,149)\"]], \"x\": [\"No actor\", \"Government and state security services\", \"Political Militias\", \"Identity Militias\", \"Rioters\", \"Protestors\", \"Civilians\", \"External/other forces\"], \"y\": [\"Government and state security services\", \"Rebel Groups\", \"Political Militias\", \"Identity Militias\", \"Rioters\", \"Protestors\", \"External/other forces\"], \"z\": [[0.0009727626459143969, 0.0, 0.0, 0.0, 0.0, 0.0019455252918287938, 0.0048638132295719845, 0.023346303501945526], [0.0, 0.0038910505836575876, 0.0, 0.0, 0.0, 0.0, 0.0009727626459143969, 0.0], [0.0, 0.023346303501945526, 0.0038910505836575876, 0.0, 0.0, 0.0, 0.014591439688715954, 0.0], [0.0, 0.0, 0.0, 0.0029182879377431907, 0.0, 0.0, 0.010700389105058366, 0.0], [0.04474708171206226, 0.06712062256809338, 0.0, 0.0, 0.016536964980544747, 0.0, 0.010700389105058366, 0.0009727626459143969], [0.730544747081712, 0.03599221789883268, 0.0, 0.0, 0.0, 0.0009727626459143969, 0.0, 0.0], [0.0, 0.0009727626459143969, 0.0, 0.0, 0.0, 0.0, 0.0, 0.0]], \"type\": \"heatmap\", \"uid\": \"071d18b1-fbde-48b5-ba2b-222d58fbd49d\"}, {\"colorbar\": {\"title\": {\"text\": \"Normalized Frequency\"}}, \"colorscale\": [[0.0, \"rgb(165,0,38)\"], [0.005, \"rgb(215,48,39)\"], [0.2, \"rgb(244,109,67)\"], [0.3, \"rgb(253,174,97)\"], [0.4, \"rgb(254,224,144)\"], [0.5, \"rgb(224,243,248)\"], [0.6, \"rgb(171,217,233)\"], [1.0, \"rgb(49,54,149)\"]], \"x\": [\"No actor\", \"Government and state security services\", \"Rebel Groups\", \"Political Militias\", \"Rioters\", \"Protestors\", \"Civilians\", \"External/other forces\"], \"y\": [\"Government and state security services\", \"Rebel Groups\", \"Political Militias\", \"Identity Militias\", \"Rioters\", \"Protestors\"], \"z\": [[0.0019474196689386564, 0.0, 0.0, 0.013631937682570594, 0.0, 0.02044790652385589, 0.004868549172346641, 0.0019474196689386564], [0.0009737098344693282, 0.006815968841285297, 0.0, 0.0, 0.0, 0.0, 0.0009737098344693282, 0.0], [0.0009737098344693282, 0.008763388510223954, 0.0009737098344693282, 0.0, 0.0, 0.0, 0.007789678675754625, 0.0], [0.0019474196689386564, 0.0, 0.0, 0.0, 0.0, 0.0, 0.0009737098344693282, 0.0], [0.05063291139240506, 0.11100292112950341, 0.0, 0.0, 0.013631937682570594, 0.0009737098344693282, 0.005842259006815969, 0.0], [0.688412852969815, 0.055501460564751706, 0.0, 0.0, 0.0, 0.0009737098344693282, 0.0, 0.0]], \"type\": \"heatmap\", \"uid\": \"21c2c7f5-0b45-4c1a-97d9-1cc9f3e39eb0\"}, {\"colorbar\": {\"title\": {\"text\": \"Normalized Frequency\"}}, \"colorscale\": [[0.0, \"rgb(165,0,38)\"], [0.005, \"rgb(215,48,39)\"], [0.2, \"rgb(244,109,67)\"], [0.3, \"rgb(253,174,97)\"], [0.4, \"rgb(254,224,144)\"], [0.5, \"rgb(224,243,248)\"], [0.6, \"rgb(171,217,233)\"], [1.0, \"rgb(49,54,149)\"]], \"x\": [\"No actor\", \"Government and state security services\", \"Political Militias\", \"Identity Militias\", \"Rioters\", \"Protestors\", \"Civilians\", \"External/other forces\"], \"y\": [\"Government and state security services\", \"Rebel Groups\", \"Political Militias\", \"Identity Militias\", \"Rioters\", \"Protestors\"], \"z\": [[0.000998003992015968, 0.0, 0.006986027944111776, 0.0, 0.0, 0.000998003992015968, 0.001996007984031936, 0.000998003992015968], [0.000998003992015968, 0.011976047904191617, 0.0, 0.0, 0.0, 0.0, 0.00499001996007984, 0.0], [0.00499001996007984, 0.012974051896207584, 0.0029940119760479044, 0.0, 0.0, 0.0, 0.04091816367265469, 0.0], [0.0, 0.000998003992015968, 0.0, 0.0029940119760479044, 0.0, 0.0, 0.006986027944111776, 0.0], [0.023952095808383235, 0.08083832335329341, 0.0, 0.0, 0.029940119760479042, 0.000998003992015968, 0.03493013972055888, 0.0], [0.6497005988023952, 0.07584830339321358, 0.0, 0.0, 0.000998003992015968, 0.0, 0.0, 0.0]], \"type\": \"heatmap\", \"uid\": \"e1d39444-a962-472c-aa45-fb30d2ae567c\"}, {\"colorbar\": {\"title\": {\"text\": \"Normalized Frequency\"}}, \"colorscale\": [[0.0, \"rgb(165,0,38)\"], [0.005, \"rgb(215,48,39)\"], [0.2, \"rgb(244,109,67)\"], [0.3, \"rgb(253,174,97)\"], [0.4, \"rgb(254,224,144)\"], [0.5, \"rgb(224,243,248)\"], [0.6, \"rgb(171,217,233)\"], [1.0, \"rgb(49,54,149)\"]], \"x\": [\"No actor\", \"Government and state security services\", \"Rebel Groups\", \"Rioters\", \"Protestors\", \"Civilians\", \"External/other forces\"], \"y\": [\"Government and state security services\", \"Rebel Groups\", \"Political Militias\", \"Identity Militias\", \"Rioters\", \"Protestors\"], \"z\": [[0.0, 0.0, 0.001002004008016032, 0.0, 0.0, 0.0, 0.001002004008016032], [0.001002004008016032, 0.004008016032064128, 0.0, 0.0, 0.0, 0.004008016032064128, 0.0], [0.0070140280561122245, 0.004008016032064128, 0.0, 0.0, 0.0, 0.013026052104208416, 0.0], [0.0, 0.0, 0.0, 0.0, 0.0, 0.003006012024048096, 0.0], [0.06613226452905811, 0.06613226452905811, 0.0, 0.013026052104208416, 0.0, 0.009018036072144289, 0.0], [0.782565130260521, 0.022044088176352707, 0.0, 0.0, 0.003006012024048096, 0.0, 0.0]], \"type\": \"heatmap\", \"uid\": \"1d637aa9-e2c9-4271-91ec-7eb93d679bd9\"}, {\"colorbar\": {\"title\": {\"text\": \"Normalized Frequency\"}}, \"colorscale\": [[0.0, \"rgb(165,0,38)\"], [0.005, \"rgb(215,48,39)\"], [0.2, \"rgb(244,109,67)\"], [0.3, \"rgb(253,174,97)\"], [0.4, \"rgb(254,224,144)\"], [0.5, \"rgb(224,243,248)\"], [0.6, \"rgb(171,217,233)\"], [1.0, \"rgb(49,54,149)\"]], \"x\": [\"No actor\", \"Government and state security services\", \"Rebel Groups\", \"Political Militias\", \"Identity Militias\", \"Rioters\", \"Protestors\", \"Civilians\", \"External/other forces\"], \"y\": [\"Government and state security services\", \"Rebel Groups\", \"Political Militias\", \"Identity Militias\", \"Rioters\", \"Protestors\"], \"z\": [[0.0, 0.0, 0.002074688796680498, 0.001037344398340249, 0.0, 0.0, 0.0, 0.002074688796680498, 0.03630705394190872], [0.005186721991701245, 0.013485477178423237, 0.0, 0.0, 0.0, 0.0, 0.0, 0.001037344398340249, 0.0], [0.002074688796680498, 0.024896265560165973, 0.002074688796680498, 0.0, 0.0, 0.0, 0.0, 0.015560165975103735, 0.0], [0.0, 0.0, 0.0, 0.0, 0.002074688796680498, 0.0, 0.0, 0.008298755186721992, 0.0], [0.00933609958506224, 0.04564315352697095, 0.0, 0.0, 0.0, 0.014522821576763486, 0.001037344398340249, 0.00933609958506224, 0.0], [0.7479253112033195, 0.054979253112033194, 0.0, 0.0, 0.0, 0.0, 0.001037344398340249, 0.0, 0.0]], \"type\": \"heatmap\", \"uid\": \"17214f9c-4fa5-45d0-bb27-89f9f5a6c277\"}, {\"colorbar\": {\"title\": {\"text\": \"Normalized Frequency\"}}, \"colorscale\": [[0.0, \"rgb(165,0,38)\"], [0.005, \"rgb(215,48,39)\"], [0.2, \"rgb(244,109,67)\"], [0.3, \"rgb(253,174,97)\"], [0.4, \"rgb(254,224,144)\"], [0.5, \"rgb(224,243,248)\"], [0.6, \"rgb(171,217,233)\"], [1.0, \"rgb(49,54,149)\"]], \"x\": [\"No actor\", \"Government and state security services\", \"Political Militias\", \"Identity Militias\", \"Rioters\", \"Civilians\"], \"y\": [\"Government and state security services\", \"Rebel Groups\", \"Political Militias\", \"Identity Militias\", \"Rioters\", \"Protestors\", \"External/other forces\"], \"z\": [[0.0, 0.0, 0.002079002079002079, 0.0, 0.0, 0.0031185031185031187], [0.0, 0.012474012474012475, 0.0, 0.0, 0.0, 0.007276507276507277], [0.004158004158004158, 0.016632016632016633, 0.0, 0.0, 0.0, 0.02390852390852391], [0.0, 0.0010395010395010396, 0.0, 0.002079002079002079, 0.0, 0.007276507276507277], [0.031185031185031187, 0.06652806652806653, 0.0, 0.0, 0.016632016632016633, 0.01975051975051975], [0.7245322245322245, 0.056133056133056136, 0.0, 0.0, 0.0, 0.0], [0.0, 0.004158004158004158, 0.0, 0.0, 0.0, 0.0010395010395010396]], \"type\": \"heatmap\", \"uid\": \"ea8dcc0f-e103-4566-9d64-cab0c1ac4369\"}, {\"colorbar\": {\"title\": {\"text\": \"Normalized Frequency\"}}, \"colorscale\": [[0.0, \"rgb(165,0,38)\"], [0.005, \"rgb(215,48,39)\"], [0.2, \"rgb(244,109,67)\"], [0.3, \"rgb(253,174,97)\"], [0.4, \"rgb(254,224,144)\"], [0.5, \"rgb(224,243,248)\"], [0.6, \"rgb(171,217,233)\"], [1.0, \"rgb(49,54,149)\"]], \"x\": [\"No actor\", \"Government and state security services\", \"Rebel Groups\", \"Political Militias\", \"Rioters\", \"Protestors\", \"Civilians\", \"External/other forces\"], \"y\": [\"Government and state security services\", \"Rebel Groups\", \"Political Militias\", \"Identity Militias\", \"Rioters\", \"Protestors\", \"External/other forces\"], \"z\": [[0.005574136008918618, 0.0011148272017837235, 0.002229654403567447, 0.0011148272017837235, 0.0, 0.0, 0.005574136008918618, 0.0033444816053511705], [0.002229654403567447, 0.016722408026755852, 0.0, 0.0, 0.0, 0.0, 0.002229654403567447, 0.0], [0.0, 0.022296544035674472, 0.0, 0.004459308807134894, 0.0, 0.0, 0.03901895206243032, 0.0011148272017837235], [0.0, 0.0, 0.0, 0.0, 0.0, 0.0, 0.002229654403567447, 0.0], [0.013377926421404682, 0.045707915273132664, 0.0, 0.0, 0.016722408026755852, 0.002229654403567447, 0.022296544035674472, 0.0], [0.6755852842809364, 0.056856187290969896, 0.0, 0.0, 0.0, 0.0, 0.0, 0.0], [0.0033444816053511705, 0.054626532887402456, 0.0, 0.0, 0.0, 0.0, 0.0, 0.0]], \"type\": \"heatmap\", \"uid\": \"581652f1-821e-4011-a538-3e4558829368\"}, {\"colorbar\": {\"title\": {\"text\": \"Normalized Frequency\"}}, \"colorscale\": [[0.0, \"rgb(165,0,38)\"], [0.005, \"rgb(215,48,39)\"], [0.2, \"rgb(244,109,67)\"], [0.3, \"rgb(253,174,97)\"], [0.4, \"rgb(254,224,144)\"], [0.5, \"rgb(224,243,248)\"], [0.6, \"rgb(171,217,233)\"], [1.0, \"rgb(49,54,149)\"]], \"x\": [\"No actor\", \"Government and state security services\", \"Rebel Groups\", \"Political Militias\", \"Identity Militias\", \"Rioters\", \"Civilians\", \"External/other forces\"], \"y\": [\"Government and state security services\", \"Rebel Groups\", \"Political Militias\", \"Identity Militias\", \"Rioters\", \"Protestors\", \"External/other forces\"], \"z\": [[0.0012804097311139564, 0.0, 0.0012804097311139564, 0.0012804097311139564, 0.0, 0.0, 0.0, 0.0038412291933418692], [0.006402048655569782, 0.015364916773367477, 0.0, 0.0012804097311139564, 0.0, 0.0, 0.006402048655569782, 0.0], [0.0038412291933418692, 0.01792573623559539, 0.0, 0.0012804097311139564, 0.0, 0.0, 0.03713188220230474, 0.0], [0.0, 0.0, 0.0, 0.0, 0.002560819462227913, 0.0, 0.002560819462227913, 0.0], [0.040973111395646605, 0.06017925736235595, 0.0, 0.0, 0.0, 0.07298335467349552, 0.03329065300896287, 0.0], [0.6069142125480154, 0.0793854033290653, 0.0, 0.0, 0.0, 0.0, 0.0, 0.0], [0.0, 0.002560819462227913, 0.0, 0.0, 0.0, 0.0, 0.0012804097311139564, 0.0]], \"type\": \"heatmap\", \"uid\": \"d35b87a7-3726-4c1e-b3ca-6ab1bbf98d66\"}, {\"colorbar\": {\"title\": {\"text\": \"Normalized Frequency\"}}, \"colorscale\": [[0.0, \"rgb(165,0,38)\"], [0.005, \"rgb(215,48,39)\"], [0.2, \"rgb(244,109,67)\"], [0.3, \"rgb(253,174,97)\"], [0.4, \"rgb(254,224,144)\"], [0.5, \"rgb(224,243,248)\"], [0.6, \"rgb(171,217,233)\"], [1.0, \"rgb(49,54,149)\"]], \"x\": [\"No actor\", \"Government and state security services\", \"Rebel Groups\", \"Political Militias\", \"Identity Militias\", \"Rioters\", \"Protestors\", \"Civilians\"], \"y\": [\"Government and state security services\", \"Rebel Groups\", \"Political Militias\", \"Identity Militias\", \"Rioters\", \"Protestors\"], \"z\": [[0.0026595744680851063, 0.0, 0.003989361702127659, 0.005319148936170213, 0.0, 0.0, 0.0, 0.0], [0.0013297872340425532, 0.02127659574468085, 0.0, 0.0, 0.0, 0.0, 0.0, 0.015957446808510637], [0.0026595744680851063, 0.017287234042553192, 0.0, 0.0013297872340425532, 0.0, 0.0, 0.0, 0.013297872340425532], [0.0, 0.0, 0.0, 0.0, 0.0013297872340425532, 0.0, 0.0, 0.003989361702127659], [0.018617021276595744, 0.0598404255319149, 0.0, 0.0, 0.0, 0.043882978723404256, 0.003989361702127659, 0.0199468085106383], [0.711436170212766, 0.05053191489361702, 0.0, 0.0, 0.0, 0.0, 0.0013297872340425532, 0.0]], \"type\": \"heatmap\", \"uid\": \"a83574b3-4c56-4002-b177-4a33a9a8e644\"}, {\"colorbar\": {\"title\": {\"text\": \"Normalized Frequency\"}}, \"colorscale\": [[0.0, \"rgb(165,0,38)\"], [0.005, \"rgb(215,48,39)\"], [0.2, \"rgb(244,109,67)\"], [0.3, \"rgb(253,174,97)\"], [0.4, \"rgb(254,224,144)\"], [0.5, \"rgb(224,243,248)\"], [0.6, \"rgb(171,217,233)\"], [1.0, \"rgb(49,54,149)\"]], \"x\": [\"No actor\", \"Government and state security services\", \"Political Militias\", \"Identity Militias\", \"Rioters\", \"Civilians\", \"External/other forces\"], \"y\": [\"Government and state security services\", \"Rebel Groups\", \"Political Militias\", \"Identity Militias\", \"Rioters\", \"Protestors\"], \"z\": [[0.0, 0.0, 0.0, 0.0, 0.0, 0.006675567423230975, 0.03337783711615487], [0.0, 0.004005340453938585, 0.0, 0.0, 0.0, 0.0013351134846461949, 0.0], [0.0053404539385847796, 0.030707610146862484, 0.0026702269692923898, 0.0, 0.0, 0.03204272363150868, 0.0013351134846461949], [0.0, 0.0, 0.0, 0.006675567423230975, 0.0, 0.012016021361815754, 0.0], [0.02403204272363151, 0.08678237650200267, 0.0, 0.0, 0.01602136181575434, 0.018691588785046728, 0.0], [0.6635514018691588, 0.05473965287049399, 0.0, 0.0, 0.0, 0.0, 0.0]], \"type\": \"heatmap\", \"uid\": \"08aee0a1-f59b-424b-a0c1-e88a47a77adc\"}, {\"colorbar\": {\"title\": {\"text\": \"Normalized Frequency\"}}, \"colorscale\": [[0.0, \"rgb(165,0,38)\"], [0.005, \"rgb(215,48,39)\"], [0.2, \"rgb(244,109,67)\"], [0.3, \"rgb(253,174,97)\"], [0.4, \"rgb(254,224,144)\"], [0.5, \"rgb(224,243,248)\"], [0.6, \"rgb(171,217,233)\"], [1.0, \"rgb(49,54,149)\"]], \"x\": [\"No actor\", \"Government and state security services\", \"Rebel Groups\", \"Political Militias\", \"Identity Militias\", \"Rioters\", \"Protestors\", \"Civilians\"], \"y\": [\"Government and state security services\", \"Rebel Groups\", \"Political Militias\", \"Identity Militias\", \"Rioters\", \"Protestors\"], \"z\": [[0.0027662517289073307, 0.0, 0.004149377593360996, 0.005532503457814661, 0.0, 0.0, 0.0027662517289073307, 0.005532503457814661], [0.0027662517289073307, 0.016597510373443983, 0.0, 0.0, 0.0, 0.0, 0.0, 0.008298755186721992], [0.0027662517289073307, 0.004149377593360996, 0.0, 0.0013831258644536654, 0.0, 0.0, 0.0, 0.012448132780082987], [0.0, 0.0, 0.0, 0.0, 0.0013831258644536654, 0.0, 0.0, 0.004149377593360996], [0.02351313969571231, 0.051175656984785614, 0.0, 0.0, 0.0, 0.011065006915629323, 0.0, 0.006915629322268326], [0.7786998616874136, 0.05255878284923928, 0.0, 0.0, 0.0, 0.0, 0.0013831258644536654, 0.0]], \"type\": \"heatmap\", \"uid\": \"deffcd47-5e87-4d33-8b13-2dfb56d22425\"}, {\"colorbar\": {\"title\": {\"text\": \"Normalized Frequency\"}}, \"colorscale\": [[0.0, \"rgb(165,0,38)\"], [0.005, \"rgb(215,48,39)\"], [0.2, \"rgb(244,109,67)\"], [0.3, \"rgb(253,174,97)\"], [0.4, \"rgb(254,224,144)\"], [0.5, \"rgb(224,243,248)\"], [0.6, \"rgb(171,217,233)\"], [1.0, \"rgb(49,54,149)\"]], \"x\": [\"No actor\", \"Government and state security services\", \"Rebel Groups\", \"Political Militias\", \"Rioters\", \"Protestors\", \"Civilians\", \"External/other forces\"], \"y\": [\"Government and state security services\", \"Rebel Groups\", \"Political Militias\", \"Identity Militias\", \"Rioters\", \"Protestors\", \"External/other forces\"], \"z\": [[0.0013831258644536654, 0.0, 0.0013831258644536654, 0.0, 0.0, 0.0, 0.008298755186721992, 0.012448132780082987], [0.0013831258644536654, 0.016597510373443983, 0.0, 0.0, 0.0, 0.0, 0.0027662517289073307, 0.0013831258644536654], [0.0027662517289073307, 0.024896265560165973, 0.0, 0.0013831258644536654, 0.0, 0.0, 0.02627939142461964, 0.0], [0.0, 0.0, 0.0, 0.0, 0.0, 0.0, 0.004149377593360996, 0.0], [0.017980636237897647, 0.03872752420470263, 0.0, 0.0, 0.022130013831258646, 0.0, 0.011065006915629323, 0.0], [0.7565698478561549, 0.04426002766251729, 0.0, 0.0, 0.0, 0.0013831258644536654, 0.0, 0.0], [0.0027662517289073307, 0.0, 0.0, 0.0, 0.0, 0.0, 0.0, 0.0]], \"type\": \"heatmap\", \"uid\": \"093c9476-8940-47bf-90fb-d53d729a0b0b\"}], {\"autosize\": true, \"sliders\": [{\"active\": 0, \"currentvalue\": {\"prefix\": \"\"}, \"name\": \"Month\", \"pad\": {\"t\": 37}, \"steps\": [{\"args\": [\"visible\", [true, false, false, false, false, false, false, false, false, false, false, false, false, false, false, false, false, false, false, false, false, false, false, false, false, false, false, false, false, false, false, false, false, false, false, false, false]], \"label\": \"Month 1\", \"method\": \"restyle\"}, {\"args\": [\"visible\", [false, true, false, false, false, false, false, false, false, false, false, false, false, false, false, false, false, false, false, false, false, false, false, false, false, false, false, false, false, false, false, false, false, false, false, false, false]], \"label\": \"Month 2\", \"method\": \"restyle\"}, {\"args\": [\"visible\", [false, false, true, false, false, false, false, false, false, false, false, false, false, false, false, false, false, false, false, false, false, false, false, false, false, false, false, false, false, false, false, false, false, false, false, false, false]], \"label\": \"Month 3\", \"method\": \"restyle\"}, {\"args\": [\"visible\", [false, false, false, true, false, false, false, false, false, false, false, false, false, false, false, false, false, false, false, false, false, false, false, false, false, false, false, false, false, false, false, false, false, false, false, false, false]], \"label\": \"Month 4\", \"method\": \"restyle\"}, {\"args\": [\"visible\", [false, false, false, false, true, false, false, false, false, false, false, false, false, false, false, false, false, false, false, false, false, false, false, false, false, false, false, false, false, false, false, false, false, false, false, false, false]], \"label\": \"Month 5\", \"method\": \"restyle\"}, {\"args\": [\"visible\", [false, false, false, false, false, true, false, false, false, false, false, false, false, false, false, false, false, false, false, false, false, false, false, false, false, false, false, false, false, false, false, false, false, false, false, false, false]], \"label\": \"Month 6\", \"method\": \"restyle\"}, {\"args\": [\"visible\", [false, false, false, false, false, false, true, false, false, false, false, false, false, false, false, false, false, false, false, false, false, false, false, false, false, false, false, false, false, false, false, false, false, false, false, false, false]], \"label\": \"Month 7\", \"method\": \"restyle\"}, {\"args\": [\"visible\", [false, false, false, false, false, false, false, true, false, false, false, false, false, false, false, false, false, false, false, false, false, false, false, false, false, false, false, false, false, false, false, false, false, false, false, false, false]], \"label\": \"Month 8\", \"method\": \"restyle\"}, {\"args\": [\"visible\", [false, false, false, false, false, false, false, false, true, false, false, false, false, false, false, false, false, false, false, false, false, false, false, false, false, false, false, false, false, false, false, false, false, false, false, false, false]], \"label\": \"Month 9\", \"method\": \"restyle\"}, {\"args\": [\"visible\", [false, false, false, false, false, false, false, false, false, true, false, false, false, false, false, false, false, false, false, false, false, false, false, false, false, false, false, false, false, false, false, false, false, false, false, false, false]], \"label\": \"Month 10\", \"method\": \"restyle\"}, {\"args\": [\"visible\", [false, false, false, false, false, false, false, false, false, false, true, false, false, false, false, false, false, false, false, false, false, false, false, false, false, false, false, false, false, false, false, false, false, false, false, false, false]], \"label\": \"Month 11\", \"method\": \"restyle\"}, {\"args\": [\"visible\", [false, false, false, false, false, false, false, false, false, false, false, true, false, false, false, false, false, false, false, false, false, false, false, false, false, false, false, false, false, false, false, false, false, false, false, false, false]], \"label\": \"Month 12\", \"method\": \"restyle\"}, {\"args\": [\"visible\", [false, false, false, false, false, false, false, false, false, false, false, false, true, false, false, false, false, false, false, false, false, false, false, false, false, false, false, false, false, false, false, false, false, false, false, false, false]], \"label\": \"Month 13\", \"method\": \"restyle\"}, {\"args\": [\"visible\", [false, false, false, false, false, false, false, false, false, false, false, false, false, true, false, false, false, false, false, false, false, false, false, false, false, false, false, false, false, false, false, false, false, false, false, false, false]], \"label\": \"Month 14\", \"method\": \"restyle\"}, {\"args\": [\"visible\", [false, false, false, false, false, false, false, false, false, false, false, false, false, false, true, false, false, false, false, false, false, false, false, false, false, false, false, false, false, false, false, false, false, false, false, false, false]], \"label\": \"Month 15\", \"method\": \"restyle\"}, {\"args\": [\"visible\", [false, false, false, false, false, false, false, false, false, false, false, false, false, false, false, true, false, false, false, false, false, false, false, false, false, false, false, false, false, false, false, false, false, false, false, false, false]], \"label\": \"Month 16\", \"method\": \"restyle\"}, {\"args\": [\"visible\", [false, false, false, false, false, false, false, false, false, false, false, false, false, false, false, false, true, false, false, false, false, false, false, false, false, false, false, false, false, false, false, false, false, false, false, false, false]], \"label\": \"Month 17\", \"method\": \"restyle\"}, {\"args\": [\"visible\", [false, false, false, false, false, false, false, false, false, false, false, false, false, false, false, false, false, true, false, false, false, false, false, false, false, false, false, false, false, false, false, false, false, false, false, false, false]], \"label\": \"Month 18\", \"method\": \"restyle\"}, {\"args\": [\"visible\", [false, false, false, false, false, false, false, false, false, false, false, false, false, false, false, false, false, false, true, false, false, false, false, false, false, false, false, false, false, false, false, false, false, false, false, false, false]], \"label\": \"Month 19\", \"method\": \"restyle\"}, {\"args\": [\"visible\", [false, false, false, false, false, false, false, false, false, false, false, false, false, false, false, false, false, false, false, true, false, false, false, false, false, false, false, false, false, false, false, false, false, false, false, false, false]], \"label\": \"Month 20\", \"method\": \"restyle\"}, {\"args\": [\"visible\", [false, false, false, false, false, false, false, false, false, false, false, false, false, false, false, false, false, false, false, false, true, false, false, false, false, false, false, false, false, false, false, false, false, false, false, false, false]], \"label\": \"Month 21\", \"method\": \"restyle\"}, {\"args\": [\"visible\", [false, false, false, false, false, false, false, false, false, false, false, false, false, false, false, false, false, false, false, false, false, true, false, false, false, false, false, false, false, false, false, false, false, false, false, false, false]], \"label\": \"Month 22\", \"method\": \"restyle\"}, {\"args\": [\"visible\", [false, false, false, false, false, false, false, false, false, false, false, false, false, false, false, false, false, false, false, false, false, false, true, false, false, false, false, false, false, false, false, false, false, false, false, false, false]], \"label\": \"Month 23\", \"method\": \"restyle\"}, {\"args\": [\"visible\", [false, false, false, false, false, false, false, false, false, false, false, false, false, false, false, false, false, false, false, false, false, false, false, true, false, false, false, false, false, false, false, false, false, false, false, false, false]], \"label\": \"Month 24\", \"method\": \"restyle\"}, {\"args\": [\"visible\", [false, false, false, false, false, false, false, false, false, false, false, false, false, false, false, false, false, false, false, false, false, false, false, false, true, false, false, false, false, false, false, false, false, false, false, false, false]], \"label\": \"Month 25\", \"method\": \"restyle\"}, {\"args\": [\"visible\", [false, false, false, false, false, false, false, false, false, false, false, false, false, false, false, false, false, false, false, false, false, false, false, false, false, true, false, false, false, false, false, false, false, false, false, false, false]], \"label\": \"Month 26\", \"method\": \"restyle\"}, {\"args\": [\"visible\", [false, false, false, false, false, false, false, false, false, false, false, false, false, false, false, false, false, false, false, false, false, false, false, false, false, false, true, false, false, false, false, false, false, false, false, false, false]], \"label\": \"Month 27\", \"method\": \"restyle\"}, {\"args\": [\"visible\", [false, false, false, false, false, false, false, false, false, false, false, false, false, false, false, false, false, false, false, false, false, false, false, false, false, false, false, true, false, false, false, false, false, false, false, false, false]], \"label\": \"Month 28\", \"method\": \"restyle\"}, {\"args\": [\"visible\", [false, false, false, false, false, false, false, false, false, false, false, false, false, false, false, false, false, false, false, false, false, false, false, false, false, false, false, false, true, false, false, false, false, false, false, false, false]], \"label\": \"Month 29\", \"method\": \"restyle\"}, {\"args\": [\"visible\", [false, false, false, false, false, false, false, false, false, false, false, false, false, false, false, false, false, false, false, false, false, false, false, false, false, false, false, false, false, true, false, false, false, false, false, false, false]], \"label\": \"Month 30\", \"method\": \"restyle\"}, {\"args\": [\"visible\", [false, false, false, false, false, false, false, false, false, false, false, false, false, false, false, false, false, false, false, false, false, false, false, false, false, false, false, false, false, false, true, false, false, false, false, false, false]], \"label\": \"Month 31\", \"method\": \"restyle\"}, {\"args\": [\"visible\", [false, false, false, false, false, false, false, false, false, false, false, false, false, false, false, false, false, false, false, false, false, false, false, false, false, false, false, false, false, false, false, true, false, false, false, false, false]], \"label\": \"Month 32\", \"method\": \"restyle\"}, {\"args\": [\"visible\", [false, false, false, false, false, false, false, false, false, false, false, false, false, false, false, false, false, false, false, false, false, false, false, false, false, false, false, false, false, false, false, false, true, false, false, false, false]], \"label\": \"Month 33\", \"method\": \"restyle\"}, {\"args\": [\"visible\", [false, false, false, false, false, false, false, false, false, false, false, false, false, false, false, false, false, false, false, false, false, false, false, false, false, false, false, false, false, false, false, false, false, true, false, false, false]], \"label\": \"Month 34\", \"method\": \"restyle\"}, {\"args\": [\"visible\", [false, false, false, false, false, false, false, false, false, false, false, false, false, false, false, false, false, false, false, false, false, false, false, false, false, false, false, false, false, false, false, false, false, false, true, false, false]], \"label\": \"Month 35\", \"method\": \"restyle\"}, {\"args\": [\"visible\", [false, false, false, false, false, false, false, false, false, false, false, false, false, false, false, false, false, false, false, false, false, false, false, false, false, false, false, false, false, false, false, false, false, false, false, true, false]], \"label\": \"Month 36\", \"method\": \"restyle\"}, {\"args\": [\"visible\", [false, false, false, false, false, false, false, false, false, false, false, false, false, false, false, false, false, false, false, false, false, false, false, false, false, false, false, false, false, false, false, false, false, false, false, false, true]], \"label\": \"Month 37\", \"method\": \"restyle\"}], \"y\": 1.5}], \"title\": {\"text\": \" Plot#1: Monthwise Interaction table\"}, \"xaxis\": {\"automargin\": true, \"title\": {\"text\": \"Actor 2\"}}, \"yaxis\": {\"automargin\": true, \"title\": {\"text\": \"Actor 1\"}}}, {\"showLink\": false, \"linkText\": \"Export to plot.ly\", \"plotlyServerURL\": \"https://plot.ly\"})});</script><script type=\"text/javascript\">window.addEventListener(\"resize\", function(){window._Plotly.Plots.resize(document.getElementById(\"6a5ca40b-441b-4cb5-9819-1924467c3c35\"));});</script>"
      ]
     },
     "metadata": {},
     "output_type": "display_data"
    }
   ],
   "source": [
    "steps = []\n",
    "for i in range(Month_distribution.index.sort_values().max()):\n",
    "    step = dict(\n",
    "                method = 'restyle',  \n",
    "                args = ['visible', [False] * Month_distribution.index.sort_values().max()],\n",
    "                label= 'Month ' + str(i+1)\n",
    "                )\n",
    "    step['args'][1][i] = True # Toggle i'th trace to \"visible\"\n",
    "    steps.append(step)\n",
    "    sliders = [dict(\n",
    "                    active = 0,\n",
    "                    currentvalue = {\"prefix\": \"\"},\n",
    "                    pad = {\"t\": Month_distribution.index.sort_values().max()},\n",
    "                    steps = steps,\n",
    "                    name= 'Month',\n",
    "                    y= 1.5\n",
    "              )]\n",
    "layout = dict(sliders=sliders,\n",
    "              title=' Plot#1: Monthwise Interaction table',\n",
    "              autosize=True,\n",
    "              yaxis=go.layout.YAxis(\n",
    "                                    title='Actor 1',\n",
    "                                    automargin=True,\n",
    "                                   ),\n",
    "              xaxis=go.layout.XAxis(\n",
    "                                    title='Actor 2',\n",
    "                                    automargin=True,\n",
    "                                   ),\n",
    "             )\n",
    "fig = dict(data=Slider_data1[0], layout=layout)\n",
    "iplot(fig, filename='Slider 1')"
   ]
  },
  {
   "cell_type": "code",
   "execution_count": 28,
   "metadata": {},
   "outputs": [],
   "source": [
    "def get_Mapdata_slider2(input_data):\n",
    "    trace=[]\n",
    "    for m in Month_distribution.index.sort_values():\n",
    "             trace.append(go.Bar(\n",
    "                            x=input_data.index,\n",
    "                            y=input_data[m]\n",
    "                                )\n",
    "                          )\n",
    "    return [trace]\n",
    "Slider_data2=get_Mapdata_slider2(State_month)"
   ]
  },
  {
   "cell_type": "code",
   "execution_count": 29,
   "metadata": {},
   "outputs": [
    {
     "data": {
      "application/vnd.plotly.v1+json": {
       "config": {
        "linkText": "Export to plot.ly",
        "plotlyServerURL": "https://plot.ly",
        "showLink": false
       },
       "data": [
        {
         "type": "bar",
         "uid": "c5945ae6-5e79-48cc-b954-9e34f555f271",
         "x": [
          "Jammu and Kashmir",
          "Punjab",
          "Tamil Nadu",
          "Assam",
          "Uttar Pradesh",
          "Haryana",
          "Karnataka",
          "NCT of Delhi",
          "West Bengal",
          "Odisha",
          "Kerala",
          "Uttarakhand",
          "Manipur",
          "Bihar",
          "Maharashtra",
          "Gujarat",
          "Jharkhand",
          "Andhra Pradesh",
          "Rajasthan",
          "Himachal Pradesh",
          "Chandigarh",
          "Telangana",
          "Madhya Pradesh",
          "Tripura",
          "Chhattisgarh",
          "Puducherry",
          "Meghalaya",
          "Nagaland",
          "Arunachal Pradesh",
          "Goa",
          "Mizoram",
          "Andaman and Nicobar",
          "Sikkim",
          "Daman and Diu",
          "Dadra and Nagar Haveli"
         ],
         "y": [
          0.06914893617021277,
          0.19148936170212766,
          0.07313829787234043,
          0.031914893617021274,
          0.043882978723404256,
          0.08776595744680851,
          0.0398936170212766,
          0.05053191489361702,
          0.026595744680851064,
          0.0199468085106383,
          0.027925531914893616,
          0.11170212765957446,
          0.023936170212765957,
          0.02526595744680851,
          0.031914893617021274,
          0.02127659574468085,
          0.023936170212765957,
          0.009308510638297872,
          0.011968085106382979,
          0.007978723404255319,
          0.014627659574468085,
          0.023936170212765957,
          0.005319148936170213,
          0,
          0.010638297872340425,
          0.0013297872340425532,
          0.010638297872340425,
          0,
          0.0013297872340425532,
          0.0026595744680851063,
          0,
          0,
          0,
          0,
          0
         ]
        },
        {
         "type": "bar",
         "uid": "accde8d4-8b9e-4b80-b5f1-b23f1e020e1e",
         "x": [
          "Jammu and Kashmir",
          "Punjab",
          "Tamil Nadu",
          "Assam",
          "Uttar Pradesh",
          "Haryana",
          "Karnataka",
          "NCT of Delhi",
          "West Bengal",
          "Odisha",
          "Kerala",
          "Uttarakhand",
          "Manipur",
          "Bihar",
          "Maharashtra",
          "Gujarat",
          "Jharkhand",
          "Andhra Pradesh",
          "Rajasthan",
          "Himachal Pradesh",
          "Chandigarh",
          "Telangana",
          "Madhya Pradesh",
          "Tripura",
          "Chhattisgarh",
          "Puducherry",
          "Meghalaya",
          "Nagaland",
          "Arunachal Pradesh",
          "Goa",
          "Mizoram",
          "Andaman and Nicobar",
          "Sikkim",
          "Daman and Diu",
          "Dadra and Nagar Haveli"
         ],
         "y": [
          0.06291706387035272,
          0.14394661582459486,
          0.07816968541468065,
          0.07149666348903717,
          0.05052430886558627,
          0.14871306005719734,
          0.027645376549094377,
          0.04194470924690181,
          0.04003813155386082,
          0.015252621544327931,
          0.014299332697807437,
          0.06291706387035272,
          0.019065776930409915,
          0.030505243088655862,
          0.015252621544327931,
          0.02478551000953289,
          0.02669208770257388,
          0.0076263107721639654,
          0.017159199237368923,
          0.017159199237368923,
          0.027645376549094377,
          0.011439466158245948,
          0.008579599618684462,
          0.008579599618684462,
          0.010486177311725452,
          0.004766444232602479,
          0.0038131553860819827,
          0.0019065776930409914,
          0.0019065776930409914,
          0.0038131553860819827,
          0.0009532888465204957,
          0,
          0,
          0,
          0
         ]
        },
        {
         "type": "bar",
         "uid": "099c3543-23a7-4b64-afb7-ba69f09aa1dd",
         "x": [
          "Jammu and Kashmir",
          "Punjab",
          "Tamil Nadu",
          "Assam",
          "Uttar Pradesh",
          "Haryana",
          "Karnataka",
          "NCT of Delhi",
          "West Bengal",
          "Odisha",
          "Kerala",
          "Uttarakhand",
          "Manipur",
          "Bihar",
          "Maharashtra",
          "Gujarat",
          "Jharkhand",
          "Andhra Pradesh",
          "Rajasthan",
          "Himachal Pradesh",
          "Chandigarh",
          "Telangana",
          "Madhya Pradesh",
          "Tripura",
          "Chhattisgarh",
          "Puducherry",
          "Meghalaya",
          "Nagaland",
          "Arunachal Pradesh",
          "Goa",
          "Mizoram",
          "Andaman and Nicobar",
          "Sikkim",
          "Daman and Diu",
          "Dadra and Nagar Haveli"
         ],
         "y": [
          0.07468879668049792,
          0.16459197786998617,
          0.07192254495159059,
          0.05532503457814661,
          0.027662517289073305,
          0.022130013831258646,
          0.08852005532503458,
          0.02351313969571231,
          0.04426002766251729,
          0.011065006915629323,
          0.035961272475795295,
          0.10096818810511757,
          0.024896265560165973,
          0.012448132780082987,
          0.03872752420470263,
          0.006915629322268326,
          0.040110650069156296,
          0.02351313969571231,
          0.013831258644536652,
          0.02351313969571231,
          0.02351313969571231,
          0.008298755186721992,
          0.02627939142461964,
          0.0027662517289073307,
          0.015214384508990318,
          0.0013831258644536654,
          0.005532503457814661,
          0.0027662517289073307,
          0.0013831258644536654,
          0.006915629322268326,
          0.0013831258644536654,
          0,
          0,
          0,
          0
         ]
        },
        {
         "type": "bar",
         "uid": "6a2576b1-2a13-4473-85f0-4f6fecf8bd4f",
         "x": [
          "Jammu and Kashmir",
          "Punjab",
          "Tamil Nadu",
          "Assam",
          "Uttar Pradesh",
          "Haryana",
          "Karnataka",
          "NCT of Delhi",
          "West Bengal",
          "Odisha",
          "Kerala",
          "Uttarakhand",
          "Manipur",
          "Bihar",
          "Maharashtra",
          "Gujarat",
          "Jharkhand",
          "Andhra Pradesh",
          "Rajasthan",
          "Himachal Pradesh",
          "Chandigarh",
          "Telangana",
          "Madhya Pradesh",
          "Tripura",
          "Chhattisgarh",
          "Puducherry",
          "Meghalaya",
          "Nagaland",
          "Arunachal Pradesh",
          "Goa",
          "Mizoram",
          "Andaman and Nicobar",
          "Sikkim",
          "Daman and Diu",
          "Dadra and Nagar Haveli"
         ],
         "y": [
          0.05761843790012804,
          0.16261203585147246,
          0.08194622279129321,
          0.046094750320102434,
          0.04225352112676056,
          0.05121638924455826,
          0.0499359795134443,
          0.04481434058898848,
          0.16645326504481434,
          0.030729833546734954,
          0.01792573623559539,
          0.014084507042253521,
          0.03329065300896287,
          0.023047375160051217,
          0.014084507042253521,
          0.019206145966709345,
          0.05505761843790013,
          0.011523687580025609,
          0.008962868117797696,
          0.019206145966709345,
          0.016645326504481434,
          0.010243277848911651,
          0.005121638924455826,
          0.002560819462227913,
          0.002560819462227913,
          0,
          0.0012804097311139564,
          0.002560819462227913,
          0.002560819462227913,
          0.006402048655569782,
          0,
          0,
          0,
          0,
          0
         ]
        },
        {
         "type": "bar",
         "uid": "673ea9e2-a452-47e6-b7b5-6b87a9172553",
         "x": [
          "Jammu and Kashmir",
          "Punjab",
          "Tamil Nadu",
          "Assam",
          "Uttar Pradesh",
          "Haryana",
          "Karnataka",
          "NCT of Delhi",
          "West Bengal",
          "Odisha",
          "Kerala",
          "Uttarakhand",
          "Manipur",
          "Bihar",
          "Maharashtra",
          "Gujarat",
          "Jharkhand",
          "Andhra Pradesh",
          "Rajasthan",
          "Himachal Pradesh",
          "Chandigarh",
          "Telangana",
          "Madhya Pradesh",
          "Tripura",
          "Chhattisgarh",
          "Puducherry",
          "Meghalaya",
          "Nagaland",
          "Arunachal Pradesh",
          "Goa",
          "Mizoram",
          "Andaman and Nicobar",
          "Sikkim",
          "Daman and Diu",
          "Dadra and Nagar Haveli"
         ],
         "y": [
          0.07884231536926148,
          0.19261477045908185,
          0.046906187624750496,
          0.038922155688622756,
          0.033932135728542916,
          0.06686626746506986,
          0.027944111776447105,
          0.043912175648702596,
          0.07285429141716566,
          0.023952095808383235,
          0.020958083832335328,
          0.04890219560878244,
          0.05588822355289421,
          0.03592814371257485,
          0.011976047904191617,
          0.013972055888223553,
          0.029940119760479042,
          0.03493013972055888,
          0.020958083832335328,
          0.018962075848303395,
          0.02594810379241517,
          0.015968063872255488,
          0.015968063872255488,
          0.00499001996007984,
          0.006986027944111776,
          0.0029940119760479044,
          0.001996007984031936,
          0.000998003992015968,
          0.001996007984031936,
          0.0029940119760479044,
          0,
          0,
          0,
          0,
          0
         ]
        },
        {
         "type": "bar",
         "uid": "788f10bf-4c12-4475-8b69-62dfbee8e49a",
         "x": [
          "Jammu and Kashmir",
          "Punjab",
          "Tamil Nadu",
          "Assam",
          "Uttar Pradesh",
          "Haryana",
          "Karnataka",
          "NCT of Delhi",
          "West Bengal",
          "Odisha",
          "Kerala",
          "Uttarakhand",
          "Manipur",
          "Bihar",
          "Maharashtra",
          "Gujarat",
          "Jharkhand",
          "Andhra Pradesh",
          "Rajasthan",
          "Himachal Pradesh",
          "Chandigarh",
          "Telangana",
          "Madhya Pradesh",
          "Tripura",
          "Chhattisgarh",
          "Puducherry",
          "Meghalaya",
          "Nagaland",
          "Arunachal Pradesh",
          "Goa",
          "Mizoram",
          "Andaman and Nicobar",
          "Sikkim",
          "Daman and Diu",
          "Dadra and Nagar Haveli"
         ],
         "y": [
          0.13097199341021418,
          0.214168039538715,
          0.04118616144975288,
          0.022240527182866558,
          0.05354200988467875,
          0.09308072487644152,
          0.05683690280065898,
          0.04118616144975288,
          0.012355848434925865,
          0.015650741350906095,
          0.0214168039538715,
          0.06342668863261944,
          0.03542009884678748,
          0.008237232289950576,
          0.015650741350906095,
          0.027182866556836903,
          0.028830313014827018,
          0.016474464579901153,
          0.02471169686985173,
          0.02800658978583196,
          0.009884678747940691,
          0.013179571663920923,
          0.013179571663920923,
          0.002471169686985173,
          0.0032948929159802307,
          0.002471169686985173,
          0.0032948929159802307,
          0,
          0.0008237232289950577,
          0.0008237232289950577,
          0,
          0,
          0,
          0,
          0
         ]
        },
        {
         "type": "bar",
         "uid": "cca16123-3c97-4943-a6b6-a0abc100ae1c",
         "x": [
          "Jammu and Kashmir",
          "Punjab",
          "Tamil Nadu",
          "Assam",
          "Uttar Pradesh",
          "Haryana",
          "Karnataka",
          "NCT of Delhi",
          "West Bengal",
          "Odisha",
          "Kerala",
          "Uttarakhand",
          "Manipur",
          "Bihar",
          "Maharashtra",
          "Gujarat",
          "Jharkhand",
          "Andhra Pradesh",
          "Rajasthan",
          "Himachal Pradesh",
          "Chandigarh",
          "Telangana",
          "Madhya Pradesh",
          "Tripura",
          "Chhattisgarh",
          "Puducherry",
          "Meghalaya",
          "Nagaland",
          "Arunachal Pradesh",
          "Goa",
          "Mizoram",
          "Andaman and Nicobar",
          "Sikkim",
          "Daman and Diu",
          "Dadra and Nagar Haveli"
         ],
         "y": [
          0.2005842259006816,
          0.12171372930866602,
          0.04771178188899708,
          0.03213242453748783,
          0.0798442064264849,
          0.044790652385589096,
          0.06621226874391431,
          0.04771178188899708,
          0.008763388510223954,
          0.029211295034079845,
          0.01557935735150925,
          0.05939629990262902,
          0.01557935735150925,
          0.009737098344693282,
          0.007789678675754625,
          0.10418695228821812,
          0.017526777020447908,
          0.01557935735150925,
          0.01557935735150925,
          0.02044790652385589,
          0.013631937682570594,
          0.005842259006815969,
          0.0019474196689386564,
          0.010710808179162609,
          0.0029211295034079843,
          0.0038948393378773127,
          0,
          0.0009737098344693282,
          0,
          0,
          0,
          0,
          0,
          0,
          0
         ]
        },
        {
         "type": "bar",
         "uid": "898fcd87-f260-49c8-bc63-521eaf8744b4",
         "x": [
          "Jammu and Kashmir",
          "Punjab",
          "Tamil Nadu",
          "Assam",
          "Uttar Pradesh",
          "Haryana",
          "Karnataka",
          "NCT of Delhi",
          "West Bengal",
          "Odisha",
          "Kerala",
          "Uttarakhand",
          "Manipur",
          "Bihar",
          "Maharashtra",
          "Gujarat",
          "Jharkhand",
          "Andhra Pradesh",
          "Rajasthan",
          "Himachal Pradesh",
          "Chandigarh",
          "Telangana",
          "Madhya Pradesh",
          "Tripura",
          "Chhattisgarh",
          "Puducherry",
          "Meghalaya",
          "Nagaland",
          "Arunachal Pradesh",
          "Goa",
          "Mizoram",
          "Andaman and Nicobar",
          "Sikkim",
          "Daman and Diu",
          "Dadra and Nagar Haveli"
         ],
         "y": [
          0.2252173913043478,
          0.10869565217391304,
          0.06608695652173913,
          0.0391304347826087,
          0.08260869565217391,
          0.05565217391304348,
          0.04,
          0.04,
          0.0052173913043478265,
          0.03739130434782609,
          0.00782608695652174,
          0.05304347826086957,
          0.05304347826086957,
          0.018260869565217393,
          0.009565217391304347,
          0.03739130434782609,
          0.020869565217391306,
          0.0026086956521739132,
          0.023478260869565216,
          0.02,
          0.020869565217391306,
          0.0026086956521739132,
          0.004347826086956522,
          0.006956521739130435,
          0.00608695652173913,
          0.0052173913043478265,
          0.0017391304347826088,
          0.0026086956521739132,
          0.0017391304347826088,
          0.0008695652173913044,
          0.0008695652173913044,
          0,
          0,
          0,
          0
         ]
        },
        {
         "type": "bar",
         "uid": "6da2926c-c231-4736-9ebd-618bf2cce369",
         "x": [
          "Jammu and Kashmir",
          "Punjab",
          "Tamil Nadu",
          "Assam",
          "Uttar Pradesh",
          "Haryana",
          "Karnataka",
          "NCT of Delhi",
          "West Bengal",
          "Odisha",
          "Kerala",
          "Uttarakhand",
          "Manipur",
          "Bihar",
          "Maharashtra",
          "Gujarat",
          "Jharkhand",
          "Andhra Pradesh",
          "Rajasthan",
          "Himachal Pradesh",
          "Chandigarh",
          "Telangana",
          "Madhya Pradesh",
          "Tripura",
          "Chhattisgarh",
          "Puducherry",
          "Meghalaya",
          "Nagaland",
          "Arunachal Pradesh",
          "Goa",
          "Mizoram",
          "Andaman and Nicobar",
          "Sikkim",
          "Daman and Diu",
          "Dadra and Nagar Haveli"
         ],
         "y": [
          0.2377332411886662,
          0.17899101589495509,
          0.04284727021423635,
          0.042156185210780926,
          0.0635798203178991,
          0.046993780234968904,
          0.06219765031098825,
          0.04630269523151347,
          0.013130615065653075,
          0.020041465100207326,
          0.008984105044920525,
          0.04008293020041465,
          0.019350380096751902,
          0.013130615065653075,
          0.013130615065653075,
          0.019350380096751902,
          0.020041465100207326,
          0.0048375950241879755,
          0.026952315134761574,
          0.019350380096751902,
          0.022805805114029024,
          0.00138217000691085,
          0.00414651002073255,
          0.006910850034554251,
          0.009675190048375951,
          0.006219765031098825,
          0.00414651002073255,
          0.000691085003455425,
          0.00138217000691085,
          0.002073255010366275,
          0.000691085003455425,
          0,
          0.000691085003455425,
          0,
          0
         ]
        },
        {
         "type": "bar",
         "uid": "4e398767-5def-4597-b7f6-69a134a9e969",
         "x": [
          "Jammu and Kashmir",
          "Punjab",
          "Tamil Nadu",
          "Assam",
          "Uttar Pradesh",
          "Haryana",
          "Karnataka",
          "NCT of Delhi",
          "West Bengal",
          "Odisha",
          "Kerala",
          "Uttarakhand",
          "Manipur",
          "Bihar",
          "Maharashtra",
          "Gujarat",
          "Jharkhand",
          "Andhra Pradesh",
          "Rajasthan",
          "Himachal Pradesh",
          "Chandigarh",
          "Telangana",
          "Madhya Pradesh",
          "Tripura",
          "Chhattisgarh",
          "Puducherry",
          "Meghalaya",
          "Nagaland",
          "Arunachal Pradesh",
          "Goa",
          "Mizoram",
          "Andaman and Nicobar",
          "Sikkim",
          "Daman and Diu",
          "Dadra and Nagar Haveli"
         ],
         "y": [
          0.2331055429005315,
          0.14654517843583903,
          0.04555808656036447,
          0.018982536066818528,
          0.04935459377372817,
          0.06150341685649203,
          0.02050113895216401,
          0.058466211085801065,
          0.019741837509491267,
          0.02050113895216401,
          0.0425208807896735,
          0.0774487471526196,
          0.03492786636294609,
          0.010630220197418374,
          0.02885345482156416,
          0.0387243735763098,
          0.022779043280182234,
          0,
          0.015945330296127564,
          0.01366742596810934,
          0.010630220197418374,
          0.006074411541381929,
          0.002277904328018223,
          0.0030372057706909645,
          0.005315110098709187,
          0.004555808656036446,
          0.0037965072133637054,
          0.0015186028853454822,
          0,
          0.002277904328018223,
          0.0007593014426727411,
          0,
          0,
          0,
          0
         ]
        },
        {
         "type": "bar",
         "uid": "ffe165e5-2947-4b7d-b172-4aa1367bc53e",
         "x": [
          "Jammu and Kashmir",
          "Punjab",
          "Tamil Nadu",
          "Assam",
          "Uttar Pradesh",
          "Haryana",
          "Karnataka",
          "NCT of Delhi",
          "West Bengal",
          "Odisha",
          "Kerala",
          "Uttarakhand",
          "Manipur",
          "Bihar",
          "Maharashtra",
          "Gujarat",
          "Jharkhand",
          "Andhra Pradesh",
          "Rajasthan",
          "Himachal Pradesh",
          "Chandigarh",
          "Telangana",
          "Madhya Pradesh",
          "Tripura",
          "Chhattisgarh",
          "Puducherry",
          "Meghalaya",
          "Nagaland",
          "Arunachal Pradesh",
          "Goa",
          "Mizoram",
          "Andaman and Nicobar",
          "Sikkim",
          "Daman and Diu",
          "Dadra and Nagar Haveli"
         ],
         "y": [
          0.16919575113808802,
          0.20409711684370258,
          0.038694992412746584,
          0.0409711684370258,
          0.061456752655538696,
          0.03793626707132018,
          0.0409711684370258,
          0.04704097116843703,
          0.02276176024279211,
          0.014415781487101669,
          0.02276176024279211,
          0.05083459787556904,
          0.044764795144157814,
          0.02503793626707132,
          0.010622154779969651,
          0.051593323216995446,
          0.03414264036418816,
          0.0037936267071320183,
          0.012898330804248861,
          0.013657056145675266,
          0.006828528072837633,
          0.005311077389984826,
          0.007587253414264037,
          0.0030349013657056147,
          0.012898330804248861,
          0.004552352048558422,
          0.004552352048558422,
          0.0015174506828528073,
          0.0015174506828528073,
          0.004552352048558422,
          0,
          0,
          0,
          0,
          0
         ]
        },
        {
         "type": "bar",
         "uid": "3e438a03-5b64-47a5-8163-855b689f3f54",
         "x": [
          "Jammu and Kashmir",
          "Punjab",
          "Tamil Nadu",
          "Assam",
          "Uttar Pradesh",
          "Haryana",
          "Karnataka",
          "NCT of Delhi",
          "West Bengal",
          "Odisha",
          "Kerala",
          "Uttarakhand",
          "Manipur",
          "Bihar",
          "Maharashtra",
          "Gujarat",
          "Jharkhand",
          "Andhra Pradesh",
          "Rajasthan",
          "Himachal Pradesh",
          "Chandigarh",
          "Telangana",
          "Madhya Pradesh",
          "Tripura",
          "Chhattisgarh",
          "Puducherry",
          "Meghalaya",
          "Nagaland",
          "Arunachal Pradesh",
          "Goa",
          "Mizoram",
          "Andaman and Nicobar",
          "Sikkim",
          "Daman and Diu",
          "Dadra and Nagar Haveli"
         ],
         "y": [
          0.14760914760914762,
          0.20374220374220375,
          0.058212058212058215,
          0.028066528066528068,
          0.0841995841995842,
          0.04158004158004158,
          0.02494802494802495,
          0.057172557172557176,
          0.028066528066528068,
          0.010395010395010396,
          0.02598752598752599,
          0.06652806652806653,
          0.04781704781704782,
          0.009355509355509356,
          0.017671517671517672,
          0.031185031185031187,
          0.028066528066528068,
          0.010395010395010396,
          0.02494802494802495,
          0.007276507276507277,
          0.004158004158004158,
          0.004158004158004158,
          0.005197505197505198,
          0.006237006237006237,
          0.007276507276507277,
          0.0010395010395010396,
          0.002079002079002079,
          0.007276507276507277,
          0.005197505197505198,
          0.004158004158004158,
          0,
          0,
          0,
          0,
          0
         ]
        },
        {
         "type": "bar",
         "uid": "61d23e30-c685-43b7-80b7-0bf5cb54072b",
         "x": [
          "Jammu and Kashmir",
          "Punjab",
          "Tamil Nadu",
          "Assam",
          "Uttar Pradesh",
          "Haryana",
          "Karnataka",
          "NCT of Delhi",
          "West Bengal",
          "Odisha",
          "Kerala",
          "Uttarakhand",
          "Manipur",
          "Bihar",
          "Maharashtra",
          "Gujarat",
          "Jharkhand",
          "Andhra Pradesh",
          "Rajasthan",
          "Himachal Pradesh",
          "Chandigarh",
          "Telangana",
          "Madhya Pradesh",
          "Tripura",
          "Chhattisgarh",
          "Puducherry",
          "Meghalaya",
          "Nagaland",
          "Arunachal Pradesh",
          "Goa",
          "Mizoram",
          "Andaman and Nicobar",
          "Sikkim",
          "Daman and Diu",
          "Dadra and Nagar Haveli"
         ],
         "y": [
          0.09801031687546058,
          0.09948415622697127,
          0.19749447310243184,
          0.039056742815033164,
          0.05747973470891673,
          0.05821665438467207,
          0.017686072218128224,
          0.045689019896831246,
          0.04200442151805453,
          0.0058953574060427415,
          0.032424465733235076,
          0.022844509948415623,
          0.025792188651436992,
          0.017686072218128224,
          0.03610906411201179,
          0.026529108327192335,
          0.01694915254237288,
          0.012527634487840826,
          0.023581429624170966,
          0.006632277081798084,
          0.021370670596904937,
          0.006632277081798084,
          0.04642593957258659,
          0.006632277081798084,
          0.008106116433308769,
          0.012527634487840826,
          0.0036845983787767134,
          0.0058953574060427415,
          0.0036845983787767134,
          0.0014738393515106854,
          0,
          0.0014738393515106854,
          0,
          0,
          0
         ]
        },
        {
         "type": "bar",
         "uid": "4f4ec884-0b6e-4122-b069-b6f39a448001",
         "x": [
          "Jammu and Kashmir",
          "Punjab",
          "Tamil Nadu",
          "Assam",
          "Uttar Pradesh",
          "Haryana",
          "Karnataka",
          "NCT of Delhi",
          "West Bengal",
          "Odisha",
          "Kerala",
          "Uttarakhand",
          "Manipur",
          "Bihar",
          "Maharashtra",
          "Gujarat",
          "Jharkhand",
          "Andhra Pradesh",
          "Rajasthan",
          "Himachal Pradesh",
          "Chandigarh",
          "Telangana",
          "Madhya Pradesh",
          "Tripura",
          "Chhattisgarh",
          "Puducherry",
          "Meghalaya",
          "Nagaland",
          "Arunachal Pradesh",
          "Goa",
          "Mizoram",
          "Andaman and Nicobar",
          "Sikkim",
          "Daman and Diu",
          "Dadra and Nagar Haveli"
         ],
         "y": [
          0.1276595744680851,
          0.16,
          0.10212765957446808,
          0.04085106382978723,
          0.06042553191489362,
          0.0748936170212766,
          0.033191489361702124,
          0.06723404255319149,
          0.017872340425531916,
          0.026382978723404255,
          0.020425531914893616,
          0.00851063829787234,
          0.03489361702127659,
          0.029787234042553193,
          0.020425531914893616,
          0.03404255319148936,
          0.01446808510638298,
          0.011914893617021277,
          0.02723404255319149,
          0.016170212765957447,
          0.011063829787234043,
          0.009361702127659575,
          0.00851063829787234,
          0.005957446808510639,
          0.01702127659574468,
          0.007659574468085106,
          0.000851063829787234,
          0.006808510638297872,
          0.001702127659574468,
          0.000851063829787234,
          0.001702127659574468,
          0,
          0,
          0,
          0
         ]
        },
        {
         "type": "bar",
         "uid": "984f8813-e9c5-4e7f-b6e4-78b019b81dcd",
         "x": [
          "Jammu and Kashmir",
          "Punjab",
          "Tamil Nadu",
          "Assam",
          "Uttar Pradesh",
          "Haryana",
          "Karnataka",
          "NCT of Delhi",
          "West Bengal",
          "Odisha",
          "Kerala",
          "Uttarakhand",
          "Manipur",
          "Bihar",
          "Maharashtra",
          "Gujarat",
          "Jharkhand",
          "Andhra Pradesh",
          "Rajasthan",
          "Himachal Pradesh",
          "Chandigarh",
          "Telangana",
          "Madhya Pradesh",
          "Tripura",
          "Chhattisgarh",
          "Puducherry",
          "Meghalaya",
          "Nagaland",
          "Arunachal Pradesh",
          "Goa",
          "Mizoram",
          "Andaman and Nicobar",
          "Sikkim",
          "Daman and Diu",
          "Dadra and Nagar Haveli"
         ],
         "y": [
          0.1363973313565604,
          0.11415863602668644,
          0.17272053372868792,
          0.05856189770200148,
          0.05856189770200148,
          0.05559673832468495,
          0.042994810971089696,
          0.031134173461823574,
          0.018532246108228317,
          0.008895478131949592,
          0.028910303928836176,
          0.03039288361749444,
          0.028169014084507043,
          0.018532246108228317,
          0.02001482579688658,
          0.03261675315048184,
          0.011860637509266123,
          0.01927353595255745,
          0.025203854707190512,
          0.014084507042253521,
          0.014084507042253521,
          0.014825796886582653,
          0.005189028910303929,
          0.014084507042253521,
          0.007412898443291327,
          0.009636767976278725,
          0.0029651593773165306,
          0.002223869532987398,
          0,
          0.0029651593773165306,
          0,
          0,
          0,
          0,
          0
         ]
        },
        {
         "type": "bar",
         "uid": "d71d79b7-7f9d-4aad-a1db-4241f99cb8da",
         "x": [
          "Jammu and Kashmir",
          "Punjab",
          "Tamil Nadu",
          "Assam",
          "Uttar Pradesh",
          "Haryana",
          "Karnataka",
          "NCT of Delhi",
          "West Bengal",
          "Odisha",
          "Kerala",
          "Uttarakhand",
          "Manipur",
          "Bihar",
          "Maharashtra",
          "Gujarat",
          "Jharkhand",
          "Andhra Pradesh",
          "Rajasthan",
          "Himachal Pradesh",
          "Chandigarh",
          "Telangana",
          "Madhya Pradesh",
          "Tripura",
          "Chhattisgarh",
          "Puducherry",
          "Meghalaya",
          "Nagaland",
          "Arunachal Pradesh",
          "Goa",
          "Mizoram",
          "Andaman and Nicobar",
          "Sikkim",
          "Daman and Diu",
          "Dadra and Nagar Haveli"
         ],
         "y": [
          0.16129032258064516,
          0.12981904012588513,
          0.12431156569630213,
          0.024390243902439025,
          0.11408339889850512,
          0.06372934697088907,
          0.014162077104642014,
          0.01888276947285602,
          0.03540519276160504,
          0.010228166797797011,
          0.015735641227380016,
          0.044059795436664044,
          0.016522423288749016,
          0.01966955153422502,
          0.007867820613690008,
          0.01888276947285602,
          0.025177025963808025,
          0.011801730920535013,
          0.03225806451612903,
          0.03461841070023604,
          0.021243115656963022,
          0.024390243902439025,
          0.010228166797797011,
          0.003933910306845004,
          0.003933910306845004,
          0.004720692368214005,
          0.004720692368214005,
          0,
          0.0015735641227380016,
          0,
          0.0007867820613690008,
          0.0007867820613690008,
          0,
          0.0007867820613690008,
          0
         ]
        },
        {
         "type": "bar",
         "uid": "5f459e9d-dfbc-47d5-9809-49f107bf874f",
         "x": [
          "Jammu and Kashmir",
          "Punjab",
          "Tamil Nadu",
          "Assam",
          "Uttar Pradesh",
          "Haryana",
          "Karnataka",
          "NCT of Delhi",
          "West Bengal",
          "Odisha",
          "Kerala",
          "Uttarakhand",
          "Manipur",
          "Bihar",
          "Maharashtra",
          "Gujarat",
          "Jharkhand",
          "Andhra Pradesh",
          "Rajasthan",
          "Himachal Pradesh",
          "Chandigarh",
          "Telangana",
          "Madhya Pradesh",
          "Tripura",
          "Chhattisgarh",
          "Puducherry",
          "Meghalaya",
          "Nagaland",
          "Arunachal Pradesh",
          "Goa",
          "Mizoram",
          "Andaman and Nicobar",
          "Sikkim",
          "Daman and Diu",
          "Dadra and Nagar Haveli"
         ],
         "y": [
          0.25165562913907286,
          0.12298959318826869,
          0.07757805108798486,
          0.036896877956480605,
          0.07757805108798486,
          0.07095553453169347,
          0.021759697256385997,
          0.019867549668874173,
          0.023651844843897825,
          0.014191106906338695,
          0.03216650898770104,
          0.014191106906338695,
          0.021759697256385997,
          0.017975402081362345,
          0.011352885525070956,
          0.017975402081362345,
          0.020813623462630087,
          0.01608325449385052,
          0.020813623462630087,
          0.03122043519394513,
          0.017975402081362345,
          0.019867549668874173,
          0.005676442762535478,
          0.00946073793755913,
          0.007568590350047304,
          0.00946073793755913,
          0.003784295175023652,
          0,
          0,
          0.003784295175023652,
          0,
          0,
          0,
          0,
          0.000946073793755913
         ]
        },
        {
         "type": "bar",
         "uid": "3ddf0104-1ada-400d-a9e5-85d8241091e5",
         "x": [
          "Jammu and Kashmir",
          "Punjab",
          "Tamil Nadu",
          "Assam",
          "Uttar Pradesh",
          "Haryana",
          "Karnataka",
          "NCT of Delhi",
          "West Bengal",
          "Odisha",
          "Kerala",
          "Uttarakhand",
          "Manipur",
          "Bihar",
          "Maharashtra",
          "Gujarat",
          "Jharkhand",
          "Andhra Pradesh",
          "Rajasthan",
          "Himachal Pradesh",
          "Chandigarh",
          "Telangana",
          "Madhya Pradesh",
          "Tripura",
          "Chhattisgarh",
          "Puducherry",
          "Meghalaya",
          "Nagaland",
          "Arunachal Pradesh",
          "Goa",
          "Mizoram",
          "Andaman and Nicobar",
          "Sikkim",
          "Daman and Diu",
          "Dadra and Nagar Haveli"
         ],
         "y": [
          0.20826306913996628,
          0.13069139966273188,
          0.06239460370994941,
          0.03456998313659359,
          0.0699831365935919,
          0.0657672849915683,
          0.03288364249578415,
          0.016863406408094434,
          0.04300168634064081,
          0.07082630691399663,
          0.01433389544688027,
          0.024451939291736932,
          0.006745362563237774,
          0.0193929173693086,
          0.013490725126475547,
          0.03794266441821248,
          0.01011804384485666,
          0.01517706576728499,
          0.025295109612141653,
          0.010961214165261383,
          0.01011804384485666,
          0.006745362563237774,
          0.022765598650927487,
          0.006745362563237774,
          0.023608768971332208,
          0.005902192242833052,
          0.006745362563237774,
          0.0008431703204047217,
          0.0016863406408094434,
          0.0008431703204047217,
          0.0008431703204047217,
          0,
          0,
          0,
          0
         ]
        },
        {
         "type": "bar",
         "uid": "2487c946-9869-475f-a6ed-fb553ec8e01b",
         "x": [
          "Jammu and Kashmir",
          "Punjab",
          "Tamil Nadu",
          "Assam",
          "Uttar Pradesh",
          "Haryana",
          "Karnataka",
          "NCT of Delhi",
          "West Bengal",
          "Odisha",
          "Kerala",
          "Uttarakhand",
          "Manipur",
          "Bihar",
          "Maharashtra",
          "Gujarat",
          "Jharkhand",
          "Andhra Pradesh",
          "Rajasthan",
          "Himachal Pradesh",
          "Chandigarh",
          "Telangana",
          "Madhya Pradesh",
          "Tripura",
          "Chhattisgarh",
          "Puducherry",
          "Meghalaya",
          "Nagaland",
          "Arunachal Pradesh",
          "Goa",
          "Mizoram",
          "Andaman and Nicobar",
          "Sikkim",
          "Daman and Diu",
          "Dadra and Nagar Haveli"
         ],
         "y": [
          0.17509727626459143,
          0.1293774319066148,
          0.04182879377431906,
          0.07295719844357977,
          0.10116731517509728,
          0.04571984435797665,
          0.04474708171206226,
          0.042801556420233464,
          0.06031128404669261,
          0.0048638132295719845,
          0.02821011673151751,
          0.011673151750972763,
          0.02529182879377432,
          0.02821011673151751,
          0.007782101167315175,
          0.029182879377431907,
          0.010700389105058366,
          0.01848249027237354,
          0.024319066147859923,
          0.04961089494163424,
          0.007782101167315175,
          0.011673151750972763,
          0.005836575875486381,
          0.006809338521400778,
          0,
          0.0048638132295719845,
          0.0048638132295719845,
          0.0048638132295719845,
          0.0009727626459143969,
          0,
          0,
          0,
          0,
          0,
          0
         ]
        },
        {
         "type": "bar",
         "uid": "f40eaf80-bcfa-4f9e-8a3f-6ca6b467633f",
         "x": [
          "Jammu and Kashmir",
          "Punjab",
          "Tamil Nadu",
          "Assam",
          "Uttar Pradesh",
          "Haryana",
          "Karnataka",
          "NCT of Delhi",
          "West Bengal",
          "Odisha",
          "Kerala",
          "Uttarakhand",
          "Manipur",
          "Bihar",
          "Maharashtra",
          "Gujarat",
          "Jharkhand",
          "Andhra Pradesh",
          "Rajasthan",
          "Himachal Pradesh",
          "Chandigarh",
          "Telangana",
          "Madhya Pradesh",
          "Tripura",
          "Chhattisgarh",
          "Puducherry",
          "Meghalaya",
          "Nagaland",
          "Arunachal Pradesh",
          "Goa",
          "Mizoram",
          "Andaman and Nicobar",
          "Sikkim",
          "Daman and Diu",
          "Dadra and Nagar Haveli"
         ],
         "y": [
          0.1342685370741483,
          0.1342685370741483,
          0.06012024048096192,
          0.14729458917835672,
          0.0781563126252505,
          0.04308617234468938,
          0.056112224448897796,
          0.026052104208416832,
          0.02004008016032064,
          0.05811623246492986,
          0.026052104208416832,
          0.01002004008016032,
          0.027054108216432865,
          0.017034068136272545,
          0.018036072144288578,
          0.003006012024048096,
          0.00501002004008016,
          0.014028056112224449,
          0.0070140280561122245,
          0.04208416833667335,
          0.021042084168336674,
          0.01603206412825651,
          0.004008016032064128,
          0.0070140280561122245,
          0.002004008016032064,
          0.01002004008016032,
          0.009018036072144289,
          0.002004008016032064,
          0,
          0,
          0.002004008016032064,
          0,
          0,
          0,
          0
         ]
        },
        {
         "type": "bar",
         "uid": "dc2e1793-25fd-42b8-a53b-d1c8f424f1ff",
         "x": [
          "Jammu and Kashmir",
          "Punjab",
          "Tamil Nadu",
          "Assam",
          "Uttar Pradesh",
          "Haryana",
          "Karnataka",
          "NCT of Delhi",
          "West Bengal",
          "Odisha",
          "Kerala",
          "Uttarakhand",
          "Manipur",
          "Bihar",
          "Maharashtra",
          "Gujarat",
          "Jharkhand",
          "Andhra Pradesh",
          "Rajasthan",
          "Himachal Pradesh",
          "Chandigarh",
          "Telangana",
          "Madhya Pradesh",
          "Tripura",
          "Chhattisgarh",
          "Puducherry",
          "Meghalaya",
          "Nagaland",
          "Arunachal Pradesh",
          "Goa",
          "Mizoram",
          "Andaman and Nicobar",
          "Sikkim",
          "Daman and Diu",
          "Dadra and Nagar Haveli"
         ],
         "y": [
          0.16390041493775934,
          0.08921161825726141,
          0.11203319502074689,
          0.12655601659751037,
          0.06327800829875518,
          0.03319502074688797,
          0.0487551867219917,
          0.02074688796680498,
          0.02074688796680498,
          0.046680497925311204,
          0.02074688796680498,
          0.024896265560165973,
          0.03319502074688797,
          0.01867219917012448,
          0.011410788381742738,
          0.004149377593360996,
          0.017634854771784232,
          0.023858921161825725,
          0.01867219917012448,
          0.016597510373443983,
          0.007261410788381743,
          0.012448132780082987,
          0.007261410788381743,
          0.016597510373443983,
          0.01037344398340249,
          0.014522821576763486,
          0.006224066390041493,
          0.002074688796680498,
          0.004149377593360996,
          0.002074688796680498,
          0.001037344398340249,
          0.001037344398340249,
          0,
          0,
          0
         ]
        },
        {
         "type": "bar",
         "uid": "28cc9c12-e87c-42e7-96ab-67eea16263c8",
         "x": [
          "Jammu and Kashmir",
          "Punjab",
          "Tamil Nadu",
          "Assam",
          "Uttar Pradesh",
          "Haryana",
          "Karnataka",
          "NCT of Delhi",
          "West Bengal",
          "Odisha",
          "Kerala",
          "Uttarakhand",
          "Manipur",
          "Bihar",
          "Maharashtra",
          "Gujarat",
          "Jharkhand",
          "Andhra Pradesh",
          "Rajasthan",
          "Himachal Pradesh",
          "Chandigarh",
          "Telangana",
          "Madhya Pradesh",
          "Tripura",
          "Chhattisgarh",
          "Puducherry",
          "Meghalaya",
          "Nagaland",
          "Arunachal Pradesh",
          "Goa",
          "Mizoram",
          "Andaman and Nicobar",
          "Sikkim",
          "Daman and Diu",
          "Dadra and Nagar Haveli"
         ],
         "y": [
          0.27236315086782376,
          0.08678237650200267,
          0.044058744993324434,
          0.09746328437917223,
          0.029372496662216287,
          0.01602136181575434,
          0.04005340453938585,
          0.009345794392523364,
          0.03204272363150868,
          0.0026702269692923898,
          0.05740987983978638,
          0.00801068090787717,
          0.014686248331108143,
          0.07209612817089453,
          0.044058744993324434,
          0.00801068090787717,
          0.04138851802403204,
          0.02403204272363151,
          0.018691588785046728,
          0.0026702269692923898,
          0.006675567423230975,
          0.017356475300400534,
          0.03471295060080107,
          0.004005340453938585,
          0.0026702269692923898,
          0.006675567423230975,
          0.0013351134846461949,
          0.0026702269692923898,
          0.0013351134846461949,
          0.0013351134846461949,
          0,
          0,
          0,
          0,
          0
         ]
        },
        {
         "type": "bar",
         "uid": "1f5395f6-f875-472f-9cdd-cac20588cccd",
         "x": [
          "Jammu and Kashmir",
          "Punjab",
          "Tamil Nadu",
          "Assam",
          "Uttar Pradesh",
          "Haryana",
          "Karnataka",
          "NCT of Delhi",
          "West Bengal",
          "Odisha",
          "Kerala",
          "Uttarakhand",
          "Manipur",
          "Bihar",
          "Maharashtra",
          "Gujarat",
          "Jharkhand",
          "Andhra Pradesh",
          "Rajasthan",
          "Himachal Pradesh",
          "Chandigarh",
          "Telangana",
          "Madhya Pradesh",
          "Tripura",
          "Chhattisgarh",
          "Puducherry",
          "Meghalaya",
          "Nagaland",
          "Arunachal Pradesh",
          "Goa",
          "Mizoram",
          "Andaman and Nicobar",
          "Sikkim",
          "Daman and Diu",
          "Dadra and Nagar Haveli"
         ],
         "y": [
          0.17427385892116182,
          0.07053941908713693,
          0.07468879668049792,
          0.14661134163208853,
          0.04564315352697095,
          0.029045643153526972,
          0.05255878284923928,
          0.008298755186721992,
          0.04702627939142462,
          0.015214384508990318,
          0.051175656984785614,
          0.005532503457814661,
          0.02074688796680498,
          0.017980636237897647,
          0.035961272475795295,
          0.013831258644536652,
          0.05532503457814661,
          0.022130013831258646,
          0.015214384508990318,
          0.011065006915629323,
          0.013831258644536652,
          0.005532503457814661,
          0.008298755186721992,
          0.02627939142461964,
          0.0027662517289073307,
          0.016597510373443983,
          0.005532503457814661,
          0,
          0.0013831258644536654,
          0.004149377593360996,
          0.0013831258644536654,
          0,
          0,
          0.0013831258644536654,
          0
         ]
        },
        {
         "type": "bar",
         "uid": "47e06afe-fdba-4e5b-bae9-6978997aeab2",
         "x": [
          "Jammu and Kashmir",
          "Punjab",
          "Tamil Nadu",
          "Assam",
          "Uttar Pradesh",
          "Haryana",
          "Karnataka",
          "NCT of Delhi",
          "West Bengal",
          "Odisha",
          "Kerala",
          "Uttarakhand",
          "Manipur",
          "Bihar",
          "Maharashtra",
          "Gujarat",
          "Jharkhand",
          "Andhra Pradesh",
          "Rajasthan",
          "Himachal Pradesh",
          "Chandigarh",
          "Telangana",
          "Madhya Pradesh",
          "Tripura",
          "Chhattisgarh",
          "Puducherry",
          "Meghalaya",
          "Nagaland",
          "Arunachal Pradesh",
          "Goa",
          "Mizoram",
          "Andaman and Nicobar",
          "Sikkim",
          "Daman and Diu",
          "Dadra and Nagar Haveli"
         ],
         "y": [
          0.16952380952380952,
          0.16095238095238096,
          0.054285714285714284,
          0.05523809523809524,
          0.05333333333333334,
          0.054285714285714284,
          0.06857142857142857,
          0.04857142857142857,
          0.01619047619047619,
          0.007619047619047619,
          0.04380952380952381,
          0.017142857142857144,
          0.012380952380952381,
          0.04666666666666667,
          0.01904761904761905,
          0.011428571428571429,
          0.0380952380952381,
          0.013333333333333334,
          0.025714285714285714,
          0.01904761904761905,
          0.009523809523809525,
          0.01619047619047619,
          0.006666666666666667,
          0.013333333333333334,
          0.0038095238095238095,
          0.008571428571428572,
          0,
          0.0009523809523809524,
          0.002857142857142857,
          0.002857142857142857,
          0,
          0,
          0,
          0,
          0
         ]
        },
        {
         "type": "bar",
         "uid": "4002f04b-0913-4e48-8ae6-e2ebdd521d1f",
         "x": [
          "Jammu and Kashmir",
          "Punjab",
          "Tamil Nadu",
          "Assam",
          "Uttar Pradesh",
          "Haryana",
          "Karnataka",
          "NCT of Delhi",
          "West Bengal",
          "Odisha",
          "Kerala",
          "Uttarakhand",
          "Manipur",
          "Bihar",
          "Maharashtra",
          "Gujarat",
          "Jharkhand",
          "Andhra Pradesh",
          "Rajasthan",
          "Himachal Pradesh",
          "Chandigarh",
          "Telangana",
          "Madhya Pradesh",
          "Tripura",
          "Chhattisgarh",
          "Puducherry",
          "Meghalaya",
          "Nagaland",
          "Arunachal Pradesh",
          "Goa",
          "Mizoram",
          "Andaman and Nicobar",
          "Sikkim",
          "Daman and Diu",
          "Dadra and Nagar Haveli"
         ],
         "y": [
          0.20530367835757057,
          0.174508126603935,
          0.12660393498716851,
          0.01710863986313088,
          0.06244653550042772,
          0.05218135158254919,
          0.032506415739948676,
          0.032506415739948676,
          0.0213857998289136,
          0.009409751924721984,
          0.0290846877673225,
          0.020530367835757058,
          0.003421727972626176,
          0.016253207869974338,
          0.059880239520958084,
          0.026518391787852865,
          0.0051325919589392645,
          0.016253207869974338,
          0.022241231822070145,
          0.00855431993156544,
          0.01710863986313088,
          0.007698887938408896,
          0.00855431993156544,
          0.006843455945252352,
          0.00855431993156544,
          0.0051325919589392645,
          0.000855431993156544,
          0,
          0.000855431993156544,
          0.001710863986313088,
          0,
          0.000855431993156544,
          0,
          0,
          0
         ]
        },
        {
         "type": "bar",
         "uid": "79308550-eab5-41a1-93cc-3ebd051f0357",
         "x": [
          "Jammu and Kashmir",
          "Punjab",
          "Tamil Nadu",
          "Assam",
          "Uttar Pradesh",
          "Haryana",
          "Karnataka",
          "NCT of Delhi",
          "West Bengal",
          "Odisha",
          "Kerala",
          "Uttarakhand",
          "Manipur",
          "Bihar",
          "Maharashtra",
          "Gujarat",
          "Jharkhand",
          "Andhra Pradesh",
          "Rajasthan",
          "Himachal Pradesh",
          "Chandigarh",
          "Telangana",
          "Madhya Pradesh",
          "Tripura",
          "Chhattisgarh",
          "Puducherry",
          "Meghalaya",
          "Nagaland",
          "Arunachal Pradesh",
          "Goa",
          "Mizoram",
          "Andaman and Nicobar",
          "Sikkim",
          "Daman and Diu",
          "Dadra and Nagar Haveli"
         ],
         "y": [
          0.1806020066889632,
          0.1716833890746934,
          0.07246376811594203,
          0.0189520624303233,
          0.030100334448160536,
          0.06577480490523968,
          0.026755852842809364,
          0.06020066889632107,
          0.017837235228539576,
          0.023411371237458192,
          0.033444816053511704,
          0.01560758082497213,
          0.013377926421404682,
          0.014492753623188406,
          0.03121516164994426,
          0.008918617614269788,
          0.010033444816053512,
          0.06800445930880714,
          0.017837235228539576,
          0.022296544035674472,
          0.010033444816053512,
          0.006688963210702341,
          0.005574136008918618,
          0.026755852842809364,
          0.017837235228539576,
          0.0033444816053511705,
          0.010033444816053512,
          0.013377926421404682,
          0.0011148272017837235,
          0.002229654403567447,
          0,
          0,
          0,
          0,
          0
         ]
        },
        {
         "type": "bar",
         "uid": "79fe3ca1-ff9e-42cc-9238-bdd017440ae3",
         "x": [
          "Jammu and Kashmir",
          "Punjab",
          "Tamil Nadu",
          "Assam",
          "Uttar Pradesh",
          "Haryana",
          "Karnataka",
          "NCT of Delhi",
          "West Bengal",
          "Odisha",
          "Kerala",
          "Uttarakhand",
          "Manipur",
          "Bihar",
          "Maharashtra",
          "Gujarat",
          "Jharkhand",
          "Andhra Pradesh",
          "Rajasthan",
          "Himachal Pradesh",
          "Chandigarh",
          "Telangana",
          "Madhya Pradesh",
          "Tripura",
          "Chhattisgarh",
          "Puducherry",
          "Meghalaya",
          "Nagaland",
          "Arunachal Pradesh",
          "Goa",
          "Mizoram",
          "Andaman and Nicobar",
          "Sikkim",
          "Daman and Diu",
          "Dadra and Nagar Haveli"
         ],
         "y": [
          0.22536496350364962,
          0.14324817518248176,
          0.16149635036496351,
          0.03923357664233577,
          0.037408759124087594,
          0.03467153284671533,
          0.017335766423357664,
          0.06113138686131387,
          0.028284671532846715,
          0.02737226277372263,
          0.020985401459854013,
          0.014598540145985401,
          0.008211678832116789,
          0.028284671532846715,
          0.025547445255474453,
          0.010036496350364963,
          0.002737226277372263,
          0.040145985401459854,
          0.010036496350364963,
          0.009124087591240875,
          0.017335766423357664,
          0.008211678832116789,
          0.004562043795620438,
          0.006386861313868613,
          0.011861313868613138,
          0.0018248175182481751,
          0,
          0,
          0,
          0.0018248175182481751,
          0.002737226277372263,
          0,
          0,
          0,
          0
         ]
        },
        {
         "type": "bar",
         "uid": "58c086ff-ba0f-4a50-8be5-ed6f665a9e11",
         "x": [
          "Jammu and Kashmir",
          "Punjab",
          "Tamil Nadu",
          "Assam",
          "Uttar Pradesh",
          "Haryana",
          "Karnataka",
          "NCT of Delhi",
          "West Bengal",
          "Odisha",
          "Kerala",
          "Uttarakhand",
          "Manipur",
          "Bihar",
          "Maharashtra",
          "Gujarat",
          "Jharkhand",
          "Andhra Pradesh",
          "Rajasthan",
          "Himachal Pradesh",
          "Chandigarh",
          "Telangana",
          "Madhya Pradesh",
          "Tripura",
          "Chhattisgarh",
          "Puducherry",
          "Meghalaya",
          "Nagaland",
          "Arunachal Pradesh",
          "Goa",
          "Mizoram",
          "Andaman and Nicobar",
          "Sikkim",
          "Daman and Diu",
          "Dadra and Nagar Haveli"
         ],
         "y": [
          0.21641337386018236,
          0.12279635258358662,
          0.1513677811550152,
          0.02857142857142857,
          0.04012158054711246,
          0.031610942249240125,
          0.015197568389057751,
          0.02066869300911854,
          0.060790273556231005,
          0.015197568389057751,
          0.03951367781155015,
          0.01641337386018237,
          0.013373860182370821,
          0.03708206686930091,
          0.015805471124620062,
          0.029787234042553193,
          0.02857142857142857,
          0.03343465045592705,
          0.01641337386018237,
          0.00851063829787234,
          0.015197568389057751,
          0.0060790273556231,
          0.01094224924012158,
          0.00364741641337386,
          0.006686930091185411,
          0.00851063829787234,
          0.0012158054711246201,
          0,
          0.00182370820668693,
          0.0024316109422492403,
          0.0012158054711246201,
          0,
          0.0006079027355623101,
          0,
          0
         ]
        },
        {
         "type": "bar",
         "uid": "80a76625-0cab-4e6b-8467-8a3fad4c5777",
         "x": [
          "Jammu and Kashmir",
          "Punjab",
          "Tamil Nadu",
          "Assam",
          "Uttar Pradesh",
          "Haryana",
          "Karnataka",
          "NCT of Delhi",
          "West Bengal",
          "Odisha",
          "Kerala",
          "Uttarakhand",
          "Manipur",
          "Bihar",
          "Maharashtra",
          "Gujarat",
          "Jharkhand",
          "Andhra Pradesh",
          "Rajasthan",
          "Himachal Pradesh",
          "Chandigarh",
          "Telangana",
          "Madhya Pradesh",
          "Tripura",
          "Chhattisgarh",
          "Puducherry",
          "Meghalaya",
          "Nagaland",
          "Arunachal Pradesh",
          "Goa",
          "Mizoram",
          "Andaman and Nicobar",
          "Sikkim",
          "Daman and Diu",
          "Dadra and Nagar Haveli"
         ],
         "y": [
          0.19719407638347622,
          0.10989867498051442,
          0.12081060015588464,
          0.09197194076383476,
          0.026500389711613406,
          0.04520654715510522,
          0.042868277474668745,
          0.021823850350740453,
          0.0779423226812159,
          0.025720966484801246,
          0.01636788776305534,
          0.005455962587685113,
          0.014809041309431021,
          0.017926734216679657,
          0.01636788776305534,
          0.0171473109898675,
          0.011691348402182385,
          0.027279812938425563,
          0.014029618082618862,
          0.029618082618862042,
          0.013250194855806703,
          0.00857365549493375,
          0.007014809041309431,
          0.011691348402182385,
          0.00857365549493375,
          0.005455962587685113,
          0.006235385814497272,
          0.000779423226812159,
          0.003897116134060795,
          0.003117692907248636,
          0.000779423226812159,
          0,
          0,
          0,
          0
         ]
        },
        {
         "type": "bar",
         "uid": "7fb4db23-4a33-46e3-aa02-7ddab753ff5c",
         "x": [
          "Jammu and Kashmir",
          "Punjab",
          "Tamil Nadu",
          "Assam",
          "Uttar Pradesh",
          "Haryana",
          "Karnataka",
          "NCT of Delhi",
          "West Bengal",
          "Odisha",
          "Kerala",
          "Uttarakhand",
          "Manipur",
          "Bihar",
          "Maharashtra",
          "Gujarat",
          "Jharkhand",
          "Andhra Pradesh",
          "Rajasthan",
          "Himachal Pradesh",
          "Chandigarh",
          "Telangana",
          "Madhya Pradesh",
          "Tripura",
          "Chhattisgarh",
          "Puducherry",
          "Meghalaya",
          "Nagaland",
          "Arunachal Pradesh",
          "Goa",
          "Mizoram",
          "Andaman and Nicobar",
          "Sikkim",
          "Daman and Diu",
          "Dadra and Nagar Haveli"
         ],
         "y": [
          0.21171171171171171,
          0.14684684684684685,
          0.09549549549549549,
          0.05675675675675676,
          0.03063063063063063,
          0.03963963963963964,
          0.05045045045045045,
          0.027927927927927927,
          0.017117117117117116,
          0.016216216216216217,
          0.01981981981981982,
          0.018018018018018018,
          0.014414414414414415,
          0.036936936936936934,
          0.027927927927927927,
          0.03063063063063063,
          0.016216216216216217,
          0.02252252252252252,
          0.02072072072072072,
          0.015315315315315315,
          0.0045045045045045045,
          0.009009009009009009,
          0.024324324324324326,
          0.011711711711711712,
          0.009009009009009009,
          0.0036036036036036037,
          0.013513513513513514,
          0.006306306306306306,
          0.0009009009009009009,
          0.0018018018018018018,
          0,
          0,
          0,
          0,
          0
         ]
        },
        {
         "type": "bar",
         "uid": "f465803c-5e82-4762-aa3f-c8fd36ad271e",
         "x": [
          "Jammu and Kashmir",
          "Punjab",
          "Tamil Nadu",
          "Assam",
          "Uttar Pradesh",
          "Haryana",
          "Karnataka",
          "NCT of Delhi",
          "West Bengal",
          "Odisha",
          "Kerala",
          "Uttarakhand",
          "Manipur",
          "Bihar",
          "Maharashtra",
          "Gujarat",
          "Jharkhand",
          "Andhra Pradesh",
          "Rajasthan",
          "Himachal Pradesh",
          "Chandigarh",
          "Telangana",
          "Madhya Pradesh",
          "Tripura",
          "Chhattisgarh",
          "Puducherry",
          "Meghalaya",
          "Nagaland",
          "Arunachal Pradesh",
          "Goa",
          "Mizoram",
          "Andaman and Nicobar",
          "Sikkim",
          "Daman and Diu",
          "Dadra and Nagar Haveli"
         ],
         "y": [
          0.16152597402597402,
          0.1956168831168831,
          0.09172077922077922,
          0.05032467532467533,
          0.022727272727272728,
          0.03814935064935065,
          0.05113636363636364,
          0.01948051948051948,
          0.021915584415584416,
          0.037337662337662336,
          0.022727272727272728,
          0.012175324675324676,
          0.04626623376623377,
          0.017045454545454544,
          0.05844155844155844,
          0.007305194805194805,
          0.017045454545454544,
          0.030032467532467532,
          0.01461038961038961,
          0.010551948051948052,
          0.021103896103896104,
          0.006493506493506494,
          0.005681818181818182,
          0.00487012987012987,
          0.00974025974025974,
          0.003246753246753247,
          0.004058441558441558,
          0.0008116883116883117,
          0.00487012987012987,
          0.002435064935064935,
          0.007305194805194805,
          0.002435064935064935,
          0.0008116883116883117,
          0,
          0
         ]
        },
        {
         "type": "bar",
         "uid": "aa92ff7c-3212-4bc5-acf8-bbff54ab43f3",
         "x": [
          "Jammu and Kashmir",
          "Punjab",
          "Tamil Nadu",
          "Assam",
          "Uttar Pradesh",
          "Haryana",
          "Karnataka",
          "NCT of Delhi",
          "West Bengal",
          "Odisha",
          "Kerala",
          "Uttarakhand",
          "Manipur",
          "Bihar",
          "Maharashtra",
          "Gujarat",
          "Jharkhand",
          "Andhra Pradesh",
          "Rajasthan",
          "Himachal Pradesh",
          "Chandigarh",
          "Telangana",
          "Madhya Pradesh",
          "Tripura",
          "Chhattisgarh",
          "Puducherry",
          "Meghalaya",
          "Nagaland",
          "Arunachal Pradesh",
          "Goa",
          "Mizoram",
          "Andaman and Nicobar",
          "Sikkim",
          "Daman and Diu",
          "Dadra and Nagar Haveli"
         ],
         "y": [
          0.2305334150827713,
          0.1213979153893317,
          0.041692213366033105,
          0.04843654199877376,
          0.04721030042918455,
          0.03801348865726548,
          0.02575107296137339,
          0.03740036787247088,
          0.06866952789699571,
          0.05027590435315757,
          0.004291845493562232,
          0.01655426118945432,
          0.0539546290619252,
          0.04721030042918455,
          0.03494788473329246,
          0.012262415695892091,
          0.014714898835070508,
          0.015328019619865114,
          0.009809932556713672,
          0.011649294911097487,
          0.015328019619865114,
          0.00674432863274065,
          0.0030656039239730227,
          0.009809932556713672,
          0.00797057020232986,
          0.001226241569589209,
          0.005518087063151441,
          0.00797057020232986,
          0.00797057020232986,
          0.0006131207847946045,
          0.001226241569589209,
          0.001226241569589209,
          0.001226241569589209,
          0,
          0
         ]
        },
        {
         "type": "bar",
         "uid": "a17baa24-9416-4116-98a1-8878d48740a8",
         "x": [
          "Jammu and Kashmir",
          "Punjab",
          "Tamil Nadu",
          "Assam",
          "Uttar Pradesh",
          "Haryana",
          "Karnataka",
          "NCT of Delhi",
          "West Bengal",
          "Odisha",
          "Kerala",
          "Uttarakhand",
          "Manipur",
          "Bihar",
          "Maharashtra",
          "Gujarat",
          "Jharkhand",
          "Andhra Pradesh",
          "Rajasthan",
          "Himachal Pradesh",
          "Chandigarh",
          "Telangana",
          "Madhya Pradesh",
          "Tripura",
          "Chhattisgarh",
          "Puducherry",
          "Meghalaya",
          "Nagaland",
          "Arunachal Pradesh",
          "Goa",
          "Mizoram",
          "Andaman and Nicobar",
          "Sikkim",
          "Daman and Diu",
          "Dadra and Nagar Haveli"
         ],
         "y": [
          0.15512048192771086,
          0.16164658634538154,
          0.04568273092369478,
          0.056726907630522086,
          0.05572289156626506,
          0.053714859437751006,
          0.028112449799196786,
          0.028112449799196786,
          0.04919678714859438,
          0.058734939759036146,
          0.015562248995983935,
          0.0035140562248995983,
          0.02610441767068273,
          0.0607429718875502,
          0.020582329317269075,
          0.009538152610441768,
          0.021586345381526106,
          0.022590361445783132,
          0.009538152610441768,
          0.014056224899598393,
          0.01355421686746988,
          0.025100401606425703,
          0.022590361445783132,
          0.01355421686746988,
          0.007530120481927711,
          0.004016064257028112,
          0.005522088353413655,
          0.0030120481927710845,
          0.004016064257028112,
          0,
          0.0015060240963855422,
          0.0030120481927710845,
          0,
          0,
          0
         ]
        },
        {
         "type": "bar",
         "uid": "b3388a64-2ab9-435e-986e-2377f4233826",
         "x": [
          "Jammu and Kashmir",
          "Punjab",
          "Tamil Nadu",
          "Assam",
          "Uttar Pradesh",
          "Haryana",
          "Karnataka",
          "NCT of Delhi",
          "West Bengal",
          "Odisha",
          "Kerala",
          "Uttarakhand",
          "Manipur",
          "Bihar",
          "Maharashtra",
          "Gujarat",
          "Jharkhand",
          "Andhra Pradesh",
          "Rajasthan",
          "Himachal Pradesh",
          "Chandigarh",
          "Telangana",
          "Madhya Pradesh",
          "Tripura",
          "Chhattisgarh",
          "Puducherry",
          "Meghalaya",
          "Nagaland",
          "Arunachal Pradesh",
          "Goa",
          "Mizoram",
          "Andaman and Nicobar",
          "Sikkim",
          "Daman and Diu",
          "Dadra and Nagar Haveli"
         ],
         "y": [
          0.2025862068965517,
          0.13608374384236452,
          0.050492610837438424,
          0.07635467980295567,
          0.050492610837438424,
          0.05357142857142857,
          0.02586206896551724,
          0.03017241379310345,
          0.022167487684729065,
          0.05110837438423645,
          0.04864532019704434,
          0.0024630541871921183,
          0.017241379310344827,
          0.027093596059113302,
          0.02770935960591133,
          0.0166256157635468,
          0.01847290640394089,
          0.04064039408866995,
          0.008620689655172414,
          0.01539408866995074,
          0.01539408866995074,
          0.017241379310344827,
          0.0067733990147783255,
          0.008004926108374385,
          0.013546798029556651,
          0.0018472906403940886,
          0.0049261083743842365,
          0.003078817733990148,
          0.003694581280788177,
          0.0018472906403940886,
          0.0006157635467980296,
          0.0012315270935960591,
          0,
          0,
          0
         ]
        },
        {
         "type": "bar",
         "uid": "df43e1f8-8026-48cf-9864-03f713d8e9a9",
         "x": [
          "Jammu and Kashmir",
          "Punjab",
          "Tamil Nadu",
          "Assam",
          "Uttar Pradesh",
          "Haryana",
          "Karnataka",
          "NCT of Delhi",
          "West Bengal",
          "Odisha",
          "Kerala",
          "Uttarakhand",
          "Manipur",
          "Bihar",
          "Maharashtra",
          "Gujarat",
          "Jharkhand",
          "Andhra Pradesh",
          "Rajasthan",
          "Himachal Pradesh",
          "Chandigarh",
          "Telangana",
          "Madhya Pradesh",
          "Tripura",
          "Chhattisgarh",
          "Puducherry",
          "Meghalaya",
          "Nagaland",
          "Arunachal Pradesh",
          "Goa",
          "Mizoram",
          "Andaman and Nicobar",
          "Sikkim",
          "Daman and Diu",
          "Dadra and Nagar Haveli"
         ],
         "y": [
          0.21954314720812182,
          0.12373096446700507,
          0.03299492385786802,
          0.10596446700507614,
          0.03934010152284264,
          0.02728426395939086,
          0.02728426395939086,
          0.02728426395939086,
          0.02982233502538071,
          0.04314720812182741,
          0.03362944162436548,
          0.01015228426395939,
          0.020939086294416244,
          0.02030456852791878,
          0.031091370558375634,
          0.0038071065989847717,
          0.048223350253807105,
          0.02728426395939086,
          0.008248730964467006,
          0.007614213197969543,
          0.015862944162436547,
          0.014593908629441625,
          0.01015228426395939,
          0.01649746192893401,
          0.02284263959390863,
          0,
          0.006979695431472081,
          0.005076142131979695,
          0.011421319796954314,
          0.005710659898477157,
          0.0025380710659898475,
          0.0006345177664974619,
          0,
          0,
          0
         ]
        },
        {
         "type": "bar",
         "uid": "2b5cfaf3-8bd1-4f9d-a135-ffbad72869b3",
         "x": [
          "Jammu and Kashmir",
          "Punjab",
          "Tamil Nadu",
          "Assam",
          "Uttar Pradesh",
          "Haryana",
          "Karnataka",
          "NCT of Delhi",
          "West Bengal",
          "Odisha",
          "Kerala",
          "Uttarakhand",
          "Manipur",
          "Bihar",
          "Maharashtra",
          "Gujarat",
          "Jharkhand",
          "Andhra Pradesh",
          "Rajasthan",
          "Himachal Pradesh",
          "Chandigarh",
          "Telangana",
          "Madhya Pradesh",
          "Tripura",
          "Chhattisgarh",
          "Puducherry",
          "Meghalaya",
          "Nagaland",
          "Arunachal Pradesh",
          "Goa",
          "Mizoram",
          "Andaman and Nicobar",
          "Sikkim",
          "Daman and Diu",
          "Dadra and Nagar Haveli"
         ],
         "y": [
          0.1952147906470908,
          0.14192495921696574,
          0.05600870038064165,
          0.09679173463839043,
          0.036976617727025554,
          0.02773246329526917,
          0.03969548667754214,
          0.034801522566612286,
          0.018488308863512777,
          0.03969548667754214,
          0.03915171288743882,
          0.009244154431756389,
          0.02936378466557912,
          0.018488308863512777,
          0.016856987493202826,
          0.011963023382272975,
          0.013050570962479609,
          0.029907558455682437,
          0.01957585644371941,
          0.009244154431756389,
          0.01631321370309951,
          0.023382272974442633,
          0.009244154431756389,
          0.03262642740619902,
          0.005437737901033171,
          0.002175095160413268,
          0.0076128330614464385,
          0.008156606851549755,
          0.0032626427406199023,
          0.004893964110929853,
          0.0016313213703099511,
          0.001087547580206634,
          0,
          0,
          0
         ]
        },
        {
         "type": "bar",
         "uid": "6905ee82-3523-4889-bcf4-3e981df4b052",
         "x": [
          "Jammu and Kashmir",
          "Punjab",
          "Tamil Nadu",
          "Assam",
          "Uttar Pradesh",
          "Haryana",
          "Karnataka",
          "NCT of Delhi",
          "West Bengal",
          "Odisha",
          "Kerala",
          "Uttarakhand",
          "Manipur",
          "Bihar",
          "Maharashtra",
          "Gujarat",
          "Jharkhand",
          "Andhra Pradesh",
          "Rajasthan",
          "Himachal Pradesh",
          "Chandigarh",
          "Telangana",
          "Madhya Pradesh",
          "Tripura",
          "Chhattisgarh",
          "Puducherry",
          "Meghalaya",
          "Nagaland",
          "Arunachal Pradesh",
          "Goa",
          "Mizoram",
          "Andaman and Nicobar",
          "Sikkim",
          "Daman and Diu",
          "Dadra and Nagar Haveli"
         ],
         "y": [
          0.13202933985330073,
          0.1039119804400978,
          0.06845965770171149,
          0.1980440097799511,
          0.02689486552567237,
          0.017726161369193152,
          0.02506112469437653,
          0.02689486552567237,
          0.035452322738386305,
          0.04706601466992665,
          0.06845965770171149,
          0.0024449877750611247,
          0.03667481662591687,
          0.023838630806845965,
          0.023838630806845965,
          0.009168704156479218,
          0.02444987775061125,
          0.020171149144254278,
          0.0024449877750611247,
          0.011002444987775062,
          0.006723716381418093,
          0.015281173594132029,
          0.009779951100244499,
          0.019559902200488997,
          0.006112469437652812,
          0.0018337408312958435,
          0.015281173594132029,
          0.0018337408312958435,
          0.007946210268948655,
          0.0024449877750611247,
          0.006723716381418093,
          0.0006112469437652812,
          0.0018337408312958435,
          0,
          0
         ]
        }
       ],
       "layout": {
        "autosize": true,
        "sliders": [
         {
          "active": 0,
          "currentvalue": {
           "prefix": ""
          },
          "name": "Month",
          "pad": {
           "t": 37
          },
          "steps": [
           {
            "args": [
             "visible",
             [
              true,
              false,
              false,
              false,
              false,
              false,
              false,
              false,
              false,
              false,
              false,
              false,
              false,
              false,
              false,
              false,
              false,
              false,
              false,
              false,
              false,
              false,
              false,
              false,
              false,
              false,
              false,
              false,
              false,
              false,
              false,
              false,
              false,
              false,
              false,
              false,
              false
             ]
            ],
            "label": "Month 1",
            "method": "restyle"
           },
           {
            "args": [
             "visible",
             [
              false,
              true,
              false,
              false,
              false,
              false,
              false,
              false,
              false,
              false,
              false,
              false,
              false,
              false,
              false,
              false,
              false,
              false,
              false,
              false,
              false,
              false,
              false,
              false,
              false,
              false,
              false,
              false,
              false,
              false,
              false,
              false,
              false,
              false,
              false,
              false,
              false
             ]
            ],
            "label": "Month 2",
            "method": "restyle"
           },
           {
            "args": [
             "visible",
             [
              false,
              false,
              true,
              false,
              false,
              false,
              false,
              false,
              false,
              false,
              false,
              false,
              false,
              false,
              false,
              false,
              false,
              false,
              false,
              false,
              false,
              false,
              false,
              false,
              false,
              false,
              false,
              false,
              false,
              false,
              false,
              false,
              false,
              false,
              false,
              false,
              false
             ]
            ],
            "label": "Month 3",
            "method": "restyle"
           },
           {
            "args": [
             "visible",
             [
              false,
              false,
              false,
              true,
              false,
              false,
              false,
              false,
              false,
              false,
              false,
              false,
              false,
              false,
              false,
              false,
              false,
              false,
              false,
              false,
              false,
              false,
              false,
              false,
              false,
              false,
              false,
              false,
              false,
              false,
              false,
              false,
              false,
              false,
              false,
              false,
              false
             ]
            ],
            "label": "Month 4",
            "method": "restyle"
           },
           {
            "args": [
             "visible",
             [
              false,
              false,
              false,
              false,
              true,
              false,
              false,
              false,
              false,
              false,
              false,
              false,
              false,
              false,
              false,
              false,
              false,
              false,
              false,
              false,
              false,
              false,
              false,
              false,
              false,
              false,
              false,
              false,
              false,
              false,
              false,
              false,
              false,
              false,
              false,
              false,
              false
             ]
            ],
            "label": "Month 5",
            "method": "restyle"
           },
           {
            "args": [
             "visible",
             [
              false,
              false,
              false,
              false,
              false,
              true,
              false,
              false,
              false,
              false,
              false,
              false,
              false,
              false,
              false,
              false,
              false,
              false,
              false,
              false,
              false,
              false,
              false,
              false,
              false,
              false,
              false,
              false,
              false,
              false,
              false,
              false,
              false,
              false,
              false,
              false,
              false
             ]
            ],
            "label": "Month 6",
            "method": "restyle"
           },
           {
            "args": [
             "visible",
             [
              false,
              false,
              false,
              false,
              false,
              false,
              true,
              false,
              false,
              false,
              false,
              false,
              false,
              false,
              false,
              false,
              false,
              false,
              false,
              false,
              false,
              false,
              false,
              false,
              false,
              false,
              false,
              false,
              false,
              false,
              false,
              false,
              false,
              false,
              false,
              false,
              false
             ]
            ],
            "label": "Month 7",
            "method": "restyle"
           },
           {
            "args": [
             "visible",
             [
              false,
              false,
              false,
              false,
              false,
              false,
              false,
              true,
              false,
              false,
              false,
              false,
              false,
              false,
              false,
              false,
              false,
              false,
              false,
              false,
              false,
              false,
              false,
              false,
              false,
              false,
              false,
              false,
              false,
              false,
              false,
              false,
              false,
              false,
              false,
              false,
              false
             ]
            ],
            "label": "Month 8",
            "method": "restyle"
           },
           {
            "args": [
             "visible",
             [
              false,
              false,
              false,
              false,
              false,
              false,
              false,
              false,
              true,
              false,
              false,
              false,
              false,
              false,
              false,
              false,
              false,
              false,
              false,
              false,
              false,
              false,
              false,
              false,
              false,
              false,
              false,
              false,
              false,
              false,
              false,
              false,
              false,
              false,
              false,
              false,
              false
             ]
            ],
            "label": "Month 9",
            "method": "restyle"
           },
           {
            "args": [
             "visible",
             [
              false,
              false,
              false,
              false,
              false,
              false,
              false,
              false,
              false,
              true,
              false,
              false,
              false,
              false,
              false,
              false,
              false,
              false,
              false,
              false,
              false,
              false,
              false,
              false,
              false,
              false,
              false,
              false,
              false,
              false,
              false,
              false,
              false,
              false,
              false,
              false,
              false
             ]
            ],
            "label": "Month 10",
            "method": "restyle"
           },
           {
            "args": [
             "visible",
             [
              false,
              false,
              false,
              false,
              false,
              false,
              false,
              false,
              false,
              false,
              true,
              false,
              false,
              false,
              false,
              false,
              false,
              false,
              false,
              false,
              false,
              false,
              false,
              false,
              false,
              false,
              false,
              false,
              false,
              false,
              false,
              false,
              false,
              false,
              false,
              false,
              false
             ]
            ],
            "label": "Month 11",
            "method": "restyle"
           },
           {
            "args": [
             "visible",
             [
              false,
              false,
              false,
              false,
              false,
              false,
              false,
              false,
              false,
              false,
              false,
              true,
              false,
              false,
              false,
              false,
              false,
              false,
              false,
              false,
              false,
              false,
              false,
              false,
              false,
              false,
              false,
              false,
              false,
              false,
              false,
              false,
              false,
              false,
              false,
              false,
              false
             ]
            ],
            "label": "Month 12",
            "method": "restyle"
           },
           {
            "args": [
             "visible",
             [
              false,
              false,
              false,
              false,
              false,
              false,
              false,
              false,
              false,
              false,
              false,
              false,
              true,
              false,
              false,
              false,
              false,
              false,
              false,
              false,
              false,
              false,
              false,
              false,
              false,
              false,
              false,
              false,
              false,
              false,
              false,
              false,
              false,
              false,
              false,
              false,
              false
             ]
            ],
            "label": "Month 13",
            "method": "restyle"
           },
           {
            "args": [
             "visible",
             [
              false,
              false,
              false,
              false,
              false,
              false,
              false,
              false,
              false,
              false,
              false,
              false,
              false,
              true,
              false,
              false,
              false,
              false,
              false,
              false,
              false,
              false,
              false,
              false,
              false,
              false,
              false,
              false,
              false,
              false,
              false,
              false,
              false,
              false,
              false,
              false,
              false
             ]
            ],
            "label": "Month 14",
            "method": "restyle"
           },
           {
            "args": [
             "visible",
             [
              false,
              false,
              false,
              false,
              false,
              false,
              false,
              false,
              false,
              false,
              false,
              false,
              false,
              false,
              true,
              false,
              false,
              false,
              false,
              false,
              false,
              false,
              false,
              false,
              false,
              false,
              false,
              false,
              false,
              false,
              false,
              false,
              false,
              false,
              false,
              false,
              false
             ]
            ],
            "label": "Month 15",
            "method": "restyle"
           },
           {
            "args": [
             "visible",
             [
              false,
              false,
              false,
              false,
              false,
              false,
              false,
              false,
              false,
              false,
              false,
              false,
              false,
              false,
              false,
              true,
              false,
              false,
              false,
              false,
              false,
              false,
              false,
              false,
              false,
              false,
              false,
              false,
              false,
              false,
              false,
              false,
              false,
              false,
              false,
              false,
              false
             ]
            ],
            "label": "Month 16",
            "method": "restyle"
           },
           {
            "args": [
             "visible",
             [
              false,
              false,
              false,
              false,
              false,
              false,
              false,
              false,
              false,
              false,
              false,
              false,
              false,
              false,
              false,
              false,
              true,
              false,
              false,
              false,
              false,
              false,
              false,
              false,
              false,
              false,
              false,
              false,
              false,
              false,
              false,
              false,
              false,
              false,
              false,
              false,
              false
             ]
            ],
            "label": "Month 17",
            "method": "restyle"
           },
           {
            "args": [
             "visible",
             [
              false,
              false,
              false,
              false,
              false,
              false,
              false,
              false,
              false,
              false,
              false,
              false,
              false,
              false,
              false,
              false,
              false,
              true,
              false,
              false,
              false,
              false,
              false,
              false,
              false,
              false,
              false,
              false,
              false,
              false,
              false,
              false,
              false,
              false,
              false,
              false,
              false
             ]
            ],
            "label": "Month 18",
            "method": "restyle"
           },
           {
            "args": [
             "visible",
             [
              false,
              false,
              false,
              false,
              false,
              false,
              false,
              false,
              false,
              false,
              false,
              false,
              false,
              false,
              false,
              false,
              false,
              false,
              true,
              false,
              false,
              false,
              false,
              false,
              false,
              false,
              false,
              false,
              false,
              false,
              false,
              false,
              false,
              false,
              false,
              false,
              false
             ]
            ],
            "label": "Month 19",
            "method": "restyle"
           },
           {
            "args": [
             "visible",
             [
              false,
              false,
              false,
              false,
              false,
              false,
              false,
              false,
              false,
              false,
              false,
              false,
              false,
              false,
              false,
              false,
              false,
              false,
              false,
              true,
              false,
              false,
              false,
              false,
              false,
              false,
              false,
              false,
              false,
              false,
              false,
              false,
              false,
              false,
              false,
              false,
              false
             ]
            ],
            "label": "Month 20",
            "method": "restyle"
           },
           {
            "args": [
             "visible",
             [
              false,
              false,
              false,
              false,
              false,
              false,
              false,
              false,
              false,
              false,
              false,
              false,
              false,
              false,
              false,
              false,
              false,
              false,
              false,
              false,
              true,
              false,
              false,
              false,
              false,
              false,
              false,
              false,
              false,
              false,
              false,
              false,
              false,
              false,
              false,
              false,
              false
             ]
            ],
            "label": "Month 21",
            "method": "restyle"
           },
           {
            "args": [
             "visible",
             [
              false,
              false,
              false,
              false,
              false,
              false,
              false,
              false,
              false,
              false,
              false,
              false,
              false,
              false,
              false,
              false,
              false,
              false,
              false,
              false,
              false,
              true,
              false,
              false,
              false,
              false,
              false,
              false,
              false,
              false,
              false,
              false,
              false,
              false,
              false,
              false,
              false
             ]
            ],
            "label": "Month 22",
            "method": "restyle"
           },
           {
            "args": [
             "visible",
             [
              false,
              false,
              false,
              false,
              false,
              false,
              false,
              false,
              false,
              false,
              false,
              false,
              false,
              false,
              false,
              false,
              false,
              false,
              false,
              false,
              false,
              false,
              true,
              false,
              false,
              false,
              false,
              false,
              false,
              false,
              false,
              false,
              false,
              false,
              false,
              false,
              false
             ]
            ],
            "label": "Month 23",
            "method": "restyle"
           },
           {
            "args": [
             "visible",
             [
              false,
              false,
              false,
              false,
              false,
              false,
              false,
              false,
              false,
              false,
              false,
              false,
              false,
              false,
              false,
              false,
              false,
              false,
              false,
              false,
              false,
              false,
              false,
              true,
              false,
              false,
              false,
              false,
              false,
              false,
              false,
              false,
              false,
              false,
              false,
              false,
              false
             ]
            ],
            "label": "Month 24",
            "method": "restyle"
           },
           {
            "args": [
             "visible",
             [
              false,
              false,
              false,
              false,
              false,
              false,
              false,
              false,
              false,
              false,
              false,
              false,
              false,
              false,
              false,
              false,
              false,
              false,
              false,
              false,
              false,
              false,
              false,
              false,
              true,
              false,
              false,
              false,
              false,
              false,
              false,
              false,
              false,
              false,
              false,
              false,
              false
             ]
            ],
            "label": "Month 25",
            "method": "restyle"
           },
           {
            "args": [
             "visible",
             [
              false,
              false,
              false,
              false,
              false,
              false,
              false,
              false,
              false,
              false,
              false,
              false,
              false,
              false,
              false,
              false,
              false,
              false,
              false,
              false,
              false,
              false,
              false,
              false,
              false,
              true,
              false,
              false,
              false,
              false,
              false,
              false,
              false,
              false,
              false,
              false,
              false
             ]
            ],
            "label": "Month 26",
            "method": "restyle"
           },
           {
            "args": [
             "visible",
             [
              false,
              false,
              false,
              false,
              false,
              false,
              false,
              false,
              false,
              false,
              false,
              false,
              false,
              false,
              false,
              false,
              false,
              false,
              false,
              false,
              false,
              false,
              false,
              false,
              false,
              false,
              true,
              false,
              false,
              false,
              false,
              false,
              false,
              false,
              false,
              false,
              false
             ]
            ],
            "label": "Month 27",
            "method": "restyle"
           },
           {
            "args": [
             "visible",
             [
              false,
              false,
              false,
              false,
              false,
              false,
              false,
              false,
              false,
              false,
              false,
              false,
              false,
              false,
              false,
              false,
              false,
              false,
              false,
              false,
              false,
              false,
              false,
              false,
              false,
              false,
              false,
              true,
              false,
              false,
              false,
              false,
              false,
              false,
              false,
              false,
              false
             ]
            ],
            "label": "Month 28",
            "method": "restyle"
           },
           {
            "args": [
             "visible",
             [
              false,
              false,
              false,
              false,
              false,
              false,
              false,
              false,
              false,
              false,
              false,
              false,
              false,
              false,
              false,
              false,
              false,
              false,
              false,
              false,
              false,
              false,
              false,
              false,
              false,
              false,
              false,
              false,
              true,
              false,
              false,
              false,
              false,
              false,
              false,
              false,
              false
             ]
            ],
            "label": "Month 29",
            "method": "restyle"
           },
           {
            "args": [
             "visible",
             [
              false,
              false,
              false,
              false,
              false,
              false,
              false,
              false,
              false,
              false,
              false,
              false,
              false,
              false,
              false,
              false,
              false,
              false,
              false,
              false,
              false,
              false,
              false,
              false,
              false,
              false,
              false,
              false,
              false,
              true,
              false,
              false,
              false,
              false,
              false,
              false,
              false
             ]
            ],
            "label": "Month 30",
            "method": "restyle"
           },
           {
            "args": [
             "visible",
             [
              false,
              false,
              false,
              false,
              false,
              false,
              false,
              false,
              false,
              false,
              false,
              false,
              false,
              false,
              false,
              false,
              false,
              false,
              false,
              false,
              false,
              false,
              false,
              false,
              false,
              false,
              false,
              false,
              false,
              false,
              true,
              false,
              false,
              false,
              false,
              false,
              false
             ]
            ],
            "label": "Month 31",
            "method": "restyle"
           },
           {
            "args": [
             "visible",
             [
              false,
              false,
              false,
              false,
              false,
              false,
              false,
              false,
              false,
              false,
              false,
              false,
              false,
              false,
              false,
              false,
              false,
              false,
              false,
              false,
              false,
              false,
              false,
              false,
              false,
              false,
              false,
              false,
              false,
              false,
              false,
              true,
              false,
              false,
              false,
              false,
              false
             ]
            ],
            "label": "Month 32",
            "method": "restyle"
           },
           {
            "args": [
             "visible",
             [
              false,
              false,
              false,
              false,
              false,
              false,
              false,
              false,
              false,
              false,
              false,
              false,
              false,
              false,
              false,
              false,
              false,
              false,
              false,
              false,
              false,
              false,
              false,
              false,
              false,
              false,
              false,
              false,
              false,
              false,
              false,
              false,
              true,
              false,
              false,
              false,
              false
             ]
            ],
            "label": "Month 33",
            "method": "restyle"
           },
           {
            "args": [
             "visible",
             [
              false,
              false,
              false,
              false,
              false,
              false,
              false,
              false,
              false,
              false,
              false,
              false,
              false,
              false,
              false,
              false,
              false,
              false,
              false,
              false,
              false,
              false,
              false,
              false,
              false,
              false,
              false,
              false,
              false,
              false,
              false,
              false,
              false,
              true,
              false,
              false,
              false
             ]
            ],
            "label": "Month 34",
            "method": "restyle"
           },
           {
            "args": [
             "visible",
             [
              false,
              false,
              false,
              false,
              false,
              false,
              false,
              false,
              false,
              false,
              false,
              false,
              false,
              false,
              false,
              false,
              false,
              false,
              false,
              false,
              false,
              false,
              false,
              false,
              false,
              false,
              false,
              false,
              false,
              false,
              false,
              false,
              false,
              false,
              true,
              false,
              false
             ]
            ],
            "label": "Month 35",
            "method": "restyle"
           },
           {
            "args": [
             "visible",
             [
              false,
              false,
              false,
              false,
              false,
              false,
              false,
              false,
              false,
              false,
              false,
              false,
              false,
              false,
              false,
              false,
              false,
              false,
              false,
              false,
              false,
              false,
              false,
              false,
              false,
              false,
              false,
              false,
              false,
              false,
              false,
              false,
              false,
              false,
              false,
              true,
              false
             ]
            ],
            "label": "Month 36",
            "method": "restyle"
           },
           {
            "args": [
             "visible",
             [
              false,
              false,
              false,
              false,
              false,
              false,
              false,
              false,
              false,
              false,
              false,
              false,
              false,
              false,
              false,
              false,
              false,
              false,
              false,
              false,
              false,
              false,
              false,
              false,
              false,
              false,
              false,
              false,
              false,
              false,
              false,
              false,
              false,
              false,
              false,
              false,
              true
             ]
            ],
            "label": "Month 37",
            "method": "restyle"
           }
          ],
          "y": 1.5
         }
        ],
        "title": {
         "text": "Plot#2: Monthwise Event Frequency"
        },
        "xaxis": {
         "automargin": true,
         "title": {
          "text": "States"
         }
        },
        "yaxis": {
         "automargin": true,
         "title": {
          "text": "Normalized Frequency"
         }
        }
       }
      },
      "text/html": [
       "<div id=\"98d7c184-9941-4b3b-ac32-89f1c2706617\" style=\"height: 525px; width: 100%;\" class=\"plotly-graph-div\"></div><script type=\"text/javascript\">require([\"plotly\"], function(Plotly) { window.PLOTLYENV=window.PLOTLYENV || {};window.PLOTLYENV.BASE_URL=\"https://plot.ly\";Plotly.newPlot(\"98d7c184-9941-4b3b-ac32-89f1c2706617\", [{\"x\": [\"Jammu and Kashmir\", \"Punjab\", \"Tamil Nadu\", \"Assam\", \"Uttar Pradesh\", \"Haryana\", \"Karnataka\", \"NCT of Delhi\", \"West Bengal\", \"Odisha\", \"Kerala\", \"Uttarakhand\", \"Manipur\", \"Bihar\", \"Maharashtra\", \"Gujarat\", \"Jharkhand\", \"Andhra Pradesh\", \"Rajasthan\", \"Himachal Pradesh\", \"Chandigarh\", \"Telangana\", \"Madhya Pradesh\", \"Tripura\", \"Chhattisgarh\", \"Puducherry\", \"Meghalaya\", \"Nagaland\", \"Arunachal Pradesh\", \"Goa\", \"Mizoram\", \"Andaman and Nicobar\", \"Sikkim\", \"Daman and Diu\", \"Dadra and Nagar Haveli\"], \"y\": [0.06914893617021277, 0.19148936170212766, 0.07313829787234043, 0.031914893617021274, 0.043882978723404256, 0.08776595744680851, 0.0398936170212766, 0.05053191489361702, 0.026595744680851064, 0.0199468085106383, 0.027925531914893616, 0.11170212765957446, 0.023936170212765957, 0.02526595744680851, 0.031914893617021274, 0.02127659574468085, 0.023936170212765957, 0.009308510638297872, 0.011968085106382979, 0.007978723404255319, 0.014627659574468085, 0.023936170212765957, 0.005319148936170213, 0.0, 0.010638297872340425, 0.0013297872340425532, 0.010638297872340425, 0.0, 0.0013297872340425532, 0.0026595744680851063, 0.0, 0.0, 0.0, 0.0, 0.0], \"type\": \"bar\", \"uid\": \"769f04e2-2120-4549-ab0f-70bf7202414e\"}, {\"x\": [\"Jammu and Kashmir\", \"Punjab\", \"Tamil Nadu\", \"Assam\", \"Uttar Pradesh\", \"Haryana\", \"Karnataka\", \"NCT of Delhi\", \"West Bengal\", \"Odisha\", \"Kerala\", \"Uttarakhand\", \"Manipur\", \"Bihar\", \"Maharashtra\", \"Gujarat\", \"Jharkhand\", \"Andhra Pradesh\", \"Rajasthan\", \"Himachal Pradesh\", \"Chandigarh\", \"Telangana\", \"Madhya Pradesh\", \"Tripura\", \"Chhattisgarh\", \"Puducherry\", \"Meghalaya\", \"Nagaland\", \"Arunachal Pradesh\", \"Goa\", \"Mizoram\", \"Andaman and Nicobar\", \"Sikkim\", \"Daman and Diu\", \"Dadra and Nagar Haveli\"], \"y\": [0.06291706387035272, 0.14394661582459486, 0.07816968541468065, 0.07149666348903717, 0.05052430886558627, 0.14871306005719734, 0.027645376549094377, 0.04194470924690181, 0.04003813155386082, 0.015252621544327931, 0.014299332697807437, 0.06291706387035272, 0.019065776930409915, 0.030505243088655862, 0.015252621544327931, 0.02478551000953289, 0.02669208770257388, 0.0076263107721639654, 0.017159199237368923, 0.017159199237368923, 0.027645376549094377, 0.011439466158245948, 0.008579599618684462, 0.008579599618684462, 0.010486177311725452, 0.004766444232602479, 0.0038131553860819827, 0.0019065776930409914, 0.0019065776930409914, 0.0038131553860819827, 0.0009532888465204957, 0.0, 0.0, 0.0, 0.0], \"type\": \"bar\", \"uid\": \"e3743b21-d3a4-4c5c-9841-9298de8c766b\"}, {\"x\": [\"Jammu and Kashmir\", \"Punjab\", \"Tamil Nadu\", \"Assam\", \"Uttar Pradesh\", \"Haryana\", \"Karnataka\", \"NCT of Delhi\", \"West Bengal\", \"Odisha\", \"Kerala\", \"Uttarakhand\", \"Manipur\", \"Bihar\", \"Maharashtra\", \"Gujarat\", \"Jharkhand\", \"Andhra Pradesh\", \"Rajasthan\", \"Himachal Pradesh\", \"Chandigarh\", \"Telangana\", \"Madhya Pradesh\", \"Tripura\", \"Chhattisgarh\", \"Puducherry\", \"Meghalaya\", \"Nagaland\", \"Arunachal Pradesh\", \"Goa\", \"Mizoram\", \"Andaman and Nicobar\", \"Sikkim\", \"Daman and Diu\", \"Dadra and Nagar Haveli\"], \"y\": [0.07468879668049792, 0.16459197786998617, 0.07192254495159059, 0.05532503457814661, 0.027662517289073305, 0.022130013831258646, 0.08852005532503458, 0.02351313969571231, 0.04426002766251729, 0.011065006915629323, 0.035961272475795295, 0.10096818810511757, 0.024896265560165973, 0.012448132780082987, 0.03872752420470263, 0.006915629322268326, 0.040110650069156296, 0.02351313969571231, 0.013831258644536652, 0.02351313969571231, 0.02351313969571231, 0.008298755186721992, 0.02627939142461964, 0.0027662517289073307, 0.015214384508990318, 0.0013831258644536654, 0.005532503457814661, 0.0027662517289073307, 0.0013831258644536654, 0.006915629322268326, 0.0013831258644536654, 0.0, 0.0, 0.0, 0.0], \"type\": \"bar\", \"uid\": \"35ff2f9a-9e89-4798-aa7c-3e65fcdc9f2a\"}, {\"x\": [\"Jammu and Kashmir\", \"Punjab\", \"Tamil Nadu\", \"Assam\", \"Uttar Pradesh\", \"Haryana\", \"Karnataka\", \"NCT of Delhi\", \"West Bengal\", \"Odisha\", \"Kerala\", \"Uttarakhand\", \"Manipur\", \"Bihar\", \"Maharashtra\", \"Gujarat\", \"Jharkhand\", \"Andhra Pradesh\", \"Rajasthan\", \"Himachal Pradesh\", \"Chandigarh\", \"Telangana\", \"Madhya Pradesh\", \"Tripura\", \"Chhattisgarh\", \"Puducherry\", \"Meghalaya\", \"Nagaland\", \"Arunachal Pradesh\", \"Goa\", \"Mizoram\", \"Andaman and Nicobar\", \"Sikkim\", \"Daman and Diu\", \"Dadra and Nagar Haveli\"], \"y\": [0.05761843790012804, 0.16261203585147246, 0.08194622279129321, 0.046094750320102434, 0.04225352112676056, 0.05121638924455826, 0.0499359795134443, 0.04481434058898848, 0.16645326504481434, 0.030729833546734954, 0.01792573623559539, 0.014084507042253521, 0.03329065300896287, 0.023047375160051217, 0.014084507042253521, 0.019206145966709345, 0.05505761843790013, 0.011523687580025609, 0.008962868117797696, 0.019206145966709345, 0.016645326504481434, 0.010243277848911651, 0.005121638924455826, 0.002560819462227913, 0.002560819462227913, 0.0, 0.0012804097311139564, 0.002560819462227913, 0.002560819462227913, 0.006402048655569782, 0.0, 0.0, 0.0, 0.0, 0.0], \"type\": \"bar\", \"uid\": \"1bda180d-b7a9-4c30-8479-5c036e4152ca\"}, {\"x\": [\"Jammu and Kashmir\", \"Punjab\", \"Tamil Nadu\", \"Assam\", \"Uttar Pradesh\", \"Haryana\", \"Karnataka\", \"NCT of Delhi\", \"West Bengal\", \"Odisha\", \"Kerala\", \"Uttarakhand\", \"Manipur\", \"Bihar\", \"Maharashtra\", \"Gujarat\", \"Jharkhand\", \"Andhra Pradesh\", \"Rajasthan\", \"Himachal Pradesh\", \"Chandigarh\", \"Telangana\", \"Madhya Pradesh\", \"Tripura\", \"Chhattisgarh\", \"Puducherry\", \"Meghalaya\", \"Nagaland\", \"Arunachal Pradesh\", \"Goa\", \"Mizoram\", \"Andaman and Nicobar\", \"Sikkim\", \"Daman and Diu\", \"Dadra and Nagar Haveli\"], \"y\": [0.07884231536926148, 0.19261477045908185, 0.046906187624750496, 0.038922155688622756, 0.033932135728542916, 0.06686626746506986, 0.027944111776447105, 0.043912175648702596, 0.07285429141716566, 0.023952095808383235, 0.020958083832335328, 0.04890219560878244, 0.05588822355289421, 0.03592814371257485, 0.011976047904191617, 0.013972055888223553, 0.029940119760479042, 0.03493013972055888, 0.020958083832335328, 0.018962075848303395, 0.02594810379241517, 0.015968063872255488, 0.015968063872255488, 0.00499001996007984, 0.006986027944111776, 0.0029940119760479044, 0.001996007984031936, 0.000998003992015968, 0.001996007984031936, 0.0029940119760479044, 0.0, 0.0, 0.0, 0.0, 0.0], \"type\": \"bar\", \"uid\": \"dea8371a-cc97-4f12-9dc0-9c5b6f0e6065\"}, {\"x\": [\"Jammu and Kashmir\", \"Punjab\", \"Tamil Nadu\", \"Assam\", \"Uttar Pradesh\", \"Haryana\", \"Karnataka\", \"NCT of Delhi\", \"West Bengal\", \"Odisha\", \"Kerala\", \"Uttarakhand\", \"Manipur\", \"Bihar\", \"Maharashtra\", \"Gujarat\", \"Jharkhand\", \"Andhra Pradesh\", \"Rajasthan\", \"Himachal Pradesh\", \"Chandigarh\", \"Telangana\", \"Madhya Pradesh\", \"Tripura\", \"Chhattisgarh\", \"Puducherry\", \"Meghalaya\", \"Nagaland\", \"Arunachal Pradesh\", \"Goa\", \"Mizoram\", \"Andaman and Nicobar\", \"Sikkim\", \"Daman and Diu\", \"Dadra and Nagar Haveli\"], \"y\": [0.13097199341021418, 0.214168039538715, 0.04118616144975288, 0.022240527182866558, 0.05354200988467875, 0.09308072487644152, 0.05683690280065898, 0.04118616144975288, 0.012355848434925865, 0.015650741350906095, 0.0214168039538715, 0.06342668863261944, 0.03542009884678748, 0.008237232289950576, 0.015650741350906095, 0.027182866556836903, 0.028830313014827018, 0.016474464579901153, 0.02471169686985173, 0.02800658978583196, 0.009884678747940691, 0.013179571663920923, 0.013179571663920923, 0.002471169686985173, 0.0032948929159802307, 0.002471169686985173, 0.0032948929159802307, 0.0, 0.0008237232289950577, 0.0008237232289950577, 0.0, 0.0, 0.0, 0.0, 0.0], \"type\": \"bar\", \"uid\": \"39c60c29-9f7a-4233-88e9-c4b3c998df21\"}, {\"x\": [\"Jammu and Kashmir\", \"Punjab\", \"Tamil Nadu\", \"Assam\", \"Uttar Pradesh\", \"Haryana\", \"Karnataka\", \"NCT of Delhi\", \"West Bengal\", \"Odisha\", \"Kerala\", \"Uttarakhand\", \"Manipur\", \"Bihar\", \"Maharashtra\", \"Gujarat\", \"Jharkhand\", \"Andhra Pradesh\", \"Rajasthan\", \"Himachal Pradesh\", \"Chandigarh\", \"Telangana\", \"Madhya Pradesh\", \"Tripura\", \"Chhattisgarh\", \"Puducherry\", \"Meghalaya\", \"Nagaland\", \"Arunachal Pradesh\", \"Goa\", \"Mizoram\", \"Andaman and Nicobar\", \"Sikkim\", \"Daman and Diu\", \"Dadra and Nagar Haveli\"], \"y\": [0.2005842259006816, 0.12171372930866602, 0.04771178188899708, 0.03213242453748783, 0.0798442064264849, 0.044790652385589096, 0.06621226874391431, 0.04771178188899708, 0.008763388510223954, 0.029211295034079845, 0.01557935735150925, 0.05939629990262902, 0.01557935735150925, 0.009737098344693282, 0.007789678675754625, 0.10418695228821812, 0.017526777020447908, 0.01557935735150925, 0.01557935735150925, 0.02044790652385589, 0.013631937682570594, 0.005842259006815969, 0.0019474196689386564, 0.010710808179162609, 0.0029211295034079843, 0.0038948393378773127, 0.0, 0.0009737098344693282, 0.0, 0.0, 0.0, 0.0, 0.0, 0.0, 0.0], \"type\": \"bar\", \"uid\": \"0330942b-8600-4696-8761-54a3646b4e18\"}, {\"x\": [\"Jammu and Kashmir\", \"Punjab\", \"Tamil Nadu\", \"Assam\", \"Uttar Pradesh\", \"Haryana\", \"Karnataka\", \"NCT of Delhi\", \"West Bengal\", \"Odisha\", \"Kerala\", \"Uttarakhand\", \"Manipur\", \"Bihar\", \"Maharashtra\", \"Gujarat\", \"Jharkhand\", \"Andhra Pradesh\", \"Rajasthan\", \"Himachal Pradesh\", \"Chandigarh\", \"Telangana\", \"Madhya Pradesh\", \"Tripura\", \"Chhattisgarh\", \"Puducherry\", \"Meghalaya\", \"Nagaland\", \"Arunachal Pradesh\", \"Goa\", \"Mizoram\", \"Andaman and Nicobar\", \"Sikkim\", \"Daman and Diu\", \"Dadra and Nagar Haveli\"], \"y\": [0.2252173913043478, 0.10869565217391304, 0.06608695652173913, 0.0391304347826087, 0.08260869565217391, 0.05565217391304348, 0.04, 0.04, 0.0052173913043478265, 0.03739130434782609, 0.00782608695652174, 0.05304347826086957, 0.05304347826086957, 0.018260869565217393, 0.009565217391304347, 0.03739130434782609, 0.020869565217391306, 0.0026086956521739132, 0.023478260869565216, 0.02, 0.020869565217391306, 0.0026086956521739132, 0.004347826086956522, 0.006956521739130435, 0.00608695652173913, 0.0052173913043478265, 0.0017391304347826088, 0.0026086956521739132, 0.0017391304347826088, 0.0008695652173913044, 0.0008695652173913044, 0.0, 0.0, 0.0, 0.0], \"type\": \"bar\", \"uid\": \"d2f58eeb-2d1f-4398-90fe-7582a5bae57b\"}, {\"x\": [\"Jammu and Kashmir\", \"Punjab\", \"Tamil Nadu\", \"Assam\", \"Uttar Pradesh\", \"Haryana\", \"Karnataka\", \"NCT of Delhi\", \"West Bengal\", \"Odisha\", \"Kerala\", \"Uttarakhand\", \"Manipur\", \"Bihar\", \"Maharashtra\", \"Gujarat\", \"Jharkhand\", \"Andhra Pradesh\", \"Rajasthan\", \"Himachal Pradesh\", \"Chandigarh\", \"Telangana\", \"Madhya Pradesh\", \"Tripura\", \"Chhattisgarh\", \"Puducherry\", \"Meghalaya\", \"Nagaland\", \"Arunachal Pradesh\", \"Goa\", \"Mizoram\", \"Andaman and Nicobar\", \"Sikkim\", \"Daman and Diu\", \"Dadra and Nagar Haveli\"], \"y\": [0.2377332411886662, 0.17899101589495509, 0.04284727021423635, 0.042156185210780926, 0.0635798203178991, 0.046993780234968904, 0.06219765031098825, 0.04630269523151347, 0.013130615065653075, 0.020041465100207326, 0.008984105044920525, 0.04008293020041465, 0.019350380096751902, 0.013130615065653075, 0.013130615065653075, 0.019350380096751902, 0.020041465100207326, 0.0048375950241879755, 0.026952315134761574, 0.019350380096751902, 0.022805805114029024, 0.00138217000691085, 0.00414651002073255, 0.006910850034554251, 0.009675190048375951, 0.006219765031098825, 0.00414651002073255, 0.000691085003455425, 0.00138217000691085, 0.002073255010366275, 0.000691085003455425, 0.0, 0.000691085003455425, 0.0, 0.0], \"type\": \"bar\", \"uid\": \"ed71bca9-0bd3-40ad-9e16-325ba123c78c\"}, {\"x\": [\"Jammu and Kashmir\", \"Punjab\", \"Tamil Nadu\", \"Assam\", \"Uttar Pradesh\", \"Haryana\", \"Karnataka\", \"NCT of Delhi\", \"West Bengal\", \"Odisha\", \"Kerala\", \"Uttarakhand\", \"Manipur\", \"Bihar\", \"Maharashtra\", \"Gujarat\", \"Jharkhand\", \"Andhra Pradesh\", \"Rajasthan\", \"Himachal Pradesh\", \"Chandigarh\", \"Telangana\", \"Madhya Pradesh\", \"Tripura\", \"Chhattisgarh\", \"Puducherry\", \"Meghalaya\", \"Nagaland\", \"Arunachal Pradesh\", \"Goa\", \"Mizoram\", \"Andaman and Nicobar\", \"Sikkim\", \"Daman and Diu\", \"Dadra and Nagar Haveli\"], \"y\": [0.2331055429005315, 0.14654517843583903, 0.04555808656036447, 0.018982536066818528, 0.04935459377372817, 0.06150341685649203, 0.02050113895216401, 0.058466211085801065, 0.019741837509491267, 0.02050113895216401, 0.0425208807896735, 0.0774487471526196, 0.03492786636294609, 0.010630220197418374, 0.02885345482156416, 0.0387243735763098, 0.022779043280182234, 0.0, 0.015945330296127564, 0.01366742596810934, 0.010630220197418374, 0.006074411541381929, 0.002277904328018223, 0.0030372057706909645, 0.005315110098709187, 0.004555808656036446, 0.0037965072133637054, 0.0015186028853454822, 0.0, 0.002277904328018223, 0.0007593014426727411, 0.0, 0.0, 0.0, 0.0], \"type\": \"bar\", \"uid\": \"65696b82-d0fa-4397-b08f-755c538cbf72\"}, {\"x\": [\"Jammu and Kashmir\", \"Punjab\", \"Tamil Nadu\", \"Assam\", \"Uttar Pradesh\", \"Haryana\", \"Karnataka\", \"NCT of Delhi\", \"West Bengal\", \"Odisha\", \"Kerala\", \"Uttarakhand\", \"Manipur\", \"Bihar\", \"Maharashtra\", \"Gujarat\", \"Jharkhand\", \"Andhra Pradesh\", \"Rajasthan\", \"Himachal Pradesh\", \"Chandigarh\", \"Telangana\", \"Madhya Pradesh\", \"Tripura\", \"Chhattisgarh\", \"Puducherry\", \"Meghalaya\", \"Nagaland\", \"Arunachal Pradesh\", \"Goa\", \"Mizoram\", \"Andaman and Nicobar\", \"Sikkim\", \"Daman and Diu\", \"Dadra and Nagar Haveli\"], \"y\": [0.16919575113808802, 0.20409711684370258, 0.038694992412746584, 0.0409711684370258, 0.061456752655538696, 0.03793626707132018, 0.0409711684370258, 0.04704097116843703, 0.02276176024279211, 0.014415781487101669, 0.02276176024279211, 0.05083459787556904, 0.044764795144157814, 0.02503793626707132, 0.010622154779969651, 0.051593323216995446, 0.03414264036418816, 0.0037936267071320183, 0.012898330804248861, 0.013657056145675266, 0.006828528072837633, 0.005311077389984826, 0.007587253414264037, 0.0030349013657056147, 0.012898330804248861, 0.004552352048558422, 0.004552352048558422, 0.0015174506828528073, 0.0015174506828528073, 0.004552352048558422, 0.0, 0.0, 0.0, 0.0, 0.0], \"type\": \"bar\", \"uid\": \"64ea1708-dc8e-42e0-8c72-8718f2a70202\"}, {\"x\": [\"Jammu and Kashmir\", \"Punjab\", \"Tamil Nadu\", \"Assam\", \"Uttar Pradesh\", \"Haryana\", \"Karnataka\", \"NCT of Delhi\", \"West Bengal\", \"Odisha\", \"Kerala\", \"Uttarakhand\", \"Manipur\", \"Bihar\", \"Maharashtra\", \"Gujarat\", \"Jharkhand\", \"Andhra Pradesh\", \"Rajasthan\", \"Himachal Pradesh\", \"Chandigarh\", \"Telangana\", \"Madhya Pradesh\", \"Tripura\", \"Chhattisgarh\", \"Puducherry\", \"Meghalaya\", \"Nagaland\", \"Arunachal Pradesh\", \"Goa\", \"Mizoram\", \"Andaman and Nicobar\", \"Sikkim\", \"Daman and Diu\", \"Dadra and Nagar Haveli\"], \"y\": [0.14760914760914762, 0.20374220374220375, 0.058212058212058215, 0.028066528066528068, 0.0841995841995842, 0.04158004158004158, 0.02494802494802495, 0.057172557172557176, 0.028066528066528068, 0.010395010395010396, 0.02598752598752599, 0.06652806652806653, 0.04781704781704782, 0.009355509355509356, 0.017671517671517672, 0.031185031185031187, 0.028066528066528068, 0.010395010395010396, 0.02494802494802495, 0.007276507276507277, 0.004158004158004158, 0.004158004158004158, 0.005197505197505198, 0.006237006237006237, 0.007276507276507277, 0.0010395010395010396, 0.002079002079002079, 0.007276507276507277, 0.005197505197505198, 0.004158004158004158, 0.0, 0.0, 0.0, 0.0, 0.0], \"type\": \"bar\", \"uid\": \"8f6015a8-cdb2-49a7-ae50-477222b58392\"}, {\"x\": [\"Jammu and Kashmir\", \"Punjab\", \"Tamil Nadu\", \"Assam\", \"Uttar Pradesh\", \"Haryana\", \"Karnataka\", \"NCT of Delhi\", \"West Bengal\", \"Odisha\", \"Kerala\", \"Uttarakhand\", \"Manipur\", \"Bihar\", \"Maharashtra\", \"Gujarat\", \"Jharkhand\", \"Andhra Pradesh\", \"Rajasthan\", \"Himachal Pradesh\", \"Chandigarh\", \"Telangana\", \"Madhya Pradesh\", \"Tripura\", \"Chhattisgarh\", \"Puducherry\", \"Meghalaya\", \"Nagaland\", \"Arunachal Pradesh\", \"Goa\", \"Mizoram\", \"Andaman and Nicobar\", \"Sikkim\", \"Daman and Diu\", \"Dadra and Nagar Haveli\"], \"y\": [0.09801031687546058, 0.09948415622697127, 0.19749447310243184, 0.039056742815033164, 0.05747973470891673, 0.05821665438467207, 0.017686072218128224, 0.045689019896831246, 0.04200442151805453, 0.0058953574060427415, 0.032424465733235076, 0.022844509948415623, 0.025792188651436992, 0.017686072218128224, 0.03610906411201179, 0.026529108327192335, 0.01694915254237288, 0.012527634487840826, 0.023581429624170966, 0.006632277081798084, 0.021370670596904937, 0.006632277081798084, 0.04642593957258659, 0.006632277081798084, 0.008106116433308769, 0.012527634487840826, 0.0036845983787767134, 0.0058953574060427415, 0.0036845983787767134, 0.0014738393515106854, 0.0, 0.0014738393515106854, 0.0, 0.0, 0.0], \"type\": \"bar\", \"uid\": \"1b4eda2a-d81d-47a7-b74e-43f18983f93d\"}, {\"x\": [\"Jammu and Kashmir\", \"Punjab\", \"Tamil Nadu\", \"Assam\", \"Uttar Pradesh\", \"Haryana\", \"Karnataka\", \"NCT of Delhi\", \"West Bengal\", \"Odisha\", \"Kerala\", \"Uttarakhand\", \"Manipur\", \"Bihar\", \"Maharashtra\", \"Gujarat\", \"Jharkhand\", \"Andhra Pradesh\", \"Rajasthan\", \"Himachal Pradesh\", \"Chandigarh\", \"Telangana\", \"Madhya Pradesh\", \"Tripura\", \"Chhattisgarh\", \"Puducherry\", \"Meghalaya\", \"Nagaland\", \"Arunachal Pradesh\", \"Goa\", \"Mizoram\", \"Andaman and Nicobar\", \"Sikkim\", \"Daman and Diu\", \"Dadra and Nagar Haveli\"], \"y\": [0.1276595744680851, 0.16, 0.10212765957446808, 0.04085106382978723, 0.06042553191489362, 0.0748936170212766, 0.033191489361702124, 0.06723404255319149, 0.017872340425531916, 0.026382978723404255, 0.020425531914893616, 0.00851063829787234, 0.03489361702127659, 0.029787234042553193, 0.020425531914893616, 0.03404255319148936, 0.01446808510638298, 0.011914893617021277, 0.02723404255319149, 0.016170212765957447, 0.011063829787234043, 0.009361702127659575, 0.00851063829787234, 0.005957446808510639, 0.01702127659574468, 0.007659574468085106, 0.000851063829787234, 0.006808510638297872, 0.001702127659574468, 0.000851063829787234, 0.001702127659574468, 0.0, 0.0, 0.0, 0.0], \"type\": \"bar\", \"uid\": \"f09380a0-13f8-4fa8-8d96-0c3f80342724\"}, {\"x\": [\"Jammu and Kashmir\", \"Punjab\", \"Tamil Nadu\", \"Assam\", \"Uttar Pradesh\", \"Haryana\", \"Karnataka\", \"NCT of Delhi\", \"West Bengal\", \"Odisha\", \"Kerala\", \"Uttarakhand\", \"Manipur\", \"Bihar\", \"Maharashtra\", \"Gujarat\", \"Jharkhand\", \"Andhra Pradesh\", \"Rajasthan\", \"Himachal Pradesh\", \"Chandigarh\", \"Telangana\", \"Madhya Pradesh\", \"Tripura\", \"Chhattisgarh\", \"Puducherry\", \"Meghalaya\", \"Nagaland\", \"Arunachal Pradesh\", \"Goa\", \"Mizoram\", \"Andaman and Nicobar\", \"Sikkim\", \"Daman and Diu\", \"Dadra and Nagar Haveli\"], \"y\": [0.1363973313565604, 0.11415863602668644, 0.17272053372868792, 0.05856189770200148, 0.05856189770200148, 0.05559673832468495, 0.042994810971089696, 0.031134173461823574, 0.018532246108228317, 0.008895478131949592, 0.028910303928836176, 0.03039288361749444, 0.028169014084507043, 0.018532246108228317, 0.02001482579688658, 0.03261675315048184, 0.011860637509266123, 0.01927353595255745, 0.025203854707190512, 0.014084507042253521, 0.014084507042253521, 0.014825796886582653, 0.005189028910303929, 0.014084507042253521, 0.007412898443291327, 0.009636767976278725, 0.0029651593773165306, 0.002223869532987398, 0.0, 0.0029651593773165306, 0.0, 0.0, 0.0, 0.0, 0.0], \"type\": \"bar\", \"uid\": \"98209ee5-3bef-41b0-bb44-f8445b2db207\"}, {\"x\": [\"Jammu and Kashmir\", \"Punjab\", \"Tamil Nadu\", \"Assam\", \"Uttar Pradesh\", \"Haryana\", \"Karnataka\", \"NCT of Delhi\", \"West Bengal\", \"Odisha\", \"Kerala\", \"Uttarakhand\", \"Manipur\", \"Bihar\", \"Maharashtra\", \"Gujarat\", \"Jharkhand\", \"Andhra Pradesh\", \"Rajasthan\", \"Himachal Pradesh\", \"Chandigarh\", \"Telangana\", \"Madhya Pradesh\", \"Tripura\", \"Chhattisgarh\", \"Puducherry\", \"Meghalaya\", \"Nagaland\", \"Arunachal Pradesh\", \"Goa\", \"Mizoram\", \"Andaman and Nicobar\", \"Sikkim\", \"Daman and Diu\", \"Dadra and Nagar Haveli\"], \"y\": [0.16129032258064516, 0.12981904012588513, 0.12431156569630213, 0.024390243902439025, 0.11408339889850512, 0.06372934697088907, 0.014162077104642014, 0.01888276947285602, 0.03540519276160504, 0.010228166797797011, 0.015735641227380016, 0.044059795436664044, 0.016522423288749016, 0.01966955153422502, 0.007867820613690008, 0.01888276947285602, 0.025177025963808025, 0.011801730920535013, 0.03225806451612903, 0.03461841070023604, 0.021243115656963022, 0.024390243902439025, 0.010228166797797011, 0.003933910306845004, 0.003933910306845004, 0.004720692368214005, 0.004720692368214005, 0.0, 0.0015735641227380016, 0.0, 0.0007867820613690008, 0.0007867820613690008, 0.0, 0.0007867820613690008, 0.0], \"type\": \"bar\", \"uid\": \"547d1ce8-7817-45c3-98b2-4e746a089cd4\"}, {\"x\": [\"Jammu and Kashmir\", \"Punjab\", \"Tamil Nadu\", \"Assam\", \"Uttar Pradesh\", \"Haryana\", \"Karnataka\", \"NCT of Delhi\", \"West Bengal\", \"Odisha\", \"Kerala\", \"Uttarakhand\", \"Manipur\", \"Bihar\", \"Maharashtra\", \"Gujarat\", \"Jharkhand\", \"Andhra Pradesh\", \"Rajasthan\", \"Himachal Pradesh\", \"Chandigarh\", \"Telangana\", \"Madhya Pradesh\", \"Tripura\", \"Chhattisgarh\", \"Puducherry\", \"Meghalaya\", \"Nagaland\", \"Arunachal Pradesh\", \"Goa\", \"Mizoram\", \"Andaman and Nicobar\", \"Sikkim\", \"Daman and Diu\", \"Dadra and Nagar Haveli\"], \"y\": [0.25165562913907286, 0.12298959318826869, 0.07757805108798486, 0.036896877956480605, 0.07757805108798486, 0.07095553453169347, 0.021759697256385997, 0.019867549668874173, 0.023651844843897825, 0.014191106906338695, 0.03216650898770104, 0.014191106906338695, 0.021759697256385997, 0.017975402081362345, 0.011352885525070956, 0.017975402081362345, 0.020813623462630087, 0.01608325449385052, 0.020813623462630087, 0.03122043519394513, 0.017975402081362345, 0.019867549668874173, 0.005676442762535478, 0.00946073793755913, 0.007568590350047304, 0.00946073793755913, 0.003784295175023652, 0.0, 0.0, 0.003784295175023652, 0.0, 0.0, 0.0, 0.0, 0.000946073793755913], \"type\": \"bar\", \"uid\": \"9d27c0b8-d88d-4406-9874-d63e5c450121\"}, {\"x\": [\"Jammu and Kashmir\", \"Punjab\", \"Tamil Nadu\", \"Assam\", \"Uttar Pradesh\", \"Haryana\", \"Karnataka\", \"NCT of Delhi\", \"West Bengal\", \"Odisha\", \"Kerala\", \"Uttarakhand\", \"Manipur\", \"Bihar\", \"Maharashtra\", \"Gujarat\", \"Jharkhand\", \"Andhra Pradesh\", \"Rajasthan\", \"Himachal Pradesh\", \"Chandigarh\", \"Telangana\", \"Madhya Pradesh\", \"Tripura\", \"Chhattisgarh\", \"Puducherry\", \"Meghalaya\", \"Nagaland\", \"Arunachal Pradesh\", \"Goa\", \"Mizoram\", \"Andaman and Nicobar\", \"Sikkim\", \"Daman and Diu\", \"Dadra and Nagar Haveli\"], \"y\": [0.20826306913996628, 0.13069139966273188, 0.06239460370994941, 0.03456998313659359, 0.0699831365935919, 0.0657672849915683, 0.03288364249578415, 0.016863406408094434, 0.04300168634064081, 0.07082630691399663, 0.01433389544688027, 0.024451939291736932, 0.006745362563237774, 0.0193929173693086, 0.013490725126475547, 0.03794266441821248, 0.01011804384485666, 0.01517706576728499, 0.025295109612141653, 0.010961214165261383, 0.01011804384485666, 0.006745362563237774, 0.022765598650927487, 0.006745362563237774, 0.023608768971332208, 0.005902192242833052, 0.006745362563237774, 0.0008431703204047217, 0.0016863406408094434, 0.0008431703204047217, 0.0008431703204047217, 0.0, 0.0, 0.0, 0.0], \"type\": \"bar\", \"uid\": \"284fe400-ce91-4b01-bed2-0a4312ada2ee\"}, {\"x\": [\"Jammu and Kashmir\", \"Punjab\", \"Tamil Nadu\", \"Assam\", \"Uttar Pradesh\", \"Haryana\", \"Karnataka\", \"NCT of Delhi\", \"West Bengal\", \"Odisha\", \"Kerala\", \"Uttarakhand\", \"Manipur\", \"Bihar\", \"Maharashtra\", \"Gujarat\", \"Jharkhand\", \"Andhra Pradesh\", \"Rajasthan\", \"Himachal Pradesh\", \"Chandigarh\", \"Telangana\", \"Madhya Pradesh\", \"Tripura\", \"Chhattisgarh\", \"Puducherry\", \"Meghalaya\", \"Nagaland\", \"Arunachal Pradesh\", \"Goa\", \"Mizoram\", \"Andaman and Nicobar\", \"Sikkim\", \"Daman and Diu\", \"Dadra and Nagar Haveli\"], \"y\": [0.17509727626459143, 0.1293774319066148, 0.04182879377431906, 0.07295719844357977, 0.10116731517509728, 0.04571984435797665, 0.04474708171206226, 0.042801556420233464, 0.06031128404669261, 0.0048638132295719845, 0.02821011673151751, 0.011673151750972763, 0.02529182879377432, 0.02821011673151751, 0.007782101167315175, 0.029182879377431907, 0.010700389105058366, 0.01848249027237354, 0.024319066147859923, 0.04961089494163424, 0.007782101167315175, 0.011673151750972763, 0.005836575875486381, 0.006809338521400778, 0.0, 0.0048638132295719845, 0.0048638132295719845, 0.0048638132295719845, 0.0009727626459143969, 0.0, 0.0, 0.0, 0.0, 0.0, 0.0], \"type\": \"bar\", \"uid\": \"a3d1433d-4d4d-48bf-945f-81bad96bfbbe\"}, {\"x\": [\"Jammu and Kashmir\", \"Punjab\", \"Tamil Nadu\", \"Assam\", \"Uttar Pradesh\", \"Haryana\", \"Karnataka\", \"NCT of Delhi\", \"West Bengal\", \"Odisha\", \"Kerala\", \"Uttarakhand\", \"Manipur\", \"Bihar\", \"Maharashtra\", \"Gujarat\", \"Jharkhand\", \"Andhra Pradesh\", \"Rajasthan\", \"Himachal Pradesh\", \"Chandigarh\", \"Telangana\", \"Madhya Pradesh\", \"Tripura\", \"Chhattisgarh\", \"Puducherry\", \"Meghalaya\", \"Nagaland\", \"Arunachal Pradesh\", \"Goa\", \"Mizoram\", \"Andaman and Nicobar\", \"Sikkim\", \"Daman and Diu\", \"Dadra and Nagar Haveli\"], \"y\": [0.1342685370741483, 0.1342685370741483, 0.06012024048096192, 0.14729458917835672, 0.0781563126252505, 0.04308617234468938, 0.056112224448897796, 0.026052104208416832, 0.02004008016032064, 0.05811623246492986, 0.026052104208416832, 0.01002004008016032, 0.027054108216432865, 0.017034068136272545, 0.018036072144288578, 0.003006012024048096, 0.00501002004008016, 0.014028056112224449, 0.0070140280561122245, 0.04208416833667335, 0.021042084168336674, 0.01603206412825651, 0.004008016032064128, 0.0070140280561122245, 0.002004008016032064, 0.01002004008016032, 0.009018036072144289, 0.002004008016032064, 0.0, 0.0, 0.002004008016032064, 0.0, 0.0, 0.0, 0.0], \"type\": \"bar\", \"uid\": \"de5aab10-6da5-48c6-ab44-1336b83af774\"}, {\"x\": [\"Jammu and Kashmir\", \"Punjab\", \"Tamil Nadu\", \"Assam\", \"Uttar Pradesh\", \"Haryana\", \"Karnataka\", \"NCT of Delhi\", \"West Bengal\", \"Odisha\", \"Kerala\", \"Uttarakhand\", \"Manipur\", \"Bihar\", \"Maharashtra\", \"Gujarat\", \"Jharkhand\", \"Andhra Pradesh\", \"Rajasthan\", \"Himachal Pradesh\", \"Chandigarh\", \"Telangana\", \"Madhya Pradesh\", \"Tripura\", \"Chhattisgarh\", \"Puducherry\", \"Meghalaya\", \"Nagaland\", \"Arunachal Pradesh\", \"Goa\", \"Mizoram\", \"Andaman and Nicobar\", \"Sikkim\", \"Daman and Diu\", \"Dadra and Nagar Haveli\"], \"y\": [0.16390041493775934, 0.08921161825726141, 0.11203319502074689, 0.12655601659751037, 0.06327800829875518, 0.03319502074688797, 0.0487551867219917, 0.02074688796680498, 0.02074688796680498, 0.046680497925311204, 0.02074688796680498, 0.024896265560165973, 0.03319502074688797, 0.01867219917012448, 0.011410788381742738, 0.004149377593360996, 0.017634854771784232, 0.023858921161825725, 0.01867219917012448, 0.016597510373443983, 0.007261410788381743, 0.012448132780082987, 0.007261410788381743, 0.016597510373443983, 0.01037344398340249, 0.014522821576763486, 0.006224066390041493, 0.002074688796680498, 0.004149377593360996, 0.002074688796680498, 0.001037344398340249, 0.001037344398340249, 0.0, 0.0, 0.0], \"type\": \"bar\", \"uid\": \"44dad925-3603-45a7-8afc-96ffd4d465db\"}, {\"x\": [\"Jammu and Kashmir\", \"Punjab\", \"Tamil Nadu\", \"Assam\", \"Uttar Pradesh\", \"Haryana\", \"Karnataka\", \"NCT of Delhi\", \"West Bengal\", \"Odisha\", \"Kerala\", \"Uttarakhand\", \"Manipur\", \"Bihar\", \"Maharashtra\", \"Gujarat\", \"Jharkhand\", \"Andhra Pradesh\", \"Rajasthan\", \"Himachal Pradesh\", \"Chandigarh\", \"Telangana\", \"Madhya Pradesh\", \"Tripura\", \"Chhattisgarh\", \"Puducherry\", \"Meghalaya\", \"Nagaland\", \"Arunachal Pradesh\", \"Goa\", \"Mizoram\", \"Andaman and Nicobar\", \"Sikkim\", \"Daman and Diu\", \"Dadra and Nagar Haveli\"], \"y\": [0.27236315086782376, 0.08678237650200267, 0.044058744993324434, 0.09746328437917223, 0.029372496662216287, 0.01602136181575434, 0.04005340453938585, 0.009345794392523364, 0.03204272363150868, 0.0026702269692923898, 0.05740987983978638, 0.00801068090787717, 0.014686248331108143, 0.07209612817089453, 0.044058744993324434, 0.00801068090787717, 0.04138851802403204, 0.02403204272363151, 0.018691588785046728, 0.0026702269692923898, 0.006675567423230975, 0.017356475300400534, 0.03471295060080107, 0.004005340453938585, 0.0026702269692923898, 0.006675567423230975, 0.0013351134846461949, 0.0026702269692923898, 0.0013351134846461949, 0.0013351134846461949, 0.0, 0.0, 0.0, 0.0, 0.0], \"type\": \"bar\", \"uid\": \"01daedb7-109c-43a5-a87a-e05376167ef3\"}, {\"x\": [\"Jammu and Kashmir\", \"Punjab\", \"Tamil Nadu\", \"Assam\", \"Uttar Pradesh\", \"Haryana\", \"Karnataka\", \"NCT of Delhi\", \"West Bengal\", \"Odisha\", \"Kerala\", \"Uttarakhand\", \"Manipur\", \"Bihar\", \"Maharashtra\", \"Gujarat\", \"Jharkhand\", \"Andhra Pradesh\", \"Rajasthan\", \"Himachal Pradesh\", \"Chandigarh\", \"Telangana\", \"Madhya Pradesh\", \"Tripura\", \"Chhattisgarh\", \"Puducherry\", \"Meghalaya\", \"Nagaland\", \"Arunachal Pradesh\", \"Goa\", \"Mizoram\", \"Andaman and Nicobar\", \"Sikkim\", \"Daman and Diu\", \"Dadra and Nagar Haveli\"], \"y\": [0.17427385892116182, 0.07053941908713693, 0.07468879668049792, 0.14661134163208853, 0.04564315352697095, 0.029045643153526972, 0.05255878284923928, 0.008298755186721992, 0.04702627939142462, 0.015214384508990318, 0.051175656984785614, 0.005532503457814661, 0.02074688796680498, 0.017980636237897647, 0.035961272475795295, 0.013831258644536652, 0.05532503457814661, 0.022130013831258646, 0.015214384508990318, 0.011065006915629323, 0.013831258644536652, 0.005532503457814661, 0.008298755186721992, 0.02627939142461964, 0.0027662517289073307, 0.016597510373443983, 0.005532503457814661, 0.0, 0.0013831258644536654, 0.004149377593360996, 0.0013831258644536654, 0.0, 0.0, 0.0013831258644536654, 0.0], \"type\": \"bar\", \"uid\": \"fe2e1e50-9cbb-459c-82d0-e773856bdebe\"}, {\"x\": [\"Jammu and Kashmir\", \"Punjab\", \"Tamil Nadu\", \"Assam\", \"Uttar Pradesh\", \"Haryana\", \"Karnataka\", \"NCT of Delhi\", \"West Bengal\", \"Odisha\", \"Kerala\", \"Uttarakhand\", \"Manipur\", \"Bihar\", \"Maharashtra\", \"Gujarat\", \"Jharkhand\", \"Andhra Pradesh\", \"Rajasthan\", \"Himachal Pradesh\", \"Chandigarh\", \"Telangana\", \"Madhya Pradesh\", \"Tripura\", \"Chhattisgarh\", \"Puducherry\", \"Meghalaya\", \"Nagaland\", \"Arunachal Pradesh\", \"Goa\", \"Mizoram\", \"Andaman and Nicobar\", \"Sikkim\", \"Daman and Diu\", \"Dadra and Nagar Haveli\"], \"y\": [0.16952380952380952, 0.16095238095238096, 0.054285714285714284, 0.05523809523809524, 0.05333333333333334, 0.054285714285714284, 0.06857142857142857, 0.04857142857142857, 0.01619047619047619, 0.007619047619047619, 0.04380952380952381, 0.017142857142857144, 0.012380952380952381, 0.04666666666666667, 0.01904761904761905, 0.011428571428571429, 0.0380952380952381, 0.013333333333333334, 0.025714285714285714, 0.01904761904761905, 0.009523809523809525, 0.01619047619047619, 0.006666666666666667, 0.013333333333333334, 0.0038095238095238095, 0.008571428571428572, 0.0, 0.0009523809523809524, 0.002857142857142857, 0.002857142857142857, 0.0, 0.0, 0.0, 0.0, 0.0], \"type\": \"bar\", \"uid\": \"f3149833-02bf-4891-8352-53ffc137fc42\"}, {\"x\": [\"Jammu and Kashmir\", \"Punjab\", \"Tamil Nadu\", \"Assam\", \"Uttar Pradesh\", \"Haryana\", \"Karnataka\", \"NCT of Delhi\", \"West Bengal\", \"Odisha\", \"Kerala\", \"Uttarakhand\", \"Manipur\", \"Bihar\", \"Maharashtra\", \"Gujarat\", \"Jharkhand\", \"Andhra Pradesh\", \"Rajasthan\", \"Himachal Pradesh\", \"Chandigarh\", \"Telangana\", \"Madhya Pradesh\", \"Tripura\", \"Chhattisgarh\", \"Puducherry\", \"Meghalaya\", \"Nagaland\", \"Arunachal Pradesh\", \"Goa\", \"Mizoram\", \"Andaman and Nicobar\", \"Sikkim\", \"Daman and Diu\", \"Dadra and Nagar Haveli\"], \"y\": [0.20530367835757057, 0.174508126603935, 0.12660393498716851, 0.01710863986313088, 0.06244653550042772, 0.05218135158254919, 0.032506415739948676, 0.032506415739948676, 0.0213857998289136, 0.009409751924721984, 0.0290846877673225, 0.020530367835757058, 0.003421727972626176, 0.016253207869974338, 0.059880239520958084, 0.026518391787852865, 0.0051325919589392645, 0.016253207869974338, 0.022241231822070145, 0.00855431993156544, 0.01710863986313088, 0.007698887938408896, 0.00855431993156544, 0.006843455945252352, 0.00855431993156544, 0.0051325919589392645, 0.000855431993156544, 0.0, 0.000855431993156544, 0.001710863986313088, 0.0, 0.000855431993156544, 0.0, 0.0, 0.0], \"type\": \"bar\", \"uid\": \"6cfb8105-ca1c-4b2a-bbc4-2c711bb26b88\"}, {\"x\": [\"Jammu and Kashmir\", \"Punjab\", \"Tamil Nadu\", \"Assam\", \"Uttar Pradesh\", \"Haryana\", \"Karnataka\", \"NCT of Delhi\", \"West Bengal\", \"Odisha\", \"Kerala\", \"Uttarakhand\", \"Manipur\", \"Bihar\", \"Maharashtra\", \"Gujarat\", \"Jharkhand\", \"Andhra Pradesh\", \"Rajasthan\", \"Himachal Pradesh\", \"Chandigarh\", \"Telangana\", \"Madhya Pradesh\", \"Tripura\", \"Chhattisgarh\", \"Puducherry\", \"Meghalaya\", \"Nagaland\", \"Arunachal Pradesh\", \"Goa\", \"Mizoram\", \"Andaman and Nicobar\", \"Sikkim\", \"Daman and Diu\", \"Dadra and Nagar Haveli\"], \"y\": [0.1806020066889632, 0.1716833890746934, 0.07246376811594203, 0.0189520624303233, 0.030100334448160536, 0.06577480490523968, 0.026755852842809364, 0.06020066889632107, 0.017837235228539576, 0.023411371237458192, 0.033444816053511704, 0.01560758082497213, 0.013377926421404682, 0.014492753623188406, 0.03121516164994426, 0.008918617614269788, 0.010033444816053512, 0.06800445930880714, 0.017837235228539576, 0.022296544035674472, 0.010033444816053512, 0.006688963210702341, 0.005574136008918618, 0.026755852842809364, 0.017837235228539576, 0.0033444816053511705, 0.010033444816053512, 0.013377926421404682, 0.0011148272017837235, 0.002229654403567447, 0.0, 0.0, 0.0, 0.0, 0.0], \"type\": \"bar\", \"uid\": \"de33a184-03e0-4c61-8974-0ec8f882d454\"}, {\"x\": [\"Jammu and Kashmir\", \"Punjab\", \"Tamil Nadu\", \"Assam\", \"Uttar Pradesh\", \"Haryana\", \"Karnataka\", \"NCT of Delhi\", \"West Bengal\", \"Odisha\", \"Kerala\", \"Uttarakhand\", \"Manipur\", \"Bihar\", \"Maharashtra\", \"Gujarat\", \"Jharkhand\", \"Andhra Pradesh\", \"Rajasthan\", \"Himachal Pradesh\", \"Chandigarh\", \"Telangana\", \"Madhya Pradesh\", \"Tripura\", \"Chhattisgarh\", \"Puducherry\", \"Meghalaya\", \"Nagaland\", \"Arunachal Pradesh\", \"Goa\", \"Mizoram\", \"Andaman and Nicobar\", \"Sikkim\", \"Daman and Diu\", \"Dadra and Nagar Haveli\"], \"y\": [0.22536496350364962, 0.14324817518248176, 0.16149635036496351, 0.03923357664233577, 0.037408759124087594, 0.03467153284671533, 0.017335766423357664, 0.06113138686131387, 0.028284671532846715, 0.02737226277372263, 0.020985401459854013, 0.014598540145985401, 0.008211678832116789, 0.028284671532846715, 0.025547445255474453, 0.010036496350364963, 0.002737226277372263, 0.040145985401459854, 0.010036496350364963, 0.009124087591240875, 0.017335766423357664, 0.008211678832116789, 0.004562043795620438, 0.006386861313868613, 0.011861313868613138, 0.0018248175182481751, 0.0, 0.0, 0.0, 0.0018248175182481751, 0.002737226277372263, 0.0, 0.0, 0.0, 0.0], \"type\": \"bar\", \"uid\": \"faaecb38-520a-4ea1-ae8e-276e726567d6\"}, {\"x\": [\"Jammu and Kashmir\", \"Punjab\", \"Tamil Nadu\", \"Assam\", \"Uttar Pradesh\", \"Haryana\", \"Karnataka\", \"NCT of Delhi\", \"West Bengal\", \"Odisha\", \"Kerala\", \"Uttarakhand\", \"Manipur\", \"Bihar\", \"Maharashtra\", \"Gujarat\", \"Jharkhand\", \"Andhra Pradesh\", \"Rajasthan\", \"Himachal Pradesh\", \"Chandigarh\", \"Telangana\", \"Madhya Pradesh\", \"Tripura\", \"Chhattisgarh\", \"Puducherry\", \"Meghalaya\", \"Nagaland\", \"Arunachal Pradesh\", \"Goa\", \"Mizoram\", \"Andaman and Nicobar\", \"Sikkim\", \"Daman and Diu\", \"Dadra and Nagar Haveli\"], \"y\": [0.21641337386018236, 0.12279635258358662, 0.1513677811550152, 0.02857142857142857, 0.04012158054711246, 0.031610942249240125, 0.015197568389057751, 0.02066869300911854, 0.060790273556231005, 0.015197568389057751, 0.03951367781155015, 0.01641337386018237, 0.013373860182370821, 0.03708206686930091, 0.015805471124620062, 0.029787234042553193, 0.02857142857142857, 0.03343465045592705, 0.01641337386018237, 0.00851063829787234, 0.015197568389057751, 0.0060790273556231, 0.01094224924012158, 0.00364741641337386, 0.006686930091185411, 0.00851063829787234, 0.0012158054711246201, 0.0, 0.00182370820668693, 0.0024316109422492403, 0.0012158054711246201, 0.0, 0.0006079027355623101, 0.0, 0.0], \"type\": \"bar\", \"uid\": \"6dc45b3f-7fd6-4210-a4c0-569214760a1d\"}, {\"x\": [\"Jammu and Kashmir\", \"Punjab\", \"Tamil Nadu\", \"Assam\", \"Uttar Pradesh\", \"Haryana\", \"Karnataka\", \"NCT of Delhi\", \"West Bengal\", \"Odisha\", \"Kerala\", \"Uttarakhand\", \"Manipur\", \"Bihar\", \"Maharashtra\", \"Gujarat\", \"Jharkhand\", \"Andhra Pradesh\", \"Rajasthan\", \"Himachal Pradesh\", \"Chandigarh\", \"Telangana\", \"Madhya Pradesh\", \"Tripura\", \"Chhattisgarh\", \"Puducherry\", \"Meghalaya\", \"Nagaland\", \"Arunachal Pradesh\", \"Goa\", \"Mizoram\", \"Andaman and Nicobar\", \"Sikkim\", \"Daman and Diu\", \"Dadra and Nagar Haveli\"], \"y\": [0.19719407638347622, 0.10989867498051442, 0.12081060015588464, 0.09197194076383476, 0.026500389711613406, 0.04520654715510522, 0.042868277474668745, 0.021823850350740453, 0.0779423226812159, 0.025720966484801246, 0.01636788776305534, 0.005455962587685113, 0.014809041309431021, 0.017926734216679657, 0.01636788776305534, 0.0171473109898675, 0.011691348402182385, 0.027279812938425563, 0.014029618082618862, 0.029618082618862042, 0.013250194855806703, 0.00857365549493375, 0.007014809041309431, 0.011691348402182385, 0.00857365549493375, 0.005455962587685113, 0.006235385814497272, 0.000779423226812159, 0.003897116134060795, 0.003117692907248636, 0.000779423226812159, 0.0, 0.0, 0.0, 0.0], \"type\": \"bar\", \"uid\": \"17fbd762-e707-4c8d-8071-b850e2803a22\"}, {\"x\": [\"Jammu and Kashmir\", \"Punjab\", \"Tamil Nadu\", \"Assam\", \"Uttar Pradesh\", \"Haryana\", \"Karnataka\", \"NCT of Delhi\", \"West Bengal\", \"Odisha\", \"Kerala\", \"Uttarakhand\", \"Manipur\", \"Bihar\", \"Maharashtra\", \"Gujarat\", \"Jharkhand\", \"Andhra Pradesh\", \"Rajasthan\", \"Himachal Pradesh\", \"Chandigarh\", \"Telangana\", \"Madhya Pradesh\", \"Tripura\", \"Chhattisgarh\", \"Puducherry\", \"Meghalaya\", \"Nagaland\", \"Arunachal Pradesh\", \"Goa\", \"Mizoram\", \"Andaman and Nicobar\", \"Sikkim\", \"Daman and Diu\", \"Dadra and Nagar Haveli\"], \"y\": [0.21171171171171171, 0.14684684684684685, 0.09549549549549549, 0.05675675675675676, 0.03063063063063063, 0.03963963963963964, 0.05045045045045045, 0.027927927927927927, 0.017117117117117116, 0.016216216216216217, 0.01981981981981982, 0.018018018018018018, 0.014414414414414415, 0.036936936936936934, 0.027927927927927927, 0.03063063063063063, 0.016216216216216217, 0.02252252252252252, 0.02072072072072072, 0.015315315315315315, 0.0045045045045045045, 0.009009009009009009, 0.024324324324324326, 0.011711711711711712, 0.009009009009009009, 0.0036036036036036037, 0.013513513513513514, 0.006306306306306306, 0.0009009009009009009, 0.0018018018018018018, 0.0, 0.0, 0.0, 0.0, 0.0], \"type\": \"bar\", \"uid\": \"e95ef251-835a-4eab-801b-ec396fc91d60\"}, {\"x\": [\"Jammu and Kashmir\", \"Punjab\", \"Tamil Nadu\", \"Assam\", \"Uttar Pradesh\", \"Haryana\", \"Karnataka\", \"NCT of Delhi\", \"West Bengal\", \"Odisha\", \"Kerala\", \"Uttarakhand\", \"Manipur\", \"Bihar\", \"Maharashtra\", \"Gujarat\", \"Jharkhand\", \"Andhra Pradesh\", \"Rajasthan\", \"Himachal Pradesh\", \"Chandigarh\", \"Telangana\", \"Madhya Pradesh\", \"Tripura\", \"Chhattisgarh\", \"Puducherry\", \"Meghalaya\", \"Nagaland\", \"Arunachal Pradesh\", \"Goa\", \"Mizoram\", \"Andaman and Nicobar\", \"Sikkim\", \"Daman and Diu\", \"Dadra and Nagar Haveli\"], \"y\": [0.16152597402597402, 0.1956168831168831, 0.09172077922077922, 0.05032467532467533, 0.022727272727272728, 0.03814935064935065, 0.05113636363636364, 0.01948051948051948, 0.021915584415584416, 0.037337662337662336, 0.022727272727272728, 0.012175324675324676, 0.04626623376623377, 0.017045454545454544, 0.05844155844155844, 0.007305194805194805, 0.017045454545454544, 0.030032467532467532, 0.01461038961038961, 0.010551948051948052, 0.021103896103896104, 0.006493506493506494, 0.005681818181818182, 0.00487012987012987, 0.00974025974025974, 0.003246753246753247, 0.004058441558441558, 0.0008116883116883117, 0.00487012987012987, 0.002435064935064935, 0.007305194805194805, 0.002435064935064935, 0.0008116883116883117, 0.0, 0.0], \"type\": \"bar\", \"uid\": \"eb1e3ec9-4f91-4201-a4d3-2804aa95402b\"}, {\"x\": [\"Jammu and Kashmir\", \"Punjab\", \"Tamil Nadu\", \"Assam\", \"Uttar Pradesh\", \"Haryana\", \"Karnataka\", \"NCT of Delhi\", \"West Bengal\", \"Odisha\", \"Kerala\", \"Uttarakhand\", \"Manipur\", \"Bihar\", \"Maharashtra\", \"Gujarat\", \"Jharkhand\", \"Andhra Pradesh\", \"Rajasthan\", \"Himachal Pradesh\", \"Chandigarh\", \"Telangana\", \"Madhya Pradesh\", \"Tripura\", \"Chhattisgarh\", \"Puducherry\", \"Meghalaya\", \"Nagaland\", \"Arunachal Pradesh\", \"Goa\", \"Mizoram\", \"Andaman and Nicobar\", \"Sikkim\", \"Daman and Diu\", \"Dadra and Nagar Haveli\"], \"y\": [0.2305334150827713, 0.1213979153893317, 0.041692213366033105, 0.04843654199877376, 0.04721030042918455, 0.03801348865726548, 0.02575107296137339, 0.03740036787247088, 0.06866952789699571, 0.05027590435315757, 0.004291845493562232, 0.01655426118945432, 0.0539546290619252, 0.04721030042918455, 0.03494788473329246, 0.012262415695892091, 0.014714898835070508, 0.015328019619865114, 0.009809932556713672, 0.011649294911097487, 0.015328019619865114, 0.00674432863274065, 0.0030656039239730227, 0.009809932556713672, 0.00797057020232986, 0.001226241569589209, 0.005518087063151441, 0.00797057020232986, 0.00797057020232986, 0.0006131207847946045, 0.001226241569589209, 0.001226241569589209, 0.001226241569589209, 0.0, 0.0], \"type\": \"bar\", \"uid\": \"01febb70-413f-40f3-a925-62b91b9020f2\"}, {\"x\": [\"Jammu and Kashmir\", \"Punjab\", \"Tamil Nadu\", \"Assam\", \"Uttar Pradesh\", \"Haryana\", \"Karnataka\", \"NCT of Delhi\", \"West Bengal\", \"Odisha\", \"Kerala\", \"Uttarakhand\", \"Manipur\", \"Bihar\", \"Maharashtra\", \"Gujarat\", \"Jharkhand\", \"Andhra Pradesh\", \"Rajasthan\", \"Himachal Pradesh\", \"Chandigarh\", \"Telangana\", \"Madhya Pradesh\", \"Tripura\", \"Chhattisgarh\", \"Puducherry\", \"Meghalaya\", \"Nagaland\", \"Arunachal Pradesh\", \"Goa\", \"Mizoram\", \"Andaman and Nicobar\", \"Sikkim\", \"Daman and Diu\", \"Dadra and Nagar Haveli\"], \"y\": [0.15512048192771086, 0.16164658634538154, 0.04568273092369478, 0.056726907630522086, 0.05572289156626506, 0.053714859437751006, 0.028112449799196786, 0.028112449799196786, 0.04919678714859438, 0.058734939759036146, 0.015562248995983935, 0.0035140562248995983, 0.02610441767068273, 0.0607429718875502, 0.020582329317269075, 0.009538152610441768, 0.021586345381526106, 0.022590361445783132, 0.009538152610441768, 0.014056224899598393, 0.01355421686746988, 0.025100401606425703, 0.022590361445783132, 0.01355421686746988, 0.007530120481927711, 0.004016064257028112, 0.005522088353413655, 0.0030120481927710845, 0.004016064257028112, 0.0, 0.0015060240963855422, 0.0030120481927710845, 0.0, 0.0, 0.0], \"type\": \"bar\", \"uid\": \"2a006c8b-2782-4bc9-9f4b-b9e486420294\"}, {\"x\": [\"Jammu and Kashmir\", \"Punjab\", \"Tamil Nadu\", \"Assam\", \"Uttar Pradesh\", \"Haryana\", \"Karnataka\", \"NCT of Delhi\", \"West Bengal\", \"Odisha\", \"Kerala\", \"Uttarakhand\", \"Manipur\", \"Bihar\", \"Maharashtra\", \"Gujarat\", \"Jharkhand\", \"Andhra Pradesh\", \"Rajasthan\", \"Himachal Pradesh\", \"Chandigarh\", \"Telangana\", \"Madhya Pradesh\", \"Tripura\", \"Chhattisgarh\", \"Puducherry\", \"Meghalaya\", \"Nagaland\", \"Arunachal Pradesh\", \"Goa\", \"Mizoram\", \"Andaman and Nicobar\", \"Sikkim\", \"Daman and Diu\", \"Dadra and Nagar Haveli\"], \"y\": [0.2025862068965517, 0.13608374384236452, 0.050492610837438424, 0.07635467980295567, 0.050492610837438424, 0.05357142857142857, 0.02586206896551724, 0.03017241379310345, 0.022167487684729065, 0.05110837438423645, 0.04864532019704434, 0.0024630541871921183, 0.017241379310344827, 0.027093596059113302, 0.02770935960591133, 0.0166256157635468, 0.01847290640394089, 0.04064039408866995, 0.008620689655172414, 0.01539408866995074, 0.01539408866995074, 0.017241379310344827, 0.0067733990147783255, 0.008004926108374385, 0.013546798029556651, 0.0018472906403940886, 0.0049261083743842365, 0.003078817733990148, 0.003694581280788177, 0.0018472906403940886, 0.0006157635467980296, 0.0012315270935960591, 0.0, 0.0, 0.0], \"type\": \"bar\", \"uid\": \"83c7a8e1-562a-4d55-833d-f5170ed91ff0\"}, {\"x\": [\"Jammu and Kashmir\", \"Punjab\", \"Tamil Nadu\", \"Assam\", \"Uttar Pradesh\", \"Haryana\", \"Karnataka\", \"NCT of Delhi\", \"West Bengal\", \"Odisha\", \"Kerala\", \"Uttarakhand\", \"Manipur\", \"Bihar\", \"Maharashtra\", \"Gujarat\", \"Jharkhand\", \"Andhra Pradesh\", \"Rajasthan\", \"Himachal Pradesh\", \"Chandigarh\", \"Telangana\", \"Madhya Pradesh\", \"Tripura\", \"Chhattisgarh\", \"Puducherry\", \"Meghalaya\", \"Nagaland\", \"Arunachal Pradesh\", \"Goa\", \"Mizoram\", \"Andaman and Nicobar\", \"Sikkim\", \"Daman and Diu\", \"Dadra and Nagar Haveli\"], \"y\": [0.21954314720812182, 0.12373096446700507, 0.03299492385786802, 0.10596446700507614, 0.03934010152284264, 0.02728426395939086, 0.02728426395939086, 0.02728426395939086, 0.02982233502538071, 0.04314720812182741, 0.03362944162436548, 0.01015228426395939, 0.020939086294416244, 0.02030456852791878, 0.031091370558375634, 0.0038071065989847717, 0.048223350253807105, 0.02728426395939086, 0.008248730964467006, 0.007614213197969543, 0.015862944162436547, 0.014593908629441625, 0.01015228426395939, 0.01649746192893401, 0.02284263959390863, 0.0, 0.006979695431472081, 0.005076142131979695, 0.011421319796954314, 0.005710659898477157, 0.0025380710659898475, 0.0006345177664974619, 0.0, 0.0, 0.0], \"type\": \"bar\", \"uid\": \"3e7b5787-6328-457c-b096-12c213ab4e08\"}, {\"x\": [\"Jammu and Kashmir\", \"Punjab\", \"Tamil Nadu\", \"Assam\", \"Uttar Pradesh\", \"Haryana\", \"Karnataka\", \"NCT of Delhi\", \"West Bengal\", \"Odisha\", \"Kerala\", \"Uttarakhand\", \"Manipur\", \"Bihar\", \"Maharashtra\", \"Gujarat\", \"Jharkhand\", \"Andhra Pradesh\", \"Rajasthan\", \"Himachal Pradesh\", \"Chandigarh\", \"Telangana\", \"Madhya Pradesh\", \"Tripura\", \"Chhattisgarh\", \"Puducherry\", \"Meghalaya\", \"Nagaland\", \"Arunachal Pradesh\", \"Goa\", \"Mizoram\", \"Andaman and Nicobar\", \"Sikkim\", \"Daman and Diu\", \"Dadra and Nagar Haveli\"], \"y\": [0.1952147906470908, 0.14192495921696574, 0.05600870038064165, 0.09679173463839043, 0.036976617727025554, 0.02773246329526917, 0.03969548667754214, 0.034801522566612286, 0.018488308863512777, 0.03969548667754214, 0.03915171288743882, 0.009244154431756389, 0.02936378466557912, 0.018488308863512777, 0.016856987493202826, 0.011963023382272975, 0.013050570962479609, 0.029907558455682437, 0.01957585644371941, 0.009244154431756389, 0.01631321370309951, 0.023382272974442633, 0.009244154431756389, 0.03262642740619902, 0.005437737901033171, 0.002175095160413268, 0.0076128330614464385, 0.008156606851549755, 0.0032626427406199023, 0.004893964110929853, 0.0016313213703099511, 0.001087547580206634, 0.0, 0.0, 0.0], \"type\": \"bar\", \"uid\": \"d9792ab9-08a6-40fc-8c06-ad696ec769d2\"}, {\"x\": [\"Jammu and Kashmir\", \"Punjab\", \"Tamil Nadu\", \"Assam\", \"Uttar Pradesh\", \"Haryana\", \"Karnataka\", \"NCT of Delhi\", \"West Bengal\", \"Odisha\", \"Kerala\", \"Uttarakhand\", \"Manipur\", \"Bihar\", \"Maharashtra\", \"Gujarat\", \"Jharkhand\", \"Andhra Pradesh\", \"Rajasthan\", \"Himachal Pradesh\", \"Chandigarh\", \"Telangana\", \"Madhya Pradesh\", \"Tripura\", \"Chhattisgarh\", \"Puducherry\", \"Meghalaya\", \"Nagaland\", \"Arunachal Pradesh\", \"Goa\", \"Mizoram\", \"Andaman and Nicobar\", \"Sikkim\", \"Daman and Diu\", \"Dadra and Nagar Haveli\"], \"y\": [0.13202933985330073, 0.1039119804400978, 0.06845965770171149, 0.1980440097799511, 0.02689486552567237, 0.017726161369193152, 0.02506112469437653, 0.02689486552567237, 0.035452322738386305, 0.04706601466992665, 0.06845965770171149, 0.0024449877750611247, 0.03667481662591687, 0.023838630806845965, 0.023838630806845965, 0.009168704156479218, 0.02444987775061125, 0.020171149144254278, 0.0024449877750611247, 0.011002444987775062, 0.006723716381418093, 0.015281173594132029, 0.009779951100244499, 0.019559902200488997, 0.006112469437652812, 0.0018337408312958435, 0.015281173594132029, 0.0018337408312958435, 0.007946210268948655, 0.0024449877750611247, 0.006723716381418093, 0.0006112469437652812, 0.0018337408312958435, 0.0, 0.0], \"type\": \"bar\", \"uid\": \"80c12c83-1d3c-4d72-8309-78aa6f0f8b29\"}], {\"autosize\": true, \"sliders\": [{\"active\": 0, \"currentvalue\": {\"prefix\": \"\"}, \"name\": \"Month\", \"pad\": {\"t\": 37}, \"steps\": [{\"args\": [\"visible\", [true, false, false, false, false, false, false, false, false, false, false, false, false, false, false, false, false, false, false, false, false, false, false, false, false, false, false, false, false, false, false, false, false, false, false, false, false]], \"label\": \"Month 1\", \"method\": \"restyle\"}, {\"args\": [\"visible\", [false, true, false, false, false, false, false, false, false, false, false, false, false, false, false, false, false, false, false, false, false, false, false, false, false, false, false, false, false, false, false, false, false, false, false, false, false]], \"label\": \"Month 2\", \"method\": \"restyle\"}, {\"args\": [\"visible\", [false, false, true, false, false, false, false, false, false, false, false, false, false, false, false, false, false, false, false, false, false, false, false, false, false, false, false, false, false, false, false, false, false, false, false, false, false]], \"label\": \"Month 3\", \"method\": \"restyle\"}, {\"args\": [\"visible\", [false, false, false, true, false, false, false, false, false, false, false, false, false, false, false, false, false, false, false, false, false, false, false, false, false, false, false, false, false, false, false, false, false, false, false, false, false]], \"label\": \"Month 4\", \"method\": \"restyle\"}, {\"args\": [\"visible\", [false, false, false, false, true, false, false, false, false, false, false, false, false, false, false, false, false, false, false, false, false, false, false, false, false, false, false, false, false, false, false, false, false, false, false, false, false]], \"label\": \"Month 5\", \"method\": \"restyle\"}, {\"args\": [\"visible\", [false, false, false, false, false, true, false, false, false, false, false, false, false, false, false, false, false, false, false, false, false, false, false, false, false, false, false, false, false, false, false, false, false, false, false, false, false]], \"label\": \"Month 6\", \"method\": \"restyle\"}, {\"args\": [\"visible\", [false, false, false, false, false, false, true, false, false, false, false, false, false, false, false, false, false, false, false, false, false, false, false, false, false, false, false, false, false, false, false, false, false, false, false, false, false]], \"label\": \"Month 7\", \"method\": \"restyle\"}, {\"args\": [\"visible\", [false, false, false, false, false, false, false, true, false, false, false, false, false, false, false, false, false, false, false, false, false, false, false, false, false, false, false, false, false, false, false, false, false, false, false, false, false]], \"label\": \"Month 8\", \"method\": \"restyle\"}, {\"args\": [\"visible\", [false, false, false, false, false, false, false, false, true, false, false, false, false, false, false, false, false, false, false, false, false, false, false, false, false, false, false, false, false, false, false, false, false, false, false, false, false]], \"label\": \"Month 9\", \"method\": \"restyle\"}, {\"args\": [\"visible\", [false, false, false, false, false, false, false, false, false, true, false, false, false, false, false, false, false, false, false, false, false, false, false, false, false, false, false, false, false, false, false, false, false, false, false, false, false]], \"label\": \"Month 10\", \"method\": \"restyle\"}, {\"args\": [\"visible\", [false, false, false, false, false, false, false, false, false, false, true, false, false, false, false, false, false, false, false, false, false, false, false, false, false, false, false, false, false, false, false, false, false, false, false, false, false]], \"label\": \"Month 11\", \"method\": \"restyle\"}, {\"args\": [\"visible\", [false, false, false, false, false, false, false, false, false, false, false, true, false, false, false, false, false, false, false, false, false, false, false, false, false, false, false, false, false, false, false, false, false, false, false, false, false]], \"label\": \"Month 12\", \"method\": \"restyle\"}, {\"args\": [\"visible\", [false, false, false, false, false, false, false, false, false, false, false, false, true, false, false, false, false, false, false, false, false, false, false, false, false, false, false, false, false, false, false, false, false, false, false, false, false]], \"label\": \"Month 13\", \"method\": \"restyle\"}, {\"args\": [\"visible\", [false, false, false, false, false, false, false, false, false, false, false, false, false, true, false, false, false, false, false, false, false, false, false, false, false, false, false, false, false, false, false, false, false, false, false, false, false]], \"label\": \"Month 14\", \"method\": \"restyle\"}, {\"args\": [\"visible\", [false, false, false, false, false, false, false, false, false, false, false, false, false, false, true, false, false, false, false, false, false, false, false, false, false, false, false, false, false, false, false, false, false, false, false, false, false]], \"label\": \"Month 15\", \"method\": \"restyle\"}, {\"args\": [\"visible\", [false, false, false, false, false, false, false, false, false, false, false, false, false, false, false, true, false, false, false, false, false, false, false, false, false, false, false, false, false, false, false, false, false, false, false, false, false]], \"label\": \"Month 16\", \"method\": \"restyle\"}, {\"args\": [\"visible\", [false, false, false, false, false, false, false, false, false, false, false, false, false, false, false, false, true, false, false, false, false, false, false, false, false, false, false, false, false, false, false, false, false, false, false, false, false]], \"label\": \"Month 17\", \"method\": \"restyle\"}, {\"args\": [\"visible\", [false, false, false, false, false, false, false, false, false, false, false, false, false, false, false, false, false, true, false, false, false, false, false, false, false, false, false, false, false, false, false, false, false, false, false, false, false]], \"label\": \"Month 18\", \"method\": \"restyle\"}, {\"args\": [\"visible\", [false, false, false, false, false, false, false, false, false, false, false, false, false, false, false, false, false, false, true, false, false, false, false, false, false, false, false, false, false, false, false, false, false, false, false, false, false]], \"label\": \"Month 19\", \"method\": \"restyle\"}, {\"args\": [\"visible\", [false, false, false, false, false, false, false, false, false, false, false, false, false, false, false, false, false, false, false, true, false, false, false, false, false, false, false, false, false, false, false, false, false, false, false, false, false]], \"label\": \"Month 20\", \"method\": \"restyle\"}, {\"args\": [\"visible\", [false, false, false, false, false, false, false, false, false, false, false, false, false, false, false, false, false, false, false, false, true, false, false, false, false, false, false, false, false, false, false, false, false, false, false, false, false]], \"label\": \"Month 21\", \"method\": \"restyle\"}, {\"args\": [\"visible\", [false, false, false, false, false, false, false, false, false, false, false, false, false, false, false, false, false, false, false, false, false, true, false, false, false, false, false, false, false, false, false, false, false, false, false, false, false]], \"label\": \"Month 22\", \"method\": \"restyle\"}, {\"args\": [\"visible\", [false, false, false, false, false, false, false, false, false, false, false, false, false, false, false, false, false, false, false, false, false, false, true, false, false, false, false, false, false, false, false, false, false, false, false, false, false]], \"label\": \"Month 23\", \"method\": \"restyle\"}, {\"args\": [\"visible\", [false, false, false, false, false, false, false, false, false, false, false, false, false, false, false, false, false, false, false, false, false, false, false, true, false, false, false, false, false, false, false, false, false, false, false, false, false]], \"label\": \"Month 24\", \"method\": \"restyle\"}, {\"args\": [\"visible\", [false, false, false, false, false, false, false, false, false, false, false, false, false, false, false, false, false, false, false, false, false, false, false, false, true, false, false, false, false, false, false, false, false, false, false, false, false]], \"label\": \"Month 25\", \"method\": \"restyle\"}, {\"args\": [\"visible\", [false, false, false, false, false, false, false, false, false, false, false, false, false, false, false, false, false, false, false, false, false, false, false, false, false, true, false, false, false, false, false, false, false, false, false, false, false]], \"label\": \"Month 26\", \"method\": \"restyle\"}, {\"args\": [\"visible\", [false, false, false, false, false, false, false, false, false, false, false, false, false, false, false, false, false, false, false, false, false, false, false, false, false, false, true, false, false, false, false, false, false, false, false, false, false]], \"label\": \"Month 27\", \"method\": \"restyle\"}, {\"args\": [\"visible\", [false, false, false, false, false, false, false, false, false, false, false, false, false, false, false, false, false, false, false, false, false, false, false, false, false, false, false, true, false, false, false, false, false, false, false, false, false]], \"label\": \"Month 28\", \"method\": \"restyle\"}, {\"args\": [\"visible\", [false, false, false, false, false, false, false, false, false, false, false, false, false, false, false, false, false, false, false, false, false, false, false, false, false, false, false, false, true, false, false, false, false, false, false, false, false]], \"label\": \"Month 29\", \"method\": \"restyle\"}, {\"args\": [\"visible\", [false, false, false, false, false, false, false, false, false, false, false, false, false, false, false, false, false, false, false, false, false, false, false, false, false, false, false, false, false, true, false, false, false, false, false, false, false]], \"label\": \"Month 30\", \"method\": \"restyle\"}, {\"args\": [\"visible\", [false, false, false, false, false, false, false, false, false, false, false, false, false, false, false, false, false, false, false, false, false, false, false, false, false, false, false, false, false, false, true, false, false, false, false, false, false]], \"label\": \"Month 31\", \"method\": \"restyle\"}, {\"args\": [\"visible\", [false, false, false, false, false, false, false, false, false, false, false, false, false, false, false, false, false, false, false, false, false, false, false, false, false, false, false, false, false, false, false, true, false, false, false, false, false]], \"label\": \"Month 32\", \"method\": \"restyle\"}, {\"args\": [\"visible\", [false, false, false, false, false, false, false, false, false, false, false, false, false, false, false, false, false, false, false, false, false, false, false, false, false, false, false, false, false, false, false, false, true, false, false, false, false]], \"label\": \"Month 33\", \"method\": \"restyle\"}, {\"args\": [\"visible\", [false, false, false, false, false, false, false, false, false, false, false, false, false, false, false, false, false, false, false, false, false, false, false, false, false, false, false, false, false, false, false, false, false, true, false, false, false]], \"label\": \"Month 34\", \"method\": \"restyle\"}, {\"args\": [\"visible\", [false, false, false, false, false, false, false, false, false, false, false, false, false, false, false, false, false, false, false, false, false, false, false, false, false, false, false, false, false, false, false, false, false, false, true, false, false]], \"label\": \"Month 35\", \"method\": \"restyle\"}, {\"args\": [\"visible\", [false, false, false, false, false, false, false, false, false, false, false, false, false, false, false, false, false, false, false, false, false, false, false, false, false, false, false, false, false, false, false, false, false, false, false, true, false]], \"label\": \"Month 36\", \"method\": \"restyle\"}, {\"args\": [\"visible\", [false, false, false, false, false, false, false, false, false, false, false, false, false, false, false, false, false, false, false, false, false, false, false, false, false, false, false, false, false, false, false, false, false, false, false, false, true]], \"label\": \"Month 37\", \"method\": \"restyle\"}], \"y\": 1.5}], \"title\": {\"text\": \"Plot#2: Monthwise Event Frequency\"}, \"xaxis\": {\"automargin\": true, \"title\": {\"text\": \"States\"}}, \"yaxis\": {\"automargin\": true, \"title\": {\"text\": \"Normalized Frequency\"}}}, {\"showLink\": false, \"linkText\": \"Export to plot.ly\", \"plotlyServerURL\": \"https://plot.ly\"})});</script><script type=\"text/javascript\">window.addEventListener(\"resize\", function(){window._Plotly.Plots.resize(document.getElementById(\"98d7c184-9941-4b3b-ac32-89f1c2706617\"));});</script>"
      ],
      "text/vnd.plotly.v1+html": [
       "<div id=\"98d7c184-9941-4b3b-ac32-89f1c2706617\" style=\"height: 525px; width: 100%;\" class=\"plotly-graph-div\"></div><script type=\"text/javascript\">require([\"plotly\"], function(Plotly) { window.PLOTLYENV=window.PLOTLYENV || {};window.PLOTLYENV.BASE_URL=\"https://plot.ly\";Plotly.newPlot(\"98d7c184-9941-4b3b-ac32-89f1c2706617\", [{\"x\": [\"Jammu and Kashmir\", \"Punjab\", \"Tamil Nadu\", \"Assam\", \"Uttar Pradesh\", \"Haryana\", \"Karnataka\", \"NCT of Delhi\", \"West Bengal\", \"Odisha\", \"Kerala\", \"Uttarakhand\", \"Manipur\", \"Bihar\", \"Maharashtra\", \"Gujarat\", \"Jharkhand\", \"Andhra Pradesh\", \"Rajasthan\", \"Himachal Pradesh\", \"Chandigarh\", \"Telangana\", \"Madhya Pradesh\", \"Tripura\", \"Chhattisgarh\", \"Puducherry\", \"Meghalaya\", \"Nagaland\", \"Arunachal Pradesh\", \"Goa\", \"Mizoram\", \"Andaman and Nicobar\", \"Sikkim\", \"Daman and Diu\", \"Dadra and Nagar Haveli\"], \"y\": [0.06914893617021277, 0.19148936170212766, 0.07313829787234043, 0.031914893617021274, 0.043882978723404256, 0.08776595744680851, 0.0398936170212766, 0.05053191489361702, 0.026595744680851064, 0.0199468085106383, 0.027925531914893616, 0.11170212765957446, 0.023936170212765957, 0.02526595744680851, 0.031914893617021274, 0.02127659574468085, 0.023936170212765957, 0.009308510638297872, 0.011968085106382979, 0.007978723404255319, 0.014627659574468085, 0.023936170212765957, 0.005319148936170213, 0.0, 0.010638297872340425, 0.0013297872340425532, 0.010638297872340425, 0.0, 0.0013297872340425532, 0.0026595744680851063, 0.0, 0.0, 0.0, 0.0, 0.0], \"type\": \"bar\", \"uid\": \"769f04e2-2120-4549-ab0f-70bf7202414e\"}, {\"x\": [\"Jammu and Kashmir\", \"Punjab\", \"Tamil Nadu\", \"Assam\", \"Uttar Pradesh\", \"Haryana\", \"Karnataka\", \"NCT of Delhi\", \"West Bengal\", \"Odisha\", \"Kerala\", \"Uttarakhand\", \"Manipur\", \"Bihar\", \"Maharashtra\", \"Gujarat\", \"Jharkhand\", \"Andhra Pradesh\", \"Rajasthan\", \"Himachal Pradesh\", \"Chandigarh\", \"Telangana\", \"Madhya Pradesh\", \"Tripura\", \"Chhattisgarh\", \"Puducherry\", \"Meghalaya\", \"Nagaland\", \"Arunachal Pradesh\", \"Goa\", \"Mizoram\", \"Andaman and Nicobar\", \"Sikkim\", \"Daman and Diu\", \"Dadra and Nagar Haveli\"], \"y\": [0.06291706387035272, 0.14394661582459486, 0.07816968541468065, 0.07149666348903717, 0.05052430886558627, 0.14871306005719734, 0.027645376549094377, 0.04194470924690181, 0.04003813155386082, 0.015252621544327931, 0.014299332697807437, 0.06291706387035272, 0.019065776930409915, 0.030505243088655862, 0.015252621544327931, 0.02478551000953289, 0.02669208770257388, 0.0076263107721639654, 0.017159199237368923, 0.017159199237368923, 0.027645376549094377, 0.011439466158245948, 0.008579599618684462, 0.008579599618684462, 0.010486177311725452, 0.004766444232602479, 0.0038131553860819827, 0.0019065776930409914, 0.0019065776930409914, 0.0038131553860819827, 0.0009532888465204957, 0.0, 0.0, 0.0, 0.0], \"type\": \"bar\", \"uid\": \"e3743b21-d3a4-4c5c-9841-9298de8c766b\"}, {\"x\": [\"Jammu and Kashmir\", \"Punjab\", \"Tamil Nadu\", \"Assam\", \"Uttar Pradesh\", \"Haryana\", \"Karnataka\", \"NCT of Delhi\", \"West Bengal\", \"Odisha\", \"Kerala\", \"Uttarakhand\", \"Manipur\", \"Bihar\", \"Maharashtra\", \"Gujarat\", \"Jharkhand\", \"Andhra Pradesh\", \"Rajasthan\", \"Himachal Pradesh\", \"Chandigarh\", \"Telangana\", \"Madhya Pradesh\", \"Tripura\", \"Chhattisgarh\", \"Puducherry\", \"Meghalaya\", \"Nagaland\", \"Arunachal Pradesh\", \"Goa\", \"Mizoram\", \"Andaman and Nicobar\", \"Sikkim\", \"Daman and Diu\", \"Dadra and Nagar Haveli\"], \"y\": [0.07468879668049792, 0.16459197786998617, 0.07192254495159059, 0.05532503457814661, 0.027662517289073305, 0.022130013831258646, 0.08852005532503458, 0.02351313969571231, 0.04426002766251729, 0.011065006915629323, 0.035961272475795295, 0.10096818810511757, 0.024896265560165973, 0.012448132780082987, 0.03872752420470263, 0.006915629322268326, 0.040110650069156296, 0.02351313969571231, 0.013831258644536652, 0.02351313969571231, 0.02351313969571231, 0.008298755186721992, 0.02627939142461964, 0.0027662517289073307, 0.015214384508990318, 0.0013831258644536654, 0.005532503457814661, 0.0027662517289073307, 0.0013831258644536654, 0.006915629322268326, 0.0013831258644536654, 0.0, 0.0, 0.0, 0.0], \"type\": \"bar\", \"uid\": \"35ff2f9a-9e89-4798-aa7c-3e65fcdc9f2a\"}, {\"x\": [\"Jammu and Kashmir\", \"Punjab\", \"Tamil Nadu\", \"Assam\", \"Uttar Pradesh\", \"Haryana\", \"Karnataka\", \"NCT of Delhi\", \"West Bengal\", \"Odisha\", \"Kerala\", \"Uttarakhand\", \"Manipur\", \"Bihar\", \"Maharashtra\", \"Gujarat\", \"Jharkhand\", \"Andhra Pradesh\", \"Rajasthan\", \"Himachal Pradesh\", \"Chandigarh\", \"Telangana\", \"Madhya Pradesh\", \"Tripura\", \"Chhattisgarh\", \"Puducherry\", \"Meghalaya\", \"Nagaland\", \"Arunachal Pradesh\", \"Goa\", \"Mizoram\", \"Andaman and Nicobar\", \"Sikkim\", \"Daman and Diu\", \"Dadra and Nagar Haveli\"], \"y\": [0.05761843790012804, 0.16261203585147246, 0.08194622279129321, 0.046094750320102434, 0.04225352112676056, 0.05121638924455826, 0.0499359795134443, 0.04481434058898848, 0.16645326504481434, 0.030729833546734954, 0.01792573623559539, 0.014084507042253521, 0.03329065300896287, 0.023047375160051217, 0.014084507042253521, 0.019206145966709345, 0.05505761843790013, 0.011523687580025609, 0.008962868117797696, 0.019206145966709345, 0.016645326504481434, 0.010243277848911651, 0.005121638924455826, 0.002560819462227913, 0.002560819462227913, 0.0, 0.0012804097311139564, 0.002560819462227913, 0.002560819462227913, 0.006402048655569782, 0.0, 0.0, 0.0, 0.0, 0.0], \"type\": \"bar\", \"uid\": \"1bda180d-b7a9-4c30-8479-5c036e4152ca\"}, {\"x\": [\"Jammu and Kashmir\", \"Punjab\", \"Tamil Nadu\", \"Assam\", \"Uttar Pradesh\", \"Haryana\", \"Karnataka\", \"NCT of Delhi\", \"West Bengal\", \"Odisha\", \"Kerala\", \"Uttarakhand\", \"Manipur\", \"Bihar\", \"Maharashtra\", \"Gujarat\", \"Jharkhand\", \"Andhra Pradesh\", \"Rajasthan\", \"Himachal Pradesh\", \"Chandigarh\", \"Telangana\", \"Madhya Pradesh\", \"Tripura\", \"Chhattisgarh\", \"Puducherry\", \"Meghalaya\", \"Nagaland\", \"Arunachal Pradesh\", \"Goa\", \"Mizoram\", \"Andaman and Nicobar\", \"Sikkim\", \"Daman and Diu\", \"Dadra and Nagar Haveli\"], \"y\": [0.07884231536926148, 0.19261477045908185, 0.046906187624750496, 0.038922155688622756, 0.033932135728542916, 0.06686626746506986, 0.027944111776447105, 0.043912175648702596, 0.07285429141716566, 0.023952095808383235, 0.020958083832335328, 0.04890219560878244, 0.05588822355289421, 0.03592814371257485, 0.011976047904191617, 0.013972055888223553, 0.029940119760479042, 0.03493013972055888, 0.020958083832335328, 0.018962075848303395, 0.02594810379241517, 0.015968063872255488, 0.015968063872255488, 0.00499001996007984, 0.006986027944111776, 0.0029940119760479044, 0.001996007984031936, 0.000998003992015968, 0.001996007984031936, 0.0029940119760479044, 0.0, 0.0, 0.0, 0.0, 0.0], \"type\": \"bar\", \"uid\": \"dea8371a-cc97-4f12-9dc0-9c5b6f0e6065\"}, {\"x\": [\"Jammu and Kashmir\", \"Punjab\", \"Tamil Nadu\", \"Assam\", \"Uttar Pradesh\", \"Haryana\", \"Karnataka\", \"NCT of Delhi\", \"West Bengal\", \"Odisha\", \"Kerala\", \"Uttarakhand\", \"Manipur\", \"Bihar\", \"Maharashtra\", \"Gujarat\", \"Jharkhand\", \"Andhra Pradesh\", \"Rajasthan\", \"Himachal Pradesh\", \"Chandigarh\", \"Telangana\", \"Madhya Pradesh\", \"Tripura\", \"Chhattisgarh\", \"Puducherry\", \"Meghalaya\", \"Nagaland\", \"Arunachal Pradesh\", \"Goa\", \"Mizoram\", \"Andaman and Nicobar\", \"Sikkim\", \"Daman and Diu\", \"Dadra and Nagar Haveli\"], \"y\": [0.13097199341021418, 0.214168039538715, 0.04118616144975288, 0.022240527182866558, 0.05354200988467875, 0.09308072487644152, 0.05683690280065898, 0.04118616144975288, 0.012355848434925865, 0.015650741350906095, 0.0214168039538715, 0.06342668863261944, 0.03542009884678748, 0.008237232289950576, 0.015650741350906095, 0.027182866556836903, 0.028830313014827018, 0.016474464579901153, 0.02471169686985173, 0.02800658978583196, 0.009884678747940691, 0.013179571663920923, 0.013179571663920923, 0.002471169686985173, 0.0032948929159802307, 0.002471169686985173, 0.0032948929159802307, 0.0, 0.0008237232289950577, 0.0008237232289950577, 0.0, 0.0, 0.0, 0.0, 0.0], \"type\": \"bar\", \"uid\": \"39c60c29-9f7a-4233-88e9-c4b3c998df21\"}, {\"x\": [\"Jammu and Kashmir\", \"Punjab\", \"Tamil Nadu\", \"Assam\", \"Uttar Pradesh\", \"Haryana\", \"Karnataka\", \"NCT of Delhi\", \"West Bengal\", \"Odisha\", \"Kerala\", \"Uttarakhand\", \"Manipur\", \"Bihar\", \"Maharashtra\", \"Gujarat\", \"Jharkhand\", \"Andhra Pradesh\", \"Rajasthan\", \"Himachal Pradesh\", \"Chandigarh\", \"Telangana\", \"Madhya Pradesh\", \"Tripura\", \"Chhattisgarh\", \"Puducherry\", \"Meghalaya\", \"Nagaland\", \"Arunachal Pradesh\", \"Goa\", \"Mizoram\", \"Andaman and Nicobar\", \"Sikkim\", \"Daman and Diu\", \"Dadra and Nagar Haveli\"], \"y\": [0.2005842259006816, 0.12171372930866602, 0.04771178188899708, 0.03213242453748783, 0.0798442064264849, 0.044790652385589096, 0.06621226874391431, 0.04771178188899708, 0.008763388510223954, 0.029211295034079845, 0.01557935735150925, 0.05939629990262902, 0.01557935735150925, 0.009737098344693282, 0.007789678675754625, 0.10418695228821812, 0.017526777020447908, 0.01557935735150925, 0.01557935735150925, 0.02044790652385589, 0.013631937682570594, 0.005842259006815969, 0.0019474196689386564, 0.010710808179162609, 0.0029211295034079843, 0.0038948393378773127, 0.0, 0.0009737098344693282, 0.0, 0.0, 0.0, 0.0, 0.0, 0.0, 0.0], \"type\": \"bar\", \"uid\": \"0330942b-8600-4696-8761-54a3646b4e18\"}, {\"x\": [\"Jammu and Kashmir\", \"Punjab\", \"Tamil Nadu\", \"Assam\", \"Uttar Pradesh\", \"Haryana\", \"Karnataka\", \"NCT of Delhi\", \"West Bengal\", \"Odisha\", \"Kerala\", \"Uttarakhand\", \"Manipur\", \"Bihar\", \"Maharashtra\", \"Gujarat\", \"Jharkhand\", \"Andhra Pradesh\", \"Rajasthan\", \"Himachal Pradesh\", \"Chandigarh\", \"Telangana\", \"Madhya Pradesh\", \"Tripura\", \"Chhattisgarh\", \"Puducherry\", \"Meghalaya\", \"Nagaland\", \"Arunachal Pradesh\", \"Goa\", \"Mizoram\", \"Andaman and Nicobar\", \"Sikkim\", \"Daman and Diu\", \"Dadra and Nagar Haveli\"], \"y\": [0.2252173913043478, 0.10869565217391304, 0.06608695652173913, 0.0391304347826087, 0.08260869565217391, 0.05565217391304348, 0.04, 0.04, 0.0052173913043478265, 0.03739130434782609, 0.00782608695652174, 0.05304347826086957, 0.05304347826086957, 0.018260869565217393, 0.009565217391304347, 0.03739130434782609, 0.020869565217391306, 0.0026086956521739132, 0.023478260869565216, 0.02, 0.020869565217391306, 0.0026086956521739132, 0.004347826086956522, 0.006956521739130435, 0.00608695652173913, 0.0052173913043478265, 0.0017391304347826088, 0.0026086956521739132, 0.0017391304347826088, 0.0008695652173913044, 0.0008695652173913044, 0.0, 0.0, 0.0, 0.0], \"type\": \"bar\", \"uid\": \"d2f58eeb-2d1f-4398-90fe-7582a5bae57b\"}, {\"x\": [\"Jammu and Kashmir\", \"Punjab\", \"Tamil Nadu\", \"Assam\", \"Uttar Pradesh\", \"Haryana\", \"Karnataka\", \"NCT of Delhi\", \"West Bengal\", \"Odisha\", \"Kerala\", \"Uttarakhand\", \"Manipur\", \"Bihar\", \"Maharashtra\", \"Gujarat\", \"Jharkhand\", \"Andhra Pradesh\", \"Rajasthan\", \"Himachal Pradesh\", \"Chandigarh\", \"Telangana\", \"Madhya Pradesh\", \"Tripura\", \"Chhattisgarh\", \"Puducherry\", \"Meghalaya\", \"Nagaland\", \"Arunachal Pradesh\", \"Goa\", \"Mizoram\", \"Andaman and Nicobar\", \"Sikkim\", \"Daman and Diu\", \"Dadra and Nagar Haveli\"], \"y\": [0.2377332411886662, 0.17899101589495509, 0.04284727021423635, 0.042156185210780926, 0.0635798203178991, 0.046993780234968904, 0.06219765031098825, 0.04630269523151347, 0.013130615065653075, 0.020041465100207326, 0.008984105044920525, 0.04008293020041465, 0.019350380096751902, 0.013130615065653075, 0.013130615065653075, 0.019350380096751902, 0.020041465100207326, 0.0048375950241879755, 0.026952315134761574, 0.019350380096751902, 0.022805805114029024, 0.00138217000691085, 0.00414651002073255, 0.006910850034554251, 0.009675190048375951, 0.006219765031098825, 0.00414651002073255, 0.000691085003455425, 0.00138217000691085, 0.002073255010366275, 0.000691085003455425, 0.0, 0.000691085003455425, 0.0, 0.0], \"type\": \"bar\", \"uid\": \"ed71bca9-0bd3-40ad-9e16-325ba123c78c\"}, {\"x\": [\"Jammu and Kashmir\", \"Punjab\", \"Tamil Nadu\", \"Assam\", \"Uttar Pradesh\", \"Haryana\", \"Karnataka\", \"NCT of Delhi\", \"West Bengal\", \"Odisha\", \"Kerala\", \"Uttarakhand\", \"Manipur\", \"Bihar\", \"Maharashtra\", \"Gujarat\", \"Jharkhand\", \"Andhra Pradesh\", \"Rajasthan\", \"Himachal Pradesh\", \"Chandigarh\", \"Telangana\", \"Madhya Pradesh\", \"Tripura\", \"Chhattisgarh\", \"Puducherry\", \"Meghalaya\", \"Nagaland\", \"Arunachal Pradesh\", \"Goa\", \"Mizoram\", \"Andaman and Nicobar\", \"Sikkim\", \"Daman and Diu\", \"Dadra and Nagar Haveli\"], \"y\": [0.2331055429005315, 0.14654517843583903, 0.04555808656036447, 0.018982536066818528, 0.04935459377372817, 0.06150341685649203, 0.02050113895216401, 0.058466211085801065, 0.019741837509491267, 0.02050113895216401, 0.0425208807896735, 0.0774487471526196, 0.03492786636294609, 0.010630220197418374, 0.02885345482156416, 0.0387243735763098, 0.022779043280182234, 0.0, 0.015945330296127564, 0.01366742596810934, 0.010630220197418374, 0.006074411541381929, 0.002277904328018223, 0.0030372057706909645, 0.005315110098709187, 0.004555808656036446, 0.0037965072133637054, 0.0015186028853454822, 0.0, 0.002277904328018223, 0.0007593014426727411, 0.0, 0.0, 0.0, 0.0], \"type\": \"bar\", \"uid\": \"65696b82-d0fa-4397-b08f-755c538cbf72\"}, {\"x\": [\"Jammu and Kashmir\", \"Punjab\", \"Tamil Nadu\", \"Assam\", \"Uttar Pradesh\", \"Haryana\", \"Karnataka\", \"NCT of Delhi\", \"West Bengal\", \"Odisha\", \"Kerala\", \"Uttarakhand\", \"Manipur\", \"Bihar\", \"Maharashtra\", \"Gujarat\", \"Jharkhand\", \"Andhra Pradesh\", \"Rajasthan\", \"Himachal Pradesh\", \"Chandigarh\", \"Telangana\", \"Madhya Pradesh\", \"Tripura\", \"Chhattisgarh\", \"Puducherry\", \"Meghalaya\", \"Nagaland\", \"Arunachal Pradesh\", \"Goa\", \"Mizoram\", \"Andaman and Nicobar\", \"Sikkim\", \"Daman and Diu\", \"Dadra and Nagar Haveli\"], \"y\": [0.16919575113808802, 0.20409711684370258, 0.038694992412746584, 0.0409711684370258, 0.061456752655538696, 0.03793626707132018, 0.0409711684370258, 0.04704097116843703, 0.02276176024279211, 0.014415781487101669, 0.02276176024279211, 0.05083459787556904, 0.044764795144157814, 0.02503793626707132, 0.010622154779969651, 0.051593323216995446, 0.03414264036418816, 0.0037936267071320183, 0.012898330804248861, 0.013657056145675266, 0.006828528072837633, 0.005311077389984826, 0.007587253414264037, 0.0030349013657056147, 0.012898330804248861, 0.004552352048558422, 0.004552352048558422, 0.0015174506828528073, 0.0015174506828528073, 0.004552352048558422, 0.0, 0.0, 0.0, 0.0, 0.0], \"type\": \"bar\", \"uid\": \"64ea1708-dc8e-42e0-8c72-8718f2a70202\"}, {\"x\": [\"Jammu and Kashmir\", \"Punjab\", \"Tamil Nadu\", \"Assam\", \"Uttar Pradesh\", \"Haryana\", \"Karnataka\", \"NCT of Delhi\", \"West Bengal\", \"Odisha\", \"Kerala\", \"Uttarakhand\", \"Manipur\", \"Bihar\", \"Maharashtra\", \"Gujarat\", \"Jharkhand\", \"Andhra Pradesh\", \"Rajasthan\", \"Himachal Pradesh\", \"Chandigarh\", \"Telangana\", \"Madhya Pradesh\", \"Tripura\", \"Chhattisgarh\", \"Puducherry\", \"Meghalaya\", \"Nagaland\", \"Arunachal Pradesh\", \"Goa\", \"Mizoram\", \"Andaman and Nicobar\", \"Sikkim\", \"Daman and Diu\", \"Dadra and Nagar Haveli\"], \"y\": [0.14760914760914762, 0.20374220374220375, 0.058212058212058215, 0.028066528066528068, 0.0841995841995842, 0.04158004158004158, 0.02494802494802495, 0.057172557172557176, 0.028066528066528068, 0.010395010395010396, 0.02598752598752599, 0.06652806652806653, 0.04781704781704782, 0.009355509355509356, 0.017671517671517672, 0.031185031185031187, 0.028066528066528068, 0.010395010395010396, 0.02494802494802495, 0.007276507276507277, 0.004158004158004158, 0.004158004158004158, 0.005197505197505198, 0.006237006237006237, 0.007276507276507277, 0.0010395010395010396, 0.002079002079002079, 0.007276507276507277, 0.005197505197505198, 0.004158004158004158, 0.0, 0.0, 0.0, 0.0, 0.0], \"type\": \"bar\", \"uid\": \"8f6015a8-cdb2-49a7-ae50-477222b58392\"}, {\"x\": [\"Jammu and Kashmir\", \"Punjab\", \"Tamil Nadu\", \"Assam\", \"Uttar Pradesh\", \"Haryana\", \"Karnataka\", \"NCT of Delhi\", \"West Bengal\", \"Odisha\", \"Kerala\", \"Uttarakhand\", \"Manipur\", \"Bihar\", \"Maharashtra\", \"Gujarat\", \"Jharkhand\", \"Andhra Pradesh\", \"Rajasthan\", \"Himachal Pradesh\", \"Chandigarh\", \"Telangana\", \"Madhya Pradesh\", \"Tripura\", \"Chhattisgarh\", \"Puducherry\", \"Meghalaya\", \"Nagaland\", \"Arunachal Pradesh\", \"Goa\", \"Mizoram\", \"Andaman and Nicobar\", \"Sikkim\", \"Daman and Diu\", \"Dadra and Nagar Haveli\"], \"y\": [0.09801031687546058, 0.09948415622697127, 0.19749447310243184, 0.039056742815033164, 0.05747973470891673, 0.05821665438467207, 0.017686072218128224, 0.045689019896831246, 0.04200442151805453, 0.0058953574060427415, 0.032424465733235076, 0.022844509948415623, 0.025792188651436992, 0.017686072218128224, 0.03610906411201179, 0.026529108327192335, 0.01694915254237288, 0.012527634487840826, 0.023581429624170966, 0.006632277081798084, 0.021370670596904937, 0.006632277081798084, 0.04642593957258659, 0.006632277081798084, 0.008106116433308769, 0.012527634487840826, 0.0036845983787767134, 0.0058953574060427415, 0.0036845983787767134, 0.0014738393515106854, 0.0, 0.0014738393515106854, 0.0, 0.0, 0.0], \"type\": \"bar\", \"uid\": \"1b4eda2a-d81d-47a7-b74e-43f18983f93d\"}, {\"x\": [\"Jammu and Kashmir\", \"Punjab\", \"Tamil Nadu\", \"Assam\", \"Uttar Pradesh\", \"Haryana\", \"Karnataka\", \"NCT of Delhi\", \"West Bengal\", \"Odisha\", \"Kerala\", \"Uttarakhand\", \"Manipur\", \"Bihar\", \"Maharashtra\", \"Gujarat\", \"Jharkhand\", \"Andhra Pradesh\", \"Rajasthan\", \"Himachal Pradesh\", \"Chandigarh\", \"Telangana\", \"Madhya Pradesh\", \"Tripura\", \"Chhattisgarh\", \"Puducherry\", \"Meghalaya\", \"Nagaland\", \"Arunachal Pradesh\", \"Goa\", \"Mizoram\", \"Andaman and Nicobar\", \"Sikkim\", \"Daman and Diu\", \"Dadra and Nagar Haveli\"], \"y\": [0.1276595744680851, 0.16, 0.10212765957446808, 0.04085106382978723, 0.06042553191489362, 0.0748936170212766, 0.033191489361702124, 0.06723404255319149, 0.017872340425531916, 0.026382978723404255, 0.020425531914893616, 0.00851063829787234, 0.03489361702127659, 0.029787234042553193, 0.020425531914893616, 0.03404255319148936, 0.01446808510638298, 0.011914893617021277, 0.02723404255319149, 0.016170212765957447, 0.011063829787234043, 0.009361702127659575, 0.00851063829787234, 0.005957446808510639, 0.01702127659574468, 0.007659574468085106, 0.000851063829787234, 0.006808510638297872, 0.001702127659574468, 0.000851063829787234, 0.001702127659574468, 0.0, 0.0, 0.0, 0.0], \"type\": \"bar\", \"uid\": \"f09380a0-13f8-4fa8-8d96-0c3f80342724\"}, {\"x\": [\"Jammu and Kashmir\", \"Punjab\", \"Tamil Nadu\", \"Assam\", \"Uttar Pradesh\", \"Haryana\", \"Karnataka\", \"NCT of Delhi\", \"West Bengal\", \"Odisha\", \"Kerala\", \"Uttarakhand\", \"Manipur\", \"Bihar\", \"Maharashtra\", \"Gujarat\", \"Jharkhand\", \"Andhra Pradesh\", \"Rajasthan\", \"Himachal Pradesh\", \"Chandigarh\", \"Telangana\", \"Madhya Pradesh\", \"Tripura\", \"Chhattisgarh\", \"Puducherry\", \"Meghalaya\", \"Nagaland\", \"Arunachal Pradesh\", \"Goa\", \"Mizoram\", \"Andaman and Nicobar\", \"Sikkim\", \"Daman and Diu\", \"Dadra and Nagar Haveli\"], \"y\": [0.1363973313565604, 0.11415863602668644, 0.17272053372868792, 0.05856189770200148, 0.05856189770200148, 0.05559673832468495, 0.042994810971089696, 0.031134173461823574, 0.018532246108228317, 0.008895478131949592, 0.028910303928836176, 0.03039288361749444, 0.028169014084507043, 0.018532246108228317, 0.02001482579688658, 0.03261675315048184, 0.011860637509266123, 0.01927353595255745, 0.025203854707190512, 0.014084507042253521, 0.014084507042253521, 0.014825796886582653, 0.005189028910303929, 0.014084507042253521, 0.007412898443291327, 0.009636767976278725, 0.0029651593773165306, 0.002223869532987398, 0.0, 0.0029651593773165306, 0.0, 0.0, 0.0, 0.0, 0.0], \"type\": \"bar\", \"uid\": \"98209ee5-3bef-41b0-bb44-f8445b2db207\"}, {\"x\": [\"Jammu and Kashmir\", \"Punjab\", \"Tamil Nadu\", \"Assam\", \"Uttar Pradesh\", \"Haryana\", \"Karnataka\", \"NCT of Delhi\", \"West Bengal\", \"Odisha\", \"Kerala\", \"Uttarakhand\", \"Manipur\", \"Bihar\", \"Maharashtra\", \"Gujarat\", \"Jharkhand\", \"Andhra Pradesh\", \"Rajasthan\", \"Himachal Pradesh\", \"Chandigarh\", \"Telangana\", \"Madhya Pradesh\", \"Tripura\", \"Chhattisgarh\", \"Puducherry\", \"Meghalaya\", \"Nagaland\", \"Arunachal Pradesh\", \"Goa\", \"Mizoram\", \"Andaman and Nicobar\", \"Sikkim\", \"Daman and Diu\", \"Dadra and Nagar Haveli\"], \"y\": [0.16129032258064516, 0.12981904012588513, 0.12431156569630213, 0.024390243902439025, 0.11408339889850512, 0.06372934697088907, 0.014162077104642014, 0.01888276947285602, 0.03540519276160504, 0.010228166797797011, 0.015735641227380016, 0.044059795436664044, 0.016522423288749016, 0.01966955153422502, 0.007867820613690008, 0.01888276947285602, 0.025177025963808025, 0.011801730920535013, 0.03225806451612903, 0.03461841070023604, 0.021243115656963022, 0.024390243902439025, 0.010228166797797011, 0.003933910306845004, 0.003933910306845004, 0.004720692368214005, 0.004720692368214005, 0.0, 0.0015735641227380016, 0.0, 0.0007867820613690008, 0.0007867820613690008, 0.0, 0.0007867820613690008, 0.0], \"type\": \"bar\", \"uid\": \"547d1ce8-7817-45c3-98b2-4e746a089cd4\"}, {\"x\": [\"Jammu and Kashmir\", \"Punjab\", \"Tamil Nadu\", \"Assam\", \"Uttar Pradesh\", \"Haryana\", \"Karnataka\", \"NCT of Delhi\", \"West Bengal\", \"Odisha\", \"Kerala\", \"Uttarakhand\", \"Manipur\", \"Bihar\", \"Maharashtra\", \"Gujarat\", \"Jharkhand\", \"Andhra Pradesh\", \"Rajasthan\", \"Himachal Pradesh\", \"Chandigarh\", \"Telangana\", \"Madhya Pradesh\", \"Tripura\", \"Chhattisgarh\", \"Puducherry\", \"Meghalaya\", \"Nagaland\", \"Arunachal Pradesh\", \"Goa\", \"Mizoram\", \"Andaman and Nicobar\", \"Sikkim\", \"Daman and Diu\", \"Dadra and Nagar Haveli\"], \"y\": [0.25165562913907286, 0.12298959318826869, 0.07757805108798486, 0.036896877956480605, 0.07757805108798486, 0.07095553453169347, 0.021759697256385997, 0.019867549668874173, 0.023651844843897825, 0.014191106906338695, 0.03216650898770104, 0.014191106906338695, 0.021759697256385997, 0.017975402081362345, 0.011352885525070956, 0.017975402081362345, 0.020813623462630087, 0.01608325449385052, 0.020813623462630087, 0.03122043519394513, 0.017975402081362345, 0.019867549668874173, 0.005676442762535478, 0.00946073793755913, 0.007568590350047304, 0.00946073793755913, 0.003784295175023652, 0.0, 0.0, 0.003784295175023652, 0.0, 0.0, 0.0, 0.0, 0.000946073793755913], \"type\": \"bar\", \"uid\": \"9d27c0b8-d88d-4406-9874-d63e5c450121\"}, {\"x\": [\"Jammu and Kashmir\", \"Punjab\", \"Tamil Nadu\", \"Assam\", \"Uttar Pradesh\", \"Haryana\", \"Karnataka\", \"NCT of Delhi\", \"West Bengal\", \"Odisha\", \"Kerala\", \"Uttarakhand\", \"Manipur\", \"Bihar\", \"Maharashtra\", \"Gujarat\", \"Jharkhand\", \"Andhra Pradesh\", \"Rajasthan\", \"Himachal Pradesh\", \"Chandigarh\", \"Telangana\", \"Madhya Pradesh\", \"Tripura\", \"Chhattisgarh\", \"Puducherry\", \"Meghalaya\", \"Nagaland\", \"Arunachal Pradesh\", \"Goa\", \"Mizoram\", \"Andaman and Nicobar\", \"Sikkim\", \"Daman and Diu\", \"Dadra and Nagar Haveli\"], \"y\": [0.20826306913996628, 0.13069139966273188, 0.06239460370994941, 0.03456998313659359, 0.0699831365935919, 0.0657672849915683, 0.03288364249578415, 0.016863406408094434, 0.04300168634064081, 0.07082630691399663, 0.01433389544688027, 0.024451939291736932, 0.006745362563237774, 0.0193929173693086, 0.013490725126475547, 0.03794266441821248, 0.01011804384485666, 0.01517706576728499, 0.025295109612141653, 0.010961214165261383, 0.01011804384485666, 0.006745362563237774, 0.022765598650927487, 0.006745362563237774, 0.023608768971332208, 0.005902192242833052, 0.006745362563237774, 0.0008431703204047217, 0.0016863406408094434, 0.0008431703204047217, 0.0008431703204047217, 0.0, 0.0, 0.0, 0.0], \"type\": \"bar\", \"uid\": \"284fe400-ce91-4b01-bed2-0a4312ada2ee\"}, {\"x\": [\"Jammu and Kashmir\", \"Punjab\", \"Tamil Nadu\", \"Assam\", \"Uttar Pradesh\", \"Haryana\", \"Karnataka\", \"NCT of Delhi\", \"West Bengal\", \"Odisha\", \"Kerala\", \"Uttarakhand\", \"Manipur\", \"Bihar\", \"Maharashtra\", \"Gujarat\", \"Jharkhand\", \"Andhra Pradesh\", \"Rajasthan\", \"Himachal Pradesh\", \"Chandigarh\", \"Telangana\", \"Madhya Pradesh\", \"Tripura\", \"Chhattisgarh\", \"Puducherry\", \"Meghalaya\", \"Nagaland\", \"Arunachal Pradesh\", \"Goa\", \"Mizoram\", \"Andaman and Nicobar\", \"Sikkim\", \"Daman and Diu\", \"Dadra and Nagar Haveli\"], \"y\": [0.17509727626459143, 0.1293774319066148, 0.04182879377431906, 0.07295719844357977, 0.10116731517509728, 0.04571984435797665, 0.04474708171206226, 0.042801556420233464, 0.06031128404669261, 0.0048638132295719845, 0.02821011673151751, 0.011673151750972763, 0.02529182879377432, 0.02821011673151751, 0.007782101167315175, 0.029182879377431907, 0.010700389105058366, 0.01848249027237354, 0.024319066147859923, 0.04961089494163424, 0.007782101167315175, 0.011673151750972763, 0.005836575875486381, 0.006809338521400778, 0.0, 0.0048638132295719845, 0.0048638132295719845, 0.0048638132295719845, 0.0009727626459143969, 0.0, 0.0, 0.0, 0.0, 0.0, 0.0], \"type\": \"bar\", \"uid\": \"a3d1433d-4d4d-48bf-945f-81bad96bfbbe\"}, {\"x\": [\"Jammu and Kashmir\", \"Punjab\", \"Tamil Nadu\", \"Assam\", \"Uttar Pradesh\", \"Haryana\", \"Karnataka\", \"NCT of Delhi\", \"West Bengal\", \"Odisha\", \"Kerala\", \"Uttarakhand\", \"Manipur\", \"Bihar\", \"Maharashtra\", \"Gujarat\", \"Jharkhand\", \"Andhra Pradesh\", \"Rajasthan\", \"Himachal Pradesh\", \"Chandigarh\", \"Telangana\", \"Madhya Pradesh\", \"Tripura\", \"Chhattisgarh\", \"Puducherry\", \"Meghalaya\", \"Nagaland\", \"Arunachal Pradesh\", \"Goa\", \"Mizoram\", \"Andaman and Nicobar\", \"Sikkim\", \"Daman and Diu\", \"Dadra and Nagar Haveli\"], \"y\": [0.1342685370741483, 0.1342685370741483, 0.06012024048096192, 0.14729458917835672, 0.0781563126252505, 0.04308617234468938, 0.056112224448897796, 0.026052104208416832, 0.02004008016032064, 0.05811623246492986, 0.026052104208416832, 0.01002004008016032, 0.027054108216432865, 0.017034068136272545, 0.018036072144288578, 0.003006012024048096, 0.00501002004008016, 0.014028056112224449, 0.0070140280561122245, 0.04208416833667335, 0.021042084168336674, 0.01603206412825651, 0.004008016032064128, 0.0070140280561122245, 0.002004008016032064, 0.01002004008016032, 0.009018036072144289, 0.002004008016032064, 0.0, 0.0, 0.002004008016032064, 0.0, 0.0, 0.0, 0.0], \"type\": \"bar\", \"uid\": \"de5aab10-6da5-48c6-ab44-1336b83af774\"}, {\"x\": [\"Jammu and Kashmir\", \"Punjab\", \"Tamil Nadu\", \"Assam\", \"Uttar Pradesh\", \"Haryana\", \"Karnataka\", \"NCT of Delhi\", \"West Bengal\", \"Odisha\", \"Kerala\", \"Uttarakhand\", \"Manipur\", \"Bihar\", \"Maharashtra\", \"Gujarat\", \"Jharkhand\", \"Andhra Pradesh\", \"Rajasthan\", \"Himachal Pradesh\", \"Chandigarh\", \"Telangana\", \"Madhya Pradesh\", \"Tripura\", \"Chhattisgarh\", \"Puducherry\", \"Meghalaya\", \"Nagaland\", \"Arunachal Pradesh\", \"Goa\", \"Mizoram\", \"Andaman and Nicobar\", \"Sikkim\", \"Daman and Diu\", \"Dadra and Nagar Haveli\"], \"y\": [0.16390041493775934, 0.08921161825726141, 0.11203319502074689, 0.12655601659751037, 0.06327800829875518, 0.03319502074688797, 0.0487551867219917, 0.02074688796680498, 0.02074688796680498, 0.046680497925311204, 0.02074688796680498, 0.024896265560165973, 0.03319502074688797, 0.01867219917012448, 0.011410788381742738, 0.004149377593360996, 0.017634854771784232, 0.023858921161825725, 0.01867219917012448, 0.016597510373443983, 0.007261410788381743, 0.012448132780082987, 0.007261410788381743, 0.016597510373443983, 0.01037344398340249, 0.014522821576763486, 0.006224066390041493, 0.002074688796680498, 0.004149377593360996, 0.002074688796680498, 0.001037344398340249, 0.001037344398340249, 0.0, 0.0, 0.0], \"type\": \"bar\", \"uid\": \"44dad925-3603-45a7-8afc-96ffd4d465db\"}, {\"x\": [\"Jammu and Kashmir\", \"Punjab\", \"Tamil Nadu\", \"Assam\", \"Uttar Pradesh\", \"Haryana\", \"Karnataka\", \"NCT of Delhi\", \"West Bengal\", \"Odisha\", \"Kerala\", \"Uttarakhand\", \"Manipur\", \"Bihar\", \"Maharashtra\", \"Gujarat\", \"Jharkhand\", \"Andhra Pradesh\", \"Rajasthan\", \"Himachal Pradesh\", \"Chandigarh\", \"Telangana\", \"Madhya Pradesh\", \"Tripura\", \"Chhattisgarh\", \"Puducherry\", \"Meghalaya\", \"Nagaland\", \"Arunachal Pradesh\", \"Goa\", \"Mizoram\", \"Andaman and Nicobar\", \"Sikkim\", \"Daman and Diu\", \"Dadra and Nagar Haveli\"], \"y\": [0.27236315086782376, 0.08678237650200267, 0.044058744993324434, 0.09746328437917223, 0.029372496662216287, 0.01602136181575434, 0.04005340453938585, 0.009345794392523364, 0.03204272363150868, 0.0026702269692923898, 0.05740987983978638, 0.00801068090787717, 0.014686248331108143, 0.07209612817089453, 0.044058744993324434, 0.00801068090787717, 0.04138851802403204, 0.02403204272363151, 0.018691588785046728, 0.0026702269692923898, 0.006675567423230975, 0.017356475300400534, 0.03471295060080107, 0.004005340453938585, 0.0026702269692923898, 0.006675567423230975, 0.0013351134846461949, 0.0026702269692923898, 0.0013351134846461949, 0.0013351134846461949, 0.0, 0.0, 0.0, 0.0, 0.0], \"type\": \"bar\", \"uid\": \"01daedb7-109c-43a5-a87a-e05376167ef3\"}, {\"x\": [\"Jammu and Kashmir\", \"Punjab\", \"Tamil Nadu\", \"Assam\", \"Uttar Pradesh\", \"Haryana\", \"Karnataka\", \"NCT of Delhi\", \"West Bengal\", \"Odisha\", \"Kerala\", \"Uttarakhand\", \"Manipur\", \"Bihar\", \"Maharashtra\", \"Gujarat\", \"Jharkhand\", \"Andhra Pradesh\", \"Rajasthan\", \"Himachal Pradesh\", \"Chandigarh\", \"Telangana\", \"Madhya Pradesh\", \"Tripura\", \"Chhattisgarh\", \"Puducherry\", \"Meghalaya\", \"Nagaland\", \"Arunachal Pradesh\", \"Goa\", \"Mizoram\", \"Andaman and Nicobar\", \"Sikkim\", \"Daman and Diu\", \"Dadra and Nagar Haveli\"], \"y\": [0.17427385892116182, 0.07053941908713693, 0.07468879668049792, 0.14661134163208853, 0.04564315352697095, 0.029045643153526972, 0.05255878284923928, 0.008298755186721992, 0.04702627939142462, 0.015214384508990318, 0.051175656984785614, 0.005532503457814661, 0.02074688796680498, 0.017980636237897647, 0.035961272475795295, 0.013831258644536652, 0.05532503457814661, 0.022130013831258646, 0.015214384508990318, 0.011065006915629323, 0.013831258644536652, 0.005532503457814661, 0.008298755186721992, 0.02627939142461964, 0.0027662517289073307, 0.016597510373443983, 0.005532503457814661, 0.0, 0.0013831258644536654, 0.004149377593360996, 0.0013831258644536654, 0.0, 0.0, 0.0013831258644536654, 0.0], \"type\": \"bar\", \"uid\": \"fe2e1e50-9cbb-459c-82d0-e773856bdebe\"}, {\"x\": [\"Jammu and Kashmir\", \"Punjab\", \"Tamil Nadu\", \"Assam\", \"Uttar Pradesh\", \"Haryana\", \"Karnataka\", \"NCT of Delhi\", \"West Bengal\", \"Odisha\", \"Kerala\", \"Uttarakhand\", \"Manipur\", \"Bihar\", \"Maharashtra\", \"Gujarat\", \"Jharkhand\", \"Andhra Pradesh\", \"Rajasthan\", \"Himachal Pradesh\", \"Chandigarh\", \"Telangana\", \"Madhya Pradesh\", \"Tripura\", \"Chhattisgarh\", \"Puducherry\", \"Meghalaya\", \"Nagaland\", \"Arunachal Pradesh\", \"Goa\", \"Mizoram\", \"Andaman and Nicobar\", \"Sikkim\", \"Daman and Diu\", \"Dadra and Nagar Haveli\"], \"y\": [0.16952380952380952, 0.16095238095238096, 0.054285714285714284, 0.05523809523809524, 0.05333333333333334, 0.054285714285714284, 0.06857142857142857, 0.04857142857142857, 0.01619047619047619, 0.007619047619047619, 0.04380952380952381, 0.017142857142857144, 0.012380952380952381, 0.04666666666666667, 0.01904761904761905, 0.011428571428571429, 0.0380952380952381, 0.013333333333333334, 0.025714285714285714, 0.01904761904761905, 0.009523809523809525, 0.01619047619047619, 0.006666666666666667, 0.013333333333333334, 0.0038095238095238095, 0.008571428571428572, 0.0, 0.0009523809523809524, 0.002857142857142857, 0.002857142857142857, 0.0, 0.0, 0.0, 0.0, 0.0], \"type\": \"bar\", \"uid\": \"f3149833-02bf-4891-8352-53ffc137fc42\"}, {\"x\": [\"Jammu and Kashmir\", \"Punjab\", \"Tamil Nadu\", \"Assam\", \"Uttar Pradesh\", \"Haryana\", \"Karnataka\", \"NCT of Delhi\", \"West Bengal\", \"Odisha\", \"Kerala\", \"Uttarakhand\", \"Manipur\", \"Bihar\", \"Maharashtra\", \"Gujarat\", \"Jharkhand\", \"Andhra Pradesh\", \"Rajasthan\", \"Himachal Pradesh\", \"Chandigarh\", \"Telangana\", \"Madhya Pradesh\", \"Tripura\", \"Chhattisgarh\", \"Puducherry\", \"Meghalaya\", \"Nagaland\", \"Arunachal Pradesh\", \"Goa\", \"Mizoram\", \"Andaman and Nicobar\", \"Sikkim\", \"Daman and Diu\", \"Dadra and Nagar Haveli\"], \"y\": [0.20530367835757057, 0.174508126603935, 0.12660393498716851, 0.01710863986313088, 0.06244653550042772, 0.05218135158254919, 0.032506415739948676, 0.032506415739948676, 0.0213857998289136, 0.009409751924721984, 0.0290846877673225, 0.020530367835757058, 0.003421727972626176, 0.016253207869974338, 0.059880239520958084, 0.026518391787852865, 0.0051325919589392645, 0.016253207869974338, 0.022241231822070145, 0.00855431993156544, 0.01710863986313088, 0.007698887938408896, 0.00855431993156544, 0.006843455945252352, 0.00855431993156544, 0.0051325919589392645, 0.000855431993156544, 0.0, 0.000855431993156544, 0.001710863986313088, 0.0, 0.000855431993156544, 0.0, 0.0, 0.0], \"type\": \"bar\", \"uid\": \"6cfb8105-ca1c-4b2a-bbc4-2c711bb26b88\"}, {\"x\": [\"Jammu and Kashmir\", \"Punjab\", \"Tamil Nadu\", \"Assam\", \"Uttar Pradesh\", \"Haryana\", \"Karnataka\", \"NCT of Delhi\", \"West Bengal\", \"Odisha\", \"Kerala\", \"Uttarakhand\", \"Manipur\", \"Bihar\", \"Maharashtra\", \"Gujarat\", \"Jharkhand\", \"Andhra Pradesh\", \"Rajasthan\", \"Himachal Pradesh\", \"Chandigarh\", \"Telangana\", \"Madhya Pradesh\", \"Tripura\", \"Chhattisgarh\", \"Puducherry\", \"Meghalaya\", \"Nagaland\", \"Arunachal Pradesh\", \"Goa\", \"Mizoram\", \"Andaman and Nicobar\", \"Sikkim\", \"Daman and Diu\", \"Dadra and Nagar Haveli\"], \"y\": [0.1806020066889632, 0.1716833890746934, 0.07246376811594203, 0.0189520624303233, 0.030100334448160536, 0.06577480490523968, 0.026755852842809364, 0.06020066889632107, 0.017837235228539576, 0.023411371237458192, 0.033444816053511704, 0.01560758082497213, 0.013377926421404682, 0.014492753623188406, 0.03121516164994426, 0.008918617614269788, 0.010033444816053512, 0.06800445930880714, 0.017837235228539576, 0.022296544035674472, 0.010033444816053512, 0.006688963210702341, 0.005574136008918618, 0.026755852842809364, 0.017837235228539576, 0.0033444816053511705, 0.010033444816053512, 0.013377926421404682, 0.0011148272017837235, 0.002229654403567447, 0.0, 0.0, 0.0, 0.0, 0.0], \"type\": \"bar\", \"uid\": \"de33a184-03e0-4c61-8974-0ec8f882d454\"}, {\"x\": [\"Jammu and Kashmir\", \"Punjab\", \"Tamil Nadu\", \"Assam\", \"Uttar Pradesh\", \"Haryana\", \"Karnataka\", \"NCT of Delhi\", \"West Bengal\", \"Odisha\", \"Kerala\", \"Uttarakhand\", \"Manipur\", \"Bihar\", \"Maharashtra\", \"Gujarat\", \"Jharkhand\", \"Andhra Pradesh\", \"Rajasthan\", \"Himachal Pradesh\", \"Chandigarh\", \"Telangana\", \"Madhya Pradesh\", \"Tripura\", \"Chhattisgarh\", \"Puducherry\", \"Meghalaya\", \"Nagaland\", \"Arunachal Pradesh\", \"Goa\", \"Mizoram\", \"Andaman and Nicobar\", \"Sikkim\", \"Daman and Diu\", \"Dadra and Nagar Haveli\"], \"y\": [0.22536496350364962, 0.14324817518248176, 0.16149635036496351, 0.03923357664233577, 0.037408759124087594, 0.03467153284671533, 0.017335766423357664, 0.06113138686131387, 0.028284671532846715, 0.02737226277372263, 0.020985401459854013, 0.014598540145985401, 0.008211678832116789, 0.028284671532846715, 0.025547445255474453, 0.010036496350364963, 0.002737226277372263, 0.040145985401459854, 0.010036496350364963, 0.009124087591240875, 0.017335766423357664, 0.008211678832116789, 0.004562043795620438, 0.006386861313868613, 0.011861313868613138, 0.0018248175182481751, 0.0, 0.0, 0.0, 0.0018248175182481751, 0.002737226277372263, 0.0, 0.0, 0.0, 0.0], \"type\": \"bar\", \"uid\": \"faaecb38-520a-4ea1-ae8e-276e726567d6\"}, {\"x\": [\"Jammu and Kashmir\", \"Punjab\", \"Tamil Nadu\", \"Assam\", \"Uttar Pradesh\", \"Haryana\", \"Karnataka\", \"NCT of Delhi\", \"West Bengal\", \"Odisha\", \"Kerala\", \"Uttarakhand\", \"Manipur\", \"Bihar\", \"Maharashtra\", \"Gujarat\", \"Jharkhand\", \"Andhra Pradesh\", \"Rajasthan\", \"Himachal Pradesh\", \"Chandigarh\", \"Telangana\", \"Madhya Pradesh\", \"Tripura\", \"Chhattisgarh\", \"Puducherry\", \"Meghalaya\", \"Nagaland\", \"Arunachal Pradesh\", \"Goa\", \"Mizoram\", \"Andaman and Nicobar\", \"Sikkim\", \"Daman and Diu\", \"Dadra and Nagar Haveli\"], \"y\": [0.21641337386018236, 0.12279635258358662, 0.1513677811550152, 0.02857142857142857, 0.04012158054711246, 0.031610942249240125, 0.015197568389057751, 0.02066869300911854, 0.060790273556231005, 0.015197568389057751, 0.03951367781155015, 0.01641337386018237, 0.013373860182370821, 0.03708206686930091, 0.015805471124620062, 0.029787234042553193, 0.02857142857142857, 0.03343465045592705, 0.01641337386018237, 0.00851063829787234, 0.015197568389057751, 0.0060790273556231, 0.01094224924012158, 0.00364741641337386, 0.006686930091185411, 0.00851063829787234, 0.0012158054711246201, 0.0, 0.00182370820668693, 0.0024316109422492403, 0.0012158054711246201, 0.0, 0.0006079027355623101, 0.0, 0.0], \"type\": \"bar\", \"uid\": \"6dc45b3f-7fd6-4210-a4c0-569214760a1d\"}, {\"x\": [\"Jammu and Kashmir\", \"Punjab\", \"Tamil Nadu\", \"Assam\", \"Uttar Pradesh\", \"Haryana\", \"Karnataka\", \"NCT of Delhi\", \"West Bengal\", \"Odisha\", \"Kerala\", \"Uttarakhand\", \"Manipur\", \"Bihar\", \"Maharashtra\", \"Gujarat\", \"Jharkhand\", \"Andhra Pradesh\", \"Rajasthan\", \"Himachal Pradesh\", \"Chandigarh\", \"Telangana\", \"Madhya Pradesh\", \"Tripura\", \"Chhattisgarh\", \"Puducherry\", \"Meghalaya\", \"Nagaland\", \"Arunachal Pradesh\", \"Goa\", \"Mizoram\", \"Andaman and Nicobar\", \"Sikkim\", \"Daman and Diu\", \"Dadra and Nagar Haveli\"], \"y\": [0.19719407638347622, 0.10989867498051442, 0.12081060015588464, 0.09197194076383476, 0.026500389711613406, 0.04520654715510522, 0.042868277474668745, 0.021823850350740453, 0.0779423226812159, 0.025720966484801246, 0.01636788776305534, 0.005455962587685113, 0.014809041309431021, 0.017926734216679657, 0.01636788776305534, 0.0171473109898675, 0.011691348402182385, 0.027279812938425563, 0.014029618082618862, 0.029618082618862042, 0.013250194855806703, 0.00857365549493375, 0.007014809041309431, 0.011691348402182385, 0.00857365549493375, 0.005455962587685113, 0.006235385814497272, 0.000779423226812159, 0.003897116134060795, 0.003117692907248636, 0.000779423226812159, 0.0, 0.0, 0.0, 0.0], \"type\": \"bar\", \"uid\": \"17fbd762-e707-4c8d-8071-b850e2803a22\"}, {\"x\": [\"Jammu and Kashmir\", \"Punjab\", \"Tamil Nadu\", \"Assam\", \"Uttar Pradesh\", \"Haryana\", \"Karnataka\", \"NCT of Delhi\", \"West Bengal\", \"Odisha\", \"Kerala\", \"Uttarakhand\", \"Manipur\", \"Bihar\", \"Maharashtra\", \"Gujarat\", \"Jharkhand\", \"Andhra Pradesh\", \"Rajasthan\", \"Himachal Pradesh\", \"Chandigarh\", \"Telangana\", \"Madhya Pradesh\", \"Tripura\", \"Chhattisgarh\", \"Puducherry\", \"Meghalaya\", \"Nagaland\", \"Arunachal Pradesh\", \"Goa\", \"Mizoram\", \"Andaman and Nicobar\", \"Sikkim\", \"Daman and Diu\", \"Dadra and Nagar Haveli\"], \"y\": [0.21171171171171171, 0.14684684684684685, 0.09549549549549549, 0.05675675675675676, 0.03063063063063063, 0.03963963963963964, 0.05045045045045045, 0.027927927927927927, 0.017117117117117116, 0.016216216216216217, 0.01981981981981982, 0.018018018018018018, 0.014414414414414415, 0.036936936936936934, 0.027927927927927927, 0.03063063063063063, 0.016216216216216217, 0.02252252252252252, 0.02072072072072072, 0.015315315315315315, 0.0045045045045045045, 0.009009009009009009, 0.024324324324324326, 0.011711711711711712, 0.009009009009009009, 0.0036036036036036037, 0.013513513513513514, 0.006306306306306306, 0.0009009009009009009, 0.0018018018018018018, 0.0, 0.0, 0.0, 0.0, 0.0], \"type\": \"bar\", \"uid\": \"e95ef251-835a-4eab-801b-ec396fc91d60\"}, {\"x\": [\"Jammu and Kashmir\", \"Punjab\", \"Tamil Nadu\", \"Assam\", \"Uttar Pradesh\", \"Haryana\", \"Karnataka\", \"NCT of Delhi\", \"West Bengal\", \"Odisha\", \"Kerala\", \"Uttarakhand\", \"Manipur\", \"Bihar\", \"Maharashtra\", \"Gujarat\", \"Jharkhand\", \"Andhra Pradesh\", \"Rajasthan\", \"Himachal Pradesh\", \"Chandigarh\", \"Telangana\", \"Madhya Pradesh\", \"Tripura\", \"Chhattisgarh\", \"Puducherry\", \"Meghalaya\", \"Nagaland\", \"Arunachal Pradesh\", \"Goa\", \"Mizoram\", \"Andaman and Nicobar\", \"Sikkim\", \"Daman and Diu\", \"Dadra and Nagar Haveli\"], \"y\": [0.16152597402597402, 0.1956168831168831, 0.09172077922077922, 0.05032467532467533, 0.022727272727272728, 0.03814935064935065, 0.05113636363636364, 0.01948051948051948, 0.021915584415584416, 0.037337662337662336, 0.022727272727272728, 0.012175324675324676, 0.04626623376623377, 0.017045454545454544, 0.05844155844155844, 0.007305194805194805, 0.017045454545454544, 0.030032467532467532, 0.01461038961038961, 0.010551948051948052, 0.021103896103896104, 0.006493506493506494, 0.005681818181818182, 0.00487012987012987, 0.00974025974025974, 0.003246753246753247, 0.004058441558441558, 0.0008116883116883117, 0.00487012987012987, 0.002435064935064935, 0.007305194805194805, 0.002435064935064935, 0.0008116883116883117, 0.0, 0.0], \"type\": \"bar\", \"uid\": \"eb1e3ec9-4f91-4201-a4d3-2804aa95402b\"}, {\"x\": [\"Jammu and Kashmir\", \"Punjab\", \"Tamil Nadu\", \"Assam\", \"Uttar Pradesh\", \"Haryana\", \"Karnataka\", \"NCT of Delhi\", \"West Bengal\", \"Odisha\", \"Kerala\", \"Uttarakhand\", \"Manipur\", \"Bihar\", \"Maharashtra\", \"Gujarat\", \"Jharkhand\", \"Andhra Pradesh\", \"Rajasthan\", \"Himachal Pradesh\", \"Chandigarh\", \"Telangana\", \"Madhya Pradesh\", \"Tripura\", \"Chhattisgarh\", \"Puducherry\", \"Meghalaya\", \"Nagaland\", \"Arunachal Pradesh\", \"Goa\", \"Mizoram\", \"Andaman and Nicobar\", \"Sikkim\", \"Daman and Diu\", \"Dadra and Nagar Haveli\"], \"y\": [0.2305334150827713, 0.1213979153893317, 0.041692213366033105, 0.04843654199877376, 0.04721030042918455, 0.03801348865726548, 0.02575107296137339, 0.03740036787247088, 0.06866952789699571, 0.05027590435315757, 0.004291845493562232, 0.01655426118945432, 0.0539546290619252, 0.04721030042918455, 0.03494788473329246, 0.012262415695892091, 0.014714898835070508, 0.015328019619865114, 0.009809932556713672, 0.011649294911097487, 0.015328019619865114, 0.00674432863274065, 0.0030656039239730227, 0.009809932556713672, 0.00797057020232986, 0.001226241569589209, 0.005518087063151441, 0.00797057020232986, 0.00797057020232986, 0.0006131207847946045, 0.001226241569589209, 0.001226241569589209, 0.001226241569589209, 0.0, 0.0], \"type\": \"bar\", \"uid\": \"01febb70-413f-40f3-a925-62b91b9020f2\"}, {\"x\": [\"Jammu and Kashmir\", \"Punjab\", \"Tamil Nadu\", \"Assam\", \"Uttar Pradesh\", \"Haryana\", \"Karnataka\", \"NCT of Delhi\", \"West Bengal\", \"Odisha\", \"Kerala\", \"Uttarakhand\", \"Manipur\", \"Bihar\", \"Maharashtra\", \"Gujarat\", \"Jharkhand\", \"Andhra Pradesh\", \"Rajasthan\", \"Himachal Pradesh\", \"Chandigarh\", \"Telangana\", \"Madhya Pradesh\", \"Tripura\", \"Chhattisgarh\", \"Puducherry\", \"Meghalaya\", \"Nagaland\", \"Arunachal Pradesh\", \"Goa\", \"Mizoram\", \"Andaman and Nicobar\", \"Sikkim\", \"Daman and Diu\", \"Dadra and Nagar Haveli\"], \"y\": [0.15512048192771086, 0.16164658634538154, 0.04568273092369478, 0.056726907630522086, 0.05572289156626506, 0.053714859437751006, 0.028112449799196786, 0.028112449799196786, 0.04919678714859438, 0.058734939759036146, 0.015562248995983935, 0.0035140562248995983, 0.02610441767068273, 0.0607429718875502, 0.020582329317269075, 0.009538152610441768, 0.021586345381526106, 0.022590361445783132, 0.009538152610441768, 0.014056224899598393, 0.01355421686746988, 0.025100401606425703, 0.022590361445783132, 0.01355421686746988, 0.007530120481927711, 0.004016064257028112, 0.005522088353413655, 0.0030120481927710845, 0.004016064257028112, 0.0, 0.0015060240963855422, 0.0030120481927710845, 0.0, 0.0, 0.0], \"type\": \"bar\", \"uid\": \"2a006c8b-2782-4bc9-9f4b-b9e486420294\"}, {\"x\": [\"Jammu and Kashmir\", \"Punjab\", \"Tamil Nadu\", \"Assam\", \"Uttar Pradesh\", \"Haryana\", \"Karnataka\", \"NCT of Delhi\", \"West Bengal\", \"Odisha\", \"Kerala\", \"Uttarakhand\", \"Manipur\", \"Bihar\", \"Maharashtra\", \"Gujarat\", \"Jharkhand\", \"Andhra Pradesh\", \"Rajasthan\", \"Himachal Pradesh\", \"Chandigarh\", \"Telangana\", \"Madhya Pradesh\", \"Tripura\", \"Chhattisgarh\", \"Puducherry\", \"Meghalaya\", \"Nagaland\", \"Arunachal Pradesh\", \"Goa\", \"Mizoram\", \"Andaman and Nicobar\", \"Sikkim\", \"Daman and Diu\", \"Dadra and Nagar Haveli\"], \"y\": [0.2025862068965517, 0.13608374384236452, 0.050492610837438424, 0.07635467980295567, 0.050492610837438424, 0.05357142857142857, 0.02586206896551724, 0.03017241379310345, 0.022167487684729065, 0.05110837438423645, 0.04864532019704434, 0.0024630541871921183, 0.017241379310344827, 0.027093596059113302, 0.02770935960591133, 0.0166256157635468, 0.01847290640394089, 0.04064039408866995, 0.008620689655172414, 0.01539408866995074, 0.01539408866995074, 0.017241379310344827, 0.0067733990147783255, 0.008004926108374385, 0.013546798029556651, 0.0018472906403940886, 0.0049261083743842365, 0.003078817733990148, 0.003694581280788177, 0.0018472906403940886, 0.0006157635467980296, 0.0012315270935960591, 0.0, 0.0, 0.0], \"type\": \"bar\", \"uid\": \"83c7a8e1-562a-4d55-833d-f5170ed91ff0\"}, {\"x\": [\"Jammu and Kashmir\", \"Punjab\", \"Tamil Nadu\", \"Assam\", \"Uttar Pradesh\", \"Haryana\", \"Karnataka\", \"NCT of Delhi\", \"West Bengal\", \"Odisha\", \"Kerala\", \"Uttarakhand\", \"Manipur\", \"Bihar\", \"Maharashtra\", \"Gujarat\", \"Jharkhand\", \"Andhra Pradesh\", \"Rajasthan\", \"Himachal Pradesh\", \"Chandigarh\", \"Telangana\", \"Madhya Pradesh\", \"Tripura\", \"Chhattisgarh\", \"Puducherry\", \"Meghalaya\", \"Nagaland\", \"Arunachal Pradesh\", \"Goa\", \"Mizoram\", \"Andaman and Nicobar\", \"Sikkim\", \"Daman and Diu\", \"Dadra and Nagar Haveli\"], \"y\": [0.21954314720812182, 0.12373096446700507, 0.03299492385786802, 0.10596446700507614, 0.03934010152284264, 0.02728426395939086, 0.02728426395939086, 0.02728426395939086, 0.02982233502538071, 0.04314720812182741, 0.03362944162436548, 0.01015228426395939, 0.020939086294416244, 0.02030456852791878, 0.031091370558375634, 0.0038071065989847717, 0.048223350253807105, 0.02728426395939086, 0.008248730964467006, 0.007614213197969543, 0.015862944162436547, 0.014593908629441625, 0.01015228426395939, 0.01649746192893401, 0.02284263959390863, 0.0, 0.006979695431472081, 0.005076142131979695, 0.011421319796954314, 0.005710659898477157, 0.0025380710659898475, 0.0006345177664974619, 0.0, 0.0, 0.0], \"type\": \"bar\", \"uid\": \"3e7b5787-6328-457c-b096-12c213ab4e08\"}, {\"x\": [\"Jammu and Kashmir\", \"Punjab\", \"Tamil Nadu\", \"Assam\", \"Uttar Pradesh\", \"Haryana\", \"Karnataka\", \"NCT of Delhi\", \"West Bengal\", \"Odisha\", \"Kerala\", \"Uttarakhand\", \"Manipur\", \"Bihar\", \"Maharashtra\", \"Gujarat\", \"Jharkhand\", \"Andhra Pradesh\", \"Rajasthan\", \"Himachal Pradesh\", \"Chandigarh\", \"Telangana\", \"Madhya Pradesh\", \"Tripura\", \"Chhattisgarh\", \"Puducherry\", \"Meghalaya\", \"Nagaland\", \"Arunachal Pradesh\", \"Goa\", \"Mizoram\", \"Andaman and Nicobar\", \"Sikkim\", \"Daman and Diu\", \"Dadra and Nagar Haveli\"], \"y\": [0.1952147906470908, 0.14192495921696574, 0.05600870038064165, 0.09679173463839043, 0.036976617727025554, 0.02773246329526917, 0.03969548667754214, 0.034801522566612286, 0.018488308863512777, 0.03969548667754214, 0.03915171288743882, 0.009244154431756389, 0.02936378466557912, 0.018488308863512777, 0.016856987493202826, 0.011963023382272975, 0.013050570962479609, 0.029907558455682437, 0.01957585644371941, 0.009244154431756389, 0.01631321370309951, 0.023382272974442633, 0.009244154431756389, 0.03262642740619902, 0.005437737901033171, 0.002175095160413268, 0.0076128330614464385, 0.008156606851549755, 0.0032626427406199023, 0.004893964110929853, 0.0016313213703099511, 0.001087547580206634, 0.0, 0.0, 0.0], \"type\": \"bar\", \"uid\": \"d9792ab9-08a6-40fc-8c06-ad696ec769d2\"}, {\"x\": [\"Jammu and Kashmir\", \"Punjab\", \"Tamil Nadu\", \"Assam\", \"Uttar Pradesh\", \"Haryana\", \"Karnataka\", \"NCT of Delhi\", \"West Bengal\", \"Odisha\", \"Kerala\", \"Uttarakhand\", \"Manipur\", \"Bihar\", \"Maharashtra\", \"Gujarat\", \"Jharkhand\", \"Andhra Pradesh\", \"Rajasthan\", \"Himachal Pradesh\", \"Chandigarh\", \"Telangana\", \"Madhya Pradesh\", \"Tripura\", \"Chhattisgarh\", \"Puducherry\", \"Meghalaya\", \"Nagaland\", \"Arunachal Pradesh\", \"Goa\", \"Mizoram\", \"Andaman and Nicobar\", \"Sikkim\", \"Daman and Diu\", \"Dadra and Nagar Haveli\"], \"y\": [0.13202933985330073, 0.1039119804400978, 0.06845965770171149, 0.1980440097799511, 0.02689486552567237, 0.017726161369193152, 0.02506112469437653, 0.02689486552567237, 0.035452322738386305, 0.04706601466992665, 0.06845965770171149, 0.0024449877750611247, 0.03667481662591687, 0.023838630806845965, 0.023838630806845965, 0.009168704156479218, 0.02444987775061125, 0.020171149144254278, 0.0024449877750611247, 0.011002444987775062, 0.006723716381418093, 0.015281173594132029, 0.009779951100244499, 0.019559902200488997, 0.006112469437652812, 0.0018337408312958435, 0.015281173594132029, 0.0018337408312958435, 0.007946210268948655, 0.0024449877750611247, 0.006723716381418093, 0.0006112469437652812, 0.0018337408312958435, 0.0, 0.0], \"type\": \"bar\", \"uid\": \"80c12c83-1d3c-4d72-8309-78aa6f0f8b29\"}], {\"autosize\": true, \"sliders\": [{\"active\": 0, \"currentvalue\": {\"prefix\": \"\"}, \"name\": \"Month\", \"pad\": {\"t\": 37}, \"steps\": [{\"args\": [\"visible\", [true, false, false, false, false, false, false, false, false, false, false, false, false, false, false, false, false, false, false, false, false, false, false, false, false, false, false, false, false, false, false, false, false, false, false, false, false]], \"label\": \"Month 1\", \"method\": \"restyle\"}, {\"args\": [\"visible\", [false, true, false, false, false, false, false, false, false, false, false, false, false, false, false, false, false, false, false, false, false, false, false, false, false, false, false, false, false, false, false, false, false, false, false, false, false]], \"label\": \"Month 2\", \"method\": \"restyle\"}, {\"args\": [\"visible\", [false, false, true, false, false, false, false, false, false, false, false, false, false, false, false, false, false, false, false, false, false, false, false, false, false, false, false, false, false, false, false, false, false, false, false, false, false]], \"label\": \"Month 3\", \"method\": \"restyle\"}, {\"args\": [\"visible\", [false, false, false, true, false, false, false, false, false, false, false, false, false, false, false, false, false, false, false, false, false, false, false, false, false, false, false, false, false, false, false, false, false, false, false, false, false]], \"label\": \"Month 4\", \"method\": \"restyle\"}, {\"args\": [\"visible\", [false, false, false, false, true, false, false, false, false, false, false, false, false, false, false, false, false, false, false, false, false, false, false, false, false, false, false, false, false, false, false, false, false, false, false, false, false]], \"label\": \"Month 5\", \"method\": \"restyle\"}, {\"args\": [\"visible\", [false, false, false, false, false, true, false, false, false, false, false, false, false, false, false, false, false, false, false, false, false, false, false, false, false, false, false, false, false, false, false, false, false, false, false, false, false]], \"label\": \"Month 6\", \"method\": \"restyle\"}, {\"args\": [\"visible\", [false, false, false, false, false, false, true, false, false, false, false, false, false, false, false, false, false, false, false, false, false, false, false, false, false, false, false, false, false, false, false, false, false, false, false, false, false]], \"label\": \"Month 7\", \"method\": \"restyle\"}, {\"args\": [\"visible\", [false, false, false, false, false, false, false, true, false, false, false, false, false, false, false, false, false, false, false, false, false, false, false, false, false, false, false, false, false, false, false, false, false, false, false, false, false]], \"label\": \"Month 8\", \"method\": \"restyle\"}, {\"args\": [\"visible\", [false, false, false, false, false, false, false, false, true, false, false, false, false, false, false, false, false, false, false, false, false, false, false, false, false, false, false, false, false, false, false, false, false, false, false, false, false]], \"label\": \"Month 9\", \"method\": \"restyle\"}, {\"args\": [\"visible\", [false, false, false, false, false, false, false, false, false, true, false, false, false, false, false, false, false, false, false, false, false, false, false, false, false, false, false, false, false, false, false, false, false, false, false, false, false]], \"label\": \"Month 10\", \"method\": \"restyle\"}, {\"args\": [\"visible\", [false, false, false, false, false, false, false, false, false, false, true, false, false, false, false, false, false, false, false, false, false, false, false, false, false, false, false, false, false, false, false, false, false, false, false, false, false]], \"label\": \"Month 11\", \"method\": \"restyle\"}, {\"args\": [\"visible\", [false, false, false, false, false, false, false, false, false, false, false, true, false, false, false, false, false, false, false, false, false, false, false, false, false, false, false, false, false, false, false, false, false, false, false, false, false]], \"label\": \"Month 12\", \"method\": \"restyle\"}, {\"args\": [\"visible\", [false, false, false, false, false, false, false, false, false, false, false, false, true, false, false, false, false, false, false, false, false, false, false, false, false, false, false, false, false, false, false, false, false, false, false, false, false]], \"label\": \"Month 13\", \"method\": \"restyle\"}, {\"args\": [\"visible\", [false, false, false, false, false, false, false, false, false, false, false, false, false, true, false, false, false, false, false, false, false, false, false, false, false, false, false, false, false, false, false, false, false, false, false, false, false]], \"label\": \"Month 14\", \"method\": \"restyle\"}, {\"args\": [\"visible\", [false, false, false, false, false, false, false, false, false, false, false, false, false, false, true, false, false, false, false, false, false, false, false, false, false, false, false, false, false, false, false, false, false, false, false, false, false]], \"label\": \"Month 15\", \"method\": \"restyle\"}, {\"args\": [\"visible\", [false, false, false, false, false, false, false, false, false, false, false, false, false, false, false, true, false, false, false, false, false, false, false, false, false, false, false, false, false, false, false, false, false, false, false, false, false]], \"label\": \"Month 16\", \"method\": \"restyle\"}, {\"args\": [\"visible\", [false, false, false, false, false, false, false, false, false, false, false, false, false, false, false, false, true, false, false, false, false, false, false, false, false, false, false, false, false, false, false, false, false, false, false, false, false]], \"label\": \"Month 17\", \"method\": \"restyle\"}, {\"args\": [\"visible\", [false, false, false, false, false, false, false, false, false, false, false, false, false, false, false, false, false, true, false, false, false, false, false, false, false, false, false, false, false, false, false, false, false, false, false, false, false]], \"label\": \"Month 18\", \"method\": \"restyle\"}, {\"args\": [\"visible\", [false, false, false, false, false, false, false, false, false, false, false, false, false, false, false, false, false, false, true, false, false, false, false, false, false, false, false, false, false, false, false, false, false, false, false, false, false]], \"label\": \"Month 19\", \"method\": \"restyle\"}, {\"args\": [\"visible\", [false, false, false, false, false, false, false, false, false, false, false, false, false, false, false, false, false, false, false, true, false, false, false, false, false, false, false, false, false, false, false, false, false, false, false, false, false]], \"label\": \"Month 20\", \"method\": \"restyle\"}, {\"args\": [\"visible\", [false, false, false, false, false, false, false, false, false, false, false, false, false, false, false, false, false, false, false, false, true, false, false, false, false, false, false, false, false, false, false, false, false, false, false, false, false]], \"label\": \"Month 21\", \"method\": \"restyle\"}, {\"args\": [\"visible\", [false, false, false, false, false, false, false, false, false, false, false, false, false, false, false, false, false, false, false, false, false, true, false, false, false, false, false, false, false, false, false, false, false, false, false, false, false]], \"label\": \"Month 22\", \"method\": \"restyle\"}, {\"args\": [\"visible\", [false, false, false, false, false, false, false, false, false, false, false, false, false, false, false, false, false, false, false, false, false, false, true, false, false, false, false, false, false, false, false, false, false, false, false, false, false]], \"label\": \"Month 23\", \"method\": \"restyle\"}, {\"args\": [\"visible\", [false, false, false, false, false, false, false, false, false, false, false, false, false, false, false, false, false, false, false, false, false, false, false, true, false, false, false, false, false, false, false, false, false, false, false, false, false]], \"label\": \"Month 24\", \"method\": \"restyle\"}, {\"args\": [\"visible\", [false, false, false, false, false, false, false, false, false, false, false, false, false, false, false, false, false, false, false, false, false, false, false, false, true, false, false, false, false, false, false, false, false, false, false, false, false]], \"label\": \"Month 25\", \"method\": \"restyle\"}, {\"args\": [\"visible\", [false, false, false, false, false, false, false, false, false, false, false, false, false, false, false, false, false, false, false, false, false, false, false, false, false, true, false, false, false, false, false, false, false, false, false, false, false]], \"label\": \"Month 26\", \"method\": \"restyle\"}, {\"args\": [\"visible\", [false, false, false, false, false, false, false, false, false, false, false, false, false, false, false, false, false, false, false, false, false, false, false, false, false, false, true, false, false, false, false, false, false, false, false, false, false]], \"label\": \"Month 27\", \"method\": \"restyle\"}, {\"args\": [\"visible\", [false, false, false, false, false, false, false, false, false, false, false, false, false, false, false, false, false, false, false, false, false, false, false, false, false, false, false, true, false, false, false, false, false, false, false, false, false]], \"label\": \"Month 28\", \"method\": \"restyle\"}, {\"args\": [\"visible\", [false, false, false, false, false, false, false, false, false, false, false, false, false, false, false, false, false, false, false, false, false, false, false, false, false, false, false, false, true, false, false, false, false, false, false, false, false]], \"label\": \"Month 29\", \"method\": \"restyle\"}, {\"args\": [\"visible\", [false, false, false, false, false, false, false, false, false, false, false, false, false, false, false, false, false, false, false, false, false, false, false, false, false, false, false, false, false, true, false, false, false, false, false, false, false]], \"label\": \"Month 30\", \"method\": \"restyle\"}, {\"args\": [\"visible\", [false, false, false, false, false, false, false, false, false, false, false, false, false, false, false, false, false, false, false, false, false, false, false, false, false, false, false, false, false, false, true, false, false, false, false, false, false]], \"label\": \"Month 31\", \"method\": \"restyle\"}, {\"args\": [\"visible\", [false, false, false, false, false, false, false, false, false, false, false, false, false, false, false, false, false, false, false, false, false, false, false, false, false, false, false, false, false, false, false, true, false, false, false, false, false]], \"label\": \"Month 32\", \"method\": \"restyle\"}, {\"args\": [\"visible\", [false, false, false, false, false, false, false, false, false, false, false, false, false, false, false, false, false, false, false, false, false, false, false, false, false, false, false, false, false, false, false, false, true, false, false, false, false]], \"label\": \"Month 33\", \"method\": \"restyle\"}, {\"args\": [\"visible\", [false, false, false, false, false, false, false, false, false, false, false, false, false, false, false, false, false, false, false, false, false, false, false, false, false, false, false, false, false, false, false, false, false, true, false, false, false]], \"label\": \"Month 34\", \"method\": \"restyle\"}, {\"args\": [\"visible\", [false, false, false, false, false, false, false, false, false, false, false, false, false, false, false, false, false, false, false, false, false, false, false, false, false, false, false, false, false, false, false, false, false, false, true, false, false]], \"label\": \"Month 35\", \"method\": \"restyle\"}, {\"args\": [\"visible\", [false, false, false, false, false, false, false, false, false, false, false, false, false, false, false, false, false, false, false, false, false, false, false, false, false, false, false, false, false, false, false, false, false, false, false, true, false]], \"label\": \"Month 36\", \"method\": \"restyle\"}, {\"args\": [\"visible\", [false, false, false, false, false, false, false, false, false, false, false, false, false, false, false, false, false, false, false, false, false, false, false, false, false, false, false, false, false, false, false, false, false, false, false, false, true]], \"label\": \"Month 37\", \"method\": \"restyle\"}], \"y\": 1.5}], \"title\": {\"text\": \"Plot#2: Monthwise Event Frequency\"}, \"xaxis\": {\"automargin\": true, \"title\": {\"text\": \"States\"}}, \"yaxis\": {\"automargin\": true, \"title\": {\"text\": \"Normalized Frequency\"}}}, {\"showLink\": false, \"linkText\": \"Export to plot.ly\", \"plotlyServerURL\": \"https://plot.ly\"})});</script><script type=\"text/javascript\">window.addEventListener(\"resize\", function(){window._Plotly.Plots.resize(document.getElementById(\"98d7c184-9941-4b3b-ac32-89f1c2706617\"));});</script>"
      ]
     },
     "metadata": {},
     "output_type": "display_data"
    }
   ],
   "source": [
    "steps = []\n",
    "for i in range(Month_distribution.index.sort_values().max()):\n",
    "    step = dict(\n",
    "                method = 'restyle',  \n",
    "                args = ['visible', [False] * Month_distribution.index.sort_values().max()],\n",
    "                label= 'Month ' + str(i+1)\n",
    "                )\n",
    "    step['args'][1][i] = True # Toggle i'th trace to \"visible\"\n",
    "    steps.append(step)\n",
    "    sliders = [dict(\n",
    "                    active = 0,\n",
    "                    currentvalue = {\"prefix\": \"\"},\n",
    "                    pad = {\"t\": Month_distribution.index.sort_values().max()},\n",
    "                    steps = steps,\n",
    "                    name= 'Month',\n",
    "                    y= 1.5\n",
    "                    )]\n",
    "layout = dict(sliders=sliders,\n",
    "              title='Plot#2: Monthwise Event Frequency',\n",
    "              autosize=True,\n",
    "              yaxis=go.layout.YAxis(\n",
    "                                    title='Normalized Frequency',\n",
    "                                    automargin=True,\n",
    "                                   ),\n",
    "              xaxis=go.layout.XAxis(\n",
    "                                    title='States',\n",
    "                                    automargin=True,\n",
    "                                   ),\n",
    "             )\n",
    "fig = dict(data=Slider_data2[0], layout=layout)\n",
    "iplot(fig, filename='Slider 2')"
   ]
  }
 ],
 "metadata": {
  "kernelspec": {
   "display_name": "Python 3",
   "language": "python",
   "name": "python3"
  },
  "language_info": {
   "codemirror_mode": {
    "name": "ipython",
    "version": 3
   },
   "file_extension": ".py",
   "mimetype": "text/x-python",
   "name": "python",
   "nbconvert_exporter": "python",
   "pygments_lexer": "ipython3",
   "version": "3.6.8"
  }
 },
 "nbformat": 4,
 "nbformat_minor": 2
}
