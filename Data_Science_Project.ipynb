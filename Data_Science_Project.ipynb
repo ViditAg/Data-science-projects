{
 "cells": [
  {
   "cell_type": "code",
   "execution_count": 1,
   "metadata": {},
   "outputs": [],
   "source": [
    "#The Armed Conflict Location & Event Data Project (ACLED) is a disaggregated conflict collection, analysis and crisis\n",
    "#mapping project.\n",
    "#ACLED collects the dates, actors, types of violence, locations, and fatalities of all reported political violence \n",
    "#and protest events.\n",
    "#Political violence and protest includes events that occur within civil wars and periods of instability, public protest \n",
    "#and regime breakdown.\n",
    "# Data collected from India during the period of 26-January-2016 to 26-January-2019\n",
    "#source: https://www.acleddata.com/data/\n",
    "#Raleigh, Clionadh, Andrew Linke, Håvard Hegre and Joakim Karlsen. (2010).\n",
    "#“Introducing ACLED-Armed Conflict Location and Event Data.” Journal of Peace\n",
    "#Research 47(5) 651-660."
   ]
  },
  {
   "cell_type": "code",
   "execution_count": 2,
   "metadata": {},
   "outputs": [],
   "source": [
    "import numpy as np\n",
    "import pandas as pd\n",
    "from datetime import datetime, timedelta\n",
    "from scipy import stats\n",
    "#import matplotlib.pyplot as plt\n",
    "%matplotlib inline\n",
    "import seaborn as sns"
   ]
  },
  {
   "cell_type": "code",
   "execution_count": 3,
   "metadata": {},
   "outputs": [
    {
     "data": {
      "text/html": [
       "<script type=\"text/javascript\">window.PlotlyConfig = {MathJaxConfig: 'local'};</script><script type=\"text/javascript\">if (window.MathJax) {MathJax.Hub.Config({SVG: {font: \"STIX-Web\"}});}</script><script>requirejs.config({paths: { 'plotly': ['https://cdn.plot.ly/plotly-latest.min']},});if(!window._Plotly) {require(['plotly'],function(plotly) {window._Plotly=plotly;});}</script>"
      ],
      "text/vnd.plotly.v1+html": [
       "<script type=\"text/javascript\">window.PlotlyConfig = {MathJaxConfig: 'local'};</script><script type=\"text/javascript\">if (window.MathJax) {MathJax.Hub.Config({SVG: {font: \"STIX-Web\"}});}</script><script>requirejs.config({paths: { 'plotly': ['https://cdn.plot.ly/plotly-latest.min']},});if(!window._Plotly) {require(['plotly'],function(plotly) {window._Plotly=plotly;});}</script>"
      ]
     },
     "metadata": {},
     "output_type": "display_data"
    }
   ],
   "source": [
    "from plotly.offline import init_notebook_mode, iplot\n",
    "init_notebook_mode(connected=True)\n",
    "import plotly.graph_objs as go\n",
    "from plotly import tools"
   ]
  },
  {
   "cell_type": "code",
   "execution_count": 4,
   "metadata": {},
   "outputs": [],
   "source": [
    "pd.set_option('display.max_columns', 50)"
   ]
  },
  {
   "cell_type": "code",
   "execution_count": 5,
   "metadata": {},
   "outputs": [],
   "source": [
    "data=pd.read_csv('ACLED_data_India.csv')"
   ]
  },
  {
   "cell_type": "code",
   "execution_count": 6,
   "metadata": {},
   "outputs": [],
   "source": [
    "# load codes description data\n",
    "inter_codes=pd.read_csv('Inter_codes.csv')\n",
    "geo_precision_codes=pd.read_csv('geo_precision_code.csv')\n",
    "time_precision_codes=pd.read_csv('time_precision_code.csv')"
   ]
  },
  {
   "cell_type": "code",
   "execution_count": 7,
   "metadata": {},
   "outputs": [
    {
     "data": {
      "text/html": [
       "<div>\n",
       "<style scoped>\n",
       "    .dataframe tbody tr th:only-of-type {\n",
       "        vertical-align: middle;\n",
       "    }\n",
       "\n",
       "    .dataframe tbody tr th {\n",
       "        vertical-align: top;\n",
       "    }\n",
       "\n",
       "    .dataframe thead th {\n",
       "        text-align: right;\n",
       "    }\n",
       "</style>\n",
       "<table border=\"1\" class=\"dataframe\">\n",
       "  <thead>\n",
       "    <tr style=\"text-align: right;\">\n",
       "      <th></th>\n",
       "      <th>data_id</th>\n",
       "      <th>iso</th>\n",
       "      <th>event_id_cnty</th>\n",
       "      <th>event_id_no_cnty</th>\n",
       "      <th>event_date</th>\n",
       "      <th>year</th>\n",
       "      <th>time_precision</th>\n",
       "      <th>event_type</th>\n",
       "      <th>actor1</th>\n",
       "      <th>assoc_actor_1</th>\n",
       "      <th>inter1</th>\n",
       "      <th>actor2</th>\n",
       "      <th>assoc_actor_2</th>\n",
       "      <th>inter2</th>\n",
       "      <th>interaction</th>\n",
       "      <th>region</th>\n",
       "      <th>country</th>\n",
       "      <th>admin1</th>\n",
       "      <th>admin2</th>\n",
       "      <th>admin3</th>\n",
       "      <th>location</th>\n",
       "      <th>latitude</th>\n",
       "      <th>longitude</th>\n",
       "      <th>geo_precision</th>\n",
       "      <th>source</th>\n",
       "      <th>source_scale</th>\n",
       "      <th>notes</th>\n",
       "      <th>fatalities</th>\n",
       "      <th>timestamp</th>\n",
       "      <th>iso3</th>\n",
       "    </tr>\n",
       "  </thead>\n",
       "  <tbody>\n",
       "    <tr>\n",
       "      <th>0</th>\n",
       "      <td>2945166</td>\n",
       "      <td>356</td>\n",
       "      <td>IND44426</td>\n",
       "      <td>44426.0</td>\n",
       "      <td>26 January 2019</td>\n",
       "      <td>2019</td>\n",
       "      <td>1</td>\n",
       "      <td>Violence against civilians</td>\n",
       "      <td>Police Forces of India (2014-) Border Security...</td>\n",
       "      <td>NaN</td>\n",
       "      <td>1</td>\n",
       "      <td>Civilians (Pakistan)</td>\n",
       "      <td>NaN</td>\n",
       "      <td>7</td>\n",
       "      <td>17</td>\n",
       "      <td>Southern Asia</td>\n",
       "      <td>India</td>\n",
       "      <td>Jammu and Kashmir</td>\n",
       "      <td>Samba</td>\n",
       "      <td>Samba</td>\n",
       "      <td>Samba</td>\n",
       "      <td>32.5625</td>\n",
       "      <td>75.1199</td>\n",
       "      <td>2</td>\n",
       "      <td>Asian News International</td>\n",
       "      <td>Regional</td>\n",
       "      <td>On 26 Jan, BSF troops fired on an alleged Paki...</td>\n",
       "      <td>0</td>\n",
       "      <td>1548775812</td>\n",
       "      <td>IND</td>\n",
       "    </tr>\n",
       "    <tr>\n",
       "      <th>1</th>\n",
       "      <td>2945167</td>\n",
       "      <td>356</td>\n",
       "      <td>IND44427</td>\n",
       "      <td>44427.0</td>\n",
       "      <td>26 January 2019</td>\n",
       "      <td>2019</td>\n",
       "      <td>1</td>\n",
       "      <td>Battle-No change of territory</td>\n",
       "      <td>Unidentified Armed Group (India)</td>\n",
       "      <td>NaN</td>\n",
       "      <td>3</td>\n",
       "      <td>Military Forces of India (2014-) Rashtriya Rifles</td>\n",
       "      <td>Police Forces of India (2014-) Central Reserve...</td>\n",
       "      <td>1</td>\n",
       "      <td>13</td>\n",
       "      <td>Southern Asia</td>\n",
       "      <td>India</td>\n",
       "      <td>Jammu and Kashmir</td>\n",
       "      <td>Srinagar</td>\n",
       "      <td>Srinagar North</td>\n",
       "      <td>Srinagar</td>\n",
       "      <td>34.0857</td>\n",
       "      <td>74.8056</td>\n",
       "      <td>1</td>\n",
       "      <td>Asian News International; Rising Kashmir</td>\n",
       "      <td>Regional</td>\n",
       "      <td>On 26 Jan, two JeM militants were killed in a ...</td>\n",
       "      <td>2</td>\n",
       "      <td>1548775812</td>\n",
       "      <td>IND</td>\n",
       "    </tr>\n",
       "    <tr>\n",
       "      <th>2</th>\n",
       "      <td>2945168</td>\n",
       "      <td>356</td>\n",
       "      <td>IND44428</td>\n",
       "      <td>44428.0</td>\n",
       "      <td>26 January 2019</td>\n",
       "      <td>2019</td>\n",
       "      <td>1</td>\n",
       "      <td>Riots/Protests</td>\n",
       "      <td>Protesters (India)</td>\n",
       "      <td>NaN</td>\n",
       "      <td>6</td>\n",
       "      <td>NaN</td>\n",
       "      <td>NaN</td>\n",
       "      <td>0</td>\n",
       "      <td>60</td>\n",
       "      <td>Southern Asia</td>\n",
       "      <td>India</td>\n",
       "      <td>Jammu and Kashmir</td>\n",
       "      <td>Pulwama</td>\n",
       "      <td>Pulwama</td>\n",
       "      <td>Arihal</td>\n",
       "      <td>33.8139</td>\n",
       "      <td>74.8937</td>\n",
       "      <td>1</td>\n",
       "      <td>Rising Kashmir</td>\n",
       "      <td>Subnational</td>\n",
       "      <td>On 26 Jan, mourners raised anti-India and pro-...</td>\n",
       "      <td>0</td>\n",
       "      <td>1548775812</td>\n",
       "      <td>IND</td>\n",
       "    </tr>\n",
       "    <tr>\n",
       "      <th>3</th>\n",
       "      <td>2945169</td>\n",
       "      <td>356</td>\n",
       "      <td>IND44429</td>\n",
       "      <td>44429.0</td>\n",
       "      <td>26 January 2019</td>\n",
       "      <td>2019</td>\n",
       "      <td>1</td>\n",
       "      <td>Riots/Protests</td>\n",
       "      <td>Protesters (India)</td>\n",
       "      <td>Journalists (India)</td>\n",
       "      <td>6</td>\n",
       "      <td>NaN</td>\n",
       "      <td>NaN</td>\n",
       "      <td>0</td>\n",
       "      <td>60</td>\n",
       "      <td>Southern Asia</td>\n",
       "      <td>India</td>\n",
       "      <td>Jammu and Kashmir</td>\n",
       "      <td>Srinagar</td>\n",
       "      <td>Srinagar North</td>\n",
       "      <td>Srinagar</td>\n",
       "      <td>34.0857</td>\n",
       "      <td>74.8056</td>\n",
       "      <td>1</td>\n",
       "      <td>Kashmir News Service</td>\n",
       "      <td>Subnational</td>\n",
       "      <td>On 26 Jan, journalists staged a protest rally ...</td>\n",
       "      <td>0</td>\n",
       "      <td>1548775812</td>\n",
       "      <td>IND</td>\n",
       "    </tr>\n",
       "    <tr>\n",
       "      <th>4</th>\n",
       "      <td>2945170</td>\n",
       "      <td>356</td>\n",
       "      <td>IND44430</td>\n",
       "      <td>44430.0</td>\n",
       "      <td>26 January 2019</td>\n",
       "      <td>2019</td>\n",
       "      <td>1</td>\n",
       "      <td>Battle-No change of territory</td>\n",
       "      <td>Military Forces of India (2014-)</td>\n",
       "      <td>Police Forces of India (2014-) Border Security...</td>\n",
       "      <td>1</td>\n",
       "      <td>Military Forces of Pakistan (2018-)</td>\n",
       "      <td>NaN</td>\n",
       "      <td>8</td>\n",
       "      <td>18</td>\n",
       "      <td>Southern Asia</td>\n",
       "      <td>India</td>\n",
       "      <td>Jammu and Kashmir</td>\n",
       "      <td>Poonch</td>\n",
       "      <td>Mendhar</td>\n",
       "      <td>Mankote</td>\n",
       "      <td>33.6233</td>\n",
       "      <td>74.0561</td>\n",
       "      <td>2</td>\n",
       "      <td>Chandigarh Tribune</td>\n",
       "      <td>Subnational</td>\n",
       "      <td>On 26 Jan, no injuries were reported when Indi...</td>\n",
       "      <td>0</td>\n",
       "      <td>1548775812</td>\n",
       "      <td>IND</td>\n",
       "    </tr>\n",
       "  </tbody>\n",
       "</table>\n",
       "</div>"
      ],
      "text/plain": [
       "   data_id  iso event_id_cnty  event_id_no_cnty       event_date  year  \\\n",
       "0  2945166  356      IND44426           44426.0  26 January 2019  2019   \n",
       "1  2945167  356      IND44427           44427.0  26 January 2019  2019   \n",
       "2  2945168  356      IND44428           44428.0  26 January 2019  2019   \n",
       "3  2945169  356      IND44429           44429.0  26 January 2019  2019   \n",
       "4  2945170  356      IND44430           44430.0  26 January 2019  2019   \n",
       "\n",
       "   time_precision                     event_type  \\\n",
       "0               1     Violence against civilians   \n",
       "1               1  Battle-No change of territory   \n",
       "2               1                 Riots/Protests   \n",
       "3               1                 Riots/Protests   \n",
       "4               1  Battle-No change of territory   \n",
       "\n",
       "                                              actor1  \\\n",
       "0  Police Forces of India (2014-) Border Security...   \n",
       "1                   Unidentified Armed Group (India)   \n",
       "2                                 Protesters (India)   \n",
       "3                                 Protesters (India)   \n",
       "4                   Military Forces of India (2014-)   \n",
       "\n",
       "                                       assoc_actor_1  inter1  \\\n",
       "0                                                NaN       1   \n",
       "1                                                NaN       3   \n",
       "2                                                NaN       6   \n",
       "3                                Journalists (India)       6   \n",
       "4  Police Forces of India (2014-) Border Security...       1   \n",
       "\n",
       "                                              actor2  \\\n",
       "0                               Civilians (Pakistan)   \n",
       "1  Military Forces of India (2014-) Rashtriya Rifles   \n",
       "2                                                NaN   \n",
       "3                                                NaN   \n",
       "4                Military Forces of Pakistan (2018-)   \n",
       "\n",
       "                                       assoc_actor_2  inter2  interaction  \\\n",
       "0                                                NaN       7           17   \n",
       "1  Police Forces of India (2014-) Central Reserve...       1           13   \n",
       "2                                                NaN       0           60   \n",
       "3                                                NaN       0           60   \n",
       "4                                                NaN       8           18   \n",
       "\n",
       "          region country             admin1    admin2          admin3  \\\n",
       "0  Southern Asia   India  Jammu and Kashmir     Samba           Samba   \n",
       "1  Southern Asia   India  Jammu and Kashmir  Srinagar  Srinagar North   \n",
       "2  Southern Asia   India  Jammu and Kashmir   Pulwama         Pulwama   \n",
       "3  Southern Asia   India  Jammu and Kashmir  Srinagar  Srinagar North   \n",
       "4  Southern Asia   India  Jammu and Kashmir    Poonch         Mendhar   \n",
       "\n",
       "   location  latitude  longitude  geo_precision  \\\n",
       "0     Samba   32.5625    75.1199              2   \n",
       "1  Srinagar   34.0857    74.8056              1   \n",
       "2    Arihal   33.8139    74.8937              1   \n",
       "3  Srinagar   34.0857    74.8056              1   \n",
       "4   Mankote   33.6233    74.0561              2   \n",
       "\n",
       "                                     source source_scale  \\\n",
       "0                  Asian News International     Regional   \n",
       "1  Asian News International; Rising Kashmir     Regional   \n",
       "2                            Rising Kashmir  Subnational   \n",
       "3                      Kashmir News Service  Subnational   \n",
       "4                        Chandigarh Tribune  Subnational   \n",
       "\n",
       "                                               notes  fatalities   timestamp  \\\n",
       "0  On 26 Jan, BSF troops fired on an alleged Paki...           0  1548775812   \n",
       "1  On 26 Jan, two JeM militants were killed in a ...           2  1548775812   \n",
       "2  On 26 Jan, mourners raised anti-India and pro-...           0  1548775812   \n",
       "3  On 26 Jan, journalists staged a protest rally ...           0  1548775812   \n",
       "4  On 26 Jan, no injuries were reported when Indi...           0  1548775812   \n",
       "\n",
       "  iso3  \n",
       "0  IND  \n",
       "1  IND  \n",
       "2  IND  \n",
       "3  IND  \n",
       "4  IND  "
      ]
     },
     "execution_count": 7,
     "metadata": {},
     "output_type": "execute_result"
    }
   ],
   "source": [
    "data.head()"
   ]
  },
  {
   "cell_type": "code",
   "execution_count": 8,
   "metadata": {},
   "outputs": [
    {
     "data": {
      "text/html": [
       "<div>\n",
       "<style scoped>\n",
       "    .dataframe tbody tr th:only-of-type {\n",
       "        vertical-align: middle;\n",
       "    }\n",
       "\n",
       "    .dataframe tbody tr th {\n",
       "        vertical-align: top;\n",
       "    }\n",
       "\n",
       "    .dataframe thead th {\n",
       "        text-align: right;\n",
       "    }\n",
       "</style>\n",
       "<table border=\"1\" class=\"dataframe\">\n",
       "  <thead>\n",
       "    <tr style=\"text-align: right;\">\n",
       "      <th></th>\n",
       "      <th>inter_code</th>\n",
       "      <th>description</th>\n",
       "    </tr>\n",
       "  </thead>\n",
       "  <tbody>\n",
       "    <tr>\n",
       "      <th>0</th>\n",
       "      <td>0</td>\n",
       "      <td>No actor</td>\n",
       "    </tr>\n",
       "    <tr>\n",
       "      <th>1</th>\n",
       "      <td>1</td>\n",
       "      <td>Government and state security services</td>\n",
       "    </tr>\n",
       "    <tr>\n",
       "      <th>2</th>\n",
       "      <td>2</td>\n",
       "      <td>Rebel Groups</td>\n",
       "    </tr>\n",
       "    <tr>\n",
       "      <th>3</th>\n",
       "      <td>3</td>\n",
       "      <td>Political Militias</td>\n",
       "    </tr>\n",
       "    <tr>\n",
       "      <th>4</th>\n",
       "      <td>4</td>\n",
       "      <td>Identity Militias</td>\n",
       "    </tr>\n",
       "    <tr>\n",
       "      <th>5</th>\n",
       "      <td>5</td>\n",
       "      <td>Rioters</td>\n",
       "    </tr>\n",
       "    <tr>\n",
       "      <th>6</th>\n",
       "      <td>6</td>\n",
       "      <td>Protestors</td>\n",
       "    </tr>\n",
       "    <tr>\n",
       "      <th>7</th>\n",
       "      <td>7</td>\n",
       "      <td>Civilians</td>\n",
       "    </tr>\n",
       "    <tr>\n",
       "      <th>8</th>\n",
       "      <td>8</td>\n",
       "      <td>External/other forces</td>\n",
       "    </tr>\n",
       "  </tbody>\n",
       "</table>\n",
       "</div>"
      ],
      "text/plain": [
       "   inter_code                             description\n",
       "0           0                                No actor\n",
       "1           1  Government and state security services\n",
       "2           2                            Rebel Groups\n",
       "3           3                      Political Militias\n",
       "4           4                       Identity Militias\n",
       "5           5                                 Rioters\n",
       "6           6                              Protestors\n",
       "7           7                               Civilians\n",
       "8           8                   External/other forces"
      ]
     },
     "execution_count": 8,
     "metadata": {},
     "output_type": "execute_result"
    }
   ],
   "source": [
    "inter_codes"
   ]
  },
  {
   "cell_type": "code",
   "execution_count": 9,
   "metadata": {},
   "outputs": [
    {
     "data": {
      "text/html": [
       "<div>\n",
       "<style scoped>\n",
       "    .dataframe tbody tr th:only-of-type {\n",
       "        vertical-align: middle;\n",
       "    }\n",
       "\n",
       "    .dataframe tbody tr th {\n",
       "        vertical-align: top;\n",
       "    }\n",
       "\n",
       "    .dataframe thead th {\n",
       "        text-align: right;\n",
       "    }\n",
       "</style>\n",
       "<table border=\"1\" class=\"dataframe\">\n",
       "  <thead>\n",
       "    <tr style=\"text-align: right;\">\n",
       "      <th></th>\n",
       "      <th>geo_precision_code</th>\n",
       "      <th>precision_level</th>\n",
       "    </tr>\n",
       "  </thead>\n",
       "  <tbody>\n",
       "    <tr>\n",
       "      <th>0</th>\n",
       "      <td>1</td>\n",
       "      <td>highest (exact location)</td>\n",
       "    </tr>\n",
       "    <tr>\n",
       "      <th>1</th>\n",
       "      <td>2</td>\n",
       "      <td>intermediate (regional)</td>\n",
       "    </tr>\n",
       "    <tr>\n",
       "      <th>2</th>\n",
       "      <td>3</td>\n",
       "      <td>lowest (provincial)</td>\n",
       "    </tr>\n",
       "  </tbody>\n",
       "</table>\n",
       "</div>"
      ],
      "text/plain": [
       "   geo_precision_code           precision_level\n",
       "0                   1  highest (exact location)\n",
       "1                   2   intermediate (regional)\n",
       "2                   3       lowest (provincial)"
      ]
     },
     "execution_count": 9,
     "metadata": {},
     "output_type": "execute_result"
    }
   ],
   "source": [
    "geo_precision_codes"
   ]
  },
  {
   "cell_type": "code",
   "execution_count": 10,
   "metadata": {},
   "outputs": [
    {
     "data": {
      "text/html": [
       "<div>\n",
       "<style scoped>\n",
       "    .dataframe tbody tr th:only-of-type {\n",
       "        vertical-align: middle;\n",
       "    }\n",
       "\n",
       "    .dataframe tbody tr th {\n",
       "        vertical-align: top;\n",
       "    }\n",
       "\n",
       "    .dataframe thead th {\n",
       "        text-align: right;\n",
       "    }\n",
       "</style>\n",
       "<table border=\"1\" class=\"dataframe\">\n",
       "  <thead>\n",
       "    <tr style=\"text-align: right;\">\n",
       "      <th></th>\n",
       "      <th>time_precision_code</th>\n",
       "      <th>precision_level</th>\n",
       "    </tr>\n",
       "  </thead>\n",
       "  <tbody>\n",
       "    <tr>\n",
       "      <th>0</th>\n",
       "      <td>1</td>\n",
       "      <td>highest (day)</td>\n",
       "    </tr>\n",
       "    <tr>\n",
       "      <th>1</th>\n",
       "      <td>2</td>\n",
       "      <td>intermediate (week)</td>\n",
       "    </tr>\n",
       "    <tr>\n",
       "      <th>2</th>\n",
       "      <td>3</td>\n",
       "      <td>lowest (month)</td>\n",
       "    </tr>\n",
       "  </tbody>\n",
       "</table>\n",
       "</div>"
      ],
      "text/plain": [
       "   time_precision_code      precision_level\n",
       "0                    1        highest (day)\n",
       "1                    2  intermediate (week)\n",
       "2                    3       lowest (month)"
      ]
     },
     "execution_count": 10,
     "metadata": {},
     "output_type": "execute_result"
    }
   ],
   "source": [
    "time_precision_codes"
   ]
  },
  {
   "cell_type": "code",
   "execution_count": 11,
   "metadata": {},
   "outputs": [
    {
     "name": "stdout",
     "output_type": "stream",
     "text": [
      "<class 'pandas.core.frame.DataFrame'>\n",
      "RangeIndex: 44379 entries, 0 to 44378\n",
      "Data columns (total 30 columns):\n",
      "data_id             44379 non-null int64\n",
      "iso                 44379 non-null int64\n",
      "event_id_cnty       44379 non-null object\n",
      "event_id_no_cnty    44379 non-null float64\n",
      "event_date          44379 non-null object\n",
      "year                44379 non-null int64\n",
      "time_precision      44379 non-null int64\n",
      "event_type          44379 non-null object\n",
      "actor1              44379 non-null object\n",
      "assoc_actor_1       28259 non-null object\n",
      "inter1              44379 non-null int64\n",
      "actor2              12599 non-null object\n",
      "assoc_actor_2       3468 non-null object\n",
      "inter2              44379 non-null int64\n",
      "interaction         44379 non-null int64\n",
      "region              44379 non-null object\n",
      "country             44379 non-null object\n",
      "admin1              44379 non-null object\n",
      "admin2              44368 non-null object\n",
      "admin3              42785 non-null object\n",
      "location            44379 non-null object\n",
      "latitude            44379 non-null float64\n",
      "longitude           44379 non-null float64\n",
      "geo_precision       44379 non-null int64\n",
      "source              44379 non-null object\n",
      "source_scale        44302 non-null object\n",
      "notes               44379 non-null object\n",
      "fatalities          44379 non-null int64\n",
      "timestamp           44379 non-null int64\n",
      "iso3                44379 non-null object\n",
      "dtypes: float64(3), int64(10), object(17)\n",
      "memory usage: 10.2+ MB\n"
     ]
    }
   ],
   "source": [
    "data.info()"
   ]
  },
  {
   "cell_type": "code",
   "execution_count": 12,
   "metadata": {},
   "outputs": [
    {
     "data": {
      "text/plain": [
       "data_id                 0\n",
       "iso                     0\n",
       "event_id_cnty           0\n",
       "event_id_no_cnty        0\n",
       "event_date              0\n",
       "year                    0\n",
       "time_precision          0\n",
       "event_type              0\n",
       "actor1                  0\n",
       "assoc_actor_1       16120\n",
       "inter1                  0\n",
       "actor2              31780\n",
       "assoc_actor_2       40911\n",
       "inter2                  0\n",
       "interaction             0\n",
       "region                  0\n",
       "country                 0\n",
       "admin1                  0\n",
       "admin2                 11\n",
       "admin3               1594\n",
       "location                0\n",
       "latitude                0\n",
       "longitude               0\n",
       "geo_precision           0\n",
       "source                  0\n",
       "source_scale           77\n",
       "notes                   0\n",
       "fatalities              0\n",
       "timestamp               0\n",
       "iso3                    0\n",
       "dtype: int64"
      ]
     },
     "execution_count": 12,
     "metadata": {},
     "output_type": "execute_result"
    }
   ],
   "source": [
    "data.isnull().sum()"
   ]
  },
  {
   "cell_type": "code",
   "execution_count": 13,
   "metadata": {},
   "outputs": [
    {
     "data": {
      "text/plain": [
       "data_id             44379\n",
       "iso                     1\n",
       "event_id_cnty       44379\n",
       "event_id_no_cnty    44379\n",
       "event_date           1122\n",
       "year                    4\n",
       "time_precision          3\n",
       "event_type              8\n",
       "actor1                487\n",
       "assoc_actor_1        1213\n",
       "inter1                  8\n",
       "actor2                253\n",
       "assoc_actor_2         376\n",
       "inter2                  9\n",
       "interaction            41\n",
       "region                  1\n",
       "country                 2\n",
       "admin1                 35\n",
       "admin2                717\n",
       "admin3               2792\n",
       "location             6314\n",
       "latitude             6448\n",
       "longitude            6392\n",
       "geo_precision           4\n",
       "source                753\n",
       "source_scale           19\n",
       "notes               42923\n",
       "fatalities             22\n",
       "timestamp             144\n",
       "iso3                    1\n",
       "dtype: int64"
      ]
     },
     "execution_count": 13,
     "metadata": {},
     "output_type": "execute_result"
    }
   ],
   "source": [
    "unique_count=pd.Series()\n",
    "for column in data.columns:\n",
    "    unique_count[column]=data[column].unique().size\n",
    "unique_count"
   ]
  },
  {
   "cell_type": "code",
   "execution_count": 14,
   "metadata": {},
   "outputs": [],
   "source": [
    "# Data cleaning: 1. drop non-important features\n",
    "#                2. fix null values\n",
    "#                3. process source, source_scale, actors features"
   ]
  },
  {
   "cell_type": "code",
   "execution_count": 15,
   "metadata": {},
   "outputs": [],
   "source": [
    "for column in unique_count.index:\n",
    "    if unique_count[column]==1:\n",
    "        data.drop(columns=column,inplace=True)"
   ]
  },
  {
   "cell_type": "code",
   "execution_count": 16,
   "metadata": {},
   "outputs": [
    {
     "data": {
      "text/plain": [
       "array(['IND'], dtype=object)"
      ]
     },
     "execution_count": 16,
     "metadata": {},
     "output_type": "execute_result"
    }
   ],
   "source": [
    "def first_half(string,breakpoint=3):\n",
    "    return string[0:breakpoint]\n",
    "def second_half(string,breakpoint=3):\n",
    "    return string[breakpoint:len(string)]\n",
    "data['event_id_cnty'].apply(first_half).unique()"
   ]
  },
  {
   "cell_type": "code",
   "execution_count": 17,
   "metadata": {},
   "outputs": [
    {
     "data": {
      "text/plain": [
       "0.0"
      ]
     },
     "execution_count": 17,
     "metadata": {},
     "output_type": "execute_result"
    }
   ],
   "source": [
    "np.sum(data['event_id_cnty'].apply(second_half).astype(int)-data['event_id_no_cnty'])"
   ]
  },
  {
   "cell_type": "code",
   "execution_count": 18,
   "metadata": {},
   "outputs": [],
   "source": [
    "features_to_drop=['country','data_id','event_id_cnty','event_id_no_cnty','timestamp','year','interaction']\n",
    "Data1=data.drop(columns=features_to_drop)"
   ]
  },
  {
   "cell_type": "code",
   "execution_count": 19,
   "metadata": {},
   "outputs": [],
   "source": [
    "Data1['event_date_formatted']=pd.to_datetime(Data1['event_date'])\n",
    "Data1.drop(columns='event_date',inplace=True)"
   ]
  },
  {
   "cell_type": "code",
   "execution_count": 20,
   "metadata": {},
   "outputs": [
    {
     "data": {
      "text/plain": [
       "Index(['time_precision', 'event_type', 'actor1', 'assoc_actor_1', 'inter1',\n",
       "       'actor2', 'assoc_actor_2', 'inter2', 'admin1', 'admin2', 'admin3',\n",
       "       'location', 'latitude', 'longitude', 'geo_precision', 'source',\n",
       "       'source_scale', 'notes', 'fatalities', 'event_date_formatted'],\n",
       "      dtype='object')"
      ]
     },
     "execution_count": 20,
     "metadata": {},
     "output_type": "execute_result"
    }
   ],
   "source": [
    "Data1.columns"
   ]
  },
  {
   "cell_type": "code",
   "execution_count": 21,
   "metadata": {},
   "outputs": [
    {
     "data": {
      "text/plain": [
       "National                     23839\n",
       "Subnational                  18882\n",
       "Regional                       892\n",
       "Subnational-National           345\n",
       "National-Regional               88\n",
       "International                   81\n",
       "Other                           80\n",
       "Subnational-Regional            79\n",
       "Subnational-Other                4\n",
       "Subnational-International        3\n",
       "National-International           2\n",
       "Other-National                   1\n",
       "National; National               1\n",
       "Regional-Other                   1\n",
       "National-Subnational             1\n",
       "National-Other                   1\n",
       "Subnational- National            1\n",
       "regional                         1\n",
       "Name: source_scale, dtype: int64"
      ]
     },
     "execution_count": 21,
     "metadata": {},
     "output_type": "execute_result"
    }
   ],
   "source": [
    "Data1.source_scale.value_counts()"
   ]
  },
  {
   "cell_type": "code",
   "execution_count": 22,
   "metadata": {},
   "outputs": [],
   "source": [
    "#Need splitting Columns: source_scale \n",
    "SplitNeeded_for_list= ['Subnational-National','National-Regional',\n",
    "'Subnational-Regional','Subnational-Other','Subnational-International',\n",
    "'National-International','National-Other','National-Subnational',\n",
    "'Subnational- National','Regional-Other','Other-National']"
   ]
  },
  {
   "cell_type": "code",
   "execution_count": 23,
   "metadata": {},
   "outputs": [],
   "source": [
    "Data1.replace('regional','Regional',inplace=True) "
   ]
  },
  {
   "cell_type": "code",
   "execution_count": 24,
   "metadata": {},
   "outputs": [],
   "source": [
    "def Source_Split(datacut):\n",
    "    SourceScaleSplit=pd.DataFrame(datacut.source_scale.str.split(pat=\"-\"))\n",
    "    SourceSplit=pd.DataFrame(datacut.source.str.split(pat=\";\"))\n",
    "    FinalSplit=pd.concat([SourceScaleSplit,SourceSplit],axis=1)\n",
    "    datacut=datacut.drop(columns=['source','source_scale'])\n",
    "    datacut=datacut.join(FinalSplit)\n",
    "    return datacut"
   ]
  },
  {
   "cell_type": "code",
   "execution_count": 25,
   "metadata": {},
   "outputs": [
    {
     "name": "stderr",
     "output_type": "stream",
     "text": [
      "C:\\Miniconda2\\envs\\tensorflow_env\\lib\\site-packages\\pandas\\core\\frame.py:6211: FutureWarning:\n",
      "\n",
      "Sorting because non-concatenation axis is not aligned. A future version\n",
      "of pandas will change to not sort by default.\n",
      "\n",
      "To accept the future behavior, pass 'sort=False'.\n",
      "\n",
      "To retain the current behavior and silence the warning, pass 'sort=True'.\n",
      "\n",
      "\n"
     ]
    }
   ],
   "source": [
    "for SplitNeeded in SplitNeeded_for_list:\n",
    "    datacut=Data1[Data1.source_scale==SplitNeeded]    \n",
    "    Data1.drop(index=datacut.index,inplace=True)\n",
    "    Data1=Data1.append(Source_Split(datacut))"
   ]
  },
  {
   "cell_type": "code",
   "execution_count": 26,
   "metadata": {},
   "outputs": [],
   "source": [
    "Data1.replace(' National','National',inplace=True) "
   ]
  },
  {
   "cell_type": "code",
   "execution_count": 27,
   "metadata": {},
   "outputs": [],
   "source": [
    "datacut=Data1[Data1.source_scale=='National; National']\n",
    "SourceScaleSplit=pd.DataFrame(datacut.source_scale.str.split(pat=\"; \"))\n",
    "SourceSplit=pd.DataFrame(datacut.source.str.split(pat=\";\"))\n",
    "FinalSplit=pd.concat([SourceScaleSplit,SourceSplit],axis=1)\n",
    "datacut=datacut.drop(columns=['source','source_scale'])\n",
    "datacut=datacut.join(FinalSplit)\n",
    "Data1.drop(index=datacut.index,inplace=True)\n",
    "Data1=Data1.append(datacut)"
   ]
  },
  {
   "cell_type": "code",
   "execution_count": 28,
   "metadata": {},
   "outputs": [],
   "source": [
    "def No_of_source(source):\n",
    "    if type(source)==list:\n",
    "        return len(source)\n",
    "    else:\n",
    "        return 1\n",
    "Data1['No_of_sources']=Data1['source'].apply(No_of_source)"
   ]
  },
  {
   "cell_type": "code",
   "execution_count": 29,
   "metadata": {},
   "outputs": [
    {
     "data": {
      "text/plain": [
       "actor2           31780\n",
       "admin2              11\n",
       "admin3            1594\n",
       "assoc_actor_1    16120\n",
       "assoc_actor_2    40911\n",
       "source_scale        77\n",
       "dtype: int64"
      ]
     },
     "execution_count": 29,
     "metadata": {},
     "output_type": "execute_result"
    }
   ],
   "source": [
    "Null_list=Data1.isnull().sum()\n",
    "Null_list[Null_list>0]"
   ]
  },
  {
   "cell_type": "code",
   "execution_count": 30,
   "metadata": {},
   "outputs": [
    {
     "data": {
      "text/plain": [
       "Telegraph (India)                                           [National]\n",
       "Sangai Express (India)                         [Subnational, National]\n",
       "Times of India                                 [National, Subnational]\n",
       "Asian News International           [Regional, International, National]\n",
       "Chandigarh Tribune                             [Subnational, National]\n",
       "Indian Express                       [National, Subnational, Regional]\n",
       "Pioneer (India)                                [National, Subnational]\n",
       "Hindustan Times (India)                        [National, Subnational]\n",
       "Pioneer (India); Times of India                                     []\n",
       "dtype: object"
      ]
     },
     "execution_count": 30,
     "metadata": {},
     "output_type": "execute_result"
    }
   ],
   "source": [
    "Source_missing_scale=Data1['source'][Data1.source_scale.isnull()].unique()\n",
    "Source_missing_scale_filllist=pd.Series()\n",
    "for source_name in Source_missing_scale:\n",
    "    Source_missing_scale_filllist[source_name]=Data1[Data1['source']==source_name]['source_scale'].dropna().unique()\n",
    "Source_missing_scale_filllist"
   ]
  },
  {
   "cell_type": "code",
   "execution_count": 31,
   "metadata": {},
   "outputs": [
    {
     "name": "stderr",
     "output_type": "stream",
     "text": [
      "C:\\Miniconda2\\envs\\tensorflow_env\\lib\\site-packages\\ipykernel_launcher.py:1: UserWarning:\n",
      "\n",
      "Boolean Series key will be reindexed to match DataFrame index.\n",
      "\n",
      "C:\\Miniconda2\\envs\\tensorflow_env\\lib\\site-packages\\ipykernel_launcher.py:3: UserWarning:\n",
      "\n",
      "Boolean Series key will be reindexed to match DataFrame index.\n",
      "\n",
      "C:\\Miniconda2\\envs\\tensorflow_env\\lib\\site-packages\\ipykernel_launcher.py:5: UserWarning:\n",
      "\n",
      "Boolean Series key will be reindexed to match DataFrame index.\n",
      "\n",
      "C:\\Miniconda2\\envs\\tensorflow_env\\lib\\site-packages\\ipykernel_launcher.py:7: UserWarning:\n",
      "\n",
      "Boolean Series key will be reindexed to match DataFrame index.\n",
      "\n",
      "C:\\Miniconda2\\envs\\tensorflow_env\\lib\\site-packages\\ipykernel_launcher.py:9: UserWarning:\n",
      "\n",
      "Boolean Series key will be reindexed to match DataFrame index.\n",
      "\n",
      "C:\\Miniconda2\\envs\\tensorflow_env\\lib\\site-packages\\ipykernel_launcher.py:16: UserWarning:\n",
      "\n",
      "Boolean Series key will be reindexed to match DataFrame index.\n",
      "\n",
      "C:\\Miniconda2\\envs\\tensorflow_env\\lib\\site-packages\\ipykernel_launcher.py:18: UserWarning:\n",
      "\n",
      "Boolean Series key will be reindexed to match DataFrame index.\n",
      "\n",
      "C:\\Miniconda2\\envs\\tensorflow_env\\lib\\site-packages\\ipykernel_launcher.py:20: UserWarning:\n",
      "\n",
      "Boolean Series key will be reindexed to match DataFrame index.\n",
      "\n",
      "C:\\Miniconda2\\envs\\tensorflow_env\\lib\\site-packages\\ipykernel_launcher.py:22: UserWarning:\n",
      "\n",
      "Boolean Series key will be reindexed to match DataFrame index.\n",
      "\n",
      "C:\\Miniconda2\\envs\\tensorflow_env\\lib\\site-packages\\ipykernel_launcher.py:24: UserWarning:\n",
      "\n",
      "Boolean Series key will be reindexed to match DataFrame index.\n",
      "\n",
      "C:\\Miniconda2\\envs\\tensorflow_env\\lib\\site-packages\\ipykernel_launcher.py:26: UserWarning:\n",
      "\n",
      "Boolean Series key will be reindexed to match DataFrame index.\n",
      "\n",
      "C:\\Miniconda2\\envs\\tensorflow_env\\lib\\site-packages\\ipykernel_launcher.py:28: UserWarning:\n",
      "\n",
      "Boolean Series key will be reindexed to match DataFrame index.\n",
      "\n"
     ]
    }
   ],
   "source": [
    "Index_of_NaN=Data1.loc[Data1['source']=='Telegraph (India)'][Data1.source_scale.isnull()].index\n",
    "Data1.loc[Index_of_NaN,'source_scale']='National'\n",
    "Index=Data1.loc[Data1['source']=='Sangai Express (India)'][Data1.source_scale=='National'].index\n",
    "Data1.loc[Index,'source_scale']='Subnational'\n",
    "Index_of_NaN=Data1.loc[Data1['source']=='Sangai Express (India)'][Data1.source_scale.isnull()].index\n",
    "Data1.loc[Index_of_NaN,'source_scale']='Subnational'\n",
    "Index=Data1.loc[Data1['source']=='Times of India'][Data1.source_scale=='Subnational'].index\n",
    "Data1.loc[Index,'source_scale']='National'\n",
    "Index_of_NaN=Data1.loc[Data1['source']=='Times of India'][Data1.source_scale.isnull()].index\n",
    "Data1.loc[Index_of_NaN,'source_scale']='National'\n",
    "Index=Data1.loc[Data1['source']=='Pioneer (India); Times of India'].index\n",
    "Data1.loc[Index,'source_scale']='National-National'\n",
    "datacut=Data1[Data1.source_scale=='National-National']    \n",
    "Data1.drop(index=datacut.index,inplace=True)\n",
    "Data1=Data1.append(Source_Split(datacut))\n",
    "Index=Data1.loc[Data1['source']=='Pioneer (India)'][Data1.source_scale=='Subnational'].index\n",
    "Data1.loc[Index,'source_scale']='National'\n",
    "Index_of_NaN=Data1.loc[Data1['source']=='Pioneer (India)'][Data1.source_scale.isnull()].index\n",
    "Data1.loc[Index_of_NaN,'source_scale']='National'\n",
    "Index=Data1.loc[Data1['source']=='Hindustan Times (India)'][Data1.source_scale=='Subnational'].index\n",
    "Data1.loc[Index,'source_scale']='National'\n",
    "Index_of_NaN=Data1.loc[Data1['source']=='Hindustan Times (India)'][Data1.source_scale.isnull()].index\n",
    "Data1.loc[Index_of_NaN,'source_scale']='National'\n",
    "Index=Data1.loc[Data1['source']=='Indian Express'][Data1.source_scale=='Regional'].index\n",
    "Data1.loc[Index,'source_scale']='National'\n",
    "Index=Data1.loc[Data1['source']=='Indian Express'][Data1.source_scale=='Subnational'].index\n",
    "Data1.loc[Index,'source_scale']='National'\n",
    "Index_of_NaN=Data1.loc[Data1['source']=='Indian Express'][Data1.source_scale.isnull()].index\n",
    "Data1.loc[Index_of_NaN,'source_scale']='National'"
   ]
  },
  {
   "cell_type": "code",
   "execution_count": 32,
   "metadata": {},
   "outputs": [],
   "source": [
    "Source_scale_main=Data1.loc[Data1['source']=='Chandigarh Tribune'].source_scale.value_counts().idxmax()\n",
    "Index=Data1.loc[Data1['source']=='Chandigarh Tribune'].index\n",
    "Data1.loc[Index,'source_scale']=Source_scale_main\n",
    "Source_scale_main=Data1.loc[Data1['source']=='Asian News International'].source_scale.value_counts().idxmax()\n",
    "Index=Data1.loc[Data1['source']=='Asian News International'].index\n",
    "Data1.loc[Index,'source_scale']=Source_scale_main"
   ]
  },
  {
   "cell_type": "code",
   "execution_count": 33,
   "metadata": {},
   "outputs": [
    {
     "data": {
      "text/plain": [
       "actor2           31780\n",
       "admin2              11\n",
       "admin3            1594\n",
       "assoc_actor_1    16120\n",
       "assoc_actor_2    40911\n",
       "dtype: int64"
      ]
     },
     "execution_count": 33,
     "metadata": {},
     "output_type": "execute_result"
    }
   ],
   "source": [
    "Null_list=Data1.isnull().sum()\n",
    "Null_list[Null_list>0]"
   ]
  },
  {
   "cell_type": "code",
   "execution_count": 34,
   "metadata": {},
   "outputs": [],
   "source": [
    "Actors=pd.Series(index=Data1.index)\n",
    "Actor2_null_imask=Data1.actor2.notnull()\n",
    "AssoActor1_null_imask=Data1.assoc_actor_1.notnull()\n",
    "AssoActor2_null_imask=Data1.assoc_actor_2.notnull()\n",
    "for idx in Data1.index:\n",
    "    if Actor2_null_imask[idx] and AssoActor1_null_imask[idx] and AssoActor2_null_imask[idx]:\n",
    "        Actors[idx]=[Data1.loc[idx,'actor1'],Data1.loc[idx,'actor2'],Data1.loc[idx,'assoc_actor_1'],Data1.loc[idx,'assoc_actor_2']]\n",
    "    elif Actor2_null_imask[idx] and AssoActor1_null_imask[idx] and not AssoActor2_null_imask[idx]:\n",
    "        Actors[idx]=[Data1.loc[idx,'actor1'],Data1.loc[idx,'actor2'],Data1.loc[idx,'assoc_actor_1']]\n",
    "    elif Actor2_null_imask[idx] and not AssoActor1_null_imask[idx] and AssoActor2_null_imask[idx]:\n",
    "        Actors[idx]=[Data1.loc[idx,'actor1'],Data1.loc[idx,'actor2'],Data1.loc[idx,'assoc_actor_2']]\n",
    "    elif not Actor2_null_imask[idx] and AssoActor1_null_imask[idx] and AssoActor2_null_imask[idx]:\n",
    "        Actors[idx]=[Data1.loc[idx,'actor1'],Data1.loc[idx,'assoc_actor_1'],Data1.loc[idx,'assoc_actor_2']]\n",
    "    elif Actor2_null_imask[idx] and not AssoActor1_null_imask[idx] and not AssoActor2_null_imask[idx]:\n",
    "        Actors[idx]=[Data1.loc[idx,'actor1'],Data1.loc[idx,'actor2']]\n",
    "    elif not Actor2_null_imask[idx] and not AssoActor1_null_imask[idx] and AssoActor2_null_imask[idx]:\n",
    "        Actors[idx]=[Data1.loc[idx,'actor1'],Data1.loc[idx,'assoc_actor_2']]\n",
    "    elif not Actor2_null_imask[idx] and AssoActor1_null_imask[idx] and not AssoActor2_null_imask[idx]:\n",
    "        Actors[idx]=[Data1.loc[idx,'actor1'],Data1.loc[idx,'assoc_actor_1']]\n",
    "    else:\n",
    "        Actors[idx]=Data1.loc[idx,'actor1']\n",
    "Data1=Data1.join(pd.DataFrame(Actors,columns=['Actors']))\n",
    "Data1.drop(columns=['actor1','actor2','assoc_actor_1', 'assoc_actor_2'],inplace=True)"
   ]
  },
  {
   "cell_type": "code",
   "execution_count": 35,
   "metadata": {},
   "outputs": [],
   "source": [
    "def No_of_Actors(actors):\n",
    "    if type(actors)==list:\n",
    "        return len(actors)\n",
    "    else:\n",
    "        return 1\n",
    "Data1['No_of_actors']=Data1['Actors'].apply(No_of_Actors)"
   ]
  },
  {
   "cell_type": "code",
   "execution_count": 36,
   "metadata": {},
   "outputs": [],
   "source": [
    "Administration=pd.Series(index=Data1.index)\n",
    "Admin2_null_imask=Data1.admin2.notnull()\n",
    "Admin3_null_imask=Data1.admin3.notnull()\n",
    "for idx in Data1.index:\n",
    "    if Admin2_null_imask[idx] and Admin3_null_imask[idx]:\n",
    "        Administration[idx]=[Data1.loc[idx,'admin1'],Data1.loc[idx,'admin2'],Data1.loc[idx,'admin3']]\n",
    "    elif Admin2_null_imask[idx] and not Admin3_null_imask[idx]:\n",
    "        Administration[idx]=[Data1.loc[idx,'admin1'],Data1.loc[idx,'admin2']]    \n",
    "    elif not Admin2_null_imask[idx] and Admin3_null_imask[idx]:\n",
    "        Administration[idx]=[Data1.loc[idx,'admin1'],Data1.loc[idx,'admin3']]    \n",
    "    else:\n",
    "        Administration[idx]=Data1.loc[idx,'admin1']\n",
    "Data1=Data1.join(pd.DataFrame(Administration,columns=['Administration_levels']))\n",
    "Data1.drop(columns=['admin2','admin3'],inplace=True)"
   ]
  },
  {
   "cell_type": "code",
   "execution_count": 37,
   "metadata": {},
   "outputs": [],
   "source": [
    "def No_of_AdminLevel(admin):\n",
    "    if type(admin)==list:\n",
    "        return len(admin)\n",
    "    else:\n",
    "        return 1\n",
    "Data1['No_of_admin_levels']=Data1['Administration_levels'].apply(No_of_AdminLevel)"
   ]
  },
  {
   "cell_type": "code",
   "execution_count": 38,
   "metadata": {},
   "outputs": [],
   "source": [
    "def month_of(date_formatted):\n",
    "    return date_formatted.month+12*(date_formatted.year-2016)\n",
    "Data1['month']=Data1.event_date_formatted.apply(month_of)"
   ]
  },
  {
   "cell_type": "code",
   "execution_count": 39,
   "metadata": {},
   "outputs": [
    {
     "data": {
      "text/plain": [
       "Series([], dtype: int64)"
      ]
     },
     "execution_count": 39,
     "metadata": {},
     "output_type": "execute_result"
    }
   ],
   "source": [
    "Null_list=Data1.isnull().sum()\n",
    "Null_list[Null_list>0]"
   ]
  },
  {
   "cell_type": "code",
   "execution_count": 40,
   "metadata": {},
   "outputs": [
    {
     "data": {
      "text/plain": [
       "Index(['No_of_sources', 'admin1', 'event_date_formatted', 'event_type',\n",
       "       'fatalities', 'geo_precision', 'inter1', 'inter2', 'latitude',\n",
       "       'location', 'longitude', 'notes', 'source', 'source_scale',\n",
       "       'time_precision', 'Actors', 'No_of_actors', 'Administration_levels',\n",
       "       'No_of_admin_levels', 'month'],\n",
       "      dtype='object')"
      ]
     },
     "execution_count": 40,
     "metadata": {},
     "output_type": "execute_result"
    }
   ],
   "source": [
    "Data1.columns"
   ]
  },
  {
   "cell_type": "code",
   "execution_count": 41,
   "metadata": {},
   "outputs": [
    {
     "data": {
      "text/html": [
       "<div>\n",
       "<style scoped>\n",
       "    .dataframe tbody tr th:only-of-type {\n",
       "        vertical-align: middle;\n",
       "    }\n",
       "\n",
       "    .dataframe tbody tr th {\n",
       "        vertical-align: top;\n",
       "    }\n",
       "\n",
       "    .dataframe thead th {\n",
       "        text-align: right;\n",
       "    }\n",
       "</style>\n",
       "<table border=\"1\" class=\"dataframe\">\n",
       "  <thead>\n",
       "    <tr style=\"text-align: right;\">\n",
       "      <th></th>\n",
       "      <th>geo_precision</th>\n",
       "      <th>Normalize</th>\n",
       "    </tr>\n",
       "  </thead>\n",
       "  <tbody>\n",
       "    <tr>\n",
       "      <th>1</th>\n",
       "      <td>37158</td>\n",
       "      <td>0.837288</td>\n",
       "    </tr>\n",
       "    <tr>\n",
       "      <th>2</th>\n",
       "      <td>6495</td>\n",
       "      <td>0.146353</td>\n",
       "    </tr>\n",
       "    <tr>\n",
       "      <th>3</th>\n",
       "      <td>725</td>\n",
       "      <td>0.016337</td>\n",
       "    </tr>\n",
       "    <tr>\n",
       "      <th>0</th>\n",
       "      <td>1</td>\n",
       "      <td>0.000023</td>\n",
       "    </tr>\n",
       "  </tbody>\n",
       "</table>\n",
       "</div>"
      ],
      "text/plain": [
       "   geo_precision  Normalize\n",
       "1          37158   0.837288\n",
       "2           6495   0.146353\n",
       "3            725   0.016337\n",
       "0              1   0.000023"
      ]
     },
     "execution_count": 41,
     "metadata": {},
     "output_type": "execute_result"
    }
   ],
   "source": [
    "Geopres_distribution=pd.DataFrame(Data1.geo_precision.value_counts())\n",
    "Geopres_distribution['Normalize']=Data1.geo_precision.value_counts(normalize=True)\n",
    "Geopres_distribution"
   ]
  },
  {
   "cell_type": "code",
   "execution_count": 42,
   "metadata": {},
   "outputs": [],
   "source": [
    "Data1.loc[Data1[Data1.geo_precision==Geopres_distribution.index[3]].index,'geo_precision']=3"
   ]
  },
  {
   "cell_type": "code",
   "execution_count": 43,
   "metadata": {},
   "outputs": [
    {
     "data": {
      "text/html": [
       "<div>\n",
       "<style scoped>\n",
       "    .dataframe tbody tr th:only-of-type {\n",
       "        vertical-align: middle;\n",
       "    }\n",
       "\n",
       "    .dataframe tbody tr th {\n",
       "        vertical-align: top;\n",
       "    }\n",
       "\n",
       "    .dataframe thead th {\n",
       "        text-align: right;\n",
       "    }\n",
       "</style>\n",
       "<table border=\"1\" class=\"dataframe\">\n",
       "  <thead>\n",
       "    <tr style=\"text-align: right;\">\n",
       "      <th></th>\n",
       "      <th>time_precision</th>\n",
       "      <th>Normalize</th>\n",
       "    </tr>\n",
       "  </thead>\n",
       "  <tbody>\n",
       "    <tr>\n",
       "      <th>1</th>\n",
       "      <td>42464</td>\n",
       "      <td>0.956849</td>\n",
       "    </tr>\n",
       "    <tr>\n",
       "      <th>2</th>\n",
       "      <td>1777</td>\n",
       "      <td>0.040041</td>\n",
       "    </tr>\n",
       "    <tr>\n",
       "      <th>3</th>\n",
       "      <td>138</td>\n",
       "      <td>0.003110</td>\n",
       "    </tr>\n",
       "  </tbody>\n",
       "</table>\n",
       "</div>"
      ],
      "text/plain": [
       "   time_precision  Normalize\n",
       "1           42464   0.956849\n",
       "2            1777   0.040041\n",
       "3             138   0.003110"
      ]
     },
     "execution_count": 43,
     "metadata": {},
     "output_type": "execute_result"
    }
   ],
   "source": [
    "Timepres_distribution=pd.DataFrame(Data1.time_precision.value_counts())\n",
    "Timepres_distribution['Normalize']=Data1.time_precision.value_counts(normalize=True)\n",
    "Timepres_distribution"
   ]
  },
  {
   "cell_type": "code",
   "execution_count": 44,
   "metadata": {},
   "outputs": [
    {
     "data": {
      "text/html": [
       "<div>\n",
       "<style scoped>\n",
       "    .dataframe tbody tr th:only-of-type {\n",
       "        vertical-align: middle;\n",
       "    }\n",
       "\n",
       "    .dataframe tbody tr th {\n",
       "        vertical-align: top;\n",
       "    }\n",
       "\n",
       "    .dataframe thead th {\n",
       "        text-align: right;\n",
       "    }\n",
       "</style>\n",
       "<table border=\"1\" class=\"dataframe\">\n",
       "  <thead>\n",
       "    <tr style=\"text-align: right;\">\n",
       "      <th></th>\n",
       "      <th>event_type</th>\n",
       "      <th>Normalize</th>\n",
       "    </tr>\n",
       "  </thead>\n",
       "  <tbody>\n",
       "    <tr>\n",
       "      <th>Riots/Protests</th>\n",
       "      <td>39144</td>\n",
       "      <td>0.882039</td>\n",
       "    </tr>\n",
       "    <tr>\n",
       "      <th>Violence against civilians</th>\n",
       "      <td>2242</td>\n",
       "      <td>0.050519</td>\n",
       "    </tr>\n",
       "    <tr>\n",
       "      <th>Battle-No change of territory</th>\n",
       "      <td>2205</td>\n",
       "      <td>0.049686</td>\n",
       "    </tr>\n",
       "    <tr>\n",
       "      <th>Strategic development</th>\n",
       "      <td>411</td>\n",
       "      <td>0.009261</td>\n",
       "    </tr>\n",
       "    <tr>\n",
       "      <th>Remote violence</th>\n",
       "      <td>373</td>\n",
       "      <td>0.008405</td>\n",
       "    </tr>\n",
       "    <tr>\n",
       "      <th>Battle-Government regains territory</th>\n",
       "      <td>2</td>\n",
       "      <td>0.000045</td>\n",
       "    </tr>\n",
       "    <tr>\n",
       "      <th>Headquarters or base established</th>\n",
       "      <td>1</td>\n",
       "      <td>0.000023</td>\n",
       "    </tr>\n",
       "    <tr>\n",
       "      <th>Non-violent transfer of territory</th>\n",
       "      <td>1</td>\n",
       "      <td>0.000023</td>\n",
       "    </tr>\n",
       "  </tbody>\n",
       "</table>\n",
       "</div>"
      ],
      "text/plain": [
       "                                     event_type  Normalize\n",
       "Riots/Protests                            39144   0.882039\n",
       "Violence against civilians                 2242   0.050519\n",
       "Battle-No change of territory              2205   0.049686\n",
       "Strategic development                       411   0.009261\n",
       "Remote violence                             373   0.008405\n",
       "Battle-Government regains territory           2   0.000045\n",
       "Headquarters or base established              1   0.000023\n",
       "Non-violent transfer of territory             1   0.000023"
      ]
     },
     "execution_count": 44,
     "metadata": {},
     "output_type": "execute_result"
    }
   ],
   "source": [
    "Eventtype_distribution=pd.DataFrame(Data1.event_type.value_counts())\n",
    "Eventtype_distribution['Normalize']=Data1.event_type.value_counts(normalize=True)\n",
    "Eventtype_distribution"
   ]
  },
  {
   "cell_type": "code",
   "execution_count": 45,
   "metadata": {},
   "outputs": [],
   "source": [
    "SourceScale_Expand=Data1[['event_type','source_scale','latitude','longitude','geo_precision','event_date_formatted','time_precision','fatalities','inter1', 'inter2']]\n",
    "temp=pd.DataFrame(SourceScale_Expand.source_scale.apply(pd.Series).stack(),columns=['Source_scale_expanded']).reset_index(inplace=False).drop(columns='level_1').set_index('level_0')\n",
    "del temp.index.name\n",
    "SourceScale_Expand=SourceScale_Expand.join(temp).drop(columns='source_scale')\n",
    "SourceScale_Expand.replace(' National','National',inplace=True) "
   ]
  },
  {
   "cell_type": "code",
   "execution_count": 46,
   "metadata": {},
   "outputs": [
    {
     "data": {
      "text/html": [
       "<div>\n",
       "<style scoped>\n",
       "    .dataframe tbody tr th:only-of-type {\n",
       "        vertical-align: middle;\n",
       "    }\n",
       "\n",
       "    .dataframe tbody tr th {\n",
       "        vertical-align: top;\n",
       "    }\n",
       "\n",
       "    .dataframe thead th {\n",
       "        text-align: right;\n",
       "    }\n",
       "</style>\n",
       "<table border=\"1\" class=\"dataframe\">\n",
       "  <thead>\n",
       "    <tr style=\"text-align: right;\">\n",
       "      <th></th>\n",
       "      <th>Source_scale_expanded</th>\n",
       "      <th>Normalize</th>\n",
       "    </tr>\n",
       "  </thead>\n",
       "  <tbody>\n",
       "    <tr>\n",
       "      <th>National</th>\n",
       "      <td>24217</td>\n",
       "      <td>0.539270</td>\n",
       "    </tr>\n",
       "    <tr>\n",
       "      <th>Subnational</th>\n",
       "      <td>19454</td>\n",
       "      <td>0.433206</td>\n",
       "    </tr>\n",
       "    <tr>\n",
       "      <th>Regional</th>\n",
       "      <td>1071</td>\n",
       "      <td>0.023849</td>\n",
       "    </tr>\n",
       "    <tr>\n",
       "      <th>Other</th>\n",
       "      <td>87</td>\n",
       "      <td>0.001937</td>\n",
       "    </tr>\n",
       "    <tr>\n",
       "      <th>International</th>\n",
       "      <td>78</td>\n",
       "      <td>0.001737</td>\n",
       "    </tr>\n",
       "  </tbody>\n",
       "</table>\n",
       "</div>"
      ],
      "text/plain": [
       "               Source_scale_expanded  Normalize\n",
       "National                       24217   0.539270\n",
       "Subnational                    19454   0.433206\n",
       "Regional                        1071   0.023849\n",
       "Other                             87   0.001937\n",
       "International                     78   0.001737"
      ]
     },
     "execution_count": 46,
     "metadata": {},
     "output_type": "execute_result"
    }
   ],
   "source": [
    "SourceScale_distribution=pd.DataFrame(SourceScale_Expand.Source_scale_expanded.value_counts())\n",
    "SourceScale_distribution['Normalize']=SourceScale_Expand.Source_scale_expanded.value_counts(normalize=True)\n",
    "SourceScale_distribution"
   ]
  },
  {
   "cell_type": "code",
   "execution_count": 47,
   "metadata": {},
   "outputs": [
    {
     "data": {
      "text/html": [
       "<div>\n",
       "<style scoped>\n",
       "    .dataframe tbody tr th:only-of-type {\n",
       "        vertical-align: middle;\n",
       "    }\n",
       "\n",
       "    .dataframe tbody tr th {\n",
       "        vertical-align: top;\n",
       "    }\n",
       "\n",
       "    .dataframe thead th {\n",
       "        text-align: right;\n",
       "    }\n",
       "</style>\n",
       "<table border=\"1\" class=\"dataframe\">\n",
       "  <thead>\n",
       "    <tr style=\"text-align: right;\">\n",
       "      <th></th>\n",
       "      <th>month</th>\n",
       "      <th>Normalize</th>\n",
       "    </tr>\n",
       "  </thead>\n",
       "  <tbody>\n",
       "    <tr>\n",
       "      <th>33</th>\n",
       "      <td>1992</td>\n",
       "      <td>0.044886</td>\n",
       "    </tr>\n",
       "    <tr>\n",
       "      <th>36</th>\n",
       "      <td>1839</td>\n",
       "      <td>0.041439</td>\n",
       "    </tr>\n",
       "    <tr>\n",
       "      <th>28</th>\n",
       "      <td>1645</td>\n",
       "      <td>0.037067</td>\n",
       "    </tr>\n",
       "    <tr>\n",
       "      <th>37</th>\n",
       "      <td>1636</td>\n",
       "      <td>0.036864</td>\n",
       "    </tr>\n",
       "    <tr>\n",
       "      <th>32</th>\n",
       "      <td>1631</td>\n",
       "      <td>0.036752</td>\n",
       "    </tr>\n",
       "    <tr>\n",
       "      <th>34</th>\n",
       "      <td>1624</td>\n",
       "      <td>0.036594</td>\n",
       "    </tr>\n",
       "    <tr>\n",
       "      <th>35</th>\n",
       "      <td>1576</td>\n",
       "      <td>0.035512</td>\n",
       "    </tr>\n",
       "    <tr>\n",
       "      <th>9</th>\n",
       "      <td>1447</td>\n",
       "      <td>0.032606</td>\n",
       "    </tr>\n",
       "    <tr>\n",
       "      <th>13</th>\n",
       "      <td>1357</td>\n",
       "      <td>0.030578</td>\n",
       "    </tr>\n",
       "    <tr>\n",
       "      <th>15</th>\n",
       "      <td>1349</td>\n",
       "      <td>0.030397</td>\n",
       "    </tr>\n",
       "    <tr>\n",
       "      <th>11</th>\n",
       "      <td>1318</td>\n",
       "      <td>0.029699</td>\n",
       "    </tr>\n",
       "    <tr>\n",
       "      <th>10</th>\n",
       "      <td>1317</td>\n",
       "      <td>0.029676</td>\n",
       "    </tr>\n",
       "    <tr>\n",
       "      <th>29</th>\n",
       "      <td>1283</td>\n",
       "      <td>0.028910</td>\n",
       "    </tr>\n",
       "    <tr>\n",
       "      <th>16</th>\n",
       "      <td>1271</td>\n",
       "      <td>0.028640</td>\n",
       "    </tr>\n",
       "    <tr>\n",
       "      <th>31</th>\n",
       "      <td>1232</td>\n",
       "      <td>0.027761</td>\n",
       "    </tr>\n",
       "    <tr>\n",
       "      <th>6</th>\n",
       "      <td>1214</td>\n",
       "      <td>0.027355</td>\n",
       "    </tr>\n",
       "    <tr>\n",
       "      <th>18</th>\n",
       "      <td>1186</td>\n",
       "      <td>0.026724</td>\n",
       "    </tr>\n",
       "    <tr>\n",
       "      <th>14</th>\n",
       "      <td>1175</td>\n",
       "      <td>0.026476</td>\n",
       "    </tr>\n",
       "    <tr>\n",
       "      <th>25</th>\n",
       "      <td>1169</td>\n",
       "      <td>0.026341</td>\n",
       "    </tr>\n",
       "    <tr>\n",
       "      <th>8</th>\n",
       "      <td>1150</td>\n",
       "      <td>0.025913</td>\n",
       "    </tr>\n",
       "    <tr>\n",
       "      <th>30</th>\n",
       "      <td>1110</td>\n",
       "      <td>0.025012</td>\n",
       "    </tr>\n",
       "    <tr>\n",
       "      <th>27</th>\n",
       "      <td>1096</td>\n",
       "      <td>0.024696</td>\n",
       "    </tr>\n",
       "    <tr>\n",
       "      <th>17</th>\n",
       "      <td>1057</td>\n",
       "      <td>0.023818</td>\n",
       "    </tr>\n",
       "    <tr>\n",
       "      <th>24</th>\n",
       "      <td>1050</td>\n",
       "      <td>0.023660</td>\n",
       "    </tr>\n",
       "    <tr>\n",
       "      <th>2</th>\n",
       "      <td>1049</td>\n",
       "      <td>0.023637</td>\n",
       "    </tr>\n",
       "    <tr>\n",
       "      <th>19</th>\n",
       "      <td>1028</td>\n",
       "      <td>0.023164</td>\n",
       "    </tr>\n",
       "    <tr>\n",
       "      <th>7</th>\n",
       "      <td>1027</td>\n",
       "      <td>0.023142</td>\n",
       "    </tr>\n",
       "    <tr>\n",
       "      <th>5</th>\n",
       "      <td>1002</td>\n",
       "      <td>0.022578</td>\n",
       "    </tr>\n",
       "    <tr>\n",
       "      <th>20</th>\n",
       "      <td>998</td>\n",
       "      <td>0.022488</td>\n",
       "    </tr>\n",
       "    <tr>\n",
       "      <th>21</th>\n",
       "      <td>964</td>\n",
       "      <td>0.021722</td>\n",
       "    </tr>\n",
       "    <tr>\n",
       "      <th>12</th>\n",
       "      <td>962</td>\n",
       "      <td>0.021677</td>\n",
       "    </tr>\n",
       "    <tr>\n",
       "      <th>26</th>\n",
       "      <td>897</td>\n",
       "      <td>0.020212</td>\n",
       "    </tr>\n",
       "    <tr>\n",
       "      <th>4</th>\n",
       "      <td>781</td>\n",
       "      <td>0.017598</td>\n",
       "    </tr>\n",
       "    <tr>\n",
       "      <th>1</th>\n",
       "      <td>752</td>\n",
       "      <td>0.016945</td>\n",
       "    </tr>\n",
       "    <tr>\n",
       "      <th>22</th>\n",
       "      <td>749</td>\n",
       "      <td>0.016877</td>\n",
       "    </tr>\n",
       "    <tr>\n",
       "      <th>3</th>\n",
       "      <td>723</td>\n",
       "      <td>0.016291</td>\n",
       "    </tr>\n",
       "    <tr>\n",
       "      <th>23</th>\n",
       "      <td>723</td>\n",
       "      <td>0.016291</td>\n",
       "    </tr>\n",
       "  </tbody>\n",
       "</table>\n",
       "</div>"
      ],
      "text/plain": [
       "    month  Normalize\n",
       "33   1992   0.044886\n",
       "36   1839   0.041439\n",
       "28   1645   0.037067\n",
       "37   1636   0.036864\n",
       "32   1631   0.036752\n",
       "34   1624   0.036594\n",
       "35   1576   0.035512\n",
       "9    1447   0.032606\n",
       "13   1357   0.030578\n",
       "15   1349   0.030397\n",
       "11   1318   0.029699\n",
       "10   1317   0.029676\n",
       "29   1283   0.028910\n",
       "16   1271   0.028640\n",
       "31   1232   0.027761\n",
       "6    1214   0.027355\n",
       "18   1186   0.026724\n",
       "14   1175   0.026476\n",
       "25   1169   0.026341\n",
       "8    1150   0.025913\n",
       "30   1110   0.025012\n",
       "27   1096   0.024696\n",
       "17   1057   0.023818\n",
       "24   1050   0.023660\n",
       "2    1049   0.023637\n",
       "19   1028   0.023164\n",
       "7    1027   0.023142\n",
       "5    1002   0.022578\n",
       "20    998   0.022488\n",
       "21    964   0.021722\n",
       "12    962   0.021677\n",
       "26    897   0.020212\n",
       "4     781   0.017598\n",
       "1     752   0.016945\n",
       "22    749   0.016877\n",
       "3     723   0.016291\n",
       "23    723   0.016291"
      ]
     },
     "execution_count": 47,
     "metadata": {},
     "output_type": "execute_result"
    }
   ],
   "source": [
    "Month_distribution=pd.DataFrame(Data1.month.value_counts())\n",
    "Month_distribution['Normalize']=Data1.month.value_counts(normalize=True)\n",
    "Month_distribution"
   ]
  },
  {
   "cell_type": "code",
   "execution_count": 48,
   "metadata": {},
   "outputs": [],
   "source": [
    "Protest_riot_data=Data1[Data1.event_type==Eventtype_distribution.index[0]]"
   ]
  },
  {
   "cell_type": "code",
   "execution_count": 49,
   "metadata": {},
   "outputs": [],
   "source": [
    "Inter1_2_All=pd.crosstab(Data1.inter1,Data1.inter2,normalize=True)\n",
    "Inter1_2_All_Protest=pd.crosstab(Protest_riot_data.inter1,Protest_riot_data.inter2,normalize=True)\n",
    "Inter1_2_month=[]\n",
    "for m in Month_distribution.index:\n",
    "    Data_m=Data1[Data1.month==m]\n",
    "    Inter1_2_month.append(pd.crosstab(Data_m.inter1,Data_m.inter2,normalize=True))\n",
    "Inter1_2_Protest_month=[]\n",
    "for m in Month_distribution.index:\n",
    "    Protest_Data_m=Protest_riot_data[Protest_riot_data.month==m]\n",
    "    Inter1_2_Protest_month.append(pd.crosstab(Protest_Data_m.inter1,Protest_Data_m.inter2,normalize=True))"
   ]
  },
  {
   "cell_type": "code",
   "execution_count": 50,
   "metadata": {},
   "outputs": [],
   "source": [
    "Fatalities_Inter1_2_All=pd.crosstab(Data1.inter1,Data1.inter2,Data1.fatalities,aggfunc=sum,normalize=False).fillna(0)\n",
    "Fatalities_Inter1_2_Protest=pd.crosstab(Protest_riot_data.inter1,Protest_riot_data.inter2,Protest_riot_data.fatalities,aggfunc=sum,normalize=False).fillna(0)\n",
    "Fatalities_Inter1_2_month=[]\n",
    "for m in Month_distribution.index:\n",
    "    Data_m=Data1[Data1.month==m]\n",
    "    Fatalities_Inter1_2_month.append(pd.crosstab(Data_m.inter1,Data_m.inter2,Data1.fatalities,aggfunc=sum,normalize=False).fillna(0))\n",
    "Fatalities_Inter1_2_Protest_month=[]\n",
    "for m in Month_distribution.index:\n",
    "    Protest_Data_m=Protest_riot_data[Protest_riot_data.month==m]\n",
    "    Fatalities_Inter1_2_Protest_month.append(pd.crosstab(Protest_Data_m.inter1,Protest_Data_m.inter2,Protest_Data_m.fatalities,aggfunc=sum,normalize=False).fillna(0))"
   ]
  },
  {
   "cell_type": "code",
   "execution_count": 51,
   "metadata": {},
   "outputs": [],
   "source": [
    "State_All=Data1.admin1.value_counts(normalize=True)\n",
    "Protest_State_All=Protest_riot_data.admin1.value_counts(normalize=True)\n",
    "State_month=pd.DataFrame(data=None,index=State_All.index)\n",
    "for m in Month_distribution.index.sort_values():\n",
    "    Data_m=Data1[Data1.month==m]\n",
    "    State_month[m]=Data1.admin1[Data1.month==m].value_counts(normalize=True)\n",
    "State_month.fillna(0,inplace=True)\n",
    "Protest_State_month=pd.DataFrame(data=None,index=State_All.index)\n",
    "for m in Month_distribution.index.sort_values():\n",
    "    Protest_Data_m=Protest_riot_data[Protest_riot_data.month==m]\n",
    "    Protest_State_month[m]=Protest_riot_data.admin1[Protest_riot_data.month==m].value_counts(normalize=True)\n",
    "Protest_State_month.fillna(0,inplace=True)"
   ]
  },
  {
   "cell_type": "code",
   "execution_count": 52,
   "metadata": {},
   "outputs": [],
   "source": [
    "Monthwise_fatalities=pd.DataFrame(Data1.groupby(['month']).fatalities.sum())\n",
    "Monthwise_fatalities['Normalize']=pd.DataFrame(Data1.groupby(['month']).fatalities.sum()/Data1.fatalities.sum())\n",
    "del Monthwise_fatalities.index.name\n",
    "Statewise_fatalities=pd.DataFrame(Data1.groupby(['admin1']).fatalities.sum())\n",
    "Statewise_fatalities['Normalize']=pd.DataFrame(Data1.groupby(['admin1']).fatalities.sum()/Data1.fatalities.sum())\n",
    "del Statewise_fatalities.index.name\n",
    "State_monthwise_fatalities=pd.DataFrame(data=None,index=State_All.index)\n",
    "for m in Month_distribution.index.sort_values():\n",
    "    Data_m=Data1[Data1.month==m]\n",
    "    State_monthwise_fatalities[m]=Data1[Data1.month==m].groupby(['admin1']).fatalities.sum()\n",
    "    State_monthwise_fatalities.fillna(0,inplace=True)"
   ]
  },
  {
   "cell_type": "code",
   "execution_count": 53,
   "metadata": {},
   "outputs": [],
   "source": [
    "Protest_Monthwise_fatalities=pd.DataFrame(Protest_riot_data.groupby(['month']).fatalities.sum())\n",
    "Protest_Monthwise_fatalities['Normalize']=pd.DataFrame(Protest_riot_data.groupby(['month']).fatalities.sum()/Protest_riot_data.fatalities.sum())\n",
    "del Protest_Monthwise_fatalities.index.name\n",
    "Protest_Statewise_fatalities=pd.DataFrame(Protest_riot_data.groupby(['admin1']).fatalities.sum())\n",
    "Protest_Statewise_fatalities['Normalize']=pd.DataFrame(Protest_riot_data.groupby(['admin1']).fatalities.sum()/Protest_riot_data.fatalities.sum())\n",
    "del Protest_Statewise_fatalities.index.name\n",
    "Protest_State_monthwise_fatalities=pd.DataFrame(data=None,index=State_All.index)\n",
    "for m in Month_distribution.index.sort_values():\n",
    "    Protest_Data_m=Protest_riot_data[Protest_riot_data.month==m]\n",
    "    Protest_State_monthwise_fatalities[m]=Protest_riot_data[Protest_riot_data.month==m].groupby(['admin1']).fatalities.sum()\n",
    "    Protest_State_monthwise_fatalities.fillna(0,inplace=True)"
   ]
  },
  {
   "cell_type": "code",
   "execution_count": 54,
   "metadata": {},
   "outputs": [],
   "source": [
    "State_All=pd.DataFrame(State_All).rename(columns={'admin1':'Normalized_Freq'})\n",
    "#Protest_State_All\n",
    "#State_month\n",
    "#Protest_State_month\n",
    "#Statewise_fatalities\n",
    "#State_monthwise_fatalities\n",
    "#Protest_Statewise_fatalities\n",
    "#Protest_State_monthwise_fatalities"
   ]
  },
  {
   "cell_type": "code",
   "execution_count": 55,
   "metadata": {},
   "outputs": [
    {
     "data": {
      "text/html": [
       "<div>\n",
       "<style scoped>\n",
       "    .dataframe tbody tr th:only-of-type {\n",
       "        vertical-align: middle;\n",
       "    }\n",
       "\n",
       "    .dataframe tbody tr th {\n",
       "        vertical-align: top;\n",
       "    }\n",
       "\n",
       "    .dataframe thead th {\n",
       "        text-align: right;\n",
       "    }\n",
       "</style>\n",
       "<table border=\"1\" class=\"dataframe\">\n",
       "  <thead>\n",
       "    <tr style=\"text-align: right;\">\n",
       "      <th>inter2</th>\n",
       "      <th>0</th>\n",
       "      <th>1</th>\n",
       "      <th>2</th>\n",
       "      <th>3</th>\n",
       "      <th>4</th>\n",
       "      <th>5</th>\n",
       "      <th>6</th>\n",
       "      <th>7</th>\n",
       "      <th>8</th>\n",
       "    </tr>\n",
       "    <tr>\n",
       "      <th>inter1</th>\n",
       "      <th></th>\n",
       "      <th></th>\n",
       "      <th></th>\n",
       "      <th></th>\n",
       "      <th></th>\n",
       "      <th></th>\n",
       "      <th></th>\n",
       "      <th></th>\n",
       "      <th></th>\n",
       "    </tr>\n",
       "  </thead>\n",
       "  <tbody>\n",
       "    <tr>\n",
       "      <th>1</th>\n",
       "      <td>0.002186</td>\n",
       "      <td>0.000135</td>\n",
       "      <td>0.000766</td>\n",
       "      <td>0.002141</td>\n",
       "      <td>0.000068</td>\n",
       "      <td>0.000000</td>\n",
       "      <td>0.001284</td>\n",
       "      <td>0.005881</td>\n",
       "      <td>0.007999</td>\n",
       "    </tr>\n",
       "    <tr>\n",
       "      <th>2</th>\n",
       "      <td>0.001690</td>\n",
       "      <td>0.012664</td>\n",
       "      <td>0.000023</td>\n",
       "      <td>0.000045</td>\n",
       "      <td>0.000023</td>\n",
       "      <td>0.000000</td>\n",
       "      <td>0.000000</td>\n",
       "      <td>0.005025</td>\n",
       "      <td>0.000045</td>\n",
       "    </tr>\n",
       "    <tr>\n",
       "      <th>3</th>\n",
       "      <td>0.002434</td>\n",
       "      <td>0.017373</td>\n",
       "      <td>0.000225</td>\n",
       "      <td>0.002186</td>\n",
       "      <td>0.000090</td>\n",
       "      <td>0.000113</td>\n",
       "      <td>0.000158</td>\n",
       "      <td>0.026274</td>\n",
       "      <td>0.000383</td>\n",
       "    </tr>\n",
       "    <tr>\n",
       "      <th>4</th>\n",
       "      <td>0.000203</td>\n",
       "      <td>0.000924</td>\n",
       "      <td>0.000023</td>\n",
       "      <td>0.000293</td>\n",
       "      <td>0.003583</td>\n",
       "      <td>0.000068</td>\n",
       "      <td>0.000023</td>\n",
       "      <td>0.011244</td>\n",
       "      <td>0.000045</td>\n",
       "    </tr>\n",
       "    <tr>\n",
       "      <th>5</th>\n",
       "      <td>0.031682</td>\n",
       "      <td>0.072962</td>\n",
       "      <td>0.000000</td>\n",
       "      <td>0.000090</td>\n",
       "      <td>0.000000</td>\n",
       "      <td>0.023818</td>\n",
       "      <td>0.000901</td>\n",
       "      <td>0.020685</td>\n",
       "      <td>0.000225</td>\n",
       "    </tr>\n",
       "    <tr>\n",
       "      <th>6</th>\n",
       "      <td>0.679375</td>\n",
       "      <td>0.056739</td>\n",
       "      <td>0.000000</td>\n",
       "      <td>0.000090</td>\n",
       "      <td>0.000000</td>\n",
       "      <td>0.000248</td>\n",
       "      <td>0.000901</td>\n",
       "      <td>0.000248</td>\n",
       "      <td>0.000023</td>\n",
       "    </tr>\n",
       "    <tr>\n",
       "      <th>7</th>\n",
       "      <td>0.000068</td>\n",
       "      <td>0.000000</td>\n",
       "      <td>0.000000</td>\n",
       "      <td>0.000000</td>\n",
       "      <td>0.000000</td>\n",
       "      <td>0.000000</td>\n",
       "      <td>0.000000</td>\n",
       "      <td>0.000000</td>\n",
       "      <td>0.000000</td>\n",
       "    </tr>\n",
       "    <tr>\n",
       "      <th>8</th>\n",
       "      <td>0.000428</td>\n",
       "      <td>0.005385</td>\n",
       "      <td>0.000000</td>\n",
       "      <td>0.000023</td>\n",
       "      <td>0.000000</td>\n",
       "      <td>0.000000</td>\n",
       "      <td>0.000000</td>\n",
       "      <td>0.000496</td>\n",
       "      <td>0.000000</td>\n",
       "    </tr>\n",
       "  </tbody>\n",
       "</table>\n",
       "</div>"
      ],
      "text/plain": [
       "inter2         0         1         2         3         4         5         6  \\\n",
       "inter1                                                                         \n",
       "1       0.002186  0.000135  0.000766  0.002141  0.000068  0.000000  0.001284   \n",
       "2       0.001690  0.012664  0.000023  0.000045  0.000023  0.000000  0.000000   \n",
       "3       0.002434  0.017373  0.000225  0.002186  0.000090  0.000113  0.000158   \n",
       "4       0.000203  0.000924  0.000023  0.000293  0.003583  0.000068  0.000023   \n",
       "5       0.031682  0.072962  0.000000  0.000090  0.000000  0.023818  0.000901   \n",
       "6       0.679375  0.056739  0.000000  0.000090  0.000000  0.000248  0.000901   \n",
       "7       0.000068  0.000000  0.000000  0.000000  0.000000  0.000000  0.000000   \n",
       "8       0.000428  0.005385  0.000000  0.000023  0.000000  0.000000  0.000000   \n",
       "\n",
       "inter2         7         8  \n",
       "inter1                      \n",
       "1       0.005881  0.007999  \n",
       "2       0.005025  0.000045  \n",
       "3       0.026274  0.000383  \n",
       "4       0.011244  0.000045  \n",
       "5       0.020685  0.000225  \n",
       "6       0.000248  0.000023  \n",
       "7       0.000000  0.000000  \n",
       "8       0.000496  0.000000  "
      ]
     },
     "execution_count": 55,
     "metadata": {},
     "output_type": "execute_result"
    }
   ],
   "source": [
    "Inter1_2_All"
   ]
  },
  {
   "cell_type": "code",
   "execution_count": 57,
   "metadata": {},
   "outputs": [],
   "source": [
    "inter_code_table={0:inter_codes.description[0],\n",
    "                             1:inter_codes.description[1],\n",
    "                             2:inter_codes.description[2],\n",
    "                             3:inter_codes.description[3],\n",
    "                             4:inter_codes.description[4],\n",
    "                             5:inter_codes.description[5],\n",
    "                             6:inter_codes.description[6],\n",
    "                             7:inter_codes.description[7],\n",
    "                             8:inter_codes.description[8]}"
   ]
  },
  {
   "cell_type": "code",
   "execution_count": 58,
   "metadata": {},
   "outputs": [],
   "source": [
    "Inter1_2_All=Inter1_2_All.rename(columns=inter_code_table,index=inter_code_table)\n",
    "Inter1_2_All_Protest=Inter1_2_All_Protest.rename(columns=inter_code_table,index=inter_code_table)\n",
    "Fatalities_Inter1_2_All=Fatalities_Inter1_2_All.rename(columns=inter_code_table,index=inter_code_table)\n",
    "Fatalities_Inter1_2_Protest=Fatalities_Inter1_2_Protest.rename(columns=inter_code_table,index=inter_code_table)\n",
    "for m in range(Month_distribution.index.sort_values().max()):\n",
    "    Inter1_2_month[m]=Inter1_2_month[m].rename(columns=inter_code_table,index=inter_code_table)\n",
    "    Inter1_2_Protest_month[m]=Inter1_2_Protest_month[m].rename(columns=inter_code_table,index=inter_code_table)\n",
    "    Fatalities_Inter1_2_month[m]=Fatalities_Inter1_2_month[m].rename(columns=inter_code_table,index=inter_code_table)\n",
    "    Fatalities_Inter1_2_Protest_month[m]=Fatalities_Inter1_2_Protest_month[m].rename(columns=inter_code_table,index=inter_code_table)"
   ]
  },
  {
   "cell_type": "code",
   "execution_count": 59,
   "metadata": {},
   "outputs": [],
   "source": [
    "def get_Mapdata(input_data,input_title):\n",
    "    trace = go.Heatmap(z=input_data.to_dict(orient='split')['data'],\n",
    "                       x=input_data.to_dict(orient='split')['columns'],\n",
    "                       y=input_data.to_dict(orient='split')['index'],\n",
    "                       colorscale=[[0.0, 'rgb(165,0,38)'], [0.01, 'rgb(215,48,39)'], \n",
    "                                   [0.2, 'rgb(244,109,67)'], [0.3, 'rgb(253,174,97)'], \n",
    "                                   [0.4, 'rgb(254,224,144)'], [0.5, 'rgb(224,243,248)'],\n",
    "                                   [0.6, 'rgb(171,217,233)'], [0.7, 'rgb(116,173,209)'], \n",
    "                                   [0.8, 'rgb(69,117,180)'], [1.0, 'rgb(49,54,149)']],\n",
    "                       colorbar = dict(\n",
    "                                    title = input_title)\n",
    "                      )\n",
    "    return [trace]"
   ]
  },
  {
   "cell_type": "code",
   "execution_count": 60,
   "metadata": {},
   "outputs": [],
   "source": [
    "layout_All = go.Layout(\n",
    "    title='Interaction table over period (26-jan-2016 to 26-jan-2019)',\n",
    "        autosize=True,\n",
    "        yaxis=go.layout.YAxis(\n",
    "                              title='Actor 1',\n",
    "                              automargin=True,\n",
    "                             ),\n",
    "        xaxis=go.layout.XAxis(\n",
    "                              title='Actor 2',\n",
    "                              automargin=True,\n",
    "                             ),    \n",
    ")"
   ]
  },
  {
   "cell_type": "code",
   "execution_count": 61,
   "metadata": {},
   "outputs": [],
   "source": [
    "# fig1 = go.Figure(data=get_Mapdata(Inter1_2_All,'Normalized Frequency'), layout=layout_All)\n",
    "# iplot(fig, filename='heatmap-1')"
   ]
  },
  {
   "cell_type": "code",
   "execution_count": 62,
   "metadata": {},
   "outputs": [],
   "source": [
    "# fig = go.Figure(data=get_Mapdata(Fatalities_Inter1_2_All,'Fatalities Count'), layout=layout_All)\n",
    "# iplot(fig, filename='heatmap-2')"
   ]
  },
  {
   "cell_type": "code",
   "execution_count": 63,
   "metadata": {},
   "outputs": [],
   "source": [
    "def get_Mapdata_slider(input_data,input_title):\n",
    "    trace=[]\n",
    "    for m in range(Month_distribution.index.sort_values().max()):\n",
    "             trace.append( go.Heatmap(z=input_data[m].to_dict(orient='split')['data'],\n",
    "                       x=input_data[m].to_dict(orient='split')['columns'],\n",
    "                       y=input_data[m].to_dict(orient='split')['index'],\n",
    "                       colorscale=[[0.0, 'rgb(165,0,38)'], [0.01, 'rgb(215,48,39)'], \n",
    "                                   [0.2, 'rgb(244,109,67)'], [0.3, 'rgb(253,174,97)'], \n",
    "                                   [0.4, 'rgb(254,224,144)'], [0.5, 'rgb(224,243,248)'],\n",
    "                                   [0.6, 'rgb(171,217,233)'], [0.7, 'rgb(116,173,209)'], \n",
    "                                   [0.8, 'rgb(69,117,180)'], [1.0, 'rgb(49,54,149)']],\n",
    "                       colorbar = dict(\n",
    "                                    title = input_title)\n",
    "                      ))\n",
    "    return [trace]"
   ]
  },
  {
   "cell_type": "code",
   "execution_count": 64,
   "metadata": {},
   "outputs": [],
   "source": [
    "Slider_data1=get_Mapdata_slider(Inter1_2_month,'Normalized Frequency')"
   ]
  },
  {
   "cell_type": "code",
   "execution_count": 65,
   "metadata": {},
   "outputs": [
    {
     "data": {
      "application/vnd.plotly.v1+json": {
       "config": {
        "linkText": "Export to plot.ly",
        "plotlyServerURL": "https://plot.ly",
        "showLink": false
       },
       "data": [
        {
         "colorbar": {
          "title": {
           "text": "Normalized Frequency"
          }
         },
         "colorscale": [
          [
           0,
           "rgb(165,0,38)"
          ],
          [
           0.01,
           "rgb(215,48,39)"
          ],
          [
           0.2,
           "rgb(244,109,67)"
          ],
          [
           0.3,
           "rgb(253,174,97)"
          ],
          [
           0.4,
           "rgb(254,224,144)"
          ],
          [
           0.5,
           "rgb(224,243,248)"
          ],
          [
           0.6,
           "rgb(171,217,233)"
          ],
          [
           0.7,
           "rgb(116,173,209)"
          ],
          [
           0.8,
           "rgb(69,117,180)"
          ],
          [
           1,
           "rgb(49,54,149)"
          ]
         ],
         "type": "heatmap",
         "uid": "b9319895-3994-4b22-8b64-054ac949025d",
         "x": [
          "No actor",
          "Government and state security services",
          "Rebel Groups",
          "Political Militias",
          "Identity Militias",
          "Rioters",
          "Protestors",
          "Civilians",
          "External/other forces"
         ],
         "y": [
          "Government and state security services",
          "Rebel Groups",
          "Political Militias",
          "Identity Militias",
          "Rioters",
          "Protestors",
          "External/other forces"
         ],
         "z": [
          [
           0.0025100401606425703,
           0,
           0,
           0.0025100401606425703,
           0,
           0,
           0,
           0.009036144578313253,
           0.004518072289156626
          ],
          [
           0,
           0.01104417670682731,
           0,
           0,
           0,
           0,
           0,
           0.004016064257028112,
           0
          ],
          [
           0.001004016064257028,
           0.01355421686746988,
           0.000502008032128514,
           0.0030120481927710845,
           0.000502008032128514,
           0.000502008032128514,
           0.000502008032128514,
           0.03765060240963856,
           0.001004016064257028
          ],
          [
           0.000502008032128514,
           0.000502008032128514,
           0,
           0.001004016064257028,
           0.0050200803212851405,
           0,
           0,
           0.01957831325301205,
           0
          ],
          [
           0.05220883534136546,
           0.05220883534136546,
           0,
           0.000502008032128514,
           0,
           0.05070281124497992,
           0.000502008032128514,
           0.0286144578313253,
           0
          ],
          [
           0.6219879518072289,
           0.07028112449799197,
           0,
           0,
           0,
           0,
           0.002008032128514056,
           0.0015060240963855422,
           0.000502008032128514
          ],
          [
           0,
           0,
           0,
           0.000502008032128514,
           0,
           0,
           0,
           0,
           0
          ]
         ]
        },
        {
         "colorbar": {
          "title": {
           "text": "Normalized Frequency"
          }
         },
         "colorscale": [
          [
           0,
           "rgb(165,0,38)"
          ],
          [
           0.01,
           "rgb(215,48,39)"
          ],
          [
           0.2,
           "rgb(244,109,67)"
          ],
          [
           0.3,
           "rgb(253,174,97)"
          ],
          [
           0.4,
           "rgb(254,224,144)"
          ],
          [
           0.5,
           "rgb(224,243,248)"
          ],
          [
           0.6,
           "rgb(171,217,233)"
          ],
          [
           0.7,
           "rgb(116,173,209)"
          ],
          [
           0.8,
           "rgb(69,117,180)"
          ],
          [
           1,
           "rgb(49,54,149)"
          ]
         ],
         "type": "heatmap",
         "uid": "19b17508-e076-434a-8e8d-1248fe675f9c",
         "x": [
          "No actor",
          "Government and state security services",
          "Rebel Groups",
          "Political Militias",
          "Identity Militias",
          "Rioters",
          "Protestors",
          "Civilians",
          "External/other forces"
         ],
         "y": [
          "Government and state security services",
          "Rebel Groups",
          "Political Militias",
          "Identity Militias",
          "Rioters",
          "Protestors",
          "External/other forces"
         ],
         "z": [
          [
           0.0016313213703099511,
           0.000543773790103317,
           0.0016313213703099511,
           0.000543773790103317,
           0,
           0,
           0,
           0.011419249592169658,
           0.010331702011963024
          ],
          [
           0.0016313213703099511,
           0.008156606851549755,
           0,
           0,
           0,
           0,
           0,
           0.0076128330614464385,
           0
          ],
          [
           0.002175095160413268,
           0.011963023382272975,
           0,
           0.004893964110929853,
           0,
           0.000543773790103317,
           0,
           0.04676454594888527,
           0
          ],
          [
           0,
           0.001087547580206634,
           0,
           0,
           0.005437737901033171,
           0,
           0,
           0.01794453507340946,
           0
          ],
          [
           0.028276237085372486,
           0.0478520935290919,
           0,
           0,
           0,
           0.04187058183795541,
           0.000543773790103317,
           0.043501903208265365,
           0
          ],
          [
           0.6568787384448069,
           0.042958129418162044,
           0,
           0,
           0,
           0.000543773790103317,
           0.000543773790103317,
           0.002175095160413268,
           0
          ],
          [
           0,
           0,
           0,
           0,
           0,
           0,
           0,
           0.000543773790103317,
           0
          ]
         ]
        },
        {
         "colorbar": {
          "title": {
           "text": "Normalized Frequency"
          }
         },
         "colorscale": [
          [
           0,
           "rgb(165,0,38)"
          ],
          [
           0.01,
           "rgb(215,48,39)"
          ],
          [
           0.2,
           "rgb(244,109,67)"
          ],
          [
           0.3,
           "rgb(253,174,97)"
          ],
          [
           0.4,
           "rgb(254,224,144)"
          ],
          [
           0.5,
           "rgb(224,243,248)"
          ],
          [
           0.6,
           "rgb(171,217,233)"
          ],
          [
           0.7,
           "rgb(116,173,209)"
          ],
          [
           0.8,
           "rgb(69,117,180)"
          ],
          [
           1,
           "rgb(49,54,149)"
          ]
         ],
         "type": "heatmap",
         "uid": "4c9b7fab-6cea-4cbf-8cec-243c9573def0",
         "x": [
          "No actor",
          "Government and state security services",
          "Political Militias",
          "Identity Militias",
          "Rioters",
          "Protestors",
          "Civilians",
          "External/other forces"
         ],
         "y": [
          "Government and state security services",
          "Rebel Groups",
          "Political Militias",
          "Identity Militias",
          "Rioters",
          "Protestors",
          "External/other forces"
         ],
         "z": [
          [
           0.00182370820668693,
           0.0006079027355623101,
           0.0012158054711246201,
           0,
           0,
           0,
           0.00425531914893617,
           0.00182370820668693
          ],
          [
           0.0012158054711246201,
           0.00851063829787234,
           0,
           0,
           0,
           0,
           0.0024316109422492403,
           0
          ],
          [
           0.0012158054711246201,
           0.00851063829787234,
           0.00364741641337386,
           0,
           0,
           0,
           0.0243161094224924,
           0
          ],
          [
           0,
           0,
           0,
           0.00303951367781155,
           0,
           0,
           0.00425531914893617,
           0
          ],
          [
           0.02917933130699088,
           0.09240121580547113,
           0,
           0,
           0.029787234042553193,
           0,
           0.03404255319148936,
           0.0006079027355623101
          ],
          [
           0.6638297872340425,
           0.07477203647416414,
           0,
           0,
           0,
           0.0012158054711246201,
           0,
           0
          ],
          [
           0,
           0.0060790273556231,
           0,
           0,
           0,
           0,
           0.0012158054711246201,
           0
          ]
         ]
        },
        {
         "colorbar": {
          "title": {
           "text": "Normalized Frequency"
          }
         },
         "colorscale": [
          [
           0,
           "rgb(165,0,38)"
          ],
          [
           0.01,
           "rgb(215,48,39)"
          ],
          [
           0.2,
           "rgb(244,109,67)"
          ],
          [
           0.3,
           "rgb(253,174,97)"
          ],
          [
           0.4,
           "rgb(254,224,144)"
          ],
          [
           0.5,
           "rgb(224,243,248)"
          ],
          [
           0.6,
           "rgb(171,217,233)"
          ],
          [
           0.7,
           "rgb(116,173,209)"
          ],
          [
           0.8,
           "rgb(69,117,180)"
          ],
          [
           1,
           "rgb(49,54,149)"
          ]
         ],
         "type": "heatmap",
         "uid": "9ef71641-681f-41bd-bb13-558b57f6ae4d",
         "x": [
          "No actor",
          "Government and state security services",
          "Rebel Groups",
          "Political Militias",
          "Identity Militias",
          "Rioters",
          "Protestors",
          "Civilians",
          "External/other forces"
         ],
         "y": [
          "Government and state security services",
          "Rebel Groups",
          "Political Militias",
          "Identity Militias",
          "Rioters",
          "Protestors",
          "External/other forces"
         ],
         "z": [
          [
           0,
           0,
           0,
           0.0006112469437652812,
           0,
           0,
           0,
           0.004889975550122249,
           0.017114914425427872
          ],
          [
           0,
           0.006723716381418093,
           0,
           0,
           0,
           0,
           0,
           0.007946210268948655,
           0
          ],
          [
           0.0012224938875305623,
           0.015281173594132029,
           0.0006112469437652812,
           0.0006112469437652812,
           0.0006112469437652812,
           0,
           0,
           0.03606356968215159,
           0
          ],
          [
           0,
           0,
           0,
           0,
           0.0012224938875305623,
           0,
           0,
           0.009779951100244499,
           0
          ],
          [
           0.055623471882640586,
           0.0715158924205379,
           0,
           0,
           0,
           0.020171149144254278,
           0.0006112469437652812,
           0.034229828850855744,
           0
          ],
          [
           0.6418092909535452,
           0.06356968215158924,
           0,
           0,
           0,
           0,
           0,
           0.0006112469437652812,
           0
          ],
          [
           0,
           0.008557457212713936,
           0,
           0,
           0,
           0,
           0,
           0.0006112469437652812,
           0
          ]
         ]
        },
        {
         "colorbar": {
          "title": {
           "text": "Normalized Frequency"
          }
         },
         "colorscale": [
          [
           0,
           "rgb(165,0,38)"
          ],
          [
           0.01,
           "rgb(215,48,39)"
          ],
          [
           0.2,
           "rgb(244,109,67)"
          ],
          [
           0.3,
           "rgb(253,174,97)"
          ],
          [
           0.4,
           "rgb(254,224,144)"
          ],
          [
           0.5,
           "rgb(224,243,248)"
          ],
          [
           0.6,
           "rgb(171,217,233)"
          ],
          [
           0.7,
           "rgb(116,173,209)"
          ],
          [
           0.8,
           "rgb(69,117,180)"
          ],
          [
           1,
           "rgb(49,54,149)"
          ]
         ],
         "type": "heatmap",
         "uid": "02e10ac9-f5c1-4bb9-a97a-cf9597a0199c",
         "x": [
          "No actor",
          "Government and state security services",
          "Rebel Groups",
          "Political Militias",
          "Identity Militias",
          "Rioters",
          "Protestors",
          "Civilians",
          "External/other forces"
         ],
         "y": [
          "Government and state security services",
          "Rebel Groups",
          "Political Militias",
          "Identity Militias",
          "Rioters",
          "Protestors",
          "Civilians",
          "External/other forces"
         ],
         "z": [
          [
           0.007357449417535254,
           0,
           0,
           0.0030656039239730227,
           0.0006131207847946045,
           0,
           0,
           0.010423053341508276,
           0.00674432863274065
          ],
          [
           0,
           0.009809932556713672,
           0,
           0,
           0,
           0,
           0,
           0.00797057020232986,
           0
          ],
          [
           0.001226241569589209,
           0.019619865113427344,
           0,
           0.004904966278356836,
           0,
           0,
           0.0006131207847946045,
           0.03862660944206009,
           0.0018393623543838135
          ],
          [
           0,
           0.004291845493562232,
           0.0006131207847946045,
           0.0006131207847946045,
           0.004291845493562232,
           0,
           0,
           0.0269773145309626,
           0
          ],
          [
           0.02575107296137339,
           0.056407112201103615,
           0,
           0,
           0,
           0.018393623543838136,
           0.001226241569589209,
           0.028816676885346414,
           0
          ],
          [
           0.6762722256284488,
           0.03801348865726548,
           0,
           0,
           0,
           0,
           0.001226241569589209,
           0.0006131207847946045,
           0
          ],
          [
           0.0006131207847946045,
           0,
           0,
           0,
           0,
           0,
           0,
           0,
           0
          ],
          [
           0.001226241569589209,
           0,
           0,
           0,
           0,
           0,
           0,
           0.0018393623543838135,
           0
          ]
         ]
        },
        {
         "colorbar": {
          "title": {
           "text": "Normalized Frequency"
          }
         },
         "colorscale": [
          [
           0,
           "rgb(165,0,38)"
          ],
          [
           0.01,
           "rgb(215,48,39)"
          ],
          [
           0.2,
           "rgb(244,109,67)"
          ],
          [
           0.3,
           "rgb(253,174,97)"
          ],
          [
           0.4,
           "rgb(254,224,144)"
          ],
          [
           0.5,
           "rgb(224,243,248)"
          ],
          [
           0.6,
           "rgb(171,217,233)"
          ],
          [
           0.7,
           "rgb(116,173,209)"
          ],
          [
           0.8,
           "rgb(69,117,180)"
          ],
          [
           1,
           "rgb(49,54,149)"
          ]
         ],
         "type": "heatmap",
         "uid": "2c36750c-a36c-4d36-baea-675a404811b4",
         "x": [
          "No actor",
          "Government and state security services",
          "Political Militias",
          "Identity Militias",
          "Rioters",
          "Protestors",
          "Civilians",
          "External/other forces"
         ],
         "y": [
          "Government and state security services",
          "Rebel Groups",
          "Political Militias",
          "Identity Militias",
          "Rioters",
          "Protestors",
          "External/other forces"
         ],
         "z": [
          [
           0.0018472906403940886,
           0.0012315270935960591,
           0.003078817733990148,
           0.0006157635467980296,
           0,
           0,
           0.012315270935960592,
           0.004310344827586207
          ],
          [
           0.0006157635467980296,
           0.011699507389162561,
           0,
           0,
           0,
           0,
           0.003694581280788177,
           0
          ],
          [
           0.003078817733990148,
           0.02401477832512315,
           0.0018472906403940886,
           0,
           0.0006157635467980296,
           0,
           0.04864532019704434,
           0
          ],
          [
           0,
           0.0018472906403940886,
           0.0006157635467980296,
           0.005541871921182266,
           0.0018472906403940886,
           0,
           0.03017241379310345,
           0.0006157635467980296
          ],
          [
           0.042487684729064036,
           0.10036945812807882,
           0.0006157635467980296,
           0,
           0.019704433497536946,
           0.003694581280788177,
           0.01847290640394089,
           0.0006157635467980296
          ],
          [
           0.5979064039408867,
           0.05172413793103448,
           0,
           0,
           0.0012315270935960591,
           0.0006157635467980296,
           0.0012315270935960591,
           0
          ],
          [
           0.0006157635467980296,
           0.0018472906403940886,
           0,
           0,
           0,
           0,
           0.0006157635467980296,
           0
          ]
         ]
        },
        {
         "colorbar": {
          "title": {
           "text": "Normalized Frequency"
          }
         },
         "colorscale": [
          [
           0,
           "rgb(165,0,38)"
          ],
          [
           0.01,
           "rgb(215,48,39)"
          ],
          [
           0.2,
           "rgb(244,109,67)"
          ],
          [
           0.3,
           "rgb(253,174,97)"
          ],
          [
           0.4,
           "rgb(254,224,144)"
          ],
          [
           0.5,
           "rgb(224,243,248)"
          ],
          [
           0.6,
           "rgb(171,217,233)"
          ],
          [
           0.7,
           "rgb(116,173,209)"
          ],
          [
           0.8,
           "rgb(69,117,180)"
          ],
          [
           1,
           "rgb(49,54,149)"
          ]
         ],
         "type": "heatmap",
         "uid": "b9fcc8b7-0250-4af7-b918-4644705be65b",
         "x": [
          "No actor",
          "Government and state security services",
          "Rebel Groups",
          "Political Militias",
          "Identity Militias",
          "Rioters",
          "Protestors",
          "Civilians",
          "External/other forces"
         ],
         "y": [
          "Government and state security services",
          "Rebel Groups",
          "Political Militias",
          "Identity Militias",
          "Rioters",
          "Protestors",
          "Civilians",
          "External/other forces"
         ],
         "z": [
          [
           0.0031725888324873096,
           0.0006345177664974619,
           0.0006345177664974619,
           0.0019035532994923859,
           0,
           0,
           0,
           0.010786802030456852,
           0.00951776649746193
          ],
          [
           0.0012690355329949238,
           0.025380710659898477,
           0,
           0,
           0,
           0,
           0,
           0.010786802030456852,
           0
          ],
          [
           0.0012690355329949238,
           0.015862944162436547,
           0,
           0.0038071065989847717,
           0,
           0,
           0,
           0.0399746192893401,
           0.0012690355329949238
          ],
          [
           0.0006345177664974619,
           0.0012690355329949238,
           0,
           0.0019035532994923859,
           0.0031725888324873096,
           0,
           0,
           0.021573604060913704,
           0
          ],
          [
           0.037436548223350255,
           0.06281725888324872,
           0,
           0.0012690355329949238,
           0,
           0.030456852791878174,
           0.0019035532994923859,
           0.04060913705583756,
           0
          ],
          [
           0.6269035532994924,
           0.041243654822335024,
           0,
           0,
           0,
           0,
           0.0006345177664974619,
           0,
           0
          ],
          [
           0.0006345177664974619,
           0,
           0,
           0,
           0,
           0,
           0,
           0,
           0
          ],
          [
           0,
           0,
           0,
           0,
           0,
           0,
           0,
           0.0012690355329949238,
           0
          ]
         ]
        },
        {
         "colorbar": {
          "title": {
           "text": "Normalized Frequency"
          }
         },
         "colorscale": [
          [
           0,
           "rgb(165,0,38)"
          ],
          [
           0.01,
           "rgb(215,48,39)"
          ],
          [
           0.2,
           "rgb(244,109,67)"
          ],
          [
           0.3,
           "rgb(253,174,97)"
          ],
          [
           0.4,
           "rgb(254,224,144)"
          ],
          [
           0.5,
           "rgb(224,243,248)"
          ],
          [
           0.6,
           "rgb(171,217,233)"
          ],
          [
           0.7,
           "rgb(116,173,209)"
          ],
          [
           0.8,
           "rgb(69,117,180)"
          ],
          [
           1,
           "rgb(49,54,149)"
          ]
         ],
         "type": "heatmap",
         "uid": "f1e91b2c-940f-4b75-ba56-ea733102a1c6",
         "x": [
          "No actor",
          "Government and state security services",
          "Political Militias",
          "Identity Militias",
          "Rioters",
          "Protestors",
          "Civilians",
          "External/other forces"
         ],
         "y": [
          "Government and state security services",
          "Rebel Groups",
          "Political Militias",
          "Identity Militias",
          "Rioters",
          "Protestors",
          "External/other forces"
         ],
         "z": [
          [
           0.0027643400138217,
           0,
           0.0034554250172771253,
           0,
           0,
           0.007601935038009675,
           0.007601935038009675,
           0.00138217000691085
          ],
          [
           0,
           0.014512785072563926,
           0.000691085003455425,
           0,
           0,
           0,
           0.002073255010366275,
           0
          ],
          [
           0.000691085003455425,
           0.015894955079474776,
           0.000691085003455425,
           0,
           0,
           0,
           0.006910850034554251,
           0
          ],
          [
           0.000691085003455425,
           0.00138217000691085,
           0,
           0.000691085003455425,
           0,
           0,
           0.0055286800276434,
           0
          ],
          [
           0.03248099516240498,
           0.1492743607463718,
           0,
           0,
           0.007601935038009675,
           0,
           0.009675190048375951,
           0
          ],
          [
           0.6337249481686248,
           0.08914996544574982,
           0,
           0,
           0,
           0.00138217000691085,
           0,
           0
          ],
          [
           0.000691085003455425,
           0.0034554250172771253,
           0,
           0,
           0,
           0,
           0,
           0
          ]
         ]
        },
        {
         "colorbar": {
          "title": {
           "text": "Normalized Frequency"
          }
         },
         "colorscale": [
          [
           0,
           "rgb(165,0,38)"
          ],
          [
           0.01,
           "rgb(215,48,39)"
          ],
          [
           0.2,
           "rgb(244,109,67)"
          ],
          [
           0.3,
           "rgb(253,174,97)"
          ],
          [
           0.4,
           "rgb(254,224,144)"
          ],
          [
           0.5,
           "rgb(224,243,248)"
          ],
          [
           0.6,
           "rgb(171,217,233)"
          ],
          [
           0.7,
           "rgb(116,173,209)"
          ],
          [
           0.8,
           "rgb(69,117,180)"
          ],
          [
           1,
           "rgb(49,54,149)"
          ]
         ],
         "type": "heatmap",
         "uid": "aa886346-02e5-4f49-8a24-452305bdbd5b",
         "x": [
          "No actor",
          "Government and state security services",
          "Rebel Groups",
          "Political Militias",
          "Identity Militias",
          "Rioters",
          "Protestors",
          "Civilians",
          "External/other forces"
         ],
         "y": [
          "Government and state security services",
          "Rebel Groups",
          "Political Militias",
          "Identity Militias",
          "Rioters",
          "Protestors",
          "External/other forces"
         ],
         "z": [
          [
           0,
           0,
           0.0007369196757553427,
           0.0007369196757553427,
           0,
           0,
           0,
           0.0029476787030213707,
           0
          ],
          [
           0.0036845983787767134,
           0.010316875460574797,
           0,
           0,
           0,
           0,
           0,
           0.005158437730287398,
           0
          ],
          [
           0.002210759027266028,
           0.016212232866617538,
           0.0007369196757553427,
           0.002210759027266028,
           0,
           0,
           0.0007369196757553427,
           0.01915991156963891,
           0.0007369196757553427
          ],
          [
           0,
           0,
           0,
           0,
           0.002210759027266028,
           0,
           0,
           0.0007369196757553427,
           0
          ],
          [
           0.01989683124539425,
           0.03831982313927782,
           0,
           0,
           0,
           0.017686072218128224,
           0.0007369196757553427,
           0.01989683124539425,
           0.0007369196757553427
          ],
          [
           0.789240972733972,
           0.0397936624907885,
           0,
           0,
           0,
           0,
           0.002210759027266028,
           0,
           0
          ],
          [
           0,
           0.0029476787030213707,
           0,
           0,
           0,
           0,
           0,
           0,
           0
          ]
         ]
        },
        {
         "colorbar": {
          "title": {
           "text": "Normalized Frequency"
          }
         },
         "colorscale": [
          [
           0,
           "rgb(165,0,38)"
          ],
          [
           0.01,
           "rgb(215,48,39)"
          ],
          [
           0.2,
           "rgb(244,109,67)"
          ],
          [
           0.3,
           "rgb(253,174,97)"
          ],
          [
           0.4,
           "rgb(254,224,144)"
          ],
          [
           0.5,
           "rgb(224,243,248)"
          ],
          [
           0.6,
           "rgb(171,217,233)"
          ],
          [
           0.7,
           "rgb(116,173,209)"
          ],
          [
           0.8,
           "rgb(69,117,180)"
          ],
          [
           1,
           "rgb(49,54,149)"
          ]
         ],
         "type": "heatmap",
         "uid": "05a56fcf-1c3f-47c4-8f09-443c90906e77",
         "x": [
          "No actor",
          "Government and state security services",
          "Rebel Groups",
          "Political Militias",
          "Identity Militias",
          "Rioters",
          "Protestors",
          "Civilians",
          "External/other forces"
         ],
         "y": [
          "Government and state security services",
          "Rebel Groups",
          "Political Militias",
          "Identity Militias",
          "Rioters",
          "Protestors",
          "External/other forces"
         ],
         "z": [
          [
           0,
           0,
           0.0007412898443291327,
           0.0007412898443291327,
           0,
           0,
           0.0014825796886582653,
           0.004447739065974796,
           0.0029651593773165306
          ],
          [
           0.0014825796886582653,
           0.008895478131949592,
           0.0007412898443291327,
           0,
           0,
           0,
           0,
           0.004447739065974796,
           0
          ],
          [
           0.0037064492216456633,
           0.011860637509266123,
           0.0007412898443291327,
           0.0014825796886582653,
           0,
           0,
           0.0007412898443291327,
           0.03261675315048184,
           0
          ],
          [
           0,
           0.0014825796886582653,
           0,
           0.0007412898443291327,
           0.002223869532987398,
           0,
           0.0007412898443291327,
           0.006671608598962194,
           0.0007412898443291327
          ],
          [
           0.02223869532987398,
           0.07412898443291327,
           0,
           0,
           0,
           0.02223869532987398,
           0.0014825796886582653,
           0.017790956263899184,
           0.0007412898443291327
          ],
          [
           0.6945885841363973,
           0.07412898443291327,
           0,
           0,
           0,
           0.0007412898443291327,
           0.0007412898443291327,
           0,
           0
          ],
          [
           0.0007412898443291327,
           0,
           0,
           0,
           0,
           0,
           0,
           0.0007412898443291327,
           0
          ]
         ]
        },
        {
         "colorbar": {
          "title": {
           "text": "Normalized Frequency"
          }
         },
         "colorscale": [
          [
           0,
           "rgb(165,0,38)"
          ],
          [
           0.01,
           "rgb(215,48,39)"
          ],
          [
           0.2,
           "rgb(244,109,67)"
          ],
          [
           0.3,
           "rgb(253,174,97)"
          ],
          [
           0.4,
           "rgb(254,224,144)"
          ],
          [
           0.5,
           "rgb(224,243,248)"
          ],
          [
           0.6,
           "rgb(171,217,233)"
          ],
          [
           0.7,
           "rgb(116,173,209)"
          ],
          [
           0.8,
           "rgb(69,117,180)"
          ],
          [
           1,
           "rgb(49,54,149)"
          ]
         ],
         "type": "heatmap",
         "uid": "9a7b20ae-29b5-433c-85dc-8e129b9f9d47",
         "x": [
          "No actor",
          "Government and state security services",
          "Rebel Groups",
          "Political Militias",
          "Identity Militias",
          "Rioters",
          "Civilians",
          "External/other forces"
         ],
         "y": [
          "Government and state security services",
          "Rebel Groups",
          "Political Militias",
          "Identity Militias",
          "Rioters",
          "Protestors",
          "External/other forces"
         ],
         "z": [
          [
           0.0007587253414264037,
           0,
           0.0007587253414264037,
           0,
           0,
           0,
           0.0037936267071320183,
           0.004552352048558422
          ],
          [
           0.0007587253414264037,
           0.015933232169954476,
           0,
           0,
           0,
           0,
           0.004552352048558422,
           0
          ],
          [
           0.00834597875569044,
           0.015174506828528073,
           0,
           0.0007587253414264037,
           0,
           0,
           0.012898330804248861,
           0
          ],
          [
           0,
           0.002276176024279211,
           0,
           0.0007587253414264037,
           0.0007587253414264037,
           0,
           0.0030349013657056147,
           0
          ],
          [
           0.018209408194233688,
           0.07207890743550835,
           0,
           0,
           0,
           0.010622154779969651,
           0.012139605462822459,
           0
          ],
          [
           0.7071320182094082,
           0.06752655538694992,
           0,
           0,
           0,
           0.002276176024279211,
           0,
           0
          ],
          [
           0.0030349013657056147,
           0.030349013657056147,
           0,
           0,
           0,
           0,
           0.0015174506828528073,
           0
          ]
         ]
        },
        {
         "colorbar": {
          "title": {
           "text": "Normalized Frequency"
          }
         },
         "colorscale": [
          [
           0,
           "rgb(165,0,38)"
          ],
          [
           0.01,
           "rgb(215,48,39)"
          ],
          [
           0.2,
           "rgb(244,109,67)"
          ],
          [
           0.3,
           "rgb(253,174,97)"
          ],
          [
           0.4,
           "rgb(254,224,144)"
          ],
          [
           0.5,
           "rgb(224,243,248)"
          ],
          [
           0.6,
           "rgb(171,217,233)"
          ],
          [
           0.7,
           "rgb(116,173,209)"
          ],
          [
           0.8,
           "rgb(69,117,180)"
          ],
          [
           1,
           "rgb(49,54,149)"
          ]
         ],
         "type": "heatmap",
         "uid": "a0124d0e-5a79-4a62-923c-7e74aabc78ce",
         "x": [
          "No actor",
          "Government and state security services",
          "Rebel Groups",
          "Identity Militias",
          "Rioters",
          "Protestors",
          "Civilians",
          "External/other forces"
         ],
         "y": [
          "Government and state security services",
          "Rebel Groups",
          "Political Militias",
          "Identity Militias",
          "Rioters",
          "Protestors",
          "External/other forces"
         ],
         "z": [
          [
           0.0007593014426727411,
           0,
           0,
           0,
           0,
           0,
           0.0037965072133637054,
           0.015945330296127564
          ],
          [
           0.0015186028853454822,
           0.012908124525436599,
           0,
           0,
           0,
           0,
           0.002277904328018223,
           0
          ],
          [
           0.006074411541381929,
           0.02201974183750949,
           0.0007593014426727411,
           0,
           0,
           0,
           0.017463933181473046,
           0.0007593014426727411
          ],
          [
           0,
           0,
           0,
           0.006074411541381929,
           0,
           0,
           0.005315110098709187,
           0
          ],
          [
           0.02885345482156416,
           0.09035687167805619,
           0,
           0,
           0.02809415337889142,
           0.0007593014426727411,
           0.026575550493545937,
           0
          ],
          [
           0.6347760060744115,
           0.06909643128321943,
           0,
           0,
           0,
           0.0007593014426727411,
           0,
           0
          ],
          [
           0.0015186028853454822,
           0.02126044039483675,
           0,
           0,
           0,
           0,
           0.002277904328018223,
           0
          ]
         ]
        },
        {
         "colorbar": {
          "title": {
           "text": "Normalized Frequency"
          }
         },
         "colorscale": [
          [
           0,
           "rgb(165,0,38)"
          ],
          [
           0.01,
           "rgb(215,48,39)"
          ],
          [
           0.2,
           "rgb(244,109,67)"
          ],
          [
           0.3,
           "rgb(253,174,97)"
          ],
          [
           0.4,
           "rgb(254,224,144)"
          ],
          [
           0.5,
           "rgb(224,243,248)"
          ],
          [
           0.6,
           "rgb(171,217,233)"
          ],
          [
           0.7,
           "rgb(116,173,209)"
          ],
          [
           0.8,
           "rgb(69,117,180)"
          ],
          [
           1,
           "rgb(49,54,149)"
          ]
         ],
         "type": "heatmap",
         "uid": "84b6ea0e-5696-4ca5-8482-9b6592a86565",
         "x": [
          "No actor",
          "Government and state security services",
          "Rebel Groups",
          "Political Militias",
          "Identity Militias",
          "Rioters",
          "Protestors",
          "Civilians",
          "External/other forces"
         ],
         "y": [
          "Government and state security services",
          "Rebel Groups",
          "Political Militias",
          "Identity Militias",
          "Rioters",
          "Protestors",
          "Civilians",
          "External/other forces"
         ],
         "z": [
          [
           0.005455962587685113,
           0,
           0.000779423226812159,
           0.002338269680436477,
           0,
           0,
           0,
           0.00779423226812159,
           0.000779423226812159
          ],
          [
           0.001558846453624318,
           0.01558846453624318,
           0,
           0,
           0,
           0,
           0,
           0.006235385814497272,
           0
          ],
          [
           0,
           0.03351519875292284,
           0,
           0.003117692907248636,
           0.000779423226812159,
           0,
           0,
           0.03975058456742011,
           0.000779423226812159
          ],
          [
           0,
           0.001558846453624318,
           0,
           0,
           0.010911925175370226,
           0,
           0,
           0.010132501948558068,
           0
          ],
          [
           0.02260327357755261,
           0.04988308651597818,
           0,
           0,
           0,
           0.034294621979735,
           0.000779423226812159,
           0.021823850350740453,
           0
          ],
          [
           0.6453624318004677,
           0.05845674201091192,
           0,
           0.000779423226812159,
           0,
           0,
           0,
           0,
           0
          ],
          [
           0.000779423226812159,
           0,
           0,
           0,
           0,
           0,
           0,
           0,
           0
          ],
          [
           0,
           0.02338269680436477,
           0,
           0,
           0,
           0,
           0,
           0.000779423226812159,
           0
          ]
         ]
        },
        {
         "colorbar": {
          "title": {
           "text": "Normalized Frequency"
          }
         },
         "colorscale": [
          [
           0,
           "rgb(165,0,38)"
          ],
          [
           0.01,
           "rgb(215,48,39)"
          ],
          [
           0.2,
           "rgb(244,109,67)"
          ],
          [
           0.3,
           "rgb(253,174,97)"
          ],
          [
           0.4,
           "rgb(254,224,144)"
          ],
          [
           0.5,
           "rgb(224,243,248)"
          ],
          [
           0.6,
           "rgb(171,217,233)"
          ],
          [
           0.7,
           "rgb(116,173,209)"
          ],
          [
           0.8,
           "rgb(69,117,180)"
          ],
          [
           1,
           "rgb(49,54,149)"
          ]
         ],
         "type": "heatmap",
         "uid": "6ca8c926-5e55-4395-a3d0-e88b3c9b094f",
         "x": [
          "No actor",
          "Government and state security services",
          "Rebel Groups",
          "Political Militias",
          "Identity Militias",
          "Rioters",
          "Protestors",
          "Civilians",
          "External/other forces"
         ],
         "y": [
          "Government and state security services",
          "Rebel Groups",
          "Political Militias",
          "Identity Militias",
          "Rioters",
          "Protestors",
          "External/other forces"
         ],
         "z": [
          [
           0,
           0,
           0,
           0.0007867820613690008,
           0,
           0,
           0.0015735641227380016,
           0.003933910306845004,
           0.013375295043273014
          ],
          [
           0.0023603461841070024,
           0.00865460267505901,
           0,
           0,
           0,
           0,
           0,
           0.004720692368214005,
           0
          ],
          [
           0.0023603461841070024,
           0.00944138473642801,
           0.0007867820613690008,
           0.003147128245476003,
           0,
           0,
           0,
           0.020456333595594022,
           0
          ],
          [
           0.0015735641227380016,
           0.0007867820613690008,
           0,
           0,
           0.006294256490952006,
           0,
           0,
           0.014948859166011016,
           0
          ],
          [
           0.05664830841856806,
           0.1022816679779701,
           0,
           0,
           0,
           0.01888276947285602,
           0,
           0.01730920535011802,
           0
          ],
          [
           0.6695515342250197,
           0.03855232100708104,
           0,
           0,
           0,
           0.0007867820613690008,
           0,
           0,
           0
          ],
          [
           0,
           0,
           0,
           0,
           0,
           0,
           0,
           0.0007867820613690008,
           0
          ]
         ]
        },
        {
         "colorbar": {
          "title": {
           "text": "Normalized Frequency"
          }
         },
         "colorscale": [
          [
           0,
           "rgb(165,0,38)"
          ],
          [
           0.01,
           "rgb(215,48,39)"
          ],
          [
           0.2,
           "rgb(244,109,67)"
          ],
          [
           0.3,
           "rgb(253,174,97)"
          ],
          [
           0.4,
           "rgb(254,224,144)"
          ],
          [
           0.5,
           "rgb(224,243,248)"
          ],
          [
           0.6,
           "rgb(171,217,233)"
          ],
          [
           0.7,
           "rgb(116,173,209)"
          ],
          [
           0.8,
           "rgb(69,117,180)"
          ],
          [
           1,
           "rgb(49,54,149)"
          ]
         ],
         "type": "heatmap",
         "uid": "6fc3fb78-5459-4182-a0a1-f8d7d3bf77d0",
         "x": [
          "No actor",
          "Government and state security services",
          "Rebel Groups",
          "Political Militias",
          "Identity Militias",
          "Rioters",
          "Protestors",
          "Civilians",
          "External/other forces"
         ],
         "y": [
          "Government and state security services",
          "Rebel Groups",
          "Political Militias",
          "Identity Militias",
          "Rioters",
          "Protestors",
          "External/other forces"
         ],
         "z": [
          [
           0.006493506493506494,
           0,
           0.0016233766233766235,
           0.0016233766233766235,
           0,
           0,
           0,
           0.006493506493506494,
           0.004058441558441558
          ],
          [
           0.0008116883116883117,
           0.017045454545454544,
           0,
           0,
           0.0008116883116883117,
           0,
           0,
           0.0016233766233766235,
           0
          ],
          [
           0.003246753246753247,
           0.030032467532467532,
           0.0008116883116883117,
           0.0016233766233766235,
           0,
           0.0008116883116883117,
           0,
           0.025162337662337664,
           0.0008116883116883117
          ],
          [
           0,
           0,
           0,
           0,
           0.003246753246753247,
           0,
           0,
           0.033279220779220776,
           0
          ],
          [
           0.028409090909090908,
           0.05519480519480519,
           0,
           0,
           0,
           0.010551948051948052,
           0,
           0.017045454545454544,
           0.0008116883116883117
          ],
          [
           0.6964285714285714,
           0.048701298701298704,
           0,
           0.0008116883116883117,
           0,
           0,
           0.0016233766233766235,
           0,
           0
          ],
          [
           0.0008116883116883117,
           0,
           0,
           0,
           0,
           0,
           0,
           0,
           0
          ]
         ]
        },
        {
         "colorbar": {
          "title": {
           "text": "Normalized Frequency"
          }
         },
         "colorscale": [
          [
           0,
           "rgb(165,0,38)"
          ],
          [
           0.01,
           "rgb(215,48,39)"
          ],
          [
           0.2,
           "rgb(244,109,67)"
          ],
          [
           0.3,
           "rgb(253,174,97)"
          ],
          [
           0.4,
           "rgb(254,224,144)"
          ],
          [
           0.5,
           "rgb(224,243,248)"
          ],
          [
           0.6,
           "rgb(171,217,233)"
          ],
          [
           0.7,
           "rgb(116,173,209)"
          ],
          [
           0.8,
           "rgb(69,117,180)"
          ],
          [
           1,
           "rgb(49,54,149)"
          ]
         ],
         "type": "heatmap",
         "uid": "cae35360-bd6c-4c0a-97ab-887cbca71c74",
         "x": [
          "No actor",
          "Government and state security services",
          "Rebel Groups",
          "Political Militias",
          "Identity Militias",
          "Rioters",
          "Protestors",
          "Civilians",
          "External/other forces"
         ],
         "y": [
          "Government and state security services",
          "Rebel Groups",
          "Political Militias",
          "Identity Militias",
          "Rioters",
          "Protestors"
         ],
         "z": [
          [
           0.0016474464579901153,
           0,
           0.004942339373970346,
           0.006589785831960461,
           0,
           0,
           0,
           0.009060955518945634,
           0
          ],
          [
           0,
           0.002471169686985173,
           0,
           0,
           0,
           0,
           0,
           0.005766062602965404,
           0
          ],
          [
           0.0032948929159802307,
           0.009060955518945634,
           0,
           0.0008237232289950577,
           0,
           0,
           0,
           0.018945634266886325,
           0.0008237232289950577
          ],
          [
           0,
           0.0032948929159802307,
           0,
           0.0008237232289950577,
           0.011532125205930808,
           0,
           0,
           0.01070840197693575,
           0
          ],
          [
           0.009884678747940691,
           0.0642504118616145,
           0,
           0,
           0,
           0.009884678747940691,
           0,
           0.01070840197693575,
           0
          ],
          [
           0.7322899505766063,
           0.0815485996705107,
           0,
           0.0008237232289950577,
           0,
           0,
           0.0008237232289950577,
           0,
           0
          ]
         ]
        },
        {
         "colorbar": {
          "title": {
           "text": "Normalized Frequency"
          }
         },
         "colorscale": [
          [
           0,
           "rgb(165,0,38)"
          ],
          [
           0.01,
           "rgb(215,48,39)"
          ],
          [
           0.2,
           "rgb(244,109,67)"
          ],
          [
           0.3,
           "rgb(253,174,97)"
          ],
          [
           0.4,
           "rgb(254,224,144)"
          ],
          [
           0.5,
           "rgb(224,243,248)"
          ],
          [
           0.6,
           "rgb(171,217,233)"
          ],
          [
           0.7,
           "rgb(116,173,209)"
          ],
          [
           0.8,
           "rgb(69,117,180)"
          ],
          [
           1,
           "rgb(49,54,149)"
          ]
         ],
         "type": "heatmap",
         "uid": "82723b18-9c21-4fde-9403-477405bbaec6",
         "x": [
          "No actor",
          "Government and state security services",
          "Rebel Groups",
          "Political Militias",
          "Identity Militias",
          "Rioters",
          "Protestors",
          "Civilians",
          "External/other forces"
         ],
         "y": [
          "Government and state security services",
          "Rebel Groups",
          "Political Militias",
          "Identity Militias",
          "Rioters",
          "Protestors"
         ],
         "z": [
          [
           0,
           0,
           0.0008431703204047217,
           0,
           0,
           0,
           0,
           0.005902192242833052,
           0.024451939291736932
          ],
          [
           0,
           0.021079258010118045,
           0,
           0,
           0,
           0,
           0,
           0.0016863406408094434,
           0
          ],
          [
           0,
           0.026981450252951095,
           0,
           0.003372681281618887,
           0,
           0,
           0,
           0.012647554806070826,
           0.0008431703204047217
          ],
          [
           0,
           0.0016863406408094434,
           0,
           0,
           0.003372681281618887,
           0,
           0,
           0.012647554806070826,
           0
          ],
          [
           0.02782462057335582,
           0.0893760539629005,
           0,
           0,
           0,
           0.01517706576728499,
           0.0008431703204047217,
           0.006745362563237774,
           0
          ],
          [
           0.7074198988195616,
           0.03625632377740304,
           0,
           0,
           0,
           0.0008431703204047217,
           0,
           0,
           0
          ]
         ]
        },
        {
         "colorbar": {
          "title": {
           "text": "Normalized Frequency"
          }
         },
         "colorscale": [
          [
           0,
           "rgb(165,0,38)"
          ],
          [
           0.01,
           "rgb(215,48,39)"
          ],
          [
           0.2,
           "rgb(244,109,67)"
          ],
          [
           0.3,
           "rgb(253,174,97)"
          ],
          [
           0.4,
           "rgb(254,224,144)"
          ],
          [
           0.5,
           "rgb(224,243,248)"
          ],
          [
           0.6,
           "rgb(171,217,233)"
          ],
          [
           0.7,
           "rgb(116,173,209)"
          ],
          [
           0.8,
           "rgb(69,117,180)"
          ],
          [
           1,
           "rgb(49,54,149)"
          ]
         ],
         "type": "heatmap",
         "uid": "d9fe1fed-8dc6-4d07-81ba-ce76345c93da",
         "x": [
          "No actor",
          "Government and state security services",
          "Rebel Groups",
          "Political Militias",
          "Identity Militias",
          "Rioters",
          "Civilians",
          "External/other forces"
         ],
         "y": [
          "Government and state security services",
          "Rebel Groups",
          "Political Militias",
          "Identity Militias",
          "Rioters",
          "Protestors",
          "External/other forces"
         ],
         "z": [
          [
           0.003404255319148936,
           0,
           0.000851063829787234,
           0.000851063829787234,
           0,
           0,
           0.005957446808510639,
           0
          ],
          [
           0.002553191489361702,
           0.02127659574468085,
           0,
           0,
           0,
           0,
           0.005106382978723404,
           0
          ],
          [
           0.001702127659574468,
           0.011063829787234043,
           0,
           0.00425531914893617,
           0,
           0,
           0.02468085106382979,
           0
          ],
          [
           0,
           0.000851063829787234,
           0,
           0.001702127659574468,
           0.000851063829787234,
           0,
           0.005106382978723404,
           0
          ],
          [
           0.04,
           0.09361702127659574,
           0,
           0,
           0,
           0.05191489361702128,
           0.02127659574468085,
           0.000851063829787234
          ],
          [
           0.6382978723404256,
           0.06127659574468085,
           0,
           0,
           0,
           0,
           0,
           0
          ],
          [
           0,
           0.002553191489361702,
           0,
           0,
           0,
           0,
           0,
           0
          ]
         ]
        },
        {
         "colorbar": {
          "title": {
           "text": "Normalized Frequency"
          }
         },
         "colorscale": [
          [
           0,
           "rgb(165,0,38)"
          ],
          [
           0.01,
           "rgb(215,48,39)"
          ],
          [
           0.2,
           "rgb(244,109,67)"
          ],
          [
           0.3,
           "rgb(253,174,97)"
          ],
          [
           0.4,
           "rgb(254,224,144)"
          ],
          [
           0.5,
           "rgb(224,243,248)"
          ],
          [
           0.6,
           "rgb(171,217,233)"
          ],
          [
           0.7,
           "rgb(116,173,209)"
          ],
          [
           0.8,
           "rgb(69,117,180)"
          ],
          [
           1,
           "rgb(49,54,149)"
          ]
         ],
         "type": "heatmap",
         "uid": "6a09e3a9-ed17-41d1-aee2-c732421d5e12",
         "x": [
          "No actor",
          "Government and state security services",
          "Political Militias",
          "Identity Militias",
          "Rioters",
          "Protestors",
          "Civilians",
          "External/other forces"
         ],
         "y": [
          "Government and state security services",
          "Rebel Groups",
          "Political Militias",
          "Identity Militias",
          "Rioters",
          "Protestors",
          "External/other forces"
         ],
         "z": [
          [
           0.0051325919589392645,
           0,
           0.001710863986313088,
           0,
           0,
           0.000855431993156544,
           0.0025662959794696323,
           0.04448246364414029
          ],
          [
           0.00427715996578272,
           0.007698887938408896,
           0,
           0,
           0,
           0,
           0.00427715996578272,
           0
          ],
          [
           0.000855431993156544,
           0.018819503849443968,
           0.001710863986313088,
           0,
           0.000855431993156544,
           0.000855431993156544,
           0.017964071856287425,
           0
          ],
          [
           0,
           0,
           0,
           0.00427715996578272,
           0,
           0,
           0.005988023952095809,
           0
          ],
          [
           0.04790419161676647,
           0.04790419161676647,
           0,
           0,
           0.011120615911035072,
           0.000855431993156544,
           0.016253207869974338,
           0
          ],
          [
           0.7031650983746792,
           0.04790419161676647,
           0,
           0,
           0,
           0,
           0,
           0
          ],
          [
           0.000855431993156544,
           0.000855431993156544,
           0,
           0,
           0,
           0,
           0.000855431993156544,
           0
          ]
         ]
        },
        {
         "colorbar": {
          "title": {
           "text": "Normalized Frequency"
          }
         },
         "colorscale": [
          [
           0,
           "rgb(165,0,38)"
          ],
          [
           0.01,
           "rgb(215,48,39)"
          ],
          [
           0.2,
           "rgb(244,109,67)"
          ],
          [
           0.3,
           "rgb(253,174,97)"
          ],
          [
           0.4,
           "rgb(254,224,144)"
          ],
          [
           0.5,
           "rgb(224,243,248)"
          ],
          [
           0.6,
           "rgb(171,217,233)"
          ],
          [
           0.7,
           "rgb(116,173,209)"
          ],
          [
           0.8,
           "rgb(69,117,180)"
          ],
          [
           1,
           "rgb(49,54,149)"
          ]
         ],
         "type": "heatmap",
         "uid": "41bc6576-0c22-4154-9420-d495eef5b091",
         "x": [
          "No actor",
          "Government and state security services",
          "Political Militias",
          "Identity Militias",
          "Rioters",
          "Protestors",
          "Civilians",
          "External/other forces"
         ],
         "y": [
          "Government and state security services",
          "Rebel Groups",
          "Political Militias",
          "Identity Militias",
          "Rioters",
          "Protestors",
          "External/other forces"
         ],
         "z": [
          [
           0.0026086956521739132,
           0,
           0.0008695652173913044,
           0.0008695652173913044,
           0,
           0.010434782608695653,
           0.00608695652173913,
           0.0008695652173913044
          ],
          [
           0.0052173913043478265,
           0.011304347826086957,
           0,
           0,
           0,
           0,
           0.0052173913043478265,
           0
          ],
          [
           0.0034782608695652175,
           0.02,
           0,
           0,
           0,
           0,
           0.01217391304347826,
           0.0008695652173913044
          ],
          [
           0,
           0.0008695652173913044,
           0,
           0.0026086956521739132,
           0,
           0,
           0.011304347826086957,
           0
          ],
          [
           0.02434782608695652,
           0.13391304347826086,
           0,
           0,
           0.006956521739130435,
           0.0008695652173913044,
           0.01652173913043478,
           0
          ],
          [
           0.6295652173913043,
           0.08956521739130435,
           0,
           0,
           0,
           0,
           0,
           0
          ],
          [
           0,
           0.0034782608695652175,
           0,
           0,
           0,
           0,
           0,
           0
          ]
         ]
        },
        {
         "colorbar": {
          "title": {
           "text": "Normalized Frequency"
          }
         },
         "colorscale": [
          [
           0,
           "rgb(165,0,38)"
          ],
          [
           0.01,
           "rgb(215,48,39)"
          ],
          [
           0.2,
           "rgb(244,109,67)"
          ],
          [
           0.3,
           "rgb(253,174,97)"
          ],
          [
           0.4,
           "rgb(254,224,144)"
          ],
          [
           0.5,
           "rgb(224,243,248)"
          ],
          [
           0.6,
           "rgb(171,217,233)"
          ],
          [
           0.7,
           "rgb(116,173,209)"
          ],
          [
           0.8,
           "rgb(69,117,180)"
          ],
          [
           1,
           "rgb(49,54,149)"
          ]
         ],
         "type": "heatmap",
         "uid": "cc306f8e-0691-4012-a888-905138ddde60",
         "x": [
          "No actor",
          "Government and state security services",
          "Political Militias",
          "Identity Militias",
          "Rioters",
          "Protestors",
          "Civilians",
          "External/other forces"
         ],
         "y": [
          "Government and state security services",
          "Rebel Groups",
          "Political Militias",
          "Identity Militias",
          "Rioters",
          "Protestors",
          "External/other forces"
         ],
         "z": [
          [
           0.0045045045045045045,
           0,
           0,
           0,
           0,
           0.0009009009009009009,
           0.005405405405405406,
           0.002702702702702703
          ],
          [
           0,
           0.013513513513513514,
           0,
           0,
           0,
           0,
           0.0045045045045045045,
           0
          ],
          [
           0.0018018018018018018,
           0.04684684684684685,
           0,
           0.0009009009009009009,
           0,
           0,
           0.027927927927927927,
           0
          ],
          [
           0,
           0.002702702702702703,
           0,
           0.009009009009009009,
           0,
           0,
           0.027927927927927927,
           0
          ],
          [
           0.011711711711711712,
           0.062162162162162166,
           0,
           0,
           0.017117117117117116,
           0,
           0.01981981981981982,
           0
          ],
          [
           0.6774774774774774,
           0.055855855855855854,
           0.0009009009009009009,
           0,
           0,
           0.0036036036036036037,
           0,
           0
          ],
          [
           0.0009009009009009009,
           0.0018018018018018018,
           0,
           0,
           0,
           0,
           0,
           0
          ]
         ]
        },
        {
         "colorbar": {
          "title": {
           "text": "Normalized Frequency"
          }
         },
         "colorscale": [
          [
           0,
           "rgb(165,0,38)"
          ],
          [
           0.01,
           "rgb(215,48,39)"
          ],
          [
           0.2,
           "rgb(244,109,67)"
          ],
          [
           0.3,
           "rgb(253,174,97)"
          ],
          [
           0.4,
           "rgb(254,224,144)"
          ],
          [
           0.5,
           "rgb(224,243,248)"
          ],
          [
           0.6,
           "rgb(171,217,233)"
          ],
          [
           0.7,
           "rgb(116,173,209)"
          ],
          [
           0.8,
           "rgb(69,117,180)"
          ],
          [
           1,
           "rgb(49,54,149)"
          ]
         ],
         "type": "heatmap",
         "uid": "69df3f3e-d539-4572-92d9-c6e0462d8252",
         "x": [
          "No actor",
          "Government and state security services",
          "Rebel Groups",
          "Political Militias",
          "Identity Militias",
          "Rioters",
          "Protestors",
          "Civilians"
         ],
         "y": [
          "Government and state security services",
          "Rebel Groups",
          "Political Militias",
          "Identity Militias",
          "Rioters",
          "Protestors",
          "External/other forces"
         ],
         "z": [
          [
           0.0009124087591240876,
           0,
           0.0018248175182481751,
           0.005474452554744526,
           0,
           0,
           0,
           0.004562043795620438
          ],
          [
           0.0009124087591240876,
           0.014598540145985401,
           0,
           0,
           0,
           0,
           0,
           0.008211678832116789
          ],
          [
           0,
           0.013686131386861315,
           0,
           0.0018248175182481751,
           0,
           0,
           0.0009124087591240876,
           0.01916058394160584
          ],
          [
           0,
           0.0009124087591240876,
           0,
           0.0009124087591240876,
           0.002737226277372263,
           0,
           0,
           0.0036496350364963502
          ],
          [
           0.016423357664233577,
           0.07755474452554745,
           0,
           0,
           0,
           0.02645985401459854,
           0.0009124087591240876,
           0.013686131386861315
          ],
          [
           0.718065693430657,
           0.04927007299270073,
           0,
           0,
           0,
           0,
           0.0018248175182481751,
           0
          ],
          [
           0,
           0.01551094890510949,
           0,
           0,
           0,
           0,
           0,
           0
          ]
         ]
        },
        {
         "colorbar": {
          "title": {
           "text": "Normalized Frequency"
          }
         },
         "colorscale": [
          [
           0,
           "rgb(165,0,38)"
          ],
          [
           0.01,
           "rgb(215,48,39)"
          ],
          [
           0.2,
           "rgb(244,109,67)"
          ],
          [
           0.3,
           "rgb(253,174,97)"
          ],
          [
           0.4,
           "rgb(254,224,144)"
          ],
          [
           0.5,
           "rgb(224,243,248)"
          ],
          [
           0.6,
           "rgb(171,217,233)"
          ],
          [
           0.7,
           "rgb(116,173,209)"
          ],
          [
           0.8,
           "rgb(69,117,180)"
          ],
          [
           1,
           "rgb(49,54,149)"
          ]
         ],
         "type": "heatmap",
         "uid": "cdfcd5d2-5523-4b26-9ee0-b9b586a892cd",
         "x": [
          "No actor",
          "Government and state security services",
          "Political Militias",
          "Identity Militias",
          "Rioters",
          "Protestors",
          "Civilians",
          "External/other forces"
         ],
         "y": [
          "Government and state security services",
          "Rebel Groups",
          "Political Militias",
          "Identity Militias",
          "Rioters",
          "Protestors",
          "External/other forces"
         ],
         "z": [
          [
           0,
           0,
           0,
           0,
           0,
           0,
           0.005676442762535478,
           0
          ],
          [
           0.005676442762535478,
           0.020813623462630087,
           0,
           0,
           0,
           0,
           0.007568590350047304,
           0.000946073793755913
          ],
          [
           0.003784295175023652,
           0.01608325449385052,
           0.005676442762535478,
           0,
           0,
           0,
           0.020813623462630087,
           0
          ],
          [
           0.001892147587511826,
           0.000946073793755913,
           0,
           0.004730368968779565,
           0,
           0,
           0.01229895931882687,
           0
          ],
          [
           0.02554399243140965,
           0.10406811731315042,
           0,
           0,
           0.03595080416272469,
           0.000946073793755913,
           0.013245033112582781,
           0.002838221381267739
          ],
          [
           0.6433301797540208,
           0.04446546830652791,
           0,
           0,
           0,
           0.001892147587511826,
           0,
           0
          ],
          [
           0,
           0.019867549668874173,
           0,
           0,
           0,
           0,
           0.000946073793755913,
           0
          ]
         ]
        },
        {
         "colorbar": {
          "title": {
           "text": "Normalized Frequency"
          }
         },
         "colorscale": [
          [
           0,
           "rgb(165,0,38)"
          ],
          [
           0.01,
           "rgb(215,48,39)"
          ],
          [
           0.2,
           "rgb(244,109,67)"
          ],
          [
           0.3,
           "rgb(253,174,97)"
          ],
          [
           0.4,
           "rgb(254,224,144)"
          ],
          [
           0.5,
           "rgb(224,243,248)"
          ],
          [
           0.6,
           "rgb(171,217,233)"
          ],
          [
           0.7,
           "rgb(116,173,209)"
          ],
          [
           0.8,
           "rgb(69,117,180)"
          ],
          [
           1,
           "rgb(49,54,149)"
          ]
         ],
         "type": "heatmap",
         "uid": "8ceaf1ed-2fa6-4808-93e9-f7f0034834e3",
         "x": [
          "No actor",
          "Government and state security services",
          "Rebel Groups",
          "Political Militias",
          "Identity Militias",
          "Rioters",
          "Protestors",
          "Civilians",
          "External/other forces"
         ],
         "y": [
          "Government and state security services",
          "Rebel Groups",
          "Political Militias",
          "Identity Militias",
          "Rioters",
          "Protestors",
          "External/other forces"
         ],
         "z": [
          [
           0.005714285714285714,
           0,
           0.0009523809523809524,
           0.0019047619047619048,
           0,
           0,
           0,
           0.007619047619047619,
           0.018095238095238095
          ],
          [
           0.0038095238095238095,
           0.014285714285714285,
           0,
           0,
           0,
           0,
           0,
           0.0038095238095238095,
           0
          ],
          [
           0.002857142857142857,
           0.013333333333333334,
           0,
           0.0019047619047619048,
           0,
           0,
           0.0009523809523809524,
           0.025714285714285714,
           0.0009523809523809524
          ],
          [
           0,
           0.0009523809523809524,
           0,
           0,
           0.0009523809523809524,
           0,
           0,
           0.008571428571428572,
           0
          ],
          [
           0.022857142857142857,
           0.05238095238095238,
           0,
           0,
           0,
           0.02095238095238095,
           0.002857142857142857,
           0.017142857142857144,
           0
          ],
          [
           0.7152380952380952,
           0.05523809523809524,
           0,
           0,
           0,
           0,
           0,
           0,
           0
          ],
          [
           0,
           0.0009523809523809524,
           0,
           0,
           0,
           0,
           0,
           0,
           0
          ]
         ]
        },
        {
         "colorbar": {
          "title": {
           "text": "Normalized Frequency"
          }
         },
         "colorscale": [
          [
           0,
           "rgb(165,0,38)"
          ],
          [
           0.01,
           "rgb(215,48,39)"
          ],
          [
           0.2,
           "rgb(244,109,67)"
          ],
          [
           0.3,
           "rgb(253,174,97)"
          ],
          [
           0.4,
           "rgb(254,224,144)"
          ],
          [
           0.5,
           "rgb(224,243,248)"
          ],
          [
           0.6,
           "rgb(171,217,233)"
          ],
          [
           0.7,
           "rgb(116,173,209)"
          ],
          [
           0.8,
           "rgb(69,117,180)"
          ],
          [
           1,
           "rgb(49,54,149)"
          ]
         ],
         "type": "heatmap",
         "uid": "71488c77-9d4f-430f-b942-09e27548465b",
         "x": [
          "No actor",
          "Government and state security services",
          "Political Militias",
          "Identity Militias",
          "Rioters",
          "Protestors",
          "Civilians"
         ],
         "y": [
          "Government and state security services",
          "Rebel Groups",
          "Political Militias",
          "Identity Militias",
          "Rioters",
          "Protestors"
         ],
         "z": [
          [
           0.002859866539561487,
           0,
           0.005719733079122974,
           0,
           0,
           0.0019065776930409914,
           0.0019065776930409914
          ],
          [
           0.00667302192564347,
           0.0219256434699714,
           0,
           0,
           0,
           0,
           0.0076263107721639654
          ],
          [
           0.0019065776930409914,
           0.004766444232602479,
           0.0019065776930409914,
           0,
           0,
           0,
           0.027645376549094377
          ],
          [
           0,
           0,
           0,
           0.0038131553860819827,
           0,
           0,
           0.004766444232602479
          ],
          [
           0.04575786463298379,
           0.052430886558627265,
           0,
           0,
           0.023832221163012392,
           0.004766444232602479,
           0.010486177311725452
          ],
          [
           0.7102001906577693,
           0.05624404194470925,
           0,
           0,
           0.0009532888465204957,
           0.0019065776930409914,
           0
          ]
         ]
        },
        {
         "colorbar": {
          "title": {
           "text": "Normalized Frequency"
          }
         },
         "colorscale": [
          [
           0,
           "rgb(165,0,38)"
          ],
          [
           0.01,
           "rgb(215,48,39)"
          ],
          [
           0.2,
           "rgb(244,109,67)"
          ],
          [
           0.3,
           "rgb(253,174,97)"
          ],
          [
           0.4,
           "rgb(254,224,144)"
          ],
          [
           0.5,
           "rgb(224,243,248)"
          ],
          [
           0.6,
           "rgb(171,217,233)"
          ],
          [
           0.7,
           "rgb(116,173,209)"
          ],
          [
           0.8,
           "rgb(69,117,180)"
          ],
          [
           1,
           "rgb(49,54,149)"
          ]
         ],
         "type": "heatmap",
         "uid": "69517770-5ddf-4bd0-98c8-6ceac344cdab",
         "x": [
          "No actor",
          "Government and state security services",
          "Political Militias",
          "Identity Militias",
          "Rioters",
          "Protestors",
          "Civilians",
          "External/other forces"
         ],
         "y": [
          "Government and state security services",
          "Rebel Groups",
          "Political Militias",
          "Identity Militias",
          "Rioters",
          "Protestors",
          "External/other forces"
         ],
         "z": [
          [
           0.0009727626459143969,
           0,
           0,
           0,
           0,
           0.0019455252918287938,
           0.0048638132295719845,
           0.023346303501945526
          ],
          [
           0,
           0.0038910505836575876,
           0,
           0,
           0,
           0,
           0.0009727626459143969,
           0
          ],
          [
           0,
           0.023346303501945526,
           0.0038910505836575876,
           0,
           0,
           0,
           0.014591439688715954,
           0
          ],
          [
           0,
           0,
           0,
           0.0029182879377431907,
           0,
           0,
           0.010700389105058366,
           0
          ],
          [
           0.04474708171206226,
           0.06712062256809338,
           0,
           0,
           0.016536964980544747,
           0,
           0.010700389105058366,
           0.0009727626459143969
          ],
          [
           0.730544747081712,
           0.03599221789883268,
           0,
           0,
           0,
           0.0009727626459143969,
           0,
           0
          ],
          [
           0,
           0.0009727626459143969,
           0,
           0,
           0,
           0,
           0,
           0
          ]
         ]
        },
        {
         "colorbar": {
          "title": {
           "text": "Normalized Frequency"
          }
         },
         "colorscale": [
          [
           0,
           "rgb(165,0,38)"
          ],
          [
           0.01,
           "rgb(215,48,39)"
          ],
          [
           0.2,
           "rgb(244,109,67)"
          ],
          [
           0.3,
           "rgb(253,174,97)"
          ],
          [
           0.4,
           "rgb(254,224,144)"
          ],
          [
           0.5,
           "rgb(224,243,248)"
          ],
          [
           0.6,
           "rgb(171,217,233)"
          ],
          [
           0.7,
           "rgb(116,173,209)"
          ],
          [
           0.8,
           "rgb(69,117,180)"
          ],
          [
           1,
           "rgb(49,54,149)"
          ]
         ],
         "type": "heatmap",
         "uid": "50b709a7-83dd-4bfa-b53d-c4987d42cc91",
         "x": [
          "No actor",
          "Government and state security services",
          "Rebel Groups",
          "Political Militias",
          "Rioters",
          "Protestors",
          "Civilians",
          "External/other forces"
         ],
         "y": [
          "Government and state security services",
          "Rebel Groups",
          "Political Militias",
          "Identity Militias",
          "Rioters",
          "Protestors"
         ],
         "z": [
          [
           0.0019474196689386564,
           0,
           0,
           0.013631937682570594,
           0,
           0.02044790652385589,
           0.004868549172346641,
           0.0019474196689386564
          ],
          [
           0.0009737098344693282,
           0.006815968841285297,
           0,
           0,
           0,
           0,
           0.0009737098344693282,
           0
          ],
          [
           0.0009737098344693282,
           0.008763388510223954,
           0.0009737098344693282,
           0,
           0,
           0,
           0.007789678675754625,
           0
          ],
          [
           0.0019474196689386564,
           0,
           0,
           0,
           0,
           0,
           0.0009737098344693282,
           0
          ],
          [
           0.05063291139240506,
           0.11100292112950341,
           0,
           0,
           0.013631937682570594,
           0.0009737098344693282,
           0.005842259006815969,
           0
          ],
          [
           0.688412852969815,
           0.055501460564751706,
           0,
           0,
           0,
           0.0009737098344693282,
           0,
           0
          ]
         ]
        },
        {
         "colorbar": {
          "title": {
           "text": "Normalized Frequency"
          }
         },
         "colorscale": [
          [
           0,
           "rgb(165,0,38)"
          ],
          [
           0.01,
           "rgb(215,48,39)"
          ],
          [
           0.2,
           "rgb(244,109,67)"
          ],
          [
           0.3,
           "rgb(253,174,97)"
          ],
          [
           0.4,
           "rgb(254,224,144)"
          ],
          [
           0.5,
           "rgb(224,243,248)"
          ],
          [
           0.6,
           "rgb(171,217,233)"
          ],
          [
           0.7,
           "rgb(116,173,209)"
          ],
          [
           0.8,
           "rgb(69,117,180)"
          ],
          [
           1,
           "rgb(49,54,149)"
          ]
         ],
         "type": "heatmap",
         "uid": "8daea692-32fa-444e-a96a-7914fee76f0f",
         "x": [
          "No actor",
          "Government and state security services",
          "Political Militias",
          "Identity Militias",
          "Rioters",
          "Protestors",
          "Civilians",
          "External/other forces"
         ],
         "y": [
          "Government and state security services",
          "Rebel Groups",
          "Political Militias",
          "Identity Militias",
          "Rioters",
          "Protestors"
         ],
         "z": [
          [
           0.000998003992015968,
           0,
           0.006986027944111776,
           0,
           0,
           0.000998003992015968,
           0.001996007984031936,
           0.000998003992015968
          ],
          [
           0.000998003992015968,
           0.011976047904191617,
           0,
           0,
           0,
           0,
           0.00499001996007984,
           0
          ],
          [
           0.00499001996007984,
           0.012974051896207584,
           0.0029940119760479044,
           0,
           0,
           0,
           0.04091816367265469,
           0
          ],
          [
           0,
           0.000998003992015968,
           0,
           0.0029940119760479044,
           0,
           0,
           0.006986027944111776,
           0
          ],
          [
           0.023952095808383235,
           0.08083832335329341,
           0,
           0,
           0.029940119760479042,
           0.000998003992015968,
           0.03493013972055888,
           0
          ],
          [
           0.6497005988023952,
           0.07584830339321358,
           0,
           0,
           0.000998003992015968,
           0,
           0,
           0
          ]
         ]
        },
        {
         "colorbar": {
          "title": {
           "text": "Normalized Frequency"
          }
         },
         "colorscale": [
          [
           0,
           "rgb(165,0,38)"
          ],
          [
           0.01,
           "rgb(215,48,39)"
          ],
          [
           0.2,
           "rgb(244,109,67)"
          ],
          [
           0.3,
           "rgb(253,174,97)"
          ],
          [
           0.4,
           "rgb(254,224,144)"
          ],
          [
           0.5,
           "rgb(224,243,248)"
          ],
          [
           0.6,
           "rgb(171,217,233)"
          ],
          [
           0.7,
           "rgb(116,173,209)"
          ],
          [
           0.8,
           "rgb(69,117,180)"
          ],
          [
           1,
           "rgb(49,54,149)"
          ]
         ],
         "type": "heatmap",
         "uid": "b42eb3dd-e291-48bb-820f-bf6c80acde39",
         "x": [
          "No actor",
          "Government and state security services",
          "Rebel Groups",
          "Rioters",
          "Protestors",
          "Civilians",
          "External/other forces"
         ],
         "y": [
          "Government and state security services",
          "Rebel Groups",
          "Political Militias",
          "Identity Militias",
          "Rioters",
          "Protestors"
         ],
         "z": [
          [
           0,
           0,
           0.001002004008016032,
           0,
           0,
           0,
           0.001002004008016032
          ],
          [
           0.001002004008016032,
           0.004008016032064128,
           0,
           0,
           0,
           0.004008016032064128,
           0
          ],
          [
           0.0070140280561122245,
           0.004008016032064128,
           0,
           0,
           0,
           0.013026052104208416,
           0
          ],
          [
           0,
           0,
           0,
           0,
           0,
           0.003006012024048096,
           0
          ],
          [
           0.06613226452905811,
           0.06613226452905811,
           0,
           0.013026052104208416,
           0,
           0.009018036072144289,
           0
          ],
          [
           0.782565130260521,
           0.022044088176352707,
           0,
           0,
           0.003006012024048096,
           0,
           0
          ]
         ]
        },
        {
         "colorbar": {
          "title": {
           "text": "Normalized Frequency"
          }
         },
         "colorscale": [
          [
           0,
           "rgb(165,0,38)"
          ],
          [
           0.01,
           "rgb(215,48,39)"
          ],
          [
           0.2,
           "rgb(244,109,67)"
          ],
          [
           0.3,
           "rgb(253,174,97)"
          ],
          [
           0.4,
           "rgb(254,224,144)"
          ],
          [
           0.5,
           "rgb(224,243,248)"
          ],
          [
           0.6,
           "rgb(171,217,233)"
          ],
          [
           0.7,
           "rgb(116,173,209)"
          ],
          [
           0.8,
           "rgb(69,117,180)"
          ],
          [
           1,
           "rgb(49,54,149)"
          ]
         ],
         "type": "heatmap",
         "uid": "a746a962-5595-49a3-9134-73e8d43d25bd",
         "x": [
          "No actor",
          "Government and state security services",
          "Rebel Groups",
          "Political Militias",
          "Identity Militias",
          "Rioters",
          "Protestors",
          "Civilians",
          "External/other forces"
         ],
         "y": [
          "Government and state security services",
          "Rebel Groups",
          "Political Militias",
          "Identity Militias",
          "Rioters",
          "Protestors"
         ],
         "z": [
          [
           0,
           0,
           0.002074688796680498,
           0.001037344398340249,
           0,
           0,
           0,
           0.002074688796680498,
           0.03630705394190872
          ],
          [
           0.005186721991701245,
           0.013485477178423237,
           0,
           0,
           0,
           0,
           0,
           0.001037344398340249,
           0
          ],
          [
           0.002074688796680498,
           0.024896265560165973,
           0.002074688796680498,
           0,
           0,
           0,
           0,
           0.015560165975103735,
           0
          ],
          [
           0,
           0,
           0,
           0,
           0.002074688796680498,
           0,
           0,
           0.008298755186721992,
           0
          ],
          [
           0.00933609958506224,
           0.04564315352697095,
           0,
           0,
           0,
           0.014522821576763486,
           0.001037344398340249,
           0.00933609958506224,
           0
          ],
          [
           0.7479253112033195,
           0.054979253112033194,
           0,
           0,
           0,
           0,
           0.001037344398340249,
           0,
           0
          ]
         ]
        },
        {
         "colorbar": {
          "title": {
           "text": "Normalized Frequency"
          }
         },
         "colorscale": [
          [
           0,
           "rgb(165,0,38)"
          ],
          [
           0.01,
           "rgb(215,48,39)"
          ],
          [
           0.2,
           "rgb(244,109,67)"
          ],
          [
           0.3,
           "rgb(253,174,97)"
          ],
          [
           0.4,
           "rgb(254,224,144)"
          ],
          [
           0.5,
           "rgb(224,243,248)"
          ],
          [
           0.6,
           "rgb(171,217,233)"
          ],
          [
           0.7,
           "rgb(116,173,209)"
          ],
          [
           0.8,
           "rgb(69,117,180)"
          ],
          [
           1,
           "rgb(49,54,149)"
          ]
         ],
         "type": "heatmap",
         "uid": "22b32acf-7e34-4fe9-8314-9c8f53e388bf",
         "x": [
          "No actor",
          "Government and state security services",
          "Political Militias",
          "Identity Militias",
          "Rioters",
          "Civilians"
         ],
         "y": [
          "Government and state security services",
          "Rebel Groups",
          "Political Militias",
          "Identity Militias",
          "Rioters",
          "Protestors",
          "External/other forces"
         ],
         "z": [
          [
           0,
           0,
           0.002079002079002079,
           0,
           0,
           0.0031185031185031187
          ],
          [
           0,
           0.012474012474012475,
           0,
           0,
           0,
           0.007276507276507277
          ],
          [
           0.004158004158004158,
           0.016632016632016633,
           0,
           0,
           0,
           0.02390852390852391
          ],
          [
           0,
           0.0010395010395010396,
           0,
           0.002079002079002079,
           0,
           0.007276507276507277
          ],
          [
           0.031185031185031187,
           0.06652806652806653,
           0,
           0,
           0.016632016632016633,
           0.01975051975051975
          ],
          [
           0.7245322245322245,
           0.056133056133056136,
           0,
           0,
           0,
           0
          ],
          [
           0,
           0.004158004158004158,
           0,
           0,
           0,
           0.0010395010395010396
          ]
         ]
        },
        {
         "colorbar": {
          "title": {
           "text": "Normalized Frequency"
          }
         },
         "colorscale": [
          [
           0,
           "rgb(165,0,38)"
          ],
          [
           0.01,
           "rgb(215,48,39)"
          ],
          [
           0.2,
           "rgb(244,109,67)"
          ],
          [
           0.3,
           "rgb(253,174,97)"
          ],
          [
           0.4,
           "rgb(254,224,144)"
          ],
          [
           0.5,
           "rgb(224,243,248)"
          ],
          [
           0.6,
           "rgb(171,217,233)"
          ],
          [
           0.7,
           "rgb(116,173,209)"
          ],
          [
           0.8,
           "rgb(69,117,180)"
          ],
          [
           1,
           "rgb(49,54,149)"
          ]
         ],
         "type": "heatmap",
         "uid": "4bba6ca3-cabb-4199-abc6-29d8d60d0169",
         "x": [
          "No actor",
          "Government and state security services",
          "Rebel Groups",
          "Political Militias",
          "Rioters",
          "Protestors",
          "Civilians",
          "External/other forces"
         ],
         "y": [
          "Government and state security services",
          "Rebel Groups",
          "Political Militias",
          "Identity Militias",
          "Rioters",
          "Protestors",
          "External/other forces"
         ],
         "z": [
          [
           0.005574136008918618,
           0.0011148272017837235,
           0.002229654403567447,
           0.0011148272017837235,
           0,
           0,
           0.005574136008918618,
           0.0033444816053511705
          ],
          [
           0.002229654403567447,
           0.016722408026755852,
           0,
           0,
           0,
           0,
           0.002229654403567447,
           0
          ],
          [
           0,
           0.022296544035674472,
           0,
           0.004459308807134894,
           0,
           0,
           0.03901895206243032,
           0.0011148272017837235
          ],
          [
           0,
           0,
           0,
           0,
           0,
           0,
           0.002229654403567447,
           0
          ],
          [
           0.013377926421404682,
           0.045707915273132664,
           0,
           0,
           0.016722408026755852,
           0.002229654403567447,
           0.022296544035674472,
           0
          ],
          [
           0.6755852842809364,
           0.056856187290969896,
           0,
           0,
           0,
           0,
           0,
           0
          ],
          [
           0.0033444816053511705,
           0.054626532887402456,
           0,
           0,
           0,
           0,
           0,
           0
          ]
         ]
        },
        {
         "colorbar": {
          "title": {
           "text": "Normalized Frequency"
          }
         },
         "colorscale": [
          [
           0,
           "rgb(165,0,38)"
          ],
          [
           0.01,
           "rgb(215,48,39)"
          ],
          [
           0.2,
           "rgb(244,109,67)"
          ],
          [
           0.3,
           "rgb(253,174,97)"
          ],
          [
           0.4,
           "rgb(254,224,144)"
          ],
          [
           0.5,
           "rgb(224,243,248)"
          ],
          [
           0.6,
           "rgb(171,217,233)"
          ],
          [
           0.7,
           "rgb(116,173,209)"
          ],
          [
           0.8,
           "rgb(69,117,180)"
          ],
          [
           1,
           "rgb(49,54,149)"
          ]
         ],
         "type": "heatmap",
         "uid": "35bb6350-af1a-49d3-8ee8-5adcdc3f4fd9",
         "x": [
          "No actor",
          "Government and state security services",
          "Rebel Groups",
          "Political Militias",
          "Identity Militias",
          "Rioters",
          "Civilians",
          "External/other forces"
         ],
         "y": [
          "Government and state security services",
          "Rebel Groups",
          "Political Militias",
          "Identity Militias",
          "Rioters",
          "Protestors",
          "External/other forces"
         ],
         "z": [
          [
           0.0012804097311139564,
           0,
           0.0012804097311139564,
           0.0012804097311139564,
           0,
           0,
           0,
           0.0038412291933418692
          ],
          [
           0.006402048655569782,
           0.015364916773367477,
           0,
           0.0012804097311139564,
           0,
           0,
           0.006402048655569782,
           0
          ],
          [
           0.0038412291933418692,
           0.01792573623559539,
           0,
           0.0012804097311139564,
           0,
           0,
           0.03713188220230474,
           0
          ],
          [
           0,
           0,
           0,
           0,
           0.002560819462227913,
           0,
           0.002560819462227913,
           0
          ],
          [
           0.040973111395646605,
           0.06017925736235595,
           0,
           0,
           0,
           0.07298335467349552,
           0.03329065300896287,
           0
          ],
          [
           0.6069142125480154,
           0.0793854033290653,
           0,
           0,
           0,
           0,
           0,
           0
          ],
          [
           0,
           0.002560819462227913,
           0,
           0,
           0,
           0,
           0.0012804097311139564,
           0
          ]
         ]
        },
        {
         "colorbar": {
          "title": {
           "text": "Normalized Frequency"
          }
         },
         "colorscale": [
          [
           0,
           "rgb(165,0,38)"
          ],
          [
           0.01,
           "rgb(215,48,39)"
          ],
          [
           0.2,
           "rgb(244,109,67)"
          ],
          [
           0.3,
           "rgb(253,174,97)"
          ],
          [
           0.4,
           "rgb(254,224,144)"
          ],
          [
           0.5,
           "rgb(224,243,248)"
          ],
          [
           0.6,
           "rgb(171,217,233)"
          ],
          [
           0.7,
           "rgb(116,173,209)"
          ],
          [
           0.8,
           "rgb(69,117,180)"
          ],
          [
           1,
           "rgb(49,54,149)"
          ]
         ],
         "type": "heatmap",
         "uid": "3402228e-521f-4dbd-820f-2b92505279b8",
         "x": [
          "No actor",
          "Government and state security services",
          "Rebel Groups",
          "Political Militias",
          "Identity Militias",
          "Rioters",
          "Protestors",
          "Civilians"
         ],
         "y": [
          "Government and state security services",
          "Rebel Groups",
          "Political Militias",
          "Identity Militias",
          "Rioters",
          "Protestors"
         ],
         "z": [
          [
           0.0026595744680851063,
           0,
           0.003989361702127659,
           0.005319148936170213,
           0,
           0,
           0,
           0
          ],
          [
           0.0013297872340425532,
           0.02127659574468085,
           0,
           0,
           0,
           0,
           0,
           0.015957446808510637
          ],
          [
           0.0026595744680851063,
           0.017287234042553192,
           0,
           0.0013297872340425532,
           0,
           0,
           0,
           0.013297872340425532
          ],
          [
           0,
           0,
           0,
           0,
           0.0013297872340425532,
           0,
           0,
           0.003989361702127659
          ],
          [
           0.018617021276595744,
           0.0598404255319149,
           0,
           0,
           0,
           0.043882978723404256,
           0.003989361702127659,
           0.0199468085106383
          ],
          [
           0.711436170212766,
           0.05053191489361702,
           0,
           0,
           0,
           0,
           0.0013297872340425532,
           0
          ]
         ]
        },
        {
         "colorbar": {
          "title": {
           "text": "Normalized Frequency"
          }
         },
         "colorscale": [
          [
           0,
           "rgb(165,0,38)"
          ],
          [
           0.01,
           "rgb(215,48,39)"
          ],
          [
           0.2,
           "rgb(244,109,67)"
          ],
          [
           0.3,
           "rgb(253,174,97)"
          ],
          [
           0.4,
           "rgb(254,224,144)"
          ],
          [
           0.5,
           "rgb(224,243,248)"
          ],
          [
           0.6,
           "rgb(171,217,233)"
          ],
          [
           0.7,
           "rgb(116,173,209)"
          ],
          [
           0.8,
           "rgb(69,117,180)"
          ],
          [
           1,
           "rgb(49,54,149)"
          ]
         ],
         "type": "heatmap",
         "uid": "5865f75f-133e-4f61-9531-9f9724612bac",
         "x": [
          "No actor",
          "Government and state security services",
          "Political Militias",
          "Identity Militias",
          "Rioters",
          "Civilians",
          "External/other forces"
         ],
         "y": [
          "Government and state security services",
          "Rebel Groups",
          "Political Militias",
          "Identity Militias",
          "Rioters",
          "Protestors"
         ],
         "z": [
          [
           0,
           0,
           0,
           0,
           0,
           0.006675567423230975,
           0.03337783711615487
          ],
          [
           0,
           0.004005340453938585,
           0,
           0,
           0,
           0.0013351134846461949,
           0
          ],
          [
           0.0053404539385847796,
           0.030707610146862484,
           0.0026702269692923898,
           0,
           0,
           0.03204272363150868,
           0.0013351134846461949
          ],
          [
           0,
           0,
           0,
           0.006675567423230975,
           0,
           0.012016021361815754,
           0
          ],
          [
           0.02403204272363151,
           0.08678237650200267,
           0,
           0,
           0.01602136181575434,
           0.018691588785046728,
           0
          ],
          [
           0.6635514018691588,
           0.05473965287049399,
           0,
           0,
           0,
           0,
           0
          ]
         ]
        },
        {
         "colorbar": {
          "title": {
           "text": "Normalized Frequency"
          }
         },
         "colorscale": [
          [
           0,
           "rgb(165,0,38)"
          ],
          [
           0.01,
           "rgb(215,48,39)"
          ],
          [
           0.2,
           "rgb(244,109,67)"
          ],
          [
           0.3,
           "rgb(253,174,97)"
          ],
          [
           0.4,
           "rgb(254,224,144)"
          ],
          [
           0.5,
           "rgb(224,243,248)"
          ],
          [
           0.6,
           "rgb(171,217,233)"
          ],
          [
           0.7,
           "rgb(116,173,209)"
          ],
          [
           0.8,
           "rgb(69,117,180)"
          ],
          [
           1,
           "rgb(49,54,149)"
          ]
         ],
         "type": "heatmap",
         "uid": "aa2aceff-6a87-44fa-8cf1-14524c942db6",
         "x": [
          "No actor",
          "Government and state security services",
          "Rebel Groups",
          "Political Militias",
          "Identity Militias",
          "Rioters",
          "Protestors",
          "Civilians"
         ],
         "y": [
          "Government and state security services",
          "Rebel Groups",
          "Political Militias",
          "Identity Militias",
          "Rioters",
          "Protestors"
         ],
         "z": [
          [
           0.0027662517289073307,
           0,
           0.004149377593360996,
           0.005532503457814661,
           0,
           0,
           0.0027662517289073307,
           0.005532503457814661
          ],
          [
           0.0027662517289073307,
           0.016597510373443983,
           0,
           0,
           0,
           0,
           0,
           0.008298755186721992
          ],
          [
           0.0027662517289073307,
           0.004149377593360996,
           0,
           0.0013831258644536654,
           0,
           0,
           0,
           0.012448132780082987
          ],
          [
           0,
           0,
           0,
           0,
           0.0013831258644536654,
           0,
           0,
           0.004149377593360996
          ],
          [
           0.02351313969571231,
           0.051175656984785614,
           0,
           0,
           0,
           0.011065006915629323,
           0,
           0.006915629322268326
          ],
          [
           0.7786998616874136,
           0.05255878284923928,
           0,
           0,
           0,
           0,
           0.0013831258644536654,
           0
          ]
         ]
        },
        {
         "colorbar": {
          "title": {
           "text": "Normalized Frequency"
          }
         },
         "colorscale": [
          [
           0,
           "rgb(165,0,38)"
          ],
          [
           0.01,
           "rgb(215,48,39)"
          ],
          [
           0.2,
           "rgb(244,109,67)"
          ],
          [
           0.3,
           "rgb(253,174,97)"
          ],
          [
           0.4,
           "rgb(254,224,144)"
          ],
          [
           0.5,
           "rgb(224,243,248)"
          ],
          [
           0.6,
           "rgb(171,217,233)"
          ],
          [
           0.7,
           "rgb(116,173,209)"
          ],
          [
           0.8,
           "rgb(69,117,180)"
          ],
          [
           1,
           "rgb(49,54,149)"
          ]
         ],
         "type": "heatmap",
         "uid": "ada35cfb-788c-4ad0-8331-f2f41db6ab56",
         "x": [
          "No actor",
          "Government and state security services",
          "Rebel Groups",
          "Political Militias",
          "Rioters",
          "Protestors",
          "Civilians",
          "External/other forces"
         ],
         "y": [
          "Government and state security services",
          "Rebel Groups",
          "Political Militias",
          "Identity Militias",
          "Rioters",
          "Protestors",
          "External/other forces"
         ],
         "z": [
          [
           0.0013831258644536654,
           0,
           0.0013831258644536654,
           0,
           0,
           0,
           0.008298755186721992,
           0.012448132780082987
          ],
          [
           0.0013831258644536654,
           0.016597510373443983,
           0,
           0,
           0,
           0,
           0.0027662517289073307,
           0.0013831258644536654
          ],
          [
           0.0027662517289073307,
           0.024896265560165973,
           0,
           0.0013831258644536654,
           0,
           0,
           0.02627939142461964,
           0
          ],
          [
           0,
           0,
           0,
           0,
           0,
           0,
           0.004149377593360996,
           0
          ],
          [
           0.017980636237897647,
           0.03872752420470263,
           0,
           0,
           0.022130013831258646,
           0,
           0.011065006915629323,
           0
          ],
          [
           0.7565698478561549,
           0.04426002766251729,
           0,
           0,
           0,
           0.0013831258644536654,
           0,
           0
          ],
          [
           0.0027662517289073307,
           0,
           0,
           0,
           0,
           0,
           0,
           0
          ]
         ]
        }
       ],
       "layout": {
        "autosize": true,
        "sliders": [
         {
          "active": 0,
          "currentvalue": {
           "prefix": ""
          },
          "name": "Month",
          "pad": {
           "t": 37
          },
          "steps": [
           {
            "args": [
             "visible",
             [
              true,
              false,
              false,
              false,
              false,
              false,
              false,
              false,
              false,
              false,
              false,
              false,
              false,
              false,
              false,
              false,
              false,
              false,
              false,
              false,
              false,
              false,
              false,
              false,
              false,
              false,
              false,
              false,
              false,
              false,
              false,
              false,
              false,
              false,
              false,
              false,
              false
             ]
            ],
            "label": "Month 1",
            "method": "restyle"
           },
           {
            "args": [
             "visible",
             [
              false,
              true,
              false,
              false,
              false,
              false,
              false,
              false,
              false,
              false,
              false,
              false,
              false,
              false,
              false,
              false,
              false,
              false,
              false,
              false,
              false,
              false,
              false,
              false,
              false,
              false,
              false,
              false,
              false,
              false,
              false,
              false,
              false,
              false,
              false,
              false,
              false
             ]
            ],
            "label": "Month 2",
            "method": "restyle"
           },
           {
            "args": [
             "visible",
             [
              false,
              false,
              true,
              false,
              false,
              false,
              false,
              false,
              false,
              false,
              false,
              false,
              false,
              false,
              false,
              false,
              false,
              false,
              false,
              false,
              false,
              false,
              false,
              false,
              false,
              false,
              false,
              false,
              false,
              false,
              false,
              false,
              false,
              false,
              false,
              false,
              false
             ]
            ],
            "label": "Month 3",
            "method": "restyle"
           },
           {
            "args": [
             "visible",
             [
              false,
              false,
              false,
              true,
              false,
              false,
              false,
              false,
              false,
              false,
              false,
              false,
              false,
              false,
              false,
              false,
              false,
              false,
              false,
              false,
              false,
              false,
              false,
              false,
              false,
              false,
              false,
              false,
              false,
              false,
              false,
              false,
              false,
              false,
              false,
              false,
              false
             ]
            ],
            "label": "Month 4",
            "method": "restyle"
           },
           {
            "args": [
             "visible",
             [
              false,
              false,
              false,
              false,
              true,
              false,
              false,
              false,
              false,
              false,
              false,
              false,
              false,
              false,
              false,
              false,
              false,
              false,
              false,
              false,
              false,
              false,
              false,
              false,
              false,
              false,
              false,
              false,
              false,
              false,
              false,
              false,
              false,
              false,
              false,
              false,
              false
             ]
            ],
            "label": "Month 5",
            "method": "restyle"
           },
           {
            "args": [
             "visible",
             [
              false,
              false,
              false,
              false,
              false,
              true,
              false,
              false,
              false,
              false,
              false,
              false,
              false,
              false,
              false,
              false,
              false,
              false,
              false,
              false,
              false,
              false,
              false,
              false,
              false,
              false,
              false,
              false,
              false,
              false,
              false,
              false,
              false,
              false,
              false,
              false,
              false
             ]
            ],
            "label": "Month 6",
            "method": "restyle"
           },
           {
            "args": [
             "visible",
             [
              false,
              false,
              false,
              false,
              false,
              false,
              true,
              false,
              false,
              false,
              false,
              false,
              false,
              false,
              false,
              false,
              false,
              false,
              false,
              false,
              false,
              false,
              false,
              false,
              false,
              false,
              false,
              false,
              false,
              false,
              false,
              false,
              false,
              false,
              false,
              false,
              false
             ]
            ],
            "label": "Month 7",
            "method": "restyle"
           },
           {
            "args": [
             "visible",
             [
              false,
              false,
              false,
              false,
              false,
              false,
              false,
              true,
              false,
              false,
              false,
              false,
              false,
              false,
              false,
              false,
              false,
              false,
              false,
              false,
              false,
              false,
              false,
              false,
              false,
              false,
              false,
              false,
              false,
              false,
              false,
              false,
              false,
              false,
              false,
              false,
              false
             ]
            ],
            "label": "Month 8",
            "method": "restyle"
           },
           {
            "args": [
             "visible",
             [
              false,
              false,
              false,
              false,
              false,
              false,
              false,
              false,
              true,
              false,
              false,
              false,
              false,
              false,
              false,
              false,
              false,
              false,
              false,
              false,
              false,
              false,
              false,
              false,
              false,
              false,
              false,
              false,
              false,
              false,
              false,
              false,
              false,
              false,
              false,
              false,
              false
             ]
            ],
            "label": "Month 9",
            "method": "restyle"
           },
           {
            "args": [
             "visible",
             [
              false,
              false,
              false,
              false,
              false,
              false,
              false,
              false,
              false,
              true,
              false,
              false,
              false,
              false,
              false,
              false,
              false,
              false,
              false,
              false,
              false,
              false,
              false,
              false,
              false,
              false,
              false,
              false,
              false,
              false,
              false,
              false,
              false,
              false,
              false,
              false,
              false
             ]
            ],
            "label": "Month 10",
            "method": "restyle"
           },
           {
            "args": [
             "visible",
             [
              false,
              false,
              false,
              false,
              false,
              false,
              false,
              false,
              false,
              false,
              true,
              false,
              false,
              false,
              false,
              false,
              false,
              false,
              false,
              false,
              false,
              false,
              false,
              false,
              false,
              false,
              false,
              false,
              false,
              false,
              false,
              false,
              false,
              false,
              false,
              false,
              false
             ]
            ],
            "label": "Month 11",
            "method": "restyle"
           },
           {
            "args": [
             "visible",
             [
              false,
              false,
              false,
              false,
              false,
              false,
              false,
              false,
              false,
              false,
              false,
              true,
              false,
              false,
              false,
              false,
              false,
              false,
              false,
              false,
              false,
              false,
              false,
              false,
              false,
              false,
              false,
              false,
              false,
              false,
              false,
              false,
              false,
              false,
              false,
              false,
              false
             ]
            ],
            "label": "Month 12",
            "method": "restyle"
           },
           {
            "args": [
             "visible",
             [
              false,
              false,
              false,
              false,
              false,
              false,
              false,
              false,
              false,
              false,
              false,
              false,
              true,
              false,
              false,
              false,
              false,
              false,
              false,
              false,
              false,
              false,
              false,
              false,
              false,
              false,
              false,
              false,
              false,
              false,
              false,
              false,
              false,
              false,
              false,
              false,
              false
             ]
            ],
            "label": "Month 13",
            "method": "restyle"
           },
           {
            "args": [
             "visible",
             [
              false,
              false,
              false,
              false,
              false,
              false,
              false,
              false,
              false,
              false,
              false,
              false,
              false,
              true,
              false,
              false,
              false,
              false,
              false,
              false,
              false,
              false,
              false,
              false,
              false,
              false,
              false,
              false,
              false,
              false,
              false,
              false,
              false,
              false,
              false,
              false,
              false
             ]
            ],
            "label": "Month 14",
            "method": "restyle"
           },
           {
            "args": [
             "visible",
             [
              false,
              false,
              false,
              false,
              false,
              false,
              false,
              false,
              false,
              false,
              false,
              false,
              false,
              false,
              true,
              false,
              false,
              false,
              false,
              false,
              false,
              false,
              false,
              false,
              false,
              false,
              false,
              false,
              false,
              false,
              false,
              false,
              false,
              false,
              false,
              false,
              false
             ]
            ],
            "label": "Month 15",
            "method": "restyle"
           },
           {
            "args": [
             "visible",
             [
              false,
              false,
              false,
              false,
              false,
              false,
              false,
              false,
              false,
              false,
              false,
              false,
              false,
              false,
              false,
              true,
              false,
              false,
              false,
              false,
              false,
              false,
              false,
              false,
              false,
              false,
              false,
              false,
              false,
              false,
              false,
              false,
              false,
              false,
              false,
              false,
              false
             ]
            ],
            "label": "Month 16",
            "method": "restyle"
           },
           {
            "args": [
             "visible",
             [
              false,
              false,
              false,
              false,
              false,
              false,
              false,
              false,
              false,
              false,
              false,
              false,
              false,
              false,
              false,
              false,
              true,
              false,
              false,
              false,
              false,
              false,
              false,
              false,
              false,
              false,
              false,
              false,
              false,
              false,
              false,
              false,
              false,
              false,
              false,
              false,
              false
             ]
            ],
            "label": "Month 17",
            "method": "restyle"
           },
           {
            "args": [
             "visible",
             [
              false,
              false,
              false,
              false,
              false,
              false,
              false,
              false,
              false,
              false,
              false,
              false,
              false,
              false,
              false,
              false,
              false,
              true,
              false,
              false,
              false,
              false,
              false,
              false,
              false,
              false,
              false,
              false,
              false,
              false,
              false,
              false,
              false,
              false,
              false,
              false,
              false
             ]
            ],
            "label": "Month 18",
            "method": "restyle"
           },
           {
            "args": [
             "visible",
             [
              false,
              false,
              false,
              false,
              false,
              false,
              false,
              false,
              false,
              false,
              false,
              false,
              false,
              false,
              false,
              false,
              false,
              false,
              true,
              false,
              false,
              false,
              false,
              false,
              false,
              false,
              false,
              false,
              false,
              false,
              false,
              false,
              false,
              false,
              false,
              false,
              false
             ]
            ],
            "label": "Month 19",
            "method": "restyle"
           },
           {
            "args": [
             "visible",
             [
              false,
              false,
              false,
              false,
              false,
              false,
              false,
              false,
              false,
              false,
              false,
              false,
              false,
              false,
              false,
              false,
              false,
              false,
              false,
              true,
              false,
              false,
              false,
              false,
              false,
              false,
              false,
              false,
              false,
              false,
              false,
              false,
              false,
              false,
              false,
              false,
              false
             ]
            ],
            "label": "Month 20",
            "method": "restyle"
           },
           {
            "args": [
             "visible",
             [
              false,
              false,
              false,
              false,
              false,
              false,
              false,
              false,
              false,
              false,
              false,
              false,
              false,
              false,
              false,
              false,
              false,
              false,
              false,
              false,
              true,
              false,
              false,
              false,
              false,
              false,
              false,
              false,
              false,
              false,
              false,
              false,
              false,
              false,
              false,
              false,
              false
             ]
            ],
            "label": "Month 21",
            "method": "restyle"
           },
           {
            "args": [
             "visible",
             [
              false,
              false,
              false,
              false,
              false,
              false,
              false,
              false,
              false,
              false,
              false,
              false,
              false,
              false,
              false,
              false,
              false,
              false,
              false,
              false,
              false,
              true,
              false,
              false,
              false,
              false,
              false,
              false,
              false,
              false,
              false,
              false,
              false,
              false,
              false,
              false,
              false
             ]
            ],
            "label": "Month 22",
            "method": "restyle"
           },
           {
            "args": [
             "visible",
             [
              false,
              false,
              false,
              false,
              false,
              false,
              false,
              false,
              false,
              false,
              false,
              false,
              false,
              false,
              false,
              false,
              false,
              false,
              false,
              false,
              false,
              false,
              true,
              false,
              false,
              false,
              false,
              false,
              false,
              false,
              false,
              false,
              false,
              false,
              false,
              false,
              false
             ]
            ],
            "label": "Month 23",
            "method": "restyle"
           },
           {
            "args": [
             "visible",
             [
              false,
              false,
              false,
              false,
              false,
              false,
              false,
              false,
              false,
              false,
              false,
              false,
              false,
              false,
              false,
              false,
              false,
              false,
              false,
              false,
              false,
              false,
              false,
              true,
              false,
              false,
              false,
              false,
              false,
              false,
              false,
              false,
              false,
              false,
              false,
              false,
              false
             ]
            ],
            "label": "Month 24",
            "method": "restyle"
           },
           {
            "args": [
             "visible",
             [
              false,
              false,
              false,
              false,
              false,
              false,
              false,
              false,
              false,
              false,
              false,
              false,
              false,
              false,
              false,
              false,
              false,
              false,
              false,
              false,
              false,
              false,
              false,
              false,
              true,
              false,
              false,
              false,
              false,
              false,
              false,
              false,
              false,
              false,
              false,
              false,
              false
             ]
            ],
            "label": "Month 25",
            "method": "restyle"
           },
           {
            "args": [
             "visible",
             [
              false,
              false,
              false,
              false,
              false,
              false,
              false,
              false,
              false,
              false,
              false,
              false,
              false,
              false,
              false,
              false,
              false,
              false,
              false,
              false,
              false,
              false,
              false,
              false,
              false,
              true,
              false,
              false,
              false,
              false,
              false,
              false,
              false,
              false,
              false,
              false,
              false
             ]
            ],
            "label": "Month 26",
            "method": "restyle"
           },
           {
            "args": [
             "visible",
             [
              false,
              false,
              false,
              false,
              false,
              false,
              false,
              false,
              false,
              false,
              false,
              false,
              false,
              false,
              false,
              false,
              false,
              false,
              false,
              false,
              false,
              false,
              false,
              false,
              false,
              false,
              true,
              false,
              false,
              false,
              false,
              false,
              false,
              false,
              false,
              false,
              false
             ]
            ],
            "label": "Month 27",
            "method": "restyle"
           },
           {
            "args": [
             "visible",
             [
              false,
              false,
              false,
              false,
              false,
              false,
              false,
              false,
              false,
              false,
              false,
              false,
              false,
              false,
              false,
              false,
              false,
              false,
              false,
              false,
              false,
              false,
              false,
              false,
              false,
              false,
              false,
              true,
              false,
              false,
              false,
              false,
              false,
              false,
              false,
              false,
              false
             ]
            ],
            "label": "Month 28",
            "method": "restyle"
           },
           {
            "args": [
             "visible",
             [
              false,
              false,
              false,
              false,
              false,
              false,
              false,
              false,
              false,
              false,
              false,
              false,
              false,
              false,
              false,
              false,
              false,
              false,
              false,
              false,
              false,
              false,
              false,
              false,
              false,
              false,
              false,
              false,
              true,
              false,
              false,
              false,
              false,
              false,
              false,
              false,
              false
             ]
            ],
            "label": "Month 29",
            "method": "restyle"
           },
           {
            "args": [
             "visible",
             [
              false,
              false,
              false,
              false,
              false,
              false,
              false,
              false,
              false,
              false,
              false,
              false,
              false,
              false,
              false,
              false,
              false,
              false,
              false,
              false,
              false,
              false,
              false,
              false,
              false,
              false,
              false,
              false,
              false,
              true,
              false,
              false,
              false,
              false,
              false,
              false,
              false
             ]
            ],
            "label": "Month 30",
            "method": "restyle"
           },
           {
            "args": [
             "visible",
             [
              false,
              false,
              false,
              false,
              false,
              false,
              false,
              false,
              false,
              false,
              false,
              false,
              false,
              false,
              false,
              false,
              false,
              false,
              false,
              false,
              false,
              false,
              false,
              false,
              false,
              false,
              false,
              false,
              false,
              false,
              true,
              false,
              false,
              false,
              false,
              false,
              false
             ]
            ],
            "label": "Month 31",
            "method": "restyle"
           },
           {
            "args": [
             "visible",
             [
              false,
              false,
              false,
              false,
              false,
              false,
              false,
              false,
              false,
              false,
              false,
              false,
              false,
              false,
              false,
              false,
              false,
              false,
              false,
              false,
              false,
              false,
              false,
              false,
              false,
              false,
              false,
              false,
              false,
              false,
              false,
              true,
              false,
              false,
              false,
              false,
              false
             ]
            ],
            "label": "Month 32",
            "method": "restyle"
           },
           {
            "args": [
             "visible",
             [
              false,
              false,
              false,
              false,
              false,
              false,
              false,
              false,
              false,
              false,
              false,
              false,
              false,
              false,
              false,
              false,
              false,
              false,
              false,
              false,
              false,
              false,
              false,
              false,
              false,
              false,
              false,
              false,
              false,
              false,
              false,
              false,
              true,
              false,
              false,
              false,
              false
             ]
            ],
            "label": "Month 33",
            "method": "restyle"
           },
           {
            "args": [
             "visible",
             [
              false,
              false,
              false,
              false,
              false,
              false,
              false,
              false,
              false,
              false,
              false,
              false,
              false,
              false,
              false,
              false,
              false,
              false,
              false,
              false,
              false,
              false,
              false,
              false,
              false,
              false,
              false,
              false,
              false,
              false,
              false,
              false,
              false,
              true,
              false,
              false,
              false
             ]
            ],
            "label": "Month 34",
            "method": "restyle"
           },
           {
            "args": [
             "visible",
             [
              false,
              false,
              false,
              false,
              false,
              false,
              false,
              false,
              false,
              false,
              false,
              false,
              false,
              false,
              false,
              false,
              false,
              false,
              false,
              false,
              false,
              false,
              false,
              false,
              false,
              false,
              false,
              false,
              false,
              false,
              false,
              false,
              false,
              false,
              true,
              false,
              false
             ]
            ],
            "label": "Month 35",
            "method": "restyle"
           },
           {
            "args": [
             "visible",
             [
              false,
              false,
              false,
              false,
              false,
              false,
              false,
              false,
              false,
              false,
              false,
              false,
              false,
              false,
              false,
              false,
              false,
              false,
              false,
              false,
              false,
              false,
              false,
              false,
              false,
              false,
              false,
              false,
              false,
              false,
              false,
              false,
              false,
              false,
              false,
              true,
              false
             ]
            ],
            "label": "Month 36",
            "method": "restyle"
           },
           {
            "args": [
             "visible",
             [
              false,
              false,
              false,
              false,
              false,
              false,
              false,
              false,
              false,
              false,
              false,
              false,
              false,
              false,
              false,
              false,
              false,
              false,
              false,
              false,
              false,
              false,
              false,
              false,
              false,
              false,
              false,
              false,
              false,
              false,
              false,
              false,
              false,
              false,
              false,
              false,
              true
             ]
            ],
            "label": "Month 37",
            "method": "restyle"
           }
          ],
          "y": 1.5
         }
        ],
        "title": {
         "text": "Monthwise Interaction table"
        },
        "xaxis": {
         "automargin": true,
         "title": {
          "text": "Actor 2"
         }
        },
        "yaxis": {
         "automargin": true,
         "title": {
          "text": "Actor 1"
         }
        }
       }
      },
      "text/html": [
       "<div id=\"8d35397a-99fc-4287-b4b4-c4afe03c63e2\" style=\"height: 525px; width: 100%;\" class=\"plotly-graph-div\"></div><script type=\"text/javascript\">require([\"plotly\"], function(Plotly) { window.PLOTLYENV=window.PLOTLYENV || {};window.PLOTLYENV.BASE_URL=\"https://plot.ly\";Plotly.newPlot(\"8d35397a-99fc-4287-b4b4-c4afe03c63e2\", [{\"colorbar\": {\"title\": {\"text\": \"Normalized Frequency\"}}, \"colorscale\": [[0.0, \"rgb(165,0,38)\"], [0.01, \"rgb(215,48,39)\"], [0.2, \"rgb(244,109,67)\"], [0.3, \"rgb(253,174,97)\"], [0.4, \"rgb(254,224,144)\"], [0.5, \"rgb(224,243,248)\"], [0.6, \"rgb(171,217,233)\"], [0.7, \"rgb(116,173,209)\"], [0.8, \"rgb(69,117,180)\"], [1.0, \"rgb(49,54,149)\"]], \"x\": [\"No actor\", \"Government and state security services\", \"Rebel Groups\", \"Political Militias\", \"Identity Militias\", \"Rioters\", \"Protestors\", \"Civilians\", \"External/other forces\"], \"y\": [\"Government and state security services\", \"Rebel Groups\", \"Political Militias\", \"Identity Militias\", \"Rioters\", \"Protestors\", \"External/other forces\"], \"z\": [[0.0025100401606425703, 0.0, 0.0, 0.0025100401606425703, 0.0, 0.0, 0.0, 0.009036144578313253, 0.004518072289156626], [0.0, 0.01104417670682731, 0.0, 0.0, 0.0, 0.0, 0.0, 0.004016064257028112, 0.0], [0.001004016064257028, 0.01355421686746988, 0.000502008032128514, 0.0030120481927710845, 0.000502008032128514, 0.000502008032128514, 0.000502008032128514, 0.03765060240963856, 0.001004016064257028], [0.000502008032128514, 0.000502008032128514, 0.0, 0.001004016064257028, 0.0050200803212851405, 0.0, 0.0, 0.01957831325301205, 0.0], [0.05220883534136546, 0.05220883534136546, 0.0, 0.000502008032128514, 0.0, 0.05070281124497992, 0.000502008032128514, 0.0286144578313253, 0.0], [0.6219879518072289, 0.07028112449799197, 0.0, 0.0, 0.0, 0.0, 0.002008032128514056, 0.0015060240963855422, 0.000502008032128514], [0.0, 0.0, 0.0, 0.000502008032128514, 0.0, 0.0, 0.0, 0.0, 0.0]], \"type\": \"heatmap\", \"uid\": \"e3100bc5-2fe4-4e75-b0fa-62d29b4342bb\"}, {\"colorbar\": {\"title\": {\"text\": \"Normalized Frequency\"}}, \"colorscale\": [[0.0, \"rgb(165,0,38)\"], [0.01, \"rgb(215,48,39)\"], [0.2, \"rgb(244,109,67)\"], [0.3, \"rgb(253,174,97)\"], [0.4, \"rgb(254,224,144)\"], [0.5, \"rgb(224,243,248)\"], [0.6, \"rgb(171,217,233)\"], [0.7, \"rgb(116,173,209)\"], [0.8, \"rgb(69,117,180)\"], [1.0, \"rgb(49,54,149)\"]], \"x\": [\"No actor\", \"Government and state security services\", \"Rebel Groups\", \"Political Militias\", \"Identity Militias\", \"Rioters\", \"Protestors\", \"Civilians\", \"External/other forces\"], \"y\": [\"Government and state security services\", \"Rebel Groups\", \"Political Militias\", \"Identity Militias\", \"Rioters\", \"Protestors\", \"External/other forces\"], \"z\": [[0.0016313213703099511, 0.000543773790103317, 0.0016313213703099511, 0.000543773790103317, 0.0, 0.0, 0.0, 0.011419249592169658, 0.010331702011963024], [0.0016313213703099511, 0.008156606851549755, 0.0, 0.0, 0.0, 0.0, 0.0, 0.0076128330614464385, 0.0], [0.002175095160413268, 0.011963023382272975, 0.0, 0.004893964110929853, 0.0, 0.000543773790103317, 0.0, 0.04676454594888527, 0.0], [0.0, 0.001087547580206634, 0.0, 0.0, 0.005437737901033171, 0.0, 0.0, 0.01794453507340946, 0.0], [0.028276237085372486, 0.0478520935290919, 0.0, 0.0, 0.0, 0.04187058183795541, 0.000543773790103317, 0.043501903208265365, 0.0], [0.6568787384448069, 0.042958129418162044, 0.0, 0.0, 0.0, 0.000543773790103317, 0.000543773790103317, 0.002175095160413268, 0.0], [0.0, 0.0, 0.0, 0.0, 0.0, 0.0, 0.0, 0.000543773790103317, 0.0]], \"type\": \"heatmap\", \"uid\": \"fdfab3aa-d735-46d6-ba5e-e0ad73d2e309\"}, {\"colorbar\": {\"title\": {\"text\": \"Normalized Frequency\"}}, \"colorscale\": [[0.0, \"rgb(165,0,38)\"], [0.01, \"rgb(215,48,39)\"], [0.2, \"rgb(244,109,67)\"], [0.3, \"rgb(253,174,97)\"], [0.4, \"rgb(254,224,144)\"], [0.5, \"rgb(224,243,248)\"], [0.6, \"rgb(171,217,233)\"], [0.7, \"rgb(116,173,209)\"], [0.8, \"rgb(69,117,180)\"], [1.0, \"rgb(49,54,149)\"]], \"x\": [\"No actor\", \"Government and state security services\", \"Political Militias\", \"Identity Militias\", \"Rioters\", \"Protestors\", \"Civilians\", \"External/other forces\"], \"y\": [\"Government and state security services\", \"Rebel Groups\", \"Political Militias\", \"Identity Militias\", \"Rioters\", \"Protestors\", \"External/other forces\"], \"z\": [[0.00182370820668693, 0.0006079027355623101, 0.0012158054711246201, 0.0, 0.0, 0.0, 0.00425531914893617, 0.00182370820668693], [0.0012158054711246201, 0.00851063829787234, 0.0, 0.0, 0.0, 0.0, 0.0024316109422492403, 0.0], [0.0012158054711246201, 0.00851063829787234, 0.00364741641337386, 0.0, 0.0, 0.0, 0.0243161094224924, 0.0], [0.0, 0.0, 0.0, 0.00303951367781155, 0.0, 0.0, 0.00425531914893617, 0.0], [0.02917933130699088, 0.09240121580547113, 0.0, 0.0, 0.029787234042553193, 0.0, 0.03404255319148936, 0.0006079027355623101], [0.6638297872340425, 0.07477203647416414, 0.0, 0.0, 0.0, 0.0012158054711246201, 0.0, 0.0], [0.0, 0.0060790273556231, 0.0, 0.0, 0.0, 0.0, 0.0012158054711246201, 0.0]], \"type\": \"heatmap\", \"uid\": \"a536251a-a91b-4068-a024-866ded9cdc00\"}, {\"colorbar\": {\"title\": {\"text\": \"Normalized Frequency\"}}, \"colorscale\": [[0.0, \"rgb(165,0,38)\"], [0.01, \"rgb(215,48,39)\"], [0.2, \"rgb(244,109,67)\"], [0.3, \"rgb(253,174,97)\"], [0.4, \"rgb(254,224,144)\"], [0.5, \"rgb(224,243,248)\"], [0.6, \"rgb(171,217,233)\"], [0.7, \"rgb(116,173,209)\"], [0.8, \"rgb(69,117,180)\"], [1.0, \"rgb(49,54,149)\"]], \"x\": [\"No actor\", \"Government and state security services\", \"Rebel Groups\", \"Political Militias\", \"Identity Militias\", \"Rioters\", \"Protestors\", \"Civilians\", \"External/other forces\"], \"y\": [\"Government and state security services\", \"Rebel Groups\", \"Political Militias\", \"Identity Militias\", \"Rioters\", \"Protestors\", \"External/other forces\"], \"z\": [[0.0, 0.0, 0.0, 0.0006112469437652812, 0.0, 0.0, 0.0, 0.004889975550122249, 0.017114914425427872], [0.0, 0.006723716381418093, 0.0, 0.0, 0.0, 0.0, 0.0, 0.007946210268948655, 0.0], [0.0012224938875305623, 0.015281173594132029, 0.0006112469437652812, 0.0006112469437652812, 0.0006112469437652812, 0.0, 0.0, 0.03606356968215159, 0.0], [0.0, 0.0, 0.0, 0.0, 0.0012224938875305623, 0.0, 0.0, 0.009779951100244499, 0.0], [0.055623471882640586, 0.0715158924205379, 0.0, 0.0, 0.0, 0.020171149144254278, 0.0006112469437652812, 0.034229828850855744, 0.0], [0.6418092909535452, 0.06356968215158924, 0.0, 0.0, 0.0, 0.0, 0.0, 0.0006112469437652812, 0.0], [0.0, 0.008557457212713936, 0.0, 0.0, 0.0, 0.0, 0.0, 0.0006112469437652812, 0.0]], \"type\": \"heatmap\", \"uid\": \"8781ec63-fe23-4f76-91b8-e30723d85a49\"}, {\"colorbar\": {\"title\": {\"text\": \"Normalized Frequency\"}}, \"colorscale\": [[0.0, \"rgb(165,0,38)\"], [0.01, \"rgb(215,48,39)\"], [0.2, \"rgb(244,109,67)\"], [0.3, \"rgb(253,174,97)\"], [0.4, \"rgb(254,224,144)\"], [0.5, \"rgb(224,243,248)\"], [0.6, \"rgb(171,217,233)\"], [0.7, \"rgb(116,173,209)\"], [0.8, \"rgb(69,117,180)\"], [1.0, \"rgb(49,54,149)\"]], \"x\": [\"No actor\", \"Government and state security services\", \"Rebel Groups\", \"Political Militias\", \"Identity Militias\", \"Rioters\", \"Protestors\", \"Civilians\", \"External/other forces\"], \"y\": [\"Government and state security services\", \"Rebel Groups\", \"Political Militias\", \"Identity Militias\", \"Rioters\", \"Protestors\", \"Civilians\", \"External/other forces\"], \"z\": [[0.007357449417535254, 0.0, 0.0, 0.0030656039239730227, 0.0006131207847946045, 0.0, 0.0, 0.010423053341508276, 0.00674432863274065], [0.0, 0.009809932556713672, 0.0, 0.0, 0.0, 0.0, 0.0, 0.00797057020232986, 0.0], [0.001226241569589209, 0.019619865113427344, 0.0, 0.004904966278356836, 0.0, 0.0, 0.0006131207847946045, 0.03862660944206009, 0.0018393623543838135], [0.0, 0.004291845493562232, 0.0006131207847946045, 0.0006131207847946045, 0.004291845493562232, 0.0, 0.0, 0.0269773145309626, 0.0], [0.02575107296137339, 0.056407112201103615, 0.0, 0.0, 0.0, 0.018393623543838136, 0.001226241569589209, 0.028816676885346414, 0.0], [0.6762722256284488, 0.03801348865726548, 0.0, 0.0, 0.0, 0.0, 0.001226241569589209, 0.0006131207847946045, 0.0], [0.0006131207847946045, 0.0, 0.0, 0.0, 0.0, 0.0, 0.0, 0.0, 0.0], [0.001226241569589209, 0.0, 0.0, 0.0, 0.0, 0.0, 0.0, 0.0018393623543838135, 0.0]], \"type\": \"heatmap\", \"uid\": \"8a968b36-c509-4336-b0d2-3567db31cfb4\"}, {\"colorbar\": {\"title\": {\"text\": \"Normalized Frequency\"}}, \"colorscale\": [[0.0, \"rgb(165,0,38)\"], [0.01, \"rgb(215,48,39)\"], [0.2, \"rgb(244,109,67)\"], [0.3, \"rgb(253,174,97)\"], [0.4, \"rgb(254,224,144)\"], [0.5, \"rgb(224,243,248)\"], [0.6, \"rgb(171,217,233)\"], [0.7, \"rgb(116,173,209)\"], [0.8, \"rgb(69,117,180)\"], [1.0, \"rgb(49,54,149)\"]], \"x\": [\"No actor\", \"Government and state security services\", \"Political Militias\", \"Identity Militias\", \"Rioters\", \"Protestors\", \"Civilians\", \"External/other forces\"], \"y\": [\"Government and state security services\", \"Rebel Groups\", \"Political Militias\", \"Identity Militias\", \"Rioters\", \"Protestors\", \"External/other forces\"], \"z\": [[0.0018472906403940886, 0.0012315270935960591, 0.003078817733990148, 0.0006157635467980296, 0.0, 0.0, 0.012315270935960592, 0.004310344827586207], [0.0006157635467980296, 0.011699507389162561, 0.0, 0.0, 0.0, 0.0, 0.003694581280788177, 0.0], [0.003078817733990148, 0.02401477832512315, 0.0018472906403940886, 0.0, 0.0006157635467980296, 0.0, 0.04864532019704434, 0.0], [0.0, 0.0018472906403940886, 0.0006157635467980296, 0.005541871921182266, 0.0018472906403940886, 0.0, 0.03017241379310345, 0.0006157635467980296], [0.042487684729064036, 0.10036945812807882, 0.0006157635467980296, 0.0, 0.019704433497536946, 0.003694581280788177, 0.01847290640394089, 0.0006157635467980296], [0.5979064039408867, 0.05172413793103448, 0.0, 0.0, 0.0012315270935960591, 0.0006157635467980296, 0.0012315270935960591, 0.0], [0.0006157635467980296, 0.0018472906403940886, 0.0, 0.0, 0.0, 0.0, 0.0006157635467980296, 0.0]], \"type\": \"heatmap\", \"uid\": \"b188e5c3-cd12-4f38-b802-000cd121e82b\"}, {\"colorbar\": {\"title\": {\"text\": \"Normalized Frequency\"}}, \"colorscale\": [[0.0, \"rgb(165,0,38)\"], [0.01, \"rgb(215,48,39)\"], [0.2, \"rgb(244,109,67)\"], [0.3, \"rgb(253,174,97)\"], [0.4, \"rgb(254,224,144)\"], [0.5, \"rgb(224,243,248)\"], [0.6, \"rgb(171,217,233)\"], [0.7, \"rgb(116,173,209)\"], [0.8, \"rgb(69,117,180)\"], [1.0, \"rgb(49,54,149)\"]], \"x\": [\"No actor\", \"Government and state security services\", \"Rebel Groups\", \"Political Militias\", \"Identity Militias\", \"Rioters\", \"Protestors\", \"Civilians\", \"External/other forces\"], \"y\": [\"Government and state security services\", \"Rebel Groups\", \"Political Militias\", \"Identity Militias\", \"Rioters\", \"Protestors\", \"Civilians\", \"External/other forces\"], \"z\": [[0.0031725888324873096, 0.0006345177664974619, 0.0006345177664974619, 0.0019035532994923859, 0.0, 0.0, 0.0, 0.010786802030456852, 0.00951776649746193], [0.0012690355329949238, 0.025380710659898477, 0.0, 0.0, 0.0, 0.0, 0.0, 0.010786802030456852, 0.0], [0.0012690355329949238, 0.015862944162436547, 0.0, 0.0038071065989847717, 0.0, 0.0, 0.0, 0.0399746192893401, 0.0012690355329949238], [0.0006345177664974619, 0.0012690355329949238, 0.0, 0.0019035532994923859, 0.0031725888324873096, 0.0, 0.0, 0.021573604060913704, 0.0], [0.037436548223350255, 0.06281725888324872, 0.0, 0.0012690355329949238, 0.0, 0.030456852791878174, 0.0019035532994923859, 0.04060913705583756, 0.0], [0.6269035532994924, 0.041243654822335024, 0.0, 0.0, 0.0, 0.0, 0.0006345177664974619, 0.0, 0.0], [0.0006345177664974619, 0.0, 0.0, 0.0, 0.0, 0.0, 0.0, 0.0, 0.0], [0.0, 0.0, 0.0, 0.0, 0.0, 0.0, 0.0, 0.0012690355329949238, 0.0]], \"type\": \"heatmap\", \"uid\": \"633adead-0c45-4df9-af61-ddf710a6852a\"}, {\"colorbar\": {\"title\": {\"text\": \"Normalized Frequency\"}}, \"colorscale\": [[0.0, \"rgb(165,0,38)\"], [0.01, \"rgb(215,48,39)\"], [0.2, \"rgb(244,109,67)\"], [0.3, \"rgb(253,174,97)\"], [0.4, \"rgb(254,224,144)\"], [0.5, \"rgb(224,243,248)\"], [0.6, \"rgb(171,217,233)\"], [0.7, \"rgb(116,173,209)\"], [0.8, \"rgb(69,117,180)\"], [1.0, \"rgb(49,54,149)\"]], \"x\": [\"No actor\", \"Government and state security services\", \"Political Militias\", \"Identity Militias\", \"Rioters\", \"Protestors\", \"Civilians\", \"External/other forces\"], \"y\": [\"Government and state security services\", \"Rebel Groups\", \"Political Militias\", \"Identity Militias\", \"Rioters\", \"Protestors\", \"External/other forces\"], \"z\": [[0.0027643400138217, 0.0, 0.0034554250172771253, 0.0, 0.0, 0.007601935038009675, 0.007601935038009675, 0.00138217000691085], [0.0, 0.014512785072563926, 0.000691085003455425, 0.0, 0.0, 0.0, 0.002073255010366275, 0.0], [0.000691085003455425, 0.015894955079474776, 0.000691085003455425, 0.0, 0.0, 0.0, 0.006910850034554251, 0.0], [0.000691085003455425, 0.00138217000691085, 0.0, 0.000691085003455425, 0.0, 0.0, 0.0055286800276434, 0.0], [0.03248099516240498, 0.1492743607463718, 0.0, 0.0, 0.007601935038009675, 0.0, 0.009675190048375951, 0.0], [0.6337249481686248, 0.08914996544574982, 0.0, 0.0, 0.0, 0.00138217000691085, 0.0, 0.0], [0.000691085003455425, 0.0034554250172771253, 0.0, 0.0, 0.0, 0.0, 0.0, 0.0]], \"type\": \"heatmap\", \"uid\": \"8584bdb2-2a8d-48cc-a527-e0f868eb560d\"}, {\"colorbar\": {\"title\": {\"text\": \"Normalized Frequency\"}}, \"colorscale\": [[0.0, \"rgb(165,0,38)\"], [0.01, \"rgb(215,48,39)\"], [0.2, \"rgb(244,109,67)\"], [0.3, \"rgb(253,174,97)\"], [0.4, \"rgb(254,224,144)\"], [0.5, \"rgb(224,243,248)\"], [0.6, \"rgb(171,217,233)\"], [0.7, \"rgb(116,173,209)\"], [0.8, \"rgb(69,117,180)\"], [1.0, \"rgb(49,54,149)\"]], \"x\": [\"No actor\", \"Government and state security services\", \"Rebel Groups\", \"Political Militias\", \"Identity Militias\", \"Rioters\", \"Protestors\", \"Civilians\", \"External/other forces\"], \"y\": [\"Government and state security services\", \"Rebel Groups\", \"Political Militias\", \"Identity Militias\", \"Rioters\", \"Protestors\", \"External/other forces\"], \"z\": [[0.0, 0.0, 0.0007369196757553427, 0.0007369196757553427, 0.0, 0.0, 0.0, 0.0029476787030213707, 0.0], [0.0036845983787767134, 0.010316875460574797, 0.0, 0.0, 0.0, 0.0, 0.0, 0.005158437730287398, 0.0], [0.002210759027266028, 0.016212232866617538, 0.0007369196757553427, 0.002210759027266028, 0.0, 0.0, 0.0007369196757553427, 0.01915991156963891, 0.0007369196757553427], [0.0, 0.0, 0.0, 0.0, 0.002210759027266028, 0.0, 0.0, 0.0007369196757553427, 0.0], [0.01989683124539425, 0.03831982313927782, 0.0, 0.0, 0.0, 0.017686072218128224, 0.0007369196757553427, 0.01989683124539425, 0.0007369196757553427], [0.789240972733972, 0.0397936624907885, 0.0, 0.0, 0.0, 0.0, 0.002210759027266028, 0.0, 0.0], [0.0, 0.0029476787030213707, 0.0, 0.0, 0.0, 0.0, 0.0, 0.0, 0.0]], \"type\": \"heatmap\", \"uid\": \"1991074f-34fc-4193-8d40-c85536f7449a\"}, {\"colorbar\": {\"title\": {\"text\": \"Normalized Frequency\"}}, \"colorscale\": [[0.0, \"rgb(165,0,38)\"], [0.01, \"rgb(215,48,39)\"], [0.2, \"rgb(244,109,67)\"], [0.3, \"rgb(253,174,97)\"], [0.4, \"rgb(254,224,144)\"], [0.5, \"rgb(224,243,248)\"], [0.6, \"rgb(171,217,233)\"], [0.7, \"rgb(116,173,209)\"], [0.8, \"rgb(69,117,180)\"], [1.0, \"rgb(49,54,149)\"]], \"x\": [\"No actor\", \"Government and state security services\", \"Rebel Groups\", \"Political Militias\", \"Identity Militias\", \"Rioters\", \"Protestors\", \"Civilians\", \"External/other forces\"], \"y\": [\"Government and state security services\", \"Rebel Groups\", \"Political Militias\", \"Identity Militias\", \"Rioters\", \"Protestors\", \"External/other forces\"], \"z\": [[0.0, 0.0, 0.0007412898443291327, 0.0007412898443291327, 0.0, 0.0, 0.0014825796886582653, 0.004447739065974796, 0.0029651593773165306], [0.0014825796886582653, 0.008895478131949592, 0.0007412898443291327, 0.0, 0.0, 0.0, 0.0, 0.004447739065974796, 0.0], [0.0037064492216456633, 0.011860637509266123, 0.0007412898443291327, 0.0014825796886582653, 0.0, 0.0, 0.0007412898443291327, 0.03261675315048184, 0.0], [0.0, 0.0014825796886582653, 0.0, 0.0007412898443291327, 0.002223869532987398, 0.0, 0.0007412898443291327, 0.006671608598962194, 0.0007412898443291327], [0.02223869532987398, 0.07412898443291327, 0.0, 0.0, 0.0, 0.02223869532987398, 0.0014825796886582653, 0.017790956263899184, 0.0007412898443291327], [0.6945885841363973, 0.07412898443291327, 0.0, 0.0, 0.0, 0.0007412898443291327, 0.0007412898443291327, 0.0, 0.0], [0.0007412898443291327, 0.0, 0.0, 0.0, 0.0, 0.0, 0.0, 0.0007412898443291327, 0.0]], \"type\": \"heatmap\", \"uid\": \"9a78d1e4-fcc3-42ec-83f1-36fed57b5423\"}, {\"colorbar\": {\"title\": {\"text\": \"Normalized Frequency\"}}, \"colorscale\": [[0.0, \"rgb(165,0,38)\"], [0.01, \"rgb(215,48,39)\"], [0.2, \"rgb(244,109,67)\"], [0.3, \"rgb(253,174,97)\"], [0.4, \"rgb(254,224,144)\"], [0.5, \"rgb(224,243,248)\"], [0.6, \"rgb(171,217,233)\"], [0.7, \"rgb(116,173,209)\"], [0.8, \"rgb(69,117,180)\"], [1.0, \"rgb(49,54,149)\"]], \"x\": [\"No actor\", \"Government and state security services\", \"Rebel Groups\", \"Political Militias\", \"Identity Militias\", \"Rioters\", \"Civilians\", \"External/other forces\"], \"y\": [\"Government and state security services\", \"Rebel Groups\", \"Political Militias\", \"Identity Militias\", \"Rioters\", \"Protestors\", \"External/other forces\"], \"z\": [[0.0007587253414264037, 0.0, 0.0007587253414264037, 0.0, 0.0, 0.0, 0.0037936267071320183, 0.004552352048558422], [0.0007587253414264037, 0.015933232169954476, 0.0, 0.0, 0.0, 0.0, 0.004552352048558422, 0.0], [0.00834597875569044, 0.015174506828528073, 0.0, 0.0007587253414264037, 0.0, 0.0, 0.012898330804248861, 0.0], [0.0, 0.002276176024279211, 0.0, 0.0007587253414264037, 0.0007587253414264037, 0.0, 0.0030349013657056147, 0.0], [0.018209408194233688, 0.07207890743550835, 0.0, 0.0, 0.0, 0.010622154779969651, 0.012139605462822459, 0.0], [0.7071320182094082, 0.06752655538694992, 0.0, 0.0, 0.0, 0.002276176024279211, 0.0, 0.0], [0.0030349013657056147, 0.030349013657056147, 0.0, 0.0, 0.0, 0.0, 0.0015174506828528073, 0.0]], \"type\": \"heatmap\", \"uid\": \"b4ed2f0a-e5dc-4bdb-8d09-0f56c9ca9dfc\"}, {\"colorbar\": {\"title\": {\"text\": \"Normalized Frequency\"}}, \"colorscale\": [[0.0, \"rgb(165,0,38)\"], [0.01, \"rgb(215,48,39)\"], [0.2, \"rgb(244,109,67)\"], [0.3, \"rgb(253,174,97)\"], [0.4, \"rgb(254,224,144)\"], [0.5, \"rgb(224,243,248)\"], [0.6, \"rgb(171,217,233)\"], [0.7, \"rgb(116,173,209)\"], [0.8, \"rgb(69,117,180)\"], [1.0, \"rgb(49,54,149)\"]], \"x\": [\"No actor\", \"Government and state security services\", \"Rebel Groups\", \"Identity Militias\", \"Rioters\", \"Protestors\", \"Civilians\", \"External/other forces\"], \"y\": [\"Government and state security services\", \"Rebel Groups\", \"Political Militias\", \"Identity Militias\", \"Rioters\", \"Protestors\", \"External/other forces\"], \"z\": [[0.0007593014426727411, 0.0, 0.0, 0.0, 0.0, 0.0, 0.0037965072133637054, 0.015945330296127564], [0.0015186028853454822, 0.012908124525436599, 0.0, 0.0, 0.0, 0.0, 0.002277904328018223, 0.0], [0.006074411541381929, 0.02201974183750949, 0.0007593014426727411, 0.0, 0.0, 0.0, 0.017463933181473046, 0.0007593014426727411], [0.0, 0.0, 0.0, 0.006074411541381929, 0.0, 0.0, 0.005315110098709187, 0.0], [0.02885345482156416, 0.09035687167805619, 0.0, 0.0, 0.02809415337889142, 0.0007593014426727411, 0.026575550493545937, 0.0], [0.6347760060744115, 0.06909643128321943, 0.0, 0.0, 0.0, 0.0007593014426727411, 0.0, 0.0], [0.0015186028853454822, 0.02126044039483675, 0.0, 0.0, 0.0, 0.0, 0.002277904328018223, 0.0]], \"type\": \"heatmap\", \"uid\": \"71fe7497-4660-42b3-99f7-908dce8af216\"}, {\"colorbar\": {\"title\": {\"text\": \"Normalized Frequency\"}}, \"colorscale\": [[0.0, \"rgb(165,0,38)\"], [0.01, \"rgb(215,48,39)\"], [0.2, \"rgb(244,109,67)\"], [0.3, \"rgb(253,174,97)\"], [0.4, \"rgb(254,224,144)\"], [0.5, \"rgb(224,243,248)\"], [0.6, \"rgb(171,217,233)\"], [0.7, \"rgb(116,173,209)\"], [0.8, \"rgb(69,117,180)\"], [1.0, \"rgb(49,54,149)\"]], \"x\": [\"No actor\", \"Government and state security services\", \"Rebel Groups\", \"Political Militias\", \"Identity Militias\", \"Rioters\", \"Protestors\", \"Civilians\", \"External/other forces\"], \"y\": [\"Government and state security services\", \"Rebel Groups\", \"Political Militias\", \"Identity Militias\", \"Rioters\", \"Protestors\", \"Civilians\", \"External/other forces\"], \"z\": [[0.005455962587685113, 0.0, 0.000779423226812159, 0.002338269680436477, 0.0, 0.0, 0.0, 0.00779423226812159, 0.000779423226812159], [0.001558846453624318, 0.01558846453624318, 0.0, 0.0, 0.0, 0.0, 0.0, 0.006235385814497272, 0.0], [0.0, 0.03351519875292284, 0.0, 0.003117692907248636, 0.000779423226812159, 0.0, 0.0, 0.03975058456742011, 0.000779423226812159], [0.0, 0.001558846453624318, 0.0, 0.0, 0.010911925175370226, 0.0, 0.0, 0.010132501948558068, 0.0], [0.02260327357755261, 0.04988308651597818, 0.0, 0.0, 0.0, 0.034294621979735, 0.000779423226812159, 0.021823850350740453, 0.0], [0.6453624318004677, 0.05845674201091192, 0.0, 0.000779423226812159, 0.0, 0.0, 0.0, 0.0, 0.0], [0.000779423226812159, 0.0, 0.0, 0.0, 0.0, 0.0, 0.0, 0.0, 0.0], [0.0, 0.02338269680436477, 0.0, 0.0, 0.0, 0.0, 0.0, 0.000779423226812159, 0.0]], \"type\": \"heatmap\", \"uid\": \"3a6ed7fb-b522-4775-bfd4-752b808a1d5e\"}, {\"colorbar\": {\"title\": {\"text\": \"Normalized Frequency\"}}, \"colorscale\": [[0.0, \"rgb(165,0,38)\"], [0.01, \"rgb(215,48,39)\"], [0.2, \"rgb(244,109,67)\"], [0.3, \"rgb(253,174,97)\"], [0.4, \"rgb(254,224,144)\"], [0.5, \"rgb(224,243,248)\"], [0.6, \"rgb(171,217,233)\"], [0.7, \"rgb(116,173,209)\"], [0.8, \"rgb(69,117,180)\"], [1.0, \"rgb(49,54,149)\"]], \"x\": [\"No actor\", \"Government and state security services\", \"Rebel Groups\", \"Political Militias\", \"Identity Militias\", \"Rioters\", \"Protestors\", \"Civilians\", \"External/other forces\"], \"y\": [\"Government and state security services\", \"Rebel Groups\", \"Political Militias\", \"Identity Militias\", \"Rioters\", \"Protestors\", \"External/other forces\"], \"z\": [[0.0, 0.0, 0.0, 0.0007867820613690008, 0.0, 0.0, 0.0015735641227380016, 0.003933910306845004, 0.013375295043273014], [0.0023603461841070024, 0.00865460267505901, 0.0, 0.0, 0.0, 0.0, 0.0, 0.004720692368214005, 0.0], [0.0023603461841070024, 0.00944138473642801, 0.0007867820613690008, 0.003147128245476003, 0.0, 0.0, 0.0, 0.020456333595594022, 0.0], [0.0015735641227380016, 0.0007867820613690008, 0.0, 0.0, 0.006294256490952006, 0.0, 0.0, 0.014948859166011016, 0.0], [0.05664830841856806, 0.1022816679779701, 0.0, 0.0, 0.0, 0.01888276947285602, 0.0, 0.01730920535011802, 0.0], [0.6695515342250197, 0.03855232100708104, 0.0, 0.0, 0.0, 0.0007867820613690008, 0.0, 0.0, 0.0], [0.0, 0.0, 0.0, 0.0, 0.0, 0.0, 0.0, 0.0007867820613690008, 0.0]], \"type\": \"heatmap\", \"uid\": \"948503be-a1db-42ce-b675-cb37fd5411a8\"}, {\"colorbar\": {\"title\": {\"text\": \"Normalized Frequency\"}}, \"colorscale\": [[0.0, \"rgb(165,0,38)\"], [0.01, \"rgb(215,48,39)\"], [0.2, \"rgb(244,109,67)\"], [0.3, \"rgb(253,174,97)\"], [0.4, \"rgb(254,224,144)\"], [0.5, \"rgb(224,243,248)\"], [0.6, \"rgb(171,217,233)\"], [0.7, \"rgb(116,173,209)\"], [0.8, \"rgb(69,117,180)\"], [1.0, \"rgb(49,54,149)\"]], \"x\": [\"No actor\", \"Government and state security services\", \"Rebel Groups\", \"Political Militias\", \"Identity Militias\", \"Rioters\", \"Protestors\", \"Civilians\", \"External/other forces\"], \"y\": [\"Government and state security services\", \"Rebel Groups\", \"Political Militias\", \"Identity Militias\", \"Rioters\", \"Protestors\", \"External/other forces\"], \"z\": [[0.006493506493506494, 0.0, 0.0016233766233766235, 0.0016233766233766235, 0.0, 0.0, 0.0, 0.006493506493506494, 0.004058441558441558], [0.0008116883116883117, 0.017045454545454544, 0.0, 0.0, 0.0008116883116883117, 0.0, 0.0, 0.0016233766233766235, 0.0], [0.003246753246753247, 0.030032467532467532, 0.0008116883116883117, 0.0016233766233766235, 0.0, 0.0008116883116883117, 0.0, 0.025162337662337664, 0.0008116883116883117], [0.0, 0.0, 0.0, 0.0, 0.003246753246753247, 0.0, 0.0, 0.033279220779220776, 0.0], [0.028409090909090908, 0.05519480519480519, 0.0, 0.0, 0.0, 0.010551948051948052, 0.0, 0.017045454545454544, 0.0008116883116883117], [0.6964285714285714, 0.048701298701298704, 0.0, 0.0008116883116883117, 0.0, 0.0, 0.0016233766233766235, 0.0, 0.0], [0.0008116883116883117, 0.0, 0.0, 0.0, 0.0, 0.0, 0.0, 0.0, 0.0]], \"type\": \"heatmap\", \"uid\": \"3e254cb3-9502-4ded-bbf3-930323fe40da\"}, {\"colorbar\": {\"title\": {\"text\": \"Normalized Frequency\"}}, \"colorscale\": [[0.0, \"rgb(165,0,38)\"], [0.01, \"rgb(215,48,39)\"], [0.2, \"rgb(244,109,67)\"], [0.3, \"rgb(253,174,97)\"], [0.4, \"rgb(254,224,144)\"], [0.5, \"rgb(224,243,248)\"], [0.6, \"rgb(171,217,233)\"], [0.7, \"rgb(116,173,209)\"], [0.8, \"rgb(69,117,180)\"], [1.0, \"rgb(49,54,149)\"]], \"x\": [\"No actor\", \"Government and state security services\", \"Rebel Groups\", \"Political Militias\", \"Identity Militias\", \"Rioters\", \"Protestors\", \"Civilians\", \"External/other forces\"], \"y\": [\"Government and state security services\", \"Rebel Groups\", \"Political Militias\", \"Identity Militias\", \"Rioters\", \"Protestors\"], \"z\": [[0.0016474464579901153, 0.0, 0.004942339373970346, 0.006589785831960461, 0.0, 0.0, 0.0, 0.009060955518945634, 0.0], [0.0, 0.002471169686985173, 0.0, 0.0, 0.0, 0.0, 0.0, 0.005766062602965404, 0.0], [0.0032948929159802307, 0.009060955518945634, 0.0, 0.0008237232289950577, 0.0, 0.0, 0.0, 0.018945634266886325, 0.0008237232289950577], [0.0, 0.0032948929159802307, 0.0, 0.0008237232289950577, 0.011532125205930808, 0.0, 0.0, 0.01070840197693575, 0.0], [0.009884678747940691, 0.0642504118616145, 0.0, 0.0, 0.0, 0.009884678747940691, 0.0, 0.01070840197693575, 0.0], [0.7322899505766063, 0.0815485996705107, 0.0, 0.0008237232289950577, 0.0, 0.0, 0.0008237232289950577, 0.0, 0.0]], \"type\": \"heatmap\", \"uid\": \"130f01c4-b1c1-4bc5-abdd-7a62504578d5\"}, {\"colorbar\": {\"title\": {\"text\": \"Normalized Frequency\"}}, \"colorscale\": [[0.0, \"rgb(165,0,38)\"], [0.01, \"rgb(215,48,39)\"], [0.2, \"rgb(244,109,67)\"], [0.3, \"rgb(253,174,97)\"], [0.4, \"rgb(254,224,144)\"], [0.5, \"rgb(224,243,248)\"], [0.6, \"rgb(171,217,233)\"], [0.7, \"rgb(116,173,209)\"], [0.8, \"rgb(69,117,180)\"], [1.0, \"rgb(49,54,149)\"]], \"x\": [\"No actor\", \"Government and state security services\", \"Rebel Groups\", \"Political Militias\", \"Identity Militias\", \"Rioters\", \"Protestors\", \"Civilians\", \"External/other forces\"], \"y\": [\"Government and state security services\", \"Rebel Groups\", \"Political Militias\", \"Identity Militias\", \"Rioters\", \"Protestors\"], \"z\": [[0.0, 0.0, 0.0008431703204047217, 0.0, 0.0, 0.0, 0.0, 0.005902192242833052, 0.024451939291736932], [0.0, 0.021079258010118045, 0.0, 0.0, 0.0, 0.0, 0.0, 0.0016863406408094434, 0.0], [0.0, 0.026981450252951095, 0.0, 0.003372681281618887, 0.0, 0.0, 0.0, 0.012647554806070826, 0.0008431703204047217], [0.0, 0.0016863406408094434, 0.0, 0.0, 0.003372681281618887, 0.0, 0.0, 0.012647554806070826, 0.0], [0.02782462057335582, 0.0893760539629005, 0.0, 0.0, 0.0, 0.01517706576728499, 0.0008431703204047217, 0.006745362563237774, 0.0], [0.7074198988195616, 0.03625632377740304, 0.0, 0.0, 0.0, 0.0008431703204047217, 0.0, 0.0, 0.0]], \"type\": \"heatmap\", \"uid\": \"7a7f9ba7-3fb4-44ae-a8ed-5faf99b43d08\"}, {\"colorbar\": {\"title\": {\"text\": \"Normalized Frequency\"}}, \"colorscale\": [[0.0, \"rgb(165,0,38)\"], [0.01, \"rgb(215,48,39)\"], [0.2, \"rgb(244,109,67)\"], [0.3, \"rgb(253,174,97)\"], [0.4, \"rgb(254,224,144)\"], [0.5, \"rgb(224,243,248)\"], [0.6, \"rgb(171,217,233)\"], [0.7, \"rgb(116,173,209)\"], [0.8, \"rgb(69,117,180)\"], [1.0, \"rgb(49,54,149)\"]], \"x\": [\"No actor\", \"Government and state security services\", \"Rebel Groups\", \"Political Militias\", \"Identity Militias\", \"Rioters\", \"Civilians\", \"External/other forces\"], \"y\": [\"Government and state security services\", \"Rebel Groups\", \"Political Militias\", \"Identity Militias\", \"Rioters\", \"Protestors\", \"External/other forces\"], \"z\": [[0.003404255319148936, 0.0, 0.000851063829787234, 0.000851063829787234, 0.0, 0.0, 0.005957446808510639, 0.0], [0.002553191489361702, 0.02127659574468085, 0.0, 0.0, 0.0, 0.0, 0.005106382978723404, 0.0], [0.001702127659574468, 0.011063829787234043, 0.0, 0.00425531914893617, 0.0, 0.0, 0.02468085106382979, 0.0], [0.0, 0.000851063829787234, 0.0, 0.001702127659574468, 0.000851063829787234, 0.0, 0.005106382978723404, 0.0], [0.04, 0.09361702127659574, 0.0, 0.0, 0.0, 0.05191489361702128, 0.02127659574468085, 0.000851063829787234], [0.6382978723404256, 0.06127659574468085, 0.0, 0.0, 0.0, 0.0, 0.0, 0.0], [0.0, 0.002553191489361702, 0.0, 0.0, 0.0, 0.0, 0.0, 0.0]], \"type\": \"heatmap\", \"uid\": \"d45c0c9e-e386-4eb6-bad7-2567a640d39e\"}, {\"colorbar\": {\"title\": {\"text\": \"Normalized Frequency\"}}, \"colorscale\": [[0.0, \"rgb(165,0,38)\"], [0.01, \"rgb(215,48,39)\"], [0.2, \"rgb(244,109,67)\"], [0.3, \"rgb(253,174,97)\"], [0.4, \"rgb(254,224,144)\"], [0.5, \"rgb(224,243,248)\"], [0.6, \"rgb(171,217,233)\"], [0.7, \"rgb(116,173,209)\"], [0.8, \"rgb(69,117,180)\"], [1.0, \"rgb(49,54,149)\"]], \"x\": [\"No actor\", \"Government and state security services\", \"Political Militias\", \"Identity Militias\", \"Rioters\", \"Protestors\", \"Civilians\", \"External/other forces\"], \"y\": [\"Government and state security services\", \"Rebel Groups\", \"Political Militias\", \"Identity Militias\", \"Rioters\", \"Protestors\", \"External/other forces\"], \"z\": [[0.0051325919589392645, 0.0, 0.001710863986313088, 0.0, 0.0, 0.000855431993156544, 0.0025662959794696323, 0.04448246364414029], [0.00427715996578272, 0.007698887938408896, 0.0, 0.0, 0.0, 0.0, 0.00427715996578272, 0.0], [0.000855431993156544, 0.018819503849443968, 0.001710863986313088, 0.0, 0.000855431993156544, 0.000855431993156544, 0.017964071856287425, 0.0], [0.0, 0.0, 0.0, 0.00427715996578272, 0.0, 0.0, 0.005988023952095809, 0.0], [0.04790419161676647, 0.04790419161676647, 0.0, 0.0, 0.011120615911035072, 0.000855431993156544, 0.016253207869974338, 0.0], [0.7031650983746792, 0.04790419161676647, 0.0, 0.0, 0.0, 0.0, 0.0, 0.0], [0.000855431993156544, 0.000855431993156544, 0.0, 0.0, 0.0, 0.0, 0.000855431993156544, 0.0]], \"type\": \"heatmap\", \"uid\": \"6ba516d7-7633-4218-a949-4177f16155d5\"}, {\"colorbar\": {\"title\": {\"text\": \"Normalized Frequency\"}}, \"colorscale\": [[0.0, \"rgb(165,0,38)\"], [0.01, \"rgb(215,48,39)\"], [0.2, \"rgb(244,109,67)\"], [0.3, \"rgb(253,174,97)\"], [0.4, \"rgb(254,224,144)\"], [0.5, \"rgb(224,243,248)\"], [0.6, \"rgb(171,217,233)\"], [0.7, \"rgb(116,173,209)\"], [0.8, \"rgb(69,117,180)\"], [1.0, \"rgb(49,54,149)\"]], \"x\": [\"No actor\", \"Government and state security services\", \"Political Militias\", \"Identity Militias\", \"Rioters\", \"Protestors\", \"Civilians\", \"External/other forces\"], \"y\": [\"Government and state security services\", \"Rebel Groups\", \"Political Militias\", \"Identity Militias\", \"Rioters\", \"Protestors\", \"External/other forces\"], \"z\": [[0.0026086956521739132, 0.0, 0.0008695652173913044, 0.0008695652173913044, 0.0, 0.010434782608695653, 0.00608695652173913, 0.0008695652173913044], [0.0052173913043478265, 0.011304347826086957, 0.0, 0.0, 0.0, 0.0, 0.0052173913043478265, 0.0], [0.0034782608695652175, 0.02, 0.0, 0.0, 0.0, 0.0, 0.01217391304347826, 0.0008695652173913044], [0.0, 0.0008695652173913044, 0.0, 0.0026086956521739132, 0.0, 0.0, 0.011304347826086957, 0.0], [0.02434782608695652, 0.13391304347826086, 0.0, 0.0, 0.006956521739130435, 0.0008695652173913044, 0.01652173913043478, 0.0], [0.6295652173913043, 0.08956521739130435, 0.0, 0.0, 0.0, 0.0, 0.0, 0.0], [0.0, 0.0034782608695652175, 0.0, 0.0, 0.0, 0.0, 0.0, 0.0]], \"type\": \"heatmap\", \"uid\": \"8d5d72db-677e-4f4d-97a8-bb2e84d2c3b3\"}, {\"colorbar\": {\"title\": {\"text\": \"Normalized Frequency\"}}, \"colorscale\": [[0.0, \"rgb(165,0,38)\"], [0.01, \"rgb(215,48,39)\"], [0.2, \"rgb(244,109,67)\"], [0.3, \"rgb(253,174,97)\"], [0.4, \"rgb(254,224,144)\"], [0.5, \"rgb(224,243,248)\"], [0.6, \"rgb(171,217,233)\"], [0.7, \"rgb(116,173,209)\"], [0.8, \"rgb(69,117,180)\"], [1.0, \"rgb(49,54,149)\"]], \"x\": [\"No actor\", \"Government and state security services\", \"Political Militias\", \"Identity Militias\", \"Rioters\", \"Protestors\", \"Civilians\", \"External/other forces\"], \"y\": [\"Government and state security services\", \"Rebel Groups\", \"Political Militias\", \"Identity Militias\", \"Rioters\", \"Protestors\", \"External/other forces\"], \"z\": [[0.0045045045045045045, 0.0, 0.0, 0.0, 0.0, 0.0009009009009009009, 0.005405405405405406, 0.002702702702702703], [0.0, 0.013513513513513514, 0.0, 0.0, 0.0, 0.0, 0.0045045045045045045, 0.0], [0.0018018018018018018, 0.04684684684684685, 0.0, 0.0009009009009009009, 0.0, 0.0, 0.027927927927927927, 0.0], [0.0, 0.002702702702702703, 0.0, 0.009009009009009009, 0.0, 0.0, 0.027927927927927927, 0.0], [0.011711711711711712, 0.062162162162162166, 0.0, 0.0, 0.017117117117117116, 0.0, 0.01981981981981982, 0.0], [0.6774774774774774, 0.055855855855855854, 0.0009009009009009009, 0.0, 0.0, 0.0036036036036036037, 0.0, 0.0], [0.0009009009009009009, 0.0018018018018018018, 0.0, 0.0, 0.0, 0.0, 0.0, 0.0]], \"type\": \"heatmap\", \"uid\": \"5081cdfd-4470-4c25-aa2e-0ef726c03afd\"}, {\"colorbar\": {\"title\": {\"text\": \"Normalized Frequency\"}}, \"colorscale\": [[0.0, \"rgb(165,0,38)\"], [0.01, \"rgb(215,48,39)\"], [0.2, \"rgb(244,109,67)\"], [0.3, \"rgb(253,174,97)\"], [0.4, \"rgb(254,224,144)\"], [0.5, \"rgb(224,243,248)\"], [0.6, \"rgb(171,217,233)\"], [0.7, \"rgb(116,173,209)\"], [0.8, \"rgb(69,117,180)\"], [1.0, \"rgb(49,54,149)\"]], \"x\": [\"No actor\", \"Government and state security services\", \"Rebel Groups\", \"Political Militias\", \"Identity Militias\", \"Rioters\", \"Protestors\", \"Civilians\"], \"y\": [\"Government and state security services\", \"Rebel Groups\", \"Political Militias\", \"Identity Militias\", \"Rioters\", \"Protestors\", \"External/other forces\"], \"z\": [[0.0009124087591240876, 0.0, 0.0018248175182481751, 0.005474452554744526, 0.0, 0.0, 0.0, 0.004562043795620438], [0.0009124087591240876, 0.014598540145985401, 0.0, 0.0, 0.0, 0.0, 0.0, 0.008211678832116789], [0.0, 0.013686131386861315, 0.0, 0.0018248175182481751, 0.0, 0.0, 0.0009124087591240876, 0.01916058394160584], [0.0, 0.0009124087591240876, 0.0, 0.0009124087591240876, 0.002737226277372263, 0.0, 0.0, 0.0036496350364963502], [0.016423357664233577, 0.07755474452554745, 0.0, 0.0, 0.0, 0.02645985401459854, 0.0009124087591240876, 0.013686131386861315], [0.718065693430657, 0.04927007299270073, 0.0, 0.0, 0.0, 0.0, 0.0018248175182481751, 0.0], [0.0, 0.01551094890510949, 0.0, 0.0, 0.0, 0.0, 0.0, 0.0]], \"type\": \"heatmap\", \"uid\": \"191303c2-a38e-498f-802d-5fb0ae75ca68\"}, {\"colorbar\": {\"title\": {\"text\": \"Normalized Frequency\"}}, \"colorscale\": [[0.0, \"rgb(165,0,38)\"], [0.01, \"rgb(215,48,39)\"], [0.2, \"rgb(244,109,67)\"], [0.3, \"rgb(253,174,97)\"], [0.4, \"rgb(254,224,144)\"], [0.5, \"rgb(224,243,248)\"], [0.6, \"rgb(171,217,233)\"], [0.7, \"rgb(116,173,209)\"], [0.8, \"rgb(69,117,180)\"], [1.0, \"rgb(49,54,149)\"]], \"x\": [\"No actor\", \"Government and state security services\", \"Political Militias\", \"Identity Militias\", \"Rioters\", \"Protestors\", \"Civilians\", \"External/other forces\"], \"y\": [\"Government and state security services\", \"Rebel Groups\", \"Political Militias\", \"Identity Militias\", \"Rioters\", \"Protestors\", \"External/other forces\"], \"z\": [[0.0, 0.0, 0.0, 0.0, 0.0, 0.0, 0.005676442762535478, 0.0], [0.005676442762535478, 0.020813623462630087, 0.0, 0.0, 0.0, 0.0, 0.007568590350047304, 0.000946073793755913], [0.003784295175023652, 0.01608325449385052, 0.005676442762535478, 0.0, 0.0, 0.0, 0.020813623462630087, 0.0], [0.001892147587511826, 0.000946073793755913, 0.0, 0.004730368968779565, 0.0, 0.0, 0.01229895931882687, 0.0], [0.02554399243140965, 0.10406811731315042, 0.0, 0.0, 0.03595080416272469, 0.000946073793755913, 0.013245033112582781, 0.002838221381267739], [0.6433301797540208, 0.04446546830652791, 0.0, 0.0, 0.0, 0.001892147587511826, 0.0, 0.0], [0.0, 0.019867549668874173, 0.0, 0.0, 0.0, 0.0, 0.000946073793755913, 0.0]], \"type\": \"heatmap\", \"uid\": \"6c1ac39a-ae55-4906-99fb-e3032c0ca033\"}, {\"colorbar\": {\"title\": {\"text\": \"Normalized Frequency\"}}, \"colorscale\": [[0.0, \"rgb(165,0,38)\"], [0.01, \"rgb(215,48,39)\"], [0.2, \"rgb(244,109,67)\"], [0.3, \"rgb(253,174,97)\"], [0.4, \"rgb(254,224,144)\"], [0.5, \"rgb(224,243,248)\"], [0.6, \"rgb(171,217,233)\"], [0.7, \"rgb(116,173,209)\"], [0.8, \"rgb(69,117,180)\"], [1.0, \"rgb(49,54,149)\"]], \"x\": [\"No actor\", \"Government and state security services\", \"Rebel Groups\", \"Political Militias\", \"Identity Militias\", \"Rioters\", \"Protestors\", \"Civilians\", \"External/other forces\"], \"y\": [\"Government and state security services\", \"Rebel Groups\", \"Political Militias\", \"Identity Militias\", \"Rioters\", \"Protestors\", \"External/other forces\"], \"z\": [[0.005714285714285714, 0.0, 0.0009523809523809524, 0.0019047619047619048, 0.0, 0.0, 0.0, 0.007619047619047619, 0.018095238095238095], [0.0038095238095238095, 0.014285714285714285, 0.0, 0.0, 0.0, 0.0, 0.0, 0.0038095238095238095, 0.0], [0.002857142857142857, 0.013333333333333334, 0.0, 0.0019047619047619048, 0.0, 0.0, 0.0009523809523809524, 0.025714285714285714, 0.0009523809523809524], [0.0, 0.0009523809523809524, 0.0, 0.0, 0.0009523809523809524, 0.0, 0.0, 0.008571428571428572, 0.0], [0.022857142857142857, 0.05238095238095238, 0.0, 0.0, 0.0, 0.02095238095238095, 0.002857142857142857, 0.017142857142857144, 0.0], [0.7152380952380952, 0.05523809523809524, 0.0, 0.0, 0.0, 0.0, 0.0, 0.0, 0.0], [0.0, 0.0009523809523809524, 0.0, 0.0, 0.0, 0.0, 0.0, 0.0, 0.0]], \"type\": \"heatmap\", \"uid\": \"2da52627-b238-459b-a57b-79c0ae9261bf\"}, {\"colorbar\": {\"title\": {\"text\": \"Normalized Frequency\"}}, \"colorscale\": [[0.0, \"rgb(165,0,38)\"], [0.01, \"rgb(215,48,39)\"], [0.2, \"rgb(244,109,67)\"], [0.3, \"rgb(253,174,97)\"], [0.4, \"rgb(254,224,144)\"], [0.5, \"rgb(224,243,248)\"], [0.6, \"rgb(171,217,233)\"], [0.7, \"rgb(116,173,209)\"], [0.8, \"rgb(69,117,180)\"], [1.0, \"rgb(49,54,149)\"]], \"x\": [\"No actor\", \"Government and state security services\", \"Political Militias\", \"Identity Militias\", \"Rioters\", \"Protestors\", \"Civilians\"], \"y\": [\"Government and state security services\", \"Rebel Groups\", \"Political Militias\", \"Identity Militias\", \"Rioters\", \"Protestors\"], \"z\": [[0.002859866539561487, 0.0, 0.005719733079122974, 0.0, 0.0, 0.0019065776930409914, 0.0019065776930409914], [0.00667302192564347, 0.0219256434699714, 0.0, 0.0, 0.0, 0.0, 0.0076263107721639654], [0.0019065776930409914, 0.004766444232602479, 0.0019065776930409914, 0.0, 0.0, 0.0, 0.027645376549094377], [0.0, 0.0, 0.0, 0.0038131553860819827, 0.0, 0.0, 0.004766444232602479], [0.04575786463298379, 0.052430886558627265, 0.0, 0.0, 0.023832221163012392, 0.004766444232602479, 0.010486177311725452], [0.7102001906577693, 0.05624404194470925, 0.0, 0.0, 0.0009532888465204957, 0.0019065776930409914, 0.0]], \"type\": \"heatmap\", \"uid\": \"5a2ede38-9dc8-4a09-b52b-88e727c372b4\"}, {\"colorbar\": {\"title\": {\"text\": \"Normalized Frequency\"}}, \"colorscale\": [[0.0, \"rgb(165,0,38)\"], [0.01, \"rgb(215,48,39)\"], [0.2, \"rgb(244,109,67)\"], [0.3, \"rgb(253,174,97)\"], [0.4, \"rgb(254,224,144)\"], [0.5, \"rgb(224,243,248)\"], [0.6, \"rgb(171,217,233)\"], [0.7, \"rgb(116,173,209)\"], [0.8, \"rgb(69,117,180)\"], [1.0, \"rgb(49,54,149)\"]], \"x\": [\"No actor\", \"Government and state security services\", \"Political Militias\", \"Identity Militias\", \"Rioters\", \"Protestors\", \"Civilians\", \"External/other forces\"], \"y\": [\"Government and state security services\", \"Rebel Groups\", \"Political Militias\", \"Identity Militias\", \"Rioters\", \"Protestors\", \"External/other forces\"], \"z\": [[0.0009727626459143969, 0.0, 0.0, 0.0, 0.0, 0.0019455252918287938, 0.0048638132295719845, 0.023346303501945526], [0.0, 0.0038910505836575876, 0.0, 0.0, 0.0, 0.0, 0.0009727626459143969, 0.0], [0.0, 0.023346303501945526, 0.0038910505836575876, 0.0, 0.0, 0.0, 0.014591439688715954, 0.0], [0.0, 0.0, 0.0, 0.0029182879377431907, 0.0, 0.0, 0.010700389105058366, 0.0], [0.04474708171206226, 0.06712062256809338, 0.0, 0.0, 0.016536964980544747, 0.0, 0.010700389105058366, 0.0009727626459143969], [0.730544747081712, 0.03599221789883268, 0.0, 0.0, 0.0, 0.0009727626459143969, 0.0, 0.0], [0.0, 0.0009727626459143969, 0.0, 0.0, 0.0, 0.0, 0.0, 0.0]], \"type\": \"heatmap\", \"uid\": \"30993f38-8ef8-45aa-a476-3032c75a2b1b\"}, {\"colorbar\": {\"title\": {\"text\": \"Normalized Frequency\"}}, \"colorscale\": [[0.0, \"rgb(165,0,38)\"], [0.01, \"rgb(215,48,39)\"], [0.2, \"rgb(244,109,67)\"], [0.3, \"rgb(253,174,97)\"], [0.4, \"rgb(254,224,144)\"], [0.5, \"rgb(224,243,248)\"], [0.6, \"rgb(171,217,233)\"], [0.7, \"rgb(116,173,209)\"], [0.8, \"rgb(69,117,180)\"], [1.0, \"rgb(49,54,149)\"]], \"x\": [\"No actor\", \"Government and state security services\", \"Rebel Groups\", \"Political Militias\", \"Rioters\", \"Protestors\", \"Civilians\", \"External/other forces\"], \"y\": [\"Government and state security services\", \"Rebel Groups\", \"Political Militias\", \"Identity Militias\", \"Rioters\", \"Protestors\"], \"z\": [[0.0019474196689386564, 0.0, 0.0, 0.013631937682570594, 0.0, 0.02044790652385589, 0.004868549172346641, 0.0019474196689386564], [0.0009737098344693282, 0.006815968841285297, 0.0, 0.0, 0.0, 0.0, 0.0009737098344693282, 0.0], [0.0009737098344693282, 0.008763388510223954, 0.0009737098344693282, 0.0, 0.0, 0.0, 0.007789678675754625, 0.0], [0.0019474196689386564, 0.0, 0.0, 0.0, 0.0, 0.0, 0.0009737098344693282, 0.0], [0.05063291139240506, 0.11100292112950341, 0.0, 0.0, 0.013631937682570594, 0.0009737098344693282, 0.005842259006815969, 0.0], [0.688412852969815, 0.055501460564751706, 0.0, 0.0, 0.0, 0.0009737098344693282, 0.0, 0.0]], \"type\": \"heatmap\", \"uid\": \"fd32b6ef-4f07-4735-b25e-3f06e99c96bd\"}, {\"colorbar\": {\"title\": {\"text\": \"Normalized Frequency\"}}, \"colorscale\": [[0.0, \"rgb(165,0,38)\"], [0.01, \"rgb(215,48,39)\"], [0.2, \"rgb(244,109,67)\"], [0.3, \"rgb(253,174,97)\"], [0.4, \"rgb(254,224,144)\"], [0.5, \"rgb(224,243,248)\"], [0.6, \"rgb(171,217,233)\"], [0.7, \"rgb(116,173,209)\"], [0.8, \"rgb(69,117,180)\"], [1.0, \"rgb(49,54,149)\"]], \"x\": [\"No actor\", \"Government and state security services\", \"Political Militias\", \"Identity Militias\", \"Rioters\", \"Protestors\", \"Civilians\", \"External/other forces\"], \"y\": [\"Government and state security services\", \"Rebel Groups\", \"Political Militias\", \"Identity Militias\", \"Rioters\", \"Protestors\"], \"z\": [[0.000998003992015968, 0.0, 0.006986027944111776, 0.0, 0.0, 0.000998003992015968, 0.001996007984031936, 0.000998003992015968], [0.000998003992015968, 0.011976047904191617, 0.0, 0.0, 0.0, 0.0, 0.00499001996007984, 0.0], [0.00499001996007984, 0.012974051896207584, 0.0029940119760479044, 0.0, 0.0, 0.0, 0.04091816367265469, 0.0], [0.0, 0.000998003992015968, 0.0, 0.0029940119760479044, 0.0, 0.0, 0.006986027944111776, 0.0], [0.023952095808383235, 0.08083832335329341, 0.0, 0.0, 0.029940119760479042, 0.000998003992015968, 0.03493013972055888, 0.0], [0.6497005988023952, 0.07584830339321358, 0.0, 0.0, 0.000998003992015968, 0.0, 0.0, 0.0]], \"type\": \"heatmap\", \"uid\": \"da80f195-0817-413a-8632-0216b5b3f24d\"}, {\"colorbar\": {\"title\": {\"text\": \"Normalized Frequency\"}}, \"colorscale\": [[0.0, \"rgb(165,0,38)\"], [0.01, \"rgb(215,48,39)\"], [0.2, \"rgb(244,109,67)\"], [0.3, \"rgb(253,174,97)\"], [0.4, \"rgb(254,224,144)\"], [0.5, \"rgb(224,243,248)\"], [0.6, \"rgb(171,217,233)\"], [0.7, \"rgb(116,173,209)\"], [0.8, \"rgb(69,117,180)\"], [1.0, \"rgb(49,54,149)\"]], \"x\": [\"No actor\", \"Government and state security services\", \"Rebel Groups\", \"Rioters\", \"Protestors\", \"Civilians\", \"External/other forces\"], \"y\": [\"Government and state security services\", \"Rebel Groups\", \"Political Militias\", \"Identity Militias\", \"Rioters\", \"Protestors\"], \"z\": [[0.0, 0.0, 0.001002004008016032, 0.0, 0.0, 0.0, 0.001002004008016032], [0.001002004008016032, 0.004008016032064128, 0.0, 0.0, 0.0, 0.004008016032064128, 0.0], [0.0070140280561122245, 0.004008016032064128, 0.0, 0.0, 0.0, 0.013026052104208416, 0.0], [0.0, 0.0, 0.0, 0.0, 0.0, 0.003006012024048096, 0.0], [0.06613226452905811, 0.06613226452905811, 0.0, 0.013026052104208416, 0.0, 0.009018036072144289, 0.0], [0.782565130260521, 0.022044088176352707, 0.0, 0.0, 0.003006012024048096, 0.0, 0.0]], \"type\": \"heatmap\", \"uid\": \"ad11b8eb-62d9-4518-b344-a9c0b0d1745d\"}, {\"colorbar\": {\"title\": {\"text\": \"Normalized Frequency\"}}, \"colorscale\": [[0.0, \"rgb(165,0,38)\"], [0.01, \"rgb(215,48,39)\"], [0.2, \"rgb(244,109,67)\"], [0.3, \"rgb(253,174,97)\"], [0.4, \"rgb(254,224,144)\"], [0.5, \"rgb(224,243,248)\"], [0.6, \"rgb(171,217,233)\"], [0.7, \"rgb(116,173,209)\"], [0.8, \"rgb(69,117,180)\"], [1.0, \"rgb(49,54,149)\"]], \"x\": [\"No actor\", \"Government and state security services\", \"Rebel Groups\", \"Political Militias\", \"Identity Militias\", \"Rioters\", \"Protestors\", \"Civilians\", \"External/other forces\"], \"y\": [\"Government and state security services\", \"Rebel Groups\", \"Political Militias\", \"Identity Militias\", \"Rioters\", \"Protestors\"], \"z\": [[0.0, 0.0, 0.002074688796680498, 0.001037344398340249, 0.0, 0.0, 0.0, 0.002074688796680498, 0.03630705394190872], [0.005186721991701245, 0.013485477178423237, 0.0, 0.0, 0.0, 0.0, 0.0, 0.001037344398340249, 0.0], [0.002074688796680498, 0.024896265560165973, 0.002074688796680498, 0.0, 0.0, 0.0, 0.0, 0.015560165975103735, 0.0], [0.0, 0.0, 0.0, 0.0, 0.002074688796680498, 0.0, 0.0, 0.008298755186721992, 0.0], [0.00933609958506224, 0.04564315352697095, 0.0, 0.0, 0.0, 0.014522821576763486, 0.001037344398340249, 0.00933609958506224, 0.0], [0.7479253112033195, 0.054979253112033194, 0.0, 0.0, 0.0, 0.0, 0.001037344398340249, 0.0, 0.0]], \"type\": \"heatmap\", \"uid\": \"5bd29fc3-a03c-43a4-8cf9-65b3f59990f7\"}, {\"colorbar\": {\"title\": {\"text\": \"Normalized Frequency\"}}, \"colorscale\": [[0.0, \"rgb(165,0,38)\"], [0.01, \"rgb(215,48,39)\"], [0.2, \"rgb(244,109,67)\"], [0.3, \"rgb(253,174,97)\"], [0.4, \"rgb(254,224,144)\"], [0.5, \"rgb(224,243,248)\"], [0.6, \"rgb(171,217,233)\"], [0.7, \"rgb(116,173,209)\"], [0.8, \"rgb(69,117,180)\"], [1.0, \"rgb(49,54,149)\"]], \"x\": [\"No actor\", \"Government and state security services\", \"Political Militias\", \"Identity Militias\", \"Rioters\", \"Civilians\"], \"y\": [\"Government and state security services\", \"Rebel Groups\", \"Political Militias\", \"Identity Militias\", \"Rioters\", \"Protestors\", \"External/other forces\"], \"z\": [[0.0, 0.0, 0.002079002079002079, 0.0, 0.0, 0.0031185031185031187], [0.0, 0.012474012474012475, 0.0, 0.0, 0.0, 0.007276507276507277], [0.004158004158004158, 0.016632016632016633, 0.0, 0.0, 0.0, 0.02390852390852391], [0.0, 0.0010395010395010396, 0.0, 0.002079002079002079, 0.0, 0.007276507276507277], [0.031185031185031187, 0.06652806652806653, 0.0, 0.0, 0.016632016632016633, 0.01975051975051975], [0.7245322245322245, 0.056133056133056136, 0.0, 0.0, 0.0, 0.0], [0.0, 0.004158004158004158, 0.0, 0.0, 0.0, 0.0010395010395010396]], \"type\": \"heatmap\", \"uid\": \"22c025b2-2c5e-4ebf-9dc9-fda7426483eb\"}, {\"colorbar\": {\"title\": {\"text\": \"Normalized Frequency\"}}, \"colorscale\": [[0.0, \"rgb(165,0,38)\"], [0.01, \"rgb(215,48,39)\"], [0.2, \"rgb(244,109,67)\"], [0.3, \"rgb(253,174,97)\"], [0.4, \"rgb(254,224,144)\"], [0.5, \"rgb(224,243,248)\"], [0.6, \"rgb(171,217,233)\"], [0.7, \"rgb(116,173,209)\"], [0.8, \"rgb(69,117,180)\"], [1.0, \"rgb(49,54,149)\"]], \"x\": [\"No actor\", \"Government and state security services\", \"Rebel Groups\", \"Political Militias\", \"Rioters\", \"Protestors\", \"Civilians\", \"External/other forces\"], \"y\": [\"Government and state security services\", \"Rebel Groups\", \"Political Militias\", \"Identity Militias\", \"Rioters\", \"Protestors\", \"External/other forces\"], \"z\": [[0.005574136008918618, 0.0011148272017837235, 0.002229654403567447, 0.0011148272017837235, 0.0, 0.0, 0.005574136008918618, 0.0033444816053511705], [0.002229654403567447, 0.016722408026755852, 0.0, 0.0, 0.0, 0.0, 0.002229654403567447, 0.0], [0.0, 0.022296544035674472, 0.0, 0.004459308807134894, 0.0, 0.0, 0.03901895206243032, 0.0011148272017837235], [0.0, 0.0, 0.0, 0.0, 0.0, 0.0, 0.002229654403567447, 0.0], [0.013377926421404682, 0.045707915273132664, 0.0, 0.0, 0.016722408026755852, 0.002229654403567447, 0.022296544035674472, 0.0], [0.6755852842809364, 0.056856187290969896, 0.0, 0.0, 0.0, 0.0, 0.0, 0.0], [0.0033444816053511705, 0.054626532887402456, 0.0, 0.0, 0.0, 0.0, 0.0, 0.0]], \"type\": \"heatmap\", \"uid\": \"aa52715e-5f9b-457e-a66f-da097ab626d6\"}, {\"colorbar\": {\"title\": {\"text\": \"Normalized Frequency\"}}, \"colorscale\": [[0.0, \"rgb(165,0,38)\"], [0.01, \"rgb(215,48,39)\"], [0.2, \"rgb(244,109,67)\"], [0.3, \"rgb(253,174,97)\"], [0.4, \"rgb(254,224,144)\"], [0.5, \"rgb(224,243,248)\"], [0.6, \"rgb(171,217,233)\"], [0.7, \"rgb(116,173,209)\"], [0.8, \"rgb(69,117,180)\"], [1.0, \"rgb(49,54,149)\"]], \"x\": [\"No actor\", \"Government and state security services\", \"Rebel Groups\", \"Political Militias\", \"Identity Militias\", \"Rioters\", \"Civilians\", \"External/other forces\"], \"y\": [\"Government and state security services\", \"Rebel Groups\", \"Political Militias\", \"Identity Militias\", \"Rioters\", \"Protestors\", \"External/other forces\"], \"z\": [[0.0012804097311139564, 0.0, 0.0012804097311139564, 0.0012804097311139564, 0.0, 0.0, 0.0, 0.0038412291933418692], [0.006402048655569782, 0.015364916773367477, 0.0, 0.0012804097311139564, 0.0, 0.0, 0.006402048655569782, 0.0], [0.0038412291933418692, 0.01792573623559539, 0.0, 0.0012804097311139564, 0.0, 0.0, 0.03713188220230474, 0.0], [0.0, 0.0, 0.0, 0.0, 0.002560819462227913, 0.0, 0.002560819462227913, 0.0], [0.040973111395646605, 0.06017925736235595, 0.0, 0.0, 0.0, 0.07298335467349552, 0.03329065300896287, 0.0], [0.6069142125480154, 0.0793854033290653, 0.0, 0.0, 0.0, 0.0, 0.0, 0.0], [0.0, 0.002560819462227913, 0.0, 0.0, 0.0, 0.0, 0.0012804097311139564, 0.0]], \"type\": \"heatmap\", \"uid\": \"9ac7b7c9-e516-4c11-9971-84a06a23a2e9\"}, {\"colorbar\": {\"title\": {\"text\": \"Normalized Frequency\"}}, \"colorscale\": [[0.0, \"rgb(165,0,38)\"], [0.01, \"rgb(215,48,39)\"], [0.2, \"rgb(244,109,67)\"], [0.3, \"rgb(253,174,97)\"], [0.4, \"rgb(254,224,144)\"], [0.5, \"rgb(224,243,248)\"], [0.6, \"rgb(171,217,233)\"], [0.7, \"rgb(116,173,209)\"], [0.8, \"rgb(69,117,180)\"], [1.0, \"rgb(49,54,149)\"]], \"x\": [\"No actor\", \"Government and state security services\", \"Rebel Groups\", \"Political Militias\", \"Identity Militias\", \"Rioters\", \"Protestors\", \"Civilians\"], \"y\": [\"Government and state security services\", \"Rebel Groups\", \"Political Militias\", \"Identity Militias\", \"Rioters\", \"Protestors\"], \"z\": [[0.0026595744680851063, 0.0, 0.003989361702127659, 0.005319148936170213, 0.0, 0.0, 0.0, 0.0], [0.0013297872340425532, 0.02127659574468085, 0.0, 0.0, 0.0, 0.0, 0.0, 0.015957446808510637], [0.0026595744680851063, 0.017287234042553192, 0.0, 0.0013297872340425532, 0.0, 0.0, 0.0, 0.013297872340425532], [0.0, 0.0, 0.0, 0.0, 0.0013297872340425532, 0.0, 0.0, 0.003989361702127659], [0.018617021276595744, 0.0598404255319149, 0.0, 0.0, 0.0, 0.043882978723404256, 0.003989361702127659, 0.0199468085106383], [0.711436170212766, 0.05053191489361702, 0.0, 0.0, 0.0, 0.0, 0.0013297872340425532, 0.0]], \"type\": \"heatmap\", \"uid\": \"cf1fd5ce-71d2-4f97-925e-c833a96dacc0\"}, {\"colorbar\": {\"title\": {\"text\": \"Normalized Frequency\"}}, \"colorscale\": [[0.0, \"rgb(165,0,38)\"], [0.01, \"rgb(215,48,39)\"], [0.2, \"rgb(244,109,67)\"], [0.3, \"rgb(253,174,97)\"], [0.4, \"rgb(254,224,144)\"], [0.5, \"rgb(224,243,248)\"], [0.6, \"rgb(171,217,233)\"], [0.7, \"rgb(116,173,209)\"], [0.8, \"rgb(69,117,180)\"], [1.0, \"rgb(49,54,149)\"]], \"x\": [\"No actor\", \"Government and state security services\", \"Political Militias\", \"Identity Militias\", \"Rioters\", \"Civilians\", \"External/other forces\"], \"y\": [\"Government and state security services\", \"Rebel Groups\", \"Political Militias\", \"Identity Militias\", \"Rioters\", \"Protestors\"], \"z\": [[0.0, 0.0, 0.0, 0.0, 0.0, 0.006675567423230975, 0.03337783711615487], [0.0, 0.004005340453938585, 0.0, 0.0, 0.0, 0.0013351134846461949, 0.0], [0.0053404539385847796, 0.030707610146862484, 0.0026702269692923898, 0.0, 0.0, 0.03204272363150868, 0.0013351134846461949], [0.0, 0.0, 0.0, 0.006675567423230975, 0.0, 0.012016021361815754, 0.0], [0.02403204272363151, 0.08678237650200267, 0.0, 0.0, 0.01602136181575434, 0.018691588785046728, 0.0], [0.6635514018691588, 0.05473965287049399, 0.0, 0.0, 0.0, 0.0, 0.0]], \"type\": \"heatmap\", \"uid\": \"ecf6ae39-800c-4caa-89f0-fa8c38e84c3c\"}, {\"colorbar\": {\"title\": {\"text\": \"Normalized Frequency\"}}, \"colorscale\": [[0.0, \"rgb(165,0,38)\"], [0.01, \"rgb(215,48,39)\"], [0.2, \"rgb(244,109,67)\"], [0.3, \"rgb(253,174,97)\"], [0.4, \"rgb(254,224,144)\"], [0.5, \"rgb(224,243,248)\"], [0.6, \"rgb(171,217,233)\"], [0.7, \"rgb(116,173,209)\"], [0.8, \"rgb(69,117,180)\"], [1.0, \"rgb(49,54,149)\"]], \"x\": [\"No actor\", \"Government and state security services\", \"Rebel Groups\", \"Political Militias\", \"Identity Militias\", \"Rioters\", \"Protestors\", \"Civilians\"], \"y\": [\"Government and state security services\", \"Rebel Groups\", \"Political Militias\", \"Identity Militias\", \"Rioters\", \"Protestors\"], \"z\": [[0.0027662517289073307, 0.0, 0.004149377593360996, 0.005532503457814661, 0.0, 0.0, 0.0027662517289073307, 0.005532503457814661], [0.0027662517289073307, 0.016597510373443983, 0.0, 0.0, 0.0, 0.0, 0.0, 0.008298755186721992], [0.0027662517289073307, 0.004149377593360996, 0.0, 0.0013831258644536654, 0.0, 0.0, 0.0, 0.012448132780082987], [0.0, 0.0, 0.0, 0.0, 0.0013831258644536654, 0.0, 0.0, 0.004149377593360996], [0.02351313969571231, 0.051175656984785614, 0.0, 0.0, 0.0, 0.011065006915629323, 0.0, 0.006915629322268326], [0.7786998616874136, 0.05255878284923928, 0.0, 0.0, 0.0, 0.0, 0.0013831258644536654, 0.0]], \"type\": \"heatmap\", \"uid\": \"6d279685-840a-49cb-a501-8fe7ef116bed\"}, {\"colorbar\": {\"title\": {\"text\": \"Normalized Frequency\"}}, \"colorscale\": [[0.0, \"rgb(165,0,38)\"], [0.01, \"rgb(215,48,39)\"], [0.2, \"rgb(244,109,67)\"], [0.3, \"rgb(253,174,97)\"], [0.4, \"rgb(254,224,144)\"], [0.5, \"rgb(224,243,248)\"], [0.6, \"rgb(171,217,233)\"], [0.7, \"rgb(116,173,209)\"], [0.8, \"rgb(69,117,180)\"], [1.0, \"rgb(49,54,149)\"]], \"x\": [\"No actor\", \"Government and state security services\", \"Rebel Groups\", \"Political Militias\", \"Rioters\", \"Protestors\", \"Civilians\", \"External/other forces\"], \"y\": [\"Government and state security services\", \"Rebel Groups\", \"Political Militias\", \"Identity Militias\", \"Rioters\", \"Protestors\", \"External/other forces\"], \"z\": [[0.0013831258644536654, 0.0, 0.0013831258644536654, 0.0, 0.0, 0.0, 0.008298755186721992, 0.012448132780082987], [0.0013831258644536654, 0.016597510373443983, 0.0, 0.0, 0.0, 0.0, 0.0027662517289073307, 0.0013831258644536654], [0.0027662517289073307, 0.024896265560165973, 0.0, 0.0013831258644536654, 0.0, 0.0, 0.02627939142461964, 0.0], [0.0, 0.0, 0.0, 0.0, 0.0, 0.0, 0.004149377593360996, 0.0], [0.017980636237897647, 0.03872752420470263, 0.0, 0.0, 0.022130013831258646, 0.0, 0.011065006915629323, 0.0], [0.7565698478561549, 0.04426002766251729, 0.0, 0.0, 0.0, 0.0013831258644536654, 0.0, 0.0], [0.0027662517289073307, 0.0, 0.0, 0.0, 0.0, 0.0, 0.0, 0.0]], \"type\": \"heatmap\", \"uid\": \"e756c1f2-85ab-4b96-ab9d-b7b8ecd5a476\"}], {\"autosize\": true, \"sliders\": [{\"active\": 0, \"currentvalue\": {\"prefix\": \"\"}, \"name\": \"Month\", \"pad\": {\"t\": 37}, \"steps\": [{\"args\": [\"visible\", [true, false, false, false, false, false, false, false, false, false, false, false, false, false, false, false, false, false, false, false, false, false, false, false, false, false, false, false, false, false, false, false, false, false, false, false, false]], \"label\": \"Month 1\", \"method\": \"restyle\"}, {\"args\": [\"visible\", [false, true, false, false, false, false, false, false, false, false, false, false, false, false, false, false, false, false, false, false, false, false, false, false, false, false, false, false, false, false, false, false, false, false, false, false, false]], \"label\": \"Month 2\", \"method\": \"restyle\"}, {\"args\": [\"visible\", [false, false, true, false, false, false, false, false, false, false, false, false, false, false, false, false, false, false, false, false, false, false, false, false, false, false, false, false, false, false, false, false, false, false, false, false, false]], \"label\": \"Month 3\", \"method\": \"restyle\"}, {\"args\": [\"visible\", [false, false, false, true, false, false, false, false, false, false, false, false, false, false, false, false, false, false, false, false, false, false, false, false, false, false, false, false, false, false, false, false, false, false, false, false, false]], \"label\": \"Month 4\", \"method\": \"restyle\"}, {\"args\": [\"visible\", [false, false, false, false, true, false, false, false, false, false, false, false, false, false, false, false, false, false, false, false, false, false, false, false, false, false, false, false, false, false, false, false, false, false, false, false, false]], \"label\": \"Month 5\", \"method\": \"restyle\"}, {\"args\": [\"visible\", [false, false, false, false, false, true, false, false, false, false, false, false, false, false, false, false, false, false, false, false, false, false, false, false, false, false, false, false, false, false, false, false, false, false, false, false, false]], \"label\": \"Month 6\", \"method\": \"restyle\"}, {\"args\": [\"visible\", [false, false, false, false, false, false, true, false, false, false, false, false, false, false, false, false, false, false, false, false, false, false, false, false, false, false, false, false, false, false, false, false, false, false, false, false, false]], \"label\": \"Month 7\", \"method\": \"restyle\"}, {\"args\": [\"visible\", [false, false, false, false, false, false, false, true, false, false, false, false, false, false, false, false, false, false, false, false, false, false, false, false, false, false, false, false, false, false, false, false, false, false, false, false, false]], \"label\": \"Month 8\", \"method\": \"restyle\"}, {\"args\": [\"visible\", [false, false, false, false, false, false, false, false, true, false, false, false, false, false, false, false, false, false, false, false, false, false, false, false, false, false, false, false, false, false, false, false, false, false, false, false, false]], \"label\": \"Month 9\", \"method\": \"restyle\"}, {\"args\": [\"visible\", [false, false, false, false, false, false, false, false, false, true, false, false, false, false, false, false, false, false, false, false, false, false, false, false, false, false, false, false, false, false, false, false, false, false, false, false, false]], \"label\": \"Month 10\", \"method\": \"restyle\"}, {\"args\": [\"visible\", [false, false, false, false, false, false, false, false, false, false, true, false, false, false, false, false, false, false, false, false, false, false, false, false, false, false, false, false, false, false, false, false, false, false, false, false, false]], \"label\": \"Month 11\", \"method\": \"restyle\"}, {\"args\": [\"visible\", [false, false, false, false, false, false, false, false, false, false, false, true, false, false, false, false, false, false, false, false, false, false, false, false, false, false, false, false, false, false, false, false, false, false, false, false, false]], \"label\": \"Month 12\", \"method\": \"restyle\"}, {\"args\": [\"visible\", [false, false, false, false, false, false, false, false, false, false, false, false, true, false, false, false, false, false, false, false, false, false, false, false, false, false, false, false, false, false, false, false, false, false, false, false, false]], \"label\": \"Month 13\", \"method\": \"restyle\"}, {\"args\": [\"visible\", [false, false, false, false, false, false, false, false, false, false, false, false, false, true, false, false, false, false, false, false, false, false, false, false, false, false, false, false, false, false, false, false, false, false, false, false, false]], \"label\": \"Month 14\", \"method\": \"restyle\"}, {\"args\": [\"visible\", [false, false, false, false, false, false, false, false, false, false, false, false, false, false, true, false, false, false, false, false, false, false, false, false, false, false, false, false, false, false, false, false, false, false, false, false, false]], \"label\": \"Month 15\", \"method\": \"restyle\"}, {\"args\": [\"visible\", [false, false, false, false, false, false, false, false, false, false, false, false, false, false, false, true, false, false, false, false, false, false, false, false, false, false, false, false, false, false, false, false, false, false, false, false, false]], \"label\": \"Month 16\", \"method\": \"restyle\"}, {\"args\": [\"visible\", [false, false, false, false, false, false, false, false, false, false, false, false, false, false, false, false, true, false, false, false, false, false, false, false, false, false, false, false, false, false, false, false, false, false, false, false, false]], \"label\": \"Month 17\", \"method\": \"restyle\"}, {\"args\": [\"visible\", [false, false, false, false, false, false, false, false, false, false, false, false, false, false, false, false, false, true, false, false, false, false, false, false, false, false, false, false, false, false, false, false, false, false, false, false, false]], \"label\": \"Month 18\", \"method\": \"restyle\"}, {\"args\": [\"visible\", [false, false, false, false, false, false, false, false, false, false, false, false, false, false, false, false, false, false, true, false, false, false, false, false, false, false, false, false, false, false, false, false, false, false, false, false, false]], \"label\": \"Month 19\", \"method\": \"restyle\"}, {\"args\": [\"visible\", [false, false, false, false, false, false, false, false, false, false, false, false, false, false, false, false, false, false, false, true, false, false, false, false, false, false, false, false, false, false, false, false, false, false, false, false, false]], \"label\": \"Month 20\", \"method\": \"restyle\"}, {\"args\": [\"visible\", [false, false, false, false, false, false, false, false, false, false, false, false, false, false, false, false, false, false, false, false, true, false, false, false, false, false, false, false, false, false, false, false, false, false, false, false, false]], \"label\": \"Month 21\", \"method\": \"restyle\"}, {\"args\": [\"visible\", [false, false, false, false, false, false, false, false, false, false, false, false, false, false, false, false, false, false, false, false, false, true, false, false, false, false, false, false, false, false, false, false, false, false, false, false, false]], \"label\": \"Month 22\", \"method\": \"restyle\"}, {\"args\": [\"visible\", [false, false, false, false, false, false, false, false, false, false, false, false, false, false, false, false, false, false, false, false, false, false, true, false, false, false, false, false, false, false, false, false, false, false, false, false, false]], \"label\": \"Month 23\", \"method\": \"restyle\"}, {\"args\": [\"visible\", [false, false, false, false, false, false, false, false, false, false, false, false, false, false, false, false, false, false, false, false, false, false, false, true, false, false, false, false, false, false, false, false, false, false, false, false, false]], \"label\": \"Month 24\", \"method\": \"restyle\"}, {\"args\": [\"visible\", [false, false, false, false, false, false, false, false, false, false, false, false, false, false, false, false, false, false, false, false, false, false, false, false, true, false, false, false, false, false, false, false, false, false, false, false, false]], \"label\": \"Month 25\", \"method\": \"restyle\"}, {\"args\": [\"visible\", [false, false, false, false, false, false, false, false, false, false, false, false, false, false, false, false, false, false, false, false, false, false, false, false, false, true, false, false, false, false, false, false, false, false, false, false, false]], \"label\": \"Month 26\", \"method\": \"restyle\"}, {\"args\": [\"visible\", [false, false, false, false, false, false, false, false, false, false, false, false, false, false, false, false, false, false, false, false, false, false, false, false, false, false, true, false, false, false, false, false, false, false, false, false, false]], \"label\": \"Month 27\", \"method\": \"restyle\"}, {\"args\": [\"visible\", [false, false, false, false, false, false, false, false, false, false, false, false, false, false, false, false, false, false, false, false, false, false, false, false, false, false, false, true, false, false, false, false, false, false, false, false, false]], \"label\": \"Month 28\", \"method\": \"restyle\"}, {\"args\": [\"visible\", [false, false, false, false, false, false, false, false, false, false, false, false, false, false, false, false, false, false, false, false, false, false, false, false, false, false, false, false, true, false, false, false, false, false, false, false, false]], \"label\": \"Month 29\", \"method\": \"restyle\"}, {\"args\": [\"visible\", [false, false, false, false, false, false, false, false, false, false, false, false, false, false, false, false, false, false, false, false, false, false, false, false, false, false, false, false, false, true, false, false, false, false, false, false, false]], \"label\": \"Month 30\", \"method\": \"restyle\"}, {\"args\": [\"visible\", [false, false, false, false, false, false, false, false, false, false, false, false, false, false, false, false, false, false, false, false, false, false, false, false, false, false, false, false, false, false, true, false, false, false, false, false, false]], \"label\": \"Month 31\", \"method\": \"restyle\"}, {\"args\": [\"visible\", [false, false, false, false, false, false, false, false, false, false, false, false, false, false, false, false, false, false, false, false, false, false, false, false, false, false, false, false, false, false, false, true, false, false, false, false, false]], \"label\": \"Month 32\", \"method\": \"restyle\"}, {\"args\": [\"visible\", [false, false, false, false, false, false, false, false, false, false, false, false, false, false, false, false, false, false, false, false, false, false, false, false, false, false, false, false, false, false, false, false, true, false, false, false, false]], \"label\": \"Month 33\", \"method\": \"restyle\"}, {\"args\": [\"visible\", [false, false, false, false, false, false, false, false, false, false, false, false, false, false, false, false, false, false, false, false, false, false, false, false, false, false, false, false, false, false, false, false, false, true, false, false, false]], \"label\": \"Month 34\", \"method\": \"restyle\"}, {\"args\": [\"visible\", [false, false, false, false, false, false, false, false, false, false, false, false, false, false, false, false, false, false, false, false, false, false, false, false, false, false, false, false, false, false, false, false, false, false, true, false, false]], \"label\": \"Month 35\", \"method\": \"restyle\"}, {\"args\": [\"visible\", [false, false, false, false, false, false, false, false, false, false, false, false, false, false, false, false, false, false, false, false, false, false, false, false, false, false, false, false, false, false, false, false, false, false, false, true, false]], \"label\": \"Month 36\", \"method\": \"restyle\"}, {\"args\": [\"visible\", [false, false, false, false, false, false, false, false, false, false, false, false, false, false, false, false, false, false, false, false, false, false, false, false, false, false, false, false, false, false, false, false, false, false, false, false, true]], \"label\": \"Month 37\", \"method\": \"restyle\"}], \"y\": 1.5}], \"title\": {\"text\": \"Monthwise Interaction table\"}, \"xaxis\": {\"automargin\": true, \"title\": {\"text\": \"Actor 2\"}}, \"yaxis\": {\"automargin\": true, \"title\": {\"text\": \"Actor 1\"}}}, {\"showLink\": false, \"linkText\": \"Export to plot.ly\", \"plotlyServerURL\": \"https://plot.ly\"})});</script><script type=\"text/javascript\">window.addEventListener(\"resize\", function(){window._Plotly.Plots.resize(document.getElementById(\"8d35397a-99fc-4287-b4b4-c4afe03c63e2\"));});</script>"
      ],
      "text/vnd.plotly.v1+html": [
       "<div id=\"8d35397a-99fc-4287-b4b4-c4afe03c63e2\" style=\"height: 525px; width: 100%;\" class=\"plotly-graph-div\"></div><script type=\"text/javascript\">require([\"plotly\"], function(Plotly) { window.PLOTLYENV=window.PLOTLYENV || {};window.PLOTLYENV.BASE_URL=\"https://plot.ly\";Plotly.newPlot(\"8d35397a-99fc-4287-b4b4-c4afe03c63e2\", [{\"colorbar\": {\"title\": {\"text\": \"Normalized Frequency\"}}, \"colorscale\": [[0.0, \"rgb(165,0,38)\"], [0.01, \"rgb(215,48,39)\"], [0.2, \"rgb(244,109,67)\"], [0.3, \"rgb(253,174,97)\"], [0.4, \"rgb(254,224,144)\"], [0.5, \"rgb(224,243,248)\"], [0.6, \"rgb(171,217,233)\"], [0.7, \"rgb(116,173,209)\"], [0.8, \"rgb(69,117,180)\"], [1.0, \"rgb(49,54,149)\"]], \"x\": [\"No actor\", \"Government and state security services\", \"Rebel Groups\", \"Political Militias\", \"Identity Militias\", \"Rioters\", \"Protestors\", \"Civilians\", \"External/other forces\"], \"y\": [\"Government and state security services\", \"Rebel Groups\", \"Political Militias\", \"Identity Militias\", \"Rioters\", \"Protestors\", \"External/other forces\"], \"z\": [[0.0025100401606425703, 0.0, 0.0, 0.0025100401606425703, 0.0, 0.0, 0.0, 0.009036144578313253, 0.004518072289156626], [0.0, 0.01104417670682731, 0.0, 0.0, 0.0, 0.0, 0.0, 0.004016064257028112, 0.0], [0.001004016064257028, 0.01355421686746988, 0.000502008032128514, 0.0030120481927710845, 0.000502008032128514, 0.000502008032128514, 0.000502008032128514, 0.03765060240963856, 0.001004016064257028], [0.000502008032128514, 0.000502008032128514, 0.0, 0.001004016064257028, 0.0050200803212851405, 0.0, 0.0, 0.01957831325301205, 0.0], [0.05220883534136546, 0.05220883534136546, 0.0, 0.000502008032128514, 0.0, 0.05070281124497992, 0.000502008032128514, 0.0286144578313253, 0.0], [0.6219879518072289, 0.07028112449799197, 0.0, 0.0, 0.0, 0.0, 0.002008032128514056, 0.0015060240963855422, 0.000502008032128514], [0.0, 0.0, 0.0, 0.000502008032128514, 0.0, 0.0, 0.0, 0.0, 0.0]], \"type\": \"heatmap\", \"uid\": \"e3100bc5-2fe4-4e75-b0fa-62d29b4342bb\"}, {\"colorbar\": {\"title\": {\"text\": \"Normalized Frequency\"}}, \"colorscale\": [[0.0, \"rgb(165,0,38)\"], [0.01, \"rgb(215,48,39)\"], [0.2, \"rgb(244,109,67)\"], [0.3, \"rgb(253,174,97)\"], [0.4, \"rgb(254,224,144)\"], [0.5, \"rgb(224,243,248)\"], [0.6, \"rgb(171,217,233)\"], [0.7, \"rgb(116,173,209)\"], [0.8, \"rgb(69,117,180)\"], [1.0, \"rgb(49,54,149)\"]], \"x\": [\"No actor\", \"Government and state security services\", \"Rebel Groups\", \"Political Militias\", \"Identity Militias\", \"Rioters\", \"Protestors\", \"Civilians\", \"External/other forces\"], \"y\": [\"Government and state security services\", \"Rebel Groups\", \"Political Militias\", \"Identity Militias\", \"Rioters\", \"Protestors\", \"External/other forces\"], \"z\": [[0.0016313213703099511, 0.000543773790103317, 0.0016313213703099511, 0.000543773790103317, 0.0, 0.0, 0.0, 0.011419249592169658, 0.010331702011963024], [0.0016313213703099511, 0.008156606851549755, 0.0, 0.0, 0.0, 0.0, 0.0, 0.0076128330614464385, 0.0], [0.002175095160413268, 0.011963023382272975, 0.0, 0.004893964110929853, 0.0, 0.000543773790103317, 0.0, 0.04676454594888527, 0.0], [0.0, 0.001087547580206634, 0.0, 0.0, 0.005437737901033171, 0.0, 0.0, 0.01794453507340946, 0.0], [0.028276237085372486, 0.0478520935290919, 0.0, 0.0, 0.0, 0.04187058183795541, 0.000543773790103317, 0.043501903208265365, 0.0], [0.6568787384448069, 0.042958129418162044, 0.0, 0.0, 0.0, 0.000543773790103317, 0.000543773790103317, 0.002175095160413268, 0.0], [0.0, 0.0, 0.0, 0.0, 0.0, 0.0, 0.0, 0.000543773790103317, 0.0]], \"type\": \"heatmap\", \"uid\": \"fdfab3aa-d735-46d6-ba5e-e0ad73d2e309\"}, {\"colorbar\": {\"title\": {\"text\": \"Normalized Frequency\"}}, \"colorscale\": [[0.0, \"rgb(165,0,38)\"], [0.01, \"rgb(215,48,39)\"], [0.2, \"rgb(244,109,67)\"], [0.3, \"rgb(253,174,97)\"], [0.4, \"rgb(254,224,144)\"], [0.5, \"rgb(224,243,248)\"], [0.6, \"rgb(171,217,233)\"], [0.7, \"rgb(116,173,209)\"], [0.8, \"rgb(69,117,180)\"], [1.0, \"rgb(49,54,149)\"]], \"x\": [\"No actor\", \"Government and state security services\", \"Political Militias\", \"Identity Militias\", \"Rioters\", \"Protestors\", \"Civilians\", \"External/other forces\"], \"y\": [\"Government and state security services\", \"Rebel Groups\", \"Political Militias\", \"Identity Militias\", \"Rioters\", \"Protestors\", \"External/other forces\"], \"z\": [[0.00182370820668693, 0.0006079027355623101, 0.0012158054711246201, 0.0, 0.0, 0.0, 0.00425531914893617, 0.00182370820668693], [0.0012158054711246201, 0.00851063829787234, 0.0, 0.0, 0.0, 0.0, 0.0024316109422492403, 0.0], [0.0012158054711246201, 0.00851063829787234, 0.00364741641337386, 0.0, 0.0, 0.0, 0.0243161094224924, 0.0], [0.0, 0.0, 0.0, 0.00303951367781155, 0.0, 0.0, 0.00425531914893617, 0.0], [0.02917933130699088, 0.09240121580547113, 0.0, 0.0, 0.029787234042553193, 0.0, 0.03404255319148936, 0.0006079027355623101], [0.6638297872340425, 0.07477203647416414, 0.0, 0.0, 0.0, 0.0012158054711246201, 0.0, 0.0], [0.0, 0.0060790273556231, 0.0, 0.0, 0.0, 0.0, 0.0012158054711246201, 0.0]], \"type\": \"heatmap\", \"uid\": \"a536251a-a91b-4068-a024-866ded9cdc00\"}, {\"colorbar\": {\"title\": {\"text\": \"Normalized Frequency\"}}, \"colorscale\": [[0.0, \"rgb(165,0,38)\"], [0.01, \"rgb(215,48,39)\"], [0.2, \"rgb(244,109,67)\"], [0.3, \"rgb(253,174,97)\"], [0.4, \"rgb(254,224,144)\"], [0.5, \"rgb(224,243,248)\"], [0.6, \"rgb(171,217,233)\"], [0.7, \"rgb(116,173,209)\"], [0.8, \"rgb(69,117,180)\"], [1.0, \"rgb(49,54,149)\"]], \"x\": [\"No actor\", \"Government and state security services\", \"Rebel Groups\", \"Political Militias\", \"Identity Militias\", \"Rioters\", \"Protestors\", \"Civilians\", \"External/other forces\"], \"y\": [\"Government and state security services\", \"Rebel Groups\", \"Political Militias\", \"Identity Militias\", \"Rioters\", \"Protestors\", \"External/other forces\"], \"z\": [[0.0, 0.0, 0.0, 0.0006112469437652812, 0.0, 0.0, 0.0, 0.004889975550122249, 0.017114914425427872], [0.0, 0.006723716381418093, 0.0, 0.0, 0.0, 0.0, 0.0, 0.007946210268948655, 0.0], [0.0012224938875305623, 0.015281173594132029, 0.0006112469437652812, 0.0006112469437652812, 0.0006112469437652812, 0.0, 0.0, 0.03606356968215159, 0.0], [0.0, 0.0, 0.0, 0.0, 0.0012224938875305623, 0.0, 0.0, 0.009779951100244499, 0.0], [0.055623471882640586, 0.0715158924205379, 0.0, 0.0, 0.0, 0.020171149144254278, 0.0006112469437652812, 0.034229828850855744, 0.0], [0.6418092909535452, 0.06356968215158924, 0.0, 0.0, 0.0, 0.0, 0.0, 0.0006112469437652812, 0.0], [0.0, 0.008557457212713936, 0.0, 0.0, 0.0, 0.0, 0.0, 0.0006112469437652812, 0.0]], \"type\": \"heatmap\", \"uid\": \"8781ec63-fe23-4f76-91b8-e30723d85a49\"}, {\"colorbar\": {\"title\": {\"text\": \"Normalized Frequency\"}}, \"colorscale\": [[0.0, \"rgb(165,0,38)\"], [0.01, \"rgb(215,48,39)\"], [0.2, \"rgb(244,109,67)\"], [0.3, \"rgb(253,174,97)\"], [0.4, \"rgb(254,224,144)\"], [0.5, \"rgb(224,243,248)\"], [0.6, \"rgb(171,217,233)\"], [0.7, \"rgb(116,173,209)\"], [0.8, \"rgb(69,117,180)\"], [1.0, \"rgb(49,54,149)\"]], \"x\": [\"No actor\", \"Government and state security services\", \"Rebel Groups\", \"Political Militias\", \"Identity Militias\", \"Rioters\", \"Protestors\", \"Civilians\", \"External/other forces\"], \"y\": [\"Government and state security services\", \"Rebel Groups\", \"Political Militias\", \"Identity Militias\", \"Rioters\", \"Protestors\", \"Civilians\", \"External/other forces\"], \"z\": [[0.007357449417535254, 0.0, 0.0, 0.0030656039239730227, 0.0006131207847946045, 0.0, 0.0, 0.010423053341508276, 0.00674432863274065], [0.0, 0.009809932556713672, 0.0, 0.0, 0.0, 0.0, 0.0, 0.00797057020232986, 0.0], [0.001226241569589209, 0.019619865113427344, 0.0, 0.004904966278356836, 0.0, 0.0, 0.0006131207847946045, 0.03862660944206009, 0.0018393623543838135], [0.0, 0.004291845493562232, 0.0006131207847946045, 0.0006131207847946045, 0.004291845493562232, 0.0, 0.0, 0.0269773145309626, 0.0], [0.02575107296137339, 0.056407112201103615, 0.0, 0.0, 0.0, 0.018393623543838136, 0.001226241569589209, 0.028816676885346414, 0.0], [0.6762722256284488, 0.03801348865726548, 0.0, 0.0, 0.0, 0.0, 0.001226241569589209, 0.0006131207847946045, 0.0], [0.0006131207847946045, 0.0, 0.0, 0.0, 0.0, 0.0, 0.0, 0.0, 0.0], [0.001226241569589209, 0.0, 0.0, 0.0, 0.0, 0.0, 0.0, 0.0018393623543838135, 0.0]], \"type\": \"heatmap\", \"uid\": \"8a968b36-c509-4336-b0d2-3567db31cfb4\"}, {\"colorbar\": {\"title\": {\"text\": \"Normalized Frequency\"}}, \"colorscale\": [[0.0, \"rgb(165,0,38)\"], [0.01, \"rgb(215,48,39)\"], [0.2, \"rgb(244,109,67)\"], [0.3, \"rgb(253,174,97)\"], [0.4, \"rgb(254,224,144)\"], [0.5, \"rgb(224,243,248)\"], [0.6, \"rgb(171,217,233)\"], [0.7, \"rgb(116,173,209)\"], [0.8, \"rgb(69,117,180)\"], [1.0, \"rgb(49,54,149)\"]], \"x\": [\"No actor\", \"Government and state security services\", \"Political Militias\", \"Identity Militias\", \"Rioters\", \"Protestors\", \"Civilians\", \"External/other forces\"], \"y\": [\"Government and state security services\", \"Rebel Groups\", \"Political Militias\", \"Identity Militias\", \"Rioters\", \"Protestors\", \"External/other forces\"], \"z\": [[0.0018472906403940886, 0.0012315270935960591, 0.003078817733990148, 0.0006157635467980296, 0.0, 0.0, 0.012315270935960592, 0.004310344827586207], [0.0006157635467980296, 0.011699507389162561, 0.0, 0.0, 0.0, 0.0, 0.003694581280788177, 0.0], [0.003078817733990148, 0.02401477832512315, 0.0018472906403940886, 0.0, 0.0006157635467980296, 0.0, 0.04864532019704434, 0.0], [0.0, 0.0018472906403940886, 0.0006157635467980296, 0.005541871921182266, 0.0018472906403940886, 0.0, 0.03017241379310345, 0.0006157635467980296], [0.042487684729064036, 0.10036945812807882, 0.0006157635467980296, 0.0, 0.019704433497536946, 0.003694581280788177, 0.01847290640394089, 0.0006157635467980296], [0.5979064039408867, 0.05172413793103448, 0.0, 0.0, 0.0012315270935960591, 0.0006157635467980296, 0.0012315270935960591, 0.0], [0.0006157635467980296, 0.0018472906403940886, 0.0, 0.0, 0.0, 0.0, 0.0006157635467980296, 0.0]], \"type\": \"heatmap\", \"uid\": \"b188e5c3-cd12-4f38-b802-000cd121e82b\"}, {\"colorbar\": {\"title\": {\"text\": \"Normalized Frequency\"}}, \"colorscale\": [[0.0, \"rgb(165,0,38)\"], [0.01, \"rgb(215,48,39)\"], [0.2, \"rgb(244,109,67)\"], [0.3, \"rgb(253,174,97)\"], [0.4, \"rgb(254,224,144)\"], [0.5, \"rgb(224,243,248)\"], [0.6, \"rgb(171,217,233)\"], [0.7, \"rgb(116,173,209)\"], [0.8, \"rgb(69,117,180)\"], [1.0, \"rgb(49,54,149)\"]], \"x\": [\"No actor\", \"Government and state security services\", \"Rebel Groups\", \"Political Militias\", \"Identity Militias\", \"Rioters\", \"Protestors\", \"Civilians\", \"External/other forces\"], \"y\": [\"Government and state security services\", \"Rebel Groups\", \"Political Militias\", \"Identity Militias\", \"Rioters\", \"Protestors\", \"Civilians\", \"External/other forces\"], \"z\": [[0.0031725888324873096, 0.0006345177664974619, 0.0006345177664974619, 0.0019035532994923859, 0.0, 0.0, 0.0, 0.010786802030456852, 0.00951776649746193], [0.0012690355329949238, 0.025380710659898477, 0.0, 0.0, 0.0, 0.0, 0.0, 0.010786802030456852, 0.0], [0.0012690355329949238, 0.015862944162436547, 0.0, 0.0038071065989847717, 0.0, 0.0, 0.0, 0.0399746192893401, 0.0012690355329949238], [0.0006345177664974619, 0.0012690355329949238, 0.0, 0.0019035532994923859, 0.0031725888324873096, 0.0, 0.0, 0.021573604060913704, 0.0], [0.037436548223350255, 0.06281725888324872, 0.0, 0.0012690355329949238, 0.0, 0.030456852791878174, 0.0019035532994923859, 0.04060913705583756, 0.0], [0.6269035532994924, 0.041243654822335024, 0.0, 0.0, 0.0, 0.0, 0.0006345177664974619, 0.0, 0.0], [0.0006345177664974619, 0.0, 0.0, 0.0, 0.0, 0.0, 0.0, 0.0, 0.0], [0.0, 0.0, 0.0, 0.0, 0.0, 0.0, 0.0, 0.0012690355329949238, 0.0]], \"type\": \"heatmap\", \"uid\": \"633adead-0c45-4df9-af61-ddf710a6852a\"}, {\"colorbar\": {\"title\": {\"text\": \"Normalized Frequency\"}}, \"colorscale\": [[0.0, \"rgb(165,0,38)\"], [0.01, \"rgb(215,48,39)\"], [0.2, \"rgb(244,109,67)\"], [0.3, \"rgb(253,174,97)\"], [0.4, \"rgb(254,224,144)\"], [0.5, \"rgb(224,243,248)\"], [0.6, \"rgb(171,217,233)\"], [0.7, \"rgb(116,173,209)\"], [0.8, \"rgb(69,117,180)\"], [1.0, \"rgb(49,54,149)\"]], \"x\": [\"No actor\", \"Government and state security services\", \"Political Militias\", \"Identity Militias\", \"Rioters\", \"Protestors\", \"Civilians\", \"External/other forces\"], \"y\": [\"Government and state security services\", \"Rebel Groups\", \"Political Militias\", \"Identity Militias\", \"Rioters\", \"Protestors\", \"External/other forces\"], \"z\": [[0.0027643400138217, 0.0, 0.0034554250172771253, 0.0, 0.0, 0.007601935038009675, 0.007601935038009675, 0.00138217000691085], [0.0, 0.014512785072563926, 0.000691085003455425, 0.0, 0.0, 0.0, 0.002073255010366275, 0.0], [0.000691085003455425, 0.015894955079474776, 0.000691085003455425, 0.0, 0.0, 0.0, 0.006910850034554251, 0.0], [0.000691085003455425, 0.00138217000691085, 0.0, 0.000691085003455425, 0.0, 0.0, 0.0055286800276434, 0.0], [0.03248099516240498, 0.1492743607463718, 0.0, 0.0, 0.007601935038009675, 0.0, 0.009675190048375951, 0.0], [0.6337249481686248, 0.08914996544574982, 0.0, 0.0, 0.0, 0.00138217000691085, 0.0, 0.0], [0.000691085003455425, 0.0034554250172771253, 0.0, 0.0, 0.0, 0.0, 0.0, 0.0]], \"type\": \"heatmap\", \"uid\": \"8584bdb2-2a8d-48cc-a527-e0f868eb560d\"}, {\"colorbar\": {\"title\": {\"text\": \"Normalized Frequency\"}}, \"colorscale\": [[0.0, \"rgb(165,0,38)\"], [0.01, \"rgb(215,48,39)\"], [0.2, \"rgb(244,109,67)\"], [0.3, \"rgb(253,174,97)\"], [0.4, \"rgb(254,224,144)\"], [0.5, \"rgb(224,243,248)\"], [0.6, \"rgb(171,217,233)\"], [0.7, \"rgb(116,173,209)\"], [0.8, \"rgb(69,117,180)\"], [1.0, \"rgb(49,54,149)\"]], \"x\": [\"No actor\", \"Government and state security services\", \"Rebel Groups\", \"Political Militias\", \"Identity Militias\", \"Rioters\", \"Protestors\", \"Civilians\", \"External/other forces\"], \"y\": [\"Government and state security services\", \"Rebel Groups\", \"Political Militias\", \"Identity Militias\", \"Rioters\", \"Protestors\", \"External/other forces\"], \"z\": [[0.0, 0.0, 0.0007369196757553427, 0.0007369196757553427, 0.0, 0.0, 0.0, 0.0029476787030213707, 0.0], [0.0036845983787767134, 0.010316875460574797, 0.0, 0.0, 0.0, 0.0, 0.0, 0.005158437730287398, 0.0], [0.002210759027266028, 0.016212232866617538, 0.0007369196757553427, 0.002210759027266028, 0.0, 0.0, 0.0007369196757553427, 0.01915991156963891, 0.0007369196757553427], [0.0, 0.0, 0.0, 0.0, 0.002210759027266028, 0.0, 0.0, 0.0007369196757553427, 0.0], [0.01989683124539425, 0.03831982313927782, 0.0, 0.0, 0.0, 0.017686072218128224, 0.0007369196757553427, 0.01989683124539425, 0.0007369196757553427], [0.789240972733972, 0.0397936624907885, 0.0, 0.0, 0.0, 0.0, 0.002210759027266028, 0.0, 0.0], [0.0, 0.0029476787030213707, 0.0, 0.0, 0.0, 0.0, 0.0, 0.0, 0.0]], \"type\": \"heatmap\", \"uid\": \"1991074f-34fc-4193-8d40-c85536f7449a\"}, {\"colorbar\": {\"title\": {\"text\": \"Normalized Frequency\"}}, \"colorscale\": [[0.0, \"rgb(165,0,38)\"], [0.01, \"rgb(215,48,39)\"], [0.2, \"rgb(244,109,67)\"], [0.3, \"rgb(253,174,97)\"], [0.4, \"rgb(254,224,144)\"], [0.5, \"rgb(224,243,248)\"], [0.6, \"rgb(171,217,233)\"], [0.7, \"rgb(116,173,209)\"], [0.8, \"rgb(69,117,180)\"], [1.0, \"rgb(49,54,149)\"]], \"x\": [\"No actor\", \"Government and state security services\", \"Rebel Groups\", \"Political Militias\", \"Identity Militias\", \"Rioters\", \"Protestors\", \"Civilians\", \"External/other forces\"], \"y\": [\"Government and state security services\", \"Rebel Groups\", \"Political Militias\", \"Identity Militias\", \"Rioters\", \"Protestors\", \"External/other forces\"], \"z\": [[0.0, 0.0, 0.0007412898443291327, 0.0007412898443291327, 0.0, 0.0, 0.0014825796886582653, 0.004447739065974796, 0.0029651593773165306], [0.0014825796886582653, 0.008895478131949592, 0.0007412898443291327, 0.0, 0.0, 0.0, 0.0, 0.004447739065974796, 0.0], [0.0037064492216456633, 0.011860637509266123, 0.0007412898443291327, 0.0014825796886582653, 0.0, 0.0, 0.0007412898443291327, 0.03261675315048184, 0.0], [0.0, 0.0014825796886582653, 0.0, 0.0007412898443291327, 0.002223869532987398, 0.0, 0.0007412898443291327, 0.006671608598962194, 0.0007412898443291327], [0.02223869532987398, 0.07412898443291327, 0.0, 0.0, 0.0, 0.02223869532987398, 0.0014825796886582653, 0.017790956263899184, 0.0007412898443291327], [0.6945885841363973, 0.07412898443291327, 0.0, 0.0, 0.0, 0.0007412898443291327, 0.0007412898443291327, 0.0, 0.0], [0.0007412898443291327, 0.0, 0.0, 0.0, 0.0, 0.0, 0.0, 0.0007412898443291327, 0.0]], \"type\": \"heatmap\", \"uid\": \"9a78d1e4-fcc3-42ec-83f1-36fed57b5423\"}, {\"colorbar\": {\"title\": {\"text\": \"Normalized Frequency\"}}, \"colorscale\": [[0.0, \"rgb(165,0,38)\"], [0.01, \"rgb(215,48,39)\"], [0.2, \"rgb(244,109,67)\"], [0.3, \"rgb(253,174,97)\"], [0.4, \"rgb(254,224,144)\"], [0.5, \"rgb(224,243,248)\"], [0.6, \"rgb(171,217,233)\"], [0.7, \"rgb(116,173,209)\"], [0.8, \"rgb(69,117,180)\"], [1.0, \"rgb(49,54,149)\"]], \"x\": [\"No actor\", \"Government and state security services\", \"Rebel Groups\", \"Political Militias\", \"Identity Militias\", \"Rioters\", \"Civilians\", \"External/other forces\"], \"y\": [\"Government and state security services\", \"Rebel Groups\", \"Political Militias\", \"Identity Militias\", \"Rioters\", \"Protestors\", \"External/other forces\"], \"z\": [[0.0007587253414264037, 0.0, 0.0007587253414264037, 0.0, 0.0, 0.0, 0.0037936267071320183, 0.004552352048558422], [0.0007587253414264037, 0.015933232169954476, 0.0, 0.0, 0.0, 0.0, 0.004552352048558422, 0.0], [0.00834597875569044, 0.015174506828528073, 0.0, 0.0007587253414264037, 0.0, 0.0, 0.012898330804248861, 0.0], [0.0, 0.002276176024279211, 0.0, 0.0007587253414264037, 0.0007587253414264037, 0.0, 0.0030349013657056147, 0.0], [0.018209408194233688, 0.07207890743550835, 0.0, 0.0, 0.0, 0.010622154779969651, 0.012139605462822459, 0.0], [0.7071320182094082, 0.06752655538694992, 0.0, 0.0, 0.0, 0.002276176024279211, 0.0, 0.0], [0.0030349013657056147, 0.030349013657056147, 0.0, 0.0, 0.0, 0.0, 0.0015174506828528073, 0.0]], \"type\": \"heatmap\", \"uid\": \"b4ed2f0a-e5dc-4bdb-8d09-0f56c9ca9dfc\"}, {\"colorbar\": {\"title\": {\"text\": \"Normalized Frequency\"}}, \"colorscale\": [[0.0, \"rgb(165,0,38)\"], [0.01, \"rgb(215,48,39)\"], [0.2, \"rgb(244,109,67)\"], [0.3, \"rgb(253,174,97)\"], [0.4, \"rgb(254,224,144)\"], [0.5, \"rgb(224,243,248)\"], [0.6, \"rgb(171,217,233)\"], [0.7, \"rgb(116,173,209)\"], [0.8, \"rgb(69,117,180)\"], [1.0, \"rgb(49,54,149)\"]], \"x\": [\"No actor\", \"Government and state security services\", \"Rebel Groups\", \"Identity Militias\", \"Rioters\", \"Protestors\", \"Civilians\", \"External/other forces\"], \"y\": [\"Government and state security services\", \"Rebel Groups\", \"Political Militias\", \"Identity Militias\", \"Rioters\", \"Protestors\", \"External/other forces\"], \"z\": [[0.0007593014426727411, 0.0, 0.0, 0.0, 0.0, 0.0, 0.0037965072133637054, 0.015945330296127564], [0.0015186028853454822, 0.012908124525436599, 0.0, 0.0, 0.0, 0.0, 0.002277904328018223, 0.0], [0.006074411541381929, 0.02201974183750949, 0.0007593014426727411, 0.0, 0.0, 0.0, 0.017463933181473046, 0.0007593014426727411], [0.0, 0.0, 0.0, 0.006074411541381929, 0.0, 0.0, 0.005315110098709187, 0.0], [0.02885345482156416, 0.09035687167805619, 0.0, 0.0, 0.02809415337889142, 0.0007593014426727411, 0.026575550493545937, 0.0], [0.6347760060744115, 0.06909643128321943, 0.0, 0.0, 0.0, 0.0007593014426727411, 0.0, 0.0], [0.0015186028853454822, 0.02126044039483675, 0.0, 0.0, 0.0, 0.0, 0.002277904328018223, 0.0]], \"type\": \"heatmap\", \"uid\": \"71fe7497-4660-42b3-99f7-908dce8af216\"}, {\"colorbar\": {\"title\": {\"text\": \"Normalized Frequency\"}}, \"colorscale\": [[0.0, \"rgb(165,0,38)\"], [0.01, \"rgb(215,48,39)\"], [0.2, \"rgb(244,109,67)\"], [0.3, \"rgb(253,174,97)\"], [0.4, \"rgb(254,224,144)\"], [0.5, \"rgb(224,243,248)\"], [0.6, \"rgb(171,217,233)\"], [0.7, \"rgb(116,173,209)\"], [0.8, \"rgb(69,117,180)\"], [1.0, \"rgb(49,54,149)\"]], \"x\": [\"No actor\", \"Government and state security services\", \"Rebel Groups\", \"Political Militias\", \"Identity Militias\", \"Rioters\", \"Protestors\", \"Civilians\", \"External/other forces\"], \"y\": [\"Government and state security services\", \"Rebel Groups\", \"Political Militias\", \"Identity Militias\", \"Rioters\", \"Protestors\", \"Civilians\", \"External/other forces\"], \"z\": [[0.005455962587685113, 0.0, 0.000779423226812159, 0.002338269680436477, 0.0, 0.0, 0.0, 0.00779423226812159, 0.000779423226812159], [0.001558846453624318, 0.01558846453624318, 0.0, 0.0, 0.0, 0.0, 0.0, 0.006235385814497272, 0.0], [0.0, 0.03351519875292284, 0.0, 0.003117692907248636, 0.000779423226812159, 0.0, 0.0, 0.03975058456742011, 0.000779423226812159], [0.0, 0.001558846453624318, 0.0, 0.0, 0.010911925175370226, 0.0, 0.0, 0.010132501948558068, 0.0], [0.02260327357755261, 0.04988308651597818, 0.0, 0.0, 0.0, 0.034294621979735, 0.000779423226812159, 0.021823850350740453, 0.0], [0.6453624318004677, 0.05845674201091192, 0.0, 0.000779423226812159, 0.0, 0.0, 0.0, 0.0, 0.0], [0.000779423226812159, 0.0, 0.0, 0.0, 0.0, 0.0, 0.0, 0.0, 0.0], [0.0, 0.02338269680436477, 0.0, 0.0, 0.0, 0.0, 0.0, 0.000779423226812159, 0.0]], \"type\": \"heatmap\", \"uid\": \"3a6ed7fb-b522-4775-bfd4-752b808a1d5e\"}, {\"colorbar\": {\"title\": {\"text\": \"Normalized Frequency\"}}, \"colorscale\": [[0.0, \"rgb(165,0,38)\"], [0.01, \"rgb(215,48,39)\"], [0.2, \"rgb(244,109,67)\"], [0.3, \"rgb(253,174,97)\"], [0.4, \"rgb(254,224,144)\"], [0.5, \"rgb(224,243,248)\"], [0.6, \"rgb(171,217,233)\"], [0.7, \"rgb(116,173,209)\"], [0.8, \"rgb(69,117,180)\"], [1.0, \"rgb(49,54,149)\"]], \"x\": [\"No actor\", \"Government and state security services\", \"Rebel Groups\", \"Political Militias\", \"Identity Militias\", \"Rioters\", \"Protestors\", \"Civilians\", \"External/other forces\"], \"y\": [\"Government and state security services\", \"Rebel Groups\", \"Political Militias\", \"Identity Militias\", \"Rioters\", \"Protestors\", \"External/other forces\"], \"z\": [[0.0, 0.0, 0.0, 0.0007867820613690008, 0.0, 0.0, 0.0015735641227380016, 0.003933910306845004, 0.013375295043273014], [0.0023603461841070024, 0.00865460267505901, 0.0, 0.0, 0.0, 0.0, 0.0, 0.004720692368214005, 0.0], [0.0023603461841070024, 0.00944138473642801, 0.0007867820613690008, 0.003147128245476003, 0.0, 0.0, 0.0, 0.020456333595594022, 0.0], [0.0015735641227380016, 0.0007867820613690008, 0.0, 0.0, 0.006294256490952006, 0.0, 0.0, 0.014948859166011016, 0.0], [0.05664830841856806, 0.1022816679779701, 0.0, 0.0, 0.0, 0.01888276947285602, 0.0, 0.01730920535011802, 0.0], [0.6695515342250197, 0.03855232100708104, 0.0, 0.0, 0.0, 0.0007867820613690008, 0.0, 0.0, 0.0], [0.0, 0.0, 0.0, 0.0, 0.0, 0.0, 0.0, 0.0007867820613690008, 0.0]], \"type\": \"heatmap\", \"uid\": \"948503be-a1db-42ce-b675-cb37fd5411a8\"}, {\"colorbar\": {\"title\": {\"text\": \"Normalized Frequency\"}}, \"colorscale\": [[0.0, \"rgb(165,0,38)\"], [0.01, \"rgb(215,48,39)\"], [0.2, \"rgb(244,109,67)\"], [0.3, \"rgb(253,174,97)\"], [0.4, \"rgb(254,224,144)\"], [0.5, \"rgb(224,243,248)\"], [0.6, \"rgb(171,217,233)\"], [0.7, \"rgb(116,173,209)\"], [0.8, \"rgb(69,117,180)\"], [1.0, \"rgb(49,54,149)\"]], \"x\": [\"No actor\", \"Government and state security services\", \"Rebel Groups\", \"Political Militias\", \"Identity Militias\", \"Rioters\", \"Protestors\", \"Civilians\", \"External/other forces\"], \"y\": [\"Government and state security services\", \"Rebel Groups\", \"Political Militias\", \"Identity Militias\", \"Rioters\", \"Protestors\", \"External/other forces\"], \"z\": [[0.006493506493506494, 0.0, 0.0016233766233766235, 0.0016233766233766235, 0.0, 0.0, 0.0, 0.006493506493506494, 0.004058441558441558], [0.0008116883116883117, 0.017045454545454544, 0.0, 0.0, 0.0008116883116883117, 0.0, 0.0, 0.0016233766233766235, 0.0], [0.003246753246753247, 0.030032467532467532, 0.0008116883116883117, 0.0016233766233766235, 0.0, 0.0008116883116883117, 0.0, 0.025162337662337664, 0.0008116883116883117], [0.0, 0.0, 0.0, 0.0, 0.003246753246753247, 0.0, 0.0, 0.033279220779220776, 0.0], [0.028409090909090908, 0.05519480519480519, 0.0, 0.0, 0.0, 0.010551948051948052, 0.0, 0.017045454545454544, 0.0008116883116883117], [0.6964285714285714, 0.048701298701298704, 0.0, 0.0008116883116883117, 0.0, 0.0, 0.0016233766233766235, 0.0, 0.0], [0.0008116883116883117, 0.0, 0.0, 0.0, 0.0, 0.0, 0.0, 0.0, 0.0]], \"type\": \"heatmap\", \"uid\": \"3e254cb3-9502-4ded-bbf3-930323fe40da\"}, {\"colorbar\": {\"title\": {\"text\": \"Normalized Frequency\"}}, \"colorscale\": [[0.0, \"rgb(165,0,38)\"], [0.01, \"rgb(215,48,39)\"], [0.2, \"rgb(244,109,67)\"], [0.3, \"rgb(253,174,97)\"], [0.4, \"rgb(254,224,144)\"], [0.5, \"rgb(224,243,248)\"], [0.6, \"rgb(171,217,233)\"], [0.7, \"rgb(116,173,209)\"], [0.8, \"rgb(69,117,180)\"], [1.0, \"rgb(49,54,149)\"]], \"x\": [\"No actor\", \"Government and state security services\", \"Rebel Groups\", \"Political Militias\", \"Identity Militias\", \"Rioters\", \"Protestors\", \"Civilians\", \"External/other forces\"], \"y\": [\"Government and state security services\", \"Rebel Groups\", \"Political Militias\", \"Identity Militias\", \"Rioters\", \"Protestors\"], \"z\": [[0.0016474464579901153, 0.0, 0.004942339373970346, 0.006589785831960461, 0.0, 0.0, 0.0, 0.009060955518945634, 0.0], [0.0, 0.002471169686985173, 0.0, 0.0, 0.0, 0.0, 0.0, 0.005766062602965404, 0.0], [0.0032948929159802307, 0.009060955518945634, 0.0, 0.0008237232289950577, 0.0, 0.0, 0.0, 0.018945634266886325, 0.0008237232289950577], [0.0, 0.0032948929159802307, 0.0, 0.0008237232289950577, 0.011532125205930808, 0.0, 0.0, 0.01070840197693575, 0.0], [0.009884678747940691, 0.0642504118616145, 0.0, 0.0, 0.0, 0.009884678747940691, 0.0, 0.01070840197693575, 0.0], [0.7322899505766063, 0.0815485996705107, 0.0, 0.0008237232289950577, 0.0, 0.0, 0.0008237232289950577, 0.0, 0.0]], \"type\": \"heatmap\", \"uid\": \"130f01c4-b1c1-4bc5-abdd-7a62504578d5\"}, {\"colorbar\": {\"title\": {\"text\": \"Normalized Frequency\"}}, \"colorscale\": [[0.0, \"rgb(165,0,38)\"], [0.01, \"rgb(215,48,39)\"], [0.2, \"rgb(244,109,67)\"], [0.3, \"rgb(253,174,97)\"], [0.4, \"rgb(254,224,144)\"], [0.5, \"rgb(224,243,248)\"], [0.6, \"rgb(171,217,233)\"], [0.7, \"rgb(116,173,209)\"], [0.8, \"rgb(69,117,180)\"], [1.0, \"rgb(49,54,149)\"]], \"x\": [\"No actor\", \"Government and state security services\", \"Rebel Groups\", \"Political Militias\", \"Identity Militias\", \"Rioters\", \"Protestors\", \"Civilians\", \"External/other forces\"], \"y\": [\"Government and state security services\", \"Rebel Groups\", \"Political Militias\", \"Identity Militias\", \"Rioters\", \"Protestors\"], \"z\": [[0.0, 0.0, 0.0008431703204047217, 0.0, 0.0, 0.0, 0.0, 0.005902192242833052, 0.024451939291736932], [0.0, 0.021079258010118045, 0.0, 0.0, 0.0, 0.0, 0.0, 0.0016863406408094434, 0.0], [0.0, 0.026981450252951095, 0.0, 0.003372681281618887, 0.0, 0.0, 0.0, 0.012647554806070826, 0.0008431703204047217], [0.0, 0.0016863406408094434, 0.0, 0.0, 0.003372681281618887, 0.0, 0.0, 0.012647554806070826, 0.0], [0.02782462057335582, 0.0893760539629005, 0.0, 0.0, 0.0, 0.01517706576728499, 0.0008431703204047217, 0.006745362563237774, 0.0], [0.7074198988195616, 0.03625632377740304, 0.0, 0.0, 0.0, 0.0008431703204047217, 0.0, 0.0, 0.0]], \"type\": \"heatmap\", \"uid\": \"7a7f9ba7-3fb4-44ae-a8ed-5faf99b43d08\"}, {\"colorbar\": {\"title\": {\"text\": \"Normalized Frequency\"}}, \"colorscale\": [[0.0, \"rgb(165,0,38)\"], [0.01, \"rgb(215,48,39)\"], [0.2, \"rgb(244,109,67)\"], [0.3, \"rgb(253,174,97)\"], [0.4, \"rgb(254,224,144)\"], [0.5, \"rgb(224,243,248)\"], [0.6, \"rgb(171,217,233)\"], [0.7, \"rgb(116,173,209)\"], [0.8, \"rgb(69,117,180)\"], [1.0, \"rgb(49,54,149)\"]], \"x\": [\"No actor\", \"Government and state security services\", \"Rebel Groups\", \"Political Militias\", \"Identity Militias\", \"Rioters\", \"Civilians\", \"External/other forces\"], \"y\": [\"Government and state security services\", \"Rebel Groups\", \"Political Militias\", \"Identity Militias\", \"Rioters\", \"Protestors\", \"External/other forces\"], \"z\": [[0.003404255319148936, 0.0, 0.000851063829787234, 0.000851063829787234, 0.0, 0.0, 0.005957446808510639, 0.0], [0.002553191489361702, 0.02127659574468085, 0.0, 0.0, 0.0, 0.0, 0.005106382978723404, 0.0], [0.001702127659574468, 0.011063829787234043, 0.0, 0.00425531914893617, 0.0, 0.0, 0.02468085106382979, 0.0], [0.0, 0.000851063829787234, 0.0, 0.001702127659574468, 0.000851063829787234, 0.0, 0.005106382978723404, 0.0], [0.04, 0.09361702127659574, 0.0, 0.0, 0.0, 0.05191489361702128, 0.02127659574468085, 0.000851063829787234], [0.6382978723404256, 0.06127659574468085, 0.0, 0.0, 0.0, 0.0, 0.0, 0.0], [0.0, 0.002553191489361702, 0.0, 0.0, 0.0, 0.0, 0.0, 0.0]], \"type\": \"heatmap\", \"uid\": \"d45c0c9e-e386-4eb6-bad7-2567a640d39e\"}, {\"colorbar\": {\"title\": {\"text\": \"Normalized Frequency\"}}, \"colorscale\": [[0.0, \"rgb(165,0,38)\"], [0.01, \"rgb(215,48,39)\"], [0.2, \"rgb(244,109,67)\"], [0.3, \"rgb(253,174,97)\"], [0.4, \"rgb(254,224,144)\"], [0.5, \"rgb(224,243,248)\"], [0.6, \"rgb(171,217,233)\"], [0.7, \"rgb(116,173,209)\"], [0.8, \"rgb(69,117,180)\"], [1.0, \"rgb(49,54,149)\"]], \"x\": [\"No actor\", \"Government and state security services\", \"Political Militias\", \"Identity Militias\", \"Rioters\", \"Protestors\", \"Civilians\", \"External/other forces\"], \"y\": [\"Government and state security services\", \"Rebel Groups\", \"Political Militias\", \"Identity Militias\", \"Rioters\", \"Protestors\", \"External/other forces\"], \"z\": [[0.0051325919589392645, 0.0, 0.001710863986313088, 0.0, 0.0, 0.000855431993156544, 0.0025662959794696323, 0.04448246364414029], [0.00427715996578272, 0.007698887938408896, 0.0, 0.0, 0.0, 0.0, 0.00427715996578272, 0.0], [0.000855431993156544, 0.018819503849443968, 0.001710863986313088, 0.0, 0.000855431993156544, 0.000855431993156544, 0.017964071856287425, 0.0], [0.0, 0.0, 0.0, 0.00427715996578272, 0.0, 0.0, 0.005988023952095809, 0.0], [0.04790419161676647, 0.04790419161676647, 0.0, 0.0, 0.011120615911035072, 0.000855431993156544, 0.016253207869974338, 0.0], [0.7031650983746792, 0.04790419161676647, 0.0, 0.0, 0.0, 0.0, 0.0, 0.0], [0.000855431993156544, 0.000855431993156544, 0.0, 0.0, 0.0, 0.0, 0.000855431993156544, 0.0]], \"type\": \"heatmap\", \"uid\": \"6ba516d7-7633-4218-a949-4177f16155d5\"}, {\"colorbar\": {\"title\": {\"text\": \"Normalized Frequency\"}}, \"colorscale\": [[0.0, \"rgb(165,0,38)\"], [0.01, \"rgb(215,48,39)\"], [0.2, \"rgb(244,109,67)\"], [0.3, \"rgb(253,174,97)\"], [0.4, \"rgb(254,224,144)\"], [0.5, \"rgb(224,243,248)\"], [0.6, \"rgb(171,217,233)\"], [0.7, \"rgb(116,173,209)\"], [0.8, \"rgb(69,117,180)\"], [1.0, \"rgb(49,54,149)\"]], \"x\": [\"No actor\", \"Government and state security services\", \"Political Militias\", \"Identity Militias\", \"Rioters\", \"Protestors\", \"Civilians\", \"External/other forces\"], \"y\": [\"Government and state security services\", \"Rebel Groups\", \"Political Militias\", \"Identity Militias\", \"Rioters\", \"Protestors\", \"External/other forces\"], \"z\": [[0.0026086956521739132, 0.0, 0.0008695652173913044, 0.0008695652173913044, 0.0, 0.010434782608695653, 0.00608695652173913, 0.0008695652173913044], [0.0052173913043478265, 0.011304347826086957, 0.0, 0.0, 0.0, 0.0, 0.0052173913043478265, 0.0], [0.0034782608695652175, 0.02, 0.0, 0.0, 0.0, 0.0, 0.01217391304347826, 0.0008695652173913044], [0.0, 0.0008695652173913044, 0.0, 0.0026086956521739132, 0.0, 0.0, 0.011304347826086957, 0.0], [0.02434782608695652, 0.13391304347826086, 0.0, 0.0, 0.006956521739130435, 0.0008695652173913044, 0.01652173913043478, 0.0], [0.6295652173913043, 0.08956521739130435, 0.0, 0.0, 0.0, 0.0, 0.0, 0.0], [0.0, 0.0034782608695652175, 0.0, 0.0, 0.0, 0.0, 0.0, 0.0]], \"type\": \"heatmap\", \"uid\": \"8d5d72db-677e-4f4d-97a8-bb2e84d2c3b3\"}, {\"colorbar\": {\"title\": {\"text\": \"Normalized Frequency\"}}, \"colorscale\": [[0.0, \"rgb(165,0,38)\"], [0.01, \"rgb(215,48,39)\"], [0.2, \"rgb(244,109,67)\"], [0.3, \"rgb(253,174,97)\"], [0.4, \"rgb(254,224,144)\"], [0.5, \"rgb(224,243,248)\"], [0.6, \"rgb(171,217,233)\"], [0.7, \"rgb(116,173,209)\"], [0.8, \"rgb(69,117,180)\"], [1.0, \"rgb(49,54,149)\"]], \"x\": [\"No actor\", \"Government and state security services\", \"Political Militias\", \"Identity Militias\", \"Rioters\", \"Protestors\", \"Civilians\", \"External/other forces\"], \"y\": [\"Government and state security services\", \"Rebel Groups\", \"Political Militias\", \"Identity Militias\", \"Rioters\", \"Protestors\", \"External/other forces\"], \"z\": [[0.0045045045045045045, 0.0, 0.0, 0.0, 0.0, 0.0009009009009009009, 0.005405405405405406, 0.002702702702702703], [0.0, 0.013513513513513514, 0.0, 0.0, 0.0, 0.0, 0.0045045045045045045, 0.0], [0.0018018018018018018, 0.04684684684684685, 0.0, 0.0009009009009009009, 0.0, 0.0, 0.027927927927927927, 0.0], [0.0, 0.002702702702702703, 0.0, 0.009009009009009009, 0.0, 0.0, 0.027927927927927927, 0.0], [0.011711711711711712, 0.062162162162162166, 0.0, 0.0, 0.017117117117117116, 0.0, 0.01981981981981982, 0.0], [0.6774774774774774, 0.055855855855855854, 0.0009009009009009009, 0.0, 0.0, 0.0036036036036036037, 0.0, 0.0], [0.0009009009009009009, 0.0018018018018018018, 0.0, 0.0, 0.0, 0.0, 0.0, 0.0]], \"type\": \"heatmap\", \"uid\": \"5081cdfd-4470-4c25-aa2e-0ef726c03afd\"}, {\"colorbar\": {\"title\": {\"text\": \"Normalized Frequency\"}}, \"colorscale\": [[0.0, \"rgb(165,0,38)\"], [0.01, \"rgb(215,48,39)\"], [0.2, \"rgb(244,109,67)\"], [0.3, \"rgb(253,174,97)\"], [0.4, \"rgb(254,224,144)\"], [0.5, \"rgb(224,243,248)\"], [0.6, \"rgb(171,217,233)\"], [0.7, \"rgb(116,173,209)\"], [0.8, \"rgb(69,117,180)\"], [1.0, \"rgb(49,54,149)\"]], \"x\": [\"No actor\", \"Government and state security services\", \"Rebel Groups\", \"Political Militias\", \"Identity Militias\", \"Rioters\", \"Protestors\", \"Civilians\"], \"y\": [\"Government and state security services\", \"Rebel Groups\", \"Political Militias\", \"Identity Militias\", \"Rioters\", \"Protestors\", \"External/other forces\"], \"z\": [[0.0009124087591240876, 0.0, 0.0018248175182481751, 0.005474452554744526, 0.0, 0.0, 0.0, 0.004562043795620438], [0.0009124087591240876, 0.014598540145985401, 0.0, 0.0, 0.0, 0.0, 0.0, 0.008211678832116789], [0.0, 0.013686131386861315, 0.0, 0.0018248175182481751, 0.0, 0.0, 0.0009124087591240876, 0.01916058394160584], [0.0, 0.0009124087591240876, 0.0, 0.0009124087591240876, 0.002737226277372263, 0.0, 0.0, 0.0036496350364963502], [0.016423357664233577, 0.07755474452554745, 0.0, 0.0, 0.0, 0.02645985401459854, 0.0009124087591240876, 0.013686131386861315], [0.718065693430657, 0.04927007299270073, 0.0, 0.0, 0.0, 0.0, 0.0018248175182481751, 0.0], [0.0, 0.01551094890510949, 0.0, 0.0, 0.0, 0.0, 0.0, 0.0]], \"type\": \"heatmap\", \"uid\": \"191303c2-a38e-498f-802d-5fb0ae75ca68\"}, {\"colorbar\": {\"title\": {\"text\": \"Normalized Frequency\"}}, \"colorscale\": [[0.0, \"rgb(165,0,38)\"], [0.01, \"rgb(215,48,39)\"], [0.2, \"rgb(244,109,67)\"], [0.3, \"rgb(253,174,97)\"], [0.4, \"rgb(254,224,144)\"], [0.5, \"rgb(224,243,248)\"], [0.6, \"rgb(171,217,233)\"], [0.7, \"rgb(116,173,209)\"], [0.8, \"rgb(69,117,180)\"], [1.0, \"rgb(49,54,149)\"]], \"x\": [\"No actor\", \"Government and state security services\", \"Political Militias\", \"Identity Militias\", \"Rioters\", \"Protestors\", \"Civilians\", \"External/other forces\"], \"y\": [\"Government and state security services\", \"Rebel Groups\", \"Political Militias\", \"Identity Militias\", \"Rioters\", \"Protestors\", \"External/other forces\"], \"z\": [[0.0, 0.0, 0.0, 0.0, 0.0, 0.0, 0.005676442762535478, 0.0], [0.005676442762535478, 0.020813623462630087, 0.0, 0.0, 0.0, 0.0, 0.007568590350047304, 0.000946073793755913], [0.003784295175023652, 0.01608325449385052, 0.005676442762535478, 0.0, 0.0, 0.0, 0.020813623462630087, 0.0], [0.001892147587511826, 0.000946073793755913, 0.0, 0.004730368968779565, 0.0, 0.0, 0.01229895931882687, 0.0], [0.02554399243140965, 0.10406811731315042, 0.0, 0.0, 0.03595080416272469, 0.000946073793755913, 0.013245033112582781, 0.002838221381267739], [0.6433301797540208, 0.04446546830652791, 0.0, 0.0, 0.0, 0.001892147587511826, 0.0, 0.0], [0.0, 0.019867549668874173, 0.0, 0.0, 0.0, 0.0, 0.000946073793755913, 0.0]], \"type\": \"heatmap\", \"uid\": \"6c1ac39a-ae55-4906-99fb-e3032c0ca033\"}, {\"colorbar\": {\"title\": {\"text\": \"Normalized Frequency\"}}, \"colorscale\": [[0.0, \"rgb(165,0,38)\"], [0.01, \"rgb(215,48,39)\"], [0.2, \"rgb(244,109,67)\"], [0.3, \"rgb(253,174,97)\"], [0.4, \"rgb(254,224,144)\"], [0.5, \"rgb(224,243,248)\"], [0.6, \"rgb(171,217,233)\"], [0.7, \"rgb(116,173,209)\"], [0.8, \"rgb(69,117,180)\"], [1.0, \"rgb(49,54,149)\"]], \"x\": [\"No actor\", \"Government and state security services\", \"Rebel Groups\", \"Political Militias\", \"Identity Militias\", \"Rioters\", \"Protestors\", \"Civilians\", \"External/other forces\"], \"y\": [\"Government and state security services\", \"Rebel Groups\", \"Political Militias\", \"Identity Militias\", \"Rioters\", \"Protestors\", \"External/other forces\"], \"z\": [[0.005714285714285714, 0.0, 0.0009523809523809524, 0.0019047619047619048, 0.0, 0.0, 0.0, 0.007619047619047619, 0.018095238095238095], [0.0038095238095238095, 0.014285714285714285, 0.0, 0.0, 0.0, 0.0, 0.0, 0.0038095238095238095, 0.0], [0.002857142857142857, 0.013333333333333334, 0.0, 0.0019047619047619048, 0.0, 0.0, 0.0009523809523809524, 0.025714285714285714, 0.0009523809523809524], [0.0, 0.0009523809523809524, 0.0, 0.0, 0.0009523809523809524, 0.0, 0.0, 0.008571428571428572, 0.0], [0.022857142857142857, 0.05238095238095238, 0.0, 0.0, 0.0, 0.02095238095238095, 0.002857142857142857, 0.017142857142857144, 0.0], [0.7152380952380952, 0.05523809523809524, 0.0, 0.0, 0.0, 0.0, 0.0, 0.0, 0.0], [0.0, 0.0009523809523809524, 0.0, 0.0, 0.0, 0.0, 0.0, 0.0, 0.0]], \"type\": \"heatmap\", \"uid\": \"2da52627-b238-459b-a57b-79c0ae9261bf\"}, {\"colorbar\": {\"title\": {\"text\": \"Normalized Frequency\"}}, \"colorscale\": [[0.0, \"rgb(165,0,38)\"], [0.01, \"rgb(215,48,39)\"], [0.2, \"rgb(244,109,67)\"], [0.3, \"rgb(253,174,97)\"], [0.4, \"rgb(254,224,144)\"], [0.5, \"rgb(224,243,248)\"], [0.6, \"rgb(171,217,233)\"], [0.7, \"rgb(116,173,209)\"], [0.8, \"rgb(69,117,180)\"], [1.0, \"rgb(49,54,149)\"]], \"x\": [\"No actor\", \"Government and state security services\", \"Political Militias\", \"Identity Militias\", \"Rioters\", \"Protestors\", \"Civilians\"], \"y\": [\"Government and state security services\", \"Rebel Groups\", \"Political Militias\", \"Identity Militias\", \"Rioters\", \"Protestors\"], \"z\": [[0.002859866539561487, 0.0, 0.005719733079122974, 0.0, 0.0, 0.0019065776930409914, 0.0019065776930409914], [0.00667302192564347, 0.0219256434699714, 0.0, 0.0, 0.0, 0.0, 0.0076263107721639654], [0.0019065776930409914, 0.004766444232602479, 0.0019065776930409914, 0.0, 0.0, 0.0, 0.027645376549094377], [0.0, 0.0, 0.0, 0.0038131553860819827, 0.0, 0.0, 0.004766444232602479], [0.04575786463298379, 0.052430886558627265, 0.0, 0.0, 0.023832221163012392, 0.004766444232602479, 0.010486177311725452], [0.7102001906577693, 0.05624404194470925, 0.0, 0.0, 0.0009532888465204957, 0.0019065776930409914, 0.0]], \"type\": \"heatmap\", \"uid\": \"5a2ede38-9dc8-4a09-b52b-88e727c372b4\"}, {\"colorbar\": {\"title\": {\"text\": \"Normalized Frequency\"}}, \"colorscale\": [[0.0, \"rgb(165,0,38)\"], [0.01, \"rgb(215,48,39)\"], [0.2, \"rgb(244,109,67)\"], [0.3, \"rgb(253,174,97)\"], [0.4, \"rgb(254,224,144)\"], [0.5, \"rgb(224,243,248)\"], [0.6, \"rgb(171,217,233)\"], [0.7, \"rgb(116,173,209)\"], [0.8, \"rgb(69,117,180)\"], [1.0, \"rgb(49,54,149)\"]], \"x\": [\"No actor\", \"Government and state security services\", \"Political Militias\", \"Identity Militias\", \"Rioters\", \"Protestors\", \"Civilians\", \"External/other forces\"], \"y\": [\"Government and state security services\", \"Rebel Groups\", \"Political Militias\", \"Identity Militias\", \"Rioters\", \"Protestors\", \"External/other forces\"], \"z\": [[0.0009727626459143969, 0.0, 0.0, 0.0, 0.0, 0.0019455252918287938, 0.0048638132295719845, 0.023346303501945526], [0.0, 0.0038910505836575876, 0.0, 0.0, 0.0, 0.0, 0.0009727626459143969, 0.0], [0.0, 0.023346303501945526, 0.0038910505836575876, 0.0, 0.0, 0.0, 0.014591439688715954, 0.0], [0.0, 0.0, 0.0, 0.0029182879377431907, 0.0, 0.0, 0.010700389105058366, 0.0], [0.04474708171206226, 0.06712062256809338, 0.0, 0.0, 0.016536964980544747, 0.0, 0.010700389105058366, 0.0009727626459143969], [0.730544747081712, 0.03599221789883268, 0.0, 0.0, 0.0, 0.0009727626459143969, 0.0, 0.0], [0.0, 0.0009727626459143969, 0.0, 0.0, 0.0, 0.0, 0.0, 0.0]], \"type\": \"heatmap\", \"uid\": \"30993f38-8ef8-45aa-a476-3032c75a2b1b\"}, {\"colorbar\": {\"title\": {\"text\": \"Normalized Frequency\"}}, \"colorscale\": [[0.0, \"rgb(165,0,38)\"], [0.01, \"rgb(215,48,39)\"], [0.2, \"rgb(244,109,67)\"], [0.3, \"rgb(253,174,97)\"], [0.4, \"rgb(254,224,144)\"], [0.5, \"rgb(224,243,248)\"], [0.6, \"rgb(171,217,233)\"], [0.7, \"rgb(116,173,209)\"], [0.8, \"rgb(69,117,180)\"], [1.0, \"rgb(49,54,149)\"]], \"x\": [\"No actor\", \"Government and state security services\", \"Rebel Groups\", \"Political Militias\", \"Rioters\", \"Protestors\", \"Civilians\", \"External/other forces\"], \"y\": [\"Government and state security services\", \"Rebel Groups\", \"Political Militias\", \"Identity Militias\", \"Rioters\", \"Protestors\"], \"z\": [[0.0019474196689386564, 0.0, 0.0, 0.013631937682570594, 0.0, 0.02044790652385589, 0.004868549172346641, 0.0019474196689386564], [0.0009737098344693282, 0.006815968841285297, 0.0, 0.0, 0.0, 0.0, 0.0009737098344693282, 0.0], [0.0009737098344693282, 0.008763388510223954, 0.0009737098344693282, 0.0, 0.0, 0.0, 0.007789678675754625, 0.0], [0.0019474196689386564, 0.0, 0.0, 0.0, 0.0, 0.0, 0.0009737098344693282, 0.0], [0.05063291139240506, 0.11100292112950341, 0.0, 0.0, 0.013631937682570594, 0.0009737098344693282, 0.005842259006815969, 0.0], [0.688412852969815, 0.055501460564751706, 0.0, 0.0, 0.0, 0.0009737098344693282, 0.0, 0.0]], \"type\": \"heatmap\", \"uid\": \"fd32b6ef-4f07-4735-b25e-3f06e99c96bd\"}, {\"colorbar\": {\"title\": {\"text\": \"Normalized Frequency\"}}, \"colorscale\": [[0.0, \"rgb(165,0,38)\"], [0.01, \"rgb(215,48,39)\"], [0.2, \"rgb(244,109,67)\"], [0.3, \"rgb(253,174,97)\"], [0.4, \"rgb(254,224,144)\"], [0.5, \"rgb(224,243,248)\"], [0.6, \"rgb(171,217,233)\"], [0.7, \"rgb(116,173,209)\"], [0.8, \"rgb(69,117,180)\"], [1.0, \"rgb(49,54,149)\"]], \"x\": [\"No actor\", \"Government and state security services\", \"Political Militias\", \"Identity Militias\", \"Rioters\", \"Protestors\", \"Civilians\", \"External/other forces\"], \"y\": [\"Government and state security services\", \"Rebel Groups\", \"Political Militias\", \"Identity Militias\", \"Rioters\", \"Protestors\"], \"z\": [[0.000998003992015968, 0.0, 0.006986027944111776, 0.0, 0.0, 0.000998003992015968, 0.001996007984031936, 0.000998003992015968], [0.000998003992015968, 0.011976047904191617, 0.0, 0.0, 0.0, 0.0, 0.00499001996007984, 0.0], [0.00499001996007984, 0.012974051896207584, 0.0029940119760479044, 0.0, 0.0, 0.0, 0.04091816367265469, 0.0], [0.0, 0.000998003992015968, 0.0, 0.0029940119760479044, 0.0, 0.0, 0.006986027944111776, 0.0], [0.023952095808383235, 0.08083832335329341, 0.0, 0.0, 0.029940119760479042, 0.000998003992015968, 0.03493013972055888, 0.0], [0.6497005988023952, 0.07584830339321358, 0.0, 0.0, 0.000998003992015968, 0.0, 0.0, 0.0]], \"type\": \"heatmap\", \"uid\": \"da80f195-0817-413a-8632-0216b5b3f24d\"}, {\"colorbar\": {\"title\": {\"text\": \"Normalized Frequency\"}}, \"colorscale\": [[0.0, \"rgb(165,0,38)\"], [0.01, \"rgb(215,48,39)\"], [0.2, \"rgb(244,109,67)\"], [0.3, \"rgb(253,174,97)\"], [0.4, \"rgb(254,224,144)\"], [0.5, \"rgb(224,243,248)\"], [0.6, \"rgb(171,217,233)\"], [0.7, \"rgb(116,173,209)\"], [0.8, \"rgb(69,117,180)\"], [1.0, \"rgb(49,54,149)\"]], \"x\": [\"No actor\", \"Government and state security services\", \"Rebel Groups\", \"Rioters\", \"Protestors\", \"Civilians\", \"External/other forces\"], \"y\": [\"Government and state security services\", \"Rebel Groups\", \"Political Militias\", \"Identity Militias\", \"Rioters\", \"Protestors\"], \"z\": [[0.0, 0.0, 0.001002004008016032, 0.0, 0.0, 0.0, 0.001002004008016032], [0.001002004008016032, 0.004008016032064128, 0.0, 0.0, 0.0, 0.004008016032064128, 0.0], [0.0070140280561122245, 0.004008016032064128, 0.0, 0.0, 0.0, 0.013026052104208416, 0.0], [0.0, 0.0, 0.0, 0.0, 0.0, 0.003006012024048096, 0.0], [0.06613226452905811, 0.06613226452905811, 0.0, 0.013026052104208416, 0.0, 0.009018036072144289, 0.0], [0.782565130260521, 0.022044088176352707, 0.0, 0.0, 0.003006012024048096, 0.0, 0.0]], \"type\": \"heatmap\", \"uid\": \"ad11b8eb-62d9-4518-b344-a9c0b0d1745d\"}, {\"colorbar\": {\"title\": {\"text\": \"Normalized Frequency\"}}, \"colorscale\": [[0.0, \"rgb(165,0,38)\"], [0.01, \"rgb(215,48,39)\"], [0.2, \"rgb(244,109,67)\"], [0.3, \"rgb(253,174,97)\"], [0.4, \"rgb(254,224,144)\"], [0.5, \"rgb(224,243,248)\"], [0.6, \"rgb(171,217,233)\"], [0.7, \"rgb(116,173,209)\"], [0.8, \"rgb(69,117,180)\"], [1.0, \"rgb(49,54,149)\"]], \"x\": [\"No actor\", \"Government and state security services\", \"Rebel Groups\", \"Political Militias\", \"Identity Militias\", \"Rioters\", \"Protestors\", \"Civilians\", \"External/other forces\"], \"y\": [\"Government and state security services\", \"Rebel Groups\", \"Political Militias\", \"Identity Militias\", \"Rioters\", \"Protestors\"], \"z\": [[0.0, 0.0, 0.002074688796680498, 0.001037344398340249, 0.0, 0.0, 0.0, 0.002074688796680498, 0.03630705394190872], [0.005186721991701245, 0.013485477178423237, 0.0, 0.0, 0.0, 0.0, 0.0, 0.001037344398340249, 0.0], [0.002074688796680498, 0.024896265560165973, 0.002074688796680498, 0.0, 0.0, 0.0, 0.0, 0.015560165975103735, 0.0], [0.0, 0.0, 0.0, 0.0, 0.002074688796680498, 0.0, 0.0, 0.008298755186721992, 0.0], [0.00933609958506224, 0.04564315352697095, 0.0, 0.0, 0.0, 0.014522821576763486, 0.001037344398340249, 0.00933609958506224, 0.0], [0.7479253112033195, 0.054979253112033194, 0.0, 0.0, 0.0, 0.0, 0.001037344398340249, 0.0, 0.0]], \"type\": \"heatmap\", \"uid\": \"5bd29fc3-a03c-43a4-8cf9-65b3f59990f7\"}, {\"colorbar\": {\"title\": {\"text\": \"Normalized Frequency\"}}, \"colorscale\": [[0.0, \"rgb(165,0,38)\"], [0.01, \"rgb(215,48,39)\"], [0.2, \"rgb(244,109,67)\"], [0.3, \"rgb(253,174,97)\"], [0.4, \"rgb(254,224,144)\"], [0.5, \"rgb(224,243,248)\"], [0.6, \"rgb(171,217,233)\"], [0.7, \"rgb(116,173,209)\"], [0.8, \"rgb(69,117,180)\"], [1.0, \"rgb(49,54,149)\"]], \"x\": [\"No actor\", \"Government and state security services\", \"Political Militias\", \"Identity Militias\", \"Rioters\", \"Civilians\"], \"y\": [\"Government and state security services\", \"Rebel Groups\", \"Political Militias\", \"Identity Militias\", \"Rioters\", \"Protestors\", \"External/other forces\"], \"z\": [[0.0, 0.0, 0.002079002079002079, 0.0, 0.0, 0.0031185031185031187], [0.0, 0.012474012474012475, 0.0, 0.0, 0.0, 0.007276507276507277], [0.004158004158004158, 0.016632016632016633, 0.0, 0.0, 0.0, 0.02390852390852391], [0.0, 0.0010395010395010396, 0.0, 0.002079002079002079, 0.0, 0.007276507276507277], [0.031185031185031187, 0.06652806652806653, 0.0, 0.0, 0.016632016632016633, 0.01975051975051975], [0.7245322245322245, 0.056133056133056136, 0.0, 0.0, 0.0, 0.0], [0.0, 0.004158004158004158, 0.0, 0.0, 0.0, 0.0010395010395010396]], \"type\": \"heatmap\", \"uid\": \"22c025b2-2c5e-4ebf-9dc9-fda7426483eb\"}, {\"colorbar\": {\"title\": {\"text\": \"Normalized Frequency\"}}, \"colorscale\": [[0.0, \"rgb(165,0,38)\"], [0.01, \"rgb(215,48,39)\"], [0.2, \"rgb(244,109,67)\"], [0.3, \"rgb(253,174,97)\"], [0.4, \"rgb(254,224,144)\"], [0.5, \"rgb(224,243,248)\"], [0.6, \"rgb(171,217,233)\"], [0.7, \"rgb(116,173,209)\"], [0.8, \"rgb(69,117,180)\"], [1.0, \"rgb(49,54,149)\"]], \"x\": [\"No actor\", \"Government and state security services\", \"Rebel Groups\", \"Political Militias\", \"Rioters\", \"Protestors\", \"Civilians\", \"External/other forces\"], \"y\": [\"Government and state security services\", \"Rebel Groups\", \"Political Militias\", \"Identity Militias\", \"Rioters\", \"Protestors\", \"External/other forces\"], \"z\": [[0.005574136008918618, 0.0011148272017837235, 0.002229654403567447, 0.0011148272017837235, 0.0, 0.0, 0.005574136008918618, 0.0033444816053511705], [0.002229654403567447, 0.016722408026755852, 0.0, 0.0, 0.0, 0.0, 0.002229654403567447, 0.0], [0.0, 0.022296544035674472, 0.0, 0.004459308807134894, 0.0, 0.0, 0.03901895206243032, 0.0011148272017837235], [0.0, 0.0, 0.0, 0.0, 0.0, 0.0, 0.002229654403567447, 0.0], [0.013377926421404682, 0.045707915273132664, 0.0, 0.0, 0.016722408026755852, 0.002229654403567447, 0.022296544035674472, 0.0], [0.6755852842809364, 0.056856187290969896, 0.0, 0.0, 0.0, 0.0, 0.0, 0.0], [0.0033444816053511705, 0.054626532887402456, 0.0, 0.0, 0.0, 0.0, 0.0, 0.0]], \"type\": \"heatmap\", \"uid\": \"aa52715e-5f9b-457e-a66f-da097ab626d6\"}, {\"colorbar\": {\"title\": {\"text\": \"Normalized Frequency\"}}, \"colorscale\": [[0.0, \"rgb(165,0,38)\"], [0.01, \"rgb(215,48,39)\"], [0.2, \"rgb(244,109,67)\"], [0.3, \"rgb(253,174,97)\"], [0.4, \"rgb(254,224,144)\"], [0.5, \"rgb(224,243,248)\"], [0.6, \"rgb(171,217,233)\"], [0.7, \"rgb(116,173,209)\"], [0.8, \"rgb(69,117,180)\"], [1.0, \"rgb(49,54,149)\"]], \"x\": [\"No actor\", \"Government and state security services\", \"Rebel Groups\", \"Political Militias\", \"Identity Militias\", \"Rioters\", \"Civilians\", \"External/other forces\"], \"y\": [\"Government and state security services\", \"Rebel Groups\", \"Political Militias\", \"Identity Militias\", \"Rioters\", \"Protestors\", \"External/other forces\"], \"z\": [[0.0012804097311139564, 0.0, 0.0012804097311139564, 0.0012804097311139564, 0.0, 0.0, 0.0, 0.0038412291933418692], [0.006402048655569782, 0.015364916773367477, 0.0, 0.0012804097311139564, 0.0, 0.0, 0.006402048655569782, 0.0], [0.0038412291933418692, 0.01792573623559539, 0.0, 0.0012804097311139564, 0.0, 0.0, 0.03713188220230474, 0.0], [0.0, 0.0, 0.0, 0.0, 0.002560819462227913, 0.0, 0.002560819462227913, 0.0], [0.040973111395646605, 0.06017925736235595, 0.0, 0.0, 0.0, 0.07298335467349552, 0.03329065300896287, 0.0], [0.6069142125480154, 0.0793854033290653, 0.0, 0.0, 0.0, 0.0, 0.0, 0.0], [0.0, 0.002560819462227913, 0.0, 0.0, 0.0, 0.0, 0.0012804097311139564, 0.0]], \"type\": \"heatmap\", \"uid\": \"9ac7b7c9-e516-4c11-9971-84a06a23a2e9\"}, {\"colorbar\": {\"title\": {\"text\": \"Normalized Frequency\"}}, \"colorscale\": [[0.0, \"rgb(165,0,38)\"], [0.01, \"rgb(215,48,39)\"], [0.2, \"rgb(244,109,67)\"], [0.3, \"rgb(253,174,97)\"], [0.4, \"rgb(254,224,144)\"], [0.5, \"rgb(224,243,248)\"], [0.6, \"rgb(171,217,233)\"], [0.7, \"rgb(116,173,209)\"], [0.8, \"rgb(69,117,180)\"], [1.0, \"rgb(49,54,149)\"]], \"x\": [\"No actor\", \"Government and state security services\", \"Rebel Groups\", \"Political Militias\", \"Identity Militias\", \"Rioters\", \"Protestors\", \"Civilians\"], \"y\": [\"Government and state security services\", \"Rebel Groups\", \"Political Militias\", \"Identity Militias\", \"Rioters\", \"Protestors\"], \"z\": [[0.0026595744680851063, 0.0, 0.003989361702127659, 0.005319148936170213, 0.0, 0.0, 0.0, 0.0], [0.0013297872340425532, 0.02127659574468085, 0.0, 0.0, 0.0, 0.0, 0.0, 0.015957446808510637], [0.0026595744680851063, 0.017287234042553192, 0.0, 0.0013297872340425532, 0.0, 0.0, 0.0, 0.013297872340425532], [0.0, 0.0, 0.0, 0.0, 0.0013297872340425532, 0.0, 0.0, 0.003989361702127659], [0.018617021276595744, 0.0598404255319149, 0.0, 0.0, 0.0, 0.043882978723404256, 0.003989361702127659, 0.0199468085106383], [0.711436170212766, 0.05053191489361702, 0.0, 0.0, 0.0, 0.0, 0.0013297872340425532, 0.0]], \"type\": \"heatmap\", \"uid\": \"cf1fd5ce-71d2-4f97-925e-c833a96dacc0\"}, {\"colorbar\": {\"title\": {\"text\": \"Normalized Frequency\"}}, \"colorscale\": [[0.0, \"rgb(165,0,38)\"], [0.01, \"rgb(215,48,39)\"], [0.2, \"rgb(244,109,67)\"], [0.3, \"rgb(253,174,97)\"], [0.4, \"rgb(254,224,144)\"], [0.5, \"rgb(224,243,248)\"], [0.6, \"rgb(171,217,233)\"], [0.7, \"rgb(116,173,209)\"], [0.8, \"rgb(69,117,180)\"], [1.0, \"rgb(49,54,149)\"]], \"x\": [\"No actor\", \"Government and state security services\", \"Political Militias\", \"Identity Militias\", \"Rioters\", \"Civilians\", \"External/other forces\"], \"y\": [\"Government and state security services\", \"Rebel Groups\", \"Political Militias\", \"Identity Militias\", \"Rioters\", \"Protestors\"], \"z\": [[0.0, 0.0, 0.0, 0.0, 0.0, 0.006675567423230975, 0.03337783711615487], [0.0, 0.004005340453938585, 0.0, 0.0, 0.0, 0.0013351134846461949, 0.0], [0.0053404539385847796, 0.030707610146862484, 0.0026702269692923898, 0.0, 0.0, 0.03204272363150868, 0.0013351134846461949], [0.0, 0.0, 0.0, 0.006675567423230975, 0.0, 0.012016021361815754, 0.0], [0.02403204272363151, 0.08678237650200267, 0.0, 0.0, 0.01602136181575434, 0.018691588785046728, 0.0], [0.6635514018691588, 0.05473965287049399, 0.0, 0.0, 0.0, 0.0, 0.0]], \"type\": \"heatmap\", \"uid\": \"ecf6ae39-800c-4caa-89f0-fa8c38e84c3c\"}, {\"colorbar\": {\"title\": {\"text\": \"Normalized Frequency\"}}, \"colorscale\": [[0.0, \"rgb(165,0,38)\"], [0.01, \"rgb(215,48,39)\"], [0.2, \"rgb(244,109,67)\"], [0.3, \"rgb(253,174,97)\"], [0.4, \"rgb(254,224,144)\"], [0.5, \"rgb(224,243,248)\"], [0.6, \"rgb(171,217,233)\"], [0.7, \"rgb(116,173,209)\"], [0.8, \"rgb(69,117,180)\"], [1.0, \"rgb(49,54,149)\"]], \"x\": [\"No actor\", \"Government and state security services\", \"Rebel Groups\", \"Political Militias\", \"Identity Militias\", \"Rioters\", \"Protestors\", \"Civilians\"], \"y\": [\"Government and state security services\", \"Rebel Groups\", \"Political Militias\", \"Identity Militias\", \"Rioters\", \"Protestors\"], \"z\": [[0.0027662517289073307, 0.0, 0.004149377593360996, 0.005532503457814661, 0.0, 0.0, 0.0027662517289073307, 0.005532503457814661], [0.0027662517289073307, 0.016597510373443983, 0.0, 0.0, 0.0, 0.0, 0.0, 0.008298755186721992], [0.0027662517289073307, 0.004149377593360996, 0.0, 0.0013831258644536654, 0.0, 0.0, 0.0, 0.012448132780082987], [0.0, 0.0, 0.0, 0.0, 0.0013831258644536654, 0.0, 0.0, 0.004149377593360996], [0.02351313969571231, 0.051175656984785614, 0.0, 0.0, 0.0, 0.011065006915629323, 0.0, 0.006915629322268326], [0.7786998616874136, 0.05255878284923928, 0.0, 0.0, 0.0, 0.0, 0.0013831258644536654, 0.0]], \"type\": \"heatmap\", \"uid\": \"6d279685-840a-49cb-a501-8fe7ef116bed\"}, {\"colorbar\": {\"title\": {\"text\": \"Normalized Frequency\"}}, \"colorscale\": [[0.0, \"rgb(165,0,38)\"], [0.01, \"rgb(215,48,39)\"], [0.2, \"rgb(244,109,67)\"], [0.3, \"rgb(253,174,97)\"], [0.4, \"rgb(254,224,144)\"], [0.5, \"rgb(224,243,248)\"], [0.6, \"rgb(171,217,233)\"], [0.7, \"rgb(116,173,209)\"], [0.8, \"rgb(69,117,180)\"], [1.0, \"rgb(49,54,149)\"]], \"x\": [\"No actor\", \"Government and state security services\", \"Rebel Groups\", \"Political Militias\", \"Rioters\", \"Protestors\", \"Civilians\", \"External/other forces\"], \"y\": [\"Government and state security services\", \"Rebel Groups\", \"Political Militias\", \"Identity Militias\", \"Rioters\", \"Protestors\", \"External/other forces\"], \"z\": [[0.0013831258644536654, 0.0, 0.0013831258644536654, 0.0, 0.0, 0.0, 0.008298755186721992, 0.012448132780082987], [0.0013831258644536654, 0.016597510373443983, 0.0, 0.0, 0.0, 0.0, 0.0027662517289073307, 0.0013831258644536654], [0.0027662517289073307, 0.024896265560165973, 0.0, 0.0013831258644536654, 0.0, 0.0, 0.02627939142461964, 0.0], [0.0, 0.0, 0.0, 0.0, 0.0, 0.0, 0.004149377593360996, 0.0], [0.017980636237897647, 0.03872752420470263, 0.0, 0.0, 0.022130013831258646, 0.0, 0.011065006915629323, 0.0], [0.7565698478561549, 0.04426002766251729, 0.0, 0.0, 0.0, 0.0013831258644536654, 0.0, 0.0], [0.0027662517289073307, 0.0, 0.0, 0.0, 0.0, 0.0, 0.0, 0.0]], \"type\": \"heatmap\", \"uid\": \"e756c1f2-85ab-4b96-ab9d-b7b8ecd5a476\"}], {\"autosize\": true, \"sliders\": [{\"active\": 0, \"currentvalue\": {\"prefix\": \"\"}, \"name\": \"Month\", \"pad\": {\"t\": 37}, \"steps\": [{\"args\": [\"visible\", [true, false, false, false, false, false, false, false, false, false, false, false, false, false, false, false, false, false, false, false, false, false, false, false, false, false, false, false, false, false, false, false, false, false, false, false, false]], \"label\": \"Month 1\", \"method\": \"restyle\"}, {\"args\": [\"visible\", [false, true, false, false, false, false, false, false, false, false, false, false, false, false, false, false, false, false, false, false, false, false, false, false, false, false, false, false, false, false, false, false, false, false, false, false, false]], \"label\": \"Month 2\", \"method\": \"restyle\"}, {\"args\": [\"visible\", [false, false, true, false, false, false, false, false, false, false, false, false, false, false, false, false, false, false, false, false, false, false, false, false, false, false, false, false, false, false, false, false, false, false, false, false, false]], \"label\": \"Month 3\", \"method\": \"restyle\"}, {\"args\": [\"visible\", [false, false, false, true, false, false, false, false, false, false, false, false, false, false, false, false, false, false, false, false, false, false, false, false, false, false, false, false, false, false, false, false, false, false, false, false, false]], \"label\": \"Month 4\", \"method\": \"restyle\"}, {\"args\": [\"visible\", [false, false, false, false, true, false, false, false, false, false, false, false, false, false, false, false, false, false, false, false, false, false, false, false, false, false, false, false, false, false, false, false, false, false, false, false, false]], \"label\": \"Month 5\", \"method\": \"restyle\"}, {\"args\": [\"visible\", [false, false, false, false, false, true, false, false, false, false, false, false, false, false, false, false, false, false, false, false, false, false, false, false, false, false, false, false, false, false, false, false, false, false, false, false, false]], \"label\": \"Month 6\", \"method\": \"restyle\"}, {\"args\": [\"visible\", [false, false, false, false, false, false, true, false, false, false, false, false, false, false, false, false, false, false, false, false, false, false, false, false, false, false, false, false, false, false, false, false, false, false, false, false, false]], \"label\": \"Month 7\", \"method\": \"restyle\"}, {\"args\": [\"visible\", [false, false, false, false, false, false, false, true, false, false, false, false, false, false, false, false, false, false, false, false, false, false, false, false, false, false, false, false, false, false, false, false, false, false, false, false, false]], \"label\": \"Month 8\", \"method\": \"restyle\"}, {\"args\": [\"visible\", [false, false, false, false, false, false, false, false, true, false, false, false, false, false, false, false, false, false, false, false, false, false, false, false, false, false, false, false, false, false, false, false, false, false, false, false, false]], \"label\": \"Month 9\", \"method\": \"restyle\"}, {\"args\": [\"visible\", [false, false, false, false, false, false, false, false, false, true, false, false, false, false, false, false, false, false, false, false, false, false, false, false, false, false, false, false, false, false, false, false, false, false, false, false, false]], \"label\": \"Month 10\", \"method\": \"restyle\"}, {\"args\": [\"visible\", [false, false, false, false, false, false, false, false, false, false, true, false, false, false, false, false, false, false, false, false, false, false, false, false, false, false, false, false, false, false, false, false, false, false, false, false, false]], \"label\": \"Month 11\", \"method\": \"restyle\"}, {\"args\": [\"visible\", [false, false, false, false, false, false, false, false, false, false, false, true, false, false, false, false, false, false, false, false, false, false, false, false, false, false, false, false, false, false, false, false, false, false, false, false, false]], \"label\": \"Month 12\", \"method\": \"restyle\"}, {\"args\": [\"visible\", [false, false, false, false, false, false, false, false, false, false, false, false, true, false, false, false, false, false, false, false, false, false, false, false, false, false, false, false, false, false, false, false, false, false, false, false, false]], \"label\": \"Month 13\", \"method\": \"restyle\"}, {\"args\": [\"visible\", [false, false, false, false, false, false, false, false, false, false, false, false, false, true, false, false, false, false, false, false, false, false, false, false, false, false, false, false, false, false, false, false, false, false, false, false, false]], \"label\": \"Month 14\", \"method\": \"restyle\"}, {\"args\": [\"visible\", [false, false, false, false, false, false, false, false, false, false, false, false, false, false, true, false, false, false, false, false, false, false, false, false, false, false, false, false, false, false, false, false, false, false, false, false, false]], \"label\": \"Month 15\", \"method\": \"restyle\"}, {\"args\": [\"visible\", [false, false, false, false, false, false, false, false, false, false, false, false, false, false, false, true, false, false, false, false, false, false, false, false, false, false, false, false, false, false, false, false, false, false, false, false, false]], \"label\": \"Month 16\", \"method\": \"restyle\"}, {\"args\": [\"visible\", [false, false, false, false, false, false, false, false, false, false, false, false, false, false, false, false, true, false, false, false, false, false, false, false, false, false, false, false, false, false, false, false, false, false, false, false, false]], \"label\": \"Month 17\", \"method\": \"restyle\"}, {\"args\": [\"visible\", [false, false, false, false, false, false, false, false, false, false, false, false, false, false, false, false, false, true, false, false, false, false, false, false, false, false, false, false, false, false, false, false, false, false, false, false, false]], \"label\": \"Month 18\", \"method\": \"restyle\"}, {\"args\": [\"visible\", [false, false, false, false, false, false, false, false, false, false, false, false, false, false, false, false, false, false, true, false, false, false, false, false, false, false, false, false, false, false, false, false, false, false, false, false, false]], \"label\": \"Month 19\", \"method\": \"restyle\"}, {\"args\": [\"visible\", [false, false, false, false, false, false, false, false, false, false, false, false, false, false, false, false, false, false, false, true, false, false, false, false, false, false, false, false, false, false, false, false, false, false, false, false, false]], \"label\": \"Month 20\", \"method\": \"restyle\"}, {\"args\": [\"visible\", [false, false, false, false, false, false, false, false, false, false, false, false, false, false, false, false, false, false, false, false, true, false, false, false, false, false, false, false, false, false, false, false, false, false, false, false, false]], \"label\": \"Month 21\", \"method\": \"restyle\"}, {\"args\": [\"visible\", [false, false, false, false, false, false, false, false, false, false, false, false, false, false, false, false, false, false, false, false, false, true, false, false, false, false, false, false, false, false, false, false, false, false, false, false, false]], \"label\": \"Month 22\", \"method\": \"restyle\"}, {\"args\": [\"visible\", [false, false, false, false, false, false, false, false, false, false, false, false, false, false, false, false, false, false, false, false, false, false, true, false, false, false, false, false, false, false, false, false, false, false, false, false, false]], \"label\": \"Month 23\", \"method\": \"restyle\"}, {\"args\": [\"visible\", [false, false, false, false, false, false, false, false, false, false, false, false, false, false, false, false, false, false, false, false, false, false, false, true, false, false, false, false, false, false, false, false, false, false, false, false, false]], \"label\": \"Month 24\", \"method\": \"restyle\"}, {\"args\": [\"visible\", [false, false, false, false, false, false, false, false, false, false, false, false, false, false, false, false, false, false, false, false, false, false, false, false, true, false, false, false, false, false, false, false, false, false, false, false, false]], \"label\": \"Month 25\", \"method\": \"restyle\"}, {\"args\": [\"visible\", [false, false, false, false, false, false, false, false, false, false, false, false, false, false, false, false, false, false, false, false, false, false, false, false, false, true, false, false, false, false, false, false, false, false, false, false, false]], \"label\": \"Month 26\", \"method\": \"restyle\"}, {\"args\": [\"visible\", [false, false, false, false, false, false, false, false, false, false, false, false, false, false, false, false, false, false, false, false, false, false, false, false, false, false, true, false, false, false, false, false, false, false, false, false, false]], \"label\": \"Month 27\", \"method\": \"restyle\"}, {\"args\": [\"visible\", [false, false, false, false, false, false, false, false, false, false, false, false, false, false, false, false, false, false, false, false, false, false, false, false, false, false, false, true, false, false, false, false, false, false, false, false, false]], \"label\": \"Month 28\", \"method\": \"restyle\"}, {\"args\": [\"visible\", [false, false, false, false, false, false, false, false, false, false, false, false, false, false, false, false, false, false, false, false, false, false, false, false, false, false, false, false, true, false, false, false, false, false, false, false, false]], \"label\": \"Month 29\", \"method\": \"restyle\"}, {\"args\": [\"visible\", [false, false, false, false, false, false, false, false, false, false, false, false, false, false, false, false, false, false, false, false, false, false, false, false, false, false, false, false, false, true, false, false, false, false, false, false, false]], \"label\": \"Month 30\", \"method\": \"restyle\"}, {\"args\": [\"visible\", [false, false, false, false, false, false, false, false, false, false, false, false, false, false, false, false, false, false, false, false, false, false, false, false, false, false, false, false, false, false, true, false, false, false, false, false, false]], \"label\": \"Month 31\", \"method\": \"restyle\"}, {\"args\": [\"visible\", [false, false, false, false, false, false, false, false, false, false, false, false, false, false, false, false, false, false, false, false, false, false, false, false, false, false, false, false, false, false, false, true, false, false, false, false, false]], \"label\": \"Month 32\", \"method\": \"restyle\"}, {\"args\": [\"visible\", [false, false, false, false, false, false, false, false, false, false, false, false, false, false, false, false, false, false, false, false, false, false, false, false, false, false, false, false, false, false, false, false, true, false, false, false, false]], \"label\": \"Month 33\", \"method\": \"restyle\"}, {\"args\": [\"visible\", [false, false, false, false, false, false, false, false, false, false, false, false, false, false, false, false, false, false, false, false, false, false, false, false, false, false, false, false, false, false, false, false, false, true, false, false, false]], \"label\": \"Month 34\", \"method\": \"restyle\"}, {\"args\": [\"visible\", [false, false, false, false, false, false, false, false, false, false, false, false, false, false, false, false, false, false, false, false, false, false, false, false, false, false, false, false, false, false, false, false, false, false, true, false, false]], \"label\": \"Month 35\", \"method\": \"restyle\"}, {\"args\": [\"visible\", [false, false, false, false, false, false, false, false, false, false, false, false, false, false, false, false, false, false, false, false, false, false, false, false, false, false, false, false, false, false, false, false, false, false, false, true, false]], \"label\": \"Month 36\", \"method\": \"restyle\"}, {\"args\": [\"visible\", [false, false, false, false, false, false, false, false, false, false, false, false, false, false, false, false, false, false, false, false, false, false, false, false, false, false, false, false, false, false, false, false, false, false, false, false, true]], \"label\": \"Month 37\", \"method\": \"restyle\"}], \"y\": 1.5}], \"title\": {\"text\": \"Monthwise Interaction table\"}, \"xaxis\": {\"automargin\": true, \"title\": {\"text\": \"Actor 2\"}}, \"yaxis\": {\"automargin\": true, \"title\": {\"text\": \"Actor 1\"}}}, {\"showLink\": false, \"linkText\": \"Export to plot.ly\", \"plotlyServerURL\": \"https://plot.ly\"})});</script><script type=\"text/javascript\">window.addEventListener(\"resize\", function(){window._Plotly.Plots.resize(document.getElementById(\"8d35397a-99fc-4287-b4b4-c4afe03c63e2\"));});</script>"
      ]
     },
     "metadata": {},
     "output_type": "display_data"
    }
   ],
   "source": [
    "steps = []\n",
    "for i in range(Month_distribution.index.sort_values().max()):\n",
    "    step = dict(\n",
    "                method = 'restyle',  \n",
    "                args = ['visible', [False] * Month_distribution.index.sort_values().max()],\n",
    "                label= 'Month ' + str(i+1)\n",
    "                )\n",
    "    step['args'][1][i] = True # Toggle i'th trace to \"visible\"\n",
    "    steps.append(step)\n",
    "    sliders = [dict(\n",
    "                    active = 0,\n",
    "                    currentvalue = {\"prefix\": \"\"},\n",
    "                    pad = {\"t\": Month_distribution.index.sort_values().max()},\n",
    "                    steps = steps,\n",
    "                    name= 'Month',\n",
    "                    y= 1.5\n",
    "              )]\n",
    "layout = dict(sliders=sliders,\n",
    "              title='Monthwise Interaction table',\n",
    "              autosize=True,\n",
    "              yaxis=go.layout.YAxis(\n",
    "                                    title='Actor 1',\n",
    "                                    automargin=True,\n",
    "                                   ),\n",
    "              xaxis=go.layout.XAxis(\n",
    "                                    title='Actor 2',\n",
    "                                    automargin=True,\n",
    "                                   ),\n",
    "             )\n",
    "fig = dict(data=Slider_data1[0], layout=layout)\n",
    "iplot(fig, filename='Slider 1')"
   ]
  },
  {
   "cell_type": "code",
   "execution_count": 66,
   "metadata": {},
   "outputs": [],
   "source": [
    "#Slider_data2=get_Mapdata_slider(Fatalities_Inter1_2_month,'Fatalities Count')"
   ]
  },
  {
   "cell_type": "code",
   "execution_count": 67,
   "metadata": {},
   "outputs": [],
   "source": [
    "# # steps = []\n",
    "# for i in range(Month_distribution.index.sort_values().max()):\n",
    "#     step = dict(\n",
    "#         method = 'restyle',  \n",
    "#         args = ['visible', [False] * Month_distribution.index.sort_values().max()],\n",
    "#     )\n",
    "#     step['args'][1][i] = True # Toggle i'th trace to \"visible\"\n",
    "#     steps.append(step)\n",
    "#     sliders = [dict(\n",
    "#     active = 10,\n",
    "#     currentvalue = {\"prefix\": \"Month\"},\n",
    "#     pad = {\"t\": Month_distribution.index.sort_values().max()},\n",
    "#     steps = steps\n",
    "# )]\n",
    "# layout = dict(sliders=sliders,\n",
    "#               title='Monthwise Interaction table',\n",
    "#               autosize=True,\n",
    "#               yaxis=go.layout.YAxis(\n",
    "#                                     title='Actor 1',\n",
    "#                                     automargin=True,\n",
    "#                                    ),\n",
    "#               xaxis=go.layout.XAxis(\n",
    "#                                     title='Actor 2',\n",
    "#                                     automargin=True,\n",
    "#                                    ),\n",
    "#              )\n",
    "# fig = dict(data=Slider_data2[0], layout=layout)\n",
    "# iplot(fig, filename='Slider 2')"
   ]
  },
  {
   "cell_type": "code",
   "execution_count": 68,
   "metadata": {},
   "outputs": [],
   "source": [
    "def get_Mapdata_slider2(input_data):\n",
    "    trace=[]\n",
    "    for m in Month_distribution.index.sort_values():\n",
    "             trace.append(go.Bar(\n",
    "                            x=input_data.index,\n",
    "                            y=input_data[m]\n",
    "                                )\n",
    "                          )\n",
    "    return [trace]\n",
    "Slider_data2=get_Mapdata_slider2(State_month)"
   ]
  },
  {
   "cell_type": "code",
   "execution_count": 69,
   "metadata": {},
   "outputs": [
    {
     "data": {
      "application/vnd.plotly.v1+json": {
       "config": {
        "linkText": "Export to plot.ly",
        "plotlyServerURL": "https://plot.ly",
        "showLink": false
       },
       "data": [
        {
         "type": "bar",
         "uid": "14a338fc-b8fe-44f5-8ffb-c0f60a3da75e",
         "x": [
          "Jammu and Kashmir",
          "Punjab",
          "Tamil Nadu",
          "Assam",
          "Uttar Pradesh",
          "Haryana",
          "Karnataka",
          "NCT of Delhi",
          "West Bengal",
          "Odisha",
          "Kerala",
          "Uttarakhand",
          "Manipur",
          "Bihar",
          "Maharashtra",
          "Gujarat",
          "Jharkhand",
          "Andhra Pradesh",
          "Rajasthan",
          "Himachal Pradesh",
          "Chandigarh",
          "Telangana",
          "Madhya Pradesh",
          "Tripura",
          "Chhattisgarh",
          "Puducherry",
          "Meghalaya",
          "Nagaland",
          "Arunachal Pradesh",
          "Goa",
          "Mizoram",
          "Andaman and Nicobar",
          "Sikkim",
          "Daman and Diu",
          "Dadra and Nagar Haveli"
         ],
         "y": [
          0.06914893617021277,
          0.19148936170212766,
          0.07313829787234043,
          0.031914893617021274,
          0.043882978723404256,
          0.08776595744680851,
          0.0398936170212766,
          0.05053191489361702,
          0.026595744680851064,
          0.0199468085106383,
          0.027925531914893616,
          0.11170212765957446,
          0.023936170212765957,
          0.02526595744680851,
          0.031914893617021274,
          0.02127659574468085,
          0.023936170212765957,
          0.009308510638297872,
          0.011968085106382979,
          0.007978723404255319,
          0.014627659574468085,
          0.023936170212765957,
          0.005319148936170213,
          0,
          0.010638297872340425,
          0.0013297872340425532,
          0.010638297872340425,
          0,
          0.0013297872340425532,
          0.0026595744680851063,
          0,
          0,
          0,
          0,
          0
         ]
        },
        {
         "type": "bar",
         "uid": "e8323273-9ecd-4198-88e7-28776da29db7",
         "x": [
          "Jammu and Kashmir",
          "Punjab",
          "Tamil Nadu",
          "Assam",
          "Uttar Pradesh",
          "Haryana",
          "Karnataka",
          "NCT of Delhi",
          "West Bengal",
          "Odisha",
          "Kerala",
          "Uttarakhand",
          "Manipur",
          "Bihar",
          "Maharashtra",
          "Gujarat",
          "Jharkhand",
          "Andhra Pradesh",
          "Rajasthan",
          "Himachal Pradesh",
          "Chandigarh",
          "Telangana",
          "Madhya Pradesh",
          "Tripura",
          "Chhattisgarh",
          "Puducherry",
          "Meghalaya",
          "Nagaland",
          "Arunachal Pradesh",
          "Goa",
          "Mizoram",
          "Andaman and Nicobar",
          "Sikkim",
          "Daman and Diu",
          "Dadra and Nagar Haveli"
         ],
         "y": [
          0.06291706387035272,
          0.14394661582459486,
          0.07816968541468065,
          0.07149666348903717,
          0.05052430886558627,
          0.14871306005719734,
          0.027645376549094377,
          0.04194470924690181,
          0.04003813155386082,
          0.015252621544327931,
          0.014299332697807437,
          0.06291706387035272,
          0.019065776930409915,
          0.030505243088655862,
          0.015252621544327931,
          0.02478551000953289,
          0.02669208770257388,
          0.0076263107721639654,
          0.017159199237368923,
          0.017159199237368923,
          0.027645376549094377,
          0.011439466158245948,
          0.008579599618684462,
          0.008579599618684462,
          0.010486177311725452,
          0.004766444232602479,
          0.0038131553860819827,
          0.0019065776930409914,
          0.0019065776930409914,
          0.0038131553860819827,
          0.0009532888465204957,
          0,
          0,
          0,
          0
         ]
        },
        {
         "type": "bar",
         "uid": "c25dd5f0-aa8c-4e6f-a9ba-f197498e8ca7",
         "x": [
          "Jammu and Kashmir",
          "Punjab",
          "Tamil Nadu",
          "Assam",
          "Uttar Pradesh",
          "Haryana",
          "Karnataka",
          "NCT of Delhi",
          "West Bengal",
          "Odisha",
          "Kerala",
          "Uttarakhand",
          "Manipur",
          "Bihar",
          "Maharashtra",
          "Gujarat",
          "Jharkhand",
          "Andhra Pradesh",
          "Rajasthan",
          "Himachal Pradesh",
          "Chandigarh",
          "Telangana",
          "Madhya Pradesh",
          "Tripura",
          "Chhattisgarh",
          "Puducherry",
          "Meghalaya",
          "Nagaland",
          "Arunachal Pradesh",
          "Goa",
          "Mizoram",
          "Andaman and Nicobar",
          "Sikkim",
          "Daman and Diu",
          "Dadra and Nagar Haveli"
         ],
         "y": [
          0.07468879668049792,
          0.16459197786998617,
          0.07192254495159059,
          0.05532503457814661,
          0.027662517289073305,
          0.022130013831258646,
          0.08852005532503458,
          0.02351313969571231,
          0.04426002766251729,
          0.011065006915629323,
          0.035961272475795295,
          0.10096818810511757,
          0.024896265560165973,
          0.012448132780082987,
          0.03872752420470263,
          0.006915629322268326,
          0.040110650069156296,
          0.02351313969571231,
          0.013831258644536652,
          0.02351313969571231,
          0.02351313969571231,
          0.008298755186721992,
          0.02627939142461964,
          0.0027662517289073307,
          0.015214384508990318,
          0.0013831258644536654,
          0.005532503457814661,
          0.0027662517289073307,
          0.0013831258644536654,
          0.006915629322268326,
          0.0013831258644536654,
          0,
          0,
          0,
          0
         ]
        },
        {
         "type": "bar",
         "uid": "456d80e0-ff1a-4bd4-be5c-051bcd865925",
         "x": [
          "Jammu and Kashmir",
          "Punjab",
          "Tamil Nadu",
          "Assam",
          "Uttar Pradesh",
          "Haryana",
          "Karnataka",
          "NCT of Delhi",
          "West Bengal",
          "Odisha",
          "Kerala",
          "Uttarakhand",
          "Manipur",
          "Bihar",
          "Maharashtra",
          "Gujarat",
          "Jharkhand",
          "Andhra Pradesh",
          "Rajasthan",
          "Himachal Pradesh",
          "Chandigarh",
          "Telangana",
          "Madhya Pradesh",
          "Tripura",
          "Chhattisgarh",
          "Puducherry",
          "Meghalaya",
          "Nagaland",
          "Arunachal Pradesh",
          "Goa",
          "Mizoram",
          "Andaman and Nicobar",
          "Sikkim",
          "Daman and Diu",
          "Dadra and Nagar Haveli"
         ],
         "y": [
          0.05761843790012804,
          0.16261203585147246,
          0.08194622279129321,
          0.046094750320102434,
          0.04225352112676056,
          0.05121638924455826,
          0.0499359795134443,
          0.04481434058898848,
          0.16645326504481434,
          0.030729833546734954,
          0.01792573623559539,
          0.014084507042253521,
          0.03329065300896287,
          0.023047375160051217,
          0.014084507042253521,
          0.019206145966709345,
          0.05505761843790013,
          0.011523687580025609,
          0.008962868117797696,
          0.019206145966709345,
          0.016645326504481434,
          0.010243277848911651,
          0.005121638924455826,
          0.002560819462227913,
          0.002560819462227913,
          0,
          0.0012804097311139564,
          0.002560819462227913,
          0.002560819462227913,
          0.006402048655569782,
          0,
          0,
          0,
          0,
          0
         ]
        },
        {
         "type": "bar",
         "uid": "abad6fd5-76b6-43b4-aa62-e32fe4532333",
         "x": [
          "Jammu and Kashmir",
          "Punjab",
          "Tamil Nadu",
          "Assam",
          "Uttar Pradesh",
          "Haryana",
          "Karnataka",
          "NCT of Delhi",
          "West Bengal",
          "Odisha",
          "Kerala",
          "Uttarakhand",
          "Manipur",
          "Bihar",
          "Maharashtra",
          "Gujarat",
          "Jharkhand",
          "Andhra Pradesh",
          "Rajasthan",
          "Himachal Pradesh",
          "Chandigarh",
          "Telangana",
          "Madhya Pradesh",
          "Tripura",
          "Chhattisgarh",
          "Puducherry",
          "Meghalaya",
          "Nagaland",
          "Arunachal Pradesh",
          "Goa",
          "Mizoram",
          "Andaman and Nicobar",
          "Sikkim",
          "Daman and Diu",
          "Dadra and Nagar Haveli"
         ],
         "y": [
          0.07884231536926148,
          0.19261477045908185,
          0.046906187624750496,
          0.038922155688622756,
          0.033932135728542916,
          0.06686626746506986,
          0.027944111776447105,
          0.043912175648702596,
          0.07285429141716566,
          0.023952095808383235,
          0.020958083832335328,
          0.04890219560878244,
          0.05588822355289421,
          0.03592814371257485,
          0.011976047904191617,
          0.013972055888223553,
          0.029940119760479042,
          0.03493013972055888,
          0.020958083832335328,
          0.018962075848303395,
          0.02594810379241517,
          0.015968063872255488,
          0.015968063872255488,
          0.00499001996007984,
          0.006986027944111776,
          0.0029940119760479044,
          0.001996007984031936,
          0.000998003992015968,
          0.001996007984031936,
          0.0029940119760479044,
          0,
          0,
          0,
          0,
          0
         ]
        },
        {
         "type": "bar",
         "uid": "39885b16-fe74-442d-9755-775623cb84ee",
         "x": [
          "Jammu and Kashmir",
          "Punjab",
          "Tamil Nadu",
          "Assam",
          "Uttar Pradesh",
          "Haryana",
          "Karnataka",
          "NCT of Delhi",
          "West Bengal",
          "Odisha",
          "Kerala",
          "Uttarakhand",
          "Manipur",
          "Bihar",
          "Maharashtra",
          "Gujarat",
          "Jharkhand",
          "Andhra Pradesh",
          "Rajasthan",
          "Himachal Pradesh",
          "Chandigarh",
          "Telangana",
          "Madhya Pradesh",
          "Tripura",
          "Chhattisgarh",
          "Puducherry",
          "Meghalaya",
          "Nagaland",
          "Arunachal Pradesh",
          "Goa",
          "Mizoram",
          "Andaman and Nicobar",
          "Sikkim",
          "Daman and Diu",
          "Dadra and Nagar Haveli"
         ],
         "y": [
          0.13097199341021418,
          0.214168039538715,
          0.04118616144975288,
          0.022240527182866558,
          0.05354200988467875,
          0.09308072487644152,
          0.05683690280065898,
          0.04118616144975288,
          0.012355848434925865,
          0.015650741350906095,
          0.0214168039538715,
          0.06342668863261944,
          0.03542009884678748,
          0.008237232289950576,
          0.015650741350906095,
          0.027182866556836903,
          0.028830313014827018,
          0.016474464579901153,
          0.02471169686985173,
          0.02800658978583196,
          0.009884678747940691,
          0.013179571663920923,
          0.013179571663920923,
          0.002471169686985173,
          0.0032948929159802307,
          0.002471169686985173,
          0.0032948929159802307,
          0,
          0.0008237232289950577,
          0.0008237232289950577,
          0,
          0,
          0,
          0,
          0
         ]
        },
        {
         "type": "bar",
         "uid": "5d6ca2de-852d-4aff-880b-6a4fb612c6e9",
         "x": [
          "Jammu and Kashmir",
          "Punjab",
          "Tamil Nadu",
          "Assam",
          "Uttar Pradesh",
          "Haryana",
          "Karnataka",
          "NCT of Delhi",
          "West Bengal",
          "Odisha",
          "Kerala",
          "Uttarakhand",
          "Manipur",
          "Bihar",
          "Maharashtra",
          "Gujarat",
          "Jharkhand",
          "Andhra Pradesh",
          "Rajasthan",
          "Himachal Pradesh",
          "Chandigarh",
          "Telangana",
          "Madhya Pradesh",
          "Tripura",
          "Chhattisgarh",
          "Puducherry",
          "Meghalaya",
          "Nagaland",
          "Arunachal Pradesh",
          "Goa",
          "Mizoram",
          "Andaman and Nicobar",
          "Sikkim",
          "Daman and Diu",
          "Dadra and Nagar Haveli"
         ],
         "y": [
          0.2005842259006816,
          0.12171372930866602,
          0.04771178188899708,
          0.03213242453748783,
          0.0798442064264849,
          0.044790652385589096,
          0.06621226874391431,
          0.04771178188899708,
          0.008763388510223954,
          0.029211295034079845,
          0.01557935735150925,
          0.05939629990262902,
          0.01557935735150925,
          0.009737098344693282,
          0.007789678675754625,
          0.10418695228821812,
          0.017526777020447908,
          0.01557935735150925,
          0.01557935735150925,
          0.02044790652385589,
          0.013631937682570594,
          0.005842259006815969,
          0.0019474196689386564,
          0.010710808179162609,
          0.0029211295034079843,
          0.0038948393378773127,
          0,
          0.0009737098344693282,
          0,
          0,
          0,
          0,
          0,
          0,
          0
         ]
        },
        {
         "type": "bar",
         "uid": "6fcec6f9-a057-455e-ba64-efe4e669ffd8",
         "x": [
          "Jammu and Kashmir",
          "Punjab",
          "Tamil Nadu",
          "Assam",
          "Uttar Pradesh",
          "Haryana",
          "Karnataka",
          "NCT of Delhi",
          "West Bengal",
          "Odisha",
          "Kerala",
          "Uttarakhand",
          "Manipur",
          "Bihar",
          "Maharashtra",
          "Gujarat",
          "Jharkhand",
          "Andhra Pradesh",
          "Rajasthan",
          "Himachal Pradesh",
          "Chandigarh",
          "Telangana",
          "Madhya Pradesh",
          "Tripura",
          "Chhattisgarh",
          "Puducherry",
          "Meghalaya",
          "Nagaland",
          "Arunachal Pradesh",
          "Goa",
          "Mizoram",
          "Andaman and Nicobar",
          "Sikkim",
          "Daman and Diu",
          "Dadra and Nagar Haveli"
         ],
         "y": [
          0.2252173913043478,
          0.10869565217391304,
          0.06608695652173913,
          0.0391304347826087,
          0.08260869565217391,
          0.05565217391304348,
          0.04,
          0.04,
          0.0052173913043478265,
          0.03739130434782609,
          0.00782608695652174,
          0.05304347826086957,
          0.05304347826086957,
          0.018260869565217393,
          0.009565217391304347,
          0.03739130434782609,
          0.020869565217391306,
          0.0026086956521739132,
          0.023478260869565216,
          0.02,
          0.020869565217391306,
          0.0026086956521739132,
          0.004347826086956522,
          0.006956521739130435,
          0.00608695652173913,
          0.0052173913043478265,
          0.0017391304347826088,
          0.0026086956521739132,
          0.0017391304347826088,
          0.0008695652173913044,
          0.0008695652173913044,
          0,
          0,
          0,
          0
         ]
        },
        {
         "type": "bar",
         "uid": "1eaf8f88-cc65-4d51-a5a7-18f04deb5110",
         "x": [
          "Jammu and Kashmir",
          "Punjab",
          "Tamil Nadu",
          "Assam",
          "Uttar Pradesh",
          "Haryana",
          "Karnataka",
          "NCT of Delhi",
          "West Bengal",
          "Odisha",
          "Kerala",
          "Uttarakhand",
          "Manipur",
          "Bihar",
          "Maharashtra",
          "Gujarat",
          "Jharkhand",
          "Andhra Pradesh",
          "Rajasthan",
          "Himachal Pradesh",
          "Chandigarh",
          "Telangana",
          "Madhya Pradesh",
          "Tripura",
          "Chhattisgarh",
          "Puducherry",
          "Meghalaya",
          "Nagaland",
          "Arunachal Pradesh",
          "Goa",
          "Mizoram",
          "Andaman and Nicobar",
          "Sikkim",
          "Daman and Diu",
          "Dadra and Nagar Haveli"
         ],
         "y": [
          0.2377332411886662,
          0.17899101589495509,
          0.04284727021423635,
          0.042156185210780926,
          0.0635798203178991,
          0.046993780234968904,
          0.06219765031098825,
          0.04630269523151347,
          0.013130615065653075,
          0.020041465100207326,
          0.008984105044920525,
          0.04008293020041465,
          0.019350380096751902,
          0.013130615065653075,
          0.013130615065653075,
          0.019350380096751902,
          0.020041465100207326,
          0.0048375950241879755,
          0.026952315134761574,
          0.019350380096751902,
          0.022805805114029024,
          0.00138217000691085,
          0.00414651002073255,
          0.006910850034554251,
          0.009675190048375951,
          0.006219765031098825,
          0.00414651002073255,
          0.000691085003455425,
          0.00138217000691085,
          0.002073255010366275,
          0.000691085003455425,
          0,
          0.000691085003455425,
          0,
          0
         ]
        },
        {
         "type": "bar",
         "uid": "d7def014-4485-4ae3-b633-88fed1dbeabf",
         "x": [
          "Jammu and Kashmir",
          "Punjab",
          "Tamil Nadu",
          "Assam",
          "Uttar Pradesh",
          "Haryana",
          "Karnataka",
          "NCT of Delhi",
          "West Bengal",
          "Odisha",
          "Kerala",
          "Uttarakhand",
          "Manipur",
          "Bihar",
          "Maharashtra",
          "Gujarat",
          "Jharkhand",
          "Andhra Pradesh",
          "Rajasthan",
          "Himachal Pradesh",
          "Chandigarh",
          "Telangana",
          "Madhya Pradesh",
          "Tripura",
          "Chhattisgarh",
          "Puducherry",
          "Meghalaya",
          "Nagaland",
          "Arunachal Pradesh",
          "Goa",
          "Mizoram",
          "Andaman and Nicobar",
          "Sikkim",
          "Daman and Diu",
          "Dadra and Nagar Haveli"
         ],
         "y": [
          0.2331055429005315,
          0.14654517843583903,
          0.04555808656036447,
          0.018982536066818528,
          0.04935459377372817,
          0.06150341685649203,
          0.02050113895216401,
          0.058466211085801065,
          0.019741837509491267,
          0.02050113895216401,
          0.0425208807896735,
          0.0774487471526196,
          0.03492786636294609,
          0.010630220197418374,
          0.02885345482156416,
          0.0387243735763098,
          0.022779043280182234,
          0,
          0.015945330296127564,
          0.01366742596810934,
          0.010630220197418374,
          0.006074411541381929,
          0.002277904328018223,
          0.0030372057706909645,
          0.005315110098709187,
          0.004555808656036446,
          0.0037965072133637054,
          0.0015186028853454822,
          0,
          0.002277904328018223,
          0.0007593014426727411,
          0,
          0,
          0,
          0
         ]
        },
        {
         "type": "bar",
         "uid": "235d0c3b-687a-40ad-89dd-bbfc8b8bba97",
         "x": [
          "Jammu and Kashmir",
          "Punjab",
          "Tamil Nadu",
          "Assam",
          "Uttar Pradesh",
          "Haryana",
          "Karnataka",
          "NCT of Delhi",
          "West Bengal",
          "Odisha",
          "Kerala",
          "Uttarakhand",
          "Manipur",
          "Bihar",
          "Maharashtra",
          "Gujarat",
          "Jharkhand",
          "Andhra Pradesh",
          "Rajasthan",
          "Himachal Pradesh",
          "Chandigarh",
          "Telangana",
          "Madhya Pradesh",
          "Tripura",
          "Chhattisgarh",
          "Puducherry",
          "Meghalaya",
          "Nagaland",
          "Arunachal Pradesh",
          "Goa",
          "Mizoram",
          "Andaman and Nicobar",
          "Sikkim",
          "Daman and Diu",
          "Dadra and Nagar Haveli"
         ],
         "y": [
          0.16919575113808802,
          0.20409711684370258,
          0.038694992412746584,
          0.0409711684370258,
          0.061456752655538696,
          0.03793626707132018,
          0.0409711684370258,
          0.04704097116843703,
          0.02276176024279211,
          0.014415781487101669,
          0.02276176024279211,
          0.05083459787556904,
          0.044764795144157814,
          0.02503793626707132,
          0.010622154779969651,
          0.051593323216995446,
          0.03414264036418816,
          0.0037936267071320183,
          0.012898330804248861,
          0.013657056145675266,
          0.006828528072837633,
          0.005311077389984826,
          0.007587253414264037,
          0.0030349013657056147,
          0.012898330804248861,
          0.004552352048558422,
          0.004552352048558422,
          0.0015174506828528073,
          0.0015174506828528073,
          0.004552352048558422,
          0,
          0,
          0,
          0,
          0
         ]
        },
        {
         "type": "bar",
         "uid": "cd36f2e2-54b2-465d-860a-3ed4f4a2919b",
         "x": [
          "Jammu and Kashmir",
          "Punjab",
          "Tamil Nadu",
          "Assam",
          "Uttar Pradesh",
          "Haryana",
          "Karnataka",
          "NCT of Delhi",
          "West Bengal",
          "Odisha",
          "Kerala",
          "Uttarakhand",
          "Manipur",
          "Bihar",
          "Maharashtra",
          "Gujarat",
          "Jharkhand",
          "Andhra Pradesh",
          "Rajasthan",
          "Himachal Pradesh",
          "Chandigarh",
          "Telangana",
          "Madhya Pradesh",
          "Tripura",
          "Chhattisgarh",
          "Puducherry",
          "Meghalaya",
          "Nagaland",
          "Arunachal Pradesh",
          "Goa",
          "Mizoram",
          "Andaman and Nicobar",
          "Sikkim",
          "Daman and Diu",
          "Dadra and Nagar Haveli"
         ],
         "y": [
          0.14760914760914762,
          0.20374220374220375,
          0.058212058212058215,
          0.028066528066528068,
          0.0841995841995842,
          0.04158004158004158,
          0.02494802494802495,
          0.057172557172557176,
          0.028066528066528068,
          0.010395010395010396,
          0.02598752598752599,
          0.06652806652806653,
          0.04781704781704782,
          0.009355509355509356,
          0.017671517671517672,
          0.031185031185031187,
          0.028066528066528068,
          0.010395010395010396,
          0.02494802494802495,
          0.007276507276507277,
          0.004158004158004158,
          0.004158004158004158,
          0.005197505197505198,
          0.006237006237006237,
          0.007276507276507277,
          0.0010395010395010396,
          0.002079002079002079,
          0.007276507276507277,
          0.005197505197505198,
          0.004158004158004158,
          0,
          0,
          0,
          0,
          0
         ]
        },
        {
         "type": "bar",
         "uid": "51be1427-a864-4a02-8a07-edbe381a766f",
         "x": [
          "Jammu and Kashmir",
          "Punjab",
          "Tamil Nadu",
          "Assam",
          "Uttar Pradesh",
          "Haryana",
          "Karnataka",
          "NCT of Delhi",
          "West Bengal",
          "Odisha",
          "Kerala",
          "Uttarakhand",
          "Manipur",
          "Bihar",
          "Maharashtra",
          "Gujarat",
          "Jharkhand",
          "Andhra Pradesh",
          "Rajasthan",
          "Himachal Pradesh",
          "Chandigarh",
          "Telangana",
          "Madhya Pradesh",
          "Tripura",
          "Chhattisgarh",
          "Puducherry",
          "Meghalaya",
          "Nagaland",
          "Arunachal Pradesh",
          "Goa",
          "Mizoram",
          "Andaman and Nicobar",
          "Sikkim",
          "Daman and Diu",
          "Dadra and Nagar Haveli"
         ],
         "y": [
          0.09801031687546058,
          0.09948415622697127,
          0.19749447310243184,
          0.039056742815033164,
          0.05747973470891673,
          0.05821665438467207,
          0.017686072218128224,
          0.045689019896831246,
          0.04200442151805453,
          0.0058953574060427415,
          0.032424465733235076,
          0.022844509948415623,
          0.025792188651436992,
          0.017686072218128224,
          0.03610906411201179,
          0.026529108327192335,
          0.01694915254237288,
          0.012527634487840826,
          0.023581429624170966,
          0.006632277081798084,
          0.021370670596904937,
          0.006632277081798084,
          0.04642593957258659,
          0.006632277081798084,
          0.008106116433308769,
          0.012527634487840826,
          0.0036845983787767134,
          0.0058953574060427415,
          0.0036845983787767134,
          0.0014738393515106854,
          0,
          0.0014738393515106854,
          0,
          0,
          0
         ]
        },
        {
         "type": "bar",
         "uid": "00d45d20-52cb-4791-9740-5cdbb574ae22",
         "x": [
          "Jammu and Kashmir",
          "Punjab",
          "Tamil Nadu",
          "Assam",
          "Uttar Pradesh",
          "Haryana",
          "Karnataka",
          "NCT of Delhi",
          "West Bengal",
          "Odisha",
          "Kerala",
          "Uttarakhand",
          "Manipur",
          "Bihar",
          "Maharashtra",
          "Gujarat",
          "Jharkhand",
          "Andhra Pradesh",
          "Rajasthan",
          "Himachal Pradesh",
          "Chandigarh",
          "Telangana",
          "Madhya Pradesh",
          "Tripura",
          "Chhattisgarh",
          "Puducherry",
          "Meghalaya",
          "Nagaland",
          "Arunachal Pradesh",
          "Goa",
          "Mizoram",
          "Andaman and Nicobar",
          "Sikkim",
          "Daman and Diu",
          "Dadra and Nagar Haveli"
         ],
         "y": [
          0.1276595744680851,
          0.16,
          0.10212765957446808,
          0.04085106382978723,
          0.06042553191489362,
          0.0748936170212766,
          0.033191489361702124,
          0.06723404255319149,
          0.017872340425531916,
          0.026382978723404255,
          0.020425531914893616,
          0.00851063829787234,
          0.03489361702127659,
          0.029787234042553193,
          0.020425531914893616,
          0.03404255319148936,
          0.01446808510638298,
          0.011914893617021277,
          0.02723404255319149,
          0.016170212765957447,
          0.011063829787234043,
          0.009361702127659575,
          0.00851063829787234,
          0.005957446808510639,
          0.01702127659574468,
          0.007659574468085106,
          0.000851063829787234,
          0.006808510638297872,
          0.001702127659574468,
          0.000851063829787234,
          0.001702127659574468,
          0,
          0,
          0,
          0
         ]
        },
        {
         "type": "bar",
         "uid": "02fa5054-d87e-49d2-81f2-097859e23224",
         "x": [
          "Jammu and Kashmir",
          "Punjab",
          "Tamil Nadu",
          "Assam",
          "Uttar Pradesh",
          "Haryana",
          "Karnataka",
          "NCT of Delhi",
          "West Bengal",
          "Odisha",
          "Kerala",
          "Uttarakhand",
          "Manipur",
          "Bihar",
          "Maharashtra",
          "Gujarat",
          "Jharkhand",
          "Andhra Pradesh",
          "Rajasthan",
          "Himachal Pradesh",
          "Chandigarh",
          "Telangana",
          "Madhya Pradesh",
          "Tripura",
          "Chhattisgarh",
          "Puducherry",
          "Meghalaya",
          "Nagaland",
          "Arunachal Pradesh",
          "Goa",
          "Mizoram",
          "Andaman and Nicobar",
          "Sikkim",
          "Daman and Diu",
          "Dadra and Nagar Haveli"
         ],
         "y": [
          0.1363973313565604,
          0.11415863602668644,
          0.17272053372868792,
          0.05856189770200148,
          0.05856189770200148,
          0.05559673832468495,
          0.042994810971089696,
          0.031134173461823574,
          0.018532246108228317,
          0.008895478131949592,
          0.028910303928836176,
          0.03039288361749444,
          0.028169014084507043,
          0.018532246108228317,
          0.02001482579688658,
          0.03261675315048184,
          0.011860637509266123,
          0.01927353595255745,
          0.025203854707190512,
          0.014084507042253521,
          0.014084507042253521,
          0.014825796886582653,
          0.005189028910303929,
          0.014084507042253521,
          0.007412898443291327,
          0.009636767976278725,
          0.0029651593773165306,
          0.002223869532987398,
          0,
          0.0029651593773165306,
          0,
          0,
          0,
          0,
          0
         ]
        },
        {
         "type": "bar",
         "uid": "d13420cb-b148-4282-afd1-274baaf0d7ee",
         "x": [
          "Jammu and Kashmir",
          "Punjab",
          "Tamil Nadu",
          "Assam",
          "Uttar Pradesh",
          "Haryana",
          "Karnataka",
          "NCT of Delhi",
          "West Bengal",
          "Odisha",
          "Kerala",
          "Uttarakhand",
          "Manipur",
          "Bihar",
          "Maharashtra",
          "Gujarat",
          "Jharkhand",
          "Andhra Pradesh",
          "Rajasthan",
          "Himachal Pradesh",
          "Chandigarh",
          "Telangana",
          "Madhya Pradesh",
          "Tripura",
          "Chhattisgarh",
          "Puducherry",
          "Meghalaya",
          "Nagaland",
          "Arunachal Pradesh",
          "Goa",
          "Mizoram",
          "Andaman and Nicobar",
          "Sikkim",
          "Daman and Diu",
          "Dadra and Nagar Haveli"
         ],
         "y": [
          0.16129032258064516,
          0.12981904012588513,
          0.12431156569630213,
          0.024390243902439025,
          0.11408339889850512,
          0.06372934697088907,
          0.014162077104642014,
          0.01888276947285602,
          0.03540519276160504,
          0.010228166797797011,
          0.015735641227380016,
          0.044059795436664044,
          0.016522423288749016,
          0.01966955153422502,
          0.007867820613690008,
          0.01888276947285602,
          0.025177025963808025,
          0.011801730920535013,
          0.03225806451612903,
          0.03461841070023604,
          0.021243115656963022,
          0.024390243902439025,
          0.010228166797797011,
          0.003933910306845004,
          0.003933910306845004,
          0.004720692368214005,
          0.004720692368214005,
          0,
          0.0015735641227380016,
          0,
          0.0007867820613690008,
          0.0007867820613690008,
          0,
          0.0007867820613690008,
          0
         ]
        },
        {
         "type": "bar",
         "uid": "75dc0533-cf0a-46df-a9d0-24a5e89a5532",
         "x": [
          "Jammu and Kashmir",
          "Punjab",
          "Tamil Nadu",
          "Assam",
          "Uttar Pradesh",
          "Haryana",
          "Karnataka",
          "NCT of Delhi",
          "West Bengal",
          "Odisha",
          "Kerala",
          "Uttarakhand",
          "Manipur",
          "Bihar",
          "Maharashtra",
          "Gujarat",
          "Jharkhand",
          "Andhra Pradesh",
          "Rajasthan",
          "Himachal Pradesh",
          "Chandigarh",
          "Telangana",
          "Madhya Pradesh",
          "Tripura",
          "Chhattisgarh",
          "Puducherry",
          "Meghalaya",
          "Nagaland",
          "Arunachal Pradesh",
          "Goa",
          "Mizoram",
          "Andaman and Nicobar",
          "Sikkim",
          "Daman and Diu",
          "Dadra and Nagar Haveli"
         ],
         "y": [
          0.25165562913907286,
          0.12298959318826869,
          0.07757805108798486,
          0.036896877956480605,
          0.07757805108798486,
          0.07095553453169347,
          0.021759697256385997,
          0.019867549668874173,
          0.023651844843897825,
          0.014191106906338695,
          0.03216650898770104,
          0.014191106906338695,
          0.021759697256385997,
          0.017975402081362345,
          0.011352885525070956,
          0.017975402081362345,
          0.020813623462630087,
          0.01608325449385052,
          0.020813623462630087,
          0.03122043519394513,
          0.017975402081362345,
          0.019867549668874173,
          0.005676442762535478,
          0.00946073793755913,
          0.007568590350047304,
          0.00946073793755913,
          0.003784295175023652,
          0,
          0,
          0.003784295175023652,
          0,
          0,
          0,
          0,
          0.000946073793755913
         ]
        },
        {
         "type": "bar",
         "uid": "95321444-eed2-4c9f-aa39-4756d9ec2fe5",
         "x": [
          "Jammu and Kashmir",
          "Punjab",
          "Tamil Nadu",
          "Assam",
          "Uttar Pradesh",
          "Haryana",
          "Karnataka",
          "NCT of Delhi",
          "West Bengal",
          "Odisha",
          "Kerala",
          "Uttarakhand",
          "Manipur",
          "Bihar",
          "Maharashtra",
          "Gujarat",
          "Jharkhand",
          "Andhra Pradesh",
          "Rajasthan",
          "Himachal Pradesh",
          "Chandigarh",
          "Telangana",
          "Madhya Pradesh",
          "Tripura",
          "Chhattisgarh",
          "Puducherry",
          "Meghalaya",
          "Nagaland",
          "Arunachal Pradesh",
          "Goa",
          "Mizoram",
          "Andaman and Nicobar",
          "Sikkim",
          "Daman and Diu",
          "Dadra and Nagar Haveli"
         ],
         "y": [
          0.20826306913996628,
          0.13069139966273188,
          0.06239460370994941,
          0.03456998313659359,
          0.0699831365935919,
          0.0657672849915683,
          0.03288364249578415,
          0.016863406408094434,
          0.04300168634064081,
          0.07082630691399663,
          0.01433389544688027,
          0.024451939291736932,
          0.006745362563237774,
          0.0193929173693086,
          0.013490725126475547,
          0.03794266441821248,
          0.01011804384485666,
          0.01517706576728499,
          0.025295109612141653,
          0.010961214165261383,
          0.01011804384485666,
          0.006745362563237774,
          0.022765598650927487,
          0.006745362563237774,
          0.023608768971332208,
          0.005902192242833052,
          0.006745362563237774,
          0.0008431703204047217,
          0.0016863406408094434,
          0.0008431703204047217,
          0.0008431703204047217,
          0,
          0,
          0,
          0
         ]
        },
        {
         "type": "bar",
         "uid": "2f850895-32f5-41f7-be72-4cff79afa8b4",
         "x": [
          "Jammu and Kashmir",
          "Punjab",
          "Tamil Nadu",
          "Assam",
          "Uttar Pradesh",
          "Haryana",
          "Karnataka",
          "NCT of Delhi",
          "West Bengal",
          "Odisha",
          "Kerala",
          "Uttarakhand",
          "Manipur",
          "Bihar",
          "Maharashtra",
          "Gujarat",
          "Jharkhand",
          "Andhra Pradesh",
          "Rajasthan",
          "Himachal Pradesh",
          "Chandigarh",
          "Telangana",
          "Madhya Pradesh",
          "Tripura",
          "Chhattisgarh",
          "Puducherry",
          "Meghalaya",
          "Nagaland",
          "Arunachal Pradesh",
          "Goa",
          "Mizoram",
          "Andaman and Nicobar",
          "Sikkim",
          "Daman and Diu",
          "Dadra and Nagar Haveli"
         ],
         "y": [
          0.17509727626459143,
          0.1293774319066148,
          0.04182879377431906,
          0.07295719844357977,
          0.10116731517509728,
          0.04571984435797665,
          0.04474708171206226,
          0.042801556420233464,
          0.06031128404669261,
          0.0048638132295719845,
          0.02821011673151751,
          0.011673151750972763,
          0.02529182879377432,
          0.02821011673151751,
          0.007782101167315175,
          0.029182879377431907,
          0.010700389105058366,
          0.01848249027237354,
          0.024319066147859923,
          0.04961089494163424,
          0.007782101167315175,
          0.011673151750972763,
          0.005836575875486381,
          0.006809338521400778,
          0,
          0.0048638132295719845,
          0.0048638132295719845,
          0.0048638132295719845,
          0.0009727626459143969,
          0,
          0,
          0,
          0,
          0,
          0
         ]
        },
        {
         "type": "bar",
         "uid": "be3062db-b0a1-47cd-84f5-62b478a90557",
         "x": [
          "Jammu and Kashmir",
          "Punjab",
          "Tamil Nadu",
          "Assam",
          "Uttar Pradesh",
          "Haryana",
          "Karnataka",
          "NCT of Delhi",
          "West Bengal",
          "Odisha",
          "Kerala",
          "Uttarakhand",
          "Manipur",
          "Bihar",
          "Maharashtra",
          "Gujarat",
          "Jharkhand",
          "Andhra Pradesh",
          "Rajasthan",
          "Himachal Pradesh",
          "Chandigarh",
          "Telangana",
          "Madhya Pradesh",
          "Tripura",
          "Chhattisgarh",
          "Puducherry",
          "Meghalaya",
          "Nagaland",
          "Arunachal Pradesh",
          "Goa",
          "Mizoram",
          "Andaman and Nicobar",
          "Sikkim",
          "Daman and Diu",
          "Dadra and Nagar Haveli"
         ],
         "y": [
          0.1342685370741483,
          0.1342685370741483,
          0.06012024048096192,
          0.14729458917835672,
          0.0781563126252505,
          0.04308617234468938,
          0.056112224448897796,
          0.026052104208416832,
          0.02004008016032064,
          0.05811623246492986,
          0.026052104208416832,
          0.01002004008016032,
          0.027054108216432865,
          0.017034068136272545,
          0.018036072144288578,
          0.003006012024048096,
          0.00501002004008016,
          0.014028056112224449,
          0.0070140280561122245,
          0.04208416833667335,
          0.021042084168336674,
          0.01603206412825651,
          0.004008016032064128,
          0.0070140280561122245,
          0.002004008016032064,
          0.01002004008016032,
          0.009018036072144289,
          0.002004008016032064,
          0,
          0,
          0.002004008016032064,
          0,
          0,
          0,
          0
         ]
        },
        {
         "type": "bar",
         "uid": "501ddc8b-d650-4b77-9780-4e51175c3fec",
         "x": [
          "Jammu and Kashmir",
          "Punjab",
          "Tamil Nadu",
          "Assam",
          "Uttar Pradesh",
          "Haryana",
          "Karnataka",
          "NCT of Delhi",
          "West Bengal",
          "Odisha",
          "Kerala",
          "Uttarakhand",
          "Manipur",
          "Bihar",
          "Maharashtra",
          "Gujarat",
          "Jharkhand",
          "Andhra Pradesh",
          "Rajasthan",
          "Himachal Pradesh",
          "Chandigarh",
          "Telangana",
          "Madhya Pradesh",
          "Tripura",
          "Chhattisgarh",
          "Puducherry",
          "Meghalaya",
          "Nagaland",
          "Arunachal Pradesh",
          "Goa",
          "Mizoram",
          "Andaman and Nicobar",
          "Sikkim",
          "Daman and Diu",
          "Dadra and Nagar Haveli"
         ],
         "y": [
          0.16390041493775934,
          0.08921161825726141,
          0.11203319502074689,
          0.12655601659751037,
          0.06327800829875518,
          0.03319502074688797,
          0.0487551867219917,
          0.02074688796680498,
          0.02074688796680498,
          0.046680497925311204,
          0.02074688796680498,
          0.024896265560165973,
          0.03319502074688797,
          0.01867219917012448,
          0.011410788381742738,
          0.004149377593360996,
          0.017634854771784232,
          0.023858921161825725,
          0.01867219917012448,
          0.016597510373443983,
          0.007261410788381743,
          0.012448132780082987,
          0.007261410788381743,
          0.016597510373443983,
          0.01037344398340249,
          0.014522821576763486,
          0.006224066390041493,
          0.002074688796680498,
          0.004149377593360996,
          0.002074688796680498,
          0.001037344398340249,
          0.001037344398340249,
          0,
          0,
          0
         ]
        },
        {
         "type": "bar",
         "uid": "1e4feb0a-4bbf-4adc-ab53-f755b43bb78e",
         "x": [
          "Jammu and Kashmir",
          "Punjab",
          "Tamil Nadu",
          "Assam",
          "Uttar Pradesh",
          "Haryana",
          "Karnataka",
          "NCT of Delhi",
          "West Bengal",
          "Odisha",
          "Kerala",
          "Uttarakhand",
          "Manipur",
          "Bihar",
          "Maharashtra",
          "Gujarat",
          "Jharkhand",
          "Andhra Pradesh",
          "Rajasthan",
          "Himachal Pradesh",
          "Chandigarh",
          "Telangana",
          "Madhya Pradesh",
          "Tripura",
          "Chhattisgarh",
          "Puducherry",
          "Meghalaya",
          "Nagaland",
          "Arunachal Pradesh",
          "Goa",
          "Mizoram",
          "Andaman and Nicobar",
          "Sikkim",
          "Daman and Diu",
          "Dadra and Nagar Haveli"
         ],
         "y": [
          0.27236315086782376,
          0.08678237650200267,
          0.044058744993324434,
          0.09746328437917223,
          0.029372496662216287,
          0.01602136181575434,
          0.04005340453938585,
          0.009345794392523364,
          0.03204272363150868,
          0.0026702269692923898,
          0.05740987983978638,
          0.00801068090787717,
          0.014686248331108143,
          0.07209612817089453,
          0.044058744993324434,
          0.00801068090787717,
          0.04138851802403204,
          0.02403204272363151,
          0.018691588785046728,
          0.0026702269692923898,
          0.006675567423230975,
          0.017356475300400534,
          0.03471295060080107,
          0.004005340453938585,
          0.0026702269692923898,
          0.006675567423230975,
          0.0013351134846461949,
          0.0026702269692923898,
          0.0013351134846461949,
          0.0013351134846461949,
          0,
          0,
          0,
          0,
          0
         ]
        },
        {
         "type": "bar",
         "uid": "ac0d1e75-caef-4c05-a10f-3bdfbffde723",
         "x": [
          "Jammu and Kashmir",
          "Punjab",
          "Tamil Nadu",
          "Assam",
          "Uttar Pradesh",
          "Haryana",
          "Karnataka",
          "NCT of Delhi",
          "West Bengal",
          "Odisha",
          "Kerala",
          "Uttarakhand",
          "Manipur",
          "Bihar",
          "Maharashtra",
          "Gujarat",
          "Jharkhand",
          "Andhra Pradesh",
          "Rajasthan",
          "Himachal Pradesh",
          "Chandigarh",
          "Telangana",
          "Madhya Pradesh",
          "Tripura",
          "Chhattisgarh",
          "Puducherry",
          "Meghalaya",
          "Nagaland",
          "Arunachal Pradesh",
          "Goa",
          "Mizoram",
          "Andaman and Nicobar",
          "Sikkim",
          "Daman and Diu",
          "Dadra and Nagar Haveli"
         ],
         "y": [
          0.17427385892116182,
          0.07053941908713693,
          0.07468879668049792,
          0.14661134163208853,
          0.04564315352697095,
          0.029045643153526972,
          0.05255878284923928,
          0.008298755186721992,
          0.04702627939142462,
          0.015214384508990318,
          0.051175656984785614,
          0.005532503457814661,
          0.02074688796680498,
          0.017980636237897647,
          0.035961272475795295,
          0.013831258644536652,
          0.05532503457814661,
          0.022130013831258646,
          0.015214384508990318,
          0.011065006915629323,
          0.013831258644536652,
          0.005532503457814661,
          0.008298755186721992,
          0.02627939142461964,
          0.0027662517289073307,
          0.016597510373443983,
          0.005532503457814661,
          0,
          0.0013831258644536654,
          0.004149377593360996,
          0.0013831258644536654,
          0,
          0,
          0.0013831258644536654,
          0
         ]
        },
        {
         "type": "bar",
         "uid": "233dff30-b7b2-4c29-9200-9d6d34eb7f5b",
         "x": [
          "Jammu and Kashmir",
          "Punjab",
          "Tamil Nadu",
          "Assam",
          "Uttar Pradesh",
          "Haryana",
          "Karnataka",
          "NCT of Delhi",
          "West Bengal",
          "Odisha",
          "Kerala",
          "Uttarakhand",
          "Manipur",
          "Bihar",
          "Maharashtra",
          "Gujarat",
          "Jharkhand",
          "Andhra Pradesh",
          "Rajasthan",
          "Himachal Pradesh",
          "Chandigarh",
          "Telangana",
          "Madhya Pradesh",
          "Tripura",
          "Chhattisgarh",
          "Puducherry",
          "Meghalaya",
          "Nagaland",
          "Arunachal Pradesh",
          "Goa",
          "Mizoram",
          "Andaman and Nicobar",
          "Sikkim",
          "Daman and Diu",
          "Dadra and Nagar Haveli"
         ],
         "y": [
          0.16952380952380952,
          0.16095238095238096,
          0.054285714285714284,
          0.05523809523809524,
          0.05333333333333334,
          0.054285714285714284,
          0.06857142857142857,
          0.04857142857142857,
          0.01619047619047619,
          0.007619047619047619,
          0.04380952380952381,
          0.017142857142857144,
          0.012380952380952381,
          0.04666666666666667,
          0.01904761904761905,
          0.011428571428571429,
          0.0380952380952381,
          0.013333333333333334,
          0.025714285714285714,
          0.01904761904761905,
          0.009523809523809525,
          0.01619047619047619,
          0.006666666666666667,
          0.013333333333333334,
          0.0038095238095238095,
          0.008571428571428572,
          0,
          0.0009523809523809524,
          0.002857142857142857,
          0.002857142857142857,
          0,
          0,
          0,
          0,
          0
         ]
        },
        {
         "type": "bar",
         "uid": "a4dd4fae-8f21-4dde-9793-3f7caa1de560",
         "x": [
          "Jammu and Kashmir",
          "Punjab",
          "Tamil Nadu",
          "Assam",
          "Uttar Pradesh",
          "Haryana",
          "Karnataka",
          "NCT of Delhi",
          "West Bengal",
          "Odisha",
          "Kerala",
          "Uttarakhand",
          "Manipur",
          "Bihar",
          "Maharashtra",
          "Gujarat",
          "Jharkhand",
          "Andhra Pradesh",
          "Rajasthan",
          "Himachal Pradesh",
          "Chandigarh",
          "Telangana",
          "Madhya Pradesh",
          "Tripura",
          "Chhattisgarh",
          "Puducherry",
          "Meghalaya",
          "Nagaland",
          "Arunachal Pradesh",
          "Goa",
          "Mizoram",
          "Andaman and Nicobar",
          "Sikkim",
          "Daman and Diu",
          "Dadra and Nagar Haveli"
         ],
         "y": [
          0.20530367835757057,
          0.174508126603935,
          0.12660393498716851,
          0.01710863986313088,
          0.06244653550042772,
          0.05218135158254919,
          0.032506415739948676,
          0.032506415739948676,
          0.0213857998289136,
          0.009409751924721984,
          0.0290846877673225,
          0.020530367835757058,
          0.003421727972626176,
          0.016253207869974338,
          0.059880239520958084,
          0.026518391787852865,
          0.0051325919589392645,
          0.016253207869974338,
          0.022241231822070145,
          0.00855431993156544,
          0.01710863986313088,
          0.007698887938408896,
          0.00855431993156544,
          0.006843455945252352,
          0.00855431993156544,
          0.0051325919589392645,
          0.000855431993156544,
          0,
          0.000855431993156544,
          0.001710863986313088,
          0,
          0.000855431993156544,
          0,
          0,
          0
         ]
        },
        {
         "type": "bar",
         "uid": "dab2d2ca-d381-4791-8dff-1404d8e390c2",
         "x": [
          "Jammu and Kashmir",
          "Punjab",
          "Tamil Nadu",
          "Assam",
          "Uttar Pradesh",
          "Haryana",
          "Karnataka",
          "NCT of Delhi",
          "West Bengal",
          "Odisha",
          "Kerala",
          "Uttarakhand",
          "Manipur",
          "Bihar",
          "Maharashtra",
          "Gujarat",
          "Jharkhand",
          "Andhra Pradesh",
          "Rajasthan",
          "Himachal Pradesh",
          "Chandigarh",
          "Telangana",
          "Madhya Pradesh",
          "Tripura",
          "Chhattisgarh",
          "Puducherry",
          "Meghalaya",
          "Nagaland",
          "Arunachal Pradesh",
          "Goa",
          "Mizoram",
          "Andaman and Nicobar",
          "Sikkim",
          "Daman and Diu",
          "Dadra and Nagar Haveli"
         ],
         "y": [
          0.1806020066889632,
          0.1716833890746934,
          0.07246376811594203,
          0.0189520624303233,
          0.030100334448160536,
          0.06577480490523968,
          0.026755852842809364,
          0.06020066889632107,
          0.017837235228539576,
          0.023411371237458192,
          0.033444816053511704,
          0.01560758082497213,
          0.013377926421404682,
          0.014492753623188406,
          0.03121516164994426,
          0.008918617614269788,
          0.010033444816053512,
          0.06800445930880714,
          0.017837235228539576,
          0.022296544035674472,
          0.010033444816053512,
          0.006688963210702341,
          0.005574136008918618,
          0.026755852842809364,
          0.017837235228539576,
          0.0033444816053511705,
          0.010033444816053512,
          0.013377926421404682,
          0.0011148272017837235,
          0.002229654403567447,
          0,
          0,
          0,
          0,
          0
         ]
        },
        {
         "type": "bar",
         "uid": "e030dac4-1624-4b0a-8f29-880bc5f23c8d",
         "x": [
          "Jammu and Kashmir",
          "Punjab",
          "Tamil Nadu",
          "Assam",
          "Uttar Pradesh",
          "Haryana",
          "Karnataka",
          "NCT of Delhi",
          "West Bengal",
          "Odisha",
          "Kerala",
          "Uttarakhand",
          "Manipur",
          "Bihar",
          "Maharashtra",
          "Gujarat",
          "Jharkhand",
          "Andhra Pradesh",
          "Rajasthan",
          "Himachal Pradesh",
          "Chandigarh",
          "Telangana",
          "Madhya Pradesh",
          "Tripura",
          "Chhattisgarh",
          "Puducherry",
          "Meghalaya",
          "Nagaland",
          "Arunachal Pradesh",
          "Goa",
          "Mizoram",
          "Andaman and Nicobar",
          "Sikkim",
          "Daman and Diu",
          "Dadra and Nagar Haveli"
         ],
         "y": [
          0.22536496350364962,
          0.14324817518248176,
          0.16149635036496351,
          0.03923357664233577,
          0.037408759124087594,
          0.03467153284671533,
          0.017335766423357664,
          0.06113138686131387,
          0.028284671532846715,
          0.02737226277372263,
          0.020985401459854013,
          0.014598540145985401,
          0.008211678832116789,
          0.028284671532846715,
          0.025547445255474453,
          0.010036496350364963,
          0.002737226277372263,
          0.040145985401459854,
          0.010036496350364963,
          0.009124087591240875,
          0.017335766423357664,
          0.008211678832116789,
          0.004562043795620438,
          0.006386861313868613,
          0.011861313868613138,
          0.0018248175182481751,
          0,
          0,
          0,
          0.0018248175182481751,
          0.002737226277372263,
          0,
          0,
          0,
          0
         ]
        },
        {
         "type": "bar",
         "uid": "b17e5805-3386-496a-a2e5-844fabc00ffe",
         "x": [
          "Jammu and Kashmir",
          "Punjab",
          "Tamil Nadu",
          "Assam",
          "Uttar Pradesh",
          "Haryana",
          "Karnataka",
          "NCT of Delhi",
          "West Bengal",
          "Odisha",
          "Kerala",
          "Uttarakhand",
          "Manipur",
          "Bihar",
          "Maharashtra",
          "Gujarat",
          "Jharkhand",
          "Andhra Pradesh",
          "Rajasthan",
          "Himachal Pradesh",
          "Chandigarh",
          "Telangana",
          "Madhya Pradesh",
          "Tripura",
          "Chhattisgarh",
          "Puducherry",
          "Meghalaya",
          "Nagaland",
          "Arunachal Pradesh",
          "Goa",
          "Mizoram",
          "Andaman and Nicobar",
          "Sikkim",
          "Daman and Diu",
          "Dadra and Nagar Haveli"
         ],
         "y": [
          0.21641337386018236,
          0.12279635258358662,
          0.1513677811550152,
          0.02857142857142857,
          0.04012158054711246,
          0.031610942249240125,
          0.015197568389057751,
          0.02066869300911854,
          0.060790273556231005,
          0.015197568389057751,
          0.03951367781155015,
          0.01641337386018237,
          0.013373860182370821,
          0.03708206686930091,
          0.015805471124620062,
          0.029787234042553193,
          0.02857142857142857,
          0.03343465045592705,
          0.01641337386018237,
          0.00851063829787234,
          0.015197568389057751,
          0.0060790273556231,
          0.01094224924012158,
          0.00364741641337386,
          0.006686930091185411,
          0.00851063829787234,
          0.0012158054711246201,
          0,
          0.00182370820668693,
          0.0024316109422492403,
          0.0012158054711246201,
          0,
          0.0006079027355623101,
          0,
          0
         ]
        },
        {
         "type": "bar",
         "uid": "441afdea-f424-403d-81ca-133fb2126cb9",
         "x": [
          "Jammu and Kashmir",
          "Punjab",
          "Tamil Nadu",
          "Assam",
          "Uttar Pradesh",
          "Haryana",
          "Karnataka",
          "NCT of Delhi",
          "West Bengal",
          "Odisha",
          "Kerala",
          "Uttarakhand",
          "Manipur",
          "Bihar",
          "Maharashtra",
          "Gujarat",
          "Jharkhand",
          "Andhra Pradesh",
          "Rajasthan",
          "Himachal Pradesh",
          "Chandigarh",
          "Telangana",
          "Madhya Pradesh",
          "Tripura",
          "Chhattisgarh",
          "Puducherry",
          "Meghalaya",
          "Nagaland",
          "Arunachal Pradesh",
          "Goa",
          "Mizoram",
          "Andaman and Nicobar",
          "Sikkim",
          "Daman and Diu",
          "Dadra and Nagar Haveli"
         ],
         "y": [
          0.19719407638347622,
          0.10989867498051442,
          0.12081060015588464,
          0.09197194076383476,
          0.026500389711613406,
          0.04520654715510522,
          0.042868277474668745,
          0.021823850350740453,
          0.0779423226812159,
          0.025720966484801246,
          0.01636788776305534,
          0.005455962587685113,
          0.014809041309431021,
          0.017926734216679657,
          0.01636788776305534,
          0.0171473109898675,
          0.011691348402182385,
          0.027279812938425563,
          0.014029618082618862,
          0.029618082618862042,
          0.013250194855806703,
          0.00857365549493375,
          0.007014809041309431,
          0.011691348402182385,
          0.00857365549493375,
          0.005455962587685113,
          0.006235385814497272,
          0.000779423226812159,
          0.003897116134060795,
          0.003117692907248636,
          0.000779423226812159,
          0,
          0,
          0,
          0
         ]
        },
        {
         "type": "bar",
         "uid": "6d005e18-60e0-40a4-a3bf-2a7b642c3a48",
         "x": [
          "Jammu and Kashmir",
          "Punjab",
          "Tamil Nadu",
          "Assam",
          "Uttar Pradesh",
          "Haryana",
          "Karnataka",
          "NCT of Delhi",
          "West Bengal",
          "Odisha",
          "Kerala",
          "Uttarakhand",
          "Manipur",
          "Bihar",
          "Maharashtra",
          "Gujarat",
          "Jharkhand",
          "Andhra Pradesh",
          "Rajasthan",
          "Himachal Pradesh",
          "Chandigarh",
          "Telangana",
          "Madhya Pradesh",
          "Tripura",
          "Chhattisgarh",
          "Puducherry",
          "Meghalaya",
          "Nagaland",
          "Arunachal Pradesh",
          "Goa",
          "Mizoram",
          "Andaman and Nicobar",
          "Sikkim",
          "Daman and Diu",
          "Dadra and Nagar Haveli"
         ],
         "y": [
          0.21171171171171171,
          0.14684684684684685,
          0.09549549549549549,
          0.05675675675675676,
          0.03063063063063063,
          0.03963963963963964,
          0.05045045045045045,
          0.027927927927927927,
          0.017117117117117116,
          0.016216216216216217,
          0.01981981981981982,
          0.018018018018018018,
          0.014414414414414415,
          0.036936936936936934,
          0.027927927927927927,
          0.03063063063063063,
          0.016216216216216217,
          0.02252252252252252,
          0.02072072072072072,
          0.015315315315315315,
          0.0045045045045045045,
          0.009009009009009009,
          0.024324324324324326,
          0.011711711711711712,
          0.009009009009009009,
          0.0036036036036036037,
          0.013513513513513514,
          0.006306306306306306,
          0.0009009009009009009,
          0.0018018018018018018,
          0,
          0,
          0,
          0,
          0
         ]
        },
        {
         "type": "bar",
         "uid": "84fce32c-2404-4784-8ca0-7c65e0b9fba8",
         "x": [
          "Jammu and Kashmir",
          "Punjab",
          "Tamil Nadu",
          "Assam",
          "Uttar Pradesh",
          "Haryana",
          "Karnataka",
          "NCT of Delhi",
          "West Bengal",
          "Odisha",
          "Kerala",
          "Uttarakhand",
          "Manipur",
          "Bihar",
          "Maharashtra",
          "Gujarat",
          "Jharkhand",
          "Andhra Pradesh",
          "Rajasthan",
          "Himachal Pradesh",
          "Chandigarh",
          "Telangana",
          "Madhya Pradesh",
          "Tripura",
          "Chhattisgarh",
          "Puducherry",
          "Meghalaya",
          "Nagaland",
          "Arunachal Pradesh",
          "Goa",
          "Mizoram",
          "Andaman and Nicobar",
          "Sikkim",
          "Daman and Diu",
          "Dadra and Nagar Haveli"
         ],
         "y": [
          0.16152597402597402,
          0.1956168831168831,
          0.09172077922077922,
          0.05032467532467533,
          0.022727272727272728,
          0.03814935064935065,
          0.05113636363636364,
          0.01948051948051948,
          0.021915584415584416,
          0.037337662337662336,
          0.022727272727272728,
          0.012175324675324676,
          0.04626623376623377,
          0.017045454545454544,
          0.05844155844155844,
          0.007305194805194805,
          0.017045454545454544,
          0.030032467532467532,
          0.01461038961038961,
          0.010551948051948052,
          0.021103896103896104,
          0.006493506493506494,
          0.005681818181818182,
          0.00487012987012987,
          0.00974025974025974,
          0.003246753246753247,
          0.004058441558441558,
          0.0008116883116883117,
          0.00487012987012987,
          0.002435064935064935,
          0.007305194805194805,
          0.002435064935064935,
          0.0008116883116883117,
          0,
          0
         ]
        },
        {
         "type": "bar",
         "uid": "cd7266a3-b30f-4297-a6fe-f1bbfaceacf2",
         "x": [
          "Jammu and Kashmir",
          "Punjab",
          "Tamil Nadu",
          "Assam",
          "Uttar Pradesh",
          "Haryana",
          "Karnataka",
          "NCT of Delhi",
          "West Bengal",
          "Odisha",
          "Kerala",
          "Uttarakhand",
          "Manipur",
          "Bihar",
          "Maharashtra",
          "Gujarat",
          "Jharkhand",
          "Andhra Pradesh",
          "Rajasthan",
          "Himachal Pradesh",
          "Chandigarh",
          "Telangana",
          "Madhya Pradesh",
          "Tripura",
          "Chhattisgarh",
          "Puducherry",
          "Meghalaya",
          "Nagaland",
          "Arunachal Pradesh",
          "Goa",
          "Mizoram",
          "Andaman and Nicobar",
          "Sikkim",
          "Daman and Diu",
          "Dadra and Nagar Haveli"
         ],
         "y": [
          0.2305334150827713,
          0.1213979153893317,
          0.041692213366033105,
          0.04843654199877376,
          0.04721030042918455,
          0.03801348865726548,
          0.02575107296137339,
          0.03740036787247088,
          0.06866952789699571,
          0.05027590435315757,
          0.004291845493562232,
          0.01655426118945432,
          0.0539546290619252,
          0.04721030042918455,
          0.03494788473329246,
          0.012262415695892091,
          0.014714898835070508,
          0.015328019619865114,
          0.009809932556713672,
          0.011649294911097487,
          0.015328019619865114,
          0.00674432863274065,
          0.0030656039239730227,
          0.009809932556713672,
          0.00797057020232986,
          0.001226241569589209,
          0.005518087063151441,
          0.00797057020232986,
          0.00797057020232986,
          0.0006131207847946045,
          0.001226241569589209,
          0.001226241569589209,
          0.001226241569589209,
          0,
          0
         ]
        },
        {
         "type": "bar",
         "uid": "e2378a30-fa7d-486d-9900-7525f1bb7c49",
         "x": [
          "Jammu and Kashmir",
          "Punjab",
          "Tamil Nadu",
          "Assam",
          "Uttar Pradesh",
          "Haryana",
          "Karnataka",
          "NCT of Delhi",
          "West Bengal",
          "Odisha",
          "Kerala",
          "Uttarakhand",
          "Manipur",
          "Bihar",
          "Maharashtra",
          "Gujarat",
          "Jharkhand",
          "Andhra Pradesh",
          "Rajasthan",
          "Himachal Pradesh",
          "Chandigarh",
          "Telangana",
          "Madhya Pradesh",
          "Tripura",
          "Chhattisgarh",
          "Puducherry",
          "Meghalaya",
          "Nagaland",
          "Arunachal Pradesh",
          "Goa",
          "Mizoram",
          "Andaman and Nicobar",
          "Sikkim",
          "Daman and Diu",
          "Dadra and Nagar Haveli"
         ],
         "y": [
          0.15512048192771086,
          0.16164658634538154,
          0.04568273092369478,
          0.056726907630522086,
          0.05572289156626506,
          0.053714859437751006,
          0.028112449799196786,
          0.028112449799196786,
          0.04919678714859438,
          0.058734939759036146,
          0.015562248995983935,
          0.0035140562248995983,
          0.02610441767068273,
          0.0607429718875502,
          0.020582329317269075,
          0.009538152610441768,
          0.021586345381526106,
          0.022590361445783132,
          0.009538152610441768,
          0.014056224899598393,
          0.01355421686746988,
          0.025100401606425703,
          0.022590361445783132,
          0.01355421686746988,
          0.007530120481927711,
          0.004016064257028112,
          0.005522088353413655,
          0.0030120481927710845,
          0.004016064257028112,
          0,
          0.0015060240963855422,
          0.0030120481927710845,
          0,
          0,
          0
         ]
        },
        {
         "type": "bar",
         "uid": "13368a55-02a9-419b-a0e5-066a3718c808",
         "x": [
          "Jammu and Kashmir",
          "Punjab",
          "Tamil Nadu",
          "Assam",
          "Uttar Pradesh",
          "Haryana",
          "Karnataka",
          "NCT of Delhi",
          "West Bengal",
          "Odisha",
          "Kerala",
          "Uttarakhand",
          "Manipur",
          "Bihar",
          "Maharashtra",
          "Gujarat",
          "Jharkhand",
          "Andhra Pradesh",
          "Rajasthan",
          "Himachal Pradesh",
          "Chandigarh",
          "Telangana",
          "Madhya Pradesh",
          "Tripura",
          "Chhattisgarh",
          "Puducherry",
          "Meghalaya",
          "Nagaland",
          "Arunachal Pradesh",
          "Goa",
          "Mizoram",
          "Andaman and Nicobar",
          "Sikkim",
          "Daman and Diu",
          "Dadra and Nagar Haveli"
         ],
         "y": [
          0.2025862068965517,
          0.13608374384236452,
          0.050492610837438424,
          0.07635467980295567,
          0.050492610837438424,
          0.05357142857142857,
          0.02586206896551724,
          0.03017241379310345,
          0.022167487684729065,
          0.05110837438423645,
          0.04864532019704434,
          0.0024630541871921183,
          0.017241379310344827,
          0.027093596059113302,
          0.02770935960591133,
          0.0166256157635468,
          0.01847290640394089,
          0.04064039408866995,
          0.008620689655172414,
          0.01539408866995074,
          0.01539408866995074,
          0.017241379310344827,
          0.0067733990147783255,
          0.008004926108374385,
          0.013546798029556651,
          0.0018472906403940886,
          0.0049261083743842365,
          0.003078817733990148,
          0.003694581280788177,
          0.0018472906403940886,
          0.0006157635467980296,
          0.0012315270935960591,
          0,
          0,
          0
         ]
        },
        {
         "type": "bar",
         "uid": "49e60a73-0b45-4130-9d16-8dec738a1fb5",
         "x": [
          "Jammu and Kashmir",
          "Punjab",
          "Tamil Nadu",
          "Assam",
          "Uttar Pradesh",
          "Haryana",
          "Karnataka",
          "NCT of Delhi",
          "West Bengal",
          "Odisha",
          "Kerala",
          "Uttarakhand",
          "Manipur",
          "Bihar",
          "Maharashtra",
          "Gujarat",
          "Jharkhand",
          "Andhra Pradesh",
          "Rajasthan",
          "Himachal Pradesh",
          "Chandigarh",
          "Telangana",
          "Madhya Pradesh",
          "Tripura",
          "Chhattisgarh",
          "Puducherry",
          "Meghalaya",
          "Nagaland",
          "Arunachal Pradesh",
          "Goa",
          "Mizoram",
          "Andaman and Nicobar",
          "Sikkim",
          "Daman and Diu",
          "Dadra and Nagar Haveli"
         ],
         "y": [
          0.21954314720812182,
          0.12373096446700507,
          0.03299492385786802,
          0.10596446700507614,
          0.03934010152284264,
          0.02728426395939086,
          0.02728426395939086,
          0.02728426395939086,
          0.02982233502538071,
          0.04314720812182741,
          0.03362944162436548,
          0.01015228426395939,
          0.020939086294416244,
          0.02030456852791878,
          0.031091370558375634,
          0.0038071065989847717,
          0.048223350253807105,
          0.02728426395939086,
          0.008248730964467006,
          0.007614213197969543,
          0.015862944162436547,
          0.014593908629441625,
          0.01015228426395939,
          0.01649746192893401,
          0.02284263959390863,
          0,
          0.006979695431472081,
          0.005076142131979695,
          0.011421319796954314,
          0.005710659898477157,
          0.0025380710659898475,
          0.0006345177664974619,
          0,
          0,
          0
         ]
        },
        {
         "type": "bar",
         "uid": "ea9a567b-907e-4218-baaa-2d32da25dfe8",
         "x": [
          "Jammu and Kashmir",
          "Punjab",
          "Tamil Nadu",
          "Assam",
          "Uttar Pradesh",
          "Haryana",
          "Karnataka",
          "NCT of Delhi",
          "West Bengal",
          "Odisha",
          "Kerala",
          "Uttarakhand",
          "Manipur",
          "Bihar",
          "Maharashtra",
          "Gujarat",
          "Jharkhand",
          "Andhra Pradesh",
          "Rajasthan",
          "Himachal Pradesh",
          "Chandigarh",
          "Telangana",
          "Madhya Pradesh",
          "Tripura",
          "Chhattisgarh",
          "Puducherry",
          "Meghalaya",
          "Nagaland",
          "Arunachal Pradesh",
          "Goa",
          "Mizoram",
          "Andaman and Nicobar",
          "Sikkim",
          "Daman and Diu",
          "Dadra and Nagar Haveli"
         ],
         "y": [
          0.1952147906470908,
          0.14192495921696574,
          0.05600870038064165,
          0.09679173463839043,
          0.036976617727025554,
          0.02773246329526917,
          0.03969548667754214,
          0.034801522566612286,
          0.018488308863512777,
          0.03969548667754214,
          0.03915171288743882,
          0.009244154431756389,
          0.02936378466557912,
          0.018488308863512777,
          0.016856987493202826,
          0.011963023382272975,
          0.013050570962479609,
          0.029907558455682437,
          0.01957585644371941,
          0.009244154431756389,
          0.01631321370309951,
          0.023382272974442633,
          0.009244154431756389,
          0.03262642740619902,
          0.005437737901033171,
          0.002175095160413268,
          0.0076128330614464385,
          0.008156606851549755,
          0.0032626427406199023,
          0.004893964110929853,
          0.0016313213703099511,
          0.001087547580206634,
          0,
          0,
          0
         ]
        },
        {
         "type": "bar",
         "uid": "05962589-5923-4d02-b670-f9adbc628f49",
         "x": [
          "Jammu and Kashmir",
          "Punjab",
          "Tamil Nadu",
          "Assam",
          "Uttar Pradesh",
          "Haryana",
          "Karnataka",
          "NCT of Delhi",
          "West Bengal",
          "Odisha",
          "Kerala",
          "Uttarakhand",
          "Manipur",
          "Bihar",
          "Maharashtra",
          "Gujarat",
          "Jharkhand",
          "Andhra Pradesh",
          "Rajasthan",
          "Himachal Pradesh",
          "Chandigarh",
          "Telangana",
          "Madhya Pradesh",
          "Tripura",
          "Chhattisgarh",
          "Puducherry",
          "Meghalaya",
          "Nagaland",
          "Arunachal Pradesh",
          "Goa",
          "Mizoram",
          "Andaman and Nicobar",
          "Sikkim",
          "Daman and Diu",
          "Dadra and Nagar Haveli"
         ],
         "y": [
          0.13202933985330073,
          0.1039119804400978,
          0.06845965770171149,
          0.1980440097799511,
          0.02689486552567237,
          0.017726161369193152,
          0.02506112469437653,
          0.02689486552567237,
          0.035452322738386305,
          0.04706601466992665,
          0.06845965770171149,
          0.0024449877750611247,
          0.03667481662591687,
          0.023838630806845965,
          0.023838630806845965,
          0.009168704156479218,
          0.02444987775061125,
          0.020171149144254278,
          0.0024449877750611247,
          0.011002444987775062,
          0.006723716381418093,
          0.015281173594132029,
          0.009779951100244499,
          0.019559902200488997,
          0.006112469437652812,
          0.0018337408312958435,
          0.015281173594132029,
          0.0018337408312958435,
          0.007946210268948655,
          0.0024449877750611247,
          0.006723716381418093,
          0.0006112469437652812,
          0.0018337408312958435,
          0,
          0
         ]
        }
       ],
       "layout": {
        "autosize": true,
        "sliders": [
         {
          "active": 0,
          "currentvalue": {
           "prefix": ""
          },
          "name": "Month",
          "pad": {
           "t": 37
          },
          "steps": [
           {
            "args": [
             "visible",
             [
              true,
              false,
              false,
              false,
              false,
              false,
              false,
              false,
              false,
              false,
              false,
              false,
              false,
              false,
              false,
              false,
              false,
              false,
              false,
              false,
              false,
              false,
              false,
              false,
              false,
              false,
              false,
              false,
              false,
              false,
              false,
              false,
              false,
              false,
              false,
              false,
              false
             ]
            ],
            "label": "Month 1",
            "method": "restyle"
           },
           {
            "args": [
             "visible",
             [
              false,
              true,
              false,
              false,
              false,
              false,
              false,
              false,
              false,
              false,
              false,
              false,
              false,
              false,
              false,
              false,
              false,
              false,
              false,
              false,
              false,
              false,
              false,
              false,
              false,
              false,
              false,
              false,
              false,
              false,
              false,
              false,
              false,
              false,
              false,
              false,
              false
             ]
            ],
            "label": "Month 2",
            "method": "restyle"
           },
           {
            "args": [
             "visible",
             [
              false,
              false,
              true,
              false,
              false,
              false,
              false,
              false,
              false,
              false,
              false,
              false,
              false,
              false,
              false,
              false,
              false,
              false,
              false,
              false,
              false,
              false,
              false,
              false,
              false,
              false,
              false,
              false,
              false,
              false,
              false,
              false,
              false,
              false,
              false,
              false,
              false
             ]
            ],
            "label": "Month 3",
            "method": "restyle"
           },
           {
            "args": [
             "visible",
             [
              false,
              false,
              false,
              true,
              false,
              false,
              false,
              false,
              false,
              false,
              false,
              false,
              false,
              false,
              false,
              false,
              false,
              false,
              false,
              false,
              false,
              false,
              false,
              false,
              false,
              false,
              false,
              false,
              false,
              false,
              false,
              false,
              false,
              false,
              false,
              false,
              false
             ]
            ],
            "label": "Month 4",
            "method": "restyle"
           },
           {
            "args": [
             "visible",
             [
              false,
              false,
              false,
              false,
              true,
              false,
              false,
              false,
              false,
              false,
              false,
              false,
              false,
              false,
              false,
              false,
              false,
              false,
              false,
              false,
              false,
              false,
              false,
              false,
              false,
              false,
              false,
              false,
              false,
              false,
              false,
              false,
              false,
              false,
              false,
              false,
              false
             ]
            ],
            "label": "Month 5",
            "method": "restyle"
           },
           {
            "args": [
             "visible",
             [
              false,
              false,
              false,
              false,
              false,
              true,
              false,
              false,
              false,
              false,
              false,
              false,
              false,
              false,
              false,
              false,
              false,
              false,
              false,
              false,
              false,
              false,
              false,
              false,
              false,
              false,
              false,
              false,
              false,
              false,
              false,
              false,
              false,
              false,
              false,
              false,
              false
             ]
            ],
            "label": "Month 6",
            "method": "restyle"
           },
           {
            "args": [
             "visible",
             [
              false,
              false,
              false,
              false,
              false,
              false,
              true,
              false,
              false,
              false,
              false,
              false,
              false,
              false,
              false,
              false,
              false,
              false,
              false,
              false,
              false,
              false,
              false,
              false,
              false,
              false,
              false,
              false,
              false,
              false,
              false,
              false,
              false,
              false,
              false,
              false,
              false
             ]
            ],
            "label": "Month 7",
            "method": "restyle"
           },
           {
            "args": [
             "visible",
             [
              false,
              false,
              false,
              false,
              false,
              false,
              false,
              true,
              false,
              false,
              false,
              false,
              false,
              false,
              false,
              false,
              false,
              false,
              false,
              false,
              false,
              false,
              false,
              false,
              false,
              false,
              false,
              false,
              false,
              false,
              false,
              false,
              false,
              false,
              false,
              false,
              false
             ]
            ],
            "label": "Month 8",
            "method": "restyle"
           },
           {
            "args": [
             "visible",
             [
              false,
              false,
              false,
              false,
              false,
              false,
              false,
              false,
              true,
              false,
              false,
              false,
              false,
              false,
              false,
              false,
              false,
              false,
              false,
              false,
              false,
              false,
              false,
              false,
              false,
              false,
              false,
              false,
              false,
              false,
              false,
              false,
              false,
              false,
              false,
              false,
              false
             ]
            ],
            "label": "Month 9",
            "method": "restyle"
           },
           {
            "args": [
             "visible",
             [
              false,
              false,
              false,
              false,
              false,
              false,
              false,
              false,
              false,
              true,
              false,
              false,
              false,
              false,
              false,
              false,
              false,
              false,
              false,
              false,
              false,
              false,
              false,
              false,
              false,
              false,
              false,
              false,
              false,
              false,
              false,
              false,
              false,
              false,
              false,
              false,
              false
             ]
            ],
            "label": "Month 10",
            "method": "restyle"
           },
           {
            "args": [
             "visible",
             [
              false,
              false,
              false,
              false,
              false,
              false,
              false,
              false,
              false,
              false,
              true,
              false,
              false,
              false,
              false,
              false,
              false,
              false,
              false,
              false,
              false,
              false,
              false,
              false,
              false,
              false,
              false,
              false,
              false,
              false,
              false,
              false,
              false,
              false,
              false,
              false,
              false
             ]
            ],
            "label": "Month 11",
            "method": "restyle"
           },
           {
            "args": [
             "visible",
             [
              false,
              false,
              false,
              false,
              false,
              false,
              false,
              false,
              false,
              false,
              false,
              true,
              false,
              false,
              false,
              false,
              false,
              false,
              false,
              false,
              false,
              false,
              false,
              false,
              false,
              false,
              false,
              false,
              false,
              false,
              false,
              false,
              false,
              false,
              false,
              false,
              false
             ]
            ],
            "label": "Month 12",
            "method": "restyle"
           },
           {
            "args": [
             "visible",
             [
              false,
              false,
              false,
              false,
              false,
              false,
              false,
              false,
              false,
              false,
              false,
              false,
              true,
              false,
              false,
              false,
              false,
              false,
              false,
              false,
              false,
              false,
              false,
              false,
              false,
              false,
              false,
              false,
              false,
              false,
              false,
              false,
              false,
              false,
              false,
              false,
              false
             ]
            ],
            "label": "Month 13",
            "method": "restyle"
           },
           {
            "args": [
             "visible",
             [
              false,
              false,
              false,
              false,
              false,
              false,
              false,
              false,
              false,
              false,
              false,
              false,
              false,
              true,
              false,
              false,
              false,
              false,
              false,
              false,
              false,
              false,
              false,
              false,
              false,
              false,
              false,
              false,
              false,
              false,
              false,
              false,
              false,
              false,
              false,
              false,
              false
             ]
            ],
            "label": "Month 14",
            "method": "restyle"
           },
           {
            "args": [
             "visible",
             [
              false,
              false,
              false,
              false,
              false,
              false,
              false,
              false,
              false,
              false,
              false,
              false,
              false,
              false,
              true,
              false,
              false,
              false,
              false,
              false,
              false,
              false,
              false,
              false,
              false,
              false,
              false,
              false,
              false,
              false,
              false,
              false,
              false,
              false,
              false,
              false,
              false
             ]
            ],
            "label": "Month 15",
            "method": "restyle"
           },
           {
            "args": [
             "visible",
             [
              false,
              false,
              false,
              false,
              false,
              false,
              false,
              false,
              false,
              false,
              false,
              false,
              false,
              false,
              false,
              true,
              false,
              false,
              false,
              false,
              false,
              false,
              false,
              false,
              false,
              false,
              false,
              false,
              false,
              false,
              false,
              false,
              false,
              false,
              false,
              false,
              false
             ]
            ],
            "label": "Month 16",
            "method": "restyle"
           },
           {
            "args": [
             "visible",
             [
              false,
              false,
              false,
              false,
              false,
              false,
              false,
              false,
              false,
              false,
              false,
              false,
              false,
              false,
              false,
              false,
              true,
              false,
              false,
              false,
              false,
              false,
              false,
              false,
              false,
              false,
              false,
              false,
              false,
              false,
              false,
              false,
              false,
              false,
              false,
              false,
              false
             ]
            ],
            "label": "Month 17",
            "method": "restyle"
           },
           {
            "args": [
             "visible",
             [
              false,
              false,
              false,
              false,
              false,
              false,
              false,
              false,
              false,
              false,
              false,
              false,
              false,
              false,
              false,
              false,
              false,
              true,
              false,
              false,
              false,
              false,
              false,
              false,
              false,
              false,
              false,
              false,
              false,
              false,
              false,
              false,
              false,
              false,
              false,
              false,
              false
             ]
            ],
            "label": "Month 18",
            "method": "restyle"
           },
           {
            "args": [
             "visible",
             [
              false,
              false,
              false,
              false,
              false,
              false,
              false,
              false,
              false,
              false,
              false,
              false,
              false,
              false,
              false,
              false,
              false,
              false,
              true,
              false,
              false,
              false,
              false,
              false,
              false,
              false,
              false,
              false,
              false,
              false,
              false,
              false,
              false,
              false,
              false,
              false,
              false
             ]
            ],
            "label": "Month 19",
            "method": "restyle"
           },
           {
            "args": [
             "visible",
             [
              false,
              false,
              false,
              false,
              false,
              false,
              false,
              false,
              false,
              false,
              false,
              false,
              false,
              false,
              false,
              false,
              false,
              false,
              false,
              true,
              false,
              false,
              false,
              false,
              false,
              false,
              false,
              false,
              false,
              false,
              false,
              false,
              false,
              false,
              false,
              false,
              false
             ]
            ],
            "label": "Month 20",
            "method": "restyle"
           },
           {
            "args": [
             "visible",
             [
              false,
              false,
              false,
              false,
              false,
              false,
              false,
              false,
              false,
              false,
              false,
              false,
              false,
              false,
              false,
              false,
              false,
              false,
              false,
              false,
              true,
              false,
              false,
              false,
              false,
              false,
              false,
              false,
              false,
              false,
              false,
              false,
              false,
              false,
              false,
              false,
              false
             ]
            ],
            "label": "Month 21",
            "method": "restyle"
           },
           {
            "args": [
             "visible",
             [
              false,
              false,
              false,
              false,
              false,
              false,
              false,
              false,
              false,
              false,
              false,
              false,
              false,
              false,
              false,
              false,
              false,
              false,
              false,
              false,
              false,
              true,
              false,
              false,
              false,
              false,
              false,
              false,
              false,
              false,
              false,
              false,
              false,
              false,
              false,
              false,
              false
             ]
            ],
            "label": "Month 22",
            "method": "restyle"
           },
           {
            "args": [
             "visible",
             [
              false,
              false,
              false,
              false,
              false,
              false,
              false,
              false,
              false,
              false,
              false,
              false,
              false,
              false,
              false,
              false,
              false,
              false,
              false,
              false,
              false,
              false,
              true,
              false,
              false,
              false,
              false,
              false,
              false,
              false,
              false,
              false,
              false,
              false,
              false,
              false,
              false
             ]
            ],
            "label": "Month 23",
            "method": "restyle"
           },
           {
            "args": [
             "visible",
             [
              false,
              false,
              false,
              false,
              false,
              false,
              false,
              false,
              false,
              false,
              false,
              false,
              false,
              false,
              false,
              false,
              false,
              false,
              false,
              false,
              false,
              false,
              false,
              true,
              false,
              false,
              false,
              false,
              false,
              false,
              false,
              false,
              false,
              false,
              false,
              false,
              false
             ]
            ],
            "label": "Month 24",
            "method": "restyle"
           },
           {
            "args": [
             "visible",
             [
              false,
              false,
              false,
              false,
              false,
              false,
              false,
              false,
              false,
              false,
              false,
              false,
              false,
              false,
              false,
              false,
              false,
              false,
              false,
              false,
              false,
              false,
              false,
              false,
              true,
              false,
              false,
              false,
              false,
              false,
              false,
              false,
              false,
              false,
              false,
              false,
              false
             ]
            ],
            "label": "Month 25",
            "method": "restyle"
           },
           {
            "args": [
             "visible",
             [
              false,
              false,
              false,
              false,
              false,
              false,
              false,
              false,
              false,
              false,
              false,
              false,
              false,
              false,
              false,
              false,
              false,
              false,
              false,
              false,
              false,
              false,
              false,
              false,
              false,
              true,
              false,
              false,
              false,
              false,
              false,
              false,
              false,
              false,
              false,
              false,
              false
             ]
            ],
            "label": "Month 26",
            "method": "restyle"
           },
           {
            "args": [
             "visible",
             [
              false,
              false,
              false,
              false,
              false,
              false,
              false,
              false,
              false,
              false,
              false,
              false,
              false,
              false,
              false,
              false,
              false,
              false,
              false,
              false,
              false,
              false,
              false,
              false,
              false,
              false,
              true,
              false,
              false,
              false,
              false,
              false,
              false,
              false,
              false,
              false,
              false
             ]
            ],
            "label": "Month 27",
            "method": "restyle"
           },
           {
            "args": [
             "visible",
             [
              false,
              false,
              false,
              false,
              false,
              false,
              false,
              false,
              false,
              false,
              false,
              false,
              false,
              false,
              false,
              false,
              false,
              false,
              false,
              false,
              false,
              false,
              false,
              false,
              false,
              false,
              false,
              true,
              false,
              false,
              false,
              false,
              false,
              false,
              false,
              false,
              false
             ]
            ],
            "label": "Month 28",
            "method": "restyle"
           },
           {
            "args": [
             "visible",
             [
              false,
              false,
              false,
              false,
              false,
              false,
              false,
              false,
              false,
              false,
              false,
              false,
              false,
              false,
              false,
              false,
              false,
              false,
              false,
              false,
              false,
              false,
              false,
              false,
              false,
              false,
              false,
              false,
              true,
              false,
              false,
              false,
              false,
              false,
              false,
              false,
              false
             ]
            ],
            "label": "Month 29",
            "method": "restyle"
           },
           {
            "args": [
             "visible",
             [
              false,
              false,
              false,
              false,
              false,
              false,
              false,
              false,
              false,
              false,
              false,
              false,
              false,
              false,
              false,
              false,
              false,
              false,
              false,
              false,
              false,
              false,
              false,
              false,
              false,
              false,
              false,
              false,
              false,
              true,
              false,
              false,
              false,
              false,
              false,
              false,
              false
             ]
            ],
            "label": "Month 30",
            "method": "restyle"
           },
           {
            "args": [
             "visible",
             [
              false,
              false,
              false,
              false,
              false,
              false,
              false,
              false,
              false,
              false,
              false,
              false,
              false,
              false,
              false,
              false,
              false,
              false,
              false,
              false,
              false,
              false,
              false,
              false,
              false,
              false,
              false,
              false,
              false,
              false,
              true,
              false,
              false,
              false,
              false,
              false,
              false
             ]
            ],
            "label": "Month 31",
            "method": "restyle"
           },
           {
            "args": [
             "visible",
             [
              false,
              false,
              false,
              false,
              false,
              false,
              false,
              false,
              false,
              false,
              false,
              false,
              false,
              false,
              false,
              false,
              false,
              false,
              false,
              false,
              false,
              false,
              false,
              false,
              false,
              false,
              false,
              false,
              false,
              false,
              false,
              true,
              false,
              false,
              false,
              false,
              false
             ]
            ],
            "label": "Month 32",
            "method": "restyle"
           },
           {
            "args": [
             "visible",
             [
              false,
              false,
              false,
              false,
              false,
              false,
              false,
              false,
              false,
              false,
              false,
              false,
              false,
              false,
              false,
              false,
              false,
              false,
              false,
              false,
              false,
              false,
              false,
              false,
              false,
              false,
              false,
              false,
              false,
              false,
              false,
              false,
              true,
              false,
              false,
              false,
              false
             ]
            ],
            "label": "Month 33",
            "method": "restyle"
           },
           {
            "args": [
             "visible",
             [
              false,
              false,
              false,
              false,
              false,
              false,
              false,
              false,
              false,
              false,
              false,
              false,
              false,
              false,
              false,
              false,
              false,
              false,
              false,
              false,
              false,
              false,
              false,
              false,
              false,
              false,
              false,
              false,
              false,
              false,
              false,
              false,
              false,
              true,
              false,
              false,
              false
             ]
            ],
            "label": "Month 34",
            "method": "restyle"
           },
           {
            "args": [
             "visible",
             [
              false,
              false,
              false,
              false,
              false,
              false,
              false,
              false,
              false,
              false,
              false,
              false,
              false,
              false,
              false,
              false,
              false,
              false,
              false,
              false,
              false,
              false,
              false,
              false,
              false,
              false,
              false,
              false,
              false,
              false,
              false,
              false,
              false,
              false,
              true,
              false,
              false
             ]
            ],
            "label": "Month 35",
            "method": "restyle"
           },
           {
            "args": [
             "visible",
             [
              false,
              false,
              false,
              false,
              false,
              false,
              false,
              false,
              false,
              false,
              false,
              false,
              false,
              false,
              false,
              false,
              false,
              false,
              false,
              false,
              false,
              false,
              false,
              false,
              false,
              false,
              false,
              false,
              false,
              false,
              false,
              false,
              false,
              false,
              false,
              true,
              false
             ]
            ],
            "label": "Month 36",
            "method": "restyle"
           },
           {
            "args": [
             "visible",
             [
              false,
              false,
              false,
              false,
              false,
              false,
              false,
              false,
              false,
              false,
              false,
              false,
              false,
              false,
              false,
              false,
              false,
              false,
              false,
              false,
              false,
              false,
              false,
              false,
              false,
              false,
              false,
              false,
              false,
              false,
              false,
              false,
              false,
              false,
              false,
              false,
              true
             ]
            ],
            "label": "Month 37",
            "method": "restyle"
           }
          ],
          "y": 1.5
         }
        ],
        "title": {
         "text": "Monthwise Event Frequency"
        },
        "xaxis": {
         "automargin": true,
         "title": {
          "text": "States"
         }
        },
        "yaxis": {
         "automargin": true,
         "title": {
          "text": "Normalized Frequency"
         }
        }
       }
      },
      "text/html": [
       "<div id=\"8c5dc564-6556-4ffb-ae38-642d905ac534\" style=\"height: 525px; width: 100%;\" class=\"plotly-graph-div\"></div><script type=\"text/javascript\">require([\"plotly\"], function(Plotly) { window.PLOTLYENV=window.PLOTLYENV || {};window.PLOTLYENV.BASE_URL=\"https://plot.ly\";Plotly.newPlot(\"8c5dc564-6556-4ffb-ae38-642d905ac534\", [{\"x\": [\"Jammu and Kashmir\", \"Punjab\", \"Tamil Nadu\", \"Assam\", \"Uttar Pradesh\", \"Haryana\", \"Karnataka\", \"NCT of Delhi\", \"West Bengal\", \"Odisha\", \"Kerala\", \"Uttarakhand\", \"Manipur\", \"Bihar\", \"Maharashtra\", \"Gujarat\", \"Jharkhand\", \"Andhra Pradesh\", \"Rajasthan\", \"Himachal Pradesh\", \"Chandigarh\", \"Telangana\", \"Madhya Pradesh\", \"Tripura\", \"Chhattisgarh\", \"Puducherry\", \"Meghalaya\", \"Nagaland\", \"Arunachal Pradesh\", \"Goa\", \"Mizoram\", \"Andaman and Nicobar\", \"Sikkim\", \"Daman and Diu\", \"Dadra and Nagar Haveli\"], \"y\": [0.06914893617021277, 0.19148936170212766, 0.07313829787234043, 0.031914893617021274, 0.043882978723404256, 0.08776595744680851, 0.0398936170212766, 0.05053191489361702, 0.026595744680851064, 0.0199468085106383, 0.027925531914893616, 0.11170212765957446, 0.023936170212765957, 0.02526595744680851, 0.031914893617021274, 0.02127659574468085, 0.023936170212765957, 0.009308510638297872, 0.011968085106382979, 0.007978723404255319, 0.014627659574468085, 0.023936170212765957, 0.005319148936170213, 0.0, 0.010638297872340425, 0.0013297872340425532, 0.010638297872340425, 0.0, 0.0013297872340425532, 0.0026595744680851063, 0.0, 0.0, 0.0, 0.0, 0.0], \"type\": \"bar\", \"uid\": \"985a2eee-6ddf-4b7d-9eaf-5ad2be9a5925\"}, {\"x\": [\"Jammu and Kashmir\", \"Punjab\", \"Tamil Nadu\", \"Assam\", \"Uttar Pradesh\", \"Haryana\", \"Karnataka\", \"NCT of Delhi\", \"West Bengal\", \"Odisha\", \"Kerala\", \"Uttarakhand\", \"Manipur\", \"Bihar\", \"Maharashtra\", \"Gujarat\", \"Jharkhand\", \"Andhra Pradesh\", \"Rajasthan\", \"Himachal Pradesh\", \"Chandigarh\", \"Telangana\", \"Madhya Pradesh\", \"Tripura\", \"Chhattisgarh\", \"Puducherry\", \"Meghalaya\", \"Nagaland\", \"Arunachal Pradesh\", \"Goa\", \"Mizoram\", \"Andaman and Nicobar\", \"Sikkim\", \"Daman and Diu\", \"Dadra and Nagar Haveli\"], \"y\": [0.06291706387035272, 0.14394661582459486, 0.07816968541468065, 0.07149666348903717, 0.05052430886558627, 0.14871306005719734, 0.027645376549094377, 0.04194470924690181, 0.04003813155386082, 0.015252621544327931, 0.014299332697807437, 0.06291706387035272, 0.019065776930409915, 0.030505243088655862, 0.015252621544327931, 0.02478551000953289, 0.02669208770257388, 0.0076263107721639654, 0.017159199237368923, 0.017159199237368923, 0.027645376549094377, 0.011439466158245948, 0.008579599618684462, 0.008579599618684462, 0.010486177311725452, 0.004766444232602479, 0.0038131553860819827, 0.0019065776930409914, 0.0019065776930409914, 0.0038131553860819827, 0.0009532888465204957, 0.0, 0.0, 0.0, 0.0], \"type\": \"bar\", \"uid\": \"280b2021-0545-4d65-b411-ca4a1a5144ac\"}, {\"x\": [\"Jammu and Kashmir\", \"Punjab\", \"Tamil Nadu\", \"Assam\", \"Uttar Pradesh\", \"Haryana\", \"Karnataka\", \"NCT of Delhi\", \"West Bengal\", \"Odisha\", \"Kerala\", \"Uttarakhand\", \"Manipur\", \"Bihar\", \"Maharashtra\", \"Gujarat\", \"Jharkhand\", \"Andhra Pradesh\", \"Rajasthan\", \"Himachal Pradesh\", \"Chandigarh\", \"Telangana\", \"Madhya Pradesh\", \"Tripura\", \"Chhattisgarh\", \"Puducherry\", \"Meghalaya\", \"Nagaland\", \"Arunachal Pradesh\", \"Goa\", \"Mizoram\", \"Andaman and Nicobar\", \"Sikkim\", \"Daman and Diu\", \"Dadra and Nagar Haveli\"], \"y\": [0.07468879668049792, 0.16459197786998617, 0.07192254495159059, 0.05532503457814661, 0.027662517289073305, 0.022130013831258646, 0.08852005532503458, 0.02351313969571231, 0.04426002766251729, 0.011065006915629323, 0.035961272475795295, 0.10096818810511757, 0.024896265560165973, 0.012448132780082987, 0.03872752420470263, 0.006915629322268326, 0.040110650069156296, 0.02351313969571231, 0.013831258644536652, 0.02351313969571231, 0.02351313969571231, 0.008298755186721992, 0.02627939142461964, 0.0027662517289073307, 0.015214384508990318, 0.0013831258644536654, 0.005532503457814661, 0.0027662517289073307, 0.0013831258644536654, 0.006915629322268326, 0.0013831258644536654, 0.0, 0.0, 0.0, 0.0], \"type\": \"bar\", \"uid\": \"aef68669-f207-4d58-9d93-faf61ffe16de\"}, {\"x\": [\"Jammu and Kashmir\", \"Punjab\", \"Tamil Nadu\", \"Assam\", \"Uttar Pradesh\", \"Haryana\", \"Karnataka\", \"NCT of Delhi\", \"West Bengal\", \"Odisha\", \"Kerala\", \"Uttarakhand\", \"Manipur\", \"Bihar\", \"Maharashtra\", \"Gujarat\", \"Jharkhand\", \"Andhra Pradesh\", \"Rajasthan\", \"Himachal Pradesh\", \"Chandigarh\", \"Telangana\", \"Madhya Pradesh\", \"Tripura\", \"Chhattisgarh\", \"Puducherry\", \"Meghalaya\", \"Nagaland\", \"Arunachal Pradesh\", \"Goa\", \"Mizoram\", \"Andaman and Nicobar\", \"Sikkim\", \"Daman and Diu\", \"Dadra and Nagar Haveli\"], \"y\": [0.05761843790012804, 0.16261203585147246, 0.08194622279129321, 0.046094750320102434, 0.04225352112676056, 0.05121638924455826, 0.0499359795134443, 0.04481434058898848, 0.16645326504481434, 0.030729833546734954, 0.01792573623559539, 0.014084507042253521, 0.03329065300896287, 0.023047375160051217, 0.014084507042253521, 0.019206145966709345, 0.05505761843790013, 0.011523687580025609, 0.008962868117797696, 0.019206145966709345, 0.016645326504481434, 0.010243277848911651, 0.005121638924455826, 0.002560819462227913, 0.002560819462227913, 0.0, 0.0012804097311139564, 0.002560819462227913, 0.002560819462227913, 0.006402048655569782, 0.0, 0.0, 0.0, 0.0, 0.0], \"type\": \"bar\", \"uid\": \"13bd5bd6-11da-4271-b3c3-cce74abcc2f5\"}, {\"x\": [\"Jammu and Kashmir\", \"Punjab\", \"Tamil Nadu\", \"Assam\", \"Uttar Pradesh\", \"Haryana\", \"Karnataka\", \"NCT of Delhi\", \"West Bengal\", \"Odisha\", \"Kerala\", \"Uttarakhand\", \"Manipur\", \"Bihar\", \"Maharashtra\", \"Gujarat\", \"Jharkhand\", \"Andhra Pradesh\", \"Rajasthan\", \"Himachal Pradesh\", \"Chandigarh\", \"Telangana\", \"Madhya Pradesh\", \"Tripura\", \"Chhattisgarh\", \"Puducherry\", \"Meghalaya\", \"Nagaland\", \"Arunachal Pradesh\", \"Goa\", \"Mizoram\", \"Andaman and Nicobar\", \"Sikkim\", \"Daman and Diu\", \"Dadra and Nagar Haveli\"], \"y\": [0.07884231536926148, 0.19261477045908185, 0.046906187624750496, 0.038922155688622756, 0.033932135728542916, 0.06686626746506986, 0.027944111776447105, 0.043912175648702596, 0.07285429141716566, 0.023952095808383235, 0.020958083832335328, 0.04890219560878244, 0.05588822355289421, 0.03592814371257485, 0.011976047904191617, 0.013972055888223553, 0.029940119760479042, 0.03493013972055888, 0.020958083832335328, 0.018962075848303395, 0.02594810379241517, 0.015968063872255488, 0.015968063872255488, 0.00499001996007984, 0.006986027944111776, 0.0029940119760479044, 0.001996007984031936, 0.000998003992015968, 0.001996007984031936, 0.0029940119760479044, 0.0, 0.0, 0.0, 0.0, 0.0], \"type\": \"bar\", \"uid\": \"95c50c4d-6e84-40af-a249-3f41d62102c0\"}, {\"x\": [\"Jammu and Kashmir\", \"Punjab\", \"Tamil Nadu\", \"Assam\", \"Uttar Pradesh\", \"Haryana\", \"Karnataka\", \"NCT of Delhi\", \"West Bengal\", \"Odisha\", \"Kerala\", \"Uttarakhand\", \"Manipur\", \"Bihar\", \"Maharashtra\", \"Gujarat\", \"Jharkhand\", \"Andhra Pradesh\", \"Rajasthan\", \"Himachal Pradesh\", \"Chandigarh\", \"Telangana\", \"Madhya Pradesh\", \"Tripura\", \"Chhattisgarh\", \"Puducherry\", \"Meghalaya\", \"Nagaland\", \"Arunachal Pradesh\", \"Goa\", \"Mizoram\", \"Andaman and Nicobar\", \"Sikkim\", \"Daman and Diu\", \"Dadra and Nagar Haveli\"], \"y\": [0.13097199341021418, 0.214168039538715, 0.04118616144975288, 0.022240527182866558, 0.05354200988467875, 0.09308072487644152, 0.05683690280065898, 0.04118616144975288, 0.012355848434925865, 0.015650741350906095, 0.0214168039538715, 0.06342668863261944, 0.03542009884678748, 0.008237232289950576, 0.015650741350906095, 0.027182866556836903, 0.028830313014827018, 0.016474464579901153, 0.02471169686985173, 0.02800658978583196, 0.009884678747940691, 0.013179571663920923, 0.013179571663920923, 0.002471169686985173, 0.0032948929159802307, 0.002471169686985173, 0.0032948929159802307, 0.0, 0.0008237232289950577, 0.0008237232289950577, 0.0, 0.0, 0.0, 0.0, 0.0], \"type\": \"bar\", \"uid\": \"a64811c0-c68a-4cfe-b0ba-c4115d899b04\"}, {\"x\": [\"Jammu and Kashmir\", \"Punjab\", \"Tamil Nadu\", \"Assam\", \"Uttar Pradesh\", \"Haryana\", \"Karnataka\", \"NCT of Delhi\", \"West Bengal\", \"Odisha\", \"Kerala\", \"Uttarakhand\", \"Manipur\", \"Bihar\", \"Maharashtra\", \"Gujarat\", \"Jharkhand\", \"Andhra Pradesh\", \"Rajasthan\", \"Himachal Pradesh\", \"Chandigarh\", \"Telangana\", \"Madhya Pradesh\", \"Tripura\", \"Chhattisgarh\", \"Puducherry\", \"Meghalaya\", \"Nagaland\", \"Arunachal Pradesh\", \"Goa\", \"Mizoram\", \"Andaman and Nicobar\", \"Sikkim\", \"Daman and Diu\", \"Dadra and Nagar Haveli\"], \"y\": [0.2005842259006816, 0.12171372930866602, 0.04771178188899708, 0.03213242453748783, 0.0798442064264849, 0.044790652385589096, 0.06621226874391431, 0.04771178188899708, 0.008763388510223954, 0.029211295034079845, 0.01557935735150925, 0.05939629990262902, 0.01557935735150925, 0.009737098344693282, 0.007789678675754625, 0.10418695228821812, 0.017526777020447908, 0.01557935735150925, 0.01557935735150925, 0.02044790652385589, 0.013631937682570594, 0.005842259006815969, 0.0019474196689386564, 0.010710808179162609, 0.0029211295034079843, 0.0038948393378773127, 0.0, 0.0009737098344693282, 0.0, 0.0, 0.0, 0.0, 0.0, 0.0, 0.0], \"type\": \"bar\", \"uid\": \"3ae97d0b-02d6-4dc4-9940-3cb4c28b065f\"}, {\"x\": [\"Jammu and Kashmir\", \"Punjab\", \"Tamil Nadu\", \"Assam\", \"Uttar Pradesh\", \"Haryana\", \"Karnataka\", \"NCT of Delhi\", \"West Bengal\", \"Odisha\", \"Kerala\", \"Uttarakhand\", \"Manipur\", \"Bihar\", \"Maharashtra\", \"Gujarat\", \"Jharkhand\", \"Andhra Pradesh\", \"Rajasthan\", \"Himachal Pradesh\", \"Chandigarh\", \"Telangana\", \"Madhya Pradesh\", \"Tripura\", \"Chhattisgarh\", \"Puducherry\", \"Meghalaya\", \"Nagaland\", \"Arunachal Pradesh\", \"Goa\", \"Mizoram\", \"Andaman and Nicobar\", \"Sikkim\", \"Daman and Diu\", \"Dadra and Nagar Haveli\"], \"y\": [0.2252173913043478, 0.10869565217391304, 0.06608695652173913, 0.0391304347826087, 0.08260869565217391, 0.05565217391304348, 0.04, 0.04, 0.0052173913043478265, 0.03739130434782609, 0.00782608695652174, 0.05304347826086957, 0.05304347826086957, 0.018260869565217393, 0.009565217391304347, 0.03739130434782609, 0.020869565217391306, 0.0026086956521739132, 0.023478260869565216, 0.02, 0.020869565217391306, 0.0026086956521739132, 0.004347826086956522, 0.006956521739130435, 0.00608695652173913, 0.0052173913043478265, 0.0017391304347826088, 0.0026086956521739132, 0.0017391304347826088, 0.0008695652173913044, 0.0008695652173913044, 0.0, 0.0, 0.0, 0.0], \"type\": \"bar\", \"uid\": \"35806eb6-7405-4dec-b015-77db6f8631d1\"}, {\"x\": [\"Jammu and Kashmir\", \"Punjab\", \"Tamil Nadu\", \"Assam\", \"Uttar Pradesh\", \"Haryana\", \"Karnataka\", \"NCT of Delhi\", \"West Bengal\", \"Odisha\", \"Kerala\", \"Uttarakhand\", \"Manipur\", \"Bihar\", \"Maharashtra\", \"Gujarat\", \"Jharkhand\", \"Andhra Pradesh\", \"Rajasthan\", \"Himachal Pradesh\", \"Chandigarh\", \"Telangana\", \"Madhya Pradesh\", \"Tripura\", \"Chhattisgarh\", \"Puducherry\", \"Meghalaya\", \"Nagaland\", \"Arunachal Pradesh\", \"Goa\", \"Mizoram\", \"Andaman and Nicobar\", \"Sikkim\", \"Daman and Diu\", \"Dadra and Nagar Haveli\"], \"y\": [0.2377332411886662, 0.17899101589495509, 0.04284727021423635, 0.042156185210780926, 0.0635798203178991, 0.046993780234968904, 0.06219765031098825, 0.04630269523151347, 0.013130615065653075, 0.020041465100207326, 0.008984105044920525, 0.04008293020041465, 0.019350380096751902, 0.013130615065653075, 0.013130615065653075, 0.019350380096751902, 0.020041465100207326, 0.0048375950241879755, 0.026952315134761574, 0.019350380096751902, 0.022805805114029024, 0.00138217000691085, 0.00414651002073255, 0.006910850034554251, 0.009675190048375951, 0.006219765031098825, 0.00414651002073255, 0.000691085003455425, 0.00138217000691085, 0.002073255010366275, 0.000691085003455425, 0.0, 0.000691085003455425, 0.0, 0.0], \"type\": \"bar\", \"uid\": \"c722141f-2fe3-4e39-b78e-2bf66ec1a303\"}, {\"x\": [\"Jammu and Kashmir\", \"Punjab\", \"Tamil Nadu\", \"Assam\", \"Uttar Pradesh\", \"Haryana\", \"Karnataka\", \"NCT of Delhi\", \"West Bengal\", \"Odisha\", \"Kerala\", \"Uttarakhand\", \"Manipur\", \"Bihar\", \"Maharashtra\", \"Gujarat\", \"Jharkhand\", \"Andhra Pradesh\", \"Rajasthan\", \"Himachal Pradesh\", \"Chandigarh\", \"Telangana\", \"Madhya Pradesh\", \"Tripura\", \"Chhattisgarh\", \"Puducherry\", \"Meghalaya\", \"Nagaland\", \"Arunachal Pradesh\", \"Goa\", \"Mizoram\", \"Andaman and Nicobar\", \"Sikkim\", \"Daman and Diu\", \"Dadra and Nagar Haveli\"], \"y\": [0.2331055429005315, 0.14654517843583903, 0.04555808656036447, 0.018982536066818528, 0.04935459377372817, 0.06150341685649203, 0.02050113895216401, 0.058466211085801065, 0.019741837509491267, 0.02050113895216401, 0.0425208807896735, 0.0774487471526196, 0.03492786636294609, 0.010630220197418374, 0.02885345482156416, 0.0387243735763098, 0.022779043280182234, 0.0, 0.015945330296127564, 0.01366742596810934, 0.010630220197418374, 0.006074411541381929, 0.002277904328018223, 0.0030372057706909645, 0.005315110098709187, 0.004555808656036446, 0.0037965072133637054, 0.0015186028853454822, 0.0, 0.002277904328018223, 0.0007593014426727411, 0.0, 0.0, 0.0, 0.0], \"type\": \"bar\", \"uid\": \"481b9577-da18-464b-947e-5e32074fdec9\"}, {\"x\": [\"Jammu and Kashmir\", \"Punjab\", \"Tamil Nadu\", \"Assam\", \"Uttar Pradesh\", \"Haryana\", \"Karnataka\", \"NCT of Delhi\", \"West Bengal\", \"Odisha\", \"Kerala\", \"Uttarakhand\", \"Manipur\", \"Bihar\", \"Maharashtra\", \"Gujarat\", \"Jharkhand\", \"Andhra Pradesh\", \"Rajasthan\", \"Himachal Pradesh\", \"Chandigarh\", \"Telangana\", \"Madhya Pradesh\", \"Tripura\", \"Chhattisgarh\", \"Puducherry\", \"Meghalaya\", \"Nagaland\", \"Arunachal Pradesh\", \"Goa\", \"Mizoram\", \"Andaman and Nicobar\", \"Sikkim\", \"Daman and Diu\", \"Dadra and Nagar Haveli\"], \"y\": [0.16919575113808802, 0.20409711684370258, 0.038694992412746584, 0.0409711684370258, 0.061456752655538696, 0.03793626707132018, 0.0409711684370258, 0.04704097116843703, 0.02276176024279211, 0.014415781487101669, 0.02276176024279211, 0.05083459787556904, 0.044764795144157814, 0.02503793626707132, 0.010622154779969651, 0.051593323216995446, 0.03414264036418816, 0.0037936267071320183, 0.012898330804248861, 0.013657056145675266, 0.006828528072837633, 0.005311077389984826, 0.007587253414264037, 0.0030349013657056147, 0.012898330804248861, 0.004552352048558422, 0.004552352048558422, 0.0015174506828528073, 0.0015174506828528073, 0.004552352048558422, 0.0, 0.0, 0.0, 0.0, 0.0], \"type\": \"bar\", \"uid\": \"e7d9090e-f387-4f57-9654-ae2f8b789112\"}, {\"x\": [\"Jammu and Kashmir\", \"Punjab\", \"Tamil Nadu\", \"Assam\", \"Uttar Pradesh\", \"Haryana\", \"Karnataka\", \"NCT of Delhi\", \"West Bengal\", \"Odisha\", \"Kerala\", \"Uttarakhand\", \"Manipur\", \"Bihar\", \"Maharashtra\", \"Gujarat\", \"Jharkhand\", \"Andhra Pradesh\", \"Rajasthan\", \"Himachal Pradesh\", \"Chandigarh\", \"Telangana\", \"Madhya Pradesh\", \"Tripura\", \"Chhattisgarh\", \"Puducherry\", \"Meghalaya\", \"Nagaland\", \"Arunachal Pradesh\", \"Goa\", \"Mizoram\", \"Andaman and Nicobar\", \"Sikkim\", \"Daman and Diu\", \"Dadra and Nagar Haveli\"], \"y\": [0.14760914760914762, 0.20374220374220375, 0.058212058212058215, 0.028066528066528068, 0.0841995841995842, 0.04158004158004158, 0.02494802494802495, 0.057172557172557176, 0.028066528066528068, 0.010395010395010396, 0.02598752598752599, 0.06652806652806653, 0.04781704781704782, 0.009355509355509356, 0.017671517671517672, 0.031185031185031187, 0.028066528066528068, 0.010395010395010396, 0.02494802494802495, 0.007276507276507277, 0.004158004158004158, 0.004158004158004158, 0.005197505197505198, 0.006237006237006237, 0.007276507276507277, 0.0010395010395010396, 0.002079002079002079, 0.007276507276507277, 0.005197505197505198, 0.004158004158004158, 0.0, 0.0, 0.0, 0.0, 0.0], \"type\": \"bar\", \"uid\": \"b5ef51d2-fe51-4428-8862-b082b19a3427\"}, {\"x\": [\"Jammu and Kashmir\", \"Punjab\", \"Tamil Nadu\", \"Assam\", \"Uttar Pradesh\", \"Haryana\", \"Karnataka\", \"NCT of Delhi\", \"West Bengal\", \"Odisha\", \"Kerala\", \"Uttarakhand\", \"Manipur\", \"Bihar\", \"Maharashtra\", \"Gujarat\", \"Jharkhand\", \"Andhra Pradesh\", \"Rajasthan\", \"Himachal Pradesh\", \"Chandigarh\", \"Telangana\", \"Madhya Pradesh\", \"Tripura\", \"Chhattisgarh\", \"Puducherry\", \"Meghalaya\", \"Nagaland\", \"Arunachal Pradesh\", \"Goa\", \"Mizoram\", \"Andaman and Nicobar\", \"Sikkim\", \"Daman and Diu\", \"Dadra and Nagar Haveli\"], \"y\": [0.09801031687546058, 0.09948415622697127, 0.19749447310243184, 0.039056742815033164, 0.05747973470891673, 0.05821665438467207, 0.017686072218128224, 0.045689019896831246, 0.04200442151805453, 0.0058953574060427415, 0.032424465733235076, 0.022844509948415623, 0.025792188651436992, 0.017686072218128224, 0.03610906411201179, 0.026529108327192335, 0.01694915254237288, 0.012527634487840826, 0.023581429624170966, 0.006632277081798084, 0.021370670596904937, 0.006632277081798084, 0.04642593957258659, 0.006632277081798084, 0.008106116433308769, 0.012527634487840826, 0.0036845983787767134, 0.0058953574060427415, 0.0036845983787767134, 0.0014738393515106854, 0.0, 0.0014738393515106854, 0.0, 0.0, 0.0], \"type\": \"bar\", \"uid\": \"464d694d-3865-4c0b-a819-7436ce5f67c8\"}, {\"x\": [\"Jammu and Kashmir\", \"Punjab\", \"Tamil Nadu\", \"Assam\", \"Uttar Pradesh\", \"Haryana\", \"Karnataka\", \"NCT of Delhi\", \"West Bengal\", \"Odisha\", \"Kerala\", \"Uttarakhand\", \"Manipur\", \"Bihar\", \"Maharashtra\", \"Gujarat\", \"Jharkhand\", \"Andhra Pradesh\", \"Rajasthan\", \"Himachal Pradesh\", \"Chandigarh\", \"Telangana\", \"Madhya Pradesh\", \"Tripura\", \"Chhattisgarh\", \"Puducherry\", \"Meghalaya\", \"Nagaland\", \"Arunachal Pradesh\", \"Goa\", \"Mizoram\", \"Andaman and Nicobar\", \"Sikkim\", \"Daman and Diu\", \"Dadra and Nagar Haveli\"], \"y\": [0.1276595744680851, 0.16, 0.10212765957446808, 0.04085106382978723, 0.06042553191489362, 0.0748936170212766, 0.033191489361702124, 0.06723404255319149, 0.017872340425531916, 0.026382978723404255, 0.020425531914893616, 0.00851063829787234, 0.03489361702127659, 0.029787234042553193, 0.020425531914893616, 0.03404255319148936, 0.01446808510638298, 0.011914893617021277, 0.02723404255319149, 0.016170212765957447, 0.011063829787234043, 0.009361702127659575, 0.00851063829787234, 0.005957446808510639, 0.01702127659574468, 0.007659574468085106, 0.000851063829787234, 0.006808510638297872, 0.001702127659574468, 0.000851063829787234, 0.001702127659574468, 0.0, 0.0, 0.0, 0.0], \"type\": \"bar\", \"uid\": \"bffa8ce2-c608-4361-964c-135fdb4987ce\"}, {\"x\": [\"Jammu and Kashmir\", \"Punjab\", \"Tamil Nadu\", \"Assam\", \"Uttar Pradesh\", \"Haryana\", \"Karnataka\", \"NCT of Delhi\", \"West Bengal\", \"Odisha\", \"Kerala\", \"Uttarakhand\", \"Manipur\", \"Bihar\", \"Maharashtra\", \"Gujarat\", \"Jharkhand\", \"Andhra Pradesh\", \"Rajasthan\", \"Himachal Pradesh\", \"Chandigarh\", \"Telangana\", \"Madhya Pradesh\", \"Tripura\", \"Chhattisgarh\", \"Puducherry\", \"Meghalaya\", \"Nagaland\", \"Arunachal Pradesh\", \"Goa\", \"Mizoram\", \"Andaman and Nicobar\", \"Sikkim\", \"Daman and Diu\", \"Dadra and Nagar Haveli\"], \"y\": [0.1363973313565604, 0.11415863602668644, 0.17272053372868792, 0.05856189770200148, 0.05856189770200148, 0.05559673832468495, 0.042994810971089696, 0.031134173461823574, 0.018532246108228317, 0.008895478131949592, 0.028910303928836176, 0.03039288361749444, 0.028169014084507043, 0.018532246108228317, 0.02001482579688658, 0.03261675315048184, 0.011860637509266123, 0.01927353595255745, 0.025203854707190512, 0.014084507042253521, 0.014084507042253521, 0.014825796886582653, 0.005189028910303929, 0.014084507042253521, 0.007412898443291327, 0.009636767976278725, 0.0029651593773165306, 0.002223869532987398, 0.0, 0.0029651593773165306, 0.0, 0.0, 0.0, 0.0, 0.0], \"type\": \"bar\", \"uid\": \"91e55280-3722-4672-b480-5e25e5bd701f\"}, {\"x\": [\"Jammu and Kashmir\", \"Punjab\", \"Tamil Nadu\", \"Assam\", \"Uttar Pradesh\", \"Haryana\", \"Karnataka\", \"NCT of Delhi\", \"West Bengal\", \"Odisha\", \"Kerala\", \"Uttarakhand\", \"Manipur\", \"Bihar\", \"Maharashtra\", \"Gujarat\", \"Jharkhand\", \"Andhra Pradesh\", \"Rajasthan\", \"Himachal Pradesh\", \"Chandigarh\", \"Telangana\", \"Madhya Pradesh\", \"Tripura\", \"Chhattisgarh\", \"Puducherry\", \"Meghalaya\", \"Nagaland\", \"Arunachal Pradesh\", \"Goa\", \"Mizoram\", \"Andaman and Nicobar\", \"Sikkim\", \"Daman and Diu\", \"Dadra and Nagar Haveli\"], \"y\": [0.16129032258064516, 0.12981904012588513, 0.12431156569630213, 0.024390243902439025, 0.11408339889850512, 0.06372934697088907, 0.014162077104642014, 0.01888276947285602, 0.03540519276160504, 0.010228166797797011, 0.015735641227380016, 0.044059795436664044, 0.016522423288749016, 0.01966955153422502, 0.007867820613690008, 0.01888276947285602, 0.025177025963808025, 0.011801730920535013, 0.03225806451612903, 0.03461841070023604, 0.021243115656963022, 0.024390243902439025, 0.010228166797797011, 0.003933910306845004, 0.003933910306845004, 0.004720692368214005, 0.004720692368214005, 0.0, 0.0015735641227380016, 0.0, 0.0007867820613690008, 0.0007867820613690008, 0.0, 0.0007867820613690008, 0.0], \"type\": \"bar\", \"uid\": \"f8da136c-74e0-4e38-a733-347c0ab163e0\"}, {\"x\": [\"Jammu and Kashmir\", \"Punjab\", \"Tamil Nadu\", \"Assam\", \"Uttar Pradesh\", \"Haryana\", \"Karnataka\", \"NCT of Delhi\", \"West Bengal\", \"Odisha\", \"Kerala\", \"Uttarakhand\", \"Manipur\", \"Bihar\", \"Maharashtra\", \"Gujarat\", \"Jharkhand\", \"Andhra Pradesh\", \"Rajasthan\", \"Himachal Pradesh\", \"Chandigarh\", \"Telangana\", \"Madhya Pradesh\", \"Tripura\", \"Chhattisgarh\", \"Puducherry\", \"Meghalaya\", \"Nagaland\", \"Arunachal Pradesh\", \"Goa\", \"Mizoram\", \"Andaman and Nicobar\", \"Sikkim\", \"Daman and Diu\", \"Dadra and Nagar Haveli\"], \"y\": [0.25165562913907286, 0.12298959318826869, 0.07757805108798486, 0.036896877956480605, 0.07757805108798486, 0.07095553453169347, 0.021759697256385997, 0.019867549668874173, 0.023651844843897825, 0.014191106906338695, 0.03216650898770104, 0.014191106906338695, 0.021759697256385997, 0.017975402081362345, 0.011352885525070956, 0.017975402081362345, 0.020813623462630087, 0.01608325449385052, 0.020813623462630087, 0.03122043519394513, 0.017975402081362345, 0.019867549668874173, 0.005676442762535478, 0.00946073793755913, 0.007568590350047304, 0.00946073793755913, 0.003784295175023652, 0.0, 0.0, 0.003784295175023652, 0.0, 0.0, 0.0, 0.0, 0.000946073793755913], \"type\": \"bar\", \"uid\": \"aa717f3a-a9f3-4cd7-8bfb-eb15f71f16dc\"}, {\"x\": [\"Jammu and Kashmir\", \"Punjab\", \"Tamil Nadu\", \"Assam\", \"Uttar Pradesh\", \"Haryana\", \"Karnataka\", \"NCT of Delhi\", \"West Bengal\", \"Odisha\", \"Kerala\", \"Uttarakhand\", \"Manipur\", \"Bihar\", \"Maharashtra\", \"Gujarat\", \"Jharkhand\", \"Andhra Pradesh\", \"Rajasthan\", \"Himachal Pradesh\", \"Chandigarh\", \"Telangana\", \"Madhya Pradesh\", \"Tripura\", \"Chhattisgarh\", \"Puducherry\", \"Meghalaya\", \"Nagaland\", \"Arunachal Pradesh\", \"Goa\", \"Mizoram\", \"Andaman and Nicobar\", \"Sikkim\", \"Daman and Diu\", \"Dadra and Nagar Haveli\"], \"y\": [0.20826306913996628, 0.13069139966273188, 0.06239460370994941, 0.03456998313659359, 0.0699831365935919, 0.0657672849915683, 0.03288364249578415, 0.016863406408094434, 0.04300168634064081, 0.07082630691399663, 0.01433389544688027, 0.024451939291736932, 0.006745362563237774, 0.0193929173693086, 0.013490725126475547, 0.03794266441821248, 0.01011804384485666, 0.01517706576728499, 0.025295109612141653, 0.010961214165261383, 0.01011804384485666, 0.006745362563237774, 0.022765598650927487, 0.006745362563237774, 0.023608768971332208, 0.005902192242833052, 0.006745362563237774, 0.0008431703204047217, 0.0016863406408094434, 0.0008431703204047217, 0.0008431703204047217, 0.0, 0.0, 0.0, 0.0], \"type\": \"bar\", \"uid\": \"ca12f915-d9d7-4504-b441-452973c2c353\"}, {\"x\": [\"Jammu and Kashmir\", \"Punjab\", \"Tamil Nadu\", \"Assam\", \"Uttar Pradesh\", \"Haryana\", \"Karnataka\", \"NCT of Delhi\", \"West Bengal\", \"Odisha\", \"Kerala\", \"Uttarakhand\", \"Manipur\", \"Bihar\", \"Maharashtra\", \"Gujarat\", \"Jharkhand\", \"Andhra Pradesh\", \"Rajasthan\", \"Himachal Pradesh\", \"Chandigarh\", \"Telangana\", \"Madhya Pradesh\", \"Tripura\", \"Chhattisgarh\", \"Puducherry\", \"Meghalaya\", \"Nagaland\", \"Arunachal Pradesh\", \"Goa\", \"Mizoram\", \"Andaman and Nicobar\", \"Sikkim\", \"Daman and Diu\", \"Dadra and Nagar Haveli\"], \"y\": [0.17509727626459143, 0.1293774319066148, 0.04182879377431906, 0.07295719844357977, 0.10116731517509728, 0.04571984435797665, 0.04474708171206226, 0.042801556420233464, 0.06031128404669261, 0.0048638132295719845, 0.02821011673151751, 0.011673151750972763, 0.02529182879377432, 0.02821011673151751, 0.007782101167315175, 0.029182879377431907, 0.010700389105058366, 0.01848249027237354, 0.024319066147859923, 0.04961089494163424, 0.007782101167315175, 0.011673151750972763, 0.005836575875486381, 0.006809338521400778, 0.0, 0.0048638132295719845, 0.0048638132295719845, 0.0048638132295719845, 0.0009727626459143969, 0.0, 0.0, 0.0, 0.0, 0.0, 0.0], \"type\": \"bar\", \"uid\": \"6273dff0-7c53-45d1-9be4-3baed145dcab\"}, {\"x\": [\"Jammu and Kashmir\", \"Punjab\", \"Tamil Nadu\", \"Assam\", \"Uttar Pradesh\", \"Haryana\", \"Karnataka\", \"NCT of Delhi\", \"West Bengal\", \"Odisha\", \"Kerala\", \"Uttarakhand\", \"Manipur\", \"Bihar\", \"Maharashtra\", \"Gujarat\", \"Jharkhand\", \"Andhra Pradesh\", \"Rajasthan\", \"Himachal Pradesh\", \"Chandigarh\", \"Telangana\", \"Madhya Pradesh\", \"Tripura\", \"Chhattisgarh\", \"Puducherry\", \"Meghalaya\", \"Nagaland\", \"Arunachal Pradesh\", \"Goa\", \"Mizoram\", \"Andaman and Nicobar\", \"Sikkim\", \"Daman and Diu\", \"Dadra and Nagar Haveli\"], \"y\": [0.1342685370741483, 0.1342685370741483, 0.06012024048096192, 0.14729458917835672, 0.0781563126252505, 0.04308617234468938, 0.056112224448897796, 0.026052104208416832, 0.02004008016032064, 0.05811623246492986, 0.026052104208416832, 0.01002004008016032, 0.027054108216432865, 0.017034068136272545, 0.018036072144288578, 0.003006012024048096, 0.00501002004008016, 0.014028056112224449, 0.0070140280561122245, 0.04208416833667335, 0.021042084168336674, 0.01603206412825651, 0.004008016032064128, 0.0070140280561122245, 0.002004008016032064, 0.01002004008016032, 0.009018036072144289, 0.002004008016032064, 0.0, 0.0, 0.002004008016032064, 0.0, 0.0, 0.0, 0.0], \"type\": \"bar\", \"uid\": \"12207c37-e8d0-4cc4-a8cb-38a1b644acf2\"}, {\"x\": [\"Jammu and Kashmir\", \"Punjab\", \"Tamil Nadu\", \"Assam\", \"Uttar Pradesh\", \"Haryana\", \"Karnataka\", \"NCT of Delhi\", \"West Bengal\", \"Odisha\", \"Kerala\", \"Uttarakhand\", \"Manipur\", \"Bihar\", \"Maharashtra\", \"Gujarat\", \"Jharkhand\", \"Andhra Pradesh\", \"Rajasthan\", \"Himachal Pradesh\", \"Chandigarh\", \"Telangana\", \"Madhya Pradesh\", \"Tripura\", \"Chhattisgarh\", \"Puducherry\", \"Meghalaya\", \"Nagaland\", \"Arunachal Pradesh\", \"Goa\", \"Mizoram\", \"Andaman and Nicobar\", \"Sikkim\", \"Daman and Diu\", \"Dadra and Nagar Haveli\"], \"y\": [0.16390041493775934, 0.08921161825726141, 0.11203319502074689, 0.12655601659751037, 0.06327800829875518, 0.03319502074688797, 0.0487551867219917, 0.02074688796680498, 0.02074688796680498, 0.046680497925311204, 0.02074688796680498, 0.024896265560165973, 0.03319502074688797, 0.01867219917012448, 0.011410788381742738, 0.004149377593360996, 0.017634854771784232, 0.023858921161825725, 0.01867219917012448, 0.016597510373443983, 0.007261410788381743, 0.012448132780082987, 0.007261410788381743, 0.016597510373443983, 0.01037344398340249, 0.014522821576763486, 0.006224066390041493, 0.002074688796680498, 0.004149377593360996, 0.002074688796680498, 0.001037344398340249, 0.001037344398340249, 0.0, 0.0, 0.0], \"type\": \"bar\", \"uid\": \"42df1955-158d-45da-84fc-2c9529f578bd\"}, {\"x\": [\"Jammu and Kashmir\", \"Punjab\", \"Tamil Nadu\", \"Assam\", \"Uttar Pradesh\", \"Haryana\", \"Karnataka\", \"NCT of Delhi\", \"West Bengal\", \"Odisha\", \"Kerala\", \"Uttarakhand\", \"Manipur\", \"Bihar\", \"Maharashtra\", \"Gujarat\", \"Jharkhand\", \"Andhra Pradesh\", \"Rajasthan\", \"Himachal Pradesh\", \"Chandigarh\", \"Telangana\", \"Madhya Pradesh\", \"Tripura\", \"Chhattisgarh\", \"Puducherry\", \"Meghalaya\", \"Nagaland\", \"Arunachal Pradesh\", \"Goa\", \"Mizoram\", \"Andaman and Nicobar\", \"Sikkim\", \"Daman and Diu\", \"Dadra and Nagar Haveli\"], \"y\": [0.27236315086782376, 0.08678237650200267, 0.044058744993324434, 0.09746328437917223, 0.029372496662216287, 0.01602136181575434, 0.04005340453938585, 0.009345794392523364, 0.03204272363150868, 0.0026702269692923898, 0.05740987983978638, 0.00801068090787717, 0.014686248331108143, 0.07209612817089453, 0.044058744993324434, 0.00801068090787717, 0.04138851802403204, 0.02403204272363151, 0.018691588785046728, 0.0026702269692923898, 0.006675567423230975, 0.017356475300400534, 0.03471295060080107, 0.004005340453938585, 0.0026702269692923898, 0.006675567423230975, 0.0013351134846461949, 0.0026702269692923898, 0.0013351134846461949, 0.0013351134846461949, 0.0, 0.0, 0.0, 0.0, 0.0], \"type\": \"bar\", \"uid\": \"234ea1ed-d983-4559-8460-6e64f1b2fb65\"}, {\"x\": [\"Jammu and Kashmir\", \"Punjab\", \"Tamil Nadu\", \"Assam\", \"Uttar Pradesh\", \"Haryana\", \"Karnataka\", \"NCT of Delhi\", \"West Bengal\", \"Odisha\", \"Kerala\", \"Uttarakhand\", \"Manipur\", \"Bihar\", \"Maharashtra\", \"Gujarat\", \"Jharkhand\", \"Andhra Pradesh\", \"Rajasthan\", \"Himachal Pradesh\", \"Chandigarh\", \"Telangana\", \"Madhya Pradesh\", \"Tripura\", \"Chhattisgarh\", \"Puducherry\", \"Meghalaya\", \"Nagaland\", \"Arunachal Pradesh\", \"Goa\", \"Mizoram\", \"Andaman and Nicobar\", \"Sikkim\", \"Daman and Diu\", \"Dadra and Nagar Haveli\"], \"y\": [0.17427385892116182, 0.07053941908713693, 0.07468879668049792, 0.14661134163208853, 0.04564315352697095, 0.029045643153526972, 0.05255878284923928, 0.008298755186721992, 0.04702627939142462, 0.015214384508990318, 0.051175656984785614, 0.005532503457814661, 0.02074688796680498, 0.017980636237897647, 0.035961272475795295, 0.013831258644536652, 0.05532503457814661, 0.022130013831258646, 0.015214384508990318, 0.011065006915629323, 0.013831258644536652, 0.005532503457814661, 0.008298755186721992, 0.02627939142461964, 0.0027662517289073307, 0.016597510373443983, 0.005532503457814661, 0.0, 0.0013831258644536654, 0.004149377593360996, 0.0013831258644536654, 0.0, 0.0, 0.0013831258644536654, 0.0], \"type\": \"bar\", \"uid\": \"f925589d-561f-4ebc-9554-c9a1d08a28db\"}, {\"x\": [\"Jammu and Kashmir\", \"Punjab\", \"Tamil Nadu\", \"Assam\", \"Uttar Pradesh\", \"Haryana\", \"Karnataka\", \"NCT of Delhi\", \"West Bengal\", \"Odisha\", \"Kerala\", \"Uttarakhand\", \"Manipur\", \"Bihar\", \"Maharashtra\", \"Gujarat\", \"Jharkhand\", \"Andhra Pradesh\", \"Rajasthan\", \"Himachal Pradesh\", \"Chandigarh\", \"Telangana\", \"Madhya Pradesh\", \"Tripura\", \"Chhattisgarh\", \"Puducherry\", \"Meghalaya\", \"Nagaland\", \"Arunachal Pradesh\", \"Goa\", \"Mizoram\", \"Andaman and Nicobar\", \"Sikkim\", \"Daman and Diu\", \"Dadra and Nagar Haveli\"], \"y\": [0.16952380952380952, 0.16095238095238096, 0.054285714285714284, 0.05523809523809524, 0.05333333333333334, 0.054285714285714284, 0.06857142857142857, 0.04857142857142857, 0.01619047619047619, 0.007619047619047619, 0.04380952380952381, 0.017142857142857144, 0.012380952380952381, 0.04666666666666667, 0.01904761904761905, 0.011428571428571429, 0.0380952380952381, 0.013333333333333334, 0.025714285714285714, 0.01904761904761905, 0.009523809523809525, 0.01619047619047619, 0.006666666666666667, 0.013333333333333334, 0.0038095238095238095, 0.008571428571428572, 0.0, 0.0009523809523809524, 0.002857142857142857, 0.002857142857142857, 0.0, 0.0, 0.0, 0.0, 0.0], \"type\": \"bar\", \"uid\": \"5e0c713e-55fd-48d4-a9e6-55da20f7374c\"}, {\"x\": [\"Jammu and Kashmir\", \"Punjab\", \"Tamil Nadu\", \"Assam\", \"Uttar Pradesh\", \"Haryana\", \"Karnataka\", \"NCT of Delhi\", \"West Bengal\", \"Odisha\", \"Kerala\", \"Uttarakhand\", \"Manipur\", \"Bihar\", \"Maharashtra\", \"Gujarat\", \"Jharkhand\", \"Andhra Pradesh\", \"Rajasthan\", \"Himachal Pradesh\", \"Chandigarh\", \"Telangana\", \"Madhya Pradesh\", \"Tripura\", \"Chhattisgarh\", \"Puducherry\", \"Meghalaya\", \"Nagaland\", \"Arunachal Pradesh\", \"Goa\", \"Mizoram\", \"Andaman and Nicobar\", \"Sikkim\", \"Daman and Diu\", \"Dadra and Nagar Haveli\"], \"y\": [0.20530367835757057, 0.174508126603935, 0.12660393498716851, 0.01710863986313088, 0.06244653550042772, 0.05218135158254919, 0.032506415739948676, 0.032506415739948676, 0.0213857998289136, 0.009409751924721984, 0.0290846877673225, 0.020530367835757058, 0.003421727972626176, 0.016253207869974338, 0.059880239520958084, 0.026518391787852865, 0.0051325919589392645, 0.016253207869974338, 0.022241231822070145, 0.00855431993156544, 0.01710863986313088, 0.007698887938408896, 0.00855431993156544, 0.006843455945252352, 0.00855431993156544, 0.0051325919589392645, 0.000855431993156544, 0.0, 0.000855431993156544, 0.001710863986313088, 0.0, 0.000855431993156544, 0.0, 0.0, 0.0], \"type\": \"bar\", \"uid\": \"6af1839c-10fc-4e37-a9db-5eed5b5118ec\"}, {\"x\": [\"Jammu and Kashmir\", \"Punjab\", \"Tamil Nadu\", \"Assam\", \"Uttar Pradesh\", \"Haryana\", \"Karnataka\", \"NCT of Delhi\", \"West Bengal\", \"Odisha\", \"Kerala\", \"Uttarakhand\", \"Manipur\", \"Bihar\", \"Maharashtra\", \"Gujarat\", \"Jharkhand\", \"Andhra Pradesh\", \"Rajasthan\", \"Himachal Pradesh\", \"Chandigarh\", \"Telangana\", \"Madhya Pradesh\", \"Tripura\", \"Chhattisgarh\", \"Puducherry\", \"Meghalaya\", \"Nagaland\", \"Arunachal Pradesh\", \"Goa\", \"Mizoram\", \"Andaman and Nicobar\", \"Sikkim\", \"Daman and Diu\", \"Dadra and Nagar Haveli\"], \"y\": [0.1806020066889632, 0.1716833890746934, 0.07246376811594203, 0.0189520624303233, 0.030100334448160536, 0.06577480490523968, 0.026755852842809364, 0.06020066889632107, 0.017837235228539576, 0.023411371237458192, 0.033444816053511704, 0.01560758082497213, 0.013377926421404682, 0.014492753623188406, 0.03121516164994426, 0.008918617614269788, 0.010033444816053512, 0.06800445930880714, 0.017837235228539576, 0.022296544035674472, 0.010033444816053512, 0.006688963210702341, 0.005574136008918618, 0.026755852842809364, 0.017837235228539576, 0.0033444816053511705, 0.010033444816053512, 0.013377926421404682, 0.0011148272017837235, 0.002229654403567447, 0.0, 0.0, 0.0, 0.0, 0.0], \"type\": \"bar\", \"uid\": \"584b38dc-81b8-480c-8387-11e0ae531dc1\"}, {\"x\": [\"Jammu and Kashmir\", \"Punjab\", \"Tamil Nadu\", \"Assam\", \"Uttar Pradesh\", \"Haryana\", \"Karnataka\", \"NCT of Delhi\", \"West Bengal\", \"Odisha\", \"Kerala\", \"Uttarakhand\", \"Manipur\", \"Bihar\", \"Maharashtra\", \"Gujarat\", \"Jharkhand\", \"Andhra Pradesh\", \"Rajasthan\", \"Himachal Pradesh\", \"Chandigarh\", \"Telangana\", \"Madhya Pradesh\", \"Tripura\", \"Chhattisgarh\", \"Puducherry\", \"Meghalaya\", \"Nagaland\", \"Arunachal Pradesh\", \"Goa\", \"Mizoram\", \"Andaman and Nicobar\", \"Sikkim\", \"Daman and Diu\", \"Dadra and Nagar Haveli\"], \"y\": [0.22536496350364962, 0.14324817518248176, 0.16149635036496351, 0.03923357664233577, 0.037408759124087594, 0.03467153284671533, 0.017335766423357664, 0.06113138686131387, 0.028284671532846715, 0.02737226277372263, 0.020985401459854013, 0.014598540145985401, 0.008211678832116789, 0.028284671532846715, 0.025547445255474453, 0.010036496350364963, 0.002737226277372263, 0.040145985401459854, 0.010036496350364963, 0.009124087591240875, 0.017335766423357664, 0.008211678832116789, 0.004562043795620438, 0.006386861313868613, 0.011861313868613138, 0.0018248175182481751, 0.0, 0.0, 0.0, 0.0018248175182481751, 0.002737226277372263, 0.0, 0.0, 0.0, 0.0], \"type\": \"bar\", \"uid\": \"377b359a-4752-4cb1-be15-273d4dbdcff8\"}, {\"x\": [\"Jammu and Kashmir\", \"Punjab\", \"Tamil Nadu\", \"Assam\", \"Uttar Pradesh\", \"Haryana\", \"Karnataka\", \"NCT of Delhi\", \"West Bengal\", \"Odisha\", \"Kerala\", \"Uttarakhand\", \"Manipur\", \"Bihar\", \"Maharashtra\", \"Gujarat\", \"Jharkhand\", \"Andhra Pradesh\", \"Rajasthan\", \"Himachal Pradesh\", \"Chandigarh\", \"Telangana\", \"Madhya Pradesh\", \"Tripura\", \"Chhattisgarh\", \"Puducherry\", \"Meghalaya\", \"Nagaland\", \"Arunachal Pradesh\", \"Goa\", \"Mizoram\", \"Andaman and Nicobar\", \"Sikkim\", \"Daman and Diu\", \"Dadra and Nagar Haveli\"], \"y\": [0.21641337386018236, 0.12279635258358662, 0.1513677811550152, 0.02857142857142857, 0.04012158054711246, 0.031610942249240125, 0.015197568389057751, 0.02066869300911854, 0.060790273556231005, 0.015197568389057751, 0.03951367781155015, 0.01641337386018237, 0.013373860182370821, 0.03708206686930091, 0.015805471124620062, 0.029787234042553193, 0.02857142857142857, 0.03343465045592705, 0.01641337386018237, 0.00851063829787234, 0.015197568389057751, 0.0060790273556231, 0.01094224924012158, 0.00364741641337386, 0.006686930091185411, 0.00851063829787234, 0.0012158054711246201, 0.0, 0.00182370820668693, 0.0024316109422492403, 0.0012158054711246201, 0.0, 0.0006079027355623101, 0.0, 0.0], \"type\": \"bar\", \"uid\": \"1ee7283c-647b-4ef1-889c-fa328ea53ad7\"}, {\"x\": [\"Jammu and Kashmir\", \"Punjab\", \"Tamil Nadu\", \"Assam\", \"Uttar Pradesh\", \"Haryana\", \"Karnataka\", \"NCT of Delhi\", \"West Bengal\", \"Odisha\", \"Kerala\", \"Uttarakhand\", \"Manipur\", \"Bihar\", \"Maharashtra\", \"Gujarat\", \"Jharkhand\", \"Andhra Pradesh\", \"Rajasthan\", \"Himachal Pradesh\", \"Chandigarh\", \"Telangana\", \"Madhya Pradesh\", \"Tripura\", \"Chhattisgarh\", \"Puducherry\", \"Meghalaya\", \"Nagaland\", \"Arunachal Pradesh\", \"Goa\", \"Mizoram\", \"Andaman and Nicobar\", \"Sikkim\", \"Daman and Diu\", \"Dadra and Nagar Haveli\"], \"y\": [0.19719407638347622, 0.10989867498051442, 0.12081060015588464, 0.09197194076383476, 0.026500389711613406, 0.04520654715510522, 0.042868277474668745, 0.021823850350740453, 0.0779423226812159, 0.025720966484801246, 0.01636788776305534, 0.005455962587685113, 0.014809041309431021, 0.017926734216679657, 0.01636788776305534, 0.0171473109898675, 0.011691348402182385, 0.027279812938425563, 0.014029618082618862, 0.029618082618862042, 0.013250194855806703, 0.00857365549493375, 0.007014809041309431, 0.011691348402182385, 0.00857365549493375, 0.005455962587685113, 0.006235385814497272, 0.000779423226812159, 0.003897116134060795, 0.003117692907248636, 0.000779423226812159, 0.0, 0.0, 0.0, 0.0], \"type\": \"bar\", \"uid\": \"40f93c1a-a30b-45d2-97bf-e8abd1091b28\"}, {\"x\": [\"Jammu and Kashmir\", \"Punjab\", \"Tamil Nadu\", \"Assam\", \"Uttar Pradesh\", \"Haryana\", \"Karnataka\", \"NCT of Delhi\", \"West Bengal\", \"Odisha\", \"Kerala\", \"Uttarakhand\", \"Manipur\", \"Bihar\", \"Maharashtra\", \"Gujarat\", \"Jharkhand\", \"Andhra Pradesh\", \"Rajasthan\", \"Himachal Pradesh\", \"Chandigarh\", \"Telangana\", \"Madhya Pradesh\", \"Tripura\", \"Chhattisgarh\", \"Puducherry\", \"Meghalaya\", \"Nagaland\", \"Arunachal Pradesh\", \"Goa\", \"Mizoram\", \"Andaman and Nicobar\", \"Sikkim\", \"Daman and Diu\", \"Dadra and Nagar Haveli\"], \"y\": [0.21171171171171171, 0.14684684684684685, 0.09549549549549549, 0.05675675675675676, 0.03063063063063063, 0.03963963963963964, 0.05045045045045045, 0.027927927927927927, 0.017117117117117116, 0.016216216216216217, 0.01981981981981982, 0.018018018018018018, 0.014414414414414415, 0.036936936936936934, 0.027927927927927927, 0.03063063063063063, 0.016216216216216217, 0.02252252252252252, 0.02072072072072072, 0.015315315315315315, 0.0045045045045045045, 0.009009009009009009, 0.024324324324324326, 0.011711711711711712, 0.009009009009009009, 0.0036036036036036037, 0.013513513513513514, 0.006306306306306306, 0.0009009009009009009, 0.0018018018018018018, 0.0, 0.0, 0.0, 0.0, 0.0], \"type\": \"bar\", \"uid\": \"124b1e25-14ee-4b85-a394-b0f6592aede2\"}, {\"x\": [\"Jammu and Kashmir\", \"Punjab\", \"Tamil Nadu\", \"Assam\", \"Uttar Pradesh\", \"Haryana\", \"Karnataka\", \"NCT of Delhi\", \"West Bengal\", \"Odisha\", \"Kerala\", \"Uttarakhand\", \"Manipur\", \"Bihar\", \"Maharashtra\", \"Gujarat\", \"Jharkhand\", \"Andhra Pradesh\", \"Rajasthan\", \"Himachal Pradesh\", \"Chandigarh\", \"Telangana\", \"Madhya Pradesh\", \"Tripura\", \"Chhattisgarh\", \"Puducherry\", \"Meghalaya\", \"Nagaland\", \"Arunachal Pradesh\", \"Goa\", \"Mizoram\", \"Andaman and Nicobar\", \"Sikkim\", \"Daman and Diu\", \"Dadra and Nagar Haveli\"], \"y\": [0.16152597402597402, 0.1956168831168831, 0.09172077922077922, 0.05032467532467533, 0.022727272727272728, 0.03814935064935065, 0.05113636363636364, 0.01948051948051948, 0.021915584415584416, 0.037337662337662336, 0.022727272727272728, 0.012175324675324676, 0.04626623376623377, 0.017045454545454544, 0.05844155844155844, 0.007305194805194805, 0.017045454545454544, 0.030032467532467532, 0.01461038961038961, 0.010551948051948052, 0.021103896103896104, 0.006493506493506494, 0.005681818181818182, 0.00487012987012987, 0.00974025974025974, 0.003246753246753247, 0.004058441558441558, 0.0008116883116883117, 0.00487012987012987, 0.002435064935064935, 0.007305194805194805, 0.002435064935064935, 0.0008116883116883117, 0.0, 0.0], \"type\": \"bar\", \"uid\": \"9b36fca8-f765-4fff-9dd3-47f8e24e5a93\"}, {\"x\": [\"Jammu and Kashmir\", \"Punjab\", \"Tamil Nadu\", \"Assam\", \"Uttar Pradesh\", \"Haryana\", \"Karnataka\", \"NCT of Delhi\", \"West Bengal\", \"Odisha\", \"Kerala\", \"Uttarakhand\", \"Manipur\", \"Bihar\", \"Maharashtra\", \"Gujarat\", \"Jharkhand\", \"Andhra Pradesh\", \"Rajasthan\", \"Himachal Pradesh\", \"Chandigarh\", \"Telangana\", \"Madhya Pradesh\", \"Tripura\", \"Chhattisgarh\", \"Puducherry\", \"Meghalaya\", \"Nagaland\", \"Arunachal Pradesh\", \"Goa\", \"Mizoram\", \"Andaman and Nicobar\", \"Sikkim\", \"Daman and Diu\", \"Dadra and Nagar Haveli\"], \"y\": [0.2305334150827713, 0.1213979153893317, 0.041692213366033105, 0.04843654199877376, 0.04721030042918455, 0.03801348865726548, 0.02575107296137339, 0.03740036787247088, 0.06866952789699571, 0.05027590435315757, 0.004291845493562232, 0.01655426118945432, 0.0539546290619252, 0.04721030042918455, 0.03494788473329246, 0.012262415695892091, 0.014714898835070508, 0.015328019619865114, 0.009809932556713672, 0.011649294911097487, 0.015328019619865114, 0.00674432863274065, 0.0030656039239730227, 0.009809932556713672, 0.00797057020232986, 0.001226241569589209, 0.005518087063151441, 0.00797057020232986, 0.00797057020232986, 0.0006131207847946045, 0.001226241569589209, 0.001226241569589209, 0.001226241569589209, 0.0, 0.0], \"type\": \"bar\", \"uid\": \"2321c85e-8a60-4e64-b522-00fbf29ad450\"}, {\"x\": [\"Jammu and Kashmir\", \"Punjab\", \"Tamil Nadu\", \"Assam\", \"Uttar Pradesh\", \"Haryana\", \"Karnataka\", \"NCT of Delhi\", \"West Bengal\", \"Odisha\", \"Kerala\", \"Uttarakhand\", \"Manipur\", \"Bihar\", \"Maharashtra\", \"Gujarat\", \"Jharkhand\", \"Andhra Pradesh\", \"Rajasthan\", \"Himachal Pradesh\", \"Chandigarh\", \"Telangana\", \"Madhya Pradesh\", \"Tripura\", \"Chhattisgarh\", \"Puducherry\", \"Meghalaya\", \"Nagaland\", \"Arunachal Pradesh\", \"Goa\", \"Mizoram\", \"Andaman and Nicobar\", \"Sikkim\", \"Daman and Diu\", \"Dadra and Nagar Haveli\"], \"y\": [0.15512048192771086, 0.16164658634538154, 0.04568273092369478, 0.056726907630522086, 0.05572289156626506, 0.053714859437751006, 0.028112449799196786, 0.028112449799196786, 0.04919678714859438, 0.058734939759036146, 0.015562248995983935, 0.0035140562248995983, 0.02610441767068273, 0.0607429718875502, 0.020582329317269075, 0.009538152610441768, 0.021586345381526106, 0.022590361445783132, 0.009538152610441768, 0.014056224899598393, 0.01355421686746988, 0.025100401606425703, 0.022590361445783132, 0.01355421686746988, 0.007530120481927711, 0.004016064257028112, 0.005522088353413655, 0.0030120481927710845, 0.004016064257028112, 0.0, 0.0015060240963855422, 0.0030120481927710845, 0.0, 0.0, 0.0], \"type\": \"bar\", \"uid\": \"a9eb6410-f955-4929-bea5-958f793d0c8a\"}, {\"x\": [\"Jammu and Kashmir\", \"Punjab\", \"Tamil Nadu\", \"Assam\", \"Uttar Pradesh\", \"Haryana\", \"Karnataka\", \"NCT of Delhi\", \"West Bengal\", \"Odisha\", \"Kerala\", \"Uttarakhand\", \"Manipur\", \"Bihar\", \"Maharashtra\", \"Gujarat\", \"Jharkhand\", \"Andhra Pradesh\", \"Rajasthan\", \"Himachal Pradesh\", \"Chandigarh\", \"Telangana\", \"Madhya Pradesh\", \"Tripura\", \"Chhattisgarh\", \"Puducherry\", \"Meghalaya\", \"Nagaland\", \"Arunachal Pradesh\", \"Goa\", \"Mizoram\", \"Andaman and Nicobar\", \"Sikkim\", \"Daman and Diu\", \"Dadra and Nagar Haveli\"], \"y\": [0.2025862068965517, 0.13608374384236452, 0.050492610837438424, 0.07635467980295567, 0.050492610837438424, 0.05357142857142857, 0.02586206896551724, 0.03017241379310345, 0.022167487684729065, 0.05110837438423645, 0.04864532019704434, 0.0024630541871921183, 0.017241379310344827, 0.027093596059113302, 0.02770935960591133, 0.0166256157635468, 0.01847290640394089, 0.04064039408866995, 0.008620689655172414, 0.01539408866995074, 0.01539408866995074, 0.017241379310344827, 0.0067733990147783255, 0.008004926108374385, 0.013546798029556651, 0.0018472906403940886, 0.0049261083743842365, 0.003078817733990148, 0.003694581280788177, 0.0018472906403940886, 0.0006157635467980296, 0.0012315270935960591, 0.0, 0.0, 0.0], \"type\": \"bar\", \"uid\": \"025d9f49-6443-452f-8226-beeeeded4f02\"}, {\"x\": [\"Jammu and Kashmir\", \"Punjab\", \"Tamil Nadu\", \"Assam\", \"Uttar Pradesh\", \"Haryana\", \"Karnataka\", \"NCT of Delhi\", \"West Bengal\", \"Odisha\", \"Kerala\", \"Uttarakhand\", \"Manipur\", \"Bihar\", \"Maharashtra\", \"Gujarat\", \"Jharkhand\", \"Andhra Pradesh\", \"Rajasthan\", \"Himachal Pradesh\", \"Chandigarh\", \"Telangana\", \"Madhya Pradesh\", \"Tripura\", \"Chhattisgarh\", \"Puducherry\", \"Meghalaya\", \"Nagaland\", \"Arunachal Pradesh\", \"Goa\", \"Mizoram\", \"Andaman and Nicobar\", \"Sikkim\", \"Daman and Diu\", \"Dadra and Nagar Haveli\"], \"y\": [0.21954314720812182, 0.12373096446700507, 0.03299492385786802, 0.10596446700507614, 0.03934010152284264, 0.02728426395939086, 0.02728426395939086, 0.02728426395939086, 0.02982233502538071, 0.04314720812182741, 0.03362944162436548, 0.01015228426395939, 0.020939086294416244, 0.02030456852791878, 0.031091370558375634, 0.0038071065989847717, 0.048223350253807105, 0.02728426395939086, 0.008248730964467006, 0.007614213197969543, 0.015862944162436547, 0.014593908629441625, 0.01015228426395939, 0.01649746192893401, 0.02284263959390863, 0.0, 0.006979695431472081, 0.005076142131979695, 0.011421319796954314, 0.005710659898477157, 0.0025380710659898475, 0.0006345177664974619, 0.0, 0.0, 0.0], \"type\": \"bar\", \"uid\": \"f2598f3f-c488-43d6-b174-884b5d8eb6f8\"}, {\"x\": [\"Jammu and Kashmir\", \"Punjab\", \"Tamil Nadu\", \"Assam\", \"Uttar Pradesh\", \"Haryana\", \"Karnataka\", \"NCT of Delhi\", \"West Bengal\", \"Odisha\", \"Kerala\", \"Uttarakhand\", \"Manipur\", \"Bihar\", \"Maharashtra\", \"Gujarat\", \"Jharkhand\", \"Andhra Pradesh\", \"Rajasthan\", \"Himachal Pradesh\", \"Chandigarh\", \"Telangana\", \"Madhya Pradesh\", \"Tripura\", \"Chhattisgarh\", \"Puducherry\", \"Meghalaya\", \"Nagaland\", \"Arunachal Pradesh\", \"Goa\", \"Mizoram\", \"Andaman and Nicobar\", \"Sikkim\", \"Daman and Diu\", \"Dadra and Nagar Haveli\"], \"y\": [0.1952147906470908, 0.14192495921696574, 0.05600870038064165, 0.09679173463839043, 0.036976617727025554, 0.02773246329526917, 0.03969548667754214, 0.034801522566612286, 0.018488308863512777, 0.03969548667754214, 0.03915171288743882, 0.009244154431756389, 0.02936378466557912, 0.018488308863512777, 0.016856987493202826, 0.011963023382272975, 0.013050570962479609, 0.029907558455682437, 0.01957585644371941, 0.009244154431756389, 0.01631321370309951, 0.023382272974442633, 0.009244154431756389, 0.03262642740619902, 0.005437737901033171, 0.002175095160413268, 0.0076128330614464385, 0.008156606851549755, 0.0032626427406199023, 0.004893964110929853, 0.0016313213703099511, 0.001087547580206634, 0.0, 0.0, 0.0], \"type\": \"bar\", \"uid\": \"1c45c15a-5a71-4ae3-b97e-4af501aba395\"}, {\"x\": [\"Jammu and Kashmir\", \"Punjab\", \"Tamil Nadu\", \"Assam\", \"Uttar Pradesh\", \"Haryana\", \"Karnataka\", \"NCT of Delhi\", \"West Bengal\", \"Odisha\", \"Kerala\", \"Uttarakhand\", \"Manipur\", \"Bihar\", \"Maharashtra\", \"Gujarat\", \"Jharkhand\", \"Andhra Pradesh\", \"Rajasthan\", \"Himachal Pradesh\", \"Chandigarh\", \"Telangana\", \"Madhya Pradesh\", \"Tripura\", \"Chhattisgarh\", \"Puducherry\", \"Meghalaya\", \"Nagaland\", \"Arunachal Pradesh\", \"Goa\", \"Mizoram\", \"Andaman and Nicobar\", \"Sikkim\", \"Daman and Diu\", \"Dadra and Nagar Haveli\"], \"y\": [0.13202933985330073, 0.1039119804400978, 0.06845965770171149, 0.1980440097799511, 0.02689486552567237, 0.017726161369193152, 0.02506112469437653, 0.02689486552567237, 0.035452322738386305, 0.04706601466992665, 0.06845965770171149, 0.0024449877750611247, 0.03667481662591687, 0.023838630806845965, 0.023838630806845965, 0.009168704156479218, 0.02444987775061125, 0.020171149144254278, 0.0024449877750611247, 0.011002444987775062, 0.006723716381418093, 0.015281173594132029, 0.009779951100244499, 0.019559902200488997, 0.006112469437652812, 0.0018337408312958435, 0.015281173594132029, 0.0018337408312958435, 0.007946210268948655, 0.0024449877750611247, 0.006723716381418093, 0.0006112469437652812, 0.0018337408312958435, 0.0, 0.0], \"type\": \"bar\", \"uid\": \"31bb0975-7a2c-4422-8ec4-f9106488d9ac\"}], {\"autosize\": true, \"sliders\": [{\"active\": 0, \"currentvalue\": {\"prefix\": \"\"}, \"name\": \"Month\", \"pad\": {\"t\": 37}, \"steps\": [{\"args\": [\"visible\", [true, false, false, false, false, false, false, false, false, false, false, false, false, false, false, false, false, false, false, false, false, false, false, false, false, false, false, false, false, false, false, false, false, false, false, false, false]], \"label\": \"Month 1\", \"method\": \"restyle\"}, {\"args\": [\"visible\", [false, true, false, false, false, false, false, false, false, false, false, false, false, false, false, false, false, false, false, false, false, false, false, false, false, false, false, false, false, false, false, false, false, false, false, false, false]], \"label\": \"Month 2\", \"method\": \"restyle\"}, {\"args\": [\"visible\", [false, false, true, false, false, false, false, false, false, false, false, false, false, false, false, false, false, false, false, false, false, false, false, false, false, false, false, false, false, false, false, false, false, false, false, false, false]], \"label\": \"Month 3\", \"method\": \"restyle\"}, {\"args\": [\"visible\", [false, false, false, true, false, false, false, false, false, false, false, false, false, false, false, false, false, false, false, false, false, false, false, false, false, false, false, false, false, false, false, false, false, false, false, false, false]], \"label\": \"Month 4\", \"method\": \"restyle\"}, {\"args\": [\"visible\", [false, false, false, false, true, false, false, false, false, false, false, false, false, false, false, false, false, false, false, false, false, false, false, false, false, false, false, false, false, false, false, false, false, false, false, false, false]], \"label\": \"Month 5\", \"method\": \"restyle\"}, {\"args\": [\"visible\", [false, false, false, false, false, true, false, false, false, false, false, false, false, false, false, false, false, false, false, false, false, false, false, false, false, false, false, false, false, false, false, false, false, false, false, false, false]], \"label\": \"Month 6\", \"method\": \"restyle\"}, {\"args\": [\"visible\", [false, false, false, false, false, false, true, false, false, false, false, false, false, false, false, false, false, false, false, false, false, false, false, false, false, false, false, false, false, false, false, false, false, false, false, false, false]], \"label\": \"Month 7\", \"method\": \"restyle\"}, {\"args\": [\"visible\", [false, false, false, false, false, false, false, true, false, false, false, false, false, false, false, false, false, false, false, false, false, false, false, false, false, false, false, false, false, false, false, false, false, false, false, false, false]], \"label\": \"Month 8\", \"method\": \"restyle\"}, {\"args\": [\"visible\", [false, false, false, false, false, false, false, false, true, false, false, false, false, false, false, false, false, false, false, false, false, false, false, false, false, false, false, false, false, false, false, false, false, false, false, false, false]], \"label\": \"Month 9\", \"method\": \"restyle\"}, {\"args\": [\"visible\", [false, false, false, false, false, false, false, false, false, true, false, false, false, false, false, false, false, false, false, false, false, false, false, false, false, false, false, false, false, false, false, false, false, false, false, false, false]], \"label\": \"Month 10\", \"method\": \"restyle\"}, {\"args\": [\"visible\", [false, false, false, false, false, false, false, false, false, false, true, false, false, false, false, false, false, false, false, false, false, false, false, false, false, false, false, false, false, false, false, false, false, false, false, false, false]], \"label\": \"Month 11\", \"method\": \"restyle\"}, {\"args\": [\"visible\", [false, false, false, false, false, false, false, false, false, false, false, true, false, false, false, false, false, false, false, false, false, false, false, false, false, false, false, false, false, false, false, false, false, false, false, false, false]], \"label\": \"Month 12\", \"method\": \"restyle\"}, {\"args\": [\"visible\", [false, false, false, false, false, false, false, false, false, false, false, false, true, false, false, false, false, false, false, false, false, false, false, false, false, false, false, false, false, false, false, false, false, false, false, false, false]], \"label\": \"Month 13\", \"method\": \"restyle\"}, {\"args\": [\"visible\", [false, false, false, false, false, false, false, false, false, false, false, false, false, true, false, false, false, false, false, false, false, false, false, false, false, false, false, false, false, false, false, false, false, false, false, false, false]], \"label\": \"Month 14\", \"method\": \"restyle\"}, {\"args\": [\"visible\", [false, false, false, false, false, false, false, false, false, false, false, false, false, false, true, false, false, false, false, false, false, false, false, false, false, false, false, false, false, false, false, false, false, false, false, false, false]], \"label\": \"Month 15\", \"method\": \"restyle\"}, {\"args\": [\"visible\", [false, false, false, false, false, false, false, false, false, false, false, false, false, false, false, true, false, false, false, false, false, false, false, false, false, false, false, false, false, false, false, false, false, false, false, false, false]], \"label\": \"Month 16\", \"method\": \"restyle\"}, {\"args\": [\"visible\", [false, false, false, false, false, false, false, false, false, false, false, false, false, false, false, false, true, false, false, false, false, false, false, false, false, false, false, false, false, false, false, false, false, false, false, false, false]], \"label\": \"Month 17\", \"method\": \"restyle\"}, {\"args\": [\"visible\", [false, false, false, false, false, false, false, false, false, false, false, false, false, false, false, false, false, true, false, false, false, false, false, false, false, false, false, false, false, false, false, false, false, false, false, false, false]], \"label\": \"Month 18\", \"method\": \"restyle\"}, {\"args\": [\"visible\", [false, false, false, false, false, false, false, false, false, false, false, false, false, false, false, false, false, false, true, false, false, false, false, false, false, false, false, false, false, false, false, false, false, false, false, false, false]], \"label\": \"Month 19\", \"method\": \"restyle\"}, {\"args\": [\"visible\", [false, false, false, false, false, false, false, false, false, false, false, false, false, false, false, false, false, false, false, true, false, false, false, false, false, false, false, false, false, false, false, false, false, false, false, false, false]], \"label\": \"Month 20\", \"method\": \"restyle\"}, {\"args\": [\"visible\", [false, false, false, false, false, false, false, false, false, false, false, false, false, false, false, false, false, false, false, false, true, false, false, false, false, false, false, false, false, false, false, false, false, false, false, false, false]], \"label\": \"Month 21\", \"method\": \"restyle\"}, {\"args\": [\"visible\", [false, false, false, false, false, false, false, false, false, false, false, false, false, false, false, false, false, false, false, false, false, true, false, false, false, false, false, false, false, false, false, false, false, false, false, false, false]], \"label\": \"Month 22\", \"method\": \"restyle\"}, {\"args\": [\"visible\", [false, false, false, false, false, false, false, false, false, false, false, false, false, false, false, false, false, false, false, false, false, false, true, false, false, false, false, false, false, false, false, false, false, false, false, false, false]], \"label\": \"Month 23\", \"method\": \"restyle\"}, {\"args\": [\"visible\", [false, false, false, false, false, false, false, false, false, false, false, false, false, false, false, false, false, false, false, false, false, false, false, true, false, false, false, false, false, false, false, false, false, false, false, false, false]], \"label\": \"Month 24\", \"method\": \"restyle\"}, {\"args\": [\"visible\", [false, false, false, false, false, false, false, false, false, false, false, false, false, false, false, false, false, false, false, false, false, false, false, false, true, false, false, false, false, false, false, false, false, false, false, false, false]], \"label\": \"Month 25\", \"method\": \"restyle\"}, {\"args\": [\"visible\", [false, false, false, false, false, false, false, false, false, false, false, false, false, false, false, false, false, false, false, false, false, false, false, false, false, true, false, false, false, false, false, false, false, false, false, false, false]], \"label\": \"Month 26\", \"method\": \"restyle\"}, {\"args\": [\"visible\", [false, false, false, false, false, false, false, false, false, false, false, false, false, false, false, false, false, false, false, false, false, false, false, false, false, false, true, false, false, false, false, false, false, false, false, false, false]], \"label\": \"Month 27\", \"method\": \"restyle\"}, {\"args\": [\"visible\", [false, false, false, false, false, false, false, false, false, false, false, false, false, false, false, false, false, false, false, false, false, false, false, false, false, false, false, true, false, false, false, false, false, false, false, false, false]], \"label\": \"Month 28\", \"method\": \"restyle\"}, {\"args\": [\"visible\", [false, false, false, false, false, false, false, false, false, false, false, false, false, false, false, false, false, false, false, false, false, false, false, false, false, false, false, false, true, false, false, false, false, false, false, false, false]], \"label\": \"Month 29\", \"method\": \"restyle\"}, {\"args\": [\"visible\", [false, false, false, false, false, false, false, false, false, false, false, false, false, false, false, false, false, false, false, false, false, false, false, false, false, false, false, false, false, true, false, false, false, false, false, false, false]], \"label\": \"Month 30\", \"method\": \"restyle\"}, {\"args\": [\"visible\", [false, false, false, false, false, false, false, false, false, false, false, false, false, false, false, false, false, false, false, false, false, false, false, false, false, false, false, false, false, false, true, false, false, false, false, false, false]], \"label\": \"Month 31\", \"method\": \"restyle\"}, {\"args\": [\"visible\", [false, false, false, false, false, false, false, false, false, false, false, false, false, false, false, false, false, false, false, false, false, false, false, false, false, false, false, false, false, false, false, true, false, false, false, false, false]], \"label\": \"Month 32\", \"method\": \"restyle\"}, {\"args\": [\"visible\", [false, false, false, false, false, false, false, false, false, false, false, false, false, false, false, false, false, false, false, false, false, false, false, false, false, false, false, false, false, false, false, false, true, false, false, false, false]], \"label\": \"Month 33\", \"method\": \"restyle\"}, {\"args\": [\"visible\", [false, false, false, false, false, false, false, false, false, false, false, false, false, false, false, false, false, false, false, false, false, false, false, false, false, false, false, false, false, false, false, false, false, true, false, false, false]], \"label\": \"Month 34\", \"method\": \"restyle\"}, {\"args\": [\"visible\", [false, false, false, false, false, false, false, false, false, false, false, false, false, false, false, false, false, false, false, false, false, false, false, false, false, false, false, false, false, false, false, false, false, false, true, false, false]], \"label\": \"Month 35\", \"method\": \"restyle\"}, {\"args\": [\"visible\", [false, false, false, false, false, false, false, false, false, false, false, false, false, false, false, false, false, false, false, false, false, false, false, false, false, false, false, false, false, false, false, false, false, false, false, true, false]], \"label\": \"Month 36\", \"method\": \"restyle\"}, {\"args\": [\"visible\", [false, false, false, false, false, false, false, false, false, false, false, false, false, false, false, false, false, false, false, false, false, false, false, false, false, false, false, false, false, false, false, false, false, false, false, false, true]], \"label\": \"Month 37\", \"method\": \"restyle\"}], \"y\": 1.5}], \"title\": {\"text\": \"Monthwise Event Frequency\"}, \"xaxis\": {\"automargin\": true, \"title\": {\"text\": \"States\"}}, \"yaxis\": {\"automargin\": true, \"title\": {\"text\": \"Normalized Frequency\"}}}, {\"showLink\": false, \"linkText\": \"Export to plot.ly\", \"plotlyServerURL\": \"https://plot.ly\"})});</script><script type=\"text/javascript\">window.addEventListener(\"resize\", function(){window._Plotly.Plots.resize(document.getElementById(\"8c5dc564-6556-4ffb-ae38-642d905ac534\"));});</script>"
      ],
      "text/vnd.plotly.v1+html": [
       "<div id=\"8c5dc564-6556-4ffb-ae38-642d905ac534\" style=\"height: 525px; width: 100%;\" class=\"plotly-graph-div\"></div><script type=\"text/javascript\">require([\"plotly\"], function(Plotly) { window.PLOTLYENV=window.PLOTLYENV || {};window.PLOTLYENV.BASE_URL=\"https://plot.ly\";Plotly.newPlot(\"8c5dc564-6556-4ffb-ae38-642d905ac534\", [{\"x\": [\"Jammu and Kashmir\", \"Punjab\", \"Tamil Nadu\", \"Assam\", \"Uttar Pradesh\", \"Haryana\", \"Karnataka\", \"NCT of Delhi\", \"West Bengal\", \"Odisha\", \"Kerala\", \"Uttarakhand\", \"Manipur\", \"Bihar\", \"Maharashtra\", \"Gujarat\", \"Jharkhand\", \"Andhra Pradesh\", \"Rajasthan\", \"Himachal Pradesh\", \"Chandigarh\", \"Telangana\", \"Madhya Pradesh\", \"Tripura\", \"Chhattisgarh\", \"Puducherry\", \"Meghalaya\", \"Nagaland\", \"Arunachal Pradesh\", \"Goa\", \"Mizoram\", \"Andaman and Nicobar\", \"Sikkim\", \"Daman and Diu\", \"Dadra and Nagar Haveli\"], \"y\": [0.06914893617021277, 0.19148936170212766, 0.07313829787234043, 0.031914893617021274, 0.043882978723404256, 0.08776595744680851, 0.0398936170212766, 0.05053191489361702, 0.026595744680851064, 0.0199468085106383, 0.027925531914893616, 0.11170212765957446, 0.023936170212765957, 0.02526595744680851, 0.031914893617021274, 0.02127659574468085, 0.023936170212765957, 0.009308510638297872, 0.011968085106382979, 0.007978723404255319, 0.014627659574468085, 0.023936170212765957, 0.005319148936170213, 0.0, 0.010638297872340425, 0.0013297872340425532, 0.010638297872340425, 0.0, 0.0013297872340425532, 0.0026595744680851063, 0.0, 0.0, 0.0, 0.0, 0.0], \"type\": \"bar\", \"uid\": \"985a2eee-6ddf-4b7d-9eaf-5ad2be9a5925\"}, {\"x\": [\"Jammu and Kashmir\", \"Punjab\", \"Tamil Nadu\", \"Assam\", \"Uttar Pradesh\", \"Haryana\", \"Karnataka\", \"NCT of Delhi\", \"West Bengal\", \"Odisha\", \"Kerala\", \"Uttarakhand\", \"Manipur\", \"Bihar\", \"Maharashtra\", \"Gujarat\", \"Jharkhand\", \"Andhra Pradesh\", \"Rajasthan\", \"Himachal Pradesh\", \"Chandigarh\", \"Telangana\", \"Madhya Pradesh\", \"Tripura\", \"Chhattisgarh\", \"Puducherry\", \"Meghalaya\", \"Nagaland\", \"Arunachal Pradesh\", \"Goa\", \"Mizoram\", \"Andaman and Nicobar\", \"Sikkim\", \"Daman and Diu\", \"Dadra and Nagar Haveli\"], \"y\": [0.06291706387035272, 0.14394661582459486, 0.07816968541468065, 0.07149666348903717, 0.05052430886558627, 0.14871306005719734, 0.027645376549094377, 0.04194470924690181, 0.04003813155386082, 0.015252621544327931, 0.014299332697807437, 0.06291706387035272, 0.019065776930409915, 0.030505243088655862, 0.015252621544327931, 0.02478551000953289, 0.02669208770257388, 0.0076263107721639654, 0.017159199237368923, 0.017159199237368923, 0.027645376549094377, 0.011439466158245948, 0.008579599618684462, 0.008579599618684462, 0.010486177311725452, 0.004766444232602479, 0.0038131553860819827, 0.0019065776930409914, 0.0019065776930409914, 0.0038131553860819827, 0.0009532888465204957, 0.0, 0.0, 0.0, 0.0], \"type\": \"bar\", \"uid\": \"280b2021-0545-4d65-b411-ca4a1a5144ac\"}, {\"x\": [\"Jammu and Kashmir\", \"Punjab\", \"Tamil Nadu\", \"Assam\", \"Uttar Pradesh\", \"Haryana\", \"Karnataka\", \"NCT of Delhi\", \"West Bengal\", \"Odisha\", \"Kerala\", \"Uttarakhand\", \"Manipur\", \"Bihar\", \"Maharashtra\", \"Gujarat\", \"Jharkhand\", \"Andhra Pradesh\", \"Rajasthan\", \"Himachal Pradesh\", \"Chandigarh\", \"Telangana\", \"Madhya Pradesh\", \"Tripura\", \"Chhattisgarh\", \"Puducherry\", \"Meghalaya\", \"Nagaland\", \"Arunachal Pradesh\", \"Goa\", \"Mizoram\", \"Andaman and Nicobar\", \"Sikkim\", \"Daman and Diu\", \"Dadra and Nagar Haveli\"], \"y\": [0.07468879668049792, 0.16459197786998617, 0.07192254495159059, 0.05532503457814661, 0.027662517289073305, 0.022130013831258646, 0.08852005532503458, 0.02351313969571231, 0.04426002766251729, 0.011065006915629323, 0.035961272475795295, 0.10096818810511757, 0.024896265560165973, 0.012448132780082987, 0.03872752420470263, 0.006915629322268326, 0.040110650069156296, 0.02351313969571231, 0.013831258644536652, 0.02351313969571231, 0.02351313969571231, 0.008298755186721992, 0.02627939142461964, 0.0027662517289073307, 0.015214384508990318, 0.0013831258644536654, 0.005532503457814661, 0.0027662517289073307, 0.0013831258644536654, 0.006915629322268326, 0.0013831258644536654, 0.0, 0.0, 0.0, 0.0], \"type\": \"bar\", \"uid\": \"aef68669-f207-4d58-9d93-faf61ffe16de\"}, {\"x\": [\"Jammu and Kashmir\", \"Punjab\", \"Tamil Nadu\", \"Assam\", \"Uttar Pradesh\", \"Haryana\", \"Karnataka\", \"NCT of Delhi\", \"West Bengal\", \"Odisha\", \"Kerala\", \"Uttarakhand\", \"Manipur\", \"Bihar\", \"Maharashtra\", \"Gujarat\", \"Jharkhand\", \"Andhra Pradesh\", \"Rajasthan\", \"Himachal Pradesh\", \"Chandigarh\", \"Telangana\", \"Madhya Pradesh\", \"Tripura\", \"Chhattisgarh\", \"Puducherry\", \"Meghalaya\", \"Nagaland\", \"Arunachal Pradesh\", \"Goa\", \"Mizoram\", \"Andaman and Nicobar\", \"Sikkim\", \"Daman and Diu\", \"Dadra and Nagar Haveli\"], \"y\": [0.05761843790012804, 0.16261203585147246, 0.08194622279129321, 0.046094750320102434, 0.04225352112676056, 0.05121638924455826, 0.0499359795134443, 0.04481434058898848, 0.16645326504481434, 0.030729833546734954, 0.01792573623559539, 0.014084507042253521, 0.03329065300896287, 0.023047375160051217, 0.014084507042253521, 0.019206145966709345, 0.05505761843790013, 0.011523687580025609, 0.008962868117797696, 0.019206145966709345, 0.016645326504481434, 0.010243277848911651, 0.005121638924455826, 0.002560819462227913, 0.002560819462227913, 0.0, 0.0012804097311139564, 0.002560819462227913, 0.002560819462227913, 0.006402048655569782, 0.0, 0.0, 0.0, 0.0, 0.0], \"type\": \"bar\", \"uid\": \"13bd5bd6-11da-4271-b3c3-cce74abcc2f5\"}, {\"x\": [\"Jammu and Kashmir\", \"Punjab\", \"Tamil Nadu\", \"Assam\", \"Uttar Pradesh\", \"Haryana\", \"Karnataka\", \"NCT of Delhi\", \"West Bengal\", \"Odisha\", \"Kerala\", \"Uttarakhand\", \"Manipur\", \"Bihar\", \"Maharashtra\", \"Gujarat\", \"Jharkhand\", \"Andhra Pradesh\", \"Rajasthan\", \"Himachal Pradesh\", \"Chandigarh\", \"Telangana\", \"Madhya Pradesh\", \"Tripura\", \"Chhattisgarh\", \"Puducherry\", \"Meghalaya\", \"Nagaland\", \"Arunachal Pradesh\", \"Goa\", \"Mizoram\", \"Andaman and Nicobar\", \"Sikkim\", \"Daman and Diu\", \"Dadra and Nagar Haveli\"], \"y\": [0.07884231536926148, 0.19261477045908185, 0.046906187624750496, 0.038922155688622756, 0.033932135728542916, 0.06686626746506986, 0.027944111776447105, 0.043912175648702596, 0.07285429141716566, 0.023952095808383235, 0.020958083832335328, 0.04890219560878244, 0.05588822355289421, 0.03592814371257485, 0.011976047904191617, 0.013972055888223553, 0.029940119760479042, 0.03493013972055888, 0.020958083832335328, 0.018962075848303395, 0.02594810379241517, 0.015968063872255488, 0.015968063872255488, 0.00499001996007984, 0.006986027944111776, 0.0029940119760479044, 0.001996007984031936, 0.000998003992015968, 0.001996007984031936, 0.0029940119760479044, 0.0, 0.0, 0.0, 0.0, 0.0], \"type\": \"bar\", \"uid\": \"95c50c4d-6e84-40af-a249-3f41d62102c0\"}, {\"x\": [\"Jammu and Kashmir\", \"Punjab\", \"Tamil Nadu\", \"Assam\", \"Uttar Pradesh\", \"Haryana\", \"Karnataka\", \"NCT of Delhi\", \"West Bengal\", \"Odisha\", \"Kerala\", \"Uttarakhand\", \"Manipur\", \"Bihar\", \"Maharashtra\", \"Gujarat\", \"Jharkhand\", \"Andhra Pradesh\", \"Rajasthan\", \"Himachal Pradesh\", \"Chandigarh\", \"Telangana\", \"Madhya Pradesh\", \"Tripura\", \"Chhattisgarh\", \"Puducherry\", \"Meghalaya\", \"Nagaland\", \"Arunachal Pradesh\", \"Goa\", \"Mizoram\", \"Andaman and Nicobar\", \"Sikkim\", \"Daman and Diu\", \"Dadra and Nagar Haveli\"], \"y\": [0.13097199341021418, 0.214168039538715, 0.04118616144975288, 0.022240527182866558, 0.05354200988467875, 0.09308072487644152, 0.05683690280065898, 0.04118616144975288, 0.012355848434925865, 0.015650741350906095, 0.0214168039538715, 0.06342668863261944, 0.03542009884678748, 0.008237232289950576, 0.015650741350906095, 0.027182866556836903, 0.028830313014827018, 0.016474464579901153, 0.02471169686985173, 0.02800658978583196, 0.009884678747940691, 0.013179571663920923, 0.013179571663920923, 0.002471169686985173, 0.0032948929159802307, 0.002471169686985173, 0.0032948929159802307, 0.0, 0.0008237232289950577, 0.0008237232289950577, 0.0, 0.0, 0.0, 0.0, 0.0], \"type\": \"bar\", \"uid\": \"a64811c0-c68a-4cfe-b0ba-c4115d899b04\"}, {\"x\": [\"Jammu and Kashmir\", \"Punjab\", \"Tamil Nadu\", \"Assam\", \"Uttar Pradesh\", \"Haryana\", \"Karnataka\", \"NCT of Delhi\", \"West Bengal\", \"Odisha\", \"Kerala\", \"Uttarakhand\", \"Manipur\", \"Bihar\", \"Maharashtra\", \"Gujarat\", \"Jharkhand\", \"Andhra Pradesh\", \"Rajasthan\", \"Himachal Pradesh\", \"Chandigarh\", \"Telangana\", \"Madhya Pradesh\", \"Tripura\", \"Chhattisgarh\", \"Puducherry\", \"Meghalaya\", \"Nagaland\", \"Arunachal Pradesh\", \"Goa\", \"Mizoram\", \"Andaman and Nicobar\", \"Sikkim\", \"Daman and Diu\", \"Dadra and Nagar Haveli\"], \"y\": [0.2005842259006816, 0.12171372930866602, 0.04771178188899708, 0.03213242453748783, 0.0798442064264849, 0.044790652385589096, 0.06621226874391431, 0.04771178188899708, 0.008763388510223954, 0.029211295034079845, 0.01557935735150925, 0.05939629990262902, 0.01557935735150925, 0.009737098344693282, 0.007789678675754625, 0.10418695228821812, 0.017526777020447908, 0.01557935735150925, 0.01557935735150925, 0.02044790652385589, 0.013631937682570594, 0.005842259006815969, 0.0019474196689386564, 0.010710808179162609, 0.0029211295034079843, 0.0038948393378773127, 0.0, 0.0009737098344693282, 0.0, 0.0, 0.0, 0.0, 0.0, 0.0, 0.0], \"type\": \"bar\", \"uid\": \"3ae97d0b-02d6-4dc4-9940-3cb4c28b065f\"}, {\"x\": [\"Jammu and Kashmir\", \"Punjab\", \"Tamil Nadu\", \"Assam\", \"Uttar Pradesh\", \"Haryana\", \"Karnataka\", \"NCT of Delhi\", \"West Bengal\", \"Odisha\", \"Kerala\", \"Uttarakhand\", \"Manipur\", \"Bihar\", \"Maharashtra\", \"Gujarat\", \"Jharkhand\", \"Andhra Pradesh\", \"Rajasthan\", \"Himachal Pradesh\", \"Chandigarh\", \"Telangana\", \"Madhya Pradesh\", \"Tripura\", \"Chhattisgarh\", \"Puducherry\", \"Meghalaya\", \"Nagaland\", \"Arunachal Pradesh\", \"Goa\", \"Mizoram\", \"Andaman and Nicobar\", \"Sikkim\", \"Daman and Diu\", \"Dadra and Nagar Haveli\"], \"y\": [0.2252173913043478, 0.10869565217391304, 0.06608695652173913, 0.0391304347826087, 0.08260869565217391, 0.05565217391304348, 0.04, 0.04, 0.0052173913043478265, 0.03739130434782609, 0.00782608695652174, 0.05304347826086957, 0.05304347826086957, 0.018260869565217393, 0.009565217391304347, 0.03739130434782609, 0.020869565217391306, 0.0026086956521739132, 0.023478260869565216, 0.02, 0.020869565217391306, 0.0026086956521739132, 0.004347826086956522, 0.006956521739130435, 0.00608695652173913, 0.0052173913043478265, 0.0017391304347826088, 0.0026086956521739132, 0.0017391304347826088, 0.0008695652173913044, 0.0008695652173913044, 0.0, 0.0, 0.0, 0.0], \"type\": \"bar\", \"uid\": \"35806eb6-7405-4dec-b015-77db6f8631d1\"}, {\"x\": [\"Jammu and Kashmir\", \"Punjab\", \"Tamil Nadu\", \"Assam\", \"Uttar Pradesh\", \"Haryana\", \"Karnataka\", \"NCT of Delhi\", \"West Bengal\", \"Odisha\", \"Kerala\", \"Uttarakhand\", \"Manipur\", \"Bihar\", \"Maharashtra\", \"Gujarat\", \"Jharkhand\", \"Andhra Pradesh\", \"Rajasthan\", \"Himachal Pradesh\", \"Chandigarh\", \"Telangana\", \"Madhya Pradesh\", \"Tripura\", \"Chhattisgarh\", \"Puducherry\", \"Meghalaya\", \"Nagaland\", \"Arunachal Pradesh\", \"Goa\", \"Mizoram\", \"Andaman and Nicobar\", \"Sikkim\", \"Daman and Diu\", \"Dadra and Nagar Haveli\"], \"y\": [0.2377332411886662, 0.17899101589495509, 0.04284727021423635, 0.042156185210780926, 0.0635798203178991, 0.046993780234968904, 0.06219765031098825, 0.04630269523151347, 0.013130615065653075, 0.020041465100207326, 0.008984105044920525, 0.04008293020041465, 0.019350380096751902, 0.013130615065653075, 0.013130615065653075, 0.019350380096751902, 0.020041465100207326, 0.0048375950241879755, 0.026952315134761574, 0.019350380096751902, 0.022805805114029024, 0.00138217000691085, 0.00414651002073255, 0.006910850034554251, 0.009675190048375951, 0.006219765031098825, 0.00414651002073255, 0.000691085003455425, 0.00138217000691085, 0.002073255010366275, 0.000691085003455425, 0.0, 0.000691085003455425, 0.0, 0.0], \"type\": \"bar\", \"uid\": \"c722141f-2fe3-4e39-b78e-2bf66ec1a303\"}, {\"x\": [\"Jammu and Kashmir\", \"Punjab\", \"Tamil Nadu\", \"Assam\", \"Uttar Pradesh\", \"Haryana\", \"Karnataka\", \"NCT of Delhi\", \"West Bengal\", \"Odisha\", \"Kerala\", \"Uttarakhand\", \"Manipur\", \"Bihar\", \"Maharashtra\", \"Gujarat\", \"Jharkhand\", \"Andhra Pradesh\", \"Rajasthan\", \"Himachal Pradesh\", \"Chandigarh\", \"Telangana\", \"Madhya Pradesh\", \"Tripura\", \"Chhattisgarh\", \"Puducherry\", \"Meghalaya\", \"Nagaland\", \"Arunachal Pradesh\", \"Goa\", \"Mizoram\", \"Andaman and Nicobar\", \"Sikkim\", \"Daman and Diu\", \"Dadra and Nagar Haveli\"], \"y\": [0.2331055429005315, 0.14654517843583903, 0.04555808656036447, 0.018982536066818528, 0.04935459377372817, 0.06150341685649203, 0.02050113895216401, 0.058466211085801065, 0.019741837509491267, 0.02050113895216401, 0.0425208807896735, 0.0774487471526196, 0.03492786636294609, 0.010630220197418374, 0.02885345482156416, 0.0387243735763098, 0.022779043280182234, 0.0, 0.015945330296127564, 0.01366742596810934, 0.010630220197418374, 0.006074411541381929, 0.002277904328018223, 0.0030372057706909645, 0.005315110098709187, 0.004555808656036446, 0.0037965072133637054, 0.0015186028853454822, 0.0, 0.002277904328018223, 0.0007593014426727411, 0.0, 0.0, 0.0, 0.0], \"type\": \"bar\", \"uid\": \"481b9577-da18-464b-947e-5e32074fdec9\"}, {\"x\": [\"Jammu and Kashmir\", \"Punjab\", \"Tamil Nadu\", \"Assam\", \"Uttar Pradesh\", \"Haryana\", \"Karnataka\", \"NCT of Delhi\", \"West Bengal\", \"Odisha\", \"Kerala\", \"Uttarakhand\", \"Manipur\", \"Bihar\", \"Maharashtra\", \"Gujarat\", \"Jharkhand\", \"Andhra Pradesh\", \"Rajasthan\", \"Himachal Pradesh\", \"Chandigarh\", \"Telangana\", \"Madhya Pradesh\", \"Tripura\", \"Chhattisgarh\", \"Puducherry\", \"Meghalaya\", \"Nagaland\", \"Arunachal Pradesh\", \"Goa\", \"Mizoram\", \"Andaman and Nicobar\", \"Sikkim\", \"Daman and Diu\", \"Dadra and Nagar Haveli\"], \"y\": [0.16919575113808802, 0.20409711684370258, 0.038694992412746584, 0.0409711684370258, 0.061456752655538696, 0.03793626707132018, 0.0409711684370258, 0.04704097116843703, 0.02276176024279211, 0.014415781487101669, 0.02276176024279211, 0.05083459787556904, 0.044764795144157814, 0.02503793626707132, 0.010622154779969651, 0.051593323216995446, 0.03414264036418816, 0.0037936267071320183, 0.012898330804248861, 0.013657056145675266, 0.006828528072837633, 0.005311077389984826, 0.007587253414264037, 0.0030349013657056147, 0.012898330804248861, 0.004552352048558422, 0.004552352048558422, 0.0015174506828528073, 0.0015174506828528073, 0.004552352048558422, 0.0, 0.0, 0.0, 0.0, 0.0], \"type\": \"bar\", \"uid\": \"e7d9090e-f387-4f57-9654-ae2f8b789112\"}, {\"x\": [\"Jammu and Kashmir\", \"Punjab\", \"Tamil Nadu\", \"Assam\", \"Uttar Pradesh\", \"Haryana\", \"Karnataka\", \"NCT of Delhi\", \"West Bengal\", \"Odisha\", \"Kerala\", \"Uttarakhand\", \"Manipur\", \"Bihar\", \"Maharashtra\", \"Gujarat\", \"Jharkhand\", \"Andhra Pradesh\", \"Rajasthan\", \"Himachal Pradesh\", \"Chandigarh\", \"Telangana\", \"Madhya Pradesh\", \"Tripura\", \"Chhattisgarh\", \"Puducherry\", \"Meghalaya\", \"Nagaland\", \"Arunachal Pradesh\", \"Goa\", \"Mizoram\", \"Andaman and Nicobar\", \"Sikkim\", \"Daman and Diu\", \"Dadra and Nagar Haveli\"], \"y\": [0.14760914760914762, 0.20374220374220375, 0.058212058212058215, 0.028066528066528068, 0.0841995841995842, 0.04158004158004158, 0.02494802494802495, 0.057172557172557176, 0.028066528066528068, 0.010395010395010396, 0.02598752598752599, 0.06652806652806653, 0.04781704781704782, 0.009355509355509356, 0.017671517671517672, 0.031185031185031187, 0.028066528066528068, 0.010395010395010396, 0.02494802494802495, 0.007276507276507277, 0.004158004158004158, 0.004158004158004158, 0.005197505197505198, 0.006237006237006237, 0.007276507276507277, 0.0010395010395010396, 0.002079002079002079, 0.007276507276507277, 0.005197505197505198, 0.004158004158004158, 0.0, 0.0, 0.0, 0.0, 0.0], \"type\": \"bar\", \"uid\": \"b5ef51d2-fe51-4428-8862-b082b19a3427\"}, {\"x\": [\"Jammu and Kashmir\", \"Punjab\", \"Tamil Nadu\", \"Assam\", \"Uttar Pradesh\", \"Haryana\", \"Karnataka\", \"NCT of Delhi\", \"West Bengal\", \"Odisha\", \"Kerala\", \"Uttarakhand\", \"Manipur\", \"Bihar\", \"Maharashtra\", \"Gujarat\", \"Jharkhand\", \"Andhra Pradesh\", \"Rajasthan\", \"Himachal Pradesh\", \"Chandigarh\", \"Telangana\", \"Madhya Pradesh\", \"Tripura\", \"Chhattisgarh\", \"Puducherry\", \"Meghalaya\", \"Nagaland\", \"Arunachal Pradesh\", \"Goa\", \"Mizoram\", \"Andaman and Nicobar\", \"Sikkim\", \"Daman and Diu\", \"Dadra and Nagar Haveli\"], \"y\": [0.09801031687546058, 0.09948415622697127, 0.19749447310243184, 0.039056742815033164, 0.05747973470891673, 0.05821665438467207, 0.017686072218128224, 0.045689019896831246, 0.04200442151805453, 0.0058953574060427415, 0.032424465733235076, 0.022844509948415623, 0.025792188651436992, 0.017686072218128224, 0.03610906411201179, 0.026529108327192335, 0.01694915254237288, 0.012527634487840826, 0.023581429624170966, 0.006632277081798084, 0.021370670596904937, 0.006632277081798084, 0.04642593957258659, 0.006632277081798084, 0.008106116433308769, 0.012527634487840826, 0.0036845983787767134, 0.0058953574060427415, 0.0036845983787767134, 0.0014738393515106854, 0.0, 0.0014738393515106854, 0.0, 0.0, 0.0], \"type\": \"bar\", \"uid\": \"464d694d-3865-4c0b-a819-7436ce5f67c8\"}, {\"x\": [\"Jammu and Kashmir\", \"Punjab\", \"Tamil Nadu\", \"Assam\", \"Uttar Pradesh\", \"Haryana\", \"Karnataka\", \"NCT of Delhi\", \"West Bengal\", \"Odisha\", \"Kerala\", \"Uttarakhand\", \"Manipur\", \"Bihar\", \"Maharashtra\", \"Gujarat\", \"Jharkhand\", \"Andhra Pradesh\", \"Rajasthan\", \"Himachal Pradesh\", \"Chandigarh\", \"Telangana\", \"Madhya Pradesh\", \"Tripura\", \"Chhattisgarh\", \"Puducherry\", \"Meghalaya\", \"Nagaland\", \"Arunachal Pradesh\", \"Goa\", \"Mizoram\", \"Andaman and Nicobar\", \"Sikkim\", \"Daman and Diu\", \"Dadra and Nagar Haveli\"], \"y\": [0.1276595744680851, 0.16, 0.10212765957446808, 0.04085106382978723, 0.06042553191489362, 0.0748936170212766, 0.033191489361702124, 0.06723404255319149, 0.017872340425531916, 0.026382978723404255, 0.020425531914893616, 0.00851063829787234, 0.03489361702127659, 0.029787234042553193, 0.020425531914893616, 0.03404255319148936, 0.01446808510638298, 0.011914893617021277, 0.02723404255319149, 0.016170212765957447, 0.011063829787234043, 0.009361702127659575, 0.00851063829787234, 0.005957446808510639, 0.01702127659574468, 0.007659574468085106, 0.000851063829787234, 0.006808510638297872, 0.001702127659574468, 0.000851063829787234, 0.001702127659574468, 0.0, 0.0, 0.0, 0.0], \"type\": \"bar\", \"uid\": \"bffa8ce2-c608-4361-964c-135fdb4987ce\"}, {\"x\": [\"Jammu and Kashmir\", \"Punjab\", \"Tamil Nadu\", \"Assam\", \"Uttar Pradesh\", \"Haryana\", \"Karnataka\", \"NCT of Delhi\", \"West Bengal\", \"Odisha\", \"Kerala\", \"Uttarakhand\", \"Manipur\", \"Bihar\", \"Maharashtra\", \"Gujarat\", \"Jharkhand\", \"Andhra Pradesh\", \"Rajasthan\", \"Himachal Pradesh\", \"Chandigarh\", \"Telangana\", \"Madhya Pradesh\", \"Tripura\", \"Chhattisgarh\", \"Puducherry\", \"Meghalaya\", \"Nagaland\", \"Arunachal Pradesh\", \"Goa\", \"Mizoram\", \"Andaman and Nicobar\", \"Sikkim\", \"Daman and Diu\", \"Dadra and Nagar Haveli\"], \"y\": [0.1363973313565604, 0.11415863602668644, 0.17272053372868792, 0.05856189770200148, 0.05856189770200148, 0.05559673832468495, 0.042994810971089696, 0.031134173461823574, 0.018532246108228317, 0.008895478131949592, 0.028910303928836176, 0.03039288361749444, 0.028169014084507043, 0.018532246108228317, 0.02001482579688658, 0.03261675315048184, 0.011860637509266123, 0.01927353595255745, 0.025203854707190512, 0.014084507042253521, 0.014084507042253521, 0.014825796886582653, 0.005189028910303929, 0.014084507042253521, 0.007412898443291327, 0.009636767976278725, 0.0029651593773165306, 0.002223869532987398, 0.0, 0.0029651593773165306, 0.0, 0.0, 0.0, 0.0, 0.0], \"type\": \"bar\", \"uid\": \"91e55280-3722-4672-b480-5e25e5bd701f\"}, {\"x\": [\"Jammu and Kashmir\", \"Punjab\", \"Tamil Nadu\", \"Assam\", \"Uttar Pradesh\", \"Haryana\", \"Karnataka\", \"NCT of Delhi\", \"West Bengal\", \"Odisha\", \"Kerala\", \"Uttarakhand\", \"Manipur\", \"Bihar\", \"Maharashtra\", \"Gujarat\", \"Jharkhand\", \"Andhra Pradesh\", \"Rajasthan\", \"Himachal Pradesh\", \"Chandigarh\", \"Telangana\", \"Madhya Pradesh\", \"Tripura\", \"Chhattisgarh\", \"Puducherry\", \"Meghalaya\", \"Nagaland\", \"Arunachal Pradesh\", \"Goa\", \"Mizoram\", \"Andaman and Nicobar\", \"Sikkim\", \"Daman and Diu\", \"Dadra and Nagar Haveli\"], \"y\": [0.16129032258064516, 0.12981904012588513, 0.12431156569630213, 0.024390243902439025, 0.11408339889850512, 0.06372934697088907, 0.014162077104642014, 0.01888276947285602, 0.03540519276160504, 0.010228166797797011, 0.015735641227380016, 0.044059795436664044, 0.016522423288749016, 0.01966955153422502, 0.007867820613690008, 0.01888276947285602, 0.025177025963808025, 0.011801730920535013, 0.03225806451612903, 0.03461841070023604, 0.021243115656963022, 0.024390243902439025, 0.010228166797797011, 0.003933910306845004, 0.003933910306845004, 0.004720692368214005, 0.004720692368214005, 0.0, 0.0015735641227380016, 0.0, 0.0007867820613690008, 0.0007867820613690008, 0.0, 0.0007867820613690008, 0.0], \"type\": \"bar\", \"uid\": \"f8da136c-74e0-4e38-a733-347c0ab163e0\"}, {\"x\": [\"Jammu and Kashmir\", \"Punjab\", \"Tamil Nadu\", \"Assam\", \"Uttar Pradesh\", \"Haryana\", \"Karnataka\", \"NCT of Delhi\", \"West Bengal\", \"Odisha\", \"Kerala\", \"Uttarakhand\", \"Manipur\", \"Bihar\", \"Maharashtra\", \"Gujarat\", \"Jharkhand\", \"Andhra Pradesh\", \"Rajasthan\", \"Himachal Pradesh\", \"Chandigarh\", \"Telangana\", \"Madhya Pradesh\", \"Tripura\", \"Chhattisgarh\", \"Puducherry\", \"Meghalaya\", \"Nagaland\", \"Arunachal Pradesh\", \"Goa\", \"Mizoram\", \"Andaman and Nicobar\", \"Sikkim\", \"Daman and Diu\", \"Dadra and Nagar Haveli\"], \"y\": [0.25165562913907286, 0.12298959318826869, 0.07757805108798486, 0.036896877956480605, 0.07757805108798486, 0.07095553453169347, 0.021759697256385997, 0.019867549668874173, 0.023651844843897825, 0.014191106906338695, 0.03216650898770104, 0.014191106906338695, 0.021759697256385997, 0.017975402081362345, 0.011352885525070956, 0.017975402081362345, 0.020813623462630087, 0.01608325449385052, 0.020813623462630087, 0.03122043519394513, 0.017975402081362345, 0.019867549668874173, 0.005676442762535478, 0.00946073793755913, 0.007568590350047304, 0.00946073793755913, 0.003784295175023652, 0.0, 0.0, 0.003784295175023652, 0.0, 0.0, 0.0, 0.0, 0.000946073793755913], \"type\": \"bar\", \"uid\": \"aa717f3a-a9f3-4cd7-8bfb-eb15f71f16dc\"}, {\"x\": [\"Jammu and Kashmir\", \"Punjab\", \"Tamil Nadu\", \"Assam\", \"Uttar Pradesh\", \"Haryana\", \"Karnataka\", \"NCT of Delhi\", \"West Bengal\", \"Odisha\", \"Kerala\", \"Uttarakhand\", \"Manipur\", \"Bihar\", \"Maharashtra\", \"Gujarat\", \"Jharkhand\", \"Andhra Pradesh\", \"Rajasthan\", \"Himachal Pradesh\", \"Chandigarh\", \"Telangana\", \"Madhya Pradesh\", \"Tripura\", \"Chhattisgarh\", \"Puducherry\", \"Meghalaya\", \"Nagaland\", \"Arunachal Pradesh\", \"Goa\", \"Mizoram\", \"Andaman and Nicobar\", \"Sikkim\", \"Daman and Diu\", \"Dadra and Nagar Haveli\"], \"y\": [0.20826306913996628, 0.13069139966273188, 0.06239460370994941, 0.03456998313659359, 0.0699831365935919, 0.0657672849915683, 0.03288364249578415, 0.016863406408094434, 0.04300168634064081, 0.07082630691399663, 0.01433389544688027, 0.024451939291736932, 0.006745362563237774, 0.0193929173693086, 0.013490725126475547, 0.03794266441821248, 0.01011804384485666, 0.01517706576728499, 0.025295109612141653, 0.010961214165261383, 0.01011804384485666, 0.006745362563237774, 0.022765598650927487, 0.006745362563237774, 0.023608768971332208, 0.005902192242833052, 0.006745362563237774, 0.0008431703204047217, 0.0016863406408094434, 0.0008431703204047217, 0.0008431703204047217, 0.0, 0.0, 0.0, 0.0], \"type\": \"bar\", \"uid\": \"ca12f915-d9d7-4504-b441-452973c2c353\"}, {\"x\": [\"Jammu and Kashmir\", \"Punjab\", \"Tamil Nadu\", \"Assam\", \"Uttar Pradesh\", \"Haryana\", \"Karnataka\", \"NCT of Delhi\", \"West Bengal\", \"Odisha\", \"Kerala\", \"Uttarakhand\", \"Manipur\", \"Bihar\", \"Maharashtra\", \"Gujarat\", \"Jharkhand\", \"Andhra Pradesh\", \"Rajasthan\", \"Himachal Pradesh\", \"Chandigarh\", \"Telangana\", \"Madhya Pradesh\", \"Tripura\", \"Chhattisgarh\", \"Puducherry\", \"Meghalaya\", \"Nagaland\", \"Arunachal Pradesh\", \"Goa\", \"Mizoram\", \"Andaman and Nicobar\", \"Sikkim\", \"Daman and Diu\", \"Dadra and Nagar Haveli\"], \"y\": [0.17509727626459143, 0.1293774319066148, 0.04182879377431906, 0.07295719844357977, 0.10116731517509728, 0.04571984435797665, 0.04474708171206226, 0.042801556420233464, 0.06031128404669261, 0.0048638132295719845, 0.02821011673151751, 0.011673151750972763, 0.02529182879377432, 0.02821011673151751, 0.007782101167315175, 0.029182879377431907, 0.010700389105058366, 0.01848249027237354, 0.024319066147859923, 0.04961089494163424, 0.007782101167315175, 0.011673151750972763, 0.005836575875486381, 0.006809338521400778, 0.0, 0.0048638132295719845, 0.0048638132295719845, 0.0048638132295719845, 0.0009727626459143969, 0.0, 0.0, 0.0, 0.0, 0.0, 0.0], \"type\": \"bar\", \"uid\": \"6273dff0-7c53-45d1-9be4-3baed145dcab\"}, {\"x\": [\"Jammu and Kashmir\", \"Punjab\", \"Tamil Nadu\", \"Assam\", \"Uttar Pradesh\", \"Haryana\", \"Karnataka\", \"NCT of Delhi\", \"West Bengal\", \"Odisha\", \"Kerala\", \"Uttarakhand\", \"Manipur\", \"Bihar\", \"Maharashtra\", \"Gujarat\", \"Jharkhand\", \"Andhra Pradesh\", \"Rajasthan\", \"Himachal Pradesh\", \"Chandigarh\", \"Telangana\", \"Madhya Pradesh\", \"Tripura\", \"Chhattisgarh\", \"Puducherry\", \"Meghalaya\", \"Nagaland\", \"Arunachal Pradesh\", \"Goa\", \"Mizoram\", \"Andaman and Nicobar\", \"Sikkim\", \"Daman and Diu\", \"Dadra and Nagar Haveli\"], \"y\": [0.1342685370741483, 0.1342685370741483, 0.06012024048096192, 0.14729458917835672, 0.0781563126252505, 0.04308617234468938, 0.056112224448897796, 0.026052104208416832, 0.02004008016032064, 0.05811623246492986, 0.026052104208416832, 0.01002004008016032, 0.027054108216432865, 0.017034068136272545, 0.018036072144288578, 0.003006012024048096, 0.00501002004008016, 0.014028056112224449, 0.0070140280561122245, 0.04208416833667335, 0.021042084168336674, 0.01603206412825651, 0.004008016032064128, 0.0070140280561122245, 0.002004008016032064, 0.01002004008016032, 0.009018036072144289, 0.002004008016032064, 0.0, 0.0, 0.002004008016032064, 0.0, 0.0, 0.0, 0.0], \"type\": \"bar\", \"uid\": \"12207c37-e8d0-4cc4-a8cb-38a1b644acf2\"}, {\"x\": [\"Jammu and Kashmir\", \"Punjab\", \"Tamil Nadu\", \"Assam\", \"Uttar Pradesh\", \"Haryana\", \"Karnataka\", \"NCT of Delhi\", \"West Bengal\", \"Odisha\", \"Kerala\", \"Uttarakhand\", \"Manipur\", \"Bihar\", \"Maharashtra\", \"Gujarat\", \"Jharkhand\", \"Andhra Pradesh\", \"Rajasthan\", \"Himachal Pradesh\", \"Chandigarh\", \"Telangana\", \"Madhya Pradesh\", \"Tripura\", \"Chhattisgarh\", \"Puducherry\", \"Meghalaya\", \"Nagaland\", \"Arunachal Pradesh\", \"Goa\", \"Mizoram\", \"Andaman and Nicobar\", \"Sikkim\", \"Daman and Diu\", \"Dadra and Nagar Haveli\"], \"y\": [0.16390041493775934, 0.08921161825726141, 0.11203319502074689, 0.12655601659751037, 0.06327800829875518, 0.03319502074688797, 0.0487551867219917, 0.02074688796680498, 0.02074688796680498, 0.046680497925311204, 0.02074688796680498, 0.024896265560165973, 0.03319502074688797, 0.01867219917012448, 0.011410788381742738, 0.004149377593360996, 0.017634854771784232, 0.023858921161825725, 0.01867219917012448, 0.016597510373443983, 0.007261410788381743, 0.012448132780082987, 0.007261410788381743, 0.016597510373443983, 0.01037344398340249, 0.014522821576763486, 0.006224066390041493, 0.002074688796680498, 0.004149377593360996, 0.002074688796680498, 0.001037344398340249, 0.001037344398340249, 0.0, 0.0, 0.0], \"type\": \"bar\", \"uid\": \"42df1955-158d-45da-84fc-2c9529f578bd\"}, {\"x\": [\"Jammu and Kashmir\", \"Punjab\", \"Tamil Nadu\", \"Assam\", \"Uttar Pradesh\", \"Haryana\", \"Karnataka\", \"NCT of Delhi\", \"West Bengal\", \"Odisha\", \"Kerala\", \"Uttarakhand\", \"Manipur\", \"Bihar\", \"Maharashtra\", \"Gujarat\", \"Jharkhand\", \"Andhra Pradesh\", \"Rajasthan\", \"Himachal Pradesh\", \"Chandigarh\", \"Telangana\", \"Madhya Pradesh\", \"Tripura\", \"Chhattisgarh\", \"Puducherry\", \"Meghalaya\", \"Nagaland\", \"Arunachal Pradesh\", \"Goa\", \"Mizoram\", \"Andaman and Nicobar\", \"Sikkim\", \"Daman and Diu\", \"Dadra and Nagar Haveli\"], \"y\": [0.27236315086782376, 0.08678237650200267, 0.044058744993324434, 0.09746328437917223, 0.029372496662216287, 0.01602136181575434, 0.04005340453938585, 0.009345794392523364, 0.03204272363150868, 0.0026702269692923898, 0.05740987983978638, 0.00801068090787717, 0.014686248331108143, 0.07209612817089453, 0.044058744993324434, 0.00801068090787717, 0.04138851802403204, 0.02403204272363151, 0.018691588785046728, 0.0026702269692923898, 0.006675567423230975, 0.017356475300400534, 0.03471295060080107, 0.004005340453938585, 0.0026702269692923898, 0.006675567423230975, 0.0013351134846461949, 0.0026702269692923898, 0.0013351134846461949, 0.0013351134846461949, 0.0, 0.0, 0.0, 0.0, 0.0], \"type\": \"bar\", \"uid\": \"234ea1ed-d983-4559-8460-6e64f1b2fb65\"}, {\"x\": [\"Jammu and Kashmir\", \"Punjab\", \"Tamil Nadu\", \"Assam\", \"Uttar Pradesh\", \"Haryana\", \"Karnataka\", \"NCT of Delhi\", \"West Bengal\", \"Odisha\", \"Kerala\", \"Uttarakhand\", \"Manipur\", \"Bihar\", \"Maharashtra\", \"Gujarat\", \"Jharkhand\", \"Andhra Pradesh\", \"Rajasthan\", \"Himachal Pradesh\", \"Chandigarh\", \"Telangana\", \"Madhya Pradesh\", \"Tripura\", \"Chhattisgarh\", \"Puducherry\", \"Meghalaya\", \"Nagaland\", \"Arunachal Pradesh\", \"Goa\", \"Mizoram\", \"Andaman and Nicobar\", \"Sikkim\", \"Daman and Diu\", \"Dadra and Nagar Haveli\"], \"y\": [0.17427385892116182, 0.07053941908713693, 0.07468879668049792, 0.14661134163208853, 0.04564315352697095, 0.029045643153526972, 0.05255878284923928, 0.008298755186721992, 0.04702627939142462, 0.015214384508990318, 0.051175656984785614, 0.005532503457814661, 0.02074688796680498, 0.017980636237897647, 0.035961272475795295, 0.013831258644536652, 0.05532503457814661, 0.022130013831258646, 0.015214384508990318, 0.011065006915629323, 0.013831258644536652, 0.005532503457814661, 0.008298755186721992, 0.02627939142461964, 0.0027662517289073307, 0.016597510373443983, 0.005532503457814661, 0.0, 0.0013831258644536654, 0.004149377593360996, 0.0013831258644536654, 0.0, 0.0, 0.0013831258644536654, 0.0], \"type\": \"bar\", \"uid\": \"f925589d-561f-4ebc-9554-c9a1d08a28db\"}, {\"x\": [\"Jammu and Kashmir\", \"Punjab\", \"Tamil Nadu\", \"Assam\", \"Uttar Pradesh\", \"Haryana\", \"Karnataka\", \"NCT of Delhi\", \"West Bengal\", \"Odisha\", \"Kerala\", \"Uttarakhand\", \"Manipur\", \"Bihar\", \"Maharashtra\", \"Gujarat\", \"Jharkhand\", \"Andhra Pradesh\", \"Rajasthan\", \"Himachal Pradesh\", \"Chandigarh\", \"Telangana\", \"Madhya Pradesh\", \"Tripura\", \"Chhattisgarh\", \"Puducherry\", \"Meghalaya\", \"Nagaland\", \"Arunachal Pradesh\", \"Goa\", \"Mizoram\", \"Andaman and Nicobar\", \"Sikkim\", \"Daman and Diu\", \"Dadra and Nagar Haveli\"], \"y\": [0.16952380952380952, 0.16095238095238096, 0.054285714285714284, 0.05523809523809524, 0.05333333333333334, 0.054285714285714284, 0.06857142857142857, 0.04857142857142857, 0.01619047619047619, 0.007619047619047619, 0.04380952380952381, 0.017142857142857144, 0.012380952380952381, 0.04666666666666667, 0.01904761904761905, 0.011428571428571429, 0.0380952380952381, 0.013333333333333334, 0.025714285714285714, 0.01904761904761905, 0.009523809523809525, 0.01619047619047619, 0.006666666666666667, 0.013333333333333334, 0.0038095238095238095, 0.008571428571428572, 0.0, 0.0009523809523809524, 0.002857142857142857, 0.002857142857142857, 0.0, 0.0, 0.0, 0.0, 0.0], \"type\": \"bar\", \"uid\": \"5e0c713e-55fd-48d4-a9e6-55da20f7374c\"}, {\"x\": [\"Jammu and Kashmir\", \"Punjab\", \"Tamil Nadu\", \"Assam\", \"Uttar Pradesh\", \"Haryana\", \"Karnataka\", \"NCT of Delhi\", \"West Bengal\", \"Odisha\", \"Kerala\", \"Uttarakhand\", \"Manipur\", \"Bihar\", \"Maharashtra\", \"Gujarat\", \"Jharkhand\", \"Andhra Pradesh\", \"Rajasthan\", \"Himachal Pradesh\", \"Chandigarh\", \"Telangana\", \"Madhya Pradesh\", \"Tripura\", \"Chhattisgarh\", \"Puducherry\", \"Meghalaya\", \"Nagaland\", \"Arunachal Pradesh\", \"Goa\", \"Mizoram\", \"Andaman and Nicobar\", \"Sikkim\", \"Daman and Diu\", \"Dadra and Nagar Haveli\"], \"y\": [0.20530367835757057, 0.174508126603935, 0.12660393498716851, 0.01710863986313088, 0.06244653550042772, 0.05218135158254919, 0.032506415739948676, 0.032506415739948676, 0.0213857998289136, 0.009409751924721984, 0.0290846877673225, 0.020530367835757058, 0.003421727972626176, 0.016253207869974338, 0.059880239520958084, 0.026518391787852865, 0.0051325919589392645, 0.016253207869974338, 0.022241231822070145, 0.00855431993156544, 0.01710863986313088, 0.007698887938408896, 0.00855431993156544, 0.006843455945252352, 0.00855431993156544, 0.0051325919589392645, 0.000855431993156544, 0.0, 0.000855431993156544, 0.001710863986313088, 0.0, 0.000855431993156544, 0.0, 0.0, 0.0], \"type\": \"bar\", \"uid\": \"6af1839c-10fc-4e37-a9db-5eed5b5118ec\"}, {\"x\": [\"Jammu and Kashmir\", \"Punjab\", \"Tamil Nadu\", \"Assam\", \"Uttar Pradesh\", \"Haryana\", \"Karnataka\", \"NCT of Delhi\", \"West Bengal\", \"Odisha\", \"Kerala\", \"Uttarakhand\", \"Manipur\", \"Bihar\", \"Maharashtra\", \"Gujarat\", \"Jharkhand\", \"Andhra Pradesh\", \"Rajasthan\", \"Himachal Pradesh\", \"Chandigarh\", \"Telangana\", \"Madhya Pradesh\", \"Tripura\", \"Chhattisgarh\", \"Puducherry\", \"Meghalaya\", \"Nagaland\", \"Arunachal Pradesh\", \"Goa\", \"Mizoram\", \"Andaman and Nicobar\", \"Sikkim\", \"Daman and Diu\", \"Dadra and Nagar Haveli\"], \"y\": [0.1806020066889632, 0.1716833890746934, 0.07246376811594203, 0.0189520624303233, 0.030100334448160536, 0.06577480490523968, 0.026755852842809364, 0.06020066889632107, 0.017837235228539576, 0.023411371237458192, 0.033444816053511704, 0.01560758082497213, 0.013377926421404682, 0.014492753623188406, 0.03121516164994426, 0.008918617614269788, 0.010033444816053512, 0.06800445930880714, 0.017837235228539576, 0.022296544035674472, 0.010033444816053512, 0.006688963210702341, 0.005574136008918618, 0.026755852842809364, 0.017837235228539576, 0.0033444816053511705, 0.010033444816053512, 0.013377926421404682, 0.0011148272017837235, 0.002229654403567447, 0.0, 0.0, 0.0, 0.0, 0.0], \"type\": \"bar\", \"uid\": \"584b38dc-81b8-480c-8387-11e0ae531dc1\"}, {\"x\": [\"Jammu and Kashmir\", \"Punjab\", \"Tamil Nadu\", \"Assam\", \"Uttar Pradesh\", \"Haryana\", \"Karnataka\", \"NCT of Delhi\", \"West Bengal\", \"Odisha\", \"Kerala\", \"Uttarakhand\", \"Manipur\", \"Bihar\", \"Maharashtra\", \"Gujarat\", \"Jharkhand\", \"Andhra Pradesh\", \"Rajasthan\", \"Himachal Pradesh\", \"Chandigarh\", \"Telangana\", \"Madhya Pradesh\", \"Tripura\", \"Chhattisgarh\", \"Puducherry\", \"Meghalaya\", \"Nagaland\", \"Arunachal Pradesh\", \"Goa\", \"Mizoram\", \"Andaman and Nicobar\", \"Sikkim\", \"Daman and Diu\", \"Dadra and Nagar Haveli\"], \"y\": [0.22536496350364962, 0.14324817518248176, 0.16149635036496351, 0.03923357664233577, 0.037408759124087594, 0.03467153284671533, 0.017335766423357664, 0.06113138686131387, 0.028284671532846715, 0.02737226277372263, 0.020985401459854013, 0.014598540145985401, 0.008211678832116789, 0.028284671532846715, 0.025547445255474453, 0.010036496350364963, 0.002737226277372263, 0.040145985401459854, 0.010036496350364963, 0.009124087591240875, 0.017335766423357664, 0.008211678832116789, 0.004562043795620438, 0.006386861313868613, 0.011861313868613138, 0.0018248175182481751, 0.0, 0.0, 0.0, 0.0018248175182481751, 0.002737226277372263, 0.0, 0.0, 0.0, 0.0], \"type\": \"bar\", \"uid\": \"377b359a-4752-4cb1-be15-273d4dbdcff8\"}, {\"x\": [\"Jammu and Kashmir\", \"Punjab\", \"Tamil Nadu\", \"Assam\", \"Uttar Pradesh\", \"Haryana\", \"Karnataka\", \"NCT of Delhi\", \"West Bengal\", \"Odisha\", \"Kerala\", \"Uttarakhand\", \"Manipur\", \"Bihar\", \"Maharashtra\", \"Gujarat\", \"Jharkhand\", \"Andhra Pradesh\", \"Rajasthan\", \"Himachal Pradesh\", \"Chandigarh\", \"Telangana\", \"Madhya Pradesh\", \"Tripura\", \"Chhattisgarh\", \"Puducherry\", \"Meghalaya\", \"Nagaland\", \"Arunachal Pradesh\", \"Goa\", \"Mizoram\", \"Andaman and Nicobar\", \"Sikkim\", \"Daman and Diu\", \"Dadra and Nagar Haveli\"], \"y\": [0.21641337386018236, 0.12279635258358662, 0.1513677811550152, 0.02857142857142857, 0.04012158054711246, 0.031610942249240125, 0.015197568389057751, 0.02066869300911854, 0.060790273556231005, 0.015197568389057751, 0.03951367781155015, 0.01641337386018237, 0.013373860182370821, 0.03708206686930091, 0.015805471124620062, 0.029787234042553193, 0.02857142857142857, 0.03343465045592705, 0.01641337386018237, 0.00851063829787234, 0.015197568389057751, 0.0060790273556231, 0.01094224924012158, 0.00364741641337386, 0.006686930091185411, 0.00851063829787234, 0.0012158054711246201, 0.0, 0.00182370820668693, 0.0024316109422492403, 0.0012158054711246201, 0.0, 0.0006079027355623101, 0.0, 0.0], \"type\": \"bar\", \"uid\": \"1ee7283c-647b-4ef1-889c-fa328ea53ad7\"}, {\"x\": [\"Jammu and Kashmir\", \"Punjab\", \"Tamil Nadu\", \"Assam\", \"Uttar Pradesh\", \"Haryana\", \"Karnataka\", \"NCT of Delhi\", \"West Bengal\", \"Odisha\", \"Kerala\", \"Uttarakhand\", \"Manipur\", \"Bihar\", \"Maharashtra\", \"Gujarat\", \"Jharkhand\", \"Andhra Pradesh\", \"Rajasthan\", \"Himachal Pradesh\", \"Chandigarh\", \"Telangana\", \"Madhya Pradesh\", \"Tripura\", \"Chhattisgarh\", \"Puducherry\", \"Meghalaya\", \"Nagaland\", \"Arunachal Pradesh\", \"Goa\", \"Mizoram\", \"Andaman and Nicobar\", \"Sikkim\", \"Daman and Diu\", \"Dadra and Nagar Haveli\"], \"y\": [0.19719407638347622, 0.10989867498051442, 0.12081060015588464, 0.09197194076383476, 0.026500389711613406, 0.04520654715510522, 0.042868277474668745, 0.021823850350740453, 0.0779423226812159, 0.025720966484801246, 0.01636788776305534, 0.005455962587685113, 0.014809041309431021, 0.017926734216679657, 0.01636788776305534, 0.0171473109898675, 0.011691348402182385, 0.027279812938425563, 0.014029618082618862, 0.029618082618862042, 0.013250194855806703, 0.00857365549493375, 0.007014809041309431, 0.011691348402182385, 0.00857365549493375, 0.005455962587685113, 0.006235385814497272, 0.000779423226812159, 0.003897116134060795, 0.003117692907248636, 0.000779423226812159, 0.0, 0.0, 0.0, 0.0], \"type\": \"bar\", \"uid\": \"40f93c1a-a30b-45d2-97bf-e8abd1091b28\"}, {\"x\": [\"Jammu and Kashmir\", \"Punjab\", \"Tamil Nadu\", \"Assam\", \"Uttar Pradesh\", \"Haryana\", \"Karnataka\", \"NCT of Delhi\", \"West Bengal\", \"Odisha\", \"Kerala\", \"Uttarakhand\", \"Manipur\", \"Bihar\", \"Maharashtra\", \"Gujarat\", \"Jharkhand\", \"Andhra Pradesh\", \"Rajasthan\", \"Himachal Pradesh\", \"Chandigarh\", \"Telangana\", \"Madhya Pradesh\", \"Tripura\", \"Chhattisgarh\", \"Puducherry\", \"Meghalaya\", \"Nagaland\", \"Arunachal Pradesh\", \"Goa\", \"Mizoram\", \"Andaman and Nicobar\", \"Sikkim\", \"Daman and Diu\", \"Dadra and Nagar Haveli\"], \"y\": [0.21171171171171171, 0.14684684684684685, 0.09549549549549549, 0.05675675675675676, 0.03063063063063063, 0.03963963963963964, 0.05045045045045045, 0.027927927927927927, 0.017117117117117116, 0.016216216216216217, 0.01981981981981982, 0.018018018018018018, 0.014414414414414415, 0.036936936936936934, 0.027927927927927927, 0.03063063063063063, 0.016216216216216217, 0.02252252252252252, 0.02072072072072072, 0.015315315315315315, 0.0045045045045045045, 0.009009009009009009, 0.024324324324324326, 0.011711711711711712, 0.009009009009009009, 0.0036036036036036037, 0.013513513513513514, 0.006306306306306306, 0.0009009009009009009, 0.0018018018018018018, 0.0, 0.0, 0.0, 0.0, 0.0], \"type\": \"bar\", \"uid\": \"124b1e25-14ee-4b85-a394-b0f6592aede2\"}, {\"x\": [\"Jammu and Kashmir\", \"Punjab\", \"Tamil Nadu\", \"Assam\", \"Uttar Pradesh\", \"Haryana\", \"Karnataka\", \"NCT of Delhi\", \"West Bengal\", \"Odisha\", \"Kerala\", \"Uttarakhand\", \"Manipur\", \"Bihar\", \"Maharashtra\", \"Gujarat\", \"Jharkhand\", \"Andhra Pradesh\", \"Rajasthan\", \"Himachal Pradesh\", \"Chandigarh\", \"Telangana\", \"Madhya Pradesh\", \"Tripura\", \"Chhattisgarh\", \"Puducherry\", \"Meghalaya\", \"Nagaland\", \"Arunachal Pradesh\", \"Goa\", \"Mizoram\", \"Andaman and Nicobar\", \"Sikkim\", \"Daman and Diu\", \"Dadra and Nagar Haveli\"], \"y\": [0.16152597402597402, 0.1956168831168831, 0.09172077922077922, 0.05032467532467533, 0.022727272727272728, 0.03814935064935065, 0.05113636363636364, 0.01948051948051948, 0.021915584415584416, 0.037337662337662336, 0.022727272727272728, 0.012175324675324676, 0.04626623376623377, 0.017045454545454544, 0.05844155844155844, 0.007305194805194805, 0.017045454545454544, 0.030032467532467532, 0.01461038961038961, 0.010551948051948052, 0.021103896103896104, 0.006493506493506494, 0.005681818181818182, 0.00487012987012987, 0.00974025974025974, 0.003246753246753247, 0.004058441558441558, 0.0008116883116883117, 0.00487012987012987, 0.002435064935064935, 0.007305194805194805, 0.002435064935064935, 0.0008116883116883117, 0.0, 0.0], \"type\": \"bar\", \"uid\": \"9b36fca8-f765-4fff-9dd3-47f8e24e5a93\"}, {\"x\": [\"Jammu and Kashmir\", \"Punjab\", \"Tamil Nadu\", \"Assam\", \"Uttar Pradesh\", \"Haryana\", \"Karnataka\", \"NCT of Delhi\", \"West Bengal\", \"Odisha\", \"Kerala\", \"Uttarakhand\", \"Manipur\", \"Bihar\", \"Maharashtra\", \"Gujarat\", \"Jharkhand\", \"Andhra Pradesh\", \"Rajasthan\", \"Himachal Pradesh\", \"Chandigarh\", \"Telangana\", \"Madhya Pradesh\", \"Tripura\", \"Chhattisgarh\", \"Puducherry\", \"Meghalaya\", \"Nagaland\", \"Arunachal Pradesh\", \"Goa\", \"Mizoram\", \"Andaman and Nicobar\", \"Sikkim\", \"Daman and Diu\", \"Dadra and Nagar Haveli\"], \"y\": [0.2305334150827713, 0.1213979153893317, 0.041692213366033105, 0.04843654199877376, 0.04721030042918455, 0.03801348865726548, 0.02575107296137339, 0.03740036787247088, 0.06866952789699571, 0.05027590435315757, 0.004291845493562232, 0.01655426118945432, 0.0539546290619252, 0.04721030042918455, 0.03494788473329246, 0.012262415695892091, 0.014714898835070508, 0.015328019619865114, 0.009809932556713672, 0.011649294911097487, 0.015328019619865114, 0.00674432863274065, 0.0030656039239730227, 0.009809932556713672, 0.00797057020232986, 0.001226241569589209, 0.005518087063151441, 0.00797057020232986, 0.00797057020232986, 0.0006131207847946045, 0.001226241569589209, 0.001226241569589209, 0.001226241569589209, 0.0, 0.0], \"type\": \"bar\", \"uid\": \"2321c85e-8a60-4e64-b522-00fbf29ad450\"}, {\"x\": [\"Jammu and Kashmir\", \"Punjab\", \"Tamil Nadu\", \"Assam\", \"Uttar Pradesh\", \"Haryana\", \"Karnataka\", \"NCT of Delhi\", \"West Bengal\", \"Odisha\", \"Kerala\", \"Uttarakhand\", \"Manipur\", \"Bihar\", \"Maharashtra\", \"Gujarat\", \"Jharkhand\", \"Andhra Pradesh\", \"Rajasthan\", \"Himachal Pradesh\", \"Chandigarh\", \"Telangana\", \"Madhya Pradesh\", \"Tripura\", \"Chhattisgarh\", \"Puducherry\", \"Meghalaya\", \"Nagaland\", \"Arunachal Pradesh\", \"Goa\", \"Mizoram\", \"Andaman and Nicobar\", \"Sikkim\", \"Daman and Diu\", \"Dadra and Nagar Haveli\"], \"y\": [0.15512048192771086, 0.16164658634538154, 0.04568273092369478, 0.056726907630522086, 0.05572289156626506, 0.053714859437751006, 0.028112449799196786, 0.028112449799196786, 0.04919678714859438, 0.058734939759036146, 0.015562248995983935, 0.0035140562248995983, 0.02610441767068273, 0.0607429718875502, 0.020582329317269075, 0.009538152610441768, 0.021586345381526106, 0.022590361445783132, 0.009538152610441768, 0.014056224899598393, 0.01355421686746988, 0.025100401606425703, 0.022590361445783132, 0.01355421686746988, 0.007530120481927711, 0.004016064257028112, 0.005522088353413655, 0.0030120481927710845, 0.004016064257028112, 0.0, 0.0015060240963855422, 0.0030120481927710845, 0.0, 0.0, 0.0], \"type\": \"bar\", \"uid\": \"a9eb6410-f955-4929-bea5-958f793d0c8a\"}, {\"x\": [\"Jammu and Kashmir\", \"Punjab\", \"Tamil Nadu\", \"Assam\", \"Uttar Pradesh\", \"Haryana\", \"Karnataka\", \"NCT of Delhi\", \"West Bengal\", \"Odisha\", \"Kerala\", \"Uttarakhand\", \"Manipur\", \"Bihar\", \"Maharashtra\", \"Gujarat\", \"Jharkhand\", \"Andhra Pradesh\", \"Rajasthan\", \"Himachal Pradesh\", \"Chandigarh\", \"Telangana\", \"Madhya Pradesh\", \"Tripura\", \"Chhattisgarh\", \"Puducherry\", \"Meghalaya\", \"Nagaland\", \"Arunachal Pradesh\", \"Goa\", \"Mizoram\", \"Andaman and Nicobar\", \"Sikkim\", \"Daman and Diu\", \"Dadra and Nagar Haveli\"], \"y\": [0.2025862068965517, 0.13608374384236452, 0.050492610837438424, 0.07635467980295567, 0.050492610837438424, 0.05357142857142857, 0.02586206896551724, 0.03017241379310345, 0.022167487684729065, 0.05110837438423645, 0.04864532019704434, 0.0024630541871921183, 0.017241379310344827, 0.027093596059113302, 0.02770935960591133, 0.0166256157635468, 0.01847290640394089, 0.04064039408866995, 0.008620689655172414, 0.01539408866995074, 0.01539408866995074, 0.017241379310344827, 0.0067733990147783255, 0.008004926108374385, 0.013546798029556651, 0.0018472906403940886, 0.0049261083743842365, 0.003078817733990148, 0.003694581280788177, 0.0018472906403940886, 0.0006157635467980296, 0.0012315270935960591, 0.0, 0.0, 0.0], \"type\": \"bar\", \"uid\": \"025d9f49-6443-452f-8226-beeeeded4f02\"}, {\"x\": [\"Jammu and Kashmir\", \"Punjab\", \"Tamil Nadu\", \"Assam\", \"Uttar Pradesh\", \"Haryana\", \"Karnataka\", \"NCT of Delhi\", \"West Bengal\", \"Odisha\", \"Kerala\", \"Uttarakhand\", \"Manipur\", \"Bihar\", \"Maharashtra\", \"Gujarat\", \"Jharkhand\", \"Andhra Pradesh\", \"Rajasthan\", \"Himachal Pradesh\", \"Chandigarh\", \"Telangana\", \"Madhya Pradesh\", \"Tripura\", \"Chhattisgarh\", \"Puducherry\", \"Meghalaya\", \"Nagaland\", \"Arunachal Pradesh\", \"Goa\", \"Mizoram\", \"Andaman and Nicobar\", \"Sikkim\", \"Daman and Diu\", \"Dadra and Nagar Haveli\"], \"y\": [0.21954314720812182, 0.12373096446700507, 0.03299492385786802, 0.10596446700507614, 0.03934010152284264, 0.02728426395939086, 0.02728426395939086, 0.02728426395939086, 0.02982233502538071, 0.04314720812182741, 0.03362944162436548, 0.01015228426395939, 0.020939086294416244, 0.02030456852791878, 0.031091370558375634, 0.0038071065989847717, 0.048223350253807105, 0.02728426395939086, 0.008248730964467006, 0.007614213197969543, 0.015862944162436547, 0.014593908629441625, 0.01015228426395939, 0.01649746192893401, 0.02284263959390863, 0.0, 0.006979695431472081, 0.005076142131979695, 0.011421319796954314, 0.005710659898477157, 0.0025380710659898475, 0.0006345177664974619, 0.0, 0.0, 0.0], \"type\": \"bar\", \"uid\": \"f2598f3f-c488-43d6-b174-884b5d8eb6f8\"}, {\"x\": [\"Jammu and Kashmir\", \"Punjab\", \"Tamil Nadu\", \"Assam\", \"Uttar Pradesh\", \"Haryana\", \"Karnataka\", \"NCT of Delhi\", \"West Bengal\", \"Odisha\", \"Kerala\", \"Uttarakhand\", \"Manipur\", \"Bihar\", \"Maharashtra\", \"Gujarat\", \"Jharkhand\", \"Andhra Pradesh\", \"Rajasthan\", \"Himachal Pradesh\", \"Chandigarh\", \"Telangana\", \"Madhya Pradesh\", \"Tripura\", \"Chhattisgarh\", \"Puducherry\", \"Meghalaya\", \"Nagaland\", \"Arunachal Pradesh\", \"Goa\", \"Mizoram\", \"Andaman and Nicobar\", \"Sikkim\", \"Daman and Diu\", \"Dadra and Nagar Haveli\"], \"y\": [0.1952147906470908, 0.14192495921696574, 0.05600870038064165, 0.09679173463839043, 0.036976617727025554, 0.02773246329526917, 0.03969548667754214, 0.034801522566612286, 0.018488308863512777, 0.03969548667754214, 0.03915171288743882, 0.009244154431756389, 0.02936378466557912, 0.018488308863512777, 0.016856987493202826, 0.011963023382272975, 0.013050570962479609, 0.029907558455682437, 0.01957585644371941, 0.009244154431756389, 0.01631321370309951, 0.023382272974442633, 0.009244154431756389, 0.03262642740619902, 0.005437737901033171, 0.002175095160413268, 0.0076128330614464385, 0.008156606851549755, 0.0032626427406199023, 0.004893964110929853, 0.0016313213703099511, 0.001087547580206634, 0.0, 0.0, 0.0], \"type\": \"bar\", \"uid\": \"1c45c15a-5a71-4ae3-b97e-4af501aba395\"}, {\"x\": [\"Jammu and Kashmir\", \"Punjab\", \"Tamil Nadu\", \"Assam\", \"Uttar Pradesh\", \"Haryana\", \"Karnataka\", \"NCT of Delhi\", \"West Bengal\", \"Odisha\", \"Kerala\", \"Uttarakhand\", \"Manipur\", \"Bihar\", \"Maharashtra\", \"Gujarat\", \"Jharkhand\", \"Andhra Pradesh\", \"Rajasthan\", \"Himachal Pradesh\", \"Chandigarh\", \"Telangana\", \"Madhya Pradesh\", \"Tripura\", \"Chhattisgarh\", \"Puducherry\", \"Meghalaya\", \"Nagaland\", \"Arunachal Pradesh\", \"Goa\", \"Mizoram\", \"Andaman and Nicobar\", \"Sikkim\", \"Daman and Diu\", \"Dadra and Nagar Haveli\"], \"y\": [0.13202933985330073, 0.1039119804400978, 0.06845965770171149, 0.1980440097799511, 0.02689486552567237, 0.017726161369193152, 0.02506112469437653, 0.02689486552567237, 0.035452322738386305, 0.04706601466992665, 0.06845965770171149, 0.0024449877750611247, 0.03667481662591687, 0.023838630806845965, 0.023838630806845965, 0.009168704156479218, 0.02444987775061125, 0.020171149144254278, 0.0024449877750611247, 0.011002444987775062, 0.006723716381418093, 0.015281173594132029, 0.009779951100244499, 0.019559902200488997, 0.006112469437652812, 0.0018337408312958435, 0.015281173594132029, 0.0018337408312958435, 0.007946210268948655, 0.0024449877750611247, 0.006723716381418093, 0.0006112469437652812, 0.0018337408312958435, 0.0, 0.0], \"type\": \"bar\", \"uid\": \"31bb0975-7a2c-4422-8ec4-f9106488d9ac\"}], {\"autosize\": true, \"sliders\": [{\"active\": 0, \"currentvalue\": {\"prefix\": \"\"}, \"name\": \"Month\", \"pad\": {\"t\": 37}, \"steps\": [{\"args\": [\"visible\", [true, false, false, false, false, false, false, false, false, false, false, false, false, false, false, false, false, false, false, false, false, false, false, false, false, false, false, false, false, false, false, false, false, false, false, false, false]], \"label\": \"Month 1\", \"method\": \"restyle\"}, {\"args\": [\"visible\", [false, true, false, false, false, false, false, false, false, false, false, false, false, false, false, false, false, false, false, false, false, false, false, false, false, false, false, false, false, false, false, false, false, false, false, false, false]], \"label\": \"Month 2\", \"method\": \"restyle\"}, {\"args\": [\"visible\", [false, false, true, false, false, false, false, false, false, false, false, false, false, false, false, false, false, false, false, false, false, false, false, false, false, false, false, false, false, false, false, false, false, false, false, false, false]], \"label\": \"Month 3\", \"method\": \"restyle\"}, {\"args\": [\"visible\", [false, false, false, true, false, false, false, false, false, false, false, false, false, false, false, false, false, false, false, false, false, false, false, false, false, false, false, false, false, false, false, false, false, false, false, false, false]], \"label\": \"Month 4\", \"method\": \"restyle\"}, {\"args\": [\"visible\", [false, false, false, false, true, false, false, false, false, false, false, false, false, false, false, false, false, false, false, false, false, false, false, false, false, false, false, false, false, false, false, false, false, false, false, false, false]], \"label\": \"Month 5\", \"method\": \"restyle\"}, {\"args\": [\"visible\", [false, false, false, false, false, true, false, false, false, false, false, false, false, false, false, false, false, false, false, false, false, false, false, false, false, false, false, false, false, false, false, false, false, false, false, false, false]], \"label\": \"Month 6\", \"method\": \"restyle\"}, {\"args\": [\"visible\", [false, false, false, false, false, false, true, false, false, false, false, false, false, false, false, false, false, false, false, false, false, false, false, false, false, false, false, false, false, false, false, false, false, false, false, false, false]], \"label\": \"Month 7\", \"method\": \"restyle\"}, {\"args\": [\"visible\", [false, false, false, false, false, false, false, true, false, false, false, false, false, false, false, false, false, false, false, false, false, false, false, false, false, false, false, false, false, false, false, false, false, false, false, false, false]], \"label\": \"Month 8\", \"method\": \"restyle\"}, {\"args\": [\"visible\", [false, false, false, false, false, false, false, false, true, false, false, false, false, false, false, false, false, false, false, false, false, false, false, false, false, false, false, false, false, false, false, false, false, false, false, false, false]], \"label\": \"Month 9\", \"method\": \"restyle\"}, {\"args\": [\"visible\", [false, false, false, false, false, false, false, false, false, true, false, false, false, false, false, false, false, false, false, false, false, false, false, false, false, false, false, false, false, false, false, false, false, false, false, false, false]], \"label\": \"Month 10\", \"method\": \"restyle\"}, {\"args\": [\"visible\", [false, false, false, false, false, false, false, false, false, false, true, false, false, false, false, false, false, false, false, false, false, false, false, false, false, false, false, false, false, false, false, false, false, false, false, false, false]], \"label\": \"Month 11\", \"method\": \"restyle\"}, {\"args\": [\"visible\", [false, false, false, false, false, false, false, false, false, false, false, true, false, false, false, false, false, false, false, false, false, false, false, false, false, false, false, false, false, false, false, false, false, false, false, false, false]], \"label\": \"Month 12\", \"method\": \"restyle\"}, {\"args\": [\"visible\", [false, false, false, false, false, false, false, false, false, false, false, false, true, false, false, false, false, false, false, false, false, false, false, false, false, false, false, false, false, false, false, false, false, false, false, false, false]], \"label\": \"Month 13\", \"method\": \"restyle\"}, {\"args\": [\"visible\", [false, false, false, false, false, false, false, false, false, false, false, false, false, true, false, false, false, false, false, false, false, false, false, false, false, false, false, false, false, false, false, false, false, false, false, false, false]], \"label\": \"Month 14\", \"method\": \"restyle\"}, {\"args\": [\"visible\", [false, false, false, false, false, false, false, false, false, false, false, false, false, false, true, false, false, false, false, false, false, false, false, false, false, false, false, false, false, false, false, false, false, false, false, false, false]], \"label\": \"Month 15\", \"method\": \"restyle\"}, {\"args\": [\"visible\", [false, false, false, false, false, false, false, false, false, false, false, false, false, false, false, true, false, false, false, false, false, false, false, false, false, false, false, false, false, false, false, false, false, false, false, false, false]], \"label\": \"Month 16\", \"method\": \"restyle\"}, {\"args\": [\"visible\", [false, false, false, false, false, false, false, false, false, false, false, false, false, false, false, false, true, false, false, false, false, false, false, false, false, false, false, false, false, false, false, false, false, false, false, false, false]], \"label\": \"Month 17\", \"method\": \"restyle\"}, {\"args\": [\"visible\", [false, false, false, false, false, false, false, false, false, false, false, false, false, false, false, false, false, true, false, false, false, false, false, false, false, false, false, false, false, false, false, false, false, false, false, false, false]], \"label\": \"Month 18\", \"method\": \"restyle\"}, {\"args\": [\"visible\", [false, false, false, false, false, false, false, false, false, false, false, false, false, false, false, false, false, false, true, false, false, false, false, false, false, false, false, false, false, false, false, false, false, false, false, false, false]], \"label\": \"Month 19\", \"method\": \"restyle\"}, {\"args\": [\"visible\", [false, false, false, false, false, false, false, false, false, false, false, false, false, false, false, false, false, false, false, true, false, false, false, false, false, false, false, false, false, false, false, false, false, false, false, false, false]], \"label\": \"Month 20\", \"method\": \"restyle\"}, {\"args\": [\"visible\", [false, false, false, false, false, false, false, false, false, false, false, false, false, false, false, false, false, false, false, false, true, false, false, false, false, false, false, false, false, false, false, false, false, false, false, false, false]], \"label\": \"Month 21\", \"method\": \"restyle\"}, {\"args\": [\"visible\", [false, false, false, false, false, false, false, false, false, false, false, false, false, false, false, false, false, false, false, false, false, true, false, false, false, false, false, false, false, false, false, false, false, false, false, false, false]], \"label\": \"Month 22\", \"method\": \"restyle\"}, {\"args\": [\"visible\", [false, false, false, false, false, false, false, false, false, false, false, false, false, false, false, false, false, false, false, false, false, false, true, false, false, false, false, false, false, false, false, false, false, false, false, false, false]], \"label\": \"Month 23\", \"method\": \"restyle\"}, {\"args\": [\"visible\", [false, false, false, false, false, false, false, false, false, false, false, false, false, false, false, false, false, false, false, false, false, false, false, true, false, false, false, false, false, false, false, false, false, false, false, false, false]], \"label\": \"Month 24\", \"method\": \"restyle\"}, {\"args\": [\"visible\", [false, false, false, false, false, false, false, false, false, false, false, false, false, false, false, false, false, false, false, false, false, false, false, false, true, false, false, false, false, false, false, false, false, false, false, false, false]], \"label\": \"Month 25\", \"method\": \"restyle\"}, {\"args\": [\"visible\", [false, false, false, false, false, false, false, false, false, false, false, false, false, false, false, false, false, false, false, false, false, false, false, false, false, true, false, false, false, false, false, false, false, false, false, false, false]], \"label\": \"Month 26\", \"method\": \"restyle\"}, {\"args\": [\"visible\", [false, false, false, false, false, false, false, false, false, false, false, false, false, false, false, false, false, false, false, false, false, false, false, false, false, false, true, false, false, false, false, false, false, false, false, false, false]], \"label\": \"Month 27\", \"method\": \"restyle\"}, {\"args\": [\"visible\", [false, false, false, false, false, false, false, false, false, false, false, false, false, false, false, false, false, false, false, false, false, false, false, false, false, false, false, true, false, false, false, false, false, false, false, false, false]], \"label\": \"Month 28\", \"method\": \"restyle\"}, {\"args\": [\"visible\", [false, false, false, false, false, false, false, false, false, false, false, false, false, false, false, false, false, false, false, false, false, false, false, false, false, false, false, false, true, false, false, false, false, false, false, false, false]], \"label\": \"Month 29\", \"method\": \"restyle\"}, {\"args\": [\"visible\", [false, false, false, false, false, false, false, false, false, false, false, false, false, false, false, false, false, false, false, false, false, false, false, false, false, false, false, false, false, true, false, false, false, false, false, false, false]], \"label\": \"Month 30\", \"method\": \"restyle\"}, {\"args\": [\"visible\", [false, false, false, false, false, false, false, false, false, false, false, false, false, false, false, false, false, false, false, false, false, false, false, false, false, false, false, false, false, false, true, false, false, false, false, false, false]], \"label\": \"Month 31\", \"method\": \"restyle\"}, {\"args\": [\"visible\", [false, false, false, false, false, false, false, false, false, false, false, false, false, false, false, false, false, false, false, false, false, false, false, false, false, false, false, false, false, false, false, true, false, false, false, false, false]], \"label\": \"Month 32\", \"method\": \"restyle\"}, {\"args\": [\"visible\", [false, false, false, false, false, false, false, false, false, false, false, false, false, false, false, false, false, false, false, false, false, false, false, false, false, false, false, false, false, false, false, false, true, false, false, false, false]], \"label\": \"Month 33\", \"method\": \"restyle\"}, {\"args\": [\"visible\", [false, false, false, false, false, false, false, false, false, false, false, false, false, false, false, false, false, false, false, false, false, false, false, false, false, false, false, false, false, false, false, false, false, true, false, false, false]], \"label\": \"Month 34\", \"method\": \"restyle\"}, {\"args\": [\"visible\", [false, false, false, false, false, false, false, false, false, false, false, false, false, false, false, false, false, false, false, false, false, false, false, false, false, false, false, false, false, false, false, false, false, false, true, false, false]], \"label\": \"Month 35\", \"method\": \"restyle\"}, {\"args\": [\"visible\", [false, false, false, false, false, false, false, false, false, false, false, false, false, false, false, false, false, false, false, false, false, false, false, false, false, false, false, false, false, false, false, false, false, false, false, true, false]], \"label\": \"Month 36\", \"method\": \"restyle\"}, {\"args\": [\"visible\", [false, false, false, false, false, false, false, false, false, false, false, false, false, false, false, false, false, false, false, false, false, false, false, false, false, false, false, false, false, false, false, false, false, false, false, false, true]], \"label\": \"Month 37\", \"method\": \"restyle\"}], \"y\": 1.5}], \"title\": {\"text\": \"Monthwise Event Frequency\"}, \"xaxis\": {\"automargin\": true, \"title\": {\"text\": \"States\"}}, \"yaxis\": {\"automargin\": true, \"title\": {\"text\": \"Normalized Frequency\"}}}, {\"showLink\": false, \"linkText\": \"Export to plot.ly\", \"plotlyServerURL\": \"https://plot.ly\"})});</script><script type=\"text/javascript\">window.addEventListener(\"resize\", function(){window._Plotly.Plots.resize(document.getElementById(\"8c5dc564-6556-4ffb-ae38-642d905ac534\"));});</script>"
      ]
     },
     "metadata": {},
     "output_type": "display_data"
    }
   ],
   "source": [
    "steps = []\n",
    "for i in range(Month_distribution.index.sort_values().max()):\n",
    "    step = dict(\n",
    "                method = 'restyle',  \n",
    "                args = ['visible', [False] * Month_distribution.index.sort_values().max()],\n",
    "                label= 'Month ' + str(i+1)\n",
    "                )\n",
    "    step['args'][1][i] = True # Toggle i'th trace to \"visible\"\n",
    "    steps.append(step)\n",
    "    sliders = [dict(\n",
    "                    active = 0,\n",
    "                    currentvalue = {\"prefix\": \"\"},\n",
    "                    pad = {\"t\": Month_distribution.index.sort_values().max()},\n",
    "                    steps = steps,\n",
    "                    name= 'Month',\n",
    "                    y= 1.5\n",
    "                    )]\n",
    "layout = dict(sliders=sliders,\n",
    "              title='Monthwise Event Frequency',\n",
    "              autosize=True,\n",
    "              yaxis=go.layout.YAxis(\n",
    "                                    title='Normalized Frequency',\n",
    "                                    automargin=True,\n",
    "                                   ),\n",
    "              xaxis=go.layout.XAxis(\n",
    "                                    title='States',\n",
    "                                    automargin=True,\n",
    "                                   ),\n",
    "             )\n",
    "fig = dict(data=Slider_data2[0], layout=layout)\n",
    "iplot(fig, filename='Slider 2')"
   ]
  }
 ],
 "metadata": {
  "kernelspec": {
   "display_name": "Python 3",
   "language": "python",
   "name": "python3"
  },
  "language_info": {
   "codemirror_mode": {
    "name": "ipython",
    "version": 3
   },
   "file_extension": ".py",
   "mimetype": "text/x-python",
   "name": "python",
   "nbconvert_exporter": "python",
   "pygments_lexer": "ipython3",
   "version": "3.6.8"
  }
 },
 "nbformat": 4,
 "nbformat_minor": 2
}
