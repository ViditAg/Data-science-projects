{
 "cells": [
  {
   "cell_type": "code",
   "execution_count": 1,
   "metadata": {},
   "outputs": [],
   "source": [
    "import numpy as np\n",
    "import pandas as pd\n",
    "from datetime import datetime, timedelta\n",
    "from scipy import stats\n",
    "import matplotlib as plt"
   ]
  },
  {
   "cell_type": "code",
   "execution_count": 2,
   "metadata": {},
   "outputs": [
    {
     "name": "stderr",
     "output_type": "stream",
     "text": [
      "C:\\Miniconda2\\envs\\tensorflow_env\\lib\\site-packages\\IPython\\core\\interactiveshell.py:3020: DtypeWarning: Columns (1,14) have mixed types. Specify dtype option on import or set low_memory=False.\n",
      "  interactivity=interactivity, compiler=compiler, result=result)\n"
     ]
    }
   ],
   "source": [
    "data=pd.read_csv('Incidents_Responded_to_by_Fire_Companies.csv')"
   ]
  },
  {
   "cell_type": "code",
   "execution_count": 3,
   "metadata": {},
   "outputs": [],
   "source": [
    "columns=pd.read_excel('OPEN_DATA_FIRE_INCIDENTS_FILE_DESCRIPTION.xls')"
   ]
  },
  {
   "cell_type": "code",
   "execution_count": 4,
   "metadata": {},
   "outputs": [
    {
     "data": {
      "text/html": [
       "<div>\n",
       "<style scoped>\n",
       "    .dataframe tbody tr th:only-of-type {\n",
       "        vertical-align: middle;\n",
       "    }\n",
       "\n",
       "    .dataframe tbody tr th {\n",
       "        vertical-align: top;\n",
       "    }\n",
       "\n",
       "    .dataframe thead th {\n",
       "        text-align: right;\n",
       "    }\n",
       "</style>\n",
       "<table border=\"1\" class=\"dataframe\">\n",
       "  <thead>\n",
       "    <tr style=\"text-align: right;\">\n",
       "      <th></th>\n",
       "      <th>IM_INCIDENT_KEY</th>\n",
       "      <th>FIRE_BOX</th>\n",
       "      <th>INCIDENT_TYPE_DESC</th>\n",
       "      <th>INCIDENT_DATE_TIME</th>\n",
       "      <th>ARRIVAL_DATE_TIME</th>\n",
       "      <th>UNITS_ONSCENE</th>\n",
       "      <th>LAST_UNIT_CLEARED_DATE_TIME</th>\n",
       "      <th>HIGHEST_LEVEL_DESC</th>\n",
       "      <th>TOTAL_INCIDENT_DURATION</th>\n",
       "      <th>ACTION_TAKEN1_DESC</th>\n",
       "      <th>...</th>\n",
       "      <th>ZIP_CODE</th>\n",
       "      <th>BOROUGH_DESC</th>\n",
       "      <th>FLOOR</th>\n",
       "      <th>CO_DETECTOR_PRESENT_DESC</th>\n",
       "      <th>FIRE_ORIGIN_BELOW_GRADE_FLAG</th>\n",
       "      <th>STORY_FIRE_ORIGIN_COUNT</th>\n",
       "      <th>FIRE_SPREAD_DESC</th>\n",
       "      <th>DETECTOR_PRESENCE_DESC</th>\n",
       "      <th>AES_PRESENCE_DESC</th>\n",
       "      <th>STANDPIPE_SYS_PRESENT_FLAG</th>\n",
       "    </tr>\n",
       "  </thead>\n",
       "  <tbody>\n",
       "    <tr>\n",
       "      <th>0</th>\n",
       "      <td>55672688</td>\n",
       "      <td>2147</td>\n",
       "      <td>300 - Rescue, EMS incident, other</td>\n",
       "      <td>01/01/2013 12:00:20 AM</td>\n",
       "      <td>01/01/2013 12:14:23 AM</td>\n",
       "      <td>1.0</td>\n",
       "      <td>01/01/2013 12:20:06 AM</td>\n",
       "      <td>1 - More than initial alarm, less than Signal 7-5</td>\n",
       "      <td>1186.0</td>\n",
       "      <td>00 - Action taken, other</td>\n",
       "      <td>...</td>\n",
       "      <td>10454</td>\n",
       "      <td>2 - Bronx</td>\n",
       "      <td>NaN</td>\n",
       "      <td>NaN</td>\n",
       "      <td>NaN</td>\n",
       "      <td>NaN</td>\n",
       "      <td>NaN</td>\n",
       "      <td>NaN</td>\n",
       "      <td>NaN</td>\n",
       "      <td>NaN</td>\n",
       "    </tr>\n",
       "    <tr>\n",
       "      <th>1</th>\n",
       "      <td>55672692</td>\n",
       "      <td>818</td>\n",
       "      <td>735A - Unwarranted alarm/defective condition o...</td>\n",
       "      <td>01/01/2013 12:00:37 AM</td>\n",
       "      <td>01/01/2013 12:09:03 AM</td>\n",
       "      <td>3.0</td>\n",
       "      <td>01/01/2013 12:30:06 AM</td>\n",
       "      <td>1 - More than initial alarm, less than Signal 7-5</td>\n",
       "      <td>1769.0</td>\n",
       "      <td>86 - Investigate</td>\n",
       "      <td>...</td>\n",
       "      <td>10036</td>\n",
       "      <td>1 - Manhattan</td>\n",
       "      <td>NaN</td>\n",
       "      <td>NaN</td>\n",
       "      <td>NaN</td>\n",
       "      <td>NaN</td>\n",
       "      <td>NaN</td>\n",
       "      <td>NaN</td>\n",
       "      <td>NaN</td>\n",
       "      <td>NaN</td>\n",
       "    </tr>\n",
       "    <tr>\n",
       "      <th>2</th>\n",
       "      <td>55672693</td>\n",
       "      <td>9656</td>\n",
       "      <td>300 - Rescue, EMS incident, other</td>\n",
       "      <td>01/01/2013 12:01:17 AM</td>\n",
       "      <td>01/01/2013 12:04:55 AM</td>\n",
       "      <td>1.0</td>\n",
       "      <td>01/01/2013 12:15:18 AM</td>\n",
       "      <td>1 - More than initial alarm, less than Signal 7-5</td>\n",
       "      <td>841.0</td>\n",
       "      <td>00 - Action taken, other</td>\n",
       "      <td>...</td>\n",
       "      <td>11418</td>\n",
       "      <td>5 - Queens</td>\n",
       "      <td>NaN</td>\n",
       "      <td>NaN</td>\n",
       "      <td>NaN</td>\n",
       "      <td>NaN</td>\n",
       "      <td>NaN</td>\n",
       "      <td>NaN</td>\n",
       "      <td>NaN</td>\n",
       "      <td>NaN</td>\n",
       "    </tr>\n",
       "    <tr>\n",
       "      <th>3</th>\n",
       "      <td>55672695</td>\n",
       "      <td>7412</td>\n",
       "      <td>412 - Gas leak (natural gas or LPG)</td>\n",
       "      <td>01/01/2013 12:02:32 AM</td>\n",
       "      <td>01/01/2013 12:07:48 AM</td>\n",
       "      <td>4.0</td>\n",
       "      <td>01/01/2013 12:40:11 AM</td>\n",
       "      <td>1 - More than initial alarm, less than Signal 7-5</td>\n",
       "      <td>2259.0</td>\n",
       "      <td>44 - Hazardous materials leak control &amp; contai...</td>\n",
       "      <td>...</td>\n",
       "      <td>11103</td>\n",
       "      <td>5 - Queens</td>\n",
       "      <td>1</td>\n",
       "      <td>NaN</td>\n",
       "      <td>NaN</td>\n",
       "      <td>NaN</td>\n",
       "      <td>NaN</td>\n",
       "      <td>NaN</td>\n",
       "      <td>NaN</td>\n",
       "      <td>NaN</td>\n",
       "    </tr>\n",
       "    <tr>\n",
       "      <th>4</th>\n",
       "      <td>55672697</td>\n",
       "      <td>4019</td>\n",
       "      <td>735A - Unwarranted alarm/defective condition o...</td>\n",
       "      <td>01/01/2013 12:01:49 AM</td>\n",
       "      <td>01/01/2013 12:06:27 AM</td>\n",
       "      <td>6.0</td>\n",
       "      <td>01/01/2013 12:24:56 AM</td>\n",
       "      <td>1 - More than initial alarm, less than Signal 7-5</td>\n",
       "      <td>1387.0</td>\n",
       "      <td>86 - Investigate</td>\n",
       "      <td>...</td>\n",
       "      <td>11385</td>\n",
       "      <td>5 - Queens</td>\n",
       "      <td>NaN</td>\n",
       "      <td>NaN</td>\n",
       "      <td>NaN</td>\n",
       "      <td>NaN</td>\n",
       "      <td>NaN</td>\n",
       "      <td>NaN</td>\n",
       "      <td>NaN</td>\n",
       "      <td>NaN</td>\n",
       "    </tr>\n",
       "  </tbody>\n",
       "</table>\n",
       "<p>5 rows × 24 columns</p>\n",
       "</div>"
      ],
      "text/plain": [
       "   IM_INCIDENT_KEY FIRE_BOX  \\\n",
       "0         55672688     2147   \n",
       "1         55672692      818   \n",
       "2         55672693     9656   \n",
       "3         55672695     7412   \n",
       "4         55672697     4019   \n",
       "\n",
       "                                  INCIDENT_TYPE_DESC      INCIDENT_DATE_TIME  \\\n",
       "0                  300 - Rescue, EMS incident, other  01/01/2013 12:00:20 AM   \n",
       "1  735A - Unwarranted alarm/defective condition o...  01/01/2013 12:00:37 AM   \n",
       "2                  300 - Rescue, EMS incident, other  01/01/2013 12:01:17 AM   \n",
       "3                412 - Gas leak (natural gas or LPG)  01/01/2013 12:02:32 AM   \n",
       "4  735A - Unwarranted alarm/defective condition o...  01/01/2013 12:01:49 AM   \n",
       "\n",
       "        ARRIVAL_DATE_TIME  UNITS_ONSCENE LAST_UNIT_CLEARED_DATE_TIME  \\\n",
       "0  01/01/2013 12:14:23 AM            1.0      01/01/2013 12:20:06 AM   \n",
       "1  01/01/2013 12:09:03 AM            3.0      01/01/2013 12:30:06 AM   \n",
       "2  01/01/2013 12:04:55 AM            1.0      01/01/2013 12:15:18 AM   \n",
       "3  01/01/2013 12:07:48 AM            4.0      01/01/2013 12:40:11 AM   \n",
       "4  01/01/2013 12:06:27 AM            6.0      01/01/2013 12:24:56 AM   \n",
       "\n",
       "                                  HIGHEST_LEVEL_DESC  TOTAL_INCIDENT_DURATION  \\\n",
       "0  1 - More than initial alarm, less than Signal 7-5                   1186.0   \n",
       "1  1 - More than initial alarm, less than Signal 7-5                   1769.0   \n",
       "2  1 - More than initial alarm, less than Signal 7-5                    841.0   \n",
       "3  1 - More than initial alarm, less than Signal 7-5                   2259.0   \n",
       "4  1 - More than initial alarm, less than Signal 7-5                   1387.0   \n",
       "\n",
       "                                  ACTION_TAKEN1_DESC  \\\n",
       "0                           00 - Action taken, other   \n",
       "1                                   86 - Investigate   \n",
       "2                           00 - Action taken, other   \n",
       "3  44 - Hazardous materials leak control & contai...   \n",
       "4                                   86 - Investigate   \n",
       "\n",
       "              ...             ZIP_CODE   BOROUGH_DESC FLOOR  \\\n",
       "0             ...                10454      2 - Bronx   NaN   \n",
       "1             ...                10036  1 - Manhattan   NaN   \n",
       "2             ...                11418     5 - Queens   NaN   \n",
       "3             ...                11103     5 - Queens     1   \n",
       "4             ...                11385     5 - Queens   NaN   \n",
       "\n",
       "  CO_DETECTOR_PRESENT_DESC FIRE_ORIGIN_BELOW_GRADE_FLAG  \\\n",
       "0                      NaN                          NaN   \n",
       "1                      NaN                          NaN   \n",
       "2                      NaN                          NaN   \n",
       "3                      NaN                          NaN   \n",
       "4                      NaN                          NaN   \n",
       "\n",
       "  STORY_FIRE_ORIGIN_COUNT FIRE_SPREAD_DESC DETECTOR_PRESENCE_DESC  \\\n",
       "0                     NaN              NaN                    NaN   \n",
       "1                     NaN              NaN                    NaN   \n",
       "2                     NaN              NaN                    NaN   \n",
       "3                     NaN              NaN                    NaN   \n",
       "4                     NaN              NaN                    NaN   \n",
       "\n",
       "   AES_PRESENCE_DESC  STANDPIPE_SYS_PRESENT_FLAG  \n",
       "0                NaN                         NaN  \n",
       "1                NaN                         NaN  \n",
       "2                NaN                         NaN  \n",
       "3                NaN                         NaN  \n",
       "4                NaN                         NaN  \n",
       "\n",
       "[5 rows x 24 columns]"
      ]
     },
     "execution_count": 4,
     "metadata": {},
     "output_type": "execute_result"
    }
   ],
   "source": [
    "data.head()"
   ]
  },
  {
   "cell_type": "code",
   "execution_count": 5,
   "metadata": {},
   "outputs": [
    {
     "name": "stdout",
     "output_type": "stream",
     "text": [
      "0.3614828304\n"
     ]
    }
   ],
   "source": [
    "#What proportion of FDNY responses in this dataset correspond to the most common type of incident?\n",
    "Fraction_most_common_incident=data['INCIDENT_TYPE_DESC'].value_counts(normalize=True).max()\n",
    "print ('%.10f'%Fraction_most_common_incident)"
   ]
  },
  {
   "cell_type": "code",
   "execution_count": 6,
   "metadata": {},
   "outputs": [
    {
     "name": "stdout",
     "output_type": "stream",
     "text": [
      "2.7597595140\n"
     ]
    }
   ],
   "source": [
    "#What is the ratio of the average number of units that arrive to a scene\n",
    "#of an incident classified as '111 - Building fire' to the number that arrive\n",
    "#for '651 - Smoke scare, odor of smoke'?\n",
    "Avg_OnSceneUnits_Code111=data['UNITS_ONSCENE'][data['INCIDENT_TYPE_DESC']=='111 - Building fire'].mean()\n",
    "Avg_OnSceneUnits_Code651=data['UNITS_ONSCENE'][data['INCIDENT_TYPE_DESC']=='651 - Smoke scare, odor of smoke'].mean()\n",
    "Ratio_111_to_651=Avg_OnSceneUnits_Code111/Avg_OnSceneUnits_Code651\n",
    "print ('%.10f'%Ratio_111_to_651)"
   ]
  },
  {
   "cell_type": "code",
   "execution_count": 7,
   "metadata": {},
   "outputs": [
    {
     "name": "stdout",
     "output_type": "stream",
     "text": [
      "1.6243819472\n"
     ]
    }
   ],
   "source": [
    "#How many times more likely is an incident in Staten Island a false call compared to in Manhattan? \n",
    "#The answer should be the ratio of Staten Island false call rate to Manhattan false call rate.\n",
    "#A false call is an incident for which 'INCIDENT_TYPE_DESC' is '710 - Malicious, mischievous false call, other'.\n",
    "Boroughs=data.BOROUGH_DESC.unique()\n",
    "Manhattan_incidents=data.INCIDENT_TYPE_DESC[data.BOROUGH_DESC=='1 - Manhattan'].value_counts(normalize=True)\n",
    "Staten_island_incidents=data.INCIDENT_TYPE_DESC[data.BOROUGH_DESC=='3 - Staten Island'].value_counts(normalize=True)\n",
    "SI_by_MH_FalseCallRate=Staten_island_incidents['710 - Malicious, mischievous false call, other']/Manhattan_incidents['710 - Malicious, mischievous false call, other']\n",
    "print ('%.10f'%SI_by_MH_FalseCallRate)"
   ]
  },
  {
   "cell_type": "code",
   "execution_count": 8,
   "metadata": {},
   "outputs": [
    {
     "name": "stdout",
     "output_type": "stream",
     "text": [
      "4.1500000000\n"
     ]
    }
   ],
   "source": [
    "#Check the distribution of the number of minutes it takes between the time a '111 - Building fire'\n",
    "#incident has been logged into the Computer Aided Dispatch system and the time at which the first \n",
    "#unit arrives on scene. What is the third quartile of that distribution. Note: the number of minutes\n",
    "#can be fractional (ie, do not round).\n",
    "Incident_time_Code111=pd.to_datetime(data['INCIDENT_DATE_TIME'][data['INCIDENT_TYPE_DESC']=='111 - Building fire'])\n",
    "Arrival_time_Code111=pd.to_datetime(data['ARRIVAL_DATE_TIME'][data['INCIDENT_TYPE_DESC']=='111 - Building fire'])\n",
    "Response_time_Code111=(Arrival_time_Code111-Incident_time_Code111)\n",
    "Q3_Response_time_Code111=Response_time_Code111.quantile(0.75).seconds/60\n",
    "print ('%.10f'%Q3_Response_time_Code111)"
   ]
  },
  {
   "cell_type": "code",
   "execution_count": 9,
   "metadata": {},
   "outputs": [],
   "source": [
    "#Compute what proportion of all incidents are cooking fires for every hour of the day by\n",
    "#normalizing the number of cooking fires in a given hour by the total number of incidents that occured in that hour. \n",
    "#Find the hour of the day that has the highest proportion of cooking fires and submit that proportion of cooking fires.\n",
    "#A cooking fire is an incident for which 'INCIDENT_TYPE_DESC' is '113 - Cooking fire, confined to container'. \n",
    "#Note: round incident times down. For example, if an incident occured at 22:55 it occured in hour 22.\n",
    "def Hour(Time):\n",
    "    return Time.hour\n",
    "data['INCIDENT_HOUR']=pd.to_datetime(data['INCIDENT_DATE_TIME']).apply(Hour)"
   ]
  },
  {
   "cell_type": "code",
   "execution_count": 10,
   "metadata": {},
   "outputs": [],
   "source": [
    "IncidentCount_Hourwise=data['INCIDENT_HOUR'].value_counts()\n",
    "IncidentCount_Hourwise_Code113=data['INCIDENT_HOUR'][data['INCIDENT_TYPE_DESC']=='113 - Cooking fire, confined to container'].value_counts()"
   ]
  },
  {
   "cell_type": "code",
   "execution_count": 11,
   "metadata": {},
   "outputs": [
    {
     "name": "stdout",
     "output_type": "stream",
     "text": [
      "0.0508468245\n"
     ]
    }
   ],
   "source": [
    "IncidentCount=pd.DataFrame(IncidentCount_Hourwise_Code113).rename(columns={'INCIDENT_HOUR':'CODE113_INCIDENTCOUNT_HOURWISE'})\n",
    "IncidentCount=IncidentCount.join(IncidentCount_Hourwise).rename(columns={'INCIDENT_HOUR':'INCIDENTCOUNT_HOURWISE'})\n",
    "IncidentCount['Normalized_Code113']=IncidentCount['CODE113_INCIDENTCOUNT_HOURWISE']/IncidentCount['INCIDENTCOUNT_HOURWISE']\n",
    "MaxProp_Code113=IncidentCount['Normalized_Code113'].max()\n",
    "print ('%.10f'%MaxProp_Code113)"
   ]
  },
  {
   "cell_type": "code",
   "execution_count": 12,
   "metadata": {},
   "outputs": [
    {
     "name": "stdout",
     "output_type": "stream",
     "text": [
      "0.5928733920\n"
     ]
    }
   ],
   "source": [
    "#What is the coefficient of determination (R squared) between the number of residents at each zip code\n",
    "#and the number of inicidents whose type is classified as '111 - Building fire' at each of those zip codes.\n",
    "#Note: The 2010 US Census population by zip code dataset should be downloaded from here. \n",
    "#You will need to use both the FDNY responses and the US Census dataset. \n",
    "#Ignore zip codes that do not appear in the census table.\n",
    "ZipCode_data=pd.read_csv('2010+Census+Population+By+Zipcode+(ZCTA).csv',index_col='Zip Code ZCTA')\n",
    "Code111_zipcode=data['ZIP_CODE'][data['INCIDENT_TYPE_DESC']=='111 - Building fire'].value_counts()\n",
    "ZipCode_data_final=ZipCode_data.join(Code111_zipcode,how='inner').rename(columns={'ZIP_CODE':'CODE111_Count'})\n",
    "R_sq=stats.linregress(ZipCode_data_final['2010 Census Population'],ZipCode_data_final['CODE111_Count']).rvalue**2\n",
    "print ('%.10f'%R_sq)"
   ]
  },
  {
   "cell_type": "code",
   "execution_count": 13,
   "metadata": {},
   "outputs": [],
   "source": [
    "#For this question, only consider incidents that have information about whether a CO detector was present or not.\n",
    "#We are interested in how many times more likely it is that an incident is long when no CO detector is present compared \n",
    "#to when a CO detector is present. For events with CO detector and for those without one, compute the proportion of \n",
    "#incidents that lasted 20-30, 30-40, 40-50, 50-60, and 60-70 minutes (both interval boundary values included) by dividing\n",
    "#the number of incidents in each time interval with the total number of incidents. For each bin, compute the ratio of the \n",
    "#'CO detector absent' frequency to the 'CO detector present' frequency. Perform a linear regression of this ratio to the\n",
    "#mid-point of the bins. From this, what is the predicted ratio for events lasting 39 minutes?\n",
    "CO_detector_duration=data[['TOTAL_INCIDENT_DURATION','CO_DETECTOR_PRESENT_DESC']][data['CO_DETECTOR_PRESENT_DESC'].notna()]\n",
    "CO_detector_duration['Incident_duration_minutes']=CO_detector_duration['TOTAL_INCIDENT_DURATION']/60\n",
    "def duration_bin(time_duration):\n",
    "    if time_duration<20.0:\n",
    "        return 0\n",
    "    elif time_duration>=20.0 and time_duration<=30.0:\n",
    "        return 1\n",
    "    elif time_duration>=30.0 and time_duration<=40.0:\n",
    "        return 2\n",
    "    elif time_duration>=40.0 and time_duration<=50.0:\n",
    "        return 3\n",
    "    elif time_duration>=50.0 and time_duration<=60.0:\n",
    "        return 4\n",
    "    elif time_duration>=60.0 and time_duration<=70.0:\n",
    "        return 5\n",
    "    else:\n",
    "        return 6\n",
    "CO_detector_duration['duration_bin']=CO_detector_duration['Incident_duration_minutes'].apply(duration_bin)\n",
    "CO_detector_present=CO_detector_duration[CO_detector_duration['CO_DETECTOR_PRESENT_DESC']=='Yes']\n",
    "CO_detector_absent=CO_detector_duration[CO_detector_duration['CO_DETECTOR_PRESENT_DESC']=='No']"
   ]
  },
  {
   "cell_type": "code",
   "execution_count": 14,
   "metadata": {},
   "outputs": [
    {
     "name": "stdout",
     "output_type": "stream",
     "text": [
      "0.8532784850\n"
     ]
    }
   ],
   "source": [
    "CO_detector_bins=pd.DataFrame(CO_detector_present['duration_bin'].value_counts(normalize=True)).rename(columns={'duration_bin':'CO_detector_present_ratio'})\n",
    "CO_detector_bins=CO_detector_bins.join(CO_detector_absent['duration_bin'].value_counts(normalize=True)).rename(columns={'duration_bin':'CO_detector_absent_ratio'})\n",
    "CO_detector_bins['ratio']=CO_detector_bins['CO_detector_present_ratio']/CO_detector_bins['CO_detector_absent_ratio']\n",
    "CO_detector_bins=CO_detector_bins.drop(index=[0,6])\n",
    "CO_detector_bins['DurationBin_midpoint']=[25,35,45,55,65]\n",
    "linearModel=stats.linregress(CO_detector_bins['DurationBin_midpoint'],CO_detector_bins['ratio'])\n",
    "PredictedRatio=linearModel.slope*39+linearModel.intercept\n",
    "print ('%.10f'%PredictedRatio)"
   ]
  },
  {
   "cell_type": "code",
   "execution_count": 15,
   "metadata": {},
   "outputs": [
    {
     "name": "stdout",
     "output_type": "stream",
     "text": [
      "2972.5302577032\n"
     ]
    }
   ],
   "source": [
    "#Calculate the chi-square test statistic for testing whether an incident is more likely to last longer\n",
    "#than 60 minutes when CO detector is not present. Again only consider incidents that have information \n",
    "#about whether a CO detector was present or not.\n",
    "CO_detector_duration_incidents=data[['INCIDENT_TYPE_DESC','TOTAL_INCIDENT_DURATION','CO_DETECTOR_PRESENT_DESC']][data['CO_DETECTOR_PRESENT_DESC'].notna()]\n",
    "CO_detector_duration_incidents['Incident_duration_minutes']=CO_detector_duration['TOTAL_INCIDENT_DURATION']/60\n",
    "CO_detector_duration_incidents['Incident_Hourplus']=(CO_detector_duration['TOTAL_INCIDENT_DURATION']/60)>60\n",
    "f_duration_incidents=pd.crosstab(CO_detector_duration_incidents['INCIDENT_TYPE_DESC'],CO_detector_duration_incidents['Incident_Hourplus'])\n",
    "Chi_sq_test=stats.chi2_contingency(f_duration_incidents)\n",
    "Chi_sq_test_statistic=Chi_sq_test[0]\n",
    "print ('%.10f'%Chi_sq_test_statistic)"
   ]
  }
 ],
 "metadata": {
  "kernelspec": {
   "display_name": "Python 3",
   "language": "python",
   "name": "python3"
  },
  "language_info": {
   "codemirror_mode": {
    "name": "ipython",
    "version": 3
   },
   "file_extension": ".py",
   "mimetype": "text/x-python",
   "name": "python",
   "nbconvert_exporter": "python",
   "pygments_lexer": "ipython3",
   "version": "3.6.8"
  }
 },
 "nbformat": 4,
 "nbformat_minor": 2
}
